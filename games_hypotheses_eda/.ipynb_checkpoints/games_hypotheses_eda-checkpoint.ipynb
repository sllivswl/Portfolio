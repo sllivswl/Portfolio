{
 "cells": [
  {
   "cell_type": "markdown",
   "metadata": {},
   "source": [
    "## Анализ исторических данных о продажах компьютерных игр для интернет-магазина "
   ]
  },
  {
   "cell_type": "markdown",
   "metadata": {},
   "source": [
    "Из открытых источников доступны исторические данные до 2016 г. о продажах игр, оценки пользователей и экспертов, жанры и платформы (например, Xbox или PlayStation).\n",
    "\n",
    "**Задача**: выявить определяющие успешность игры закономерности. Это позволит сделать ставку на потенциально популярный продукт и спланировать рекламные кампании."
   ]
  },
  {
   "cell_type": "markdown",
   "metadata": {},
   "source": [
    "### План работы над проектом\n",
    "1. [Импорт данных](#step1); \n",
    "2. [Предобработка и подготовка данных](#step2);\n",
    "3. [Исследовательский анализ данных](#step3);\n",
    "- [Портрет пользователя каждого региона](#step4);\n",
    "4. [Проверка гипотез](#step5);\n",
    "5. [Общий вывод](#step6)."
   ]
  },
  {
   "cell_type": "markdown",
   "metadata": {},
   "source": [
    "<div id='step1'/>\n",
    "\n",
    "### 1. Импорт данных "
   ]
  },
  {
   "cell_type": "code",
   "execution_count": 1,
   "metadata": {},
   "outputs": [],
   "source": [
    "from scipy import stats as st\n",
    "import numpy as np\n",
    "import pandas as pd\n",
    "import matplotlib.pyplot as plt\n",
    "import seaborn as sns"
   ]
  },
  {
   "cell_type": "code",
   "execution_count": 2,
   "metadata": {},
   "outputs": [],
   "source": [
    "games_data = pd.read_csv('games.csv')"
   ]
  },
  {
   "cell_type": "code",
   "execution_count": 3,
   "metadata": {},
   "outputs": [
    {
     "name": "stdout",
     "output_type": "stream",
     "text": [
      "<class 'pandas.core.frame.DataFrame'>\n",
      "RangeIndex: 16715 entries, 0 to 16714\n",
      "Data columns (total 11 columns):\n",
      " #   Column           Non-Null Count  Dtype  \n",
      "---  ------           --------------  -----  \n",
      " 0   Name             16713 non-null  object \n",
      " 1   Platform         16715 non-null  object \n",
      " 2   Year_of_Release  16446 non-null  float64\n",
      " 3   Genre            16713 non-null  object \n",
      " 4   NA_sales         16715 non-null  float64\n",
      " 5   EU_sales         16715 non-null  float64\n",
      " 6   JP_sales         16715 non-null  float64\n",
      " 7   Other_sales      16715 non-null  float64\n",
      " 8   Critic_Score     8137 non-null   float64\n",
      " 9   User_Score       10014 non-null  object \n",
      " 10  Rating           9949 non-null   object \n",
      "dtypes: float64(6), object(5)\n",
      "memory usage: 1.4+ MB\n",
      "--------------------------------------\n",
      "Дубликаты:\n",
      "0 дубликатов\n",
      "--------------------------------------\n",
      "Пропуски:\n",
      "Name               0.000120\n",
      "Platform           0.000000\n",
      "Year_of_Release    0.016093\n",
      "Genre              0.000120\n",
      "NA_sales           0.000000\n",
      "EU_sales           0.000000\n",
      "JP_sales           0.000000\n",
      "Other_sales        0.000000\n",
      "Critic_Score       0.513192\n",
      "User_Score         0.400897\n",
      "Rating             0.404786\n",
      "dtype: float64\n",
      "--------------------------------------\n",
      "Начало таблицы\n",
      "                       Name Platform  Year_of_Release         Genre  NA_sales  \\\n",
      "0                Wii Sports      Wii           2006.0        Sports     41.36   \n",
      "1         Super Mario Bros.      NES           1985.0      Platform     29.08   \n",
      "2            Mario Kart Wii      Wii           2008.0        Racing     15.68   \n",
      "3         Wii Sports Resort      Wii           2009.0        Sports     15.61   \n",
      "4  Pokemon Red/Pokemon Blue       GB           1996.0  Role-Playing     11.27   \n",
      "\n",
      "   EU_sales  JP_sales  Other_sales  Critic_Score User_Score Rating  \n",
      "0     28.96      3.77         8.45          76.0          8      E  \n",
      "1      3.58      6.81         0.77           NaN        NaN    NaN  \n",
      "2     12.76      3.79         3.29          82.0        8.3      E  \n",
      "3     10.93      3.28         2.95          80.0          8      E  \n",
      "4      8.89     10.22         1.00           NaN        NaN    NaN  \n",
      "--------------------------------------\n",
      "Конец таблицы\n",
      "                                Name Platform  Year_of_Release       Genre  \\\n",
      "16710  Samurai Warriors: Sanada Maru      PS3           2016.0      Action   \n",
      "16711               LMA Manager 2007     X360           2006.0      Sports   \n",
      "16712        Haitaka no Psychedelica      PSV           2016.0   Adventure   \n",
      "16713               Spirits & Spells      GBA           2003.0    Platform   \n",
      "16714            Winning Post 8 2016      PSV           2016.0  Simulation   \n",
      "\n",
      "       NA_sales  EU_sales  JP_sales  Other_sales  Critic_Score User_Score  \\\n",
      "16710      0.00      0.00      0.01          0.0           NaN        NaN   \n",
      "16711      0.00      0.01      0.00          0.0           NaN        NaN   \n",
      "16712      0.00      0.00      0.01          0.0           NaN        NaN   \n",
      "16713      0.01      0.00      0.00          0.0           NaN        NaN   \n",
      "16714      0.00      0.00      0.01          0.0           NaN        NaN   \n",
      "\n",
      "      Rating  \n",
      "16710    NaN  \n",
      "16711    NaN  \n",
      "16712    NaN  \n",
      "16713    NaN  \n",
      "16714    NaN  \n"
     ]
    }
   ],
   "source": [
    "def standart_opening(data):\n",
    "    data.info()\n",
    "    print('--------------------------------------')\n",
    "    print('Дубликаты:')\n",
    "    print (data.duplicated().sum(), 'дубликатов')\n",
    "    print('--------------------------------------')\n",
    "    print('Пропуски:')\n",
    "    print (data.isna().mean())\n",
    "    print('--------------------------------------')\n",
    "    print('Начало таблицы')\n",
    "    print (data.head())\n",
    "    print('--------------------------------------')\n",
    "    print('Конец таблицы')\n",
    "    print (data.tail())\n",
    "\n",
    "standart_opening(games_data)"
   ]
  },
  {
   "cell_type": "markdown",
   "metadata": {},
   "source": [
    "В данных много пропусков, надо будет скорректировать типы данных."
   ]
  },
  {
   "cell_type": "markdown",
   "metadata": {},
   "source": [
    "<div id='step2'/>\n",
    "\n",
    "\n",
    "### 2. Предобработка и подготовка данных к работе"
   ]
  },
  {
   "cell_type": "markdown",
   "metadata": {},
   "source": [
    "Приведем названия столбцов к нижнему регистру:"
   ]
  },
  {
   "cell_type": "code",
   "execution_count": 4,
   "metadata": {},
   "outputs": [
    {
     "data": {
      "text/html": [
       "<div>\n",
       "<style scoped>\n",
       "    .dataframe tbody tr th:only-of-type {\n",
       "        vertical-align: middle;\n",
       "    }\n",
       "\n",
       "    .dataframe tbody tr th {\n",
       "        vertical-align: top;\n",
       "    }\n",
       "\n",
       "    .dataframe thead th {\n",
       "        text-align: right;\n",
       "    }\n",
       "</style>\n",
       "<table border=\"1\" class=\"dataframe\">\n",
       "  <thead>\n",
       "    <tr style=\"text-align: right;\">\n",
       "      <th></th>\n",
       "      <th>name</th>\n",
       "      <th>platform</th>\n",
       "      <th>year_of_release</th>\n",
       "      <th>genre</th>\n",
       "      <th>na_sales</th>\n",
       "      <th>eu_sales</th>\n",
       "      <th>jp_sales</th>\n",
       "      <th>other_sales</th>\n",
       "      <th>critic_score</th>\n",
       "      <th>user_score</th>\n",
       "      <th>rating</th>\n",
       "    </tr>\n",
       "  </thead>\n",
       "  <tbody>\n",
       "    <tr>\n",
       "      <th>1967</th>\n",
       "      <td>SOCOM: U.S. Navy SEALs Fireteam Bravo 2</td>\n",
       "      <td>PSP</td>\n",
       "      <td>2006.0</td>\n",
       "      <td>Shooter</td>\n",
       "      <td>0.81</td>\n",
       "      <td>0.11</td>\n",
       "      <td>0.0</td>\n",
       "      <td>0.13</td>\n",
       "      <td>81.0</td>\n",
       "      <td>9</td>\n",
       "      <td>T</td>\n",
       "    </tr>\n",
       "  </tbody>\n",
       "</table>\n",
       "</div>"
      ],
      "text/plain": [
       "                                         name platform  year_of_release  \\\n",
       "1967  SOCOM: U.S. Navy SEALs Fireteam Bravo 2      PSP           2006.0   \n",
       "\n",
       "        genre  na_sales  eu_sales  jp_sales  other_sales  critic_score  \\\n",
       "1967  Shooter      0.81      0.11       0.0         0.13          81.0   \n",
       "\n",
       "     user_score rating  \n",
       "1967          9      T  "
      ]
     },
     "execution_count": 4,
     "metadata": {},
     "output_type": "execute_result"
    }
   ],
   "source": [
    "games_data.columns = games_data.columns.str.lower()\n",
    "games_data.sample()"
   ]
  },
  {
   "cell_type": "markdown",
   "metadata": {},
   "source": [
    "Обработаем пропуски:"
   ]
  },
  {
   "cell_type": "code",
   "execution_count": 5,
   "metadata": {},
   "outputs": [
    {
     "data": {
      "text/plain": [
       "name                  2\n",
       "platform              0\n",
       "year_of_release     269\n",
       "genre                 2\n",
       "na_sales              0\n",
       "eu_sales              0\n",
       "jp_sales              0\n",
       "other_sales           0\n",
       "critic_score       8578\n",
       "user_score         6701\n",
       "rating             6766\n",
       "dtype: int64"
      ]
     },
     "execution_count": 5,
     "metadata": {},
     "output_type": "execute_result"
    }
   ],
   "source": [
    "games_data.isna().sum()"
   ]
  },
  {
   "cell_type": "code",
   "execution_count": 6,
   "metadata": {},
   "outputs": [
    {
     "data": {
      "text/html": [
       "<div>\n",
       "<style scoped>\n",
       "    .dataframe tbody tr th:only-of-type {\n",
       "        vertical-align: middle;\n",
       "    }\n",
       "\n",
       "    .dataframe tbody tr th {\n",
       "        vertical-align: top;\n",
       "    }\n",
       "\n",
       "    .dataframe thead th {\n",
       "        text-align: right;\n",
       "    }\n",
       "</style>\n",
       "<table border=\"1\" class=\"dataframe\">\n",
       "  <thead>\n",
       "    <tr style=\"text-align: right;\">\n",
       "      <th></th>\n",
       "      <th>name</th>\n",
       "      <th>platform</th>\n",
       "      <th>year_of_release</th>\n",
       "      <th>genre</th>\n",
       "      <th>na_sales</th>\n",
       "      <th>eu_sales</th>\n",
       "      <th>jp_sales</th>\n",
       "      <th>other_sales</th>\n",
       "      <th>critic_score</th>\n",
       "      <th>user_score</th>\n",
       "      <th>rating</th>\n",
       "    </tr>\n",
       "  </thead>\n",
       "  <tbody>\n",
       "    <tr>\n",
       "      <th>659</th>\n",
       "      <td>NaN</td>\n",
       "      <td>GEN</td>\n",
       "      <td>1993.0</td>\n",
       "      <td>NaN</td>\n",
       "      <td>1.78</td>\n",
       "      <td>0.53</td>\n",
       "      <td>0.00</td>\n",
       "      <td>0.08</td>\n",
       "      <td>NaN</td>\n",
       "      <td>NaN</td>\n",
       "      <td>NaN</td>\n",
       "    </tr>\n",
       "    <tr>\n",
       "      <th>14244</th>\n",
       "      <td>NaN</td>\n",
       "      <td>GEN</td>\n",
       "      <td>1993.0</td>\n",
       "      <td>NaN</td>\n",
       "      <td>0.00</td>\n",
       "      <td>0.00</td>\n",
       "      <td>0.03</td>\n",
       "      <td>0.00</td>\n",
       "      <td>NaN</td>\n",
       "      <td>NaN</td>\n",
       "      <td>NaN</td>\n",
       "    </tr>\n",
       "  </tbody>\n",
       "</table>\n",
       "</div>"
      ],
      "text/plain": [
       "      name platform  year_of_release genre  na_sales  eu_sales  jp_sales  \\\n",
       "659    NaN      GEN           1993.0   NaN      1.78      0.53      0.00   \n",
       "14244  NaN      GEN           1993.0   NaN      0.00      0.00      0.03   \n",
       "\n",
       "       other_sales  critic_score user_score rating  \n",
       "659           0.08           NaN        NaN    NaN  \n",
       "14244         0.00           NaN        NaN    NaN  "
      ]
     },
     "execution_count": 6,
     "metadata": {},
     "output_type": "execute_result"
    }
   ],
   "source": [
    "games_data.loc[games_data['name'].isna()]"
   ]
  },
  {
   "cell_type": "markdown",
   "metadata": {},
   "source": [
    "В двух строках отсуствует название игры и жанр. Я решила эти строки удалить, т.к. жанр - один из ключевых критериев для анализа данных. Кроме того, строк всего две и эти игры очень старые."
   ]
  },
  {
   "cell_type": "markdown",
   "metadata": {},
   "source": [
    "Обработаем пропуски в дате выхода:"
   ]
  },
  {
   "cell_type": "code",
   "execution_count": 7,
   "metadata": {},
   "outputs": [
    {
     "data": {
      "text/plain": [
       "146"
      ]
     },
     "execution_count": 7,
     "metadata": {},
     "output_type": "execute_result"
    }
   ],
   "source": [
    "miss_year_data = games_data.query('year_of_release == \"NaN\"')\n",
    "\n",
    "def fill_year(game_name):\n",
    "    year = games_data[(games_data['name'] == game_name) & (games_data['year_of_release'].notna())\n",
    "                     ]['year_of_release'].median()\n",
    "    games_data.loc[(games_data['name'] == game_name) & (games_data['year_of_release'].isna()\n",
    "                                                       ), 'year_of_release'] = year\n",
    "    \n",
    "for game_name in miss_year_data['name'].unique(): \n",
    "    fill_year(game_name)\n",
    "        \n",
    "games_data['year_of_release'].isna().sum()         "
   ]
  },
  {
   "cell_type": "code",
   "execution_count": 8,
   "metadata": {},
   "outputs": [
    {
     "data": {
      "text/plain": [
       "0"
      ]
     },
     "execution_count": 8,
     "metadata": {},
     "output_type": "execute_result"
    }
   ],
   "source": [
    "games_data.dropna(subset = ['year_of_release'], inplace = True)\n",
    "games_data['year_of_release'].isna().sum()"
   ]
  },
  {
   "cell_type": "markdown",
   "metadata": {},
   "source": [
    "Игры выходят на разных платформах. Я предположила, что для некоторых игр могла быть указана дата релиза на другой платформе и можно восстановить эти данные, посчитав медиану (на случай, если дата выхда для разных платформ может отличаться). Таким образом удалось обработать почти половину пропусков. Осталось 146 позиций - это менее 1% данных, поэтому я приняла решение на тратить на их обработку время и удалить. "
   ]
  },
  {
   "cell_type": "markdown",
   "metadata": {},
   "source": [
    "Пропуски в оценках и рейтинге бессмысленно заполнять средними значениями - оставляем. Возможно,они зависят от даты выхода игры - в более старых не устанавливали рейтинг и отсутствовали оценки."
   ]
  },
  {
   "cell_type": "markdown",
   "metadata": {},
   "source": [
    "- Обратите внимание на аббревиатуру 'tbd' в столбцах с рейтингом. Отдельно разберите это значение и опишите, как его обработать."
   ]
  },
  {
   "cell_type": "code",
   "execution_count": 9,
   "metadata": {},
   "outputs": [
    {
     "data": {
      "text/plain": [
       "array(['8', nan, '8.3', '8.5', '6.6', '8.4', '8.6', '7.7', '6.3', '7.4',\n",
       "       '8.2', '9', '7.9', '8.1', '8.7', '7.1', '3.4', '5.3', '4.8', '3.2',\n",
       "       '8.9', '6.4', '7.8', '7.5', '2.6', '7.2', '9.2', '7', '7.3', '4.3',\n",
       "       '7.6', '5.7', '5', '9.1', '6.5', 'tbd', '8.8', '6.9', '9.4', '6.8',\n",
       "       '6.1', '6.7', '5.4', '4', '4.9', '4.5', '9.3', '6.2', '4.2', '6',\n",
       "       '3.7', '4.1', '5.8', '5.6', '5.5', '4.4', '4.6', '5.9', '3.9',\n",
       "       '3.1', '2.9', '5.2', '3.3', '4.7', '5.1', '3.5', '2.5', '1.9', '3',\n",
       "       '2.7', '2.2', '2', '9.5', '2.1', '3.6', '2.8', '1.8', '3.8', '0',\n",
       "       '1.6', '9.6', '2.4', '1.7', '1.1', '0.3', '1.5', '0.7', '1.2',\n",
       "       '2.3', '0.5', '1.3', '0.2', '0.6', '1.4', '0.9', '1', '9.7'],\n",
       "      dtype=object)"
      ]
     },
     "execution_count": 9,
     "metadata": {},
     "output_type": "execute_result"
    }
   ],
   "source": [
    "games_data['user_score'].unique()"
   ]
  },
  {
   "cell_type": "markdown",
   "metadata": {},
   "source": [
    "В пользовательском рейтинге встречается аббревиатура `'tbd'`. Это устойчивое выражение,расшифровывающееся как \"To be determined\", что означает - \"Уточняется\". Фактически это такое же неизвестное значение, как и \"NaN\". Поэтому я решила, что перевести `'tbd'` в `'NaN'` будет корректно."
   ]
  },
  {
   "cell_type": "code",
   "execution_count": 10,
   "metadata": {},
   "outputs": [
    {
     "data": {
      "text/plain": [
       "2394"
      ]
     },
     "execution_count": 10,
     "metadata": {},
     "output_type": "execute_result"
    }
   ],
   "source": [
    "games_data[games_data['user_score'] == 'tbd']['user_score'].count()"
   ]
  },
  {
   "cell_type": "code",
   "execution_count": 11,
   "metadata": {},
   "outputs": [
    {
     "data": {
      "text/plain": [
       "9029"
      ]
     },
     "execution_count": 11,
     "metadata": {},
     "output_type": "execute_result"
    }
   ],
   "source": [
    "games_data.loc[games_data['user_score']  == 'tbd', 'user_score'] = np.nan\n",
    "games_data['user_score'].isna().sum()"
   ]
  },
  {
   "cell_type": "markdown",
   "metadata": {},
   "source": [
    "Посчитаем суммарные продажи во всех регионах и запишием их в отдельный столбец:"
   ]
  },
  {
   "cell_type": "code",
   "execution_count": 12,
   "metadata": {},
   "outputs": [
    {
     "data": {
      "text/html": [
       "<div>\n",
       "<style scoped>\n",
       "    .dataframe tbody tr th:only-of-type {\n",
       "        vertical-align: middle;\n",
       "    }\n",
       "\n",
       "    .dataframe tbody tr th {\n",
       "        vertical-align: top;\n",
       "    }\n",
       "\n",
       "    .dataframe thead th {\n",
       "        text-align: right;\n",
       "    }\n",
       "</style>\n",
       "<table border=\"1\" class=\"dataframe\">\n",
       "  <thead>\n",
       "    <tr style=\"text-align: right;\">\n",
       "      <th></th>\n",
       "      <th>name</th>\n",
       "      <th>platform</th>\n",
       "      <th>year_of_release</th>\n",
       "      <th>genre</th>\n",
       "      <th>na_sales</th>\n",
       "      <th>eu_sales</th>\n",
       "      <th>jp_sales</th>\n",
       "      <th>other_sales</th>\n",
       "      <th>critic_score</th>\n",
       "      <th>user_score</th>\n",
       "      <th>rating</th>\n",
       "    </tr>\n",
       "  </thead>\n",
       "  <tbody>\n",
       "    <tr>\n",
       "      <th>9174</th>\n",
       "      <td>Earth Defense Force 2: Invaders from Planet Space</td>\n",
       "      <td>PSP</td>\n",
       "      <td>2011.0</td>\n",
       "      <td>Action</td>\n",
       "      <td>0.0</td>\n",
       "      <td>0.0</td>\n",
       "      <td>0.14</td>\n",
       "      <td>0.0</td>\n",
       "      <td>NaN</td>\n",
       "      <td>NaN</td>\n",
       "      <td>NaN</td>\n",
       "    </tr>\n",
       "  </tbody>\n",
       "</table>\n",
       "</div>"
      ],
      "text/plain": [
       "                                                   name platform  \\\n",
       "9174  Earth Defense Force 2: Invaders from Planet Space      PSP   \n",
       "\n",
       "      year_of_release   genre  na_sales  eu_sales  jp_sales  other_sales  \\\n",
       "9174           2011.0  Action       0.0       0.0      0.14          0.0   \n",
       "\n",
       "      critic_score user_score rating  \n",
       "9174           NaN        NaN    NaN  "
      ]
     },
     "execution_count": 12,
     "metadata": {},
     "output_type": "execute_result"
    }
   ],
   "source": [
    "games_data.sample()"
   ]
  },
  {
   "cell_type": "code",
   "execution_count": 13,
   "metadata": {},
   "outputs": [
    {
     "data": {
      "text/html": [
       "<div>\n",
       "<style scoped>\n",
       "    .dataframe tbody tr th:only-of-type {\n",
       "        vertical-align: middle;\n",
       "    }\n",
       "\n",
       "    .dataframe tbody tr th {\n",
       "        vertical-align: top;\n",
       "    }\n",
       "\n",
       "    .dataframe thead th {\n",
       "        text-align: right;\n",
       "    }\n",
       "</style>\n",
       "<table border=\"1\" class=\"dataframe\">\n",
       "  <thead>\n",
       "    <tr style=\"text-align: right;\">\n",
       "      <th></th>\n",
       "      <th>name</th>\n",
       "      <th>platform</th>\n",
       "      <th>year_of_release</th>\n",
       "      <th>genre</th>\n",
       "      <th>na_sales</th>\n",
       "      <th>eu_sales</th>\n",
       "      <th>jp_sales</th>\n",
       "      <th>other_sales</th>\n",
       "      <th>critic_score</th>\n",
       "      <th>user_score</th>\n",
       "      <th>rating</th>\n",
       "      <th>total_sales</th>\n",
       "    </tr>\n",
       "  </thead>\n",
       "  <tbody>\n",
       "    <tr>\n",
       "      <th>7964</th>\n",
       "      <td>Tiger Woods PGA Tour 07</td>\n",
       "      <td>XB</td>\n",
       "      <td>2006.0</td>\n",
       "      <td>Sports</td>\n",
       "      <td>0.13</td>\n",
       "      <td>0.05</td>\n",
       "      <td>0.0</td>\n",
       "      <td>0.01</td>\n",
       "      <td>81.0</td>\n",
       "      <td>6.8</td>\n",
       "      <td>E</td>\n",
       "      <td>0.18</td>\n",
       "    </tr>\n",
       "  </tbody>\n",
       "</table>\n",
       "</div>"
      ],
      "text/plain": [
       "                         name platform  year_of_release   genre  na_sales  \\\n",
       "7964  Tiger Woods PGA Tour 07       XB           2006.0  Sports      0.13   \n",
       "\n",
       "      eu_sales  jp_sales  other_sales  critic_score user_score rating  \\\n",
       "7964      0.05       0.0         0.01          81.0        6.8      E   \n",
       "\n",
       "      total_sales  \n",
       "7964         0.18  "
      ]
     },
     "execution_count": 13,
     "metadata": {},
     "output_type": "execute_result"
    }
   ],
   "source": [
    "games_data['total_sales'] = games_data['na_sales'] + games_data['eu_sales'] + games_data['jp_sales']\n",
    "games_data.sample()"
   ]
  },
  {
   "cell_type": "markdown",
   "metadata": {},
   "source": [
    "Преобразуем данные в нужные типы:"
   ]
  },
  {
   "cell_type": "code",
   "execution_count": 14,
   "metadata": {},
   "outputs": [
    {
     "data": {
      "text/plain": [
       "name                object\n",
       "platform            object\n",
       "year_of_release    float64\n",
       "genre               object\n",
       "na_sales           float64\n",
       "eu_sales           float64\n",
       "jp_sales           float64\n",
       "other_sales        float64\n",
       "critic_score       float64\n",
       "user_score          object\n",
       "rating              object\n",
       "total_sales        float64\n",
       "dtype: object"
      ]
     },
     "execution_count": 14,
     "metadata": {},
     "output_type": "execute_result"
    }
   ],
   "source": [
    "games_data.dtypes"
   ]
  },
  {
   "cell_type": "code",
   "execution_count": 15,
   "metadata": {},
   "outputs": [
    {
     "data": {
      "text/plain": [
       "array([2006. , 1985. , 2008. , 2009. , 1996. , 1989. , 1984. , 2005. ,\n",
       "       1999. , 2007. , 2010. , 2013. , 2004. , 1990. , 1988. , 2002. ,\n",
       "       2001. , 2011. , 1998. , 2015. , 2012. , 2014. , 1992. , 1997. ,\n",
       "       1993. , 1994. , 1982. , 2016. , 2003. , 1986. , 2000. , 1995. ,\n",
       "       1991. , 1981. , 1987. , 1980. , 1983. , 2002.5, 2013.5, 2005.5,\n",
       "       2001.5])"
      ]
     },
     "execution_count": 15,
     "metadata": {},
     "output_type": "execute_result"
    }
   ],
   "source": [
    "games_data['year_of_release'].unique()"
   ]
  },
  {
   "cell_type": "markdown",
   "metadata": {},
   "source": [
    "Данные в столбце `'year_of_release'` должны быть целыми числами. При обработке пропусков получились половинчатые значения, заменим их."
   ]
  },
  {
   "cell_type": "code",
   "execution_count": 16,
   "metadata": {
    "scrolled": true
   },
   "outputs": [
    {
     "data": {
      "text/plain": [
       "name                object\n",
       "platform            object\n",
       "year_of_release      int32\n",
       "genre               object\n",
       "na_sales           float64\n",
       "eu_sales           float64\n",
       "jp_sales           float64\n",
       "other_sales        float64\n",
       "critic_score       float64\n",
       "user_score         float64\n",
       "rating              object\n",
       "total_sales        float64\n",
       "dtype: object"
      ]
     },
     "execution_count": 16,
     "metadata": {},
     "output_type": "execute_result"
    }
   ],
   "source": [
    "games_data['year_of_release'] = games_data['year_of_release'].replace({2002.5: 2002, 2013.5: 2013, 2005.5: 2005 })\n",
    "games_data['year_of_release'] = games_data['year_of_release'].astype('int')\n",
    "games_data['user_score'] = games_data['user_score'].astype('float')\n",
    "games_data.dtypes"
   ]
  },
  {
   "cell_type": "markdown",
   "metadata": {},
   "source": [
    "Я заменила дату выхода игры на целочисленное значение и привела пользовательский рейтинг к численному типу `float64`. \n",
    "\n",
    "\n",
    "Я подготовила данные к работе: привела названия столбцов к нижнему регистру, обработала пропуски в столбцах с критичными признаками, обработала артефакты в данных о пользовательском рейтинге, добавила столбец с суммарными продажами и скорректировала типы данных. "
   ]
  },
  {
   "cell_type": "markdown",
   "metadata": {},
   "source": [
    "<div id='step3'/>\n",
    "\n",
    "### Исследовательский анализ данных"
   ]
  },
  {
   "cell_type": "markdown",
   "metadata": {},
   "source": [
    "Определим временной промежуток для анализа. Для этого изучим тгры по дате выхода:"
   ]
  },
  {
   "cell_type": "code",
   "execution_count": 17,
   "metadata": {},
   "outputs": [
    {
     "data": {
      "image/png": "[encoded data removed]",
      "text/plain": [
       "<Figure size 720x432 with 1 Axes>"
      ]
     },
     "metadata": {
      "needs_background": "light"
     },
     "output_type": "display_data"
    }
   ],
   "source": [
    "fig, ax = plt.subplots(figsize=(10, 6))\n",
    "games_data['year_of_release'].plot(kind='hist', bins=100, grid=True, ax = ax)\n",
    "ax.set(title='Компьютерные игры, выпущенные с 1980 по 2016 год', ylabel='Количество')\n",
    "ax.legend().set_visible(False) "
   ]
  },
  {
   "cell_type": "markdown",
   "metadata": {},
   "source": [
    "Судя по графику, до 1995 года игр выпускалось совсем мало. После 1995 г. наблюдается устойчивый рост с резким прорывом в 2002 г., возможно это обусловлено появлением новой популярной платформы. 2008-2009 годы стали рекордсменами по выпущенным играм, после чего их количество стало постепенно снижаться, пока в 2012 г. не произошло резкое падение, игр выпустили почти в 2 раза меньше, чем в 2008, и даже это был не предел. С 2012г. количество новых игр колеблется примерно в одном числовом диапазоне, хотя в 2016 году игр вышло меньше всего.\n",
    "Очевидно, что совершенно не имет смысл рассматривать данные до 2002 г. Интересны для рассмотрени два периода - с 2012 г. до 2016 г. и предшествующий период расцвета 2005-2011гг. Чтобы найти критерии для планирования РК в 2017 г. данные 2008 года уже не актуальны. Поэтому я выбрала отрезок с 2012 по 2016 годы включительно.  "
   ]
  },
  {
   "cell_type": "markdown",
   "metadata": {},
   "source": [
    "Посмотрим, как менялись продажи по платформам. За какой характерный срок появляются новые и исчезают старые платформы?"
   ]
  },
  {
   "cell_type": "code",
   "execution_count": 18,
   "metadata": {},
   "outputs": [
    {
     "data": {
      "text/plain": [
       "31"
      ]
     },
     "execution_count": 18,
     "metadata": {},
     "output_type": "execute_result"
    }
   ],
   "source": [
    "len(games_data['platform'].unique())"
   ]
  },
  {
   "cell_type": "code",
   "execution_count": 19,
   "metadata": {},
   "outputs": [
    {
     "data": {
      "text/plain": [
       "array(['Wii', 'NES', 'GB', 'DS', 'X360', 'PS3', 'PS2', 'SNES', 'GBA',\n",
       "       'PS4', '3DS', 'N64', 'PS', 'XB', 'PC', '2600', 'PSP', 'XOne',\n",
       "       'WiiU', 'GC', 'GEN', 'DC', 'PSV', 'SAT', 'SCD', 'WS', 'NG', 'TG16',\n",
       "       '3DO', 'GG', 'PCFX'], dtype=object)"
      ]
     },
     "execution_count": 19,
     "metadata": {},
     "output_type": "execute_result"
    }
   ],
   "source": [
    "games_data['platform'].unique()"
   ]
  },
  {
   "cell_type": "code",
   "execution_count": 20,
   "metadata": {},
   "outputs": [
    {
     "data": {
      "text/html": [
       "<div>\n",
       "<style scoped>\n",
       "    .dataframe tbody tr th:only-of-type {\n",
       "        vertical-align: middle;\n",
       "    }\n",
       "\n",
       "    .dataframe tbody tr th {\n",
       "        vertical-align: top;\n",
       "    }\n",
       "\n",
       "    .dataframe thead th {\n",
       "        text-align: right;\n",
       "    }\n",
       "</style>\n",
       "<table border=\"1\" class=\"dataframe\">\n",
       "  <thead>\n",
       "    <tr style=\"text-align: right;\">\n",
       "      <th></th>\n",
       "      <th>total_sales</th>\n",
       "    </tr>\n",
       "    <tr>\n",
       "      <th>platform</th>\n",
       "      <th></th>\n",
       "    </tr>\n",
       "  </thead>\n",
       "  <tbody>\n",
       "    <tr>\n",
       "      <th>PS2</th>\n",
       "      <td>1054.88</td>\n",
       "    </tr>\n",
       "    <tr>\n",
       "      <th>X360</th>\n",
       "      <td>881.27</td>\n",
       "    </tr>\n",
       "    <tr>\n",
       "      <th>Wii</th>\n",
       "      <td>824.54</td>\n",
       "    </tr>\n",
       "    <tr>\n",
       "      <th>PS3</th>\n",
       "      <td>800.09</td>\n",
       "    </tr>\n",
       "    <tr>\n",
       "      <th>DS</th>\n",
       "      <td>745.12</td>\n",
       "    </tr>\n",
       "    <tr>\n",
       "      <th>PS</th>\n",
       "      <td>686.89</td>\n",
       "    </tr>\n",
       "    <tr>\n",
       "      <th>GBA</th>\n",
       "      <td>306.11</td>\n",
       "    </tr>\n",
       "    <tr>\n",
       "      <th>PS4</th>\n",
       "      <td>265.79</td>\n",
       "    </tr>\n",
       "    <tr>\n",
       "      <th>PSP</th>\n",
       "      <td>252.15</td>\n",
       "    </tr>\n",
       "    <tr>\n",
       "      <th>XB</th>\n",
       "      <td>248.01</td>\n",
       "    </tr>\n",
       "    <tr>\n",
       "      <th>GB</th>\n",
       "      <td>246.27</td>\n",
       "    </tr>\n",
       "    <tr>\n",
       "      <th>NES</th>\n",
       "      <td>245.74</td>\n",
       "    </tr>\n",
       "    <tr>\n",
       "      <th>3DS</th>\n",
       "      <td>245.21</td>\n",
       "    </tr>\n",
       "    <tr>\n",
       "      <th>PC</th>\n",
       "      <td>236.56</td>\n",
       "    </tr>\n",
       "    <tr>\n",
       "      <th>N64</th>\n",
       "      <td>214.13</td>\n",
       "    </tr>\n",
       "    <tr>\n",
       "      <th>SNES</th>\n",
       "      <td>196.82</td>\n",
       "    </tr>\n",
       "  </tbody>\n",
       "</table>\n",
       "</div>"
      ],
      "text/plain": [
       "          total_sales\n",
       "platform             \n",
       "PS2           1054.88\n",
       "X360           881.27\n",
       "Wii            824.54\n",
       "PS3            800.09\n",
       "DS             745.12\n",
       "PS             686.89\n",
       "GBA            306.11\n",
       "PS4            265.79\n",
       "PSP            252.15\n",
       "XB             248.01\n",
       "GB             246.27\n",
       "NES            245.74\n",
       "3DS            245.21\n",
       "PC             236.56\n",
       "N64            214.13\n",
       "SNES           196.82"
      ]
     },
     "execution_count": 20,
     "metadata": {},
     "output_type": "execute_result"
    }
   ],
   "source": [
    "top_platforms = games_data.pivot_table(index='platform', values='total_sales', aggfunc='sum')\n",
    "top_platforms.sort_values(by='total_sales', ascending=False).head(16)"
   ]
  },
  {
   "cell_type": "markdown",
   "metadata": {},
   "source": [
    "Всего у нас 31 платформа. Из них более 200 млн заработали только 15. Среди них 6 со значительным разрывом стоят платформы с суперпродажами более 500 млн. Рассмотрим их внимательнее."
   ]
  },
  {
   "cell_type": "code",
   "execution_count": 21,
   "metadata": {},
   "outputs": [
    {
     "data": {
      "text/plain": [
       "array(['DS', 'PS', 'PS2', 'PS3', 'Wii', 'X360'], dtype=object)"
      ]
     },
     "execution_count": 21,
     "metadata": {},
     "output_type": "execute_result"
    }
   ],
   "source": [
    "top_6_platforms = top_platforms.query('total_sales > 600').index.values\n",
    "top_6_platforms"
   ]
  },
  {
   "cell_type": "code",
   "execution_count": 22,
   "metadata": {},
   "outputs": [
    {
     "data": {
      "text/html": [
       "<div>\n",
       "<style scoped>\n",
       "    .dataframe tbody tr th:only-of-type {\n",
       "        vertical-align: middle;\n",
       "    }\n",
       "\n",
       "    .dataframe tbody tr th {\n",
       "        vertical-align: top;\n",
       "    }\n",
       "\n",
       "    .dataframe thead th {\n",
       "        text-align: right;\n",
       "    }\n",
       "</style>\n",
       "<table border=\"1\" class=\"dataframe\">\n",
       "  <thead>\n",
       "    <tr style=\"text-align: right;\">\n",
       "      <th>platform</th>\n",
       "      <th>DS</th>\n",
       "      <th>PS</th>\n",
       "      <th>PS2</th>\n",
       "      <th>PS3</th>\n",
       "      <th>Wii</th>\n",
       "      <th>X360</th>\n",
       "    </tr>\n",
       "    <tr>\n",
       "      <th>year_of_release</th>\n",
       "      <th></th>\n",
       "      <th></th>\n",
       "      <th></th>\n",
       "      <th></th>\n",
       "      <th></th>\n",
       "      <th></th>\n",
       "    </tr>\n",
       "  </thead>\n",
       "  <tbody>\n",
       "    <tr>\n",
       "      <th>1985</th>\n",
       "      <td>0.02</td>\n",
       "      <td>NaN</td>\n",
       "      <td>NaN</td>\n",
       "      <td>NaN</td>\n",
       "      <td>NaN</td>\n",
       "      <td>NaN</td>\n",
       "    </tr>\n",
       "    <tr>\n",
       "      <th>1994</th>\n",
       "      <td>NaN</td>\n",
       "      <td>5.63</td>\n",
       "      <td>NaN</td>\n",
       "      <td>NaN</td>\n",
       "      <td>NaN</td>\n",
       "      <td>NaN</td>\n",
       "    </tr>\n",
       "    <tr>\n",
       "      <th>1995</th>\n",
       "      <td>NaN</td>\n",
       "      <td>34.00</td>\n",
       "      <td>NaN</td>\n",
       "      <td>NaN</td>\n",
       "      <td>NaN</td>\n",
       "      <td>NaN</td>\n",
       "    </tr>\n",
       "    <tr>\n",
       "      <th>1996</th>\n",
       "      <td>NaN</td>\n",
       "      <td>89.16</td>\n",
       "      <td>NaN</td>\n",
       "      <td>NaN</td>\n",
       "      <td>NaN</td>\n",
       "      <td>NaN</td>\n",
       "    </tr>\n",
       "    <tr>\n",
       "      <th>1997</th>\n",
       "      <td>NaN</td>\n",
       "      <td>128.30</td>\n",
       "      <td>NaN</td>\n",
       "      <td>NaN</td>\n",
       "      <td>NaN</td>\n",
       "      <td>NaN</td>\n",
       "    </tr>\n",
       "    <tr>\n",
       "      <th>1998</th>\n",
       "      <td>NaN</td>\n",
       "      <td>160.44</td>\n",
       "      <td>NaN</td>\n",
       "      <td>NaN</td>\n",
       "      <td>NaN</td>\n",
       "      <td>NaN</td>\n",
       "    </tr>\n",
       "    <tr>\n",
       "      <th>1999</th>\n",
       "      <td>NaN</td>\n",
       "      <td>136.61</td>\n",
       "      <td>NaN</td>\n",
       "      <td>NaN</td>\n",
       "      <td>NaN</td>\n",
       "      <td>NaN</td>\n",
       "    </tr>\n",
       "    <tr>\n",
       "      <th>2000</th>\n",
       "      <td>NaN</td>\n",
       "      <td>91.09</td>\n",
       "      <td>35.59</td>\n",
       "      <td>NaN</td>\n",
       "      <td>NaN</td>\n",
       "      <td>NaN</td>\n",
       "    </tr>\n",
       "    <tr>\n",
       "      <th>2001</th>\n",
       "      <td>NaN</td>\n",
       "      <td>33.42</td>\n",
       "      <td>149.65</td>\n",
       "      <td>NaN</td>\n",
       "      <td>NaN</td>\n",
       "      <td>NaN</td>\n",
       "    </tr>\n",
       "    <tr>\n",
       "      <th>2002</th>\n",
       "      <td>NaN</td>\n",
       "      <td>6.31</td>\n",
       "      <td>186.26</td>\n",
       "      <td>NaN</td>\n",
       "      <td>NaN</td>\n",
       "      <td>NaN</td>\n",
       "    </tr>\n",
       "    <tr>\n",
       "      <th>2003</th>\n",
       "      <td>NaN</td>\n",
       "      <td>1.93</td>\n",
       "      <td>171.14</td>\n",
       "      <td>NaN</td>\n",
       "      <td>NaN</td>\n",
       "      <td>NaN</td>\n",
       "    </tr>\n",
       "    <tr>\n",
       "      <th>2004</th>\n",
       "      <td>15.91</td>\n",
       "      <td>NaN</td>\n",
       "      <td>172.79</td>\n",
       "      <td>NaN</td>\n",
       "      <td>NaN</td>\n",
       "      <td>NaN</td>\n",
       "    </tr>\n",
       "    <tr>\n",
       "      <th>2005</th>\n",
       "      <td>119.34</td>\n",
       "      <td>NaN</td>\n",
       "      <td>141.73</td>\n",
       "      <td>0.15</td>\n",
       "      <td>NaN</td>\n",
       "      <td>8.51</td>\n",
       "    </tr>\n",
       "    <tr>\n",
       "      <th>2006</th>\n",
       "      <td>111.64</td>\n",
       "      <td>NaN</td>\n",
       "      <td>89.70</td>\n",
       "      <td>17.78</td>\n",
       "      <td>126.37</td>\n",
       "      <td>47.36</td>\n",
       "    </tr>\n",
       "    <tr>\n",
       "      <th>2007</th>\n",
       "      <td>136.12</td>\n",
       "      <td>NaN</td>\n",
       "      <td>52.40</td>\n",
       "      <td>62.48</td>\n",
       "      <td>139.79</td>\n",
       "      <td>86.68</td>\n",
       "    </tr>\n",
       "    <tr>\n",
       "      <th>2008</th>\n",
       "      <td>134.42</td>\n",
       "      <td>NaN</td>\n",
       "      <td>34.59</td>\n",
       "      <td>102.03</td>\n",
       "      <td>162.17</td>\n",
       "      <td>123.29</td>\n",
       "    </tr>\n",
       "    <tr>\n",
       "      <th>2009</th>\n",
       "      <td>111.01</td>\n",
       "      <td>NaN</td>\n",
       "      <td>16.24</td>\n",
       "      <td>113.08</td>\n",
       "      <td>189.43</td>\n",
       "      <td>109.74</td>\n",
       "    </tr>\n",
       "    <tr>\n",
       "      <th>2010</th>\n",
       "      <td>79.79</td>\n",
       "      <td>NaN</td>\n",
       "      <td>4.44</td>\n",
       "      <td>122.06</td>\n",
       "      <td>118.41</td>\n",
       "      <td>156.28</td>\n",
       "    </tr>\n",
       "    <tr>\n",
       "      <th>2011</th>\n",
       "      <td>24.44</td>\n",
       "      <td>NaN</td>\n",
       "      <td>0.35</td>\n",
       "      <td>136.21</td>\n",
       "      <td>54.50</td>\n",
       "      <td>132.38</td>\n",
       "    </tr>\n",
       "    <tr>\n",
       "      <th>2012</th>\n",
       "      <td>11.01</td>\n",
       "      <td>NaN</td>\n",
       "      <td>NaN</td>\n",
       "      <td>91.64</td>\n",
       "      <td>21.33</td>\n",
       "      <td>92.34</td>\n",
       "    </tr>\n",
       "    <tr>\n",
       "      <th>2013</th>\n",
       "      <td>1.42</td>\n",
       "      <td>NaN</td>\n",
       "      <td>NaN</td>\n",
       "      <td>95.85</td>\n",
       "      <td>7.87</td>\n",
       "      <td>80.82</td>\n",
       "    </tr>\n",
       "    <tr>\n",
       "      <th>2014</th>\n",
       "      <td>NaN</td>\n",
       "      <td>NaN</td>\n",
       "      <td>NaN</td>\n",
       "      <td>40.88</td>\n",
       "      <td>3.45</td>\n",
       "      <td>31.61</td>\n",
       "    </tr>\n",
       "    <tr>\n",
       "      <th>2015</th>\n",
       "      <td>NaN</td>\n",
       "      <td>NaN</td>\n",
       "      <td>NaN</td>\n",
       "      <td>14.70</td>\n",
       "      <td>1.05</td>\n",
       "      <td>10.86</td>\n",
       "    </tr>\n",
       "    <tr>\n",
       "      <th>2016</th>\n",
       "      <td>NaN</td>\n",
       "      <td>NaN</td>\n",
       "      <td>NaN</td>\n",
       "      <td>3.23</td>\n",
       "      <td>0.17</td>\n",
       "      <td>1.40</td>\n",
       "    </tr>\n",
       "  </tbody>\n",
       "</table>\n",
       "</div>"
      ],
      "text/plain": [
       "platform             DS      PS     PS2     PS3     Wii    X360\n",
       "year_of_release                                                \n",
       "1985               0.02     NaN     NaN     NaN     NaN     NaN\n",
       "1994                NaN    5.63     NaN     NaN     NaN     NaN\n",
       "1995                NaN   34.00     NaN     NaN     NaN     NaN\n",
       "1996                NaN   89.16     NaN     NaN     NaN     NaN\n",
       "1997                NaN  128.30     NaN     NaN     NaN     NaN\n",
       "1998                NaN  160.44     NaN     NaN     NaN     NaN\n",
       "1999                NaN  136.61     NaN     NaN     NaN     NaN\n",
       "2000                NaN   91.09   35.59     NaN     NaN     NaN\n",
       "2001                NaN   33.42  149.65     NaN     NaN     NaN\n",
       "2002                NaN    6.31  186.26     NaN     NaN     NaN\n",
       "2003                NaN    1.93  171.14     NaN     NaN     NaN\n",
       "2004              15.91     NaN  172.79     NaN     NaN     NaN\n",
       "2005             119.34     NaN  141.73    0.15     NaN    8.51\n",
       "2006             111.64     NaN   89.70   17.78  126.37   47.36\n",
       "2007             136.12     NaN   52.40   62.48  139.79   86.68\n",
       "2008             134.42     NaN   34.59  102.03  162.17  123.29\n",
       "2009             111.01     NaN   16.24  113.08  189.43  109.74\n",
       "2010              79.79     NaN    4.44  122.06  118.41  156.28\n",
       "2011              24.44     NaN    0.35  136.21   54.50  132.38\n",
       "2012              11.01     NaN     NaN   91.64   21.33   92.34\n",
       "2013               1.42     NaN     NaN   95.85    7.87   80.82\n",
       "2014                NaN     NaN     NaN   40.88    3.45   31.61\n",
       "2015                NaN     NaN     NaN   14.70    1.05   10.86\n",
       "2016                NaN     NaN     NaN    3.23    0.17    1.40"
      ]
     },
     "execution_count": 22,
     "metadata": {},
     "output_type": "execute_result"
    }
   ],
   "source": [
    "top_6_platforms_data = games_data.query('platform in @top_6_platforms')\n",
    "top_6_platforms_data.pivot_table(index='year_of_release', columns='platform', values='total_sales', aggfunc='sum')"
   ]
  },
  {
   "cell_type": "markdown",
   "metadata": {},
   "source": [
    "По распределению данных в таблице видно, что жизненный цикл платформы 10 лет, основную массу денег они приносят в течение примерно 6 лет после первого существенного прорыва, а потом умирают. Для данной выборки порог успешности - это более 75 млн."
   ]
  },
  {
   "cell_type": "markdown",
   "metadata": {},
   "source": [
    "Рассмотрим как развиваются топ-платформы на актуальных данных, которые я выбрала по итогам графика по распределению количества выпущенных игр - 2012 - 2016 гг. "
   ]
  },
  {
   "cell_type": "code",
   "execution_count": 23,
   "metadata": {},
   "outputs": [
    {
     "data": {
      "text/html": [
       "<div>\n",
       "<style scoped>\n",
       "    .dataframe tbody tr th:only-of-type {\n",
       "        vertical-align: middle;\n",
       "    }\n",
       "\n",
       "    .dataframe tbody tr th {\n",
       "        vertical-align: top;\n",
       "    }\n",
       "\n",
       "    .dataframe thead th {\n",
       "        text-align: right;\n",
       "    }\n",
       "</style>\n",
       "<table border=\"1\" class=\"dataframe\">\n",
       "  <thead>\n",
       "    <tr style=\"text-align: right;\">\n",
       "      <th></th>\n",
       "      <th>platform</th>\n",
       "      <th>total_sales</th>\n",
       "    </tr>\n",
       "  </thead>\n",
       "  <tbody>\n",
       "    <tr>\n",
       "      <th>0</th>\n",
       "      <td>PS4</td>\n",
       "      <td>265.79</td>\n",
       "    </tr>\n",
       "    <tr>\n",
       "      <th>1</th>\n",
       "      <td>PS3</td>\n",
       "      <td>246.30</td>\n",
       "    </tr>\n",
       "    <tr>\n",
       "      <th>2</th>\n",
       "      <td>X360</td>\n",
       "      <td>217.03</td>\n",
       "    </tr>\n",
       "    <tr>\n",
       "      <th>3</th>\n",
       "      <td>3DS</td>\n",
       "      <td>186.11</td>\n",
       "    </tr>\n",
       "    <tr>\n",
       "      <th>4</th>\n",
       "      <td>XOne</td>\n",
       "      <td>145.05</td>\n",
       "    </tr>\n",
       "    <tr>\n",
       "      <th>5</th>\n",
       "      <td>WiiU</td>\n",
       "      <td>76.24</td>\n",
       "    </tr>\n",
       "    <tr>\n",
       "      <th>6</th>\n",
       "      <td>PC</td>\n",
       "      <td>57.64</td>\n",
       "    </tr>\n",
       "    <tr>\n",
       "      <th>7</th>\n",
       "      <td>PSV</td>\n",
       "      <td>43.38</td>\n",
       "    </tr>\n",
       "    <tr>\n",
       "      <th>8</th>\n",
       "      <td>Wii</td>\n",
       "      <td>33.87</td>\n",
       "    </tr>\n",
       "    <tr>\n",
       "      <th>9</th>\n",
       "      <td>DS</td>\n",
       "      <td>12.43</td>\n",
       "    </tr>\n",
       "    <tr>\n",
       "      <th>10</th>\n",
       "      <td>PSP</td>\n",
       "      <td>11.46</td>\n",
       "    </tr>\n",
       "  </tbody>\n",
       "</table>\n",
       "</div>"
      ],
      "text/plain": [
       "   platform  total_sales\n",
       "0       PS4       265.79\n",
       "1       PS3       246.30\n",
       "2      X360       217.03\n",
       "3       3DS       186.11\n",
       "4      XOne       145.05\n",
       "5      WiiU        76.24\n",
       "6        PC        57.64\n",
       "7       PSV        43.38\n",
       "8       Wii        33.87\n",
       "9        DS        12.43\n",
       "10      PSP        11.46"
      ]
     },
     "execution_count": 23,
     "metadata": {},
     "output_type": "execute_result"
    }
   ],
   "source": [
    "current_games_data = games_data.query('year_of_release >= 2012')\n",
    "current_top_platforms = current_games_data.pivot_table(index='platform', values='total_sales', aggfunc='sum')\n",
    "current_top_platforms.sort_values(by='total_sales', ascending=False).reset_index()"
   ]
  },
  {
   "cell_type": "markdown",
   "metadata": {},
   "source": [
    "Из 11 платформ, попавших в актуальную выборку только 5 приносят доход больше 100 млн. Однако есть еще два-три потенциальных варианта. Нужно посмотреть, где они находятся, в начале или в конце цикла. "
   ]
  },
  {
   "cell_type": "code",
   "execution_count": 24,
   "metadata": {},
   "outputs": [
    {
     "data": {
      "text/html": [
       "<div>\n",
       "<style scoped>\n",
       "    .dataframe tbody tr th:only-of-type {\n",
       "        vertical-align: middle;\n",
       "    }\n",
       "\n",
       "    .dataframe tbody tr th {\n",
       "        vertical-align: top;\n",
       "    }\n",
       "\n",
       "    .dataframe thead th {\n",
       "        text-align: right;\n",
       "    }\n",
       "</style>\n",
       "<table border=\"1\" class=\"dataframe\">\n",
       "  <thead>\n",
       "    <tr style=\"text-align: right;\">\n",
       "      <th>platform</th>\n",
       "      <th>3DS</th>\n",
       "      <th>PC</th>\n",
       "      <th>PS3</th>\n",
       "      <th>PS4</th>\n",
       "      <th>PSV</th>\n",
       "      <th>WiiU</th>\n",
       "      <th>X360</th>\n",
       "      <th>XOne</th>\n",
       "    </tr>\n",
       "    <tr>\n",
       "      <th>year_of_release</th>\n",
       "      <th></th>\n",
       "      <th></th>\n",
       "      <th></th>\n",
       "      <th></th>\n",
       "      <th></th>\n",
       "      <th></th>\n",
       "      <th></th>\n",
       "      <th></th>\n",
       "    </tr>\n",
       "  </thead>\n",
       "  <tbody>\n",
       "    <tr>\n",
       "      <th>2012</th>\n",
       "      <td>49.14</td>\n",
       "      <td>20.61</td>\n",
       "      <td>91.64</td>\n",
       "      <td>NaN</td>\n",
       "      <td>13.65</td>\n",
       "      <td>16.30</td>\n",
       "      <td>92.34</td>\n",
       "      <td>NaN</td>\n",
       "    </tr>\n",
       "    <tr>\n",
       "      <th>2013</th>\n",
       "      <td>53.97</td>\n",
       "      <td>11.83</td>\n",
       "      <td>95.85</td>\n",
       "      <td>22.12</td>\n",
       "      <td>9.14</td>\n",
       "      <td>20.12</td>\n",
       "      <td>80.82</td>\n",
       "      <td>17.21</td>\n",
       "    </tr>\n",
       "    <tr>\n",
       "      <th>2014</th>\n",
       "      <td>41.75</td>\n",
       "      <td>12.38</td>\n",
       "      <td>40.88</td>\n",
       "      <td>84.22</td>\n",
       "      <td>10.56</td>\n",
       "      <td>20.35</td>\n",
       "      <td>31.61</td>\n",
       "      <td>49.26</td>\n",
       "    </tr>\n",
       "    <tr>\n",
       "      <th>2015</th>\n",
       "      <td>26.75</td>\n",
       "      <td>7.93</td>\n",
       "      <td>14.70</td>\n",
       "      <td>100.44</td>\n",
       "      <td>5.93</td>\n",
       "      <td>15.22</td>\n",
       "      <td>10.86</td>\n",
       "      <td>54.67</td>\n",
       "    </tr>\n",
       "    <tr>\n",
       "      <th>2016</th>\n",
       "      <td>14.50</td>\n",
       "      <td>4.89</td>\n",
       "      <td>3.23</td>\n",
       "      <td>59.01</td>\n",
       "      <td>4.10</td>\n",
       "      <td>4.25</td>\n",
       "      <td>1.40</td>\n",
       "      <td>23.91</td>\n",
       "    </tr>\n",
       "  </tbody>\n",
       "</table>\n",
       "</div>"
      ],
      "text/plain": [
       "platform           3DS     PC    PS3     PS4    PSV   WiiU   X360   XOne\n",
       "year_of_release                                                         \n",
       "2012             49.14  20.61  91.64     NaN  13.65  16.30  92.34    NaN\n",
       "2013             53.97  11.83  95.85   22.12   9.14  20.12  80.82  17.21\n",
       "2014             41.75  12.38  40.88   84.22  10.56  20.35  31.61  49.26\n",
       "2015             26.75   7.93  14.70  100.44   5.93  15.22  10.86  54.67\n",
       "2016             14.50   4.89   3.23   59.01   4.10   4.25   1.40  23.91"
      ]
     },
     "execution_count": 24,
     "metadata": {},
     "output_type": "execute_result"
    }
   ],
   "source": [
    "current_top_8_platforms = current_top_platforms.query('total_sales > 40').index.values\n",
    "current_top_8_platforms_data = current_games_data.query('platform in @current_top_8_platforms')\n",
    "current_top_8_platforms_data.pivot_table(index='year_of_release', columns='platform', values='total_sales', aggfunc='sum')"
   ]
  },
  {
   "cell_type": "markdown",
   "metadata": {},
   "source": [
    "Потенциально интересными могут быть платформы PS4, XOne, 3DS - остальные уже либо находятся в конце своего жизненного цикла, либо просто недостаточно популярны. "
   ]
  },
  {
   "cell_type": "markdown",
   "metadata": {},
   "source": [
    "Построим график «ящик с усами» по глобальным продажам каждой игры и разбивкой по платформам. "
   ]
  },
  {
   "cell_type": "code",
   "execution_count": 25,
   "metadata": {},
   "outputs": [
    {
     "data": {
      "image/png": "[encoded data removed]",
      "text/plain": [
       "<Figure size 720x432 with 1 Axes>"
      ]
     },
     "metadata": {
      "needs_background": "light"
     },
     "output_type": "display_data"
    }
   ],
   "source": [
    "final_top_3_platforms = ['3DS', 'PS4', 'XOne']\n",
    "final_games_data = current_games_data.query('platform in @final_top_3_platforms')\n",
    "\n",
    "final_sales_data = final_games_data.pivot_table(index='name', columns='platform', values='total_sales', aggfunc='sum')\n",
    "\n",
    "fig, ax = plt.subplots(figsize=(10, 6))\n",
    "final_sales_data[['3DS', 'PS4', 'XOne']].plot(kind='box', grid=True, ax=ax)\n",
    "ax.set(title='Глобальные продажи игр по выбранным платформам, 2012-2016гг.', ylabel='Объём продаж, млн $');"
   ]
  },
  {
   "cell_type": "markdown",
   "metadata": {},
   "source": [
    "Видно, что и у 3DC и у PS4 есть флагманы, заработавшие более 12 млн., у XOne - больше 6 млн. Основная масса игр не выходит за пределы 4 млн, а верхняя граница ящика ни у одной платформы не превышает 2 млн. Посмотрим как распределятся данные в среднем. "
   ]
  },
  {
   "cell_type": "code",
   "execution_count": 26,
   "metadata": {},
   "outputs": [
    {
     "data": {
      "image/png": "[encoded data removed]",
      "text/plain": [
       "<Figure size 720x432 with 1 Axes>"
      ]
     },
     "metadata": {
      "needs_background": "light"
     },
     "output_type": "display_data"
    }
   ],
   "source": [
    "# уменьшим масштаб графика:\n",
    "fig, ax = plt.subplots(figsize=(10, 6))\n",
    "final_sales_data[['3DS', 'PS4', 'XOne']].plot(kind='box', grid=True, ylim = [0, 2], ax=ax)\n",
    "ax.set(title='Глобальные продажи игр по выбранным платформам, 2012-2016гг.', ylabel='Объём продаж, млн $'); "
   ]
  },
  {
   "cell_type": "code",
   "execution_count": 27,
   "metadata": {},
   "outputs": [
    {
     "data": {
      "text/html": [
       "<div>\n",
       "<style scoped>\n",
       "    .dataframe tbody tr th:only-of-type {\n",
       "        vertical-align: middle;\n",
       "    }\n",
       "\n",
       "    .dataframe tbody tr th {\n",
       "        vertical-align: top;\n",
       "    }\n",
       "\n",
       "    .dataframe thead th {\n",
       "        text-align: right;\n",
       "    }\n",
       "</style>\n",
       "<table border=\"1\" class=\"dataframe\">\n",
       "  <thead>\n",
       "    <tr style=\"text-align: right;\">\n",
       "      <th>platform</th>\n",
       "      <th>3DS</th>\n",
       "      <th>PS4</th>\n",
       "      <th>XOne</th>\n",
       "    </tr>\n",
       "  </thead>\n",
       "  <tbody>\n",
       "    <tr>\n",
       "      <th>count</th>\n",
       "      <td>397.000000</td>\n",
       "      <td>392.000000</td>\n",
       "      <td>247.000000</td>\n",
       "    </tr>\n",
       "    <tr>\n",
       "      <th>mean</th>\n",
       "      <td>0.468791</td>\n",
       "      <td>0.678036</td>\n",
       "      <td>0.587247</td>\n",
       "    </tr>\n",
       "    <tr>\n",
       "      <th>std</th>\n",
       "      <td>1.310852</td>\n",
       "      <td>1.355221</td>\n",
       "      <td>0.942412</td>\n",
       "    </tr>\n",
       "    <tr>\n",
       "      <th>min</th>\n",
       "      <td>0.010000</td>\n",
       "      <td>0.010000</td>\n",
       "      <td>0.010000</td>\n",
       "    </tr>\n",
       "    <tr>\n",
       "      <th>25%</th>\n",
       "      <td>0.040000</td>\n",
       "      <td>0.050000</td>\n",
       "      <td>0.050000</td>\n",
       "    </tr>\n",
       "    <tr>\n",
       "      <th>50%</th>\n",
       "      <td>0.110000</td>\n",
       "      <td>0.170000</td>\n",
       "      <td>0.200000</td>\n",
       "    </tr>\n",
       "    <tr>\n",
       "      <th>75%</th>\n",
       "      <td>0.300000</td>\n",
       "      <td>0.612500</td>\n",
       "      <td>0.625000</td>\n",
       "    </tr>\n",
       "    <tr>\n",
       "      <th>max</th>\n",
       "      <td>13.820000</td>\n",
       "      <td>12.250000</td>\n",
       "      <td>6.710000</td>\n",
       "    </tr>\n",
       "  </tbody>\n",
       "</table>\n",
       "</div>"
      ],
      "text/plain": [
       "platform         3DS         PS4        XOne\n",
       "count     397.000000  392.000000  247.000000\n",
       "mean        0.468791    0.678036    0.587247\n",
       "std         1.310852    1.355221    0.942412\n",
       "min         0.010000    0.010000    0.010000\n",
       "25%         0.040000    0.050000    0.050000\n",
       "50%         0.110000    0.170000    0.200000\n",
       "75%         0.300000    0.612500    0.625000\n",
       "max        13.820000   12.250000    6.710000"
      ]
     },
     "execution_count": 27,
     "metadata": {},
     "output_type": "execute_result"
    }
   ],
   "source": [
    "final_sales_data.describe()"
   ]
  },
  {
   "cell_type": "markdown",
   "metadata": {},
   "source": [
    "Интересно, что у 3DC такая низкая верхняя граница ящика. Предположу, что это происходит потому, что они выпускают очень много   игр, большая часть которых почти ничего не зарабатывает, но наряду с ними есть невероятно успешные продукты. PS4 и XОne похожи по своему распределению данных. При этом медианное значение для 3 платформ колеблется от 0.1 до 0.2 млн. "
   ]
  },
  {
   "cell_type": "markdown",
   "metadata": {},
   "source": [
    "Посмотрим, как влияют на продажи внутри одной популярной платформы отзывы пользователей и критиков. Возмем для примера PS4, потому что она находится в начале своего жизненного цикла и самая прибыльная из актуальной выборки."
   ]
  },
  {
   "cell_type": "code",
   "execution_count": 28,
   "metadata": {},
   "outputs": [
    {
     "data": {
      "text/html": [
       "<div>\n",
       "<style scoped>\n",
       "    .dataframe tbody tr th:only-of-type {\n",
       "        vertical-align: middle;\n",
       "    }\n",
       "\n",
       "    .dataframe tbody tr th {\n",
       "        vertical-align: top;\n",
       "    }\n",
       "\n",
       "    .dataframe thead th {\n",
       "        text-align: right;\n",
       "    }\n",
       "</style>\n",
       "<table border=\"1\" class=\"dataframe\">\n",
       "  <thead>\n",
       "    <tr style=\"text-align: right;\">\n",
       "      <th></th>\n",
       "      <th>name</th>\n",
       "      <th>platform</th>\n",
       "      <th>year_of_release</th>\n",
       "      <th>genre</th>\n",
       "      <th>na_sales</th>\n",
       "      <th>eu_sales</th>\n",
       "      <th>jp_sales</th>\n",
       "      <th>other_sales</th>\n",
       "      <th>critic_score</th>\n",
       "      <th>user_score</th>\n",
       "      <th>rating</th>\n",
       "      <th>total_sales</th>\n",
       "    </tr>\n",
       "  </thead>\n",
       "  <tbody>\n",
       "    <tr>\n",
       "      <th>12932</th>\n",
       "      <td>Goosebumps: The Game</td>\n",
       "      <td>3DS</td>\n",
       "      <td>2015</td>\n",
       "      <td>Adventure</td>\n",
       "      <td>0.05</td>\n",
       "      <td>0.0</td>\n",
       "      <td>0.0</td>\n",
       "      <td>0.01</td>\n",
       "      <td>NaN</td>\n",
       "      <td>NaN</td>\n",
       "      <td>E10+</td>\n",
       "      <td>0.05</td>\n",
       "    </tr>\n",
       "  </tbody>\n",
       "</table>\n",
       "</div>"
      ],
      "text/plain": [
       "                       name platform  year_of_release      genre  na_sales  \\\n",
       "12932  Goosebumps: The Game      3DS             2015  Adventure      0.05   \n",
       "\n",
       "       eu_sales  jp_sales  other_sales  critic_score  user_score rating  \\\n",
       "12932       0.0       0.0         0.01           NaN         NaN   E10+   \n",
       "\n",
       "       total_sales  \n",
       "12932         0.05  "
      ]
     },
     "execution_count": 28,
     "metadata": {},
     "output_type": "execute_result"
    }
   ],
   "source": [
    "final_games_data.sample()"
   ]
  },
  {
   "cell_type": "code",
   "execution_count": 29,
   "metadata": {},
   "outputs": [
    {
     "data": {
      "image/png": "[encoded data removed]",
      "text/plain": [
       "<Figure size 720x432 with 2 Axes>"
      ]
     },
     "metadata": {
      "needs_background": "light"
     },
     "output_type": "display_data"
    }
   ],
   "source": [
    "ps4_data = final_games_data.query('platform == \"PS4\"')[['total_sales', 'user_score', 'critic_score']]\n",
    "\n",
    "fig, ax = plt.subplots(figsize=(10, 6))\n",
    "ax = sns.heatmap(ps4_data.corr(), annot=True, fmt = '.2g', cmap= 'coolwarm')\n",
    "plt.title('График взаимозависмости объема продаж и оценок критиков и пользователей на платформе PS4, 2012-2016гг.');"
   ]
  },
  {
   "cell_type": "markdown",
   "metadata": {},
   "source": [
    "Корреляционный анализ показал, что колчество продаж прямо коррелирует с отзывами критиков, а отзывы пользователей прямо коррелируют с отзывами критиков и незначительно обратно коррелируют с количеством продаж. Видимо, это связано с большим количеством пользователей, купивших игры. "
   ]
  },
  {
   "cell_type": "markdown",
   "metadata": {},
   "source": [
    "Изучим, что происходит с продажами игр на других платформах:"
   ]
  },
  {
   "cell_type": "code",
   "execution_count": 30,
   "metadata": {},
   "outputs": [
    {
     "data": {
      "image/png": "[encoded data removed]",
      "text/plain": [
       "<Figure size 720x432 with 2 Axes>"
      ]
     },
     "metadata": {
      "needs_background": "light"
     },
     "output_type": "display_data"
    }
   ],
   "source": [
    "ds_data = final_games_data.query('platform == \"3DS\"')[['total_sales', 'user_score', 'critic_score']]\n",
    "\n",
    "fig, ax = plt.subplots(figsize=(10, 6))\n",
    "ax = sns.heatmap(ds_data.corr(), annot=True, fmt = '.2g', cmap= 'coolwarm')\n",
    "plt.title('График взаимозависмости объема продаж и оценок критиков и пользователей на платформе 3DS, 2012-2016гг.');"
   ]
  },
  {
   "cell_type": "markdown",
   "metadata": {},
   "source": [
    "Интересно, что для 3DS график получился совсем другим. Тут прямая корреляция продаж с оценками пользователей близка к прямой корреляции с оценкой критиков. А оценки критиков и пользователей очень сильно прямо коррелируют между собой. "
   ]
  },
  {
   "cell_type": "code",
   "execution_count": 31,
   "metadata": {},
   "outputs": [
    {
     "data": {
      "image/png": "[encoded data removed]",
      "text/plain": [
       "<Figure size 720x432 with 2 Axes>"
      ]
     },
     "metadata": {
      "needs_background": "light"
     },
     "output_type": "display_data"
    }
   ],
   "source": [
    "xone_data = final_games_data.query('platform == \"XOne\"')[['total_sales', 'user_score', 'critic_score']]\n",
    "\n",
    "fig, ax = plt.subplots(figsize=(10, 6))\n",
    "ax = sns.heatmap(xone_data.corr(), annot=True, fmt = '.2g', cmap= 'coolwarm')\n",
    "plt.title('График взаимозависмости объема продаж и оценок критиков и пользователей на платформе XOne, 2012-2016гг.');"
   ]
  },
  {
   "cell_type": "markdown",
   "metadata": {},
   "source": [
    "Корреляционный анализ XOne ближе к показателям PS4. Также есть прямая корреляция количества продаж с отзывами критиков, отзывы пользователей похоже прямо коррелируют с отзывами критиков и незначительно обратно коррелируют с количеством продаж. Полагаю, это осбенность связана с тем, что обе платформы находятся в первой части жизненного цикла, они появились лишь в 2012г. В то всермя, как 3DS существует дольше. "
   ]
  },
  {
   "cell_type": "markdown",
   "metadata": {},
   "source": [
    "Построим диаграмму рассеяния:"
   ]
  },
  {
   "cell_type": "code",
   "execution_count": 32,
   "metadata": {},
   "outputs": [
    {
     "data": {
      "image/png": "[encoded data removed]",
      "text/plain": [
       "<Figure size 432x432 with 3 Axes>"
      ]
     },
     "metadata": {
      "needs_background": "light"
     },
     "output_type": "display_data"
    }
   ],
   "source": [
    "g = sns.jointplot(x = 'user_score',y = 'critic_score', data = final_games_data)\n",
    "g.set_axis_labels(\"Оценки пользователей\", \"Оценки критиков\")\n",
    "g.fig.suptitle(\"График взаимозависмости оценок критиков и пользователей, 2012-2016гг.\")\n",
    "plt.show()"
   ]
  },
  {
   "cell_type": "markdown",
   "metadata": {},
   "source": [
    "График показал наличие прямой корреляции между оценками критиков и пользователей. Большинство оценок пересекаются в части 6-8,5 и 72-82."
   ]
  },
  {
   "cell_type": "markdown",
   "metadata": {},
   "source": [
    "Посмотрим на общее распределение игр по жанрам:"
   ]
  },
  {
   "cell_type": "code",
   "execution_count": 33,
   "metadata": {},
   "outputs": [
    {
     "data": {
      "text/plain": [
       "Action          386\n",
       "Role-Playing    144\n",
       "Sports           96\n",
       "Shooter          81\n",
       "Misc             80\n",
       "Adventure        75\n",
       "Racing           40\n",
       "Platform         36\n",
       "Fighting         34\n",
       "Simulation       30\n",
       "Strategy         20\n",
       "Puzzle           14\n",
       "Name: genre, dtype: int64"
      ]
     },
     "execution_count": 33,
     "metadata": {},
     "output_type": "execute_result"
    }
   ],
   "source": [
    "final_games_data['genre'].value_counts()"
   ]
  },
  {
   "cell_type": "markdown",
   "metadata": {},
   "source": [
    "Больше всего игр в жанрах: Action, Role-Playing, Sports, Shooter, Misc. Интересно, какой жанр приносит больше прибыли.    "
   ]
  },
  {
   "cell_type": "code",
   "execution_count": 34,
   "metadata": {},
   "outputs": [
    {
     "data": {
      "image/png": "[encoded data removed]",
      "text/plain": [
       "<Figure size 432x288 with 1 Axes>"
      ]
     },
     "metadata": {
      "needs_background": "light"
     },
     "output_type": "display_data"
    }
   ],
   "source": [
    "genre_data = final_games_data.pivot_table(index='genre', values='total_sales', aggfunc='sum'\n",
    "                            ).sort_values(by = 'total_sales', ascending=False)\n",
    "\n",
    "fig, ax = plt.subplots()\n",
    "genre_data.plot(kind='bar', ax = ax)\n",
    "ax.set(title='График популярности жанров компьютерных игр, 2012-2016гг.', ylabel='Объём продаж, млн $', xlabel=None);"
   ]
  },
  {
   "cell_type": "markdown",
   "metadata": {},
   "source": [
    "Любопытно, что по продажам жанр Shooter обошел Role-Playing и Sports. Самые непопулярные - Puzzle и Strategy. Action лидирует как по количеству разработанных игр, так и по продажам. "
   ]
  },
  {
   "cell_type": "markdown",
   "metadata": {},
   "source": [
    "<div id='step4'/>\n",
    "\n",
    "### Портрет пользователя каждого региона"
   ]
  },
  {
   "cell_type": "markdown",
   "metadata": {},
   "source": [
    "- Самые популярные платформы (топ-5):"
   ]
  },
  {
   "cell_type": "code",
   "execution_count": 35,
   "metadata": {},
   "outputs": [
    {
     "data": {
      "text/html": [
       "<div>\n",
       "<style scoped>\n",
       "    .dataframe tbody tr th:only-of-type {\n",
       "        vertical-align: middle;\n",
       "    }\n",
       "\n",
       "    .dataframe tbody tr th {\n",
       "        vertical-align: top;\n",
       "    }\n",
       "\n",
       "    .dataframe thead th {\n",
       "        text-align: right;\n",
       "    }\n",
       "</style>\n",
       "<table border=\"1\" class=\"dataframe\">\n",
       "  <thead>\n",
       "    <tr style=\"text-align: right;\">\n",
       "      <th></th>\n",
       "      <th>name</th>\n",
       "      <th>platform</th>\n",
       "      <th>year_of_release</th>\n",
       "      <th>genre</th>\n",
       "      <th>na_sales</th>\n",
       "      <th>eu_sales</th>\n",
       "      <th>jp_sales</th>\n",
       "      <th>other_sales</th>\n",
       "      <th>critic_score</th>\n",
       "      <th>user_score</th>\n",
       "      <th>rating</th>\n",
       "      <th>total_sales</th>\n",
       "    </tr>\n",
       "  </thead>\n",
       "  <tbody>\n",
       "    <tr>\n",
       "      <th>105</th>\n",
       "      <td>Fallout 4</td>\n",
       "      <td>PS4</td>\n",
       "      <td>2015</td>\n",
       "      <td>Role-Playing</td>\n",
       "      <td>2.53</td>\n",
       "      <td>3.27</td>\n",
       "      <td>0.24</td>\n",
       "      <td>1.13</td>\n",
       "      <td>87.0</td>\n",
       "      <td>6.5</td>\n",
       "      <td>M</td>\n",
       "      <td>6.04</td>\n",
       "    </tr>\n",
       "  </tbody>\n",
       "</table>\n",
       "</div>"
      ],
      "text/plain": [
       "          name platform  year_of_release         genre  na_sales  eu_sales  \\\n",
       "105  Fallout 4      PS4             2015  Role-Playing      2.53      3.27   \n",
       "\n",
       "     jp_sales  other_sales  critic_score  user_score rating  total_sales  \n",
       "105      0.24         1.13          87.0         6.5      M         6.04  "
      ]
     },
     "execution_count": 35,
     "metadata": {},
     "output_type": "execute_result"
    }
   ],
   "source": [
    "current_games_data.sample()"
   ]
  },
  {
   "cell_type": "code",
   "execution_count": 36,
   "metadata": {},
   "outputs": [
    {
     "data": {
      "text/html": [
       "<div>\n",
       "<style scoped>\n",
       "    .dataframe tbody tr th:only-of-type {\n",
       "        vertical-align: middle;\n",
       "    }\n",
       "\n",
       "    .dataframe tbody tr th {\n",
       "        vertical-align: top;\n",
       "    }\n",
       "\n",
       "    .dataframe thead th {\n",
       "        text-align: right;\n",
       "    }\n",
       "</style>\n",
       "<table border=\"1\" class=\"dataframe\">\n",
       "  <thead>\n",
       "    <tr style=\"text-align: right;\">\n",
       "      <th></th>\n",
       "      <th>platform</th>\n",
       "      <th>na_sales</th>\n",
       "      <th>platform</th>\n",
       "      <th>eu_sales</th>\n",
       "      <th>platform</th>\n",
       "      <th>jp_sales</th>\n",
       "    </tr>\n",
       "  </thead>\n",
       "  <tbody>\n",
       "    <tr>\n",
       "      <th>0</th>\n",
       "      <td>X360</td>\n",
       "      <td>126.83</td>\n",
       "      <td>PS4</td>\n",
       "      <td>113.10</td>\n",
       "      <td>3DS</td>\n",
       "      <td>27.79</td>\n",
       "    </tr>\n",
       "    <tr>\n",
       "      <th>1</th>\n",
       "      <td>PS3</td>\n",
       "      <td>91.59</td>\n",
       "      <td>PS3</td>\n",
       "      <td>94.83</td>\n",
       "      <td>PS3</td>\n",
       "      <td>24.06</td>\n",
       "    </tr>\n",
       "    <tr>\n",
       "      <th>2</th>\n",
       "      <td>PS4</td>\n",
       "      <td>84.97</td>\n",
       "      <td>X360</td>\n",
       "      <td>67.41</td>\n",
       "      <td>WiiU</td>\n",
       "      <td>10.17</td>\n",
       "    </tr>\n",
       "    <tr>\n",
       "      <th>3</th>\n",
       "      <td>XOne</td>\n",
       "      <td>78.49</td>\n",
       "      <td>XOne</td>\n",
       "      <td>43.29</td>\n",
       "      <td>PS4</td>\n",
       "      <td>9.71</td>\n",
       "    </tr>\n",
       "    <tr>\n",
       "      <th>4</th>\n",
       "      <td>WiiU</td>\n",
       "      <td>31.39</td>\n",
       "      <td>PC</td>\n",
       "      <td>32.57</td>\n",
       "      <td>PSV</td>\n",
       "      <td>8.18</td>\n",
       "    </tr>\n",
       "  </tbody>\n",
       "</table>\n",
       "</div>"
      ],
      "text/plain": [
       "  platform  na_sales platform  eu_sales platform  jp_sales\n",
       "0     X360    126.83      PS4    113.10      3DS     27.79\n",
       "1      PS3     91.59      PS3     94.83      PS3     24.06\n",
       "2      PS4     84.97     X360     67.41     WiiU     10.17\n",
       "3     XOne     78.49     XOne     43.29      PS4      9.71\n",
       "4     WiiU     31.39       PC     32.57      PSV      8.18"
      ]
     },
     "execution_count": 36,
     "metadata": {},
     "output_type": "execute_result"
    }
   ],
   "source": [
    "na_games_data = current_games_data.groupby(['platform', 'genre', 'rating']).agg({'na_sales':'sum'}).reset_index()\n",
    "na_games_data_platform = na_games_data.pivot_table(index='platform', values='na_sales', aggfunc='sum'\n",
    "                            ).sort_values(by = 'na_sales', ascending=False).head(5)\n",
    "\n",
    "eu_games_data = current_games_data.groupby(['platform', 'genre', 'rating']).agg({'eu_sales':'sum'}).reset_index()\n",
    "eu_games_data_platform = eu_games_data.pivot_table(index='platform', values='eu_sales', aggfunc='sum'\n",
    "                            ).sort_values(by = 'eu_sales', ascending=False).head(5)\n",
    "\n",
    "jp_games_data = current_games_data.groupby(['platform', 'genre', 'rating']).agg({'jp_sales':'sum'}).reset_index()\n",
    "jp_games_data_platform = jp_games_data.pivot_table(index='platform', values='jp_sales', aggfunc='sum'\n",
    "                            ).sort_values(by = 'jp_sales', ascending=False).head(5)\n",
    "\n",
    "pd.concat([na_games_data_platform.reset_index(), \n",
    "           eu_games_data_platform.reset_index(), \n",
    "           jp_games_data_platform.reset_index()], axis=1)"
   ]
  },
  {
   "cell_type": "code",
   "execution_count": 37,
   "metadata": {},
   "outputs": [
    {
     "data": {
      "image/png": "[encoded data removed]",
      "text/plain": [
       "<Figure size 432x288 with 3 Axes>"
      ]
     },
     "metadata": {
      "needs_background": "light"
     },
     "output_type": "display_data"
    }
   ],
   "source": [
    "fig, ax = plt.subplots(nrows=1, ncols=3, sharey=True)\n",
    "na_games_data_platform.plot(kind='bar', ax = ax[0])\n",
    "ax[0].set(ylabel='Объём продаж, млн $', xlabel='Северная Америка (NA)')\n",
    "eu_games_data_platform.plot(kind='bar', ax = ax[1])\n",
    "ax[1].set(xlabel='Европа (EU)')\n",
    "jp_games_data_platform.plot(kind='bar', ax = ax[2])\n",
    "ax[2].set(xlabel='Япония (JP)')\n",
    "fig.suptitle('График популярности игровых платформ в отдельных регионах, 2012-2016гг.')\n",
    "fig.legend().set_visible(False) "
   ]
  },
  {
   "cell_type": "markdown",
   "metadata": {},
   "source": [
    "В Северной Америке популярнее всего Х360, PS4, PS3, ХОne, WiiU."
   ]
  },
  {
   "cell_type": "markdown",
   "metadata": {},
   "source": [
    "В Европе - PS4, PS3, X360, XOne, PC."
   ]
  },
  {
   "cell_type": "markdown",
   "metadata": {},
   "source": [
    "В Японии - 3DS, PS3, WiiU, PS4, PSV.\n",
    "\n",
    "Можно сделать вывод, что есть всемирно популярные платформы, такие как PS4, PS3, а есть те, которые популярны в паре регионов. Например, в Америке и Европе популярны Х360 и ХОne, в Америке и Японии любят WiiU. Также есть региональные платформы, такие как РС в Европе и 3DS и PSV в Японии. "
   ]
  },
  {
   "cell_type": "markdown",
   "metadata": {},
   "source": [
    "- Самые популярные жанры (топ-5):"
   ]
  },
  {
   "cell_type": "code",
   "execution_count": 38,
   "metadata": {},
   "outputs": [
    {
     "data": {
      "text/html": [
       "<div>\n",
       "<style scoped>\n",
       "    .dataframe tbody tr th:only-of-type {\n",
       "        vertical-align: middle;\n",
       "    }\n",
       "\n",
       "    .dataframe tbody tr th {\n",
       "        vertical-align: top;\n",
       "    }\n",
       "\n",
       "    .dataframe thead th {\n",
       "        text-align: right;\n",
       "    }\n",
       "</style>\n",
       "<table border=\"1\" class=\"dataframe\">\n",
       "  <thead>\n",
       "    <tr style=\"text-align: right;\">\n",
       "      <th></th>\n",
       "      <th>genre</th>\n",
       "      <th>na_sales</th>\n",
       "      <th>genre</th>\n",
       "      <th>eu_sales</th>\n",
       "      <th>genre</th>\n",
       "      <th>jp_sales</th>\n",
       "    </tr>\n",
       "  </thead>\n",
       "  <tbody>\n",
       "    <tr>\n",
       "      <th>0</th>\n",
       "      <td>Action</td>\n",
       "      <td>157.47</td>\n",
       "      <td>Action</td>\n",
       "      <td>141.95</td>\n",
       "      <td>Action</td>\n",
       "      <td>23.41</td>\n",
       "    </tr>\n",
       "    <tr>\n",
       "      <th>1</th>\n",
       "      <td>Shooter</td>\n",
       "      <td>124.93</td>\n",
       "      <td>Shooter</td>\n",
       "      <td>96.24</td>\n",
       "      <td>Role-Playing</td>\n",
       "      <td>19.99</td>\n",
       "    </tr>\n",
       "    <tr>\n",
       "      <th>2</th>\n",
       "      <td>Sports</td>\n",
       "      <td>80.06</td>\n",
       "      <td>Sports</td>\n",
       "      <td>65.61</td>\n",
       "      <td>Shooter</td>\n",
       "      <td>8.14</td>\n",
       "    </tr>\n",
       "    <tr>\n",
       "      <th>3</th>\n",
       "      <td>Role-Playing</td>\n",
       "      <td>37.92</td>\n",
       "      <td>Role-Playing</td>\n",
       "      <td>29.75</td>\n",
       "      <td>Platform</td>\n",
       "      <td>7.97</td>\n",
       "    </tr>\n",
       "    <tr>\n",
       "      <th>4</th>\n",
       "      <td>Misc</td>\n",
       "      <td>24.28</td>\n",
       "      <td>Racing</td>\n",
       "      <td>21.48</td>\n",
       "      <td>Simulation</td>\n",
       "      <td>7.35</td>\n",
       "    </tr>\n",
       "  </tbody>\n",
       "</table>\n",
       "</div>"
      ],
      "text/plain": [
       "          genre  na_sales         genre  eu_sales         genre  jp_sales\n",
       "0        Action    157.47        Action    141.95        Action     23.41\n",
       "1       Shooter    124.93       Shooter     96.24  Role-Playing     19.99\n",
       "2        Sports     80.06        Sports     65.61       Shooter      8.14\n",
       "3  Role-Playing     37.92  Role-Playing     29.75      Platform      7.97\n",
       "4          Misc     24.28        Racing     21.48    Simulation      7.35"
      ]
     },
     "execution_count": 38,
     "metadata": {},
     "output_type": "execute_result"
    }
   ],
   "source": [
    "na_games_data_genre = na_games_data.pivot_table(index='genre', values='na_sales', aggfunc='sum'\n",
    "                            ).sort_values(by = 'na_sales', ascending=False).head(5)\n",
    "eu_games_data_genre = eu_games_data.pivot_table(index='genre', values='eu_sales', aggfunc='sum'\n",
    "                            ).sort_values(by = 'eu_sales', ascending=False).head(5)\n",
    "jp_games_data_genre = jp_games_data.pivot_table(index='genre', values='jp_sales', aggfunc='sum'\n",
    "                            ).sort_values(by = 'jp_sales', ascending=False).head(5)\n",
    "\n",
    "pd.concat([na_games_data_genre.reset_index(), \n",
    "           eu_games_data_genre.reset_index(), \n",
    "           jp_games_data_genre.reset_index()], axis=1)"
   ]
  },
  {
   "cell_type": "code",
   "execution_count": 39,
   "metadata": {},
   "outputs": [
    {
     "data": {
      "image/png": "[encoded data removed]",
      "text/plain": [
       "<Figure size 432x288 with 3 Axes>"
      ]
     },
     "metadata": {
      "needs_background": "light"
     },
     "output_type": "display_data"
    }
   ],
   "source": [
    "fig, ax = plt.subplots(nrows=1, ncols=3, sharey=True)\n",
    "na_games_data_genre.plot(kind='bar', ax = ax[0])\n",
    "ax[0].set(ylabel='Объём продаж, млн $', xlabel='Северная Америка (NA)')\n",
    "eu_games_data_genre.plot(kind='bar', ax = ax[1])\n",
    "ax[1].set(xlabel='Европа (EU)')\n",
    "jp_games_data_genre.plot(kind='bar', ax = ax[2])\n",
    "ax[2].set(xlabel='Япония (JP)')\n",
    "fig.suptitle('График популярности жанров компьютерных игр в отдельных регионах, 2012-2016гг.')\n",
    "fig.legend().set_visible(False) "
   ]
  },
  {
   "cell_type": "markdown",
   "metadata": {},
   "source": [
    "Самые популярные жанры в Северной Америке - Action, Shooter, Sports, Role-Playing, Misc."
   ]
  },
  {
   "cell_type": "markdown",
   "metadata": {},
   "source": [
    "Самые популярные жанры в Европе - Action, Shooter, Sports, Role-Playing, Racing."
   ]
  },
  {
   "cell_type": "markdown",
   "metadata": {},
   "source": [
    "Самые популярные жанры в Японии - Action, Role-Playing, Shooter, Platform, Simulation.\n",
    "\n",
    "В Северной Америке и Европе распределение по жанрам очень похоже: Action, Shooter, Sports, Role-Playing, за исключением пятой позиции. \n",
    "В Японии жанры распределяются совсем иначе. Action на первом месте, как и везде, а потом - Role-Playing, его любят почти так же. Появились два региональных жанра Platform, Simulation, которые также популярны как Shooter. "
   ]
  },
  {
   "cell_type": "markdown",
   "metadata": {},
   "source": [
    "- Влияет ли рейтинг ESRB на продажи в отдельном регионе?"
   ]
  },
  {
   "cell_type": "code",
   "execution_count": 40,
   "metadata": {},
   "outputs": [
    {
     "data": {
      "text/html": [
       "<div>\n",
       "<style scoped>\n",
       "    .dataframe tbody tr th:only-of-type {\n",
       "        vertical-align: middle;\n",
       "    }\n",
       "\n",
       "    .dataframe tbody tr th {\n",
       "        vertical-align: top;\n",
       "    }\n",
       "\n",
       "    .dataframe thead th {\n",
       "        text-align: right;\n",
       "    }\n",
       "</style>\n",
       "<table border=\"1\" class=\"dataframe\">\n",
       "  <thead>\n",
       "    <tr style=\"text-align: right;\">\n",
       "      <th></th>\n",
       "      <th>rating</th>\n",
       "      <th>na_sales</th>\n",
       "      <th>rating</th>\n",
       "      <th>eu_sales</th>\n",
       "      <th>rating</th>\n",
       "      <th>jp_sales</th>\n",
       "    </tr>\n",
       "  </thead>\n",
       "  <tbody>\n",
       "    <tr>\n",
       "      <th>0</th>\n",
       "      <td>M</td>\n",
       "      <td>231.67</td>\n",
       "      <td>M</td>\n",
       "      <td>194.44</td>\n",
       "      <td>E</td>\n",
       "      <td>28.33</td>\n",
       "    </tr>\n",
       "    <tr>\n",
       "      <th>1</th>\n",
       "      <td>E</td>\n",
       "      <td>114.37</td>\n",
       "      <td>E</td>\n",
       "      <td>113.03</td>\n",
       "      <td>T</td>\n",
       "      <td>26.02</td>\n",
       "    </tr>\n",
       "    <tr>\n",
       "      <th>2</th>\n",
       "      <td>E10+</td>\n",
       "      <td>77.93</td>\n",
       "      <td>E10+</td>\n",
       "      <td>57.25</td>\n",
       "      <td>M</td>\n",
       "      <td>21.20</td>\n",
       "    </tr>\n",
       "    <tr>\n",
       "      <th>3</th>\n",
       "      <td>T</td>\n",
       "      <td>66.02</td>\n",
       "      <td>T</td>\n",
       "      <td>52.96</td>\n",
       "      <td>E10+</td>\n",
       "      <td>8.19</td>\n",
       "    </tr>\n",
       "  </tbody>\n",
       "</table>\n",
       "</div>"
      ],
      "text/plain": [
       "  rating  na_sales rating  eu_sales rating  jp_sales\n",
       "0      M    231.67      M    194.44      E     28.33\n",
       "1      E    114.37      E    113.03      T     26.02\n",
       "2   E10+     77.93   E10+     57.25      M     21.20\n",
       "3      T     66.02      T     52.96   E10+      8.19"
      ]
     },
     "execution_count": 40,
     "metadata": {},
     "output_type": "execute_result"
    }
   ],
   "source": [
    "na_games_data_rating = na_games_data.pivot_table(index='rating', values='na_sales', aggfunc='sum'\n",
    "                            ).sort_values(by = 'na_sales', ascending=False)\n",
    "eu_games_data_rating = eu_games_data.pivot_table(index='rating', values='eu_sales', aggfunc='sum'\n",
    "                            ).sort_values(by = 'eu_sales', ascending=False)\n",
    "jp_games_data_rating = jp_games_data.pivot_table(index='rating', values='jp_sales', aggfunc='sum'\n",
    "                            ).sort_values(by = 'jp_sales', ascending=False)\n",
    "\n",
    "pd.concat([na_games_data_rating.reset_index(), \n",
    "           eu_games_data_rating.reset_index(), \n",
    "           jp_games_data_rating.reset_index()], axis=1)"
   ]
  },
  {
   "cell_type": "code",
   "execution_count": 41,
   "metadata": {},
   "outputs": [
    {
     "data": {
      "image/png": "[encoded data removed]",
      "text/plain": [
       "<Figure size 432x288 with 3 Axes>"
      ]
     },
     "metadata": {
      "needs_background": "light"
     },
     "output_type": "display_data"
    }
   ],
   "source": [
    "fig, ax = plt.subplots(nrows=1, ncols=3, sharey=True)\n",
    "na_games_data_rating.plot(kind='bar', ax = ax[0])\n",
    "ax[0].set(ylabel='Объём продаж, млн $', xlabel='Северная Америка (NA)')\n",
    "eu_games_data_rating.plot(kind='bar', ax = ax[1])\n",
    "ax[1].set(xlabel='Европа (EU)')\n",
    "jp_games_data_rating.plot(kind='bar', ax = ax[2])\n",
    "ax[2].set(xlabel='Япония (JP)')\n",
    "fig.suptitle('График популярности компьютерных игр по рейтингу ESRB в отдельных регионах, 2012-2016гг.')\n",
    "fig.legend().set_visible(False) "
   ]
  },
  {
   "cell_type": "markdown",
   "metadata": {},
   "source": [
    "В Северной Америке большинство продаж у игр с рейтингом М, потом Е, Е10+ и Т."
   ]
  },
  {
   "cell_type": "markdown",
   "metadata": {},
   "source": [
    "В Европе большинство продаж у игр с рейтингом М, потом Е, Е10+ и Т."
   ]
  },
  {
   "cell_type": "markdown",
   "metadata": {},
   "source": [
    "В Японии игры с рейтингом Е, Т, и М идут друг за другом с небольшим отставанием, потом Е10+.\n",
    "\n",
    "Это принципиальное отличие от североамериканского и европейского рынков. Там большинство продаж у игр с рейтингом М, потом Е (причем почти в два раза меньше), Е10+ и Т (почти в одинаковых количествах).  "
   ]
  },
  {
   "cell_type": "markdown",
   "metadata": {},
   "source": [
    "<div id='step5'/>\n",
    "\n",
    "### Проверка гипотез"
   ]
  },
  {
   "cell_type": "markdown",
   "metadata": {},
   "source": [
    "- Средние пользовательские рейтинги платформ Xbox One и PC одинаковые;"
   ]
  },
  {
   "cell_type": "markdown",
   "metadata": {},
   "source": [
    "Для того, чтобы проверить эту гипотезу, я сопоставлю выборки по указанным платформам за актуальный период. Прежде чем производить расчет я хочу выяснить, насколько данные выборок схожи по своему объему."
   ]
  },
  {
   "cell_type": "code",
   "execution_count": 42,
   "metadata": {},
   "outputs": [
    {
     "data": {
      "text/html": [
       "<div>\n",
       "<style scoped>\n",
       "    .dataframe tbody tr th:only-of-type {\n",
       "        vertical-align: middle;\n",
       "    }\n",
       "\n",
       "    .dataframe tbody tr th {\n",
       "        vertical-align: top;\n",
       "    }\n",
       "\n",
       "    .dataframe thead th {\n",
       "        text-align: right;\n",
       "    }\n",
       "</style>\n",
       "<table border=\"1\" class=\"dataframe\">\n",
       "  <thead>\n",
       "    <tr style=\"text-align: right;\">\n",
       "      <th></th>\n",
       "      <th>name</th>\n",
       "      <th>platform</th>\n",
       "      <th>year_of_release</th>\n",
       "      <th>genre</th>\n",
       "      <th>na_sales</th>\n",
       "      <th>eu_sales</th>\n",
       "      <th>jp_sales</th>\n",
       "      <th>other_sales</th>\n",
       "      <th>critic_score</th>\n",
       "      <th>user_score</th>\n",
       "      <th>rating</th>\n",
       "      <th>total_sales</th>\n",
       "    </tr>\n",
       "  </thead>\n",
       "  <tbody>\n",
       "    <tr>\n",
       "      <th>14761</th>\n",
       "      <td>Diabolik Lovers: Lunatic Parade</td>\n",
       "      <td>PSV</td>\n",
       "      <td>2016</td>\n",
       "      <td>Adventure</td>\n",
       "      <td>0.0</td>\n",
       "      <td>0.0</td>\n",
       "      <td>0.03</td>\n",
       "      <td>0.0</td>\n",
       "      <td>NaN</td>\n",
       "      <td>NaN</td>\n",
       "      <td>NaN</td>\n",
       "      <td>0.03</td>\n",
       "    </tr>\n",
       "  </tbody>\n",
       "</table>\n",
       "</div>"
      ],
      "text/plain": [
       "                                  name platform  year_of_release      genre  \\\n",
       "14761  Diabolik Lovers: Lunatic Parade      PSV             2016  Adventure   \n",
       "\n",
       "       na_sales  eu_sales  jp_sales  other_sales  critic_score  user_score  \\\n",
       "14761       0.0       0.0      0.03          0.0           NaN         NaN   \n",
       "\n",
       "      rating  total_sales  \n",
       "14761    NaN         0.03  "
      ]
     },
     "execution_count": 42,
     "metadata": {},
     "output_type": "execute_result"
    }
   ],
   "source": [
    "current_games_data.sample()"
   ]
  },
  {
   "cell_type": "code",
   "execution_count": 43,
   "metadata": {},
   "outputs": [
    {
     "data": {
      "text/plain": [
       "0"
      ]
     },
     "execution_count": 43,
     "metadata": {},
     "output_type": "execute_result"
    }
   ],
   "source": [
    "xone_data = current_games_data.query('platform == \"XOne\"')\n",
    "xone_data = xone_data[xone_data['user_score'].notnull()]\n",
    "xone_data['user_score'].isna().sum()"
   ]
  },
  {
   "cell_type": "code",
   "execution_count": 44,
   "metadata": {},
   "outputs": [
    {
     "data": {
      "text/plain": [
       "182"
      ]
     },
     "execution_count": 44,
     "metadata": {},
     "output_type": "execute_result"
    }
   ],
   "source": [
    "xone_data['user_score'].count()"
   ]
  },
  {
   "cell_type": "code",
   "execution_count": 45,
   "metadata": {},
   "outputs": [
    {
     "data": {
      "text/plain": [
       "0"
      ]
     },
     "execution_count": 45,
     "metadata": {},
     "output_type": "execute_result"
    }
   ],
   "source": [
    "pc_data = current_games_data.query('platform == \"PC\"')\n",
    "pc_data = pc_data[pc_data['user_score'].notnull()]\n",
    "pc_data['user_score'].isna().sum()"
   ]
  },
  {
   "cell_type": "code",
   "execution_count": 46,
   "metadata": {},
   "outputs": [
    {
     "data": {
      "text/plain": [
       "211"
      ]
     },
     "execution_count": 46,
     "metadata": {},
     "output_type": "execute_result"
    }
   ],
   "source": [
    "pc_data['user_score'].count()"
   ]
  },
  {
   "cell_type": "markdown",
   "metadata": {},
   "source": [
    "Для статистического анализа я использую метод проверки гипотез о равенстве среднего двух генеральных совокупностей по взятым из них выборкам.\n",
    "Нулевая гипотеза будет звучать так: \n",
    "**\"Средние пользовательские рейтинги платформ Xbox One и PC не различаются\"**. Выборки близки по объему, поэтому я укажу `equal_var=True`."
   ]
  },
  {
   "cell_type": "code",
   "execution_count": 47,
   "metadata": {},
   "outputs": [
    {
     "name": "stdout",
     "output_type": "stream",
     "text": [
      "p-значение: 0.6252774522173157\n",
      "Не получилось отвергнуть нулевую гипотезу\n"
     ]
    }
   ],
   "source": [
    "xone_data = xone_data['user_score']\n",
    "pc_data = pc_data['user_score']\n",
    "alpha = 0.05\n",
    "\n",
    "results = st.ttest_ind(xone_data, pc_data)\n",
    "\n",
    "print('p-значение:', results.pvalue)\n",
    "\n",
    "if (results.pvalue < alpha):\n",
    "    print(\"Отвергаем нулевую гипотезу\")\n",
    "else:\n",
    "    print(\"Не получилось отвергнуть нулевую гипотезу\")"
   ]
  },
  {
   "cell_type": "markdown",
   "metadata": {},
   "source": [
    "Нулевая гипотеза: \"Средние пользовательские рейтинги платформ Xbox One и PC не различаются\" - не была отвергнута. \n",
    "Следовательно, можно утверждать, что \"Средние пользовательские рейтинги платформ Xbox One и PC одинаковые\". "
   ]
  },
  {
   "cell_type": "markdown",
   "metadata": {},
   "source": [
    "- Средние пользовательские рейтинги жанров Action и Sports разные."
   ]
  },
  {
   "cell_type": "markdown",
   "metadata": {},
   "source": [
    "Для того, чтобы проверить эту гипотезу, я сопоставлю выборки по жанрам `Action` и `Sports` за актуальный период. Прежде чем производить расчет я хочу выяснить, насколько данные выборок схожи по своему объему."
   ]
  },
  {
   "cell_type": "code",
   "execution_count": 48,
   "metadata": {},
   "outputs": [
    {
     "data": {
      "text/plain": [
       "0"
      ]
     },
     "execution_count": 48,
     "metadata": {},
     "output_type": "execute_result"
    }
   ],
   "source": [
    "action_data = current_games_data.query('genre == \"Action\"')\n",
    "action_data = action_data[action_data['user_score'].notnull()]\n",
    "action_data['user_score'].isna().sum()"
   ]
  },
  {
   "cell_type": "code",
   "execution_count": 49,
   "metadata": {},
   "outputs": [
    {
     "data": {
      "text/plain": [
       "531"
      ]
     },
     "execution_count": 49,
     "metadata": {},
     "output_type": "execute_result"
    }
   ],
   "source": [
    "action_data['user_score'].count()"
   ]
  },
  {
   "cell_type": "code",
   "execution_count": 50,
   "metadata": {},
   "outputs": [
    {
     "data": {
      "text/plain": [
       "0"
      ]
     },
     "execution_count": 50,
     "metadata": {},
     "output_type": "execute_result"
    }
   ],
   "source": [
    "sports_data = current_games_data.query('genre == \"Sports\"')\n",
    "sports_data = sports_data[sports_data['user_score'].notnull()]\n",
    "sports_data['user_score'].isna().sum()"
   ]
  },
  {
   "cell_type": "code",
   "execution_count": 51,
   "metadata": {},
   "outputs": [
    {
     "data": {
      "text/plain": [
       "195"
      ]
     },
     "execution_count": 51,
     "metadata": {},
     "output_type": "execute_result"
    }
   ],
   "source": [
    "sports_data['user_score'].count()"
   ]
  },
  {
   "cell_type": "markdown",
   "metadata": {},
   "source": [
    "Я снова использую метод проверки гипотез о равенстве среднего двух генеральных совокупностей по взятым из них выборкам. Объем выборок разный, поэтому я укажу `equal_var=False`.\n",
    "Нулевая гипотеза будет звучать так: \n",
    "**\"Средние пользовательские рейтинги жанров Action и Sports не различаются\"**."
   ]
  },
  {
   "cell_type": "code",
   "execution_count": 52,
   "metadata": {},
   "outputs": [
    {
     "name": "stdout",
     "output_type": "stream",
     "text": [
      "p-значение: 2.337200239591976e-20\n",
      "Отвергаем нулевую гипотезу\n"
     ]
    }
   ],
   "source": [
    "action_data = action_data['user_score']\n",
    "sports_data = sports_data['user_score']\n",
    "alpha = 0.05\n",
    "\n",
    "results = st.ttest_ind(action_data, sports_data, equal_var = False)\n",
    "\n",
    "print('p-значение:', results.pvalue)\n",
    "\n",
    "if (results.pvalue < alpha):\n",
    "    print(\"Отвергаем нулевую гипотезу\")\n",
    "else:\n",
    "    print(\"Не получилось отвергнуть нулевую гипотезу\")"
   ]
  },
  {
   "cell_type": "markdown",
   "metadata": {},
   "source": [
    "Нулевая гипотеза: \"Средние пользовательские рейтинги жанров Action и Sports не различаются\" - была отвергнута. Следовательно, альтернативная гипотеза \"Средние пользовательские рейтинги жанров Action и Sports разные\" получает подтверждение. "
   ]
  },
  {
   "cell_type": "markdown",
   "metadata": {},
   "source": [
    "<div id='step6'/>\n",
    "\n",
    "## Общий вывод"
   ]
  },
  {
   "cell_type": "markdown",
   "metadata": {},
   "source": [
    "#### Задача: проанализировать исторические данные о компьютерных играх, взятые из открытых источников. Данные представлены по 2016г. включительно.\n",
    "#### Цель: выявить определяющие успешность игры закономерности. \n",
    "---\n",
    "\n"
   ]
  },
  {
   "cell_type": "markdown",
   "metadata": {},
   "source": [
    "Моей задачей было проанализировать таблицу с  данными о продажах игр, их оценками пользователей и экспертов, жанрами и платформами за  36 лет (с 1980 по 2016 гг.). \n",
    "В ходе подготовки данных я восстановила необходимые пропущенные значения в столбце `‘year_of_release’` , привела данные к соответствующим типам, создала столбец `‘total_sales’` с данными о глобальных продажах, привела названия столбцов к нижнему регистру для удобства работы. \n",
    "\n",
    "#### Исследовательский анализ\n",
    "\n",
    "Цель работы – выявить закономерности высоких продаж, чтобы спланировать рекламные компании интернет-магазина на будущий 2017 г. Я проанализировала данные о количестве выпускавшихся игр с 1980 г., чтобы выбрать актуальный временной отрезок для более подробного анализа. Очевидно, что не стоит в 2016 г. ориентироваться на критерии успешности 1995 г. С 2012 г. количество выпускаемых игр резко сократилось, поэтому для дальнейшего анализа я решила использовать срез данных с 2012 по 2016 годы включительно. \n",
    "\n",
    "Далее я изучила данные по 6 самым популярным платформам – продажи на каждой из них составили более 600 млн. долларов. Оказалось, что жизненный цикл платформы  -  10 лет, а основную массу денег они приносят в течение примерно 6 лет после первого существенного прорыва. Потом прибыль снижается и они умирают. \n",
    "Ориентируясь на свои выводы о жизненном цикле платформ, я проанализировала актуальную временную выборку. Из 11 платформ потенциально интересными  мне показались три - PS4, XOne, 3DS. Остальные либо уже находятся в конце своего жизненного цикла, либо недостаточно популярны.\n",
    "\n",
    "С помощью графика  «ящик с усами» я рассмотрела глобальные продажи игр с разбивкой по этим платформам. Максимальные продажи выше 12 млн. есть у 3DS и PS4. У XOne максимум -  6.7 млн. В остальном продажи у PS4 и XOne очень похожи: по верхней границе усов (до 1.5 млн.), квартилям,  медиане около 0.2 млн. 3DS, наоборот, сильно выделяется низкой верхней границей усов в 0.7 млн. и вдвое меньшей медианой в 0.1 млн. Предположу, что это происходит потому, что 3DS выпускает много дешевых или непопулярных игр. \n",
    "\n",
    "С помощью корреляционного анализа я изучила, как влияют на продажи внутри  платформ отзывы пользователей и критиков. У PS4 и XOne есть прямая корреляция количества продаж с отзывами критиков, отзывы пользователей прямо коррелируют с отзывами критиков и незначительно обратно коррелируют с количеством продаж. В то время как у 3DS прямая корреляция продаж с оценками пользователей близка к прямой корреляции с оценкой критиков. А оценки критиков и пользователей очень сильно прямо коррелируют между собой. Больше всего оценок пересекаются в диапазоне 70-80 (критики) и 6-8.5 (пользователи).\n",
    "\n",
    "Среди жанров больше всего игр в Action, Role-Playing, Sports, Shooter, Misc. Самые продаваемые – Action, Shooter, Role-Playing и Sports. Самые непопулярные - Puzzle и Strategy. \n",
    "\n",
    "#### Анализ по регионам (NA, EU, JP). \n",
    "- Самые популярные платформы (топ-5). \n",
    "В Северной Америке популярнее всего Х360, PS4, PS3, ХОne, WiiU. В Европе - PS4, PS3, X360, XOne, PC. В Японии - 3DS, PS3, WiiU, PS4, PSV. \n",
    "Можно сделать вывод, что есть всемирно популярные платформы, такие как PS4, PS3, а есть те, которые популярны в паре регионов. Например, в Америке и Европе популярны Х360 и ХОne, в Америке и Японии любят WiiU. Также есть региональные платформы, такие как РС в Европе и 3DS и PSV в Японии.\n",
    "- Самые популярные жанры (топ-5).\n",
    "Самые популярные жанры в Северной Америке - Action, Shooter, Sports, Role-Playing, Misc. В Европе - Action, Shooter, Sports, Role-Playing, Racing. В Японии - Action, Role-Playing, Shooter, Platform, Simulation.\n",
    "В Северной Америке и Европе распределение по жанрам очень похоже: Action, Shooter, Sports, Role-Playing, за исключением пятой позиции. \n",
    "В Японии жанры распределяются совсем иначе. Action на первом месте, как и везде, а потом - Role-Playing, его любят почти так же. Появились два региональных жанра Platform, Simulation, которые также популярны как Shooter.\n",
    "- Влияет ли рейтинг ESRB на продажи в отдельном регионе?\n",
    "В Северной Америке большинство продаж у игр с рейтингом М, потом Е, Е10+ и Т. В Европе большинство продаж у игр с рейтингом М, потом Е, Е10+ и Т. В Японии игры с рейтингом Е, Т, и М идут друг за другом с небольшим отставанием, потом Е10+. \n",
    "Японский рынок принципиально отличается от североамериканского и европейского, которые, наоборот очень похожи между собой. \n",
    "Следовательно, необходимо учитывать рейтинг ESRB при раскрутке игр, в зависимости от региона продаж.\n",
    "\n",
    "#### Проверка гипотез.\n",
    "- Средние пользовательские рейтинги платформ Xbox One и PC одинаковые;\n",
    "- Средние пользовательские рейтинги жанров Action (англ. «действие», экшен-игры) и Sports (англ. «спортивные соревнования») разные.\n",
    "\n",
    "В обоих случаях я использовала метод проверки гипотез о равенстве среднего двух генеральных совокупностей по взятым из них выборкам. \n",
    "Гипотеза «Средние пользовательские рейтинги платформ Xbox One и PC одинаковые» подтвердилась.  \n",
    "Гипотеза \"Средние пользовательские рейтинги жанров Action и Sports разные\" также получила  подтверждение.\n",
    "\n",
    "#### *Вот ряд определяющих успешность игры закономерностей, по результатам анализа среза данных за 2012-2016 гг.* \n",
    "- *следует учитывать регион, в котором планируется продажа игр. Северная Америка и Европа во многом похожа, у Японии есть ряд особенностей, на которые следует обратить внимание. Это касается популярности платформ, жанров, рейтинга ESRB.*\n",
    "- *необходимо учитывать жизненный цикл платформ – 10 лет, 6 лет основной прибыли. Потенциально интересные платформы на настоящий момент - PS4, XOne, 3DS.*\n",
    "- *продажи прямо коррелируют с оценками критиков и пользователей, оценки критиков и пользователей тоже прямо коррелируют друг с другом.* \n",
    "- *самый популярные глобальные жанры – Action, Shooter, Sports, Role-Playing.*\n"
   ]
  }
 ],
 "metadata": {
  "kernelspec": {
   "display_name": "Python 3",
   "language": "python",
   "name": "python3"
  },
  "language_info": {
   "codemirror_mode": {
    "name": "ipython",
    "version": 3
   },
   "file_extension": ".py",
   "mimetype": "text/x-python",
   "name": "python",
   "nbconvert_exporter": "python",
   "pygments_lexer": "ipython3",
   "version": "3.7.6"
  }
 },
 "nbformat": 4,
 "nbformat_minor": 4
}

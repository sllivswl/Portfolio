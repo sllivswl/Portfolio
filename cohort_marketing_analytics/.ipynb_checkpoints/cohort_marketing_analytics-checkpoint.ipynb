{
 "cells": [
  {
   "cell_type": "markdown",
   "metadata": {},
   "source": [
    "# Аналитика для маркетинга"
   ]
  },
  {
   "cell_type": "markdown",
   "metadata": {},
   "source": [
    "**Задача**: проанализировать данные с сайта-афиши с июня 2017 по конец мая 2018 года и помочь маркетологам оптимизировать маркетинговые затраты.\n",
    "\n",
    "**Цель**: Дать рекомендации маркетологам, куда и сколько им стоит вкладывать денег.\n",
    "\n",
    "Данные представлены в виде трех таблиц:\n",
    "- лог сервера с данными о посещениях сайта-афиши,\n",
    "- выгрузка всех заказов за этот период,\n",
    "- статистика рекламных расходов."
   ]
  },
  {
   "cell_type": "markdown",
   "metadata": {},
   "source": [
    "### План работы над проектом\n",
    "1. [Импорт и подготовка данных](#step1); \n",
    "3. [Подготовка отчетов и расчет метрик](#step2);\n",
    "    - [Продукт](#step3);\n",
    "    - [Продажи](#step4);\n",
    "    - [Маркетинг](#step5);\n",
    "5. [Общий вывод](#step6)."
   ]
  },
  {
   "cell_type": "code",
   "execution_count": 1,
   "metadata": {},
   "outputs": [],
   "source": [
    "import pandas as pd\n",
    "import numpy as np\n",
    "import matplotlib.pyplot as plt\n",
    "import seaborn as sns"
   ]
  },
  {
   "cell_type": "markdown",
   "metadata": {},
   "source": [
    "<div id='step1'/>\n",
    "\n",
    "### 1. Импорт и подготовка данных "
   ]
  },
  {
   "cell_type": "code",
   "execution_count": 2,
   "metadata": {},
   "outputs": [],
   "source": [
    "visits_data = pd.read_csv('visits_log.csv')\n",
    "orders_data = pd.read_csv('orders_log.csv')\n",
    "costs_data = pd.read_csv('costs.csv')"
   ]
  },
  {
   "cell_type": "code",
   "execution_count": 3,
   "metadata": {},
   "outputs": [
    {
     "name": "stdout",
     "output_type": "stream",
     "text": [
      "<class 'pandas.core.frame.DataFrame'>\n",
      "RangeIndex: 359400 entries, 0 to 359399\n",
      "Data columns (total 5 columns):\n",
      " #   Column     Non-Null Count   Dtype \n",
      "---  ------     --------------   ----- \n",
      " 0   Device     359400 non-null  object\n",
      " 1   End Ts     359400 non-null  object\n",
      " 2   Source Id  359400 non-null  int64 \n",
      " 3   Start Ts   359400 non-null  object\n",
      " 4   Uid        359400 non-null  uint64\n",
      "dtypes: int64(1), object(3), uint64(1)\n",
      "memory usage: 13.7+ MB\n",
      "--------------------------------------\n",
      "Дубликаты:\n",
      "0 дубликатов\n",
      "--------------------------------------\n",
      "Пропуски:\n",
      "Device       0.0\n",
      "End Ts       0.0\n",
      "Source Id    0.0\n",
      "Start Ts     0.0\n",
      "Uid          0.0\n",
      "dtype: float64\n",
      "--------------------------------------\n",
      "Начало таблицы\n",
      "    Device               End Ts  Source Id             Start Ts  \\\n",
      "0    touch  2017-12-20 17:38:00          4  2017-12-20 17:20:00   \n",
      "1  desktop  2018-02-19 17:21:00          2  2018-02-19 16:53:00   \n",
      "2    touch  2017-07-01 01:54:00          5  2017-07-01 01:54:00   \n",
      "3  desktop  2018-05-20 11:23:00          9  2018-05-20 10:59:00   \n",
      "4  desktop  2017-12-27 14:06:00          3  2017-12-27 14:06:00   \n",
      "\n",
      "                    Uid  \n",
      "0  16879256277535980062  \n",
      "1    104060357244891740  \n",
      "2   7459035603376831527  \n",
      "3  16174680259334210214  \n",
      "4   9969694820036681168  \n",
      "--------------------------------------\n",
      "Конец таблицы\n",
      "         Device               End Ts  Source Id             Start Ts  \\\n",
      "359395  desktop  2017-07-29 19:07:19          2  2017-07-29 19:07:00   \n",
      "359396    touch  2018-01-25 17:38:19          1  2018-01-25 17:38:00   \n",
      "359397  desktop  2018-03-03 10:12:19          4  2018-03-03 10:12:00   \n",
      "359398  desktop  2017-11-02 10:12:19          5  2017-11-02 10:12:00   \n",
      "359399    touch  2017-09-10 13:13:19          2  2017-09-10 13:13:00   \n",
      "\n",
      "                         Uid  \n",
      "359395  18363291481961487539  \n",
      "359396  18370831553019119586  \n",
      "359397  18387297585500748294  \n",
      "359398  18388616944624776485  \n",
      "359399  18396128934054549559  \n",
      "--------------------------------------\n",
      "\n",
      "<class 'pandas.core.frame.DataFrame'>\n",
      "RangeIndex: 50415 entries, 0 to 50414\n",
      "Data columns (total 3 columns):\n",
      " #   Column   Non-Null Count  Dtype  \n",
      "---  ------   --------------  -----  \n",
      " 0   Buy Ts   50415 non-null  object \n",
      " 1   Revenue  50415 non-null  float64\n",
      " 2   Uid      50415 non-null  uint64 \n",
      "dtypes: float64(1), object(1), uint64(1)\n",
      "memory usage: 1.2+ MB\n",
      "--------------------------------------\n",
      "Дубликаты:\n",
      "0 дубликатов\n",
      "--------------------------------------\n",
      "Пропуски:\n",
      "Buy Ts     0.0\n",
      "Revenue    0.0\n",
      "Uid        0.0\n",
      "dtype: float64\n",
      "--------------------------------------\n",
      "Начало таблицы\n",
      "                Buy Ts  Revenue                   Uid\n",
      "0  2017-06-01 00:10:00    17.00  10329302124590727494\n",
      "1  2017-06-01 00:25:00     0.55  11627257723692907447\n",
      "2  2017-06-01 00:27:00     0.37  17903680561304213844\n",
      "3  2017-06-01 00:29:00     0.55  16109239769442553005\n",
      "4  2017-06-01 07:58:00     0.37  14200605875248379450\n",
      "--------------------------------------\n",
      "Конец таблицы\n",
      "                    Buy Ts  Revenue                   Uid\n",
      "50410  2018-05-31 23:50:00     4.64  12296626599487328624\n",
      "50411  2018-05-31 23:50:00     5.80  11369640365507475976\n",
      "50412  2018-05-31 23:54:00     0.30   1786462140797698849\n",
      "50413  2018-05-31 23:56:00     3.67   3993697860786194247\n",
      "50414  2018-06-01 00:02:00     3.42     83872787173869366\n",
      "--------------------------------------\n",
      "\n",
      "<class 'pandas.core.frame.DataFrame'>\n",
      "RangeIndex: 2542 entries, 0 to 2541\n",
      "Data columns (total 3 columns):\n",
      " #   Column     Non-Null Count  Dtype  \n",
      "---  ------     --------------  -----  \n",
      " 0   source_id  2542 non-null   int64  \n",
      " 1   dt         2542 non-null   object \n",
      " 2   costs      2542 non-null   float64\n",
      "dtypes: float64(1), int64(1), object(1)\n",
      "memory usage: 59.7+ KB\n",
      "--------------------------------------\n",
      "Дубликаты:\n",
      "0 дубликатов\n",
      "--------------------------------------\n",
      "Пропуски:\n",
      "source_id    0.0\n",
      "dt           0.0\n",
      "costs        0.0\n",
      "dtype: float64\n",
      "--------------------------------------\n",
      "Начало таблицы\n",
      "   source_id          dt  costs\n",
      "0          1  2017-06-01  75.20\n",
      "1          1  2017-06-02  62.25\n",
      "2          1  2017-06-03  36.53\n",
      "3          1  2017-06-04  55.00\n",
      "4          1  2017-06-05  57.08\n",
      "--------------------------------------\n",
      "Конец таблицы\n",
      "      source_id          dt  costs\n",
      "2537         10  2018-05-27   9.92\n",
      "2538         10  2018-05-28  21.26\n",
      "2539         10  2018-05-29  11.32\n",
      "2540         10  2018-05-30  33.15\n",
      "2541         10  2018-05-31  17.60\n",
      "--------------------------------------\n",
      "\n"
     ]
    }
   ],
   "source": [
    "def standart_opening(data):\n",
    "    data.info()\n",
    "    print('--------------------------------------')\n",
    "    print('Дубликаты:')\n",
    "    print (data.duplicated().sum(), 'дубликатов')\n",
    "    print('--------------------------------------')\n",
    "    print('Пропуски:')\n",
    "    print (data.isna().mean())\n",
    "    print('--------------------------------------')\n",
    "    print('Начало таблицы')\n",
    "    print (data.head())\n",
    "    print('--------------------------------------')\n",
    "    print('Конец таблицы')\n",
    "    print (data.tail())\n",
    "    print('--------------------------------------')\n",
    "    print()\n",
    "\n",
    "standart_opening(visits_data)\n",
    "standart_opening(orders_data)\n",
    "standart_opening(costs_data)"
   ]
  },
  {
   "cell_type": "markdown",
   "metadata": {},
   "source": [
    "В таблицах `visits_data` и  `orders_data` надо привести названия столбцов к нижнему регистру и убрать пробелы.  "
   ]
  },
  {
   "cell_type": "code",
   "execution_count": 4,
   "metadata": {},
   "outputs": [
    {
     "data": {
      "text/html": [
       "<div>\n",
       "<style scoped>\n",
       "    .dataframe tbody tr th:only-of-type {\n",
       "        vertical-align: middle;\n",
       "    }\n",
       "\n",
       "    .dataframe tbody tr th {\n",
       "        vertical-align: top;\n",
       "    }\n",
       "\n",
       "    .dataframe thead th {\n",
       "        text-align: right;\n",
       "    }\n",
       "</style>\n",
       "<table border=\"1\" class=\"dataframe\">\n",
       "  <thead>\n",
       "    <tr style=\"text-align: right;\">\n",
       "      <th></th>\n",
       "      <th>device</th>\n",
       "      <th>end_ts</th>\n",
       "      <th>source_id</th>\n",
       "      <th>start_ts</th>\n",
       "      <th>uid</th>\n",
       "    </tr>\n",
       "  </thead>\n",
       "  <tbody>\n",
       "    <tr>\n",
       "      <th>0</th>\n",
       "      <td>touch</td>\n",
       "      <td>2017-12-20 17:38:00</td>\n",
       "      <td>4</td>\n",
       "      <td>2017-12-20 17:20:00</td>\n",
       "      <td>16879256277535980062</td>\n",
       "    </tr>\n",
       "    <tr>\n",
       "      <th>1</th>\n",
       "      <td>desktop</td>\n",
       "      <td>2018-02-19 17:21:00</td>\n",
       "      <td>2</td>\n",
       "      <td>2018-02-19 16:53:00</td>\n",
       "      <td>104060357244891740</td>\n",
       "    </tr>\n",
       "    <tr>\n",
       "      <th>2</th>\n",
       "      <td>touch</td>\n",
       "      <td>2017-07-01 01:54:00</td>\n",
       "      <td>5</td>\n",
       "      <td>2017-07-01 01:54:00</td>\n",
       "      <td>7459035603376831527</td>\n",
       "    </tr>\n",
       "    <tr>\n",
       "      <th>3</th>\n",
       "      <td>desktop</td>\n",
       "      <td>2018-05-20 11:23:00</td>\n",
       "      <td>9</td>\n",
       "      <td>2018-05-20 10:59:00</td>\n",
       "      <td>16174680259334210214</td>\n",
       "    </tr>\n",
       "    <tr>\n",
       "      <th>4</th>\n",
       "      <td>desktop</td>\n",
       "      <td>2017-12-27 14:06:00</td>\n",
       "      <td>3</td>\n",
       "      <td>2017-12-27 14:06:00</td>\n",
       "      <td>9969694820036681168</td>\n",
       "    </tr>\n",
       "  </tbody>\n",
       "</table>\n",
       "</div>"
      ],
      "text/plain": [
       "    device               end_ts  source_id             start_ts  \\\n",
       "0    touch  2017-12-20 17:38:00          4  2017-12-20 17:20:00   \n",
       "1  desktop  2018-02-19 17:21:00          2  2018-02-19 16:53:00   \n",
       "2    touch  2017-07-01 01:54:00          5  2017-07-01 01:54:00   \n",
       "3  desktop  2018-05-20 11:23:00          9  2018-05-20 10:59:00   \n",
       "4  desktop  2017-12-27 14:06:00          3  2017-12-27 14:06:00   \n",
       "\n",
       "                    uid  \n",
       "0  16879256277535980062  \n",
       "1    104060357244891740  \n",
       "2   7459035603376831527  \n",
       "3  16174680259334210214  \n",
       "4   9969694820036681168  "
      ]
     },
     "execution_count": 4,
     "metadata": {},
     "output_type": "execute_result"
    }
   ],
   "source": [
    "visits_data.columns = [col.lower().replace(' ','_') for col in visits_data.columns]\n",
    "visits_data.head()"
   ]
  },
  {
   "cell_type": "code",
   "execution_count": 5,
   "metadata": {},
   "outputs": [
    {
     "data": {
      "text/html": [
       "<div>\n",
       "<style scoped>\n",
       "    .dataframe tbody tr th:only-of-type {\n",
       "        vertical-align: middle;\n",
       "    }\n",
       "\n",
       "    .dataframe tbody tr th {\n",
       "        vertical-align: top;\n",
       "    }\n",
       "\n",
       "    .dataframe thead th {\n",
       "        text-align: right;\n",
       "    }\n",
       "</style>\n",
       "<table border=\"1\" class=\"dataframe\">\n",
       "  <thead>\n",
       "    <tr style=\"text-align: right;\">\n",
       "      <th></th>\n",
       "      <th>buy_ts</th>\n",
       "      <th>revenue</th>\n",
       "      <th>uid</th>\n",
       "    </tr>\n",
       "  </thead>\n",
       "  <tbody>\n",
       "    <tr>\n",
       "      <th>0</th>\n",
       "      <td>2017-06-01 00:10:00</td>\n",
       "      <td>17.00</td>\n",
       "      <td>10329302124590727494</td>\n",
       "    </tr>\n",
       "    <tr>\n",
       "      <th>1</th>\n",
       "      <td>2017-06-01 00:25:00</td>\n",
       "      <td>0.55</td>\n",
       "      <td>11627257723692907447</td>\n",
       "    </tr>\n",
       "    <tr>\n",
       "      <th>2</th>\n",
       "      <td>2017-06-01 00:27:00</td>\n",
       "      <td>0.37</td>\n",
       "      <td>17903680561304213844</td>\n",
       "    </tr>\n",
       "    <tr>\n",
       "      <th>3</th>\n",
       "      <td>2017-06-01 00:29:00</td>\n",
       "      <td>0.55</td>\n",
       "      <td>16109239769442553005</td>\n",
       "    </tr>\n",
       "    <tr>\n",
       "      <th>4</th>\n",
       "      <td>2017-06-01 07:58:00</td>\n",
       "      <td>0.37</td>\n",
       "      <td>14200605875248379450</td>\n",
       "    </tr>\n",
       "  </tbody>\n",
       "</table>\n",
       "</div>"
      ],
      "text/plain": [
       "                buy_ts  revenue                   uid\n",
       "0  2017-06-01 00:10:00    17.00  10329302124590727494\n",
       "1  2017-06-01 00:25:00     0.55  11627257723692907447\n",
       "2  2017-06-01 00:27:00     0.37  17903680561304213844\n",
       "3  2017-06-01 00:29:00     0.55  16109239769442553005\n",
       "4  2017-06-01 07:58:00     0.37  14200605875248379450"
      ]
     },
     "execution_count": 5,
     "metadata": {},
     "output_type": "execute_result"
    }
   ],
   "source": [
    "orders_data.columns = [col.lower().replace(' ','_') for col in orders_data.columns]\n",
    "orders_data.head()"
   ]
  },
  {
   "cell_type": "markdown",
   "metadata": {},
   "source": [
    "Во всех таблицах нужно привести столбцы с датами к временному формату:"
   ]
  },
  {
   "cell_type": "code",
   "execution_count": 6,
   "metadata": {},
   "outputs": [
    {
     "data": {
      "text/plain": [
       "device               object\n",
       "end_ts       datetime64[ns]\n",
       "source_id             int64\n",
       "start_ts     datetime64[ns]\n",
       "uid                  uint64\n",
       "dtype: object"
      ]
     },
     "execution_count": 6,
     "metadata": {},
     "output_type": "execute_result"
    }
   ],
   "source": [
    "visits_data['end_ts'] = pd.to_datetime(visits_data['end_ts'], format=\"%Y-%m-%d %H:%M\")\n",
    "visits_data['start_ts'] = pd.to_datetime(visits_data['start_ts'], format=\"%Y-%m-%d %H:%M\")\n",
    "visits_data.dtypes"
   ]
  },
  {
   "cell_type": "code",
   "execution_count": 7,
   "metadata": {},
   "outputs": [
    {
     "data": {
      "text/plain": [
       "buy_ts     datetime64[ns]\n",
       "revenue           float64\n",
       "uid                uint64\n",
       "dtype: object"
      ]
     },
     "execution_count": 7,
     "metadata": {},
     "output_type": "execute_result"
    }
   ],
   "source": [
    "orders_data['buy_ts'] = pd.to_datetime(orders_data['buy_ts'], format=\"%Y-%m-%d %H:%M\")\n",
    "orders_data.dtypes"
   ]
  },
  {
   "cell_type": "code",
   "execution_count": 8,
   "metadata": {},
   "outputs": [
    {
     "data": {
      "text/plain": [
       "source_id             int64\n",
       "dt           datetime64[ns]\n",
       "costs               float64\n",
       "dtype: object"
      ]
     },
     "execution_count": 8,
     "metadata": {},
     "output_type": "execute_result"
    }
   ],
   "source": [
    "costs_data['dt'] = pd.to_datetime(costs_data['dt'], format=\"%Y-%m-%d\")\n",
    "costs_data.dtypes"
   ]
  },
  {
   "cell_type": "markdown",
   "metadata": {},
   "source": [
    "Я подготовила данные к анализу: привела названия столбцов к нижнему регистру, и убрала пробелы, привела столбцы с временем и датой к соответствующему формату. "
   ]
  },
  {
   "cell_type": "markdown",
   "metadata": {},
   "source": [
    "<div id='step2'/>\n",
    "\n",
    "### 2. Подготовка отчетов и расчет метрик "
   ]
  },
  {
   "cell_type": "markdown",
   "metadata": {},
   "source": [
    "Данные готовы для анализа, посчитаем метрики. Начнем с оценки пользовательской активности."
   ]
  },
  {
   "cell_type": "markdown",
   "metadata": {},
   "source": [
    "<div id='step3'/>\n",
    "\n",
    "#### Продукт: DAU, MAW, WAU"
   ]
  },
  {
   "cell_type": "markdown",
   "metadata": {},
   "source": [
    "Для расчетов используем таблицу `visits_data`."
   ]
  },
  {
   "cell_type": "code",
   "execution_count": 9,
   "metadata": {},
   "outputs": [
    {
     "data": {
      "text/html": [
       "<div>\n",
       "<style scoped>\n",
       "    .dataframe tbody tr th:only-of-type {\n",
       "        vertical-align: middle;\n",
       "    }\n",
       "\n",
       "    .dataframe tbody tr th {\n",
       "        vertical-align: top;\n",
       "    }\n",
       "\n",
       "    .dataframe thead th {\n",
       "        text-align: right;\n",
       "    }\n",
       "</style>\n",
       "<table border=\"1\" class=\"dataframe\">\n",
       "  <thead>\n",
       "    <tr style=\"text-align: right;\">\n",
       "      <th></th>\n",
       "      <th>device</th>\n",
       "      <th>end_ts</th>\n",
       "      <th>source_id</th>\n",
       "      <th>start_ts</th>\n",
       "      <th>uid</th>\n",
       "    </tr>\n",
       "  </thead>\n",
       "  <tbody>\n",
       "    <tr>\n",
       "      <th>133714</th>\n",
       "      <td>desktop</td>\n",
       "      <td>2017-12-15 18:28:00</td>\n",
       "      <td>3</td>\n",
       "      <td>2017-12-15 18:26:00</td>\n",
       "      <td>9595400846172609149</td>\n",
       "    </tr>\n",
       "  </tbody>\n",
       "</table>\n",
       "</div>"
      ],
      "text/plain": [
       "         device              end_ts  source_id            start_ts  \\\n",
       "133714  desktop 2017-12-15 18:28:00          3 2017-12-15 18:26:00   \n",
       "\n",
       "                        uid  \n",
       "133714  9595400846172609149  "
      ]
     },
     "execution_count": 9,
     "metadata": {},
     "output_type": "execute_result"
    }
   ],
   "source": [
    "visits_data.sample()"
   ]
  },
  {
   "cell_type": "markdown",
   "metadata": {},
   "source": [
    "Здесь есть информация об id пользователя, времени начала и окончания сессии за период 01.06.2016 - 31.05.2017.\n",
    "Чтобы посчитать дневное, недельное и месячное использование, выделим в отдельные столбцы год, месяц и неделю, а также полную дату. Для работы я скопирую данные в отдельную таблицу."
   ]
  },
  {
   "cell_type": "code",
   "execution_count": 10,
   "metadata": {},
   "outputs": [
    {
     "data": {
      "text/html": [
       "<div>\n",
       "<style scoped>\n",
       "    .dataframe tbody tr th:only-of-type {\n",
       "        vertical-align: middle;\n",
       "    }\n",
       "\n",
       "    .dataframe tbody tr th {\n",
       "        vertical-align: top;\n",
       "    }\n",
       "\n",
       "    .dataframe thead th {\n",
       "        text-align: right;\n",
       "    }\n",
       "</style>\n",
       "<table border=\"1\" class=\"dataframe\">\n",
       "  <thead>\n",
       "    <tr style=\"text-align: right;\">\n",
       "      <th></th>\n",
       "      <th>device</th>\n",
       "      <th>end_ts</th>\n",
       "      <th>source_id</th>\n",
       "      <th>start_ts</th>\n",
       "      <th>uid</th>\n",
       "    </tr>\n",
       "  </thead>\n",
       "  <tbody>\n",
       "    <tr>\n",
       "      <th>10595</th>\n",
       "      <td>desktop</td>\n",
       "      <td>2017-12-27 16:36:00</td>\n",
       "      <td>3</td>\n",
       "      <td>2017-12-27 16:06:00</td>\n",
       "      <td>12737007504670230575</td>\n",
       "    </tr>\n",
       "  </tbody>\n",
       "</table>\n",
       "</div>"
      ],
      "text/plain": [
       "        device              end_ts  source_id            start_ts  \\\n",
       "10595  desktop 2017-12-27 16:36:00          3 2017-12-27 16:06:00   \n",
       "\n",
       "                        uid  \n",
       "10595  12737007504670230575  "
      ]
     },
     "execution_count": 10,
     "metadata": {},
     "output_type": "execute_result"
    }
   ],
   "source": [
    "users_data = visits_data\n",
    "users_data.sample()"
   ]
  },
  {
   "cell_type": "code",
   "execution_count": 11,
   "metadata": {},
   "outputs": [
    {
     "data": {
      "text/html": [
       "<div>\n",
       "<style scoped>\n",
       "    .dataframe tbody tr th:only-of-type {\n",
       "        vertical-align: middle;\n",
       "    }\n",
       "\n",
       "    .dataframe tbody tr th {\n",
       "        vertical-align: top;\n",
       "    }\n",
       "\n",
       "    .dataframe thead th {\n",
       "        text-align: right;\n",
       "    }\n",
       "</style>\n",
       "<table border=\"1\" class=\"dataframe\">\n",
       "  <thead>\n",
       "    <tr style=\"text-align: right;\">\n",
       "      <th></th>\n",
       "      <th>device</th>\n",
       "      <th>end_ts</th>\n",
       "      <th>source_id</th>\n",
       "      <th>start_ts</th>\n",
       "      <th>uid</th>\n",
       "      <th>session_year</th>\n",
       "      <th>session_month</th>\n",
       "      <th>session_week</th>\n",
       "      <th>session_date</th>\n",
       "    </tr>\n",
       "  </thead>\n",
       "  <tbody>\n",
       "    <tr>\n",
       "      <th>161886</th>\n",
       "      <td>desktop</td>\n",
       "      <td>2017-10-16 14:00:00</td>\n",
       "      <td>3</td>\n",
       "      <td>2017-10-16 13:45:00</td>\n",
       "      <td>7523918649179568534</td>\n",
       "      <td>2017-01-01</td>\n",
       "      <td>2017-10-01</td>\n",
       "      <td>2017-10-12</td>\n",
       "      <td>2017-10-16</td>\n",
       "    </tr>\n",
       "  </tbody>\n",
       "</table>\n",
       "</div>"
      ],
      "text/plain": [
       "         device              end_ts  source_id            start_ts  \\\n",
       "161886  desktop 2017-10-16 14:00:00          3 2017-10-16 13:45:00   \n",
       "\n",
       "                        uid session_year session_month session_week  \\\n",
       "161886  7523918649179568534   2017-01-01    2017-10-01   2017-10-12   \n",
       "\n",
       "       session_date  \n",
       "161886   2017-10-16  "
      ]
     },
     "execution_count": 11,
     "metadata": {},
     "output_type": "execute_result"
    }
   ],
   "source": [
    "visits_data['session_year']  = visits_data['start_ts'].astype('datetime64[Y]')\n",
    "visits_data['session_month'] = visits_data['start_ts'].astype('datetime64[M]')\n",
    "visits_data['session_week']  = visits_data['start_ts'].astype('datetime64[W]')\n",
    "visits_data['session_date'] = visits_data['start_ts'].astype('datetime64[D]')\n",
    "visits_data.sample()"
   ]
  },
  {
   "cell_type": "markdown",
   "metadata": {},
   "source": [
    "Посчитаем метрики. Сгруппируем данные по уникальным пользователям и найдём среднее:"
   ]
  },
  {
   "cell_type": "code",
   "execution_count": 12,
   "metadata": {},
   "outputs": [
    {
     "data": {
      "text/plain": [
       "907"
      ]
     },
     "execution_count": 12,
     "metadata": {},
     "output_type": "execute_result"
    }
   ],
   "source": [
    "dau_total = visits_data.groupby('session_date').agg({'uid': 'nunique'}).mean()\n",
    "wau_total = visits_data.groupby(['session_year', 'session_week']).agg({'uid': 'nunique'}).mean()\n",
    "mau_total = visits_data.groupby(['session_year', 'session_month']).agg({'uid': 'nunique'}).mean()\n",
    "int(dau_total)"
   ]
  },
  {
   "cell_type": "markdown",
   "metadata": {},
   "source": [
    "`DAU` (количество пользователей в день) - 907"
   ]
  },
  {
   "cell_type": "code",
   "execution_count": 13,
   "metadata": {},
   "outputs": [
    {
     "data": {
      "text/plain": [
       "5621"
      ]
     },
     "execution_count": 13,
     "metadata": {},
     "output_type": "execute_result"
    }
   ],
   "source": [
    "int(wau_total)"
   ]
  },
  {
   "cell_type": "markdown",
   "metadata": {},
   "source": [
    "`WAU` (количество пользователей в неделю) - 5621"
   ]
  },
  {
   "cell_type": "code",
   "execution_count": 14,
   "metadata": {},
   "outputs": [
    {
     "data": {
      "text/plain": [
       "23228"
      ]
     },
     "execution_count": 14,
     "metadata": {},
     "output_type": "execute_result"
    }
   ],
   "source": [
    "int(mau_total)"
   ]
  },
  {
   "cell_type": "markdown",
   "metadata": {},
   "source": [
    "`MAU` (количество пользователей в месяц) - 23228"
   ]
  },
  {
   "cell_type": "markdown",
   "metadata": {},
   "source": [
    "Найдем среднее количество сессий в день:"
   ]
  },
  {
   "cell_type": "code",
   "execution_count": 15,
   "metadata": {},
   "outputs": [
    {
     "data": {
      "text/plain": [
       "987"
      ]
     },
     "execution_count": 15,
     "metadata": {},
     "output_type": "execute_result"
    }
   ],
   "source": [
    "sessions_daily = visits_data.groupby('session_date').agg({'uid': 'count'}).mean()\n",
    "int(sessions_daily)"
   ]
  },
  {
   "cell_type": "markdown",
   "metadata": {},
   "source": [
    "Немного больше, чем количество уникальных пользователей. Значит, некоторые заходят в день по нескольку раз. "
   ]
  },
  {
   "cell_type": "markdown",
   "metadata": {},
   "source": [
    "Сколько длится одна сессия?"
   ]
  },
  {
   "cell_type": "markdown",
   "metadata": {},
   "source": [
    "За среднюю продолжительность сессии отвечает метрика `ASL`. Чтобы ее найти, посчитаем длину всех сессий и вычислим среднее:"
   ]
  },
  {
   "cell_type": "code",
   "execution_count": 16,
   "metadata": {},
   "outputs": [
    {
     "data": {
      "text/plain": [
       "643.506488592098"
      ]
     },
     "execution_count": 16,
     "metadata": {},
     "output_type": "execute_result"
    }
   ],
   "source": [
    "visits_data['session_duration_sec'] = (visits_data['end_ts'] - visits_data['start_ts']).dt.seconds\n",
    "visits_data['session_duration_sec'].mean()"
   ]
  },
  {
   "cell_type": "markdown",
   "metadata": {},
   "source": [
    "Получилось, что сессия длится в среднем почти 11 минут - выглядит маловероятно. Проверим, как распределяется время сессии на графике - для этого построим гистограмму. "
   ]
  },
  {
   "cell_type": "code",
   "execution_count": 17,
   "metadata": {},
   "outputs": [
    {
     "data": {
      "image/png": "[encoded data removed]",
      "text/plain": [
       "<Figure size 432x288 with 1 Axes>"
      ]
     },
     "metadata": {
      "needs_background": "light"
     },
     "output_type": "display_data"
    }
   ],
   "source": [
    "fig, ax = plt.subplots()\n",
    "visits_data['session_duration_sec'].plot(kind='hist', bins=100, ax = ax)\n",
    "ax.set(title='Продолжительность пользовательской сессии, сек.', ylabel='Время, сек.', xlabel=None)\n",
    "ax.legend().set_visible(False) "
   ]
  },
  {
   "cell_type": "markdown",
   "metadata": {},
   "source": [
    "Наше распределение не похоже на нормальное, поэтому средняя величина или медиана будут не показательны. Рассчитаем моду:"
   ]
  },
  {
   "cell_type": "code",
   "execution_count": 18,
   "metadata": {},
   "outputs": [
    {
     "data": {
      "text/plain": [
       "0    60\n",
       "dtype: int64"
      ]
     },
     "execution_count": 18,
     "metadata": {},
     "output_type": "execute_result"
    }
   ],
   "source": [
    "visits_data['session_duration_sec'].mode()"
   ]
  },
  {
   "cell_type": "markdown",
   "metadata": {},
   "source": [
    "Самое частое значение - минута."
   ]
  },
  {
   "cell_type": "markdown",
   "metadata": {},
   "source": [
    "Как часто люди возвращаются?"
   ]
  },
  {
   "cell_type": "markdown",
   "metadata": {},
   "source": [
    "Для того, чтобы ответить на этот вопрос нам надо рассчитать метрику `CRR` или `retention rate`. Сделаем это с помощью когортного анализа на основе данных из все той же таблицы `visits_data`. Величина когорты - 1 месяц."
   ]
  },
  {
   "cell_type": "code",
   "execution_count": 19,
   "metadata": {},
   "outputs": [
    {
     "data": {
      "text/html": [
       "<div>\n",
       "<style scoped>\n",
       "    .dataframe tbody tr th:only-of-type {\n",
       "        vertical-align: middle;\n",
       "    }\n",
       "\n",
       "    .dataframe tbody tr th {\n",
       "        vertical-align: top;\n",
       "    }\n",
       "\n",
       "    .dataframe thead th {\n",
       "        text-align: right;\n",
       "    }\n",
       "</style>\n",
       "<table border=\"1\" class=\"dataframe\">\n",
       "  <thead>\n",
       "    <tr style=\"text-align: right;\">\n",
       "      <th></th>\n",
       "      <th>device</th>\n",
       "      <th>end_ts</th>\n",
       "      <th>source_id</th>\n",
       "      <th>start_ts</th>\n",
       "      <th>uid</th>\n",
       "      <th>session_year</th>\n",
       "      <th>session_month</th>\n",
       "      <th>session_week</th>\n",
       "      <th>session_date</th>\n",
       "      <th>session_duration_sec</th>\n",
       "    </tr>\n",
       "  </thead>\n",
       "  <tbody>\n",
       "    <tr>\n",
       "      <th>2307</th>\n",
       "      <td>desktop</td>\n",
       "      <td>2017-12-05 17:27:00</td>\n",
       "      <td>4</td>\n",
       "      <td>2017-12-05 17:25:00</td>\n",
       "      <td>390899928109617421</td>\n",
       "      <td>2017-01-01</td>\n",
       "      <td>2017-12-01</td>\n",
       "      <td>2017-11-30</td>\n",
       "      <td>2017-12-05</td>\n",
       "      <td>120</td>\n",
       "    </tr>\n",
       "  </tbody>\n",
       "</table>\n",
       "</div>"
      ],
      "text/plain": [
       "       device              end_ts  source_id            start_ts  \\\n",
       "2307  desktop 2017-12-05 17:27:00          4 2017-12-05 17:25:00   \n",
       "\n",
       "                     uid session_year session_month session_week session_date  \\\n",
       "2307  390899928109617421   2017-01-01    2017-12-01   2017-11-30   2017-12-05   \n",
       "\n",
       "      session_duration_sec  \n",
       "2307                   120  "
      ]
     },
     "execution_count": 19,
     "metadata": {},
     "output_type": "execute_result"
    }
   ],
   "source": [
    "visits_data.sample()"
   ]
  },
  {
   "cell_type": "code",
   "execution_count": 20,
   "metadata": {},
   "outputs": [
    {
     "data": {
      "text/html": [
       "<div>\n",
       "<style scoped>\n",
       "    .dataframe tbody tr th:only-of-type {\n",
       "        vertical-align: middle;\n",
       "    }\n",
       "\n",
       "    .dataframe tbody tr th {\n",
       "        vertical-align: top;\n",
       "    }\n",
       "\n",
       "    .dataframe thead th {\n",
       "        text-align: right;\n",
       "    }\n",
       "</style>\n",
       "<table border=\"1\" class=\"dataframe\">\n",
       "  <thead>\n",
       "    <tr style=\"text-align: right;\">\n",
       "      <th>cohort_lifetime</th>\n",
       "      <th>0</th>\n",
       "      <th>1</th>\n",
       "      <th>2</th>\n",
       "      <th>3</th>\n",
       "      <th>4</th>\n",
       "      <th>5</th>\n",
       "      <th>6</th>\n",
       "      <th>7</th>\n",
       "      <th>8</th>\n",
       "      <th>9</th>\n",
       "      <th>10</th>\n",
       "      <th>11</th>\n",
       "    </tr>\n",
       "    <tr>\n",
       "      <th>first_activity_month</th>\n",
       "      <th></th>\n",
       "      <th></th>\n",
       "      <th></th>\n",
       "      <th></th>\n",
       "      <th></th>\n",
       "      <th></th>\n",
       "      <th></th>\n",
       "      <th></th>\n",
       "      <th></th>\n",
       "      <th></th>\n",
       "      <th></th>\n",
       "      <th></th>\n",
       "    </tr>\n",
       "  </thead>\n",
       "  <tbody>\n",
       "    <tr>\n",
       "      <th>2017-06-01</th>\n",
       "      <td>13259.0</td>\n",
       "      <td>1043</td>\n",
       "      <td>713</td>\n",
       "      <td>814</td>\n",
       "      <td>909</td>\n",
       "      <td>947</td>\n",
       "      <td>809</td>\n",
       "      <td>766</td>\n",
       "      <td>694</td>\n",
       "      <td>674</td>\n",
       "      <td>539</td>\n",
       "      <td>596</td>\n",
       "    </tr>\n",
       "    <tr>\n",
       "      <th>2017-07-01</th>\n",
       "      <td>13140.0</td>\n",
       "      <td>737</td>\n",
       "      <td>674</td>\n",
       "      <td>738</td>\n",
       "      <td>765</td>\n",
       "      <td>633</td>\n",
       "      <td>596</td>\n",
       "      <td>601</td>\n",
       "      <td>510</td>\n",
       "      <td>376</td>\n",
       "      <td>361</td>\n",
       "      <td></td>\n",
       "    </tr>\n",
       "    <tr>\n",
       "      <th>2017-08-01</th>\n",
       "      <td>10181.0</td>\n",
       "      <td>783</td>\n",
       "      <td>640</td>\n",
       "      <td>639</td>\n",
       "      <td>510</td>\n",
       "      <td>448</td>\n",
       "      <td>370</td>\n",
       "      <td>402</td>\n",
       "      <td>284</td>\n",
       "      <td>265</td>\n",
       "      <td></td>\n",
       "      <td></td>\n",
       "    </tr>\n",
       "    <tr>\n",
       "      <th>2017-09-01</th>\n",
       "      <td>16704.0</td>\n",
       "      <td>1428</td>\n",
       "      <td>1156</td>\n",
       "      <td>847</td>\n",
       "      <td>658</td>\n",
       "      <td>632</td>\n",
       "      <td>599</td>\n",
       "      <td>404</td>\n",
       "      <td>381</td>\n",
       "      <td></td>\n",
       "      <td></td>\n",
       "      <td></td>\n",
       "    </tr>\n",
       "    <tr>\n",
       "      <th>2017-10-01</th>\n",
       "      <td>25977.0</td>\n",
       "      <td>2042</td>\n",
       "      <td>1357</td>\n",
       "      <td>1012</td>\n",
       "      <td>890</td>\n",
       "      <td>837</td>\n",
       "      <td>555</td>\n",
       "      <td>529</td>\n",
       "      <td></td>\n",
       "      <td></td>\n",
       "      <td></td>\n",
       "      <td></td>\n",
       "    </tr>\n",
       "    <tr>\n",
       "      <th>2017-11-01</th>\n",
       "      <td>27248.0</td>\n",
       "      <td>2133</td>\n",
       "      <td>1202</td>\n",
       "      <td>1054</td>\n",
       "      <td>919</td>\n",
       "      <td>638</td>\n",
       "      <td>594</td>\n",
       "      <td></td>\n",
       "      <td></td>\n",
       "      <td></td>\n",
       "      <td></td>\n",
       "      <td></td>\n",
       "    </tr>\n",
       "    <tr>\n",
       "      <th>2017-12-01</th>\n",
       "      <td>25268.0</td>\n",
       "      <td>1410</td>\n",
       "      <td>960</td>\n",
       "      <td>786</td>\n",
       "      <td>512</td>\n",
       "      <td>481</td>\n",
       "      <td></td>\n",
       "      <td></td>\n",
       "      <td></td>\n",
       "      <td></td>\n",
       "      <td></td>\n",
       "      <td></td>\n",
       "    </tr>\n",
       "    <tr>\n",
       "      <th>2018-01-01</th>\n",
       "      <td>22624.0</td>\n",
       "      <td>1351</td>\n",
       "      <td>890</td>\n",
       "      <td>565</td>\n",
       "      <td>458</td>\n",
       "      <td></td>\n",
       "      <td></td>\n",
       "      <td></td>\n",
       "      <td></td>\n",
       "      <td></td>\n",
       "      <td></td>\n",
       "      <td></td>\n",
       "    </tr>\n",
       "    <tr>\n",
       "      <th>2018-02-01</th>\n",
       "      <td>22197.0</td>\n",
       "      <td>1267</td>\n",
       "      <td>565</td>\n",
       "      <td>446</td>\n",
       "      <td></td>\n",
       "      <td></td>\n",
       "      <td></td>\n",
       "      <td></td>\n",
       "      <td></td>\n",
       "      <td></td>\n",
       "      <td></td>\n",
       "      <td></td>\n",
       "    </tr>\n",
       "    <tr>\n",
       "      <th>2018-03-01</th>\n",
       "      <td>20589.0</td>\n",
       "      <td>861</td>\n",
       "      <td>557</td>\n",
       "      <td></td>\n",
       "      <td></td>\n",
       "      <td></td>\n",
       "      <td></td>\n",
       "      <td></td>\n",
       "      <td></td>\n",
       "      <td></td>\n",
       "      <td></td>\n",
       "      <td></td>\n",
       "    </tr>\n",
       "    <tr>\n",
       "      <th>2018-04-01</th>\n",
       "      <td>15709.0</td>\n",
       "      <td>760</td>\n",
       "      <td></td>\n",
       "      <td></td>\n",
       "      <td></td>\n",
       "      <td></td>\n",
       "      <td></td>\n",
       "      <td></td>\n",
       "      <td></td>\n",
       "      <td></td>\n",
       "      <td></td>\n",
       "      <td></td>\n",
       "    </tr>\n",
       "    <tr>\n",
       "      <th>2018-05-01</th>\n",
       "      <td>15273.0</td>\n",
       "      <td></td>\n",
       "      <td></td>\n",
       "      <td></td>\n",
       "      <td></td>\n",
       "      <td></td>\n",
       "      <td></td>\n",
       "      <td></td>\n",
       "      <td></td>\n",
       "      <td></td>\n",
       "      <td></td>\n",
       "      <td></td>\n",
       "    </tr>\n",
       "  </tbody>\n",
       "</table>\n",
       "</div>"
      ],
      "text/plain": [
       "cohort_lifetime            0     1     2     3    4    5    6    7    8    9   \\\n",
       "first_activity_month                                                            \n",
       "2017-06-01            13259.0  1043   713   814  909  947  809  766  694  674   \n",
       "2017-07-01            13140.0   737   674   738  765  633  596  601  510  376   \n",
       "2017-08-01            10181.0   783   640   639  510  448  370  402  284  265   \n",
       "2017-09-01            16704.0  1428  1156   847  658  632  599  404  381        \n",
       "2017-10-01            25977.0  2042  1357  1012  890  837  555  529             \n",
       "2017-11-01            27248.0  2133  1202  1054  919  638  594                  \n",
       "2017-12-01            25268.0  1410   960   786  512  481                       \n",
       "2018-01-01            22624.0  1351   890   565  458                            \n",
       "2018-02-01            22197.0  1267   565   446                                 \n",
       "2018-03-01            20589.0   861   557                                       \n",
       "2018-04-01            15709.0   760                                             \n",
       "2018-05-01            15273.0                                                   \n",
       "\n",
       "cohort_lifetime        10   11  \n",
       "first_activity_month            \n",
       "2017-06-01            539  596  \n",
       "2017-07-01            361       \n",
       "2017-08-01                      \n",
       "2017-09-01                      \n",
       "2017-10-01                      \n",
       "2017-11-01                      \n",
       "2017-12-01                      \n",
       "2018-01-01                      \n",
       "2018-02-01                      \n",
       "2018-03-01                      \n",
       "2018-04-01                      \n",
       "2018-05-01                      "
      ]
     },
     "execution_count": 20,
     "metadata": {},
     "output_type": "execute_result"
    }
   ],
   "source": [
    "first_activity_date = visits_data.groupby(['uid'])['start_ts'].min()\n",
    "first_activity_date.name = 'first_activity_date'\n",
    "\n",
    "crr_data = visits_data.join(first_activity_date,on='uid')\n",
    "crr_data['first_activity_date'] = pd.to_datetime(crr_data['first_activity_date'], format=\"%Y-%m-%d %H:%M\")\n",
    "crr_data['first_activity_month'] = crr_data['first_activity_date'].astype('datetime64[M]')\n",
    "crr_data['cohort_lifetime'] = (crr_data['session_month'] - crr_data['first_activity_month']) / np.timedelta64(1,'M')\n",
    "crr_data['cohort_lifetime'] = crr_data['cohort_lifetime'].round().astype('int')\n",
    "\n",
    "cohorts = crr_data.groupby(['first_activity_month','cohort_lifetime']).agg({'uid':'nunique'}).reset_index()\n",
    "crr_cohorts = cohorts.pivot_table(index='first_activity_month',columns='cohort_lifetime',values='uid',aggfunc='sum')\n",
    "crr_cohorts.fillna('')"
   ]
  },
  {
   "cell_type": "markdown",
   "metadata": {},
   "source": [
    "Чтобы найти Retention Rate, нужно число пользователей, изначально бывших в когорте, разделить на число пользователей в каждый следующий месяц. Найдём исходное количество пользователей в когорте. Возьмём их число на нулевой месяц:"
   ]
  },
  {
   "cell_type": "code",
   "execution_count": 21,
   "metadata": {},
   "outputs": [
    {
     "data": {
      "text/html": [
       "<div>\n",
       "<style scoped>\n",
       "    .dataframe tbody tr th:only-of-type {\n",
       "        vertical-align: middle;\n",
       "    }\n",
       "\n",
       "    .dataframe tbody tr th {\n",
       "        vertical-align: top;\n",
       "    }\n",
       "\n",
       "    .dataframe thead th {\n",
       "        text-align: right;\n",
       "    }\n",
       "</style>\n",
       "<table border=\"1\" class=\"dataframe\">\n",
       "  <thead>\n",
       "    <tr style=\"text-align: right;\">\n",
       "      <th></th>\n",
       "      <th>first_activity_month</th>\n",
       "      <th>cohort_users</th>\n",
       "    </tr>\n",
       "  </thead>\n",
       "  <tbody>\n",
       "    <tr>\n",
       "      <th>0</th>\n",
       "      <td>2017-06-01</td>\n",
       "      <td>13259</td>\n",
       "    </tr>\n",
       "    <tr>\n",
       "      <th>12</th>\n",
       "      <td>2017-07-01</td>\n",
       "      <td>13140</td>\n",
       "    </tr>\n",
       "    <tr>\n",
       "      <th>23</th>\n",
       "      <td>2017-08-01</td>\n",
       "      <td>10181</td>\n",
       "    </tr>\n",
       "    <tr>\n",
       "      <th>33</th>\n",
       "      <td>2017-09-01</td>\n",
       "      <td>16704</td>\n",
       "    </tr>\n",
       "    <tr>\n",
       "      <th>42</th>\n",
       "      <td>2017-10-01</td>\n",
       "      <td>25977</td>\n",
       "    </tr>\n",
       "    <tr>\n",
       "      <th>50</th>\n",
       "      <td>2017-11-01</td>\n",
       "      <td>27248</td>\n",
       "    </tr>\n",
       "    <tr>\n",
       "      <th>57</th>\n",
       "      <td>2017-12-01</td>\n",
       "      <td>25268</td>\n",
       "    </tr>\n",
       "    <tr>\n",
       "      <th>63</th>\n",
       "      <td>2018-01-01</td>\n",
       "      <td>22624</td>\n",
       "    </tr>\n",
       "    <tr>\n",
       "      <th>68</th>\n",
       "      <td>2018-02-01</td>\n",
       "      <td>22197</td>\n",
       "    </tr>\n",
       "    <tr>\n",
       "      <th>72</th>\n",
       "      <td>2018-03-01</td>\n",
       "      <td>20589</td>\n",
       "    </tr>\n",
       "    <tr>\n",
       "      <th>75</th>\n",
       "      <td>2018-04-01</td>\n",
       "      <td>15709</td>\n",
       "    </tr>\n",
       "    <tr>\n",
       "      <th>77</th>\n",
       "      <td>2018-05-01</td>\n",
       "      <td>15273</td>\n",
       "    </tr>\n",
       "  </tbody>\n",
       "</table>\n",
       "</div>"
      ],
      "text/plain": [
       "   first_activity_month  cohort_users\n",
       "0            2017-06-01         13259\n",
       "12           2017-07-01         13140\n",
       "23           2017-08-01         10181\n",
       "33           2017-09-01         16704\n",
       "42           2017-10-01         25977\n",
       "50           2017-11-01         27248\n",
       "57           2017-12-01         25268\n",
       "63           2018-01-01         22624\n",
       "68           2018-02-01         22197\n",
       "72           2018-03-01         20589\n",
       "75           2018-04-01         15709\n",
       "77           2018-05-01         15273"
      ]
     },
     "execution_count": 21,
     "metadata": {},
     "output_type": "execute_result"
    }
   ],
   "source": [
    "initial_users_count = cohorts[cohorts['cohort_lifetime'] == 0][['first_activity_month','uid']]\n",
    "initial_users_count = initial_users_count.rename(columns={'uid':'cohort_users'})\n",
    "initial_users_count"
   ]
  },
  {
   "cell_type": "markdown",
   "metadata": {},
   "source": [
    "Объединим данные по когортам с исходным количеством пользователей в когорте и рассчитаем `Retention Rate`. Построим график, чтобы было проще делать выводы. "
   ]
  },
  {
   "cell_type": "code",
   "execution_count": 22,
   "metadata": {},
   "outputs": [
    {
     "data": {
      "text/html": [
       "<div>\n",
       "<style scoped>\n",
       "    .dataframe tbody tr th:only-of-type {\n",
       "        vertical-align: middle;\n",
       "    }\n",
       "\n",
       "    .dataframe tbody tr th {\n",
       "        vertical-align: top;\n",
       "    }\n",
       "\n",
       "    .dataframe thead th {\n",
       "        text-align: right;\n",
       "    }\n",
       "</style>\n",
       "<table border=\"1\" class=\"dataframe\">\n",
       "  <thead>\n",
       "    <tr style=\"text-align: right;\">\n",
       "      <th>cohort_lifetime</th>\n",
       "      <th>0</th>\n",
       "      <th>1</th>\n",
       "      <th>2</th>\n",
       "      <th>3</th>\n",
       "      <th>4</th>\n",
       "      <th>5</th>\n",
       "      <th>6</th>\n",
       "      <th>7</th>\n",
       "      <th>8</th>\n",
       "      <th>9</th>\n",
       "      <th>10</th>\n",
       "      <th>11</th>\n",
       "    </tr>\n",
       "    <tr>\n",
       "      <th>first_activity_month</th>\n",
       "      <th></th>\n",
       "      <th></th>\n",
       "      <th></th>\n",
       "      <th></th>\n",
       "      <th></th>\n",
       "      <th></th>\n",
       "      <th></th>\n",
       "      <th></th>\n",
       "      <th></th>\n",
       "      <th></th>\n",
       "      <th></th>\n",
       "      <th></th>\n",
       "    </tr>\n",
       "  </thead>\n",
       "  <tbody>\n",
       "    <tr>\n",
       "      <th>2017-06-01</th>\n",
       "      <td>1.0</td>\n",
       "      <td>0.0786635</td>\n",
       "      <td>0.0537748</td>\n",
       "      <td>0.0613923</td>\n",
       "      <td>0.0685572</td>\n",
       "      <td>0.0714232</td>\n",
       "      <td>0.0610152</td>\n",
       "      <td>0.0577721</td>\n",
       "      <td>0.0523418</td>\n",
       "      <td>0.0508334</td>\n",
       "      <td>0.0406516</td>\n",
       "      <td>0.0449506</td>\n",
       "    </tr>\n",
       "    <tr>\n",
       "      <th>2017-07-01</th>\n",
       "      <td>1.0</td>\n",
       "      <td>0.0560883</td>\n",
       "      <td>0.0512938</td>\n",
       "      <td>0.0561644</td>\n",
       "      <td>0.0582192</td>\n",
       "      <td>0.0481735</td>\n",
       "      <td>0.0453577</td>\n",
       "      <td>0.0457382</td>\n",
       "      <td>0.0388128</td>\n",
       "      <td>0.0286149</td>\n",
       "      <td>0.0274734</td>\n",
       "      <td></td>\n",
       "    </tr>\n",
       "    <tr>\n",
       "      <th>2017-08-01</th>\n",
       "      <td>1.0</td>\n",
       "      <td>0.076908</td>\n",
       "      <td>0.0628622</td>\n",
       "      <td>0.062764</td>\n",
       "      <td>0.0500933</td>\n",
       "      <td>0.0440035</td>\n",
       "      <td>0.0363422</td>\n",
       "      <td>0.0394853</td>\n",
       "      <td>0.0278951</td>\n",
       "      <td>0.0260289</td>\n",
       "      <td></td>\n",
       "      <td></td>\n",
       "    </tr>\n",
       "    <tr>\n",
       "      <th>2017-09-01</th>\n",
       "      <td>1.0</td>\n",
       "      <td>0.0854885</td>\n",
       "      <td>0.069205</td>\n",
       "      <td>0.0507064</td>\n",
       "      <td>0.0393918</td>\n",
       "      <td>0.0378352</td>\n",
       "      <td>0.0358597</td>\n",
       "      <td>0.0241858</td>\n",
       "      <td>0.0228089</td>\n",
       "      <td></td>\n",
       "      <td></td>\n",
       "      <td></td>\n",
       "    </tr>\n",
       "    <tr>\n",
       "      <th>2017-10-01</th>\n",
       "      <td>1.0</td>\n",
       "      <td>0.078608</td>\n",
       "      <td>0.0522385</td>\n",
       "      <td>0.0389575</td>\n",
       "      <td>0.0342611</td>\n",
       "      <td>0.0322208</td>\n",
       "      <td>0.0213651</td>\n",
       "      <td>0.0203642</td>\n",
       "      <td></td>\n",
       "      <td></td>\n",
       "      <td></td>\n",
       "      <td></td>\n",
       "    </tr>\n",
       "    <tr>\n",
       "      <th>2017-11-01</th>\n",
       "      <td>1.0</td>\n",
       "      <td>0.078281</td>\n",
       "      <td>0.0441133</td>\n",
       "      <td>0.0386817</td>\n",
       "      <td>0.0337272</td>\n",
       "      <td>0.0234146</td>\n",
       "      <td>0.0217998</td>\n",
       "      <td></td>\n",
       "      <td></td>\n",
       "      <td></td>\n",
       "      <td></td>\n",
       "      <td></td>\n",
       "    </tr>\n",
       "    <tr>\n",
       "      <th>2017-12-01</th>\n",
       "      <td>1.0</td>\n",
       "      <td>0.0558018</td>\n",
       "      <td>0.0379927</td>\n",
       "      <td>0.0311065</td>\n",
       "      <td>0.0202628</td>\n",
       "      <td>0.0190359</td>\n",
       "      <td></td>\n",
       "      <td></td>\n",
       "      <td></td>\n",
       "      <td></td>\n",
       "      <td></td>\n",
       "      <td></td>\n",
       "    </tr>\n",
       "    <tr>\n",
       "      <th>2018-01-01</th>\n",
       "      <td>1.0</td>\n",
       "      <td>0.0597153</td>\n",
       "      <td>0.0393388</td>\n",
       "      <td>0.0249735</td>\n",
       "      <td>0.020244</td>\n",
       "      <td></td>\n",
       "      <td></td>\n",
       "      <td></td>\n",
       "      <td></td>\n",
       "      <td></td>\n",
       "      <td></td>\n",
       "      <td></td>\n",
       "    </tr>\n",
       "    <tr>\n",
       "      <th>2018-02-01</th>\n",
       "      <td>1.0</td>\n",
       "      <td>0.0570798</td>\n",
       "      <td>0.0254539</td>\n",
       "      <td>0.0200928</td>\n",
       "      <td></td>\n",
       "      <td></td>\n",
       "      <td></td>\n",
       "      <td></td>\n",
       "      <td></td>\n",
       "      <td></td>\n",
       "      <td></td>\n",
       "      <td></td>\n",
       "    </tr>\n",
       "    <tr>\n",
       "      <th>2018-03-01</th>\n",
       "      <td>1.0</td>\n",
       "      <td>0.0418184</td>\n",
       "      <td>0.0270533</td>\n",
       "      <td></td>\n",
       "      <td></td>\n",
       "      <td></td>\n",
       "      <td></td>\n",
       "      <td></td>\n",
       "      <td></td>\n",
       "      <td></td>\n",
       "      <td></td>\n",
       "      <td></td>\n",
       "    </tr>\n",
       "    <tr>\n",
       "      <th>2018-04-01</th>\n",
       "      <td>1.0</td>\n",
       "      <td>0.0483799</td>\n",
       "      <td></td>\n",
       "      <td></td>\n",
       "      <td></td>\n",
       "      <td></td>\n",
       "      <td></td>\n",
       "      <td></td>\n",
       "      <td></td>\n",
       "      <td></td>\n",
       "      <td></td>\n",
       "      <td></td>\n",
       "    </tr>\n",
       "    <tr>\n",
       "      <th>2018-05-01</th>\n",
       "      <td>1.0</td>\n",
       "      <td></td>\n",
       "      <td></td>\n",
       "      <td></td>\n",
       "      <td></td>\n",
       "      <td></td>\n",
       "      <td></td>\n",
       "      <td></td>\n",
       "      <td></td>\n",
       "      <td></td>\n",
       "      <td></td>\n",
       "      <td></td>\n",
       "    </tr>\n",
       "  </tbody>\n",
       "</table>\n",
       "</div>"
      ],
      "text/plain": [
       "cohort_lifetime        0          1          2          3          4   \\\n",
       "first_activity_month                                                    \n",
       "2017-06-01            1.0  0.0786635  0.0537748  0.0613923  0.0685572   \n",
       "2017-07-01            1.0  0.0560883  0.0512938  0.0561644  0.0582192   \n",
       "2017-08-01            1.0   0.076908  0.0628622   0.062764  0.0500933   \n",
       "2017-09-01            1.0  0.0854885   0.069205  0.0507064  0.0393918   \n",
       "2017-10-01            1.0   0.078608  0.0522385  0.0389575  0.0342611   \n",
       "2017-11-01            1.0   0.078281  0.0441133  0.0386817  0.0337272   \n",
       "2017-12-01            1.0  0.0558018  0.0379927  0.0311065  0.0202628   \n",
       "2018-01-01            1.0  0.0597153  0.0393388  0.0249735   0.020244   \n",
       "2018-02-01            1.0  0.0570798  0.0254539  0.0200928              \n",
       "2018-03-01            1.0  0.0418184  0.0270533                         \n",
       "2018-04-01            1.0  0.0483799                                    \n",
       "2018-05-01            1.0                                               \n",
       "\n",
       "cohort_lifetime              5          6          7          8          9   \\\n",
       "first_activity_month                                                          \n",
       "2017-06-01            0.0714232  0.0610152  0.0577721  0.0523418  0.0508334   \n",
       "2017-07-01            0.0481735  0.0453577  0.0457382  0.0388128  0.0286149   \n",
       "2017-08-01            0.0440035  0.0363422  0.0394853  0.0278951  0.0260289   \n",
       "2017-09-01            0.0378352  0.0358597  0.0241858  0.0228089              \n",
       "2017-10-01            0.0322208  0.0213651  0.0203642                         \n",
       "2017-11-01            0.0234146  0.0217998                                    \n",
       "2017-12-01            0.0190359                                               \n",
       "2018-01-01                                                                    \n",
       "2018-02-01                                                                    \n",
       "2018-03-01                                                                    \n",
       "2018-04-01                                                                    \n",
       "2018-05-01                                                                    \n",
       "\n",
       "cohort_lifetime              10         11  \n",
       "first_activity_month                        \n",
       "2017-06-01            0.0406516  0.0449506  \n",
       "2017-07-01            0.0274734             \n",
       "2017-08-01                                  \n",
       "2017-09-01                                  \n",
       "2017-10-01                                  \n",
       "2017-11-01                                  \n",
       "2017-12-01                                  \n",
       "2018-01-01                                  \n",
       "2018-02-01                                  \n",
       "2018-03-01                                  \n",
       "2018-04-01                                  \n",
       "2018-05-01                                  "
      ]
     },
     "execution_count": 22,
     "metadata": {},
     "output_type": "execute_result"
    }
   ],
   "source": [
    "cohorts = cohorts.merge(initial_users_count,on='first_activity_month')\n",
    "cohorts['first_activity_month'] = cohorts['first_activity_month'].dt.strftime('%Y-%m-%d')\n",
    "cohorts['retention'] = cohorts['uid']/cohorts['cohort_users']\n",
    "crr_pivot = cohorts.pivot_table(index='first_activity_month',\n",
    "                                columns='cohort_lifetime',\n",
    "                                values='retention',\n",
    "                                aggfunc='sum')\n",
    "crr_pivot.fillna('')"
   ]
  },
  {
   "cell_type": "code",
   "execution_count": 23,
   "metadata": {},
   "outputs": [
    {
     "data": {
      "image/png": "[encoded data removed]",
      "text/plain": [
       "<Figure size 936x648 with 2 Axes>"
      ]
     },
     "metadata": {
      "needs_background": "light"
     },
     "output_type": "display_data"
    }
   ],
   "source": [
    "fig, ax = plt.subplots(figsize=(13, 9))\n",
    "ax = sns.heatmap(crr_pivot, annot=True, fmt='.2%', linewidths=1, linecolor='gray', vmin=0, vmax=0.1)\n",
    "plt.title('CRR по ежемесячным когортам')\n",
    "plt.xlabel('Cohort lifetime')\n",
    "plt.ylabel('Когорта'); "
   ]
  },
  {
   "cell_type": "markdown",
   "metadata": {},
   "source": [
    "Ранние когорты – с июня по ноябрь (за исключением июля) показывают высокий начальный CRR на уровне 7,7%-7,9%, даже 8.6% в сентябре. С декабря 2017 года происходит резкое падение метрики до 5,6% и постепенное снижение до 4,9%. \n",
    "В первых двух когортах видно, что CRR снижается неравномерно, на 3 месяц и еще кое-где есть рост. Августовская, сентябрьская и октябрьская когорты теряют CRR все еще довольно медленно, по сравнению с ноябрьской и ниже. Можно предположить, что в ноябре-декабре произошло какое-то событие, которое сильно повлияло на поведение пользователей."
   ]
  },
  {
   "cell_type": "markdown",
   "metadata": {},
   "source": [
    "Теперь изучим покупательскую активность. \n",
    "\n",
    "<div id='step4'/>\n",
    "\n",
    "#### Продажи - когда люди начинают покупать?"
   ]
  },
  {
   "cell_type": "markdown",
   "metadata": {},
   "source": [
    "Для начала соединим таблицу `visits_data` и таблицу заказов `order_data`:"
   ]
  },
  {
   "cell_type": "code",
   "execution_count": 24,
   "metadata": {},
   "outputs": [
    {
     "data": {
      "text/html": [
       "<div>\n",
       "<style scoped>\n",
       "    .dataframe tbody tr th:only-of-type {\n",
       "        vertical-align: middle;\n",
       "    }\n",
       "\n",
       "    .dataframe tbody tr th {\n",
       "        vertical-align: top;\n",
       "    }\n",
       "\n",
       "    .dataframe thead th {\n",
       "        text-align: right;\n",
       "    }\n",
       "</style>\n",
       "<table border=\"1\" class=\"dataframe\">\n",
       "  <thead>\n",
       "    <tr style=\"text-align: right;\">\n",
       "      <th></th>\n",
       "      <th>device</th>\n",
       "      <th>end_ts</th>\n",
       "      <th>source_id</th>\n",
       "      <th>start_ts</th>\n",
       "      <th>uid</th>\n",
       "      <th>session_year</th>\n",
       "      <th>session_month</th>\n",
       "      <th>session_week</th>\n",
       "      <th>session_date</th>\n",
       "      <th>session_duration_sec</th>\n",
       "    </tr>\n",
       "  </thead>\n",
       "  <tbody>\n",
       "    <tr>\n",
       "      <th>59676</th>\n",
       "      <td>desktop</td>\n",
       "      <td>2017-11-24 23:44:00</td>\n",
       "      <td>2</td>\n",
       "      <td>2017-11-24 23:44:00</td>\n",
       "      <td>13107159091159702490</td>\n",
       "      <td>2017-01-01</td>\n",
       "      <td>2017-11-01</td>\n",
       "      <td>2017-11-23</td>\n",
       "      <td>2017-11-24</td>\n",
       "      <td>0</td>\n",
       "    </tr>\n",
       "  </tbody>\n",
       "</table>\n",
       "</div>"
      ],
      "text/plain": [
       "        device              end_ts  source_id            start_ts  \\\n",
       "59676  desktop 2017-11-24 23:44:00          2 2017-11-24 23:44:00   \n",
       "\n",
       "                        uid session_year session_month session_week  \\\n",
       "59676  13107159091159702490   2017-01-01    2017-11-01   2017-11-23   \n",
       "\n",
       "      session_date  session_duration_sec  \n",
       "59676   2017-11-24                     0  "
      ]
     },
     "execution_count": 24,
     "metadata": {},
     "output_type": "execute_result"
    }
   ],
   "source": [
    "visits_data.sample()"
   ]
  },
  {
   "cell_type": "code",
   "execution_count": 25,
   "metadata": {},
   "outputs": [
    {
     "data": {
      "text/html": [
       "<div>\n",
       "<style scoped>\n",
       "    .dataframe tbody tr th:only-of-type {\n",
       "        vertical-align: middle;\n",
       "    }\n",
       "\n",
       "    .dataframe tbody tr th {\n",
       "        vertical-align: top;\n",
       "    }\n",
       "\n",
       "    .dataframe thead th {\n",
       "        text-align: right;\n",
       "    }\n",
       "</style>\n",
       "<table border=\"1\" class=\"dataframe\">\n",
       "  <thead>\n",
       "    <tr style=\"text-align: right;\">\n",
       "      <th></th>\n",
       "      <th>end_ts</th>\n",
       "      <th>start_ts</th>\n",
       "      <th>uid</th>\n",
       "    </tr>\n",
       "  </thead>\n",
       "  <tbody>\n",
       "    <tr>\n",
       "      <th>239135</th>\n",
       "      <td>2018-03-03 20:29:00</td>\n",
       "      <td>2018-03-03 20:26:00</td>\n",
       "      <td>4354345319686867734</td>\n",
       "    </tr>\n",
       "  </tbody>\n",
       "</table>\n",
       "</div>"
      ],
      "text/plain": [
       "                    end_ts            start_ts                  uid\n",
       "239135 2018-03-03 20:29:00 2018-03-03 20:26:00  4354345319686867734"
      ]
     },
     "execution_count": 25,
     "metadata": {},
     "output_type": "execute_result"
    }
   ],
   "source": [
    "user_data = visits_data[['end_ts', 'start_ts', 'uid']]\n",
    "user_data.sample()\n",
    "# я скопировала исходную таблицу visits в user_data, чтобы отсечь лишнее"
   ]
  },
  {
   "cell_type": "code",
   "execution_count": 26,
   "metadata": {},
   "outputs": [
    {
     "data": {
      "text/html": [
       "<div>\n",
       "<style scoped>\n",
       "    .dataframe tbody tr th:only-of-type {\n",
       "        vertical-align: middle;\n",
       "    }\n",
       "\n",
       "    .dataframe tbody tr th {\n",
       "        vertical-align: top;\n",
       "    }\n",
       "\n",
       "    .dataframe thead th {\n",
       "        text-align: right;\n",
       "    }\n",
       "</style>\n",
       "<table border=\"1\" class=\"dataframe\">\n",
       "  <thead>\n",
       "    <tr style=\"text-align: right;\">\n",
       "      <th></th>\n",
       "      <th>buy_ts</th>\n",
       "      <th>revenue</th>\n",
       "      <th>uid</th>\n",
       "    </tr>\n",
       "  </thead>\n",
       "  <tbody>\n",
       "    <tr>\n",
       "      <th>22727</th>\n",
       "      <td>2017-12-08 10:04:00</td>\n",
       "      <td>5.5</td>\n",
       "      <td>11624734834545166179</td>\n",
       "    </tr>\n",
       "  </tbody>\n",
       "</table>\n",
       "</div>"
      ],
      "text/plain": [
       "                   buy_ts  revenue                   uid\n",
       "22727 2017-12-08 10:04:00      5.5  11624734834545166179"
      ]
     },
     "execution_count": 26,
     "metadata": {},
     "output_type": "execute_result"
    }
   ],
   "source": [
    "orders_data.sample()"
   ]
  },
  {
   "cell_type": "code",
   "execution_count": 27,
   "metadata": {},
   "outputs": [
    {
     "data": {
      "text/html": [
       "<div>\n",
       "<style scoped>\n",
       "    .dataframe tbody tr th:only-of-type {\n",
       "        vertical-align: middle;\n",
       "    }\n",
       "\n",
       "    .dataframe tbody tr th {\n",
       "        vertical-align: top;\n",
       "    }\n",
       "\n",
       "    .dataframe thead th {\n",
       "        text-align: right;\n",
       "    }\n",
       "</style>\n",
       "<table border=\"1\" class=\"dataframe\">\n",
       "  <thead>\n",
       "    <tr style=\"text-align: right;\">\n",
       "      <th></th>\n",
       "      <th>buy_ts</th>\n",
       "      <th>revenue</th>\n",
       "      <th>uid</th>\n",
       "      <th>end_ts</th>\n",
       "      <th>start_ts</th>\n",
       "    </tr>\n",
       "  </thead>\n",
       "  <tbody>\n",
       "    <tr>\n",
       "      <th>270246</th>\n",
       "      <td>2018-02-28 11:22:00</td>\n",
       "      <td>4.28</td>\n",
       "      <td>3263486045884611639</td>\n",
       "      <td>2018-05-09 10:44:00</td>\n",
       "      <td>2018-05-09 10:43:00</td>\n",
       "    </tr>\n",
       "  </tbody>\n",
       "</table>\n",
       "</div>"
      ],
      "text/plain": [
       "                    buy_ts  revenue                  uid              end_ts  \\\n",
       "270246 2018-02-28 11:22:00     4.28  3263486045884611639 2018-05-09 10:44:00   \n",
       "\n",
       "                  start_ts  \n",
       "270246 2018-05-09 10:43:00  "
      ]
     },
     "execution_count": 27,
     "metadata": {},
     "output_type": "execute_result"
    }
   ],
   "source": [
    "sales_data = orders_data.merge(user_data, on='uid')\n",
    "sales_data.sample()"
   ]
  },
  {
   "cell_type": "code",
   "execution_count": 28,
   "metadata": {},
   "outputs": [
    {
     "data": {
      "text/plain": [
       "buy_ts      0\n",
       "revenue     0\n",
       "uid         0\n",
       "end_ts      0\n",
       "start_ts    0\n",
       "dtype: int64"
      ]
     },
     "execution_count": 28,
     "metadata": {},
     "output_type": "execute_result"
    }
   ],
   "source": [
    "sales_data.isna().sum()"
   ]
  },
  {
   "cell_type": "markdown",
   "metadata": {},
   "source": [
    "Чтобы ответить на вопрос \"Когда люди начинают покупать?\", нужно вычислить разницу между датой первой активности и первого заказа. Найдем дату первой активности пользвателя:"
   ]
  },
  {
   "cell_type": "code",
   "execution_count": 29,
   "metadata": {},
   "outputs": [
    {
     "data": {
      "text/html": [
       "<div>\n",
       "<style scoped>\n",
       "    .dataframe tbody tr th:only-of-type {\n",
       "        vertical-align: middle;\n",
       "    }\n",
       "\n",
       "    .dataframe tbody tr th {\n",
       "        vertical-align: top;\n",
       "    }\n",
       "\n",
       "    .dataframe thead th {\n",
       "        text-align: right;\n",
       "    }\n",
       "</style>\n",
       "<table border=\"1\" class=\"dataframe\">\n",
       "  <thead>\n",
       "    <tr style=\"text-align: right;\">\n",
       "      <th></th>\n",
       "      <th>buy_ts</th>\n",
       "      <th>revenue</th>\n",
       "      <th>uid</th>\n",
       "      <th>end_ts</th>\n",
       "      <th>start_ts</th>\n",
       "      <th>first_activity_date</th>\n",
       "    </tr>\n",
       "  </thead>\n",
       "  <tbody>\n",
       "    <tr>\n",
       "      <th>596642</th>\n",
       "      <td>2018-03-02 09:58:00</td>\n",
       "      <td>11.92</td>\n",
       "      <td>12318346375502220837</td>\n",
       "      <td>2018-02-21 17:09:00</td>\n",
       "      <td>2018-02-21 16:46:00</td>\n",
       "      <td>2017-11-30 14:08:00</td>\n",
       "    </tr>\n",
       "  </tbody>\n",
       "</table>\n",
       "</div>"
      ],
      "text/plain": [
       "                    buy_ts  revenue                   uid              end_ts  \\\n",
       "596642 2018-03-02 09:58:00    11.92  12318346375502220837 2018-02-21 17:09:00   \n",
       "\n",
       "                  start_ts first_activity_date  \n",
       "596642 2018-02-21 16:46:00 2017-11-30 14:08:00  "
      ]
     },
     "execution_count": 29,
     "metadata": {},
     "output_type": "execute_result"
    }
   ],
   "source": [
    "first_activity_date = sales_data.groupby(['uid'])['start_ts'].min()\n",
    "first_activity_date.name = 'first_activity_date'\n",
    "sales_data = sales_data.join(first_activity_date, on='uid')\n",
    "sales_data.sample()"
   ]
  },
  {
   "cell_type": "markdown",
   "metadata": {},
   "source": [
    "Найдем дату первого заказа и объединим таблицы:"
   ]
  },
  {
   "cell_type": "code",
   "execution_count": 30,
   "metadata": {},
   "outputs": [
    {
     "data": {
      "text/html": [
       "<div>\n",
       "<style scoped>\n",
       "    .dataframe tbody tr th:only-of-type {\n",
       "        vertical-align: middle;\n",
       "    }\n",
       "\n",
       "    .dataframe tbody tr th {\n",
       "        vertical-align: top;\n",
       "    }\n",
       "\n",
       "    .dataframe thead th {\n",
       "        text-align: right;\n",
       "    }\n",
       "</style>\n",
       "<table border=\"1\" class=\"dataframe\">\n",
       "  <thead>\n",
       "    <tr style=\"text-align: right;\">\n",
       "      <th></th>\n",
       "      <th>buy_ts</th>\n",
       "      <th>revenue</th>\n",
       "      <th>uid</th>\n",
       "      <th>end_ts</th>\n",
       "      <th>start_ts</th>\n",
       "      <th>first_activity_date</th>\n",
       "      <th>order_date</th>\n",
       "      <th>first_order_date</th>\n",
       "    </tr>\n",
       "  </thead>\n",
       "  <tbody>\n",
       "    <tr>\n",
       "      <th>253119</th>\n",
       "      <td>2017-12-29 13:02:00</td>\n",
       "      <td>3.67</td>\n",
       "      <td>3263486045884611639</td>\n",
       "      <td>2017-12-23 16:30:00</td>\n",
       "      <td>2017-12-23 16:30:00</td>\n",
       "      <td>2017-06-01 08:51:00</td>\n",
       "      <td>2017-12-29</td>\n",
       "      <td>2017-06-05</td>\n",
       "    </tr>\n",
       "  </tbody>\n",
       "</table>\n",
       "</div>"
      ],
      "text/plain": [
       "                    buy_ts  revenue                  uid              end_ts  \\\n",
       "253119 2017-12-29 13:02:00     3.67  3263486045884611639 2017-12-23 16:30:00   \n",
       "\n",
       "                  start_ts first_activity_date order_date first_order_date  \n",
       "253119 2017-12-23 16:30:00 2017-06-01 08:51:00 2017-12-29       2017-06-05  "
      ]
     },
     "execution_count": 30,
     "metadata": {},
     "output_type": "execute_result"
    }
   ],
   "source": [
    "sales_data['order_date'] = sales_data['buy_ts'].astype('datetime64[D]')\n",
    "first_orders = sales_data.groupby('uid').agg({'order_date': 'min'}).reset_index()\n",
    "first_orders.columns = ['uid', 'first_order_date']\n",
    "first_sales_data = sales_data.merge(first_orders, on='uid')\n",
    "first_sales_data.sample()"
   ]
  },
  {
   "cell_type": "markdown",
   "metadata": {},
   "source": [
    "Найдем разницу между первым действием пользователей и покупкой:"
   ]
  },
  {
   "cell_type": "code",
   "execution_count": 31,
   "metadata": {},
   "outputs": [
    {
     "data": {
      "text/html": [
       "<div>\n",
       "<style scoped>\n",
       "    .dataframe tbody tr th:only-of-type {\n",
       "        vertical-align: middle;\n",
       "    }\n",
       "\n",
       "    .dataframe tbody tr th {\n",
       "        vertical-align: top;\n",
       "    }\n",
       "\n",
       "    .dataframe thead th {\n",
       "        text-align: right;\n",
       "    }\n",
       "</style>\n",
       "<table border=\"1\" class=\"dataframe\">\n",
       "  <thead>\n",
       "    <tr style=\"text-align: right;\">\n",
       "      <th></th>\n",
       "      <th>buy_ts</th>\n",
       "      <th>revenue</th>\n",
       "      <th>uid</th>\n",
       "      <th>end_ts</th>\n",
       "      <th>start_ts</th>\n",
       "      <th>first_activity_date</th>\n",
       "      <th>order_date</th>\n",
       "      <th>first_order_date</th>\n",
       "      <th>first_order_gap</th>\n",
       "    </tr>\n",
       "  </thead>\n",
       "  <tbody>\n",
       "    <tr>\n",
       "      <th>0</th>\n",
       "      <td>2017-06-01 00:10:00</td>\n",
       "      <td>17.00</td>\n",
       "      <td>10329302124590727494</td>\n",
       "      <td>2017-06-01 00:11:00</td>\n",
       "      <td>2017-06-01 00:09:00</td>\n",
       "      <td>2017-06-01</td>\n",
       "      <td>2017-06-01</td>\n",
       "      <td>2017-06-01</td>\n",
       "      <td>0</td>\n",
       "    </tr>\n",
       "    <tr>\n",
       "      <th>1</th>\n",
       "      <td>2017-06-01 00:25:00</td>\n",
       "      <td>0.55</td>\n",
       "      <td>11627257723692907447</td>\n",
       "      <td>2017-06-01 00:25:00</td>\n",
       "      <td>2017-06-01 00:14:00</td>\n",
       "      <td>2017-06-01</td>\n",
       "      <td>2017-06-01</td>\n",
       "      <td>2017-06-01</td>\n",
       "      <td>0</td>\n",
       "    </tr>\n",
       "    <tr>\n",
       "      <th>2</th>\n",
       "      <td>2017-06-01 00:27:00</td>\n",
       "      <td>0.37</td>\n",
       "      <td>17903680561304213844</td>\n",
       "      <td>2017-06-01 00:34:00</td>\n",
       "      <td>2017-06-01 00:25:00</td>\n",
       "      <td>2017-06-01</td>\n",
       "      <td>2017-06-01</td>\n",
       "      <td>2017-06-01</td>\n",
       "      <td>0</td>\n",
       "    </tr>\n",
       "    <tr>\n",
       "      <th>3</th>\n",
       "      <td>2017-06-01 00:29:00</td>\n",
       "      <td>0.55</td>\n",
       "      <td>16109239769442553005</td>\n",
       "      <td>2017-06-01 00:33:00</td>\n",
       "      <td>2017-06-01 00:14:00</td>\n",
       "      <td>2017-06-01</td>\n",
       "      <td>2017-06-01</td>\n",
       "      <td>2017-06-01</td>\n",
       "      <td>0</td>\n",
       "    </tr>\n",
       "    <tr>\n",
       "      <th>4</th>\n",
       "      <td>2017-06-01 07:58:00</td>\n",
       "      <td>0.37</td>\n",
       "      <td>14200605875248379450</td>\n",
       "      <td>2017-06-01 07:59:00</td>\n",
       "      <td>2017-06-01 07:31:00</td>\n",
       "      <td>2017-06-01</td>\n",
       "      <td>2017-06-01</td>\n",
       "      <td>2017-06-01</td>\n",
       "      <td>0</td>\n",
       "    </tr>\n",
       "  </tbody>\n",
       "</table>\n",
       "</div>"
      ],
      "text/plain": [
       "               buy_ts  revenue                   uid              end_ts  \\\n",
       "0 2017-06-01 00:10:00    17.00  10329302124590727494 2017-06-01 00:11:00   \n",
       "1 2017-06-01 00:25:00     0.55  11627257723692907447 2017-06-01 00:25:00   \n",
       "2 2017-06-01 00:27:00     0.37  17903680561304213844 2017-06-01 00:34:00   \n",
       "3 2017-06-01 00:29:00     0.55  16109239769442553005 2017-06-01 00:33:00   \n",
       "4 2017-06-01 07:58:00     0.37  14200605875248379450 2017-06-01 07:59:00   \n",
       "\n",
       "             start_ts first_activity_date order_date first_order_date  \\\n",
       "0 2017-06-01 00:09:00          2017-06-01 2017-06-01       2017-06-01   \n",
       "1 2017-06-01 00:14:00          2017-06-01 2017-06-01       2017-06-01   \n",
       "2 2017-06-01 00:25:00          2017-06-01 2017-06-01       2017-06-01   \n",
       "3 2017-06-01 00:14:00          2017-06-01 2017-06-01       2017-06-01   \n",
       "4 2017-06-01 07:31:00          2017-06-01 2017-06-01       2017-06-01   \n",
       "\n",
       "   first_order_gap  \n",
       "0                0  \n",
       "1                0  \n",
       "2                0  \n",
       "3                0  \n",
       "4                0  "
      ]
     },
     "execution_count": 31,
     "metadata": {},
     "output_type": "execute_result"
    }
   ],
   "source": [
    "first_sales_data['first_activity_date'] = first_sales_data['first_activity_date'].astype('datetime64[D]')\n",
    "first_sales_data['first_order_gap'] = (first_sales_data['first_order_date'] - first_sales_data['first_activity_date']\n",
    "                                      ) / np.timedelta64(1,'D')\n",
    "first_sales_data['first_order_gap'] = first_sales_data['first_order_gap'].round().astype('int')\n",
    "first_sales_data.head()"
   ]
  },
  {
   "cell_type": "code",
   "execution_count": 32,
   "metadata": {},
   "outputs": [
    {
     "data": {
      "image/png": "[encoded data removed]",
      "text/plain": [
       "<Figure size 432x288 with 1 Axes>"
      ]
     },
     "metadata": {
      "needs_background": "light"
     },
     "output_type": "display_data"
    }
   ],
   "source": [
    "fig, ax = plt.subplots()\n",
    "first_sales_data['first_order_gap'].plot(kind='hist', bins=100, ax = ax)\n",
    "ax.set(title='Количество дней до первого заказа', xlabel='Дни', ylabel=None)\n",
    "ax.legend().set_visible(False) "
   ]
  },
  {
   "cell_type": "code",
   "execution_count": 33,
   "metadata": {},
   "outputs": [
    {
     "data": {
      "text/plain": [
       "count    761807.000000\n",
       "mean         17.627159\n",
       "std          42.410321\n",
       "min           0.000000\n",
       "25%           0.000000\n",
       "50%           2.000000\n",
       "75%           9.000000\n",
       "max         363.000000\n",
       "Name: first_order_gap, dtype: float64"
      ]
     },
     "execution_count": 33,
     "metadata": {},
     "output_type": "execute_result"
    }
   ],
   "source": [
    "first_sales_data['first_order_gap'].describe()"
   ]
  },
  {
   "cell_type": "markdown",
   "metadata": {},
   "source": [
    "На графике видно, что есть высокий пик в области нуля и длинный хвост, за счет которого среднее равно 17.6 дней, в то время как медиана - 2 дня с момента первой активности пользователя до совершения покупки. "
   ]
  },
  {
   "cell_type": "markdown",
   "metadata": {},
   "source": [
    "Сколько раз покупают за период?"
   ]
  },
  {
   "cell_type": "markdown",
   "metadata": {},
   "source": [
    "Чтобы ответить на этот вопрос, я решила использовать покогортный алгоритм расчета, аналогичный формуле LTV. Только считать буду не выручку, а количество заказов. За основу возмем таблицу `orders_data`."
   ]
  },
  {
   "cell_type": "code",
   "execution_count": 34,
   "metadata": {},
   "outputs": [
    {
     "data": {
      "text/html": [
       "<div>\n",
       "<style scoped>\n",
       "    .dataframe tbody tr th:only-of-type {\n",
       "        vertical-align: middle;\n",
       "    }\n",
       "\n",
       "    .dataframe tbody tr th {\n",
       "        vertical-align: top;\n",
       "    }\n",
       "\n",
       "    .dataframe thead th {\n",
       "        text-align: right;\n",
       "    }\n",
       "</style>\n",
       "<table border=\"1\" class=\"dataframe\">\n",
       "  <thead>\n",
       "    <tr style=\"text-align: right;\">\n",
       "      <th></th>\n",
       "      <th>buy_ts</th>\n",
       "      <th>revenue</th>\n",
       "      <th>uid</th>\n",
       "    </tr>\n",
       "  </thead>\n",
       "  <tbody>\n",
       "    <tr>\n",
       "      <th>14234</th>\n",
       "      <td>2017-10-23 20:41:00</td>\n",
       "      <td>1.22</td>\n",
       "      <td>18199249600623738571</td>\n",
       "    </tr>\n",
       "  </tbody>\n",
       "</table>\n",
       "</div>"
      ],
      "text/plain": [
       "                   buy_ts  revenue                   uid\n",
       "14234 2017-10-23 20:41:00     1.22  18199249600623738571"
      ]
     },
     "execution_count": 34,
     "metadata": {},
     "output_type": "execute_result"
    }
   ],
   "source": [
    "orders_data.sample()"
   ]
  },
  {
   "cell_type": "code",
   "execution_count": 35,
   "metadata": {},
   "outputs": [
    {
     "data": {
      "text/html": [
       "<div>\n",
       "<style scoped>\n",
       "    .dataframe tbody tr th:only-of-type {\n",
       "        vertical-align: middle;\n",
       "    }\n",
       "\n",
       "    .dataframe tbody tr th {\n",
       "        vertical-align: top;\n",
       "    }\n",
       "\n",
       "    .dataframe thead th {\n",
       "        text-align: right;\n",
       "    }\n",
       "</style>\n",
       "<table border=\"1\" class=\"dataframe\">\n",
       "  <thead>\n",
       "    <tr style=\"text-align: right;\">\n",
       "      <th></th>\n",
       "      <th>buy_ts</th>\n",
       "      <th>revenue</th>\n",
       "      <th>uid</th>\n",
       "      <th>order_month</th>\n",
       "    </tr>\n",
       "  </thead>\n",
       "  <tbody>\n",
       "    <tr>\n",
       "      <th>44934</th>\n",
       "      <td>2018-04-21 13:46:00</td>\n",
       "      <td>4.03</td>\n",
       "      <td>5142153167025197026</td>\n",
       "      <td>2018-04-01</td>\n",
       "    </tr>\n",
       "  </tbody>\n",
       "</table>\n",
       "</div>"
      ],
      "text/plain": [
       "                   buy_ts  revenue                  uid order_month\n",
       "44934 2018-04-21 13:46:00     4.03  5142153167025197026  2018-04-01"
      ]
     },
     "execution_count": 35,
     "metadata": {},
     "output_type": "execute_result"
    }
   ],
   "source": [
    "orders_data['order_month'] = orders_data['buy_ts'].astype('datetime64[M]')\n",
    "orders_data.sample()"
   ]
  },
  {
   "cell_type": "markdown",
   "metadata": {},
   "source": [
    "Получим месяц первой покупки каждого покупателя:"
   ]
  },
  {
   "cell_type": "code",
   "execution_count": 36,
   "metadata": {},
   "outputs": [],
   "source": [
    "first_orders = orders_data.groupby('uid').agg({'order_month': 'min'}).reset_index()\n",
    "first_orders.columns = ['uid', 'first_order_month']"
   ]
  },
  {
   "cell_type": "markdown",
   "metadata": {},
   "source": [
    "Посчитаем количество новых покупателей `n_buyers` за каждый месяц:"
   ]
  },
  {
   "cell_type": "code",
   "execution_count": 37,
   "metadata": {},
   "outputs": [
    {
     "data": {
      "text/html": [
       "<div>\n",
       "<style scoped>\n",
       "    .dataframe tbody tr th:only-of-type {\n",
       "        vertical-align: middle;\n",
       "    }\n",
       "\n",
       "    .dataframe tbody tr th {\n",
       "        vertical-align: top;\n",
       "    }\n",
       "\n",
       "    .dataframe thead th {\n",
       "        text-align: right;\n",
       "    }\n",
       "</style>\n",
       "<table border=\"1\" class=\"dataframe\">\n",
       "  <thead>\n",
       "    <tr style=\"text-align: right;\">\n",
       "      <th></th>\n",
       "      <th>first_order_month</th>\n",
       "      <th>n_buyers</th>\n",
       "    </tr>\n",
       "  </thead>\n",
       "  <tbody>\n",
       "    <tr>\n",
       "      <th>0</th>\n",
       "      <td>2017-06-01</td>\n",
       "      <td>2023</td>\n",
       "    </tr>\n",
       "    <tr>\n",
       "      <th>1</th>\n",
       "      <td>2017-07-01</td>\n",
       "      <td>1923</td>\n",
       "    </tr>\n",
       "    <tr>\n",
       "      <th>2</th>\n",
       "      <td>2017-08-01</td>\n",
       "      <td>1370</td>\n",
       "    </tr>\n",
       "    <tr>\n",
       "      <th>3</th>\n",
       "      <td>2017-09-01</td>\n",
       "      <td>2581</td>\n",
       "    </tr>\n",
       "    <tr>\n",
       "      <th>4</th>\n",
       "      <td>2017-10-01</td>\n",
       "      <td>4340</td>\n",
       "    </tr>\n",
       "    <tr>\n",
       "      <th>5</th>\n",
       "      <td>2017-11-01</td>\n",
       "      <td>4081</td>\n",
       "    </tr>\n",
       "    <tr>\n",
       "      <th>6</th>\n",
       "      <td>2017-12-01</td>\n",
       "      <td>4383</td>\n",
       "    </tr>\n",
       "    <tr>\n",
       "      <th>7</th>\n",
       "      <td>2018-01-01</td>\n",
       "      <td>3373</td>\n",
       "    </tr>\n",
       "    <tr>\n",
       "      <th>8</th>\n",
       "      <td>2018-02-01</td>\n",
       "      <td>3651</td>\n",
       "    </tr>\n",
       "    <tr>\n",
       "      <th>9</th>\n",
       "      <td>2018-03-01</td>\n",
       "      <td>3533</td>\n",
       "    </tr>\n",
       "    <tr>\n",
       "      <th>10</th>\n",
       "      <td>2018-04-01</td>\n",
       "      <td>2276</td>\n",
       "    </tr>\n",
       "    <tr>\n",
       "      <th>11</th>\n",
       "      <td>2018-05-01</td>\n",
       "      <td>2988</td>\n",
       "    </tr>\n",
       "    <tr>\n",
       "      <th>12</th>\n",
       "      <td>2018-06-01</td>\n",
       "      <td>1</td>\n",
       "    </tr>\n",
       "  </tbody>\n",
       "</table>\n",
       "</div>"
      ],
      "text/plain": [
       "   first_order_month  n_buyers\n",
       "0         2017-06-01      2023\n",
       "1         2017-07-01      1923\n",
       "2         2017-08-01      1370\n",
       "3         2017-09-01      2581\n",
       "4         2017-10-01      4340\n",
       "5         2017-11-01      4081\n",
       "6         2017-12-01      4383\n",
       "7         2018-01-01      3373\n",
       "8         2018-02-01      3651\n",
       "9         2018-03-01      3533\n",
       "10        2018-04-01      2276\n",
       "11        2018-05-01      2988\n",
       "12        2018-06-01         1"
      ]
     },
     "execution_count": 37,
     "metadata": {},
     "output_type": "execute_result"
    }
   ],
   "source": [
    "n_buyers = first_orders.groupby('first_order_month').agg({'uid': 'nunique'}).reset_index()\n",
    "n_buyers.columns = ['first_order_month', 'n_buyers']\n",
    "n_buyers"
   ]
  },
  {
   "cell_type": "markdown",
   "metadata": {},
   "source": [
    "Добавим месяц первой покупки каждого покупателя в таблицу с заказами:"
   ]
  },
  {
   "cell_type": "code",
   "execution_count": 38,
   "metadata": {},
   "outputs": [
    {
     "data": {
      "text/html": [
       "<div>\n",
       "<style scoped>\n",
       "    .dataframe tbody tr th:only-of-type {\n",
       "        vertical-align: middle;\n",
       "    }\n",
       "\n",
       "    .dataframe tbody tr th {\n",
       "        vertical-align: top;\n",
       "    }\n",
       "\n",
       "    .dataframe thead th {\n",
       "        text-align: right;\n",
       "    }\n",
       "</style>\n",
       "<table border=\"1\" class=\"dataframe\">\n",
       "  <thead>\n",
       "    <tr style=\"text-align: right;\">\n",
       "      <th></th>\n",
       "      <th>buy_ts</th>\n",
       "      <th>revenue</th>\n",
       "      <th>uid</th>\n",
       "      <th>order_month</th>\n",
       "      <th>first_order_month</th>\n",
       "    </tr>\n",
       "  </thead>\n",
       "  <tbody>\n",
       "    <tr>\n",
       "      <th>38662</th>\n",
       "      <td>2018-02-20 09:03:00</td>\n",
       "      <td>1.83</td>\n",
       "      <td>3532757012911494611</td>\n",
       "      <td>2018-02-01</td>\n",
       "      <td>2018-02-01</td>\n",
       "    </tr>\n",
       "  </tbody>\n",
       "</table>\n",
       "</div>"
      ],
      "text/plain": [
       "                   buy_ts  revenue                  uid order_month  \\\n",
       "38662 2018-02-20 09:03:00     1.83  3532757012911494611  2018-02-01   \n",
       "\n",
       "      first_order_month  \n",
       "38662        2018-02-01  "
      ]
     },
     "execution_count": 38,
     "metadata": {},
     "output_type": "execute_result"
    }
   ],
   "source": [
    "orders_new = pd.merge(orders_data,first_orders, on='uid')\n",
    "orders_new.sample()"
   ]
  },
  {
   "cell_type": "markdown",
   "metadata": {},
   "source": [
    "Построим когорты:"
   ]
  },
  {
   "cell_type": "code",
   "execution_count": 39,
   "metadata": {},
   "outputs": [],
   "source": [
    "order_cohorts = orders_new.groupby(['first_order_month','order_month']).agg({'revenue': 'count'}).reset_index()\n",
    "order_cohorts = order_cohorts.rename(columns={'revenue':'orders'}) # я переименовала столбец с количеством заказов, \n",
    "# чтобы не было путаницы с выручкой"
   ]
  },
  {
   "cell_type": "markdown",
   "metadata": {},
   "source": [
    "Добавим в таблицу данные о том, сколько людей первый раз совершили покупку в каждый месяц:"
   ]
  },
  {
   "cell_type": "code",
   "execution_count": 40,
   "metadata": {},
   "outputs": [
    {
     "data": {
      "text/html": [
       "<div>\n",
       "<style scoped>\n",
       "    .dataframe tbody tr th:only-of-type {\n",
       "        vertical-align: middle;\n",
       "    }\n",
       "\n",
       "    .dataframe tbody tr th {\n",
       "        vertical-align: top;\n",
       "    }\n",
       "\n",
       "    .dataframe thead th {\n",
       "        text-align: right;\n",
       "    }\n",
       "</style>\n",
       "<table border=\"1\" class=\"dataframe\">\n",
       "  <thead>\n",
       "    <tr style=\"text-align: right;\">\n",
       "      <th></th>\n",
       "      <th>first_order_month</th>\n",
       "      <th>n_buyers</th>\n",
       "      <th>order_month</th>\n",
       "      <th>orders</th>\n",
       "    </tr>\n",
       "  </thead>\n",
       "  <tbody>\n",
       "    <tr>\n",
       "      <th>0</th>\n",
       "      <td>2017-06-01</td>\n",
       "      <td>2023</td>\n",
       "      <td>2017-06-01</td>\n",
       "      <td>2354</td>\n",
       "    </tr>\n",
       "    <tr>\n",
       "      <th>1</th>\n",
       "      <td>2017-06-01</td>\n",
       "      <td>2023</td>\n",
       "      <td>2017-07-01</td>\n",
       "      <td>177</td>\n",
       "    </tr>\n",
       "    <tr>\n",
       "      <th>2</th>\n",
       "      <td>2017-06-01</td>\n",
       "      <td>2023</td>\n",
       "      <td>2017-08-01</td>\n",
       "      <td>174</td>\n",
       "    </tr>\n",
       "    <tr>\n",
       "      <th>3</th>\n",
       "      <td>2017-06-01</td>\n",
       "      <td>2023</td>\n",
       "      <td>2017-09-01</td>\n",
       "      <td>226</td>\n",
       "    </tr>\n",
       "    <tr>\n",
       "      <th>4</th>\n",
       "      <td>2017-06-01</td>\n",
       "      <td>2023</td>\n",
       "      <td>2017-10-01</td>\n",
       "      <td>292</td>\n",
       "    </tr>\n",
       "  </tbody>\n",
       "</table>\n",
       "</div>"
      ],
      "text/plain": [
       "  first_order_month  n_buyers order_month  orders\n",
       "0        2017-06-01      2023  2017-06-01    2354\n",
       "1        2017-06-01      2023  2017-07-01     177\n",
       "2        2017-06-01      2023  2017-08-01     174\n",
       "3        2017-06-01      2023  2017-09-01     226\n",
       "4        2017-06-01      2023  2017-10-01     292"
      ]
     },
     "execution_count": 40,
     "metadata": {},
     "output_type": "execute_result"
    }
   ],
   "source": [
    "purchase = pd.merge(n_buyers, order_cohorts, on='first_order_month')\n",
    "purchase.head()"
   ]
  },
  {
   "cell_type": "markdown",
   "metadata": {},
   "source": [
    "Добавим возраст когорты - `cohort_lifetime`:"
   ]
  },
  {
   "cell_type": "code",
   "execution_count": 41,
   "metadata": {},
   "outputs": [
    {
     "data": {
      "text/html": [
       "<div>\n",
       "<style scoped>\n",
       "    .dataframe tbody tr th:only-of-type {\n",
       "        vertical-align: middle;\n",
       "    }\n",
       "\n",
       "    .dataframe tbody tr th {\n",
       "        vertical-align: top;\n",
       "    }\n",
       "\n",
       "    .dataframe thead th {\n",
       "        text-align: right;\n",
       "    }\n",
       "</style>\n",
       "<table border=\"1\" class=\"dataframe\">\n",
       "  <thead>\n",
       "    <tr style=\"text-align: right;\">\n",
       "      <th></th>\n",
       "      <th>first_order_month</th>\n",
       "      <th>n_buyers</th>\n",
       "      <th>order_month</th>\n",
       "      <th>orders</th>\n",
       "      <th>cohort_lifetime</th>\n",
       "    </tr>\n",
       "  </thead>\n",
       "  <tbody>\n",
       "    <tr>\n",
       "      <th>0</th>\n",
       "      <td>2017-06-01</td>\n",
       "      <td>2023</td>\n",
       "      <td>2017-06-01</td>\n",
       "      <td>2354</td>\n",
       "      <td>0</td>\n",
       "    </tr>\n",
       "    <tr>\n",
       "      <th>1</th>\n",
       "      <td>2017-06-01</td>\n",
       "      <td>2023</td>\n",
       "      <td>2017-07-01</td>\n",
       "      <td>177</td>\n",
       "      <td>1</td>\n",
       "    </tr>\n",
       "    <tr>\n",
       "      <th>2</th>\n",
       "      <td>2017-06-01</td>\n",
       "      <td>2023</td>\n",
       "      <td>2017-08-01</td>\n",
       "      <td>174</td>\n",
       "      <td>2</td>\n",
       "    </tr>\n",
       "    <tr>\n",
       "      <th>3</th>\n",
       "      <td>2017-06-01</td>\n",
       "      <td>2023</td>\n",
       "      <td>2017-09-01</td>\n",
       "      <td>226</td>\n",
       "      <td>3</td>\n",
       "    </tr>\n",
       "    <tr>\n",
       "      <th>4</th>\n",
       "      <td>2017-06-01</td>\n",
       "      <td>2023</td>\n",
       "      <td>2017-10-01</td>\n",
       "      <td>292</td>\n",
       "      <td>4</td>\n",
       "    </tr>\n",
       "  </tbody>\n",
       "</table>\n",
       "</div>"
      ],
      "text/plain": [
       "  first_order_month  n_buyers order_month  orders  cohort_lifetime\n",
       "0        2017-06-01      2023  2017-06-01    2354                0\n",
       "1        2017-06-01      2023  2017-07-01     177                1\n",
       "2        2017-06-01      2023  2017-08-01     174                2\n",
       "3        2017-06-01      2023  2017-09-01     226                3\n",
       "4        2017-06-01      2023  2017-10-01     292                4"
      ]
     },
     "execution_count": 41,
     "metadata": {},
     "output_type": "execute_result"
    }
   ],
   "source": [
    "purchase['cohort_lifetime'] = (purchase['order_month'] - purchase['first_order_month']) / np.timedelta64(1, 'M')\n",
    "purchase['cohort_lifetime'] = purchase['cohort_lifetime'].round().astype('int')\n",
    "purchase.head()"
   ]
  },
  {
   "cell_type": "markdown",
   "metadata": {},
   "source": [
    "Теперь посчитаем ежемесячное количество заказов: разделим заказы за каждый месяц на общее число пользователей в каждой когорте. Для наглядности визуализируем когорты в виде сводной таблицы:"
   ]
  },
  {
   "cell_type": "code",
   "execution_count": 42,
   "metadata": {},
   "outputs": [
    {
     "data": {
      "text/html": [
       "<div>\n",
       "<style scoped>\n",
       "    .dataframe tbody tr th:only-of-type {\n",
       "        vertical-align: middle;\n",
       "    }\n",
       "\n",
       "    .dataframe tbody tr th {\n",
       "        vertical-align: top;\n",
       "    }\n",
       "\n",
       "    .dataframe thead th {\n",
       "        text-align: right;\n",
       "    }\n",
       "</style>\n",
       "<table border=\"1\" class=\"dataframe\">\n",
       "  <thead>\n",
       "    <tr style=\"text-align: right;\">\n",
       "      <th>cohort_lifetime</th>\n",
       "      <th>0</th>\n",
       "      <th>1</th>\n",
       "      <th>2</th>\n",
       "      <th>3</th>\n",
       "      <th>4</th>\n",
       "      <th>5</th>\n",
       "      <th>6</th>\n",
       "      <th>7</th>\n",
       "      <th>8</th>\n",
       "      <th>9</th>\n",
       "      <th>10</th>\n",
       "      <th>11</th>\n",
       "    </tr>\n",
       "    <tr>\n",
       "      <th>first_order_month</th>\n",
       "      <th></th>\n",
       "      <th></th>\n",
       "      <th></th>\n",
       "      <th></th>\n",
       "      <th></th>\n",
       "      <th></th>\n",
       "      <th></th>\n",
       "      <th></th>\n",
       "      <th></th>\n",
       "      <th></th>\n",
       "      <th></th>\n",
       "      <th></th>\n",
       "    </tr>\n",
       "  </thead>\n",
       "  <tbody>\n",
       "    <tr>\n",
       "      <th>2017-06-01</th>\n",
       "      <td>1.16</td>\n",
       "      <td>1.25</td>\n",
       "      <td>1.34</td>\n",
       "      <td>1.45</td>\n",
       "      <td>1.59</td>\n",
       "      <td>1.7</td>\n",
       "      <td>1.84</td>\n",
       "      <td>1.92</td>\n",
       "      <td>2.03</td>\n",
       "      <td>2.1</td>\n",
       "      <td>2.15</td>\n",
       "      <td>2.19</td>\n",
       "    </tr>\n",
       "    <tr>\n",
       "      <th>2017-07-01</th>\n",
       "      <td>1.14</td>\n",
       "      <td>1.19</td>\n",
       "      <td>1.25</td>\n",
       "      <td>1.31</td>\n",
       "      <td>1.34</td>\n",
       "      <td>1.39</td>\n",
       "      <td>1.42</td>\n",
       "      <td>1.44</td>\n",
       "      <td>1.47</td>\n",
       "      <td>1.49</td>\n",
       "      <td>1.51</td>\n",
       "      <td></td>\n",
       "    </tr>\n",
       "    <tr>\n",
       "      <th>2017-08-01</th>\n",
       "      <td>1.12</td>\n",
       "      <td>1.2</td>\n",
       "      <td>1.27</td>\n",
       "      <td>1.33</td>\n",
       "      <td>1.39</td>\n",
       "      <td>1.44</td>\n",
       "      <td>1.47</td>\n",
       "      <td>1.53</td>\n",
       "      <td>1.56</td>\n",
       "      <td>1.6</td>\n",
       "      <td></td>\n",
       "      <td></td>\n",
       "    </tr>\n",
       "    <tr>\n",
       "      <th>2017-09-01</th>\n",
       "      <td>1.14</td>\n",
       "      <td>1.22</td>\n",
       "      <td>1.28</td>\n",
       "      <td>1.35</td>\n",
       "      <td>1.37</td>\n",
       "      <td>1.42</td>\n",
       "      <td>1.46</td>\n",
       "      <td>1.48</td>\n",
       "      <td>1.5</td>\n",
       "      <td></td>\n",
       "      <td></td>\n",
       "      <td></td>\n",
       "    </tr>\n",
       "    <tr>\n",
       "      <th>2017-10-01</th>\n",
       "      <td>1.14</td>\n",
       "      <td>1.22</td>\n",
       "      <td>1.25</td>\n",
       "      <td>1.28</td>\n",
       "      <td>1.31</td>\n",
       "      <td>1.34</td>\n",
       "      <td>1.35</td>\n",
       "      <td>1.38</td>\n",
       "      <td></td>\n",
       "      <td></td>\n",
       "      <td></td>\n",
       "      <td></td>\n",
       "    </tr>\n",
       "    <tr>\n",
       "      <th>2017-11-01</th>\n",
       "      <td>1.18</td>\n",
       "      <td>1.28</td>\n",
       "      <td>1.32</td>\n",
       "      <td>1.37</td>\n",
       "      <td>1.41</td>\n",
       "      <td>1.42</td>\n",
       "      <td>1.45</td>\n",
       "      <td></td>\n",
       "      <td></td>\n",
       "      <td></td>\n",
       "      <td></td>\n",
       "      <td></td>\n",
       "    </tr>\n",
       "    <tr>\n",
       "      <th>2017-12-01</th>\n",
       "      <td>1.15</td>\n",
       "      <td>1.21</td>\n",
       "      <td>1.26</td>\n",
       "      <td>1.3</td>\n",
       "      <td>1.32</td>\n",
       "      <td>1.34</td>\n",
       "      <td></td>\n",
       "      <td></td>\n",
       "      <td></td>\n",
       "      <td></td>\n",
       "      <td></td>\n",
       "      <td></td>\n",
       "    </tr>\n",
       "    <tr>\n",
       "      <th>2018-01-01</th>\n",
       "      <td>1.12</td>\n",
       "      <td>1.19</td>\n",
       "      <td>1.24</td>\n",
       "      <td>1.25</td>\n",
       "      <td>1.28</td>\n",
       "      <td></td>\n",
       "      <td></td>\n",
       "      <td></td>\n",
       "      <td></td>\n",
       "      <td></td>\n",
       "      <td></td>\n",
       "      <td></td>\n",
       "    </tr>\n",
       "    <tr>\n",
       "      <th>2018-02-01</th>\n",
       "      <td>1.12</td>\n",
       "      <td>1.18</td>\n",
       "      <td>1.21</td>\n",
       "      <td>1.22</td>\n",
       "      <td></td>\n",
       "      <td></td>\n",
       "      <td></td>\n",
       "      <td></td>\n",
       "      <td></td>\n",
       "      <td></td>\n",
       "      <td></td>\n",
       "      <td></td>\n",
       "    </tr>\n",
       "    <tr>\n",
       "      <th>2018-03-01</th>\n",
       "      <td>1.17</td>\n",
       "      <td>1.22</td>\n",
       "      <td>1.27</td>\n",
       "      <td></td>\n",
       "      <td></td>\n",
       "      <td></td>\n",
       "      <td></td>\n",
       "      <td></td>\n",
       "      <td></td>\n",
       "      <td></td>\n",
       "      <td></td>\n",
       "      <td></td>\n",
       "    </tr>\n",
       "    <tr>\n",
       "      <th>2018-04-01</th>\n",
       "      <td>1.10</td>\n",
       "      <td>1.18</td>\n",
       "      <td></td>\n",
       "      <td></td>\n",
       "      <td></td>\n",
       "      <td></td>\n",
       "      <td></td>\n",
       "      <td></td>\n",
       "      <td></td>\n",
       "      <td></td>\n",
       "      <td></td>\n",
       "      <td></td>\n",
       "    </tr>\n",
       "    <tr>\n",
       "      <th>2018-05-01</th>\n",
       "      <td>1.09</td>\n",
       "      <td></td>\n",
       "      <td></td>\n",
       "      <td></td>\n",
       "      <td></td>\n",
       "      <td></td>\n",
       "      <td></td>\n",
       "      <td></td>\n",
       "      <td></td>\n",
       "      <td></td>\n",
       "      <td></td>\n",
       "      <td></td>\n",
       "    </tr>\n",
       "    <tr>\n",
       "      <th>2018-06-01</th>\n",
       "      <td>1.00</td>\n",
       "      <td></td>\n",
       "      <td></td>\n",
       "      <td></td>\n",
       "      <td></td>\n",
       "      <td></td>\n",
       "      <td></td>\n",
       "      <td></td>\n",
       "      <td></td>\n",
       "      <td></td>\n",
       "      <td></td>\n",
       "      <td></td>\n",
       "    </tr>\n",
       "  </tbody>\n",
       "</table>\n",
       "</div>"
      ],
      "text/plain": [
       "cohort_lifetime      0     1     2     3     4     5     6     7     8     9   \\\n",
       "first_order_month                                                               \n",
       "2017-06-01         1.16  1.25  1.34  1.45  1.59   1.7  1.84  1.92  2.03   2.1   \n",
       "2017-07-01         1.14  1.19  1.25  1.31  1.34  1.39  1.42  1.44  1.47  1.49   \n",
       "2017-08-01         1.12   1.2  1.27  1.33  1.39  1.44  1.47  1.53  1.56   1.6   \n",
       "2017-09-01         1.14  1.22  1.28  1.35  1.37  1.42  1.46  1.48   1.5         \n",
       "2017-10-01         1.14  1.22  1.25  1.28  1.31  1.34  1.35  1.38               \n",
       "2017-11-01         1.18  1.28  1.32  1.37  1.41  1.42  1.45                     \n",
       "2017-12-01         1.15  1.21  1.26   1.3  1.32  1.34                           \n",
       "2018-01-01         1.12  1.19  1.24  1.25  1.28                                 \n",
       "2018-02-01         1.12  1.18  1.21  1.22                                       \n",
       "2018-03-01         1.17  1.22  1.27                                             \n",
       "2018-04-01         1.10  1.18                                                   \n",
       "2018-05-01         1.09                                                         \n",
       "2018-06-01         1.00                                                         \n",
       "\n",
       "cohort_lifetime      10    11  \n",
       "first_order_month              \n",
       "2017-06-01         2.15  2.19  \n",
       "2017-07-01         1.51        \n",
       "2017-08-01                     \n",
       "2017-09-01                     \n",
       "2017-10-01                     \n",
       "2017-11-01                     \n",
       "2017-12-01                     \n",
       "2018-01-01                     \n",
       "2018-02-01                     \n",
       "2018-03-01                     \n",
       "2018-04-01                     \n",
       "2018-05-01                     \n",
       "2018-06-01                     "
      ]
     },
     "execution_count": 42,
     "metadata": {},
     "output_type": "execute_result"
    }
   ],
   "source": [
    "purchase['orders_per_month'] = purchase['orders'] / purchase['n_buyers']\n",
    "purchase['first_order_month'] = purchase['first_order_month'].dt.strftime('%Y-%m-%d')\n",
    "purchase_output = purchase.pivot_table(index='first_order_month', columns='cohort_lifetime', \n",
    "                            values='orders_per_month', aggfunc='sum')\n",
    "purchase_output.cumsum(axis=1).round(2).fillna('')"
   ]
  },
  {
   "cell_type": "markdown",
   "metadata": {},
   "source": [
    "В виде графика:"
   ]
  },
  {
   "cell_type": "code",
   "execution_count": 43,
   "metadata": {},
   "outputs": [
    {
     "data": {
      "image/png": "[encoded data removed]",
      "text/plain": [
       "<Figure size 936x648 with 2 Axes>"
      ]
     },
     "metadata": {
      "needs_background": "light"
     },
     "output_type": "display_data"
    }
   ],
   "source": [
    "fig, ax = plt.subplots(figsize=(13, 9))\n",
    "ax = sns.heatmap(purchase_output.cumsum(axis=1).round(2), annot=True, linewidths=1, linecolor='gray')\n",
    "plt.title('Количество заказов на одного пользователя по ежемесячным когортам')\n",
    "plt.xlabel('Cohort lifetime')\n",
    "plt.ylabel('Когорта');"
   ]
  },
  {
   "cell_type": "markdown",
   "metadata": {},
   "source": [
    "По графику видно, что основная часть пользователей в течение жизненного цикла когорты совершает по 1,4 - 1,6 покупки. Первая когорта наиболее активна и совершает до 2.2 покупок за год."
   ]
  },
  {
   "cell_type": "markdown",
   "metadata": {},
   "source": [
    "Какой средний чек?"
   ]
  },
  {
   "cell_type": "markdown",
   "metadata": {},
   "source": [
    "Посчитаем средний чек на основе таблицы `orders_data`:"
   ]
  },
  {
   "cell_type": "code",
   "execution_count": 44,
   "metadata": {},
   "outputs": [
    {
     "data": {
      "text/html": [
       "<div>\n",
       "<style scoped>\n",
       "    .dataframe tbody tr th:only-of-type {\n",
       "        vertical-align: middle;\n",
       "    }\n",
       "\n",
       "    .dataframe tbody tr th {\n",
       "        vertical-align: top;\n",
       "    }\n",
       "\n",
       "    .dataframe thead th {\n",
       "        text-align: right;\n",
       "    }\n",
       "</style>\n",
       "<table border=\"1\" class=\"dataframe\">\n",
       "  <thead>\n",
       "    <tr style=\"text-align: right;\">\n",
       "      <th></th>\n",
       "      <th>buy_ts</th>\n",
       "      <th>revenue</th>\n",
       "      <th>uid</th>\n",
       "      <th>order_month</th>\n",
       "    </tr>\n",
       "  </thead>\n",
       "  <tbody>\n",
       "    <tr>\n",
       "      <th>1914</th>\n",
       "      <td>2017-06-24 14:58:00</td>\n",
       "      <td>0.79</td>\n",
       "      <td>6856892955040707360</td>\n",
       "      <td>2017-06-01</td>\n",
       "    </tr>\n",
       "  </tbody>\n",
       "</table>\n",
       "</div>"
      ],
      "text/plain": [
       "                  buy_ts  revenue                  uid order_month\n",
       "1914 2017-06-24 14:58:00     0.79  6856892955040707360  2017-06-01"
      ]
     },
     "execution_count": 44,
     "metadata": {},
     "output_type": "execute_result"
    }
   ],
   "source": [
    "orders_data.sample()"
   ]
  },
  {
   "cell_type": "code",
   "execution_count": 45,
   "metadata": {},
   "outputs": [
    {
     "data": {
      "text/html": [
       "<div>\n",
       "<style scoped>\n",
       "    .dataframe tbody tr th:only-of-type {\n",
       "        vertical-align: middle;\n",
       "    }\n",
       "\n",
       "    .dataframe tbody tr th {\n",
       "        vertical-align: top;\n",
       "    }\n",
       "\n",
       "    .dataframe thead th {\n",
       "        text-align: right;\n",
       "    }\n",
       "</style>\n",
       "<table border=\"1\" class=\"dataframe\">\n",
       "  <thead>\n",
       "    <tr style=\"text-align: right;\">\n",
       "      <th></th>\n",
       "      <th>order_month</th>\n",
       "      <th>revenue</th>\n",
       "    </tr>\n",
       "  </thead>\n",
       "  <tbody>\n",
       "    <tr>\n",
       "      <th>0</th>\n",
       "      <td>2017-06-01</td>\n",
       "      <td>9557.49</td>\n",
       "    </tr>\n",
       "    <tr>\n",
       "      <th>1</th>\n",
       "      <td>2017-07-01</td>\n",
       "      <td>12539.47</td>\n",
       "    </tr>\n",
       "    <tr>\n",
       "      <th>2</th>\n",
       "      <td>2017-08-01</td>\n",
       "      <td>8758.78</td>\n",
       "    </tr>\n",
       "    <tr>\n",
       "      <th>3</th>\n",
       "      <td>2017-09-01</td>\n",
       "      <td>18345.51</td>\n",
       "    </tr>\n",
       "    <tr>\n",
       "      <th>4</th>\n",
       "      <td>2017-10-01</td>\n",
       "      <td>27987.70</td>\n",
       "    </tr>\n",
       "    <tr>\n",
       "      <th>5</th>\n",
       "      <td>2017-11-01</td>\n",
       "      <td>27069.93</td>\n",
       "    </tr>\n",
       "    <tr>\n",
       "      <th>6</th>\n",
       "      <td>2017-12-01</td>\n",
       "      <td>36388.60</td>\n",
       "    </tr>\n",
       "    <tr>\n",
       "      <th>7</th>\n",
       "      <td>2018-01-01</td>\n",
       "      <td>19417.13</td>\n",
       "    </tr>\n",
       "    <tr>\n",
       "      <th>8</th>\n",
       "      <td>2018-02-01</td>\n",
       "      <td>25560.54</td>\n",
       "    </tr>\n",
       "    <tr>\n",
       "      <th>9</th>\n",
       "      <td>2018-03-01</td>\n",
       "      <td>28834.59</td>\n",
       "    </tr>\n",
       "    <tr>\n",
       "      <th>10</th>\n",
       "      <td>2018-04-01</td>\n",
       "      <td>16858.06</td>\n",
       "    </tr>\n",
       "    <tr>\n",
       "      <th>11</th>\n",
       "      <td>2018-05-01</td>\n",
       "      <td>20735.98</td>\n",
       "    </tr>\n",
       "    <tr>\n",
       "      <th>12</th>\n",
       "      <td>2018-06-01</td>\n",
       "      <td>3.42</td>\n",
       "    </tr>\n",
       "  </tbody>\n",
       "</table>\n",
       "</div>"
      ],
      "text/plain": [
       "   order_month   revenue\n",
       "0   2017-06-01   9557.49\n",
       "1   2017-07-01  12539.47\n",
       "2   2017-08-01   8758.78\n",
       "3   2017-09-01  18345.51\n",
       "4   2017-10-01  27987.70\n",
       "5   2017-11-01  27069.93\n",
       "6   2017-12-01  36388.60\n",
       "7   2018-01-01  19417.13\n",
       "8   2018-02-01  25560.54\n",
       "9   2018-03-01  28834.59\n",
       "10  2018-04-01  16858.06\n",
       "11  2018-05-01  20735.98\n",
       "12  2018-06-01      3.42"
      ]
     },
     "execution_count": 45,
     "metadata": {},
     "output_type": "execute_result"
    }
   ],
   "source": [
    "revenue = orders_data.groupby(['order_month']).agg({'revenue': 'sum'}).reset_index()\n",
    "revenue"
   ]
  },
  {
   "cell_type": "code",
   "execution_count": 46,
   "metadata": {},
   "outputs": [
    {
     "data": {
      "text/html": [
       "<div>\n",
       "<style scoped>\n",
       "    .dataframe tbody tr th:only-of-type {\n",
       "        vertical-align: middle;\n",
       "    }\n",
       "\n",
       "    .dataframe tbody tr th {\n",
       "        vertical-align: top;\n",
       "    }\n",
       "\n",
       "    .dataframe thead th {\n",
       "        text-align: right;\n",
       "    }\n",
       "</style>\n",
       "<table border=\"1\" class=\"dataframe\">\n",
       "  <thead>\n",
       "    <tr style=\"text-align: right;\">\n",
       "      <th></th>\n",
       "      <th>order_month</th>\n",
       "      <th>orders</th>\n",
       "    </tr>\n",
       "  </thead>\n",
       "  <tbody>\n",
       "    <tr>\n",
       "      <th>0</th>\n",
       "      <td>2017-06-01</td>\n",
       "      <td>2354</td>\n",
       "    </tr>\n",
       "    <tr>\n",
       "      <th>1</th>\n",
       "      <td>2017-07-01</td>\n",
       "      <td>2363</td>\n",
       "    </tr>\n",
       "    <tr>\n",
       "      <th>2</th>\n",
       "      <td>2017-08-01</td>\n",
       "      <td>1807</td>\n",
       "    </tr>\n",
       "    <tr>\n",
       "      <th>3</th>\n",
       "      <td>2017-09-01</td>\n",
       "      <td>3387</td>\n",
       "    </tr>\n",
       "    <tr>\n",
       "      <th>4</th>\n",
       "      <td>2017-10-01</td>\n",
       "      <td>5679</td>\n",
       "    </tr>\n",
       "    <tr>\n",
       "      <th>5</th>\n",
       "      <td>2017-11-01</td>\n",
       "      <td>5659</td>\n",
       "    </tr>\n",
       "    <tr>\n",
       "      <th>6</th>\n",
       "      <td>2017-12-01</td>\n",
       "      <td>6218</td>\n",
       "    </tr>\n",
       "    <tr>\n",
       "      <th>7</th>\n",
       "      <td>2018-01-01</td>\n",
       "      <td>4721</td>\n",
       "    </tr>\n",
       "    <tr>\n",
       "      <th>8</th>\n",
       "      <td>2018-02-01</td>\n",
       "      <td>5281</td>\n",
       "    </tr>\n",
       "    <tr>\n",
       "      <th>9</th>\n",
       "      <td>2018-03-01</td>\n",
       "      <td>5326</td>\n",
       "    </tr>\n",
       "    <tr>\n",
       "      <th>10</th>\n",
       "      <td>2018-04-01</td>\n",
       "      <td>3273</td>\n",
       "    </tr>\n",
       "    <tr>\n",
       "      <th>11</th>\n",
       "      <td>2018-05-01</td>\n",
       "      <td>4346</td>\n",
       "    </tr>\n",
       "    <tr>\n",
       "      <th>12</th>\n",
       "      <td>2018-06-01</td>\n",
       "      <td>1</td>\n",
       "    </tr>\n",
       "  </tbody>\n",
       "</table>\n",
       "</div>"
      ],
      "text/plain": [
       "   order_month  orders\n",
       "0   2017-06-01    2354\n",
       "1   2017-07-01    2363\n",
       "2   2017-08-01    1807\n",
       "3   2017-09-01    3387\n",
       "4   2017-10-01    5679\n",
       "5   2017-11-01    5659\n",
       "6   2017-12-01    6218\n",
       "7   2018-01-01    4721\n",
       "8   2018-02-01    5281\n",
       "9   2018-03-01    5326\n",
       "10  2018-04-01    3273\n",
       "11  2018-05-01    4346\n",
       "12  2018-06-01       1"
      ]
     },
     "execution_count": 46,
     "metadata": {},
     "output_type": "execute_result"
    }
   ],
   "source": [
    "orders = orders_data.groupby(['order_month']).agg({'revenue': 'count'}).reset_index()\n",
    "orders = orders.rename(columns={'revenue':'orders'}) # я переименовала столбец с количеством заказов, \n",
    "# чтобы не было путаницы с выручкой\n",
    "orders"
   ]
  },
  {
   "cell_type": "code",
   "execution_count": 47,
   "metadata": {},
   "outputs": [
    {
     "data": {
      "text/html": [
       "<div>\n",
       "<style scoped>\n",
       "    .dataframe tbody tr th:only-of-type {\n",
       "        vertical-align: middle;\n",
       "    }\n",
       "\n",
       "    .dataframe tbody tr th {\n",
       "        vertical-align: top;\n",
       "    }\n",
       "\n",
       "    .dataframe thead th {\n",
       "        text-align: right;\n",
       "    }\n",
       "</style>\n",
       "<table border=\"1\" class=\"dataframe\">\n",
       "  <thead>\n",
       "    <tr style=\"text-align: right;\">\n",
       "      <th></th>\n",
       "      <th>order_month</th>\n",
       "      <th>revenue</th>\n",
       "      <th>orders</th>\n",
       "      <th>check</th>\n",
       "    </tr>\n",
       "  </thead>\n",
       "  <tbody>\n",
       "    <tr>\n",
       "      <th>0</th>\n",
       "      <td>2017-06-01</td>\n",
       "      <td>9557.49</td>\n",
       "      <td>2354</td>\n",
       "      <td>4.060106</td>\n",
       "    </tr>\n",
       "    <tr>\n",
       "      <th>1</th>\n",
       "      <td>2017-07-01</td>\n",
       "      <td>12539.47</td>\n",
       "      <td>2363</td>\n",
       "      <td>5.306589</td>\n",
       "    </tr>\n",
       "    <tr>\n",
       "      <th>2</th>\n",
       "      <td>2017-08-01</td>\n",
       "      <td>8758.78</td>\n",
       "      <td>1807</td>\n",
       "      <td>4.847139</td>\n",
       "    </tr>\n",
       "    <tr>\n",
       "      <th>3</th>\n",
       "      <td>2017-09-01</td>\n",
       "      <td>18345.51</td>\n",
       "      <td>3387</td>\n",
       "      <td>5.416448</td>\n",
       "    </tr>\n",
       "    <tr>\n",
       "      <th>4</th>\n",
       "      <td>2017-10-01</td>\n",
       "      <td>27987.70</td>\n",
       "      <td>5679</td>\n",
       "      <td>4.928280</td>\n",
       "    </tr>\n",
       "    <tr>\n",
       "      <th>5</th>\n",
       "      <td>2017-11-01</td>\n",
       "      <td>27069.93</td>\n",
       "      <td>5659</td>\n",
       "      <td>4.783518</td>\n",
       "    </tr>\n",
       "    <tr>\n",
       "      <th>6</th>\n",
       "      <td>2017-12-01</td>\n",
       "      <td>36388.60</td>\n",
       "      <td>6218</td>\n",
       "      <td>5.852139</td>\n",
       "    </tr>\n",
       "    <tr>\n",
       "      <th>7</th>\n",
       "      <td>2018-01-01</td>\n",
       "      <td>19417.13</td>\n",
       "      <td>4721</td>\n",
       "      <td>4.112927</td>\n",
       "    </tr>\n",
       "    <tr>\n",
       "      <th>8</th>\n",
       "      <td>2018-02-01</td>\n",
       "      <td>25560.54</td>\n",
       "      <td>5281</td>\n",
       "      <td>4.840095</td>\n",
       "    </tr>\n",
       "    <tr>\n",
       "      <th>9</th>\n",
       "      <td>2018-03-01</td>\n",
       "      <td>28834.59</td>\n",
       "      <td>5326</td>\n",
       "      <td>5.413930</td>\n",
       "    </tr>\n",
       "    <tr>\n",
       "      <th>10</th>\n",
       "      <td>2018-04-01</td>\n",
       "      <td>16858.06</td>\n",
       "      <td>3273</td>\n",
       "      <td>5.150645</td>\n",
       "    </tr>\n",
       "    <tr>\n",
       "      <th>11</th>\n",
       "      <td>2018-05-01</td>\n",
       "      <td>20735.98</td>\n",
       "      <td>4346</td>\n",
       "      <td>4.771279</td>\n",
       "    </tr>\n",
       "    <tr>\n",
       "      <th>12</th>\n",
       "      <td>2018-06-01</td>\n",
       "      <td>3.42</td>\n",
       "      <td>1</td>\n",
       "      <td>3.420000</td>\n",
       "    </tr>\n",
       "  </tbody>\n",
       "</table>\n",
       "</div>"
      ],
      "text/plain": [
       "   order_month   revenue  orders     check\n",
       "0   2017-06-01   9557.49    2354  4.060106\n",
       "1   2017-07-01  12539.47    2363  5.306589\n",
       "2   2017-08-01   8758.78    1807  4.847139\n",
       "3   2017-09-01  18345.51    3387  5.416448\n",
       "4   2017-10-01  27987.70    5679  4.928280\n",
       "5   2017-11-01  27069.93    5659  4.783518\n",
       "6   2017-12-01  36388.60    6218  5.852139\n",
       "7   2018-01-01  19417.13    4721  4.112927\n",
       "8   2018-02-01  25560.54    5281  4.840095\n",
       "9   2018-03-01  28834.59    5326  5.413930\n",
       "10  2018-04-01  16858.06    3273  5.150645\n",
       "11  2018-05-01  20735.98    4346  4.771279\n",
       "12  2018-06-01      3.42       1  3.420000"
      ]
     },
     "execution_count": 47,
     "metadata": {},
     "output_type": "execute_result"
    }
   ],
   "source": [
    "average_check = revenue.merge(orders, on='order_month')\n",
    "average_check['check'] = average_check['revenue'] / average_check['orders']\n",
    "average_check['order_month'] = average_check['order_month'].dt.strftime('%Y-%m-%d')\n",
    "average_check"
   ]
  },
  {
   "cell_type": "code",
   "execution_count": 48,
   "metadata": {},
   "outputs": [
    {
     "data": {
      "text/plain": [
       "count    13.000000\n",
       "mean      4.838700\n",
       "std       0.656336\n",
       "min       3.420000\n",
       "25%       4.771279\n",
       "50%       4.847139\n",
       "75%       5.306589\n",
       "max       5.852139\n",
       "Name: check, dtype: float64"
      ]
     },
     "execution_count": 48,
     "metadata": {},
     "output_type": "execute_result"
    }
   ],
   "source": [
    "average_check['check'].describe()"
   ]
  },
  {
   "cell_type": "code",
   "execution_count": 49,
   "metadata": {},
   "outputs": [
    {
     "data": {
      "image/png": "[encoded data removed]",
      "text/plain": [
       "<Figure size 432x288 with 1 Axes>"
      ]
     },
     "metadata": {
      "needs_background": "light"
     },
     "output_type": "display_data"
    }
   ],
   "source": [
    "fig, ax = plt.subplots()\n",
    "average_check['check'].plot(kind='bar', x=\"order_month\", grid=True, ax = ax)\n",
    "ax.set(title='Средний чек', xlabel='Месяц', ylabel='Сумма')\n",
    "ax.legend().set_visible(False) "
   ]
  },
  {
   "cell_type": "markdown",
   "metadata": {},
   "source": [
    "По графику видно, что максимума средний чек достигает в декабре 2017 - почти 6 ед., после чего сумма снижается до 4, с февраля по март снова идет рост, а затем плавное снижение с апреля по июнь. "
   ]
  },
  {
   "cell_type": "markdown",
   "metadata": {},
   "source": [
    "Сколько денег приносят? (`LTV`)"
   ]
  },
  {
   "cell_type": "markdown",
   "metadata": {},
   "source": [
    "Я буду считать LTV по когортам, используя для этого табицу `orders_data`.\n",
    "Для расчета метрики нужно: найти дату первой покупки каждого покупателя; вычислить число новых покупателей за каждую дату; добавить дату первой покупки в таблицу с заказами; сгруппировать таблицу и посчитать выручку."
   ]
  },
  {
   "cell_type": "code",
   "execution_count": 50,
   "metadata": {},
   "outputs": [
    {
     "data": {
      "text/html": [
       "<div>\n",
       "<style scoped>\n",
       "    .dataframe tbody tr th:only-of-type {\n",
       "        vertical-align: middle;\n",
       "    }\n",
       "\n",
       "    .dataframe tbody tr th {\n",
       "        vertical-align: top;\n",
       "    }\n",
       "\n",
       "    .dataframe thead th {\n",
       "        text-align: right;\n",
       "    }\n",
       "</style>\n",
       "<table border=\"1\" class=\"dataframe\">\n",
       "  <thead>\n",
       "    <tr style=\"text-align: right;\">\n",
       "      <th></th>\n",
       "      <th>first_order_month</th>\n",
       "      <th>n_buyers</th>\n",
       "      <th>order_month</th>\n",
       "      <th>revenue</th>\n",
       "      <th>cohort_lifetime</th>\n",
       "    </tr>\n",
       "  </thead>\n",
       "  <tbody>\n",
       "    <tr>\n",
       "      <th>0</th>\n",
       "      <td>2017-06-01</td>\n",
       "      <td>2023</td>\n",
       "      <td>2017-06-01</td>\n",
       "      <td>9557.49</td>\n",
       "      <td>0</td>\n",
       "    </tr>\n",
       "    <tr>\n",
       "      <th>1</th>\n",
       "      <td>2017-06-01</td>\n",
       "      <td>2023</td>\n",
       "      <td>2017-07-01</td>\n",
       "      <td>981.82</td>\n",
       "      <td>1</td>\n",
       "    </tr>\n",
       "    <tr>\n",
       "      <th>2</th>\n",
       "      <td>2017-06-01</td>\n",
       "      <td>2023</td>\n",
       "      <td>2017-08-01</td>\n",
       "      <td>885.34</td>\n",
       "      <td>2</td>\n",
       "    </tr>\n",
       "    <tr>\n",
       "      <th>3</th>\n",
       "      <td>2017-06-01</td>\n",
       "      <td>2023</td>\n",
       "      <td>2017-09-01</td>\n",
       "      <td>1931.30</td>\n",
       "      <td>3</td>\n",
       "    </tr>\n",
       "    <tr>\n",
       "      <th>4</th>\n",
       "      <td>2017-06-01</td>\n",
       "      <td>2023</td>\n",
       "      <td>2017-10-01</td>\n",
       "      <td>2068.58</td>\n",
       "      <td>4</td>\n",
       "    </tr>\n",
       "  </tbody>\n",
       "</table>\n",
       "</div>"
      ],
      "text/plain": [
       "  first_order_month  n_buyers order_month  revenue  cohort_lifetime\n",
       "0        2017-06-01      2023  2017-06-01  9557.49                0\n",
       "1        2017-06-01      2023  2017-07-01   981.82                1\n",
       "2        2017-06-01      2023  2017-08-01   885.34                2\n",
       "3        2017-06-01      2023  2017-09-01  1931.30                3\n",
       "4        2017-06-01      2023  2017-10-01  2068.58                4"
      ]
     },
     "execution_count": 50,
     "metadata": {},
     "output_type": "execute_result"
    }
   ],
   "source": [
    "orders_data['order_month'] = orders_data['buy_ts'].astype('datetime64[M]')\n",
    "\n",
    "first_orders = orders_data.groupby('uid').agg({'order_month': 'min'}).reset_index()\n",
    "first_orders.columns = ['uid', 'first_order_month']\n",
    "\n",
    "n_buyers = first_orders.groupby('first_order_month').agg({'uid': 'nunique'}).reset_index()\n",
    "n_buyers.columns = ['first_order_month', 'n_buyers']\n",
    "\n",
    "orders_new = pd.merge(orders_data,first_orders, on='uid')\n",
    "\n",
    "ltv_cohorts = orders_new.groupby(['first_order_month','order_month']).agg({'revenue': 'sum'}).reset_index()\n",
    "\n",
    "ltv_report = pd.merge(n_buyers, ltv_cohorts, on='first_order_month')\n",
    "ltv_report['cohort_lifetime'] = (ltv_report['order_month'] - ltv_report['first_order_month']) / np.timedelta64(1, 'M')\n",
    "ltv_report['cohort_lifetime'] = ltv_report['cohort_lifetime'].round().astype('int')\n",
    "ltv_report.head()"
   ]
  },
  {
   "cell_type": "markdown",
   "metadata": {},
   "source": [
    "Добавим в таблицу данные о том, сколько людей первый раз совершили покупку в каждый месяц, и жизненный цикл когорты:"
   ]
  },
  {
   "cell_type": "code",
   "execution_count": 51,
   "metadata": {},
   "outputs": [
    {
     "data": {
      "text/html": [
       "<div>\n",
       "<style scoped>\n",
       "    .dataframe tbody tr th:only-of-type {\n",
       "        vertical-align: middle;\n",
       "    }\n",
       "\n",
       "    .dataframe tbody tr th {\n",
       "        vertical-align: top;\n",
       "    }\n",
       "\n",
       "    .dataframe thead th {\n",
       "        text-align: right;\n",
       "    }\n",
       "</style>\n",
       "<table border=\"1\" class=\"dataframe\">\n",
       "  <thead>\n",
       "    <tr style=\"text-align: right;\">\n",
       "      <th></th>\n",
       "      <th>first_order_month</th>\n",
       "      <th>n_buyers</th>\n",
       "      <th>order_month</th>\n",
       "      <th>revenue</th>\n",
       "      <th>cohort_lifetime</th>\n",
       "    </tr>\n",
       "  </thead>\n",
       "  <tbody>\n",
       "    <tr>\n",
       "      <th>0</th>\n",
       "      <td>2017-06-01</td>\n",
       "      <td>2023</td>\n",
       "      <td>2017-06-01</td>\n",
       "      <td>9557.49</td>\n",
       "      <td>0</td>\n",
       "    </tr>\n",
       "    <tr>\n",
       "      <th>1</th>\n",
       "      <td>2017-06-01</td>\n",
       "      <td>2023</td>\n",
       "      <td>2017-07-01</td>\n",
       "      <td>981.82</td>\n",
       "      <td>1</td>\n",
       "    </tr>\n",
       "    <tr>\n",
       "      <th>2</th>\n",
       "      <td>2017-06-01</td>\n",
       "      <td>2023</td>\n",
       "      <td>2017-08-01</td>\n",
       "      <td>885.34</td>\n",
       "      <td>2</td>\n",
       "    </tr>\n",
       "    <tr>\n",
       "      <th>3</th>\n",
       "      <td>2017-06-01</td>\n",
       "      <td>2023</td>\n",
       "      <td>2017-09-01</td>\n",
       "      <td>1931.30</td>\n",
       "      <td>3</td>\n",
       "    </tr>\n",
       "    <tr>\n",
       "      <th>4</th>\n",
       "      <td>2017-06-01</td>\n",
       "      <td>2023</td>\n",
       "      <td>2017-10-01</td>\n",
       "      <td>2068.58</td>\n",
       "      <td>4</td>\n",
       "    </tr>\n",
       "  </tbody>\n",
       "</table>\n",
       "</div>"
      ],
      "text/plain": [
       "  first_order_month  n_buyers order_month  revenue  cohort_lifetime\n",
       "0        2017-06-01      2023  2017-06-01  9557.49                0\n",
       "1        2017-06-01      2023  2017-07-01   981.82                1\n",
       "2        2017-06-01      2023  2017-08-01   885.34                2\n",
       "3        2017-06-01      2023  2017-09-01  1931.30                3\n",
       "4        2017-06-01      2023  2017-10-01  2068.58                4"
      ]
     },
     "execution_count": 51,
     "metadata": {},
     "output_type": "execute_result"
    }
   ],
   "source": [
    "ltv_report = pd.merge(n_buyers, ltv_cohorts, on='first_order_month')\n",
    "ltv_report['cohort_lifetime'] = (ltv_report['order_month'] - ltv_report['first_order_month']) / np.timedelta64(1, 'M')\n",
    "ltv_report['cohort_lifetime'] = ltv_report['cohort_lifetime'].round().astype('int')\n",
    "ltv_report.head()"
   ]
  },
  {
   "cell_type": "markdown",
   "metadata": {},
   "source": [
    "Наконец, найдём LTV. Разделим прибыль когорт за каждый месяц на общее число пользователей в каждой когорте. Составим сводную таблицу:"
   ]
  },
  {
   "cell_type": "code",
   "execution_count": 52,
   "metadata": {},
   "outputs": [
    {
     "data": {
      "text/html": [
       "<div>\n",
       "<style scoped>\n",
       "    .dataframe tbody tr th:only-of-type {\n",
       "        vertical-align: middle;\n",
       "    }\n",
       "\n",
       "    .dataframe tbody tr th {\n",
       "        vertical-align: top;\n",
       "    }\n",
       "\n",
       "    .dataframe thead th {\n",
       "        text-align: right;\n",
       "    }\n",
       "</style>\n",
       "<table border=\"1\" class=\"dataframe\">\n",
       "  <thead>\n",
       "    <tr style=\"text-align: right;\">\n",
       "      <th>cohort_lifetime</th>\n",
       "      <th>0</th>\n",
       "      <th>1</th>\n",
       "      <th>2</th>\n",
       "      <th>3</th>\n",
       "      <th>4</th>\n",
       "      <th>5</th>\n",
       "      <th>6</th>\n",
       "      <th>7</th>\n",
       "      <th>8</th>\n",
       "      <th>9</th>\n",
       "      <th>10</th>\n",
       "      <th>11</th>\n",
       "    </tr>\n",
       "    <tr>\n",
       "      <th>first_order_month</th>\n",
       "      <th></th>\n",
       "      <th></th>\n",
       "      <th></th>\n",
       "      <th></th>\n",
       "      <th></th>\n",
       "      <th></th>\n",
       "      <th></th>\n",
       "      <th></th>\n",
       "      <th></th>\n",
       "      <th></th>\n",
       "      <th></th>\n",
       "      <th></th>\n",
       "    </tr>\n",
       "  </thead>\n",
       "  <tbody>\n",
       "    <tr>\n",
       "      <th>2017-06-01</th>\n",
       "      <td>4.72</td>\n",
       "      <td>5.21</td>\n",
       "      <td>5.65</td>\n",
       "      <td>6.6</td>\n",
       "      <td>7.62</td>\n",
       "      <td>8.36</td>\n",
       "      <td>9.31</td>\n",
       "      <td>9.89</td>\n",
       "      <td>10.45</td>\n",
       "      <td>11.05</td>\n",
       "      <td>11.62</td>\n",
       "      <td>11.88</td>\n",
       "    </tr>\n",
       "    <tr>\n",
       "      <th>2017-07-01</th>\n",
       "      <td>6.01</td>\n",
       "      <td>6.35</td>\n",
       "      <td>6.97</td>\n",
       "      <td>7.33</td>\n",
       "      <td>7.5</td>\n",
       "      <td>7.66</td>\n",
       "      <td>7.78</td>\n",
       "      <td>7.92</td>\n",
       "      <td>8.08</td>\n",
       "      <td>8.23</td>\n",
       "      <td>8.39</td>\n",
       "      <td></td>\n",
       "    </tr>\n",
       "    <tr>\n",
       "      <th>2017-08-01</th>\n",
       "      <td>5.28</td>\n",
       "      <td>5.75</td>\n",
       "      <td>6.21</td>\n",
       "      <td>6.6</td>\n",
       "      <td>7.09</td>\n",
       "      <td>7.38</td>\n",
       "      <td>7.59</td>\n",
       "      <td>7.99</td>\n",
       "      <td>8.28</td>\n",
       "      <td>8.47</td>\n",
       "      <td></td>\n",
       "      <td></td>\n",
       "    </tr>\n",
       "    <tr>\n",
       "      <th>2017-09-01</th>\n",
       "      <td>5.64</td>\n",
       "      <td>6.76</td>\n",
       "      <td>7.28</td>\n",
       "      <td>11.26</td>\n",
       "      <td>11.66</td>\n",
       "      <td>12.31</td>\n",
       "      <td>13.01</td>\n",
       "      <td>13.25</td>\n",
       "      <td>13.44</td>\n",
       "      <td></td>\n",
       "      <td></td>\n",
       "      <td></td>\n",
       "    </tr>\n",
       "    <tr>\n",
       "      <th>2017-10-01</th>\n",
       "      <td>5.00</td>\n",
       "      <td>5.54</td>\n",
       "      <td>5.73</td>\n",
       "      <td>5.89</td>\n",
       "      <td>6.04</td>\n",
       "      <td>6.16</td>\n",
       "      <td>6.24</td>\n",
       "      <td>6.36</td>\n",
       "      <td></td>\n",
       "      <td></td>\n",
       "      <td></td>\n",
       "      <td></td>\n",
       "    </tr>\n",
       "    <tr>\n",
       "      <th>2017-11-01</th>\n",
       "      <td>5.15</td>\n",
       "      <td>5.55</td>\n",
       "      <td>5.75</td>\n",
       "      <td>6.08</td>\n",
       "      <td>6.23</td>\n",
       "      <td>6.28</td>\n",
       "      <td>6.4</td>\n",
       "      <td></td>\n",
       "      <td></td>\n",
       "      <td></td>\n",
       "      <td></td>\n",
       "      <td></td>\n",
       "    </tr>\n",
       "    <tr>\n",
       "      <th>2017-12-01</th>\n",
       "      <td>4.74</td>\n",
       "      <td>5</td>\n",
       "      <td>5.92</td>\n",
       "      <td>6.99</td>\n",
       "      <td>7.3</td>\n",
       "      <td>7.64</td>\n",
       "      <td></td>\n",
       "      <td></td>\n",
       "      <td></td>\n",
       "      <td></td>\n",
       "      <td></td>\n",
       "      <td></td>\n",
       "    </tr>\n",
       "    <tr>\n",
       "      <th>2018-01-01</th>\n",
       "      <td>4.14</td>\n",
       "      <td>4.43</td>\n",
       "      <td>4.73</td>\n",
       "      <td>4.88</td>\n",
       "      <td>4.94</td>\n",
       "      <td></td>\n",
       "      <td></td>\n",
       "      <td></td>\n",
       "      <td></td>\n",
       "      <td></td>\n",
       "      <td></td>\n",
       "      <td></td>\n",
       "    </tr>\n",
       "    <tr>\n",
       "      <th>2018-02-01</th>\n",
       "      <td>4.16</td>\n",
       "      <td>4.44</td>\n",
       "      <td>4.51</td>\n",
       "      <td>4.59</td>\n",
       "      <td></td>\n",
       "      <td></td>\n",
       "      <td></td>\n",
       "      <td></td>\n",
       "      <td></td>\n",
       "      <td></td>\n",
       "      <td></td>\n",
       "      <td></td>\n",
       "    </tr>\n",
       "    <tr>\n",
       "      <th>2018-03-01</th>\n",
       "      <td>4.84</td>\n",
       "      <td>5.14</td>\n",
       "      <td>5.46</td>\n",
       "      <td></td>\n",
       "      <td></td>\n",
       "      <td></td>\n",
       "      <td></td>\n",
       "      <td></td>\n",
       "      <td></td>\n",
       "      <td></td>\n",
       "      <td></td>\n",
       "      <td></td>\n",
       "    </tr>\n",
       "    <tr>\n",
       "      <th>2018-04-01</th>\n",
       "      <td>4.66</td>\n",
       "      <td>5.19</td>\n",
       "      <td></td>\n",
       "      <td></td>\n",
       "      <td></td>\n",
       "      <td></td>\n",
       "      <td></td>\n",
       "      <td></td>\n",
       "      <td></td>\n",
       "      <td></td>\n",
       "      <td></td>\n",
       "      <td></td>\n",
       "    </tr>\n",
       "    <tr>\n",
       "      <th>2018-05-01</th>\n",
       "      <td>4.66</td>\n",
       "      <td></td>\n",
       "      <td></td>\n",
       "      <td></td>\n",
       "      <td></td>\n",
       "      <td></td>\n",
       "      <td></td>\n",
       "      <td></td>\n",
       "      <td></td>\n",
       "      <td></td>\n",
       "      <td></td>\n",
       "      <td></td>\n",
       "    </tr>\n",
       "    <tr>\n",
       "      <th>2018-06-01</th>\n",
       "      <td>3.42</td>\n",
       "      <td></td>\n",
       "      <td></td>\n",
       "      <td></td>\n",
       "      <td></td>\n",
       "      <td></td>\n",
       "      <td></td>\n",
       "      <td></td>\n",
       "      <td></td>\n",
       "      <td></td>\n",
       "      <td></td>\n",
       "      <td></td>\n",
       "    </tr>\n",
       "  </tbody>\n",
       "</table>\n",
       "</div>"
      ],
      "text/plain": [
       "cohort_lifetime      0     1     2      3      4      5      6      7      8   \\\n",
       "first_order_month                                                               \n",
       "2017-06-01         4.72  5.21  5.65    6.6   7.62   8.36   9.31   9.89  10.45   \n",
       "2017-07-01         6.01  6.35  6.97   7.33    7.5   7.66   7.78   7.92   8.08   \n",
       "2017-08-01         5.28  5.75  6.21    6.6   7.09   7.38   7.59   7.99   8.28   \n",
       "2017-09-01         5.64  6.76  7.28  11.26  11.66  12.31  13.01  13.25  13.44   \n",
       "2017-10-01         5.00  5.54  5.73   5.89   6.04   6.16   6.24   6.36          \n",
       "2017-11-01         5.15  5.55  5.75   6.08   6.23   6.28    6.4                 \n",
       "2017-12-01         4.74     5  5.92   6.99    7.3   7.64                        \n",
       "2018-01-01         4.14  4.43  4.73   4.88   4.94                               \n",
       "2018-02-01         4.16  4.44  4.51   4.59                                      \n",
       "2018-03-01         4.84  5.14  5.46                                             \n",
       "2018-04-01         4.66  5.19                                                   \n",
       "2018-05-01         4.66                                                         \n",
       "2018-06-01         3.42                                                         \n",
       "\n",
       "cohort_lifetime       9      10     11  \n",
       "first_order_month                       \n",
       "2017-06-01         11.05  11.62  11.88  \n",
       "2017-07-01          8.23   8.39         \n",
       "2017-08-01          8.47                \n",
       "2017-09-01                              \n",
       "2017-10-01                              \n",
       "2017-11-01                              \n",
       "2017-12-01                              \n",
       "2018-01-01                              \n",
       "2018-02-01                              \n",
       "2018-03-01                              \n",
       "2018-04-01                              \n",
       "2018-05-01                              \n",
       "2018-06-01                              "
      ]
     },
     "execution_count": 52,
     "metadata": {},
     "output_type": "execute_result"
    }
   ],
   "source": [
    "ltv_report['ltv'] = ltv_report['revenue'] / ltv_report['n_buyers']\n",
    "ltv_report['first_order_month'] = ltv_report['first_order_month'].dt.strftime('%Y-%m-%d')\n",
    "\n",
    "ltv_report_output = ltv_report.pivot_table(index='first_order_month', columns='cohort_lifetime', \n",
    "                            values='ltv', aggfunc='mean')\n",
    "ltv_report_output.cumsum(axis=1).round(2).fillna('')"
   ]
  },
  {
   "cell_type": "markdown",
   "metadata": {},
   "source": [
    "Добавим ограничение для когорт, младше 6 месяцев, то есть всех, начиная с января 2018г и ограничим жизненный цикл периодом в полгода. "
   ]
  },
  {
   "cell_type": "code",
   "execution_count": 53,
   "metadata": {},
   "outputs": [
    {
     "data": {
      "text/html": [
       "<div>\n",
       "<style scoped>\n",
       "    .dataframe tbody tr th:only-of-type {\n",
       "        vertical-align: middle;\n",
       "    }\n",
       "\n",
       "    .dataframe tbody tr th {\n",
       "        vertical-align: top;\n",
       "    }\n",
       "\n",
       "    .dataframe thead th {\n",
       "        text-align: right;\n",
       "    }\n",
       "</style>\n",
       "<table border=\"1\" class=\"dataframe\">\n",
       "  <thead>\n",
       "    <tr style=\"text-align: right;\">\n",
       "      <th>cohort_lifetime</th>\n",
       "      <th>0</th>\n",
       "      <th>1</th>\n",
       "      <th>2</th>\n",
       "      <th>3</th>\n",
       "      <th>4</th>\n",
       "      <th>5</th>\n",
       "    </tr>\n",
       "    <tr>\n",
       "      <th>first_order_month</th>\n",
       "      <th></th>\n",
       "      <th></th>\n",
       "      <th></th>\n",
       "      <th></th>\n",
       "      <th></th>\n",
       "      <th></th>\n",
       "    </tr>\n",
       "  </thead>\n",
       "  <tbody>\n",
       "    <tr>\n",
       "      <th>2017-06-01</th>\n",
       "      <td>4.72</td>\n",
       "      <td>5.21</td>\n",
       "      <td>5.65</td>\n",
       "      <td>6.60</td>\n",
       "      <td>7.62</td>\n",
       "      <td>8.36</td>\n",
       "    </tr>\n",
       "    <tr>\n",
       "      <th>2017-07-01</th>\n",
       "      <td>6.01</td>\n",
       "      <td>6.35</td>\n",
       "      <td>6.97</td>\n",
       "      <td>7.33</td>\n",
       "      <td>7.50</td>\n",
       "      <td>7.66</td>\n",
       "    </tr>\n",
       "    <tr>\n",
       "      <th>2017-08-01</th>\n",
       "      <td>5.28</td>\n",
       "      <td>5.75</td>\n",
       "      <td>6.21</td>\n",
       "      <td>6.60</td>\n",
       "      <td>7.09</td>\n",
       "      <td>7.38</td>\n",
       "    </tr>\n",
       "    <tr>\n",
       "      <th>2017-09-01</th>\n",
       "      <td>5.64</td>\n",
       "      <td>6.76</td>\n",
       "      <td>7.28</td>\n",
       "      <td>11.26</td>\n",
       "      <td>11.66</td>\n",
       "      <td>12.31</td>\n",
       "    </tr>\n",
       "    <tr>\n",
       "      <th>2017-10-01</th>\n",
       "      <td>5.00</td>\n",
       "      <td>5.54</td>\n",
       "      <td>5.73</td>\n",
       "      <td>5.89</td>\n",
       "      <td>6.04</td>\n",
       "      <td>6.16</td>\n",
       "    </tr>\n",
       "    <tr>\n",
       "      <th>2017-11-01</th>\n",
       "      <td>5.15</td>\n",
       "      <td>5.55</td>\n",
       "      <td>5.75</td>\n",
       "      <td>6.08</td>\n",
       "      <td>6.23</td>\n",
       "      <td>6.28</td>\n",
       "    </tr>\n",
       "    <tr>\n",
       "      <th>2017-12-01</th>\n",
       "      <td>4.74</td>\n",
       "      <td>5.00</td>\n",
       "      <td>5.92</td>\n",
       "      <td>6.99</td>\n",
       "      <td>7.30</td>\n",
       "      <td>7.64</td>\n",
       "    </tr>\n",
       "  </tbody>\n",
       "</table>\n",
       "</div>"
      ],
      "text/plain": [
       "cohort_lifetime       0     1     2      3      4      5\n",
       "first_order_month                                       \n",
       "2017-06-01         4.72  5.21  5.65   6.60   7.62   8.36\n",
       "2017-07-01         6.01  6.35  6.97   7.33   7.50   7.66\n",
       "2017-08-01         5.28  5.75  6.21   6.60   7.09   7.38\n",
       "2017-09-01         5.64  6.76  7.28  11.26  11.66  12.31\n",
       "2017-10-01         5.00  5.54  5.73   5.89   6.04   6.16\n",
       "2017-11-01         5.15  5.55  5.75   6.08   6.23   6.28\n",
       "2017-12-01         4.74  5.00  5.92   6.99   7.30   7.64"
      ]
     },
     "execution_count": 53,
     "metadata": {},
     "output_type": "execute_result"
    }
   ],
   "source": [
    "ltv_6_report = ltv_report.loc[(ltv_report['first_order_month'] < '2018-01-01') & (ltv_report['cohort_lifetime'] < 6)]\n",
    "\n",
    "ltv_6_report_output = ltv_6_report.pivot_table(index='first_order_month', columns='cohort_lifetime', \n",
    "                            values='ltv', aggfunc='mean')\n",
    "ltv_6_report_output.cumsum(axis=1).round(2).fillna('')"
   ]
  },
  {
   "cell_type": "markdown",
   "metadata": {},
   "source": [
    "Посмотрим, как это выглядит на графике:"
   ]
  },
  {
   "cell_type": "code",
   "execution_count": 54,
   "metadata": {},
   "outputs": [
    {
     "data": {
      "image/png": "[encoded data removed]",
      "text/plain": [
       "<Figure size 504x360 with 2 Axes>"
      ]
     },
     "metadata": {
      "needs_background": "light"
     },
     "output_type": "display_data"
    }
   ],
   "source": [
    "fig, ax = plt.subplots(figsize=(7, 5))\n",
    "ax = sns.heatmap(ltv_6_report_output.cumsum(axis=1).round(2), annot=True, linewidths=1, linecolor='gray')\n",
    "plt.title('Метрика LTV по ежемесячным когортам 2017 года за 6 месяцев')\n",
    "plt.xlabel('Cohort lifetime')\n",
    "plt.ylabel('Когорта');"
   ]
  },
  {
   "cell_type": "markdown",
   "metadata": {},
   "source": [
    "Минимальное значение `LTV` в конце обозначенного жизненного цикла - 6,2, максимальное - 12. Минимальное значение - 4,7 у июньской и декабрьской когорт. При этом первая выходит на 8,4, а последняя - на 7,6. Октябрьская и ноябрьская самые неказистые - вырастают всего на единицу за жизненный цикл. Сентябрьская когорта показвает аномальные результаты - уже на 3 месяц жизни `LTV` - 11 и продолжает расти. Остальные демонстрируют хорошие ровные показатели. "
   ]
  },
  {
   "cell_type": "markdown",
   "metadata": {},
   "source": [
    "Теперь проанализируем затраты:"
   ]
  },
  {
   "cell_type": "markdown",
   "metadata": {},
   "source": [
    "<div id='step5'/>\n",
    "\n",
    "#### Маркетинг"
   ]
  },
  {
   "cell_type": "markdown",
   "metadata": {},
   "source": [
    "Для анализа используем таблицу `costs_data`"
   ]
  },
  {
   "cell_type": "code",
   "execution_count": 55,
   "metadata": {},
   "outputs": [
    {
     "data": {
      "text/html": [
       "<div>\n",
       "<style scoped>\n",
       "    .dataframe tbody tr th:only-of-type {\n",
       "        vertical-align: middle;\n",
       "    }\n",
       "\n",
       "    .dataframe tbody tr th {\n",
       "        vertical-align: top;\n",
       "    }\n",
       "\n",
       "    .dataframe thead th {\n",
       "        text-align: right;\n",
       "    }\n",
       "</style>\n",
       "<table border=\"1\" class=\"dataframe\">\n",
       "  <thead>\n",
       "    <tr style=\"text-align: right;\">\n",
       "      <th></th>\n",
       "      <th>source_id</th>\n",
       "      <th>dt</th>\n",
       "      <th>costs</th>\n",
       "    </tr>\n",
       "  </thead>\n",
       "  <tbody>\n",
       "    <tr>\n",
       "      <th>1945</th>\n",
       "      <td>9</td>\n",
       "      <td>2017-10-08</td>\n",
       "      <td>14.59</td>\n",
       "    </tr>\n",
       "  </tbody>\n",
       "</table>\n",
       "</div>"
      ],
      "text/plain": [
       "      source_id         dt  costs\n",
       "1945          9 2017-10-08  14.59"
      ]
     },
     "execution_count": 55,
     "metadata": {},
     "output_type": "execute_result"
    }
   ],
   "source": [
    "costs_data.sample()"
   ]
  },
  {
   "cell_type": "markdown",
   "metadata": {},
   "source": [
    "Посчитаем, сколько всего потратили денег на рекламу:"
   ]
  },
  {
   "cell_type": "code",
   "execution_count": 56,
   "metadata": {},
   "outputs": [
    {
     "data": {
      "text/plain": [
       "329131.62"
      ]
     },
     "execution_count": 56,
     "metadata": {},
     "output_type": "execute_result"
    }
   ],
   "source": [
    "costs_data['costs'].sum()"
   ]
  },
  {
   "cell_type": "markdown",
   "metadata": {},
   "source": [
    "Сгруппируем расходы по источникам и выясним, сколько потратили на каждый источник:"
   ]
  },
  {
   "cell_type": "code",
   "execution_count": 57,
   "metadata": {},
   "outputs": [
    {
     "data": {
      "image/png": "[encoded data removed]",
      "text/plain": [
       "<Figure size 432x288 with 1 Axes>"
      ]
     },
     "metadata": {
      "needs_background": "light"
     },
     "output_type": "display_data"
    }
   ],
   "source": [
    "source_costs = costs_data.groupby('source_id').agg({'costs': 'sum'})\n",
    "source_costs.sort_values(by='costs', ascending=False)\n",
    "\n",
    "fig, ax = plt.subplots()\n",
    "source_costs.plot(kind='bar', grid=True, ax = ax)\n",
    "ax.set(title='Расходы на рекламу по источникам привлечения', xlabel='Источник привлечения', ylabel='Сумма')\n",
    "ax.legend().set_visible(False) "
   ]
  },
  {
   "cell_type": "markdown",
   "metadata": {},
   "source": [
    "Дороже всего обошелся рекламный источник №3 - на него потратили почти половину всего рекламного бюджета.\n",
    "Посмотрим распределение расходов по месяцам:"
   ]
  },
  {
   "cell_type": "code",
   "execution_count": 58,
   "metadata": {},
   "outputs": [
    {
     "data": {
      "image/png": "[encoded data removed]",
      "text/plain": [
       "<Figure size 432x288 with 1 Axes>"
      ]
     },
     "metadata": {
      "needs_background": "light"
     },
     "output_type": "display_data"
    }
   ],
   "source": [
    "costs_data['costs_month'] = costs_data['dt'].astype('datetime64[M]')\n",
    "costs_data['costs_month'] = costs_data['costs_month'].dt.strftime('%Y-%m-%d')\n",
    "monthly_costs = costs_data.groupby('costs_month').agg({'costs': 'sum'})\n",
    "\n",
    "fig, ax = plt.subplots()\n",
    "monthly_costs.plot(kind='bar', grid=True, ax = ax)\n",
    "ax.set(title='Расходы на рекламу по месяцам', xlabel='Месяц', ylabel='Сумма');"
   ]
  },
  {
   "cell_type": "markdown",
   "metadata": {},
   "source": [
    "На графике хорошо видено, что вливать деньги в маркениг всерез начали в октябре 2016г, потом с января 2017 наблюдается небольшой спад, в апреле и мае - заметное сокращение расходов. "
   ]
  },
  {
   "cell_type": "markdown",
   "metadata": {},
   "source": [
    "- Сколько стоило привлечение одного покупателя из каждого источника?"
   ]
  },
  {
   "cell_type": "markdown",
   "metadata": {},
   "source": [
    "Чтобы найти стоимость привлечения нужно объединить таблицы и найти сколько пользователей зарегистрировалась после рекламы в каждом источнике. Потом выделить из них тех, кто совершил покупки и разделить расходы на источник на количество покупателей. "
   ]
  },
  {
   "cell_type": "code",
   "execution_count": 59,
   "metadata": {},
   "outputs": [
    {
     "data": {
      "text/html": [
       "<div>\n",
       "<style scoped>\n",
       "    .dataframe tbody tr th:only-of-type {\n",
       "        vertical-align: middle;\n",
       "    }\n",
       "\n",
       "    .dataframe tbody tr th {\n",
       "        vertical-align: top;\n",
       "    }\n",
       "\n",
       "    .dataframe thead th {\n",
       "        text-align: right;\n",
       "    }\n",
       "</style>\n",
       "<table border=\"1\" class=\"dataframe\">\n",
       "  <thead>\n",
       "    <tr style=\"text-align: right;\">\n",
       "      <th></th>\n",
       "      <th>device</th>\n",
       "      <th>end_ts</th>\n",
       "      <th>source_id</th>\n",
       "      <th>start_ts</th>\n",
       "      <th>uid</th>\n",
       "      <th>session_year</th>\n",
       "      <th>session_month</th>\n",
       "      <th>session_week</th>\n",
       "      <th>session_date</th>\n",
       "      <th>session_duration_sec</th>\n",
       "    </tr>\n",
       "  </thead>\n",
       "  <tbody>\n",
       "    <tr>\n",
       "      <th>354057</th>\n",
       "      <td>touch</td>\n",
       "      <td>2017-07-06 20:20:00</td>\n",
       "      <td>3</td>\n",
       "      <td>2017-07-06 20:13:00</td>\n",
       "      <td>7874255147210496477</td>\n",
       "      <td>2017-01-01</td>\n",
       "      <td>2017-07-01</td>\n",
       "      <td>2017-07-06</td>\n",
       "      <td>2017-07-06</td>\n",
       "      <td>420</td>\n",
       "    </tr>\n",
       "  </tbody>\n",
       "</table>\n",
       "</div>"
      ],
      "text/plain": [
       "       device              end_ts  source_id            start_ts  \\\n",
       "354057  touch 2017-07-06 20:20:00          3 2017-07-06 20:13:00   \n",
       "\n",
       "                        uid session_year session_month session_week  \\\n",
       "354057  7874255147210496477   2017-01-01    2017-07-01   2017-07-06   \n",
       "\n",
       "       session_date  session_duration_sec  \n",
       "354057   2017-07-06                   420  "
      ]
     },
     "execution_count": 59,
     "metadata": {},
     "output_type": "execute_result"
    }
   ],
   "source": [
    "visits_data.sample()"
   ]
  },
  {
   "cell_type": "markdown",
   "metadata": {},
   "source": [
    "Создадим таблицу с первыми визитами пользователей:"
   ]
  },
  {
   "cell_type": "code",
   "execution_count": 60,
   "metadata": {},
   "outputs": [
    {
     "data": {
      "text/html": [
       "<div>\n",
       "<style scoped>\n",
       "    .dataframe tbody tr th:only-of-type {\n",
       "        vertical-align: middle;\n",
       "    }\n",
       "\n",
       "    .dataframe tbody tr th {\n",
       "        vertical-align: top;\n",
       "    }\n",
       "\n",
       "    .dataframe thead th {\n",
       "        text-align: right;\n",
       "    }\n",
       "</style>\n",
       "<table border=\"1\" class=\"dataframe\">\n",
       "  <thead>\n",
       "    <tr style=\"text-align: right;\">\n",
       "      <th></th>\n",
       "      <th>uid</th>\n",
       "      <th>start_ts</th>\n",
       "      <th>source_id</th>\n",
       "      <th>device</th>\n",
       "    </tr>\n",
       "  </thead>\n",
       "  <tbody>\n",
       "    <tr>\n",
       "      <th>140802</th>\n",
       "      <td>11371579041798954430</td>\n",
       "      <td>2017-12-12 03:04:00</td>\n",
       "      <td>2</td>\n",
       "      <td>desktop</td>\n",
       "    </tr>\n",
       "  </tbody>\n",
       "</table>\n",
       "</div>"
      ],
      "text/plain": [
       "                         uid            start_ts  source_id   device\n",
       "140802  11371579041798954430 2017-12-12 03:04:00          2  desktop"
      ]
     },
     "execution_count": 60,
     "metadata": {},
     "output_type": "execute_result"
    }
   ],
   "source": [
    "users = visits_data.sort_values(by = ['uid', 'start_ts'\n",
    "                                     ]).groupby('uid').agg({'start_ts' : 'first', \n",
    "                                                            'source_id': 'first', \n",
    "                                                            'device': 'first'}).reset_index()\n",
    "users.sample()"
   ]
  },
  {
   "cell_type": "markdown",
   "metadata": {},
   "source": [
    "Теперь соединим таблицу с пользователями и таблицу покупок и сгруппируем покупателей по `source_id`:"
   ]
  },
  {
   "cell_type": "code",
   "execution_count": 61,
   "metadata": {},
   "outputs": [
    {
     "data": {
      "text/html": [
       "<div>\n",
       "<style scoped>\n",
       "    .dataframe tbody tr th:only-of-type {\n",
       "        vertical-align: middle;\n",
       "    }\n",
       "\n",
       "    .dataframe tbody tr th {\n",
       "        vertical-align: top;\n",
       "    }\n",
       "\n",
       "    .dataframe thead th {\n",
       "        text-align: right;\n",
       "    }\n",
       "</style>\n",
       "<table border=\"1\" class=\"dataframe\">\n",
       "  <thead>\n",
       "    <tr style=\"text-align: right;\">\n",
       "      <th></th>\n",
       "      <th>uid</th>\n",
       "      <th>start_ts</th>\n",
       "      <th>source_id</th>\n",
       "      <th>device</th>\n",
       "      <th>buy_ts</th>\n",
       "      <th>revenue</th>\n",
       "      <th>order_month</th>\n",
       "    </tr>\n",
       "  </thead>\n",
       "  <tbody>\n",
       "    <tr>\n",
       "      <th>27019</th>\n",
       "      <td>9761882100775387372</td>\n",
       "      <td>2018-01-31 10:46:00</td>\n",
       "      <td>2</td>\n",
       "      <td>desktop</td>\n",
       "      <td>2018-01-31 10:46:00</td>\n",
       "      <td>1.22</td>\n",
       "      <td>2018-01-01</td>\n",
       "    </tr>\n",
       "  </tbody>\n",
       "</table>\n",
       "</div>"
      ],
      "text/plain": [
       "                       uid            start_ts  source_id   device  \\\n",
       "27019  9761882100775387372 2018-01-31 10:46:00          2  desktop   \n",
       "\n",
       "                   buy_ts  revenue order_month  \n",
       "27019 2018-01-31 10:46:00     1.22  2018-01-01  "
      ]
     },
     "execution_count": 61,
     "metadata": {},
     "output_type": "execute_result"
    }
   ],
   "source": [
    "users_orders = pd.merge(users, orders_data, on = 'uid')\n",
    "users_orders.sample()"
   ]
  },
  {
   "cell_type": "code",
   "execution_count": 62,
   "metadata": {},
   "outputs": [
    {
     "data": {
      "text/html": [
       "<div>\n",
       "<style scoped>\n",
       "    .dataframe tbody tr th:only-of-type {\n",
       "        vertical-align: middle;\n",
       "    }\n",
       "\n",
       "    .dataframe tbody tr th {\n",
       "        vertical-align: top;\n",
       "    }\n",
       "\n",
       "    .dataframe thead th {\n",
       "        text-align: right;\n",
       "    }\n",
       "</style>\n",
       "<table border=\"1\" class=\"dataframe\">\n",
       "  <thead>\n",
       "    <tr style=\"text-align: right;\">\n",
       "      <th></th>\n",
       "      <th>source_id</th>\n",
       "      <th>uid</th>\n",
       "    </tr>\n",
       "  </thead>\n",
       "  <tbody>\n",
       "    <tr>\n",
       "      <th>0</th>\n",
       "      <td>3</td>\n",
       "      <td>10473</td>\n",
       "    </tr>\n",
       "    <tr>\n",
       "      <th>1</th>\n",
       "      <td>4</td>\n",
       "      <td>10296</td>\n",
       "    </tr>\n",
       "    <tr>\n",
       "      <th>2</th>\n",
       "      <td>5</td>\n",
       "      <td>6931</td>\n",
       "    </tr>\n",
       "    <tr>\n",
       "      <th>3</th>\n",
       "      <td>2</td>\n",
       "      <td>3506</td>\n",
       "    </tr>\n",
       "    <tr>\n",
       "      <th>4</th>\n",
       "      <td>1</td>\n",
       "      <td>2899</td>\n",
       "    </tr>\n",
       "    <tr>\n",
       "      <th>5</th>\n",
       "      <td>10</td>\n",
       "      <td>1329</td>\n",
       "    </tr>\n",
       "    <tr>\n",
       "      <th>6</th>\n",
       "      <td>9</td>\n",
       "      <td>1088</td>\n",
       "    </tr>\n",
       "    <tr>\n",
       "      <th>7</th>\n",
       "      <td>7</td>\n",
       "      <td>1</td>\n",
       "    </tr>\n",
       "  </tbody>\n",
       "</table>\n",
       "</div>"
      ],
      "text/plain": [
       "   source_id    uid\n",
       "0          3  10473\n",
       "1          4  10296\n",
       "2          5   6931\n",
       "3          2   3506\n",
       "4          1   2899\n",
       "5         10   1329\n",
       "6          9   1088\n",
       "7          7      1"
      ]
     },
     "execution_count": 62,
     "metadata": {},
     "output_type": "execute_result"
    }
   ],
   "source": [
    "orders_source = users_orders.groupby('source_id').agg({'uid': 'nunique'})\n",
    "orders_source.sort_values(by='uid', ascending=False).reset_index()"
   ]
  },
  {
   "cell_type": "markdown",
   "metadata": {},
   "source": [
    "Соединим таблицы с расходами и пользователями и расчитаем стоимость привлечения покупателя по источникам:"
   ]
  },
  {
   "cell_type": "code",
   "execution_count": 63,
   "metadata": {},
   "outputs": [
    {
     "data": {
      "image/png": "[encoded data removed]",
      "text/plain": [
       "<Figure size 432x288 with 1 Axes>"
      ]
     },
     "metadata": {
      "needs_background": "light"
     },
     "output_type": "display_data"
    }
   ],
   "source": [
    "source_costs = source_costs.join(orders_source, on='source_id')\n",
    "\n",
    "source_costs['cost_per_user'] = source_costs['costs'] / source_costs['uid']\n",
    "source_costs.sort_values(by='cost_per_user',ascending=False)\n",
    "\n",
    "fig, ax = plt.subplots()\n",
    "source_costs['cost_per_user'].sort_values(ascending=False).plot(kind='bar', grid=True, ax = ax)\n",
    "ax.set(title='Стоимость привлечения покупателя по источникам рекламы', xlabel='Источник', ylabel='Сумма');"
   ]
  },
  {
   "cell_type": "markdown",
   "metadata": {},
   "source": [
    "На графике видно, что дороже всего покупатели из источника №3 (13,5 ед). Самый дешевый источник - №10 (4,4)."
   ]
  },
  {
   "cell_type": "markdown",
   "metadata": {},
   "source": [
    "- На сколько окупились расходы? (`ROI`)\n",
    "\n",
    "Отобразите на графиках, как эти метрики отличаются по устройствам и по рекламным источникам? Как они меняются во времени?"
   ]
  },
  {
   "cell_type": "markdown",
   "metadata": {},
   "source": [
    "Расчитаем общий `ROI` по когортам:"
   ]
  },
  {
   "cell_type": "markdown",
   "metadata": {},
   "source": [
    "У нас есть рассчитанная ранее `LTV`, теперь посчитаем `CAC` и найдем `ROI`."
   ]
  },
  {
   "cell_type": "code",
   "execution_count": 64,
   "metadata": {},
   "outputs": [
    {
     "data": {
      "text/html": [
       "<div>\n",
       "<style scoped>\n",
       "    .dataframe tbody tr th:only-of-type {\n",
       "        vertical-align: middle;\n",
       "    }\n",
       "\n",
       "    .dataframe tbody tr th {\n",
       "        vertical-align: top;\n",
       "    }\n",
       "\n",
       "    .dataframe thead th {\n",
       "        text-align: right;\n",
       "    }\n",
       "</style>\n",
       "<table border=\"1\" class=\"dataframe\">\n",
       "  <thead>\n",
       "    <tr style=\"text-align: right;\">\n",
       "      <th></th>\n",
       "      <th>source_id</th>\n",
       "      <th>dt</th>\n",
       "      <th>costs</th>\n",
       "      <th>costs_month</th>\n",
       "    </tr>\n",
       "  </thead>\n",
       "  <tbody>\n",
       "    <tr>\n",
       "      <th>354</th>\n",
       "      <td>1</td>\n",
       "      <td>2018-05-23</td>\n",
       "      <td>36.25</td>\n",
       "      <td>2018-05-01</td>\n",
       "    </tr>\n",
       "  </tbody>\n",
       "</table>\n",
       "</div>"
      ],
      "text/plain": [
       "     source_id         dt  costs costs_month\n",
       "354          1 2018-05-23  36.25  2018-05-01"
      ]
     },
     "execution_count": 64,
     "metadata": {},
     "output_type": "execute_result"
    }
   ],
   "source": [
    "costs_data.sample()"
   ]
  },
  {
   "cell_type": "code",
   "execution_count": 65,
   "metadata": {},
   "outputs": [
    {
     "data": {
      "text/html": [
       "<div>\n",
       "<style scoped>\n",
       "    .dataframe tbody tr th:only-of-type {\n",
       "        vertical-align: middle;\n",
       "    }\n",
       "\n",
       "    .dataframe tbody tr th {\n",
       "        vertical-align: top;\n",
       "    }\n",
       "\n",
       "    .dataframe thead th {\n",
       "        text-align: right;\n",
       "    }\n",
       "</style>\n",
       "<table border=\"1\" class=\"dataframe\">\n",
       "  <thead>\n",
       "    <tr style=\"text-align: right;\">\n",
       "      <th></th>\n",
       "      <th>costs_month</th>\n",
       "      <th>s1_cost</th>\n",
       "      <th>s2_cost</th>\n",
       "      <th>s3_cost</th>\n",
       "      <th>s4_cost</th>\n",
       "      <th>s5_cost</th>\n",
       "      <th>s9_cost</th>\n",
       "      <th>s10_cost</th>\n",
       "      <th>total_costs</th>\n",
       "    </tr>\n",
       "  </thead>\n",
       "  <tbody>\n",
       "    <tr>\n",
       "      <th>0</th>\n",
       "      <td>2017-06-01</td>\n",
       "      <td>1125.61</td>\n",
       "      <td>2427.38</td>\n",
       "      <td>7731.65</td>\n",
       "      <td>3514.80</td>\n",
       "      <td>2616.12</td>\n",
       "      <td>285.22</td>\n",
       "      <td>314.22</td>\n",
       "      <td>18015.00</td>\n",
       "    </tr>\n",
       "    <tr>\n",
       "      <th>1</th>\n",
       "      <td>2017-07-01</td>\n",
       "      <td>1072.88</td>\n",
       "      <td>2333.11</td>\n",
       "      <td>7674.37</td>\n",
       "      <td>3529.73</td>\n",
       "      <td>2998.14</td>\n",
       "      <td>302.54</td>\n",
       "      <td>329.82</td>\n",
       "      <td>18240.59</td>\n",
       "    </tr>\n",
       "    <tr>\n",
       "      <th>2</th>\n",
       "      <td>2017-08-01</td>\n",
       "      <td>951.81</td>\n",
       "      <td>1811.05</td>\n",
       "      <td>6143.54</td>\n",
       "      <td>3217.36</td>\n",
       "      <td>2185.28</td>\n",
       "      <td>248.93</td>\n",
       "      <td>232.57</td>\n",
       "      <td>14790.54</td>\n",
       "    </tr>\n",
       "    <tr>\n",
       "      <th>3</th>\n",
       "      <td>2017-09-01</td>\n",
       "      <td>1502.01</td>\n",
       "      <td>2985.66</td>\n",
       "      <td>9963.55</td>\n",
       "      <td>5192.26</td>\n",
       "      <td>3849.14</td>\n",
       "      <td>415.62</td>\n",
       "      <td>460.67</td>\n",
       "      <td>24368.91</td>\n",
       "    </tr>\n",
       "    <tr>\n",
       "      <th>4</th>\n",
       "      <td>2017-10-01</td>\n",
       "      <td>2315.75</td>\n",
       "      <td>4845.00</td>\n",
       "      <td>15737.24</td>\n",
       "      <td>6420.84</td>\n",
       "      <td>5767.40</td>\n",
       "      <td>609.41</td>\n",
       "      <td>627.24</td>\n",
       "      <td>36322.88</td>\n",
       "    </tr>\n",
       "    <tr>\n",
       "      <th>5</th>\n",
       "      <td>2017-11-01</td>\n",
       "      <td>2445.16</td>\n",
       "      <td>5247.68</td>\n",
       "      <td>17025.34</td>\n",
       "      <td>5388.82</td>\n",
       "      <td>6325.34</td>\n",
       "      <td>683.18</td>\n",
       "      <td>792.36</td>\n",
       "      <td>37907.88</td>\n",
       "    </tr>\n",
       "    <tr>\n",
       "      <th>6</th>\n",
       "      <td>2017-12-01</td>\n",
       "      <td>2341.20</td>\n",
       "      <td>4897.80</td>\n",
       "      <td>16219.52</td>\n",
       "      <td>7680.47</td>\n",
       "      <td>5872.52</td>\n",
       "      <td>657.98</td>\n",
       "      <td>645.86</td>\n",
       "      <td>38315.35</td>\n",
       "    </tr>\n",
       "    <tr>\n",
       "      <th>7</th>\n",
       "      <td>2018-01-01</td>\n",
       "      <td>2186.18</td>\n",
       "      <td>4157.74</td>\n",
       "      <td>14808.78</td>\n",
       "      <td>5832.79</td>\n",
       "      <td>5371.52</td>\n",
       "      <td>547.16</td>\n",
       "      <td>614.35</td>\n",
       "      <td>33518.52</td>\n",
       "    </tr>\n",
       "    <tr>\n",
       "      <th>8</th>\n",
       "      <td>2018-02-01</td>\n",
       "      <td>2204.48</td>\n",
       "      <td>4474.34</td>\n",
       "      <td>14228.56</td>\n",
       "      <td>5711.96</td>\n",
       "      <td>5071.31</td>\n",
       "      <td>551.50</td>\n",
       "      <td>480.88</td>\n",
       "      <td>32723.03</td>\n",
       "    </tr>\n",
       "    <tr>\n",
       "      <th>9</th>\n",
       "      <td>2018-03-01</td>\n",
       "      <td>1893.09</td>\n",
       "      <td>3943.14</td>\n",
       "      <td>13080.85</td>\n",
       "      <td>5961.87</td>\n",
       "      <td>4529.62</td>\n",
       "      <td>480.29</td>\n",
       "      <td>526.41</td>\n",
       "      <td>30415.27</td>\n",
       "    </tr>\n",
       "    <tr>\n",
       "      <th>10</th>\n",
       "      <td>2018-04-01</td>\n",
       "      <td>1327.49</td>\n",
       "      <td>2993.70</td>\n",
       "      <td>9296.81</td>\n",
       "      <td>4408.49</td>\n",
       "      <td>3501.15</td>\n",
       "      <td>373.49</td>\n",
       "      <td>388.25</td>\n",
       "      <td>22289.38</td>\n",
       "    </tr>\n",
       "    <tr>\n",
       "      <th>11</th>\n",
       "      <td>2018-05-01</td>\n",
       "      <td>1467.61</td>\n",
       "      <td>2689.44</td>\n",
       "      <td>9411.42</td>\n",
       "      <td>4214.21</td>\n",
       "      <td>3669.56</td>\n",
       "      <td>362.17</td>\n",
       "      <td>409.86</td>\n",
       "      <td>22224.27</td>\n",
       "    </tr>\n",
       "  </tbody>\n",
       "</table>\n",
       "</div>"
      ],
      "text/plain": [
       "   costs_month  s1_cost  s2_cost   s3_cost  s4_cost  s5_cost  s9_cost  \\\n",
       "0   2017-06-01  1125.61  2427.38   7731.65  3514.80  2616.12   285.22   \n",
       "1   2017-07-01  1072.88  2333.11   7674.37  3529.73  2998.14   302.54   \n",
       "2   2017-08-01   951.81  1811.05   6143.54  3217.36  2185.28   248.93   \n",
       "3   2017-09-01  1502.01  2985.66   9963.55  5192.26  3849.14   415.62   \n",
       "4   2017-10-01  2315.75  4845.00  15737.24  6420.84  5767.40   609.41   \n",
       "5   2017-11-01  2445.16  5247.68  17025.34  5388.82  6325.34   683.18   \n",
       "6   2017-12-01  2341.20  4897.80  16219.52  7680.47  5872.52   657.98   \n",
       "7   2018-01-01  2186.18  4157.74  14808.78  5832.79  5371.52   547.16   \n",
       "8   2018-02-01  2204.48  4474.34  14228.56  5711.96  5071.31   551.50   \n",
       "9   2018-03-01  1893.09  3943.14  13080.85  5961.87  4529.62   480.29   \n",
       "10  2018-04-01  1327.49  2993.70   9296.81  4408.49  3501.15   373.49   \n",
       "11  2018-05-01  1467.61  2689.44   9411.42  4214.21  3669.56   362.17   \n",
       "\n",
       "    s10_cost  total_costs  \n",
       "0     314.22     18015.00  \n",
       "1     329.82     18240.59  \n",
       "2     232.57     14790.54  \n",
       "3     460.67     24368.91  \n",
       "4     627.24     36322.88  \n",
       "5     792.36     37907.88  \n",
       "6     645.86     38315.35  \n",
       "7     614.35     33518.52  \n",
       "8     480.88     32723.03  \n",
       "9     526.41     30415.27  \n",
       "10    388.25     22289.38  \n",
       "11    409.86     22224.27  "
      ]
     },
     "execution_count": 65,
     "metadata": {},
     "output_type": "execute_result"
    }
   ],
   "source": [
    "costs_month = costs_data.pivot_table(index='costs_month', columns='source_id', values='costs', aggfunc='sum').reset_index()\n",
    "costs_month.columns = ['costs_month','s1_cost','s2_cost','s3_cost','s4_cost','s5_cost','s9_cost', 's10_cost']\n",
    "costs_month['total_costs'] = costs_month.sum(axis=1)\n",
    "costs_month"
   ]
  },
  {
   "cell_type": "code",
   "execution_count": 66,
   "metadata": {},
   "outputs": [
    {
     "data": {
      "text/html": [
       "<div>\n",
       "<style scoped>\n",
       "    .dataframe tbody tr th:only-of-type {\n",
       "        vertical-align: middle;\n",
       "    }\n",
       "\n",
       "    .dataframe tbody tr th {\n",
       "        vertical-align: top;\n",
       "    }\n",
       "\n",
       "    .dataframe thead th {\n",
       "        text-align: right;\n",
       "    }\n",
       "</style>\n",
       "<table border=\"1\" class=\"dataframe\">\n",
       "  <thead>\n",
       "    <tr style=\"text-align: right;\">\n",
       "      <th></th>\n",
       "      <th>costs_month</th>\n",
       "      <th>total_costs</th>\n",
       "    </tr>\n",
       "  </thead>\n",
       "  <tbody>\n",
       "    <tr>\n",
       "      <th>0</th>\n",
       "      <td>2017-06-01</td>\n",
       "      <td>18015.00</td>\n",
       "    </tr>\n",
       "    <tr>\n",
       "      <th>1</th>\n",
       "      <td>2017-07-01</td>\n",
       "      <td>18240.59</td>\n",
       "    </tr>\n",
       "    <tr>\n",
       "      <th>2</th>\n",
       "      <td>2017-08-01</td>\n",
       "      <td>14790.54</td>\n",
       "    </tr>\n",
       "    <tr>\n",
       "      <th>3</th>\n",
       "      <td>2017-09-01</td>\n",
       "      <td>24368.91</td>\n",
       "    </tr>\n",
       "    <tr>\n",
       "      <th>4</th>\n",
       "      <td>2017-10-01</td>\n",
       "      <td>36322.88</td>\n",
       "    </tr>\n",
       "    <tr>\n",
       "      <th>5</th>\n",
       "      <td>2017-11-01</td>\n",
       "      <td>37907.88</td>\n",
       "    </tr>\n",
       "    <tr>\n",
       "      <th>6</th>\n",
       "      <td>2017-12-01</td>\n",
       "      <td>38315.35</td>\n",
       "    </tr>\n",
       "    <tr>\n",
       "      <th>7</th>\n",
       "      <td>2018-01-01</td>\n",
       "      <td>33518.52</td>\n",
       "    </tr>\n",
       "    <tr>\n",
       "      <th>8</th>\n",
       "      <td>2018-02-01</td>\n",
       "      <td>32723.03</td>\n",
       "    </tr>\n",
       "    <tr>\n",
       "      <th>9</th>\n",
       "      <td>2018-03-01</td>\n",
       "      <td>30415.27</td>\n",
       "    </tr>\n",
       "    <tr>\n",
       "      <th>10</th>\n",
       "      <td>2018-04-01</td>\n",
       "      <td>22289.38</td>\n",
       "    </tr>\n",
       "    <tr>\n",
       "      <th>11</th>\n",
       "      <td>2018-05-01</td>\n",
       "      <td>22224.27</td>\n",
       "    </tr>\n",
       "  </tbody>\n",
       "</table>\n",
       "</div>"
      ],
      "text/plain": [
       "   costs_month  total_costs\n",
       "0   2017-06-01     18015.00\n",
       "1   2017-07-01     18240.59\n",
       "2   2017-08-01     14790.54\n",
       "3   2017-09-01     24368.91\n",
       "4   2017-10-01     36322.88\n",
       "5   2017-11-01     37907.88\n",
       "6   2017-12-01     38315.35\n",
       "7   2018-01-01     33518.52\n",
       "8   2018-02-01     32723.03\n",
       "9   2018-03-01     30415.27\n",
       "10  2018-04-01     22289.38\n",
       "11  2018-05-01     22224.27"
      ]
     },
     "execution_count": 66,
     "metadata": {},
     "output_type": "execute_result"
    }
   ],
   "source": [
    "total_costs = costs_month[['costs_month', 'total_costs']]\n",
    "total_costs"
   ]
  },
  {
   "cell_type": "code",
   "execution_count": 67,
   "metadata": {},
   "outputs": [
    {
     "data": {
      "text/html": [
       "<div>\n",
       "<style scoped>\n",
       "    .dataframe tbody tr th:only-of-type {\n",
       "        vertical-align: middle;\n",
       "    }\n",
       "\n",
       "    .dataframe tbody tr th {\n",
       "        vertical-align: top;\n",
       "    }\n",
       "\n",
       "    .dataframe thead th {\n",
       "        text-align: right;\n",
       "    }\n",
       "</style>\n",
       "<table border=\"1\" class=\"dataframe\">\n",
       "  <thead>\n",
       "    <tr style=\"text-align: right;\">\n",
       "      <th></th>\n",
       "      <th>first_order_month</th>\n",
       "      <th>n_buyers</th>\n",
       "      <th>order_month</th>\n",
       "      <th>revenue</th>\n",
       "      <th>cohort_lifetime</th>\n",
       "      <th>ltv</th>\n",
       "      <th>costs_month</th>\n",
       "      <th>total_costs</th>\n",
       "    </tr>\n",
       "  </thead>\n",
       "  <tbody>\n",
       "    <tr>\n",
       "      <th>0</th>\n",
       "      <td>2017-06-01</td>\n",
       "      <td>2023</td>\n",
       "      <td>2017-06-01</td>\n",
       "      <td>9557.49</td>\n",
       "      <td>0</td>\n",
       "      <td>4.724414</td>\n",
       "      <td>2017-06-01</td>\n",
       "      <td>18015.0</td>\n",
       "    </tr>\n",
       "    <tr>\n",
       "      <th>1</th>\n",
       "      <td>2017-06-01</td>\n",
       "      <td>2023</td>\n",
       "      <td>2017-07-01</td>\n",
       "      <td>981.82</td>\n",
       "      <td>1</td>\n",
       "      <td>0.485329</td>\n",
       "      <td>2017-06-01</td>\n",
       "      <td>18015.0</td>\n",
       "    </tr>\n",
       "    <tr>\n",
       "      <th>2</th>\n",
       "      <td>2017-06-01</td>\n",
       "      <td>2023</td>\n",
       "      <td>2017-08-01</td>\n",
       "      <td>885.34</td>\n",
       "      <td>2</td>\n",
       "      <td>0.437637</td>\n",
       "      <td>2017-06-01</td>\n",
       "      <td>18015.0</td>\n",
       "    </tr>\n",
       "    <tr>\n",
       "      <th>3</th>\n",
       "      <td>2017-06-01</td>\n",
       "      <td>2023</td>\n",
       "      <td>2017-09-01</td>\n",
       "      <td>1931.30</td>\n",
       "      <td>3</td>\n",
       "      <td>0.954671</td>\n",
       "      <td>2017-06-01</td>\n",
       "      <td>18015.0</td>\n",
       "    </tr>\n",
       "    <tr>\n",
       "      <th>4</th>\n",
       "      <td>2017-06-01</td>\n",
       "      <td>2023</td>\n",
       "      <td>2017-10-01</td>\n",
       "      <td>2068.58</td>\n",
       "      <td>4</td>\n",
       "      <td>1.022531</td>\n",
       "      <td>2017-06-01</td>\n",
       "      <td>18015.0</td>\n",
       "    </tr>\n",
       "  </tbody>\n",
       "</table>\n",
       "</div>"
      ],
      "text/plain": [
       "  first_order_month  n_buyers order_month  revenue  cohort_lifetime       ltv  \\\n",
       "0        2017-06-01      2023  2017-06-01  9557.49                0  4.724414   \n",
       "1        2017-06-01      2023  2017-07-01   981.82                1  0.485329   \n",
       "2        2017-06-01      2023  2017-08-01   885.34                2  0.437637   \n",
       "3        2017-06-01      2023  2017-09-01  1931.30                3  0.954671   \n",
       "4        2017-06-01      2023  2017-10-01  2068.58                4  1.022531   \n",
       "\n",
       "  costs_month  total_costs  \n",
       "0  2017-06-01      18015.0  \n",
       "1  2017-06-01      18015.0  \n",
       "2  2017-06-01      18015.0  \n",
       "3  2017-06-01      18015.0  \n",
       "4  2017-06-01      18015.0  "
      ]
     },
     "execution_count": 67,
     "metadata": {},
     "output_type": "execute_result"
    }
   ],
   "source": [
    "roi_report = pd.merge(ltv_report, total_costs, left_on='first_order_month', right_on='costs_month')\n",
    "roi_report.head()"
   ]
  },
  {
   "cell_type": "code",
   "execution_count": 68,
   "metadata": {},
   "outputs": [
    {
     "data": {
      "text/html": [
       "<div>\n",
       "<style scoped>\n",
       "    .dataframe tbody tr th:only-of-type {\n",
       "        vertical-align: middle;\n",
       "    }\n",
       "\n",
       "    .dataframe tbody tr th {\n",
       "        vertical-align: top;\n",
       "    }\n",
       "\n",
       "    .dataframe thead th {\n",
       "        text-align: right;\n",
       "    }\n",
       "</style>\n",
       "<table border=\"1\" class=\"dataframe\">\n",
       "  <thead>\n",
       "    <tr style=\"text-align: right;\">\n",
       "      <th>cohort_lifetime</th>\n",
       "      <th>0</th>\n",
       "      <th>1</th>\n",
       "      <th>2</th>\n",
       "      <th>3</th>\n",
       "      <th>4</th>\n",
       "      <th>5</th>\n",
       "      <th>6</th>\n",
       "      <th>7</th>\n",
       "      <th>8</th>\n",
       "      <th>9</th>\n",
       "      <th>10</th>\n",
       "      <th>11</th>\n",
       "    </tr>\n",
       "    <tr>\n",
       "      <th>first_order_month</th>\n",
       "      <th></th>\n",
       "      <th></th>\n",
       "      <th></th>\n",
       "      <th></th>\n",
       "      <th></th>\n",
       "      <th></th>\n",
       "      <th></th>\n",
       "      <th></th>\n",
       "      <th></th>\n",
       "      <th></th>\n",
       "      <th></th>\n",
       "      <th></th>\n",
       "    </tr>\n",
       "  </thead>\n",
       "  <tbody>\n",
       "    <tr>\n",
       "      <th>2017-06-01</th>\n",
       "      <td>0.53</td>\n",
       "      <td>0.59</td>\n",
       "      <td>0.63</td>\n",
       "      <td>0.74</td>\n",
       "      <td>0.86</td>\n",
       "      <td>0.94</td>\n",
       "      <td>1.05</td>\n",
       "      <td>1.11</td>\n",
       "      <td>1.17</td>\n",
       "      <td>1.24</td>\n",
       "      <td>1.31</td>\n",
       "      <td>1.33</td>\n",
       "    </tr>\n",
       "    <tr>\n",
       "      <th>2017-07-01</th>\n",
       "      <td>0.63</td>\n",
       "      <td>0.67</td>\n",
       "      <td>0.73</td>\n",
       "      <td>0.77</td>\n",
       "      <td>0.79</td>\n",
       "      <td>0.81</td>\n",
       "      <td>0.82</td>\n",
       "      <td>0.84</td>\n",
       "      <td>0.85</td>\n",
       "      <td>0.87</td>\n",
       "      <td>0.88</td>\n",
       "      <td></td>\n",
       "    </tr>\n",
       "    <tr>\n",
       "      <th>2017-08-01</th>\n",
       "      <td>0.49</td>\n",
       "      <td>0.53</td>\n",
       "      <td>0.57</td>\n",
       "      <td>0.61</td>\n",
       "      <td>0.66</td>\n",
       "      <td>0.68</td>\n",
       "      <td>0.7</td>\n",
       "      <td>0.74</td>\n",
       "      <td>0.77</td>\n",
       "      <td>0.78</td>\n",
       "      <td></td>\n",
       "      <td></td>\n",
       "    </tr>\n",
       "    <tr>\n",
       "      <th>2017-09-01</th>\n",
       "      <td>0.60</td>\n",
       "      <td>0.72</td>\n",
       "      <td>0.77</td>\n",
       "      <td>1.19</td>\n",
       "      <td>1.23</td>\n",
       "      <td>1.3</td>\n",
       "      <td>1.38</td>\n",
       "      <td>1.4</td>\n",
       "      <td>1.42</td>\n",
       "      <td></td>\n",
       "      <td></td>\n",
       "      <td></td>\n",
       "    </tr>\n",
       "    <tr>\n",
       "      <th>2017-10-01</th>\n",
       "      <td>0.60</td>\n",
       "      <td>0.66</td>\n",
       "      <td>0.68</td>\n",
       "      <td>0.7</td>\n",
       "      <td>0.72</td>\n",
       "      <td>0.74</td>\n",
       "      <td>0.75</td>\n",
       "      <td>0.76</td>\n",
       "      <td></td>\n",
       "      <td></td>\n",
       "      <td></td>\n",
       "      <td></td>\n",
       "    </tr>\n",
       "    <tr>\n",
       "      <th>2017-11-01</th>\n",
       "      <td>0.55</td>\n",
       "      <td>0.6</td>\n",
       "      <td>0.62</td>\n",
       "      <td>0.65</td>\n",
       "      <td>0.67</td>\n",
       "      <td>0.68</td>\n",
       "      <td>0.69</td>\n",
       "      <td></td>\n",
       "      <td></td>\n",
       "      <td></td>\n",
       "      <td></td>\n",
       "      <td></td>\n",
       "    </tr>\n",
       "    <tr>\n",
       "      <th>2017-12-01</th>\n",
       "      <td>0.54</td>\n",
       "      <td>0.57</td>\n",
       "      <td>0.68</td>\n",
       "      <td>0.8</td>\n",
       "      <td>0.84</td>\n",
       "      <td>0.87</td>\n",
       "      <td></td>\n",
       "      <td></td>\n",
       "      <td></td>\n",
       "      <td></td>\n",
       "      <td></td>\n",
       "      <td></td>\n",
       "    </tr>\n",
       "    <tr>\n",
       "      <th>2018-01-01</th>\n",
       "      <td>0.42</td>\n",
       "      <td>0.45</td>\n",
       "      <td>0.48</td>\n",
       "      <td>0.49</td>\n",
       "      <td>0.5</td>\n",
       "      <td></td>\n",
       "      <td></td>\n",
       "      <td></td>\n",
       "      <td></td>\n",
       "      <td></td>\n",
       "      <td></td>\n",
       "      <td></td>\n",
       "    </tr>\n",
       "    <tr>\n",
       "      <th>2018-02-01</th>\n",
       "      <td>0.46</td>\n",
       "      <td>0.49</td>\n",
       "      <td>0.5</td>\n",
       "      <td>0.51</td>\n",
       "      <td></td>\n",
       "      <td></td>\n",
       "      <td></td>\n",
       "      <td></td>\n",
       "      <td></td>\n",
       "      <td></td>\n",
       "      <td></td>\n",
       "      <td></td>\n",
       "    </tr>\n",
       "    <tr>\n",
       "      <th>2018-03-01</th>\n",
       "      <td>0.56</td>\n",
       "      <td>0.6</td>\n",
       "      <td>0.63</td>\n",
       "      <td></td>\n",
       "      <td></td>\n",
       "      <td></td>\n",
       "      <td></td>\n",
       "      <td></td>\n",
       "      <td></td>\n",
       "      <td></td>\n",
       "      <td></td>\n",
       "      <td></td>\n",
       "    </tr>\n",
       "    <tr>\n",
       "      <th>2018-04-01</th>\n",
       "      <td>0.48</td>\n",
       "      <td>0.53</td>\n",
       "      <td></td>\n",
       "      <td></td>\n",
       "      <td></td>\n",
       "      <td></td>\n",
       "      <td></td>\n",
       "      <td></td>\n",
       "      <td></td>\n",
       "      <td></td>\n",
       "      <td></td>\n",
       "      <td></td>\n",
       "    </tr>\n",
       "    <tr>\n",
       "      <th>2018-05-01</th>\n",
       "      <td>0.63</td>\n",
       "      <td></td>\n",
       "      <td></td>\n",
       "      <td></td>\n",
       "      <td></td>\n",
       "      <td></td>\n",
       "      <td></td>\n",
       "      <td></td>\n",
       "      <td></td>\n",
       "      <td></td>\n",
       "      <td></td>\n",
       "      <td></td>\n",
       "    </tr>\n",
       "  </tbody>\n",
       "</table>\n",
       "</div>"
      ],
      "text/plain": [
       "cohort_lifetime      0     1     2     3     4     5     6     7     8     9   \\\n",
       "first_order_month                                                               \n",
       "2017-06-01         0.53  0.59  0.63  0.74  0.86  0.94  1.05  1.11  1.17  1.24   \n",
       "2017-07-01         0.63  0.67  0.73  0.77  0.79  0.81  0.82  0.84  0.85  0.87   \n",
       "2017-08-01         0.49  0.53  0.57  0.61  0.66  0.68   0.7  0.74  0.77  0.78   \n",
       "2017-09-01         0.60  0.72  0.77  1.19  1.23   1.3  1.38   1.4  1.42         \n",
       "2017-10-01         0.60  0.66  0.68   0.7  0.72  0.74  0.75  0.76               \n",
       "2017-11-01         0.55   0.6  0.62  0.65  0.67  0.68  0.69                     \n",
       "2017-12-01         0.54  0.57  0.68   0.8  0.84  0.87                           \n",
       "2018-01-01         0.42  0.45  0.48  0.49   0.5                                 \n",
       "2018-02-01         0.46  0.49   0.5  0.51                                       \n",
       "2018-03-01         0.56   0.6  0.63                                             \n",
       "2018-04-01         0.48  0.53                                                   \n",
       "2018-05-01         0.63                                                         \n",
       "\n",
       "cohort_lifetime      10    11  \n",
       "first_order_month              \n",
       "2017-06-01         1.31  1.33  \n",
       "2017-07-01         0.88        \n",
       "2017-08-01                     \n",
       "2017-09-01                     \n",
       "2017-10-01                     \n",
       "2017-11-01                     \n",
       "2017-12-01                     \n",
       "2018-01-01                     \n",
       "2018-02-01                     \n",
       "2018-03-01                     \n",
       "2018-04-01                     \n",
       "2018-05-01                     "
      ]
     },
     "execution_count": 68,
     "metadata": {},
     "output_type": "execute_result"
    }
   ],
   "source": [
    "roi_report['cac'] = roi_report['total_costs'] / roi_report['n_buyers']\n",
    "roi_report['roi'] = roi_report['ltv'] / roi_report['cac']\n",
    "#roi_report['costs_month'] = roi_report['costs_month'].dt.strftime('%Y-%m-%d')\n",
    "roi_report_output = roi_report.pivot_table(index='first_order_month', columns='cohort_lifetime', \n",
    "                            values='roi', aggfunc='mean')\n",
    "roi_report_output.cumsum(axis=1).round(2).fillna('')"
   ]
  },
  {
   "cell_type": "markdown",
   "metadata": {},
   "source": [
    "Проанализируем метрику на когортах с одинаковым жизненным циклом (6 мес):"
   ]
  },
  {
   "cell_type": "code",
   "execution_count": 69,
   "metadata": {},
   "outputs": [
    {
     "data": {
      "text/html": [
       "<div>\n",
       "<style scoped>\n",
       "    .dataframe tbody tr th:only-of-type {\n",
       "        vertical-align: middle;\n",
       "    }\n",
       "\n",
       "    .dataframe tbody tr th {\n",
       "        vertical-align: top;\n",
       "    }\n",
       "\n",
       "    .dataframe thead th {\n",
       "        text-align: right;\n",
       "    }\n",
       "</style>\n",
       "<table border=\"1\" class=\"dataframe\">\n",
       "  <thead>\n",
       "    <tr style=\"text-align: right;\">\n",
       "      <th>cohort_lifetime</th>\n",
       "      <th>0</th>\n",
       "      <th>1</th>\n",
       "      <th>2</th>\n",
       "      <th>3</th>\n",
       "      <th>4</th>\n",
       "      <th>5</th>\n",
       "    </tr>\n",
       "    <tr>\n",
       "      <th>first_order_month</th>\n",
       "      <th></th>\n",
       "      <th></th>\n",
       "      <th></th>\n",
       "      <th></th>\n",
       "      <th></th>\n",
       "      <th></th>\n",
       "    </tr>\n",
       "  </thead>\n",
       "  <tbody>\n",
       "    <tr>\n",
       "      <th>2017-06-01</th>\n",
       "      <td>0.53</td>\n",
       "      <td>0.59</td>\n",
       "      <td>0.63</td>\n",
       "      <td>0.74</td>\n",
       "      <td>0.86</td>\n",
       "      <td>0.94</td>\n",
       "    </tr>\n",
       "    <tr>\n",
       "      <th>2017-07-01</th>\n",
       "      <td>0.63</td>\n",
       "      <td>0.67</td>\n",
       "      <td>0.73</td>\n",
       "      <td>0.77</td>\n",
       "      <td>0.79</td>\n",
       "      <td>0.81</td>\n",
       "    </tr>\n",
       "    <tr>\n",
       "      <th>2017-08-01</th>\n",
       "      <td>0.49</td>\n",
       "      <td>0.53</td>\n",
       "      <td>0.57</td>\n",
       "      <td>0.61</td>\n",
       "      <td>0.66</td>\n",
       "      <td>0.68</td>\n",
       "    </tr>\n",
       "    <tr>\n",
       "      <th>2017-09-01</th>\n",
       "      <td>0.60</td>\n",
       "      <td>0.72</td>\n",
       "      <td>0.77</td>\n",
       "      <td>1.19</td>\n",
       "      <td>1.23</td>\n",
       "      <td>1.30</td>\n",
       "    </tr>\n",
       "    <tr>\n",
       "      <th>2017-10-01</th>\n",
       "      <td>0.60</td>\n",
       "      <td>0.66</td>\n",
       "      <td>0.68</td>\n",
       "      <td>0.70</td>\n",
       "      <td>0.72</td>\n",
       "      <td>0.74</td>\n",
       "    </tr>\n",
       "    <tr>\n",
       "      <th>2017-11-01</th>\n",
       "      <td>0.55</td>\n",
       "      <td>0.60</td>\n",
       "      <td>0.62</td>\n",
       "      <td>0.65</td>\n",
       "      <td>0.67</td>\n",
       "      <td>0.68</td>\n",
       "    </tr>\n",
       "    <tr>\n",
       "      <th>2017-12-01</th>\n",
       "      <td>0.54</td>\n",
       "      <td>0.57</td>\n",
       "      <td>0.68</td>\n",
       "      <td>0.80</td>\n",
       "      <td>0.84</td>\n",
       "      <td>0.87</td>\n",
       "    </tr>\n",
       "  </tbody>\n",
       "</table>\n",
       "</div>"
      ],
      "text/plain": [
       "cohort_lifetime       0     1     2     3     4     5\n",
       "first_order_month                                    \n",
       "2017-06-01         0.53  0.59  0.63  0.74  0.86  0.94\n",
       "2017-07-01         0.63  0.67  0.73  0.77  0.79  0.81\n",
       "2017-08-01         0.49  0.53  0.57  0.61  0.66  0.68\n",
       "2017-09-01         0.60  0.72  0.77  1.19  1.23  1.30\n",
       "2017-10-01         0.60  0.66  0.68  0.70  0.72  0.74\n",
       "2017-11-01         0.55  0.60  0.62  0.65  0.67  0.68\n",
       "2017-12-01         0.54  0.57  0.68  0.80  0.84  0.87"
      ]
     },
     "execution_count": 69,
     "metadata": {},
     "output_type": "execute_result"
    }
   ],
   "source": [
    "roi_6_report = roi_report.loc[(roi_report['first_order_month'] < '2018-01-01') & (roi_report['cohort_lifetime'] < 6)]\n",
    "roi_6_report_output = roi_6_report.pivot_table(index='first_order_month', columns='cohort_lifetime', \n",
    "                            values='roi', aggfunc='mean')\n",
    "roi_6_report_output.cumsum(axis=1).round(2).fillna('')"
   ]
  },
  {
   "cell_type": "code",
   "execution_count": 70,
   "metadata": {},
   "outputs": [
    {
     "data": {
      "image/png": "[encoded data removed]",
      "text/plain": [
       "<Figure size 504x360 with 2 Axes>"
      ]
     },
     "metadata": {
      "needs_background": "light"
     },
     "output_type": "display_data"
    }
   ],
   "source": [
    "fig, ax = plt.subplots(figsize=(7, 5))\n",
    "ax = sns.heatmap(roi_6_report_output.cumsum(axis=1).round(2), annot=True, linewidths=1, linecolor='gray')\n",
    "plt.title('Метрика ROI по ежемесячным когортам 2017 года за 6 месяцев')\n",
    "plt.xlabel('Cohort lifetime')\n",
    "plt.ylabel('Когорта');"
   ]
  },
  {
   "cell_type": "markdown",
   "metadata": {},
   "source": [
    "`ROI` выше 1 только в сентябрьской когорте. Хорошие показатели в июньской - 0,94 и декабрьской - 0,87.  Значительный рост окупаемости в них произошел на 3 месяц.  Минимальное значение `ROI` в конце жизненного цикла - 0,68.  до 0,88. Текущий кумулятивный рост метрики от 0,15 до 0,20 ед. за период. При таких темпах инвестиции будут окупаться еще от одного до двух лет. "
   ]
  },
  {
   "cell_type": "markdown",
   "metadata": {},
   "source": [
    "Расчитаем общий `ROI` и `ROI` по устройствам:\n",
    "\n",
    "Сначала найдем пользователей `desktop` и `touch`, распределенных по рекламным источникам."
   ]
  },
  {
   "cell_type": "code",
   "execution_count": 71,
   "metadata": {},
   "outputs": [
    {
     "data": {
      "text/html": [
       "<div>\n",
       "<style scoped>\n",
       "    .dataframe tbody tr th:only-of-type {\n",
       "        vertical-align: middle;\n",
       "    }\n",
       "\n",
       "    .dataframe tbody tr th {\n",
       "        vertical-align: top;\n",
       "    }\n",
       "\n",
       "    .dataframe thead th {\n",
       "        text-align: right;\n",
       "    }\n",
       "</style>\n",
       "<table border=\"1\" class=\"dataframe\">\n",
       "  <thead>\n",
       "    <tr style=\"text-align: right;\">\n",
       "      <th></th>\n",
       "      <th>uid</th>\n",
       "      <th>start_ts</th>\n",
       "      <th>source_id</th>\n",
       "      <th>device</th>\n",
       "      <th>buy_ts</th>\n",
       "      <th>revenue</th>\n",
       "      <th>order_month</th>\n",
       "    </tr>\n",
       "  </thead>\n",
       "  <tbody>\n",
       "    <tr>\n",
       "      <th>12040</th>\n",
       "      <td>4329169423564702693</td>\n",
       "      <td>2018-02-15 16:13:00</td>\n",
       "      <td>2</td>\n",
       "      <td>desktop</td>\n",
       "      <td>2018-03-01 10:58:00</td>\n",
       "      <td>2.44</td>\n",
       "      <td>2018-03-01</td>\n",
       "    </tr>\n",
       "  </tbody>\n",
       "</table>\n",
       "</div>"
      ],
      "text/plain": [
       "                       uid            start_ts  source_id   device  \\\n",
       "12040  4329169423564702693 2018-02-15 16:13:00          2  desktop   \n",
       "\n",
       "                   buy_ts  revenue order_month  \n",
       "12040 2018-03-01 10:58:00     2.44  2018-03-01  "
      ]
     },
     "execution_count": 71,
     "metadata": {},
     "output_type": "execute_result"
    }
   ],
   "source": [
    "users_orders.sample()"
   ]
  },
  {
   "cell_type": "code",
   "execution_count": 72,
   "metadata": {},
   "outputs": [
    {
     "data": {
      "text/html": [
       "<div>\n",
       "<style scoped>\n",
       "    .dataframe tbody tr th:only-of-type {\n",
       "        vertical-align: middle;\n",
       "    }\n",
       "\n",
       "    .dataframe tbody tr th {\n",
       "        vertical-align: top;\n",
       "    }\n",
       "\n",
       "    .dataframe thead th {\n",
       "        text-align: right;\n",
       "    }\n",
       "</style>\n",
       "<table border=\"1\" class=\"dataframe\">\n",
       "  <thead>\n",
       "    <tr style=\"text-align: right;\">\n",
       "      <th></th>\n",
       "      <th>source_id</th>\n",
       "      <th>desktop_orders</th>\n",
       "      <th>desktop_revenue</th>\n",
       "    </tr>\n",
       "  </thead>\n",
       "  <tbody>\n",
       "    <tr>\n",
       "      <th>0</th>\n",
       "      <td>1</td>\n",
       "      <td>2264</td>\n",
       "      <td>25995.60</td>\n",
       "    </tr>\n",
       "    <tr>\n",
       "      <th>1</th>\n",
       "      <td>2</td>\n",
       "      <td>2649</td>\n",
       "      <td>40386.63</td>\n",
       "    </tr>\n",
       "    <tr>\n",
       "      <th>2</th>\n",
       "      <td>3</td>\n",
       "      <td>8724</td>\n",
       "      <td>46273.75</td>\n",
       "    </tr>\n",
       "    <tr>\n",
       "      <th>3</th>\n",
       "      <td>4</td>\n",
       "      <td>7932</td>\n",
       "      <td>43414.96</td>\n",
       "    </tr>\n",
       "    <tr>\n",
       "      <th>4</th>\n",
       "      <td>5</td>\n",
       "      <td>5705</td>\n",
       "      <td>46825.34</td>\n",
       "    </tr>\n",
       "    <tr>\n",
       "      <th>5</th>\n",
       "      <td>7</td>\n",
       "      <td>1</td>\n",
       "      <td>1.22</td>\n",
       "    </tr>\n",
       "    <tr>\n",
       "      <th>6</th>\n",
       "      <td>9</td>\n",
       "      <td>892</td>\n",
       "      <td>4866.41</td>\n",
       "    </tr>\n",
       "    <tr>\n",
       "      <th>7</th>\n",
       "      <td>10</td>\n",
       "      <td>1044</td>\n",
       "      <td>3565.86</td>\n",
       "    </tr>\n",
       "  </tbody>\n",
       "</table>\n",
       "</div>"
      ],
      "text/plain": [
       "   source_id  desktop_orders  desktop_revenue\n",
       "0          1            2264         25995.60\n",
       "1          2            2649         40386.63\n",
       "2          3            8724         46273.75\n",
       "3          4            7932         43414.96\n",
       "4          5            5705         46825.34\n",
       "5          7               1             1.22\n",
       "6          9             892          4866.41\n",
       "7         10            1044          3565.86"
      ]
     },
     "execution_count": 72,
     "metadata": {},
     "output_type": "execute_result"
    }
   ],
   "source": [
    "desktop_orders = users_orders[users_orders['device'] == 'desktop'\n",
    "                             ].groupby('source_id').agg({'uid': 'nunique', 'revenue': 'sum'}).reset_index()\n",
    "desktop_orders.columns = ['source_id', 'desktop_orders', 'desktop_revenue']\n",
    "desktop_orders"
   ]
  },
  {
   "cell_type": "code",
   "execution_count": 73,
   "metadata": {},
   "outputs": [
    {
     "data": {
      "text/html": [
       "<div>\n",
       "<style scoped>\n",
       "    .dataframe tbody tr th:only-of-type {\n",
       "        vertical-align: middle;\n",
       "    }\n",
       "\n",
       "    .dataframe tbody tr th {\n",
       "        vertical-align: top;\n",
       "    }\n",
       "\n",
       "    .dataframe thead th {\n",
       "        text-align: right;\n",
       "    }\n",
       "</style>\n",
       "<table border=\"1\" class=\"dataframe\">\n",
       "  <thead>\n",
       "    <tr style=\"text-align: right;\">\n",
       "      <th></th>\n",
       "      <th>source_id</th>\n",
       "      <th>touch_orders</th>\n",
       "      <th>touch_revenue</th>\n",
       "    </tr>\n",
       "  </thead>\n",
       "  <tbody>\n",
       "    <tr>\n",
       "      <th>0</th>\n",
       "      <td>1</td>\n",
       "      <td>635</td>\n",
       "      <td>5094.95</td>\n",
       "    </tr>\n",
       "    <tr>\n",
       "      <th>1</th>\n",
       "      <td>2</td>\n",
       "      <td>857</td>\n",
       "      <td>6536.98</td>\n",
       "    </tr>\n",
       "    <tr>\n",
       "      <th>2</th>\n",
       "      <td>3</td>\n",
       "      <td>1749</td>\n",
       "      <td>8237.49</td>\n",
       "    </tr>\n",
       "    <tr>\n",
       "      <th>3</th>\n",
       "      <td>4</td>\n",
       "      <td>2364</td>\n",
       "      <td>13281.87</td>\n",
       "    </tr>\n",
       "    <tr>\n",
       "      <th>4</th>\n",
       "      <td>5</td>\n",
       "      <td>1226</td>\n",
       "      <td>5798.68</td>\n",
       "    </tr>\n",
       "    <tr>\n",
       "      <th>5</th>\n",
       "      <td>9</td>\n",
       "      <td>196</td>\n",
       "      <td>892.99</td>\n",
       "    </tr>\n",
       "    <tr>\n",
       "      <th>6</th>\n",
       "      <td>10</td>\n",
       "      <td>285</td>\n",
       "      <td>884.47</td>\n",
       "    </tr>\n",
       "  </tbody>\n",
       "</table>\n",
       "</div>"
      ],
      "text/plain": [
       "   source_id  touch_orders  touch_revenue\n",
       "0          1           635        5094.95\n",
       "1          2           857        6536.98\n",
       "2          3          1749        8237.49\n",
       "3          4          2364       13281.87\n",
       "4          5          1226        5798.68\n",
       "5          9           196         892.99\n",
       "6         10           285         884.47"
      ]
     },
     "execution_count": 73,
     "metadata": {},
     "output_type": "execute_result"
    }
   ],
   "source": [
    "touch_orders = users_orders[users_orders['device'] == 'touch'\n",
    "                           ].groupby('source_id').agg({'uid': 'nunique', 'revenue': 'sum'}).reset_index()\n",
    "touch_orders.columns = ['source_id', 'touch_orders', 'touch_revenue']\n",
    "touch_orders"
   ]
  },
  {
   "cell_type": "markdown",
   "metadata": {},
   "source": [
    "Соединим пользователей c таблицей с расходами по источникам:"
   ]
  },
  {
   "cell_type": "code",
   "execution_count": 74,
   "metadata": {},
   "outputs": [
    {
     "data": {
      "text/html": [
       "<div>\n",
       "<style scoped>\n",
       "    .dataframe tbody tr th:only-of-type {\n",
       "        vertical-align: middle;\n",
       "    }\n",
       "\n",
       "    .dataframe tbody tr th {\n",
       "        vertical-align: top;\n",
       "    }\n",
       "\n",
       "    .dataframe thead th {\n",
       "        text-align: right;\n",
       "    }\n",
       "</style>\n",
       "<table border=\"1\" class=\"dataframe\">\n",
       "  <thead>\n",
       "    <tr style=\"text-align: right;\">\n",
       "      <th></th>\n",
       "      <th>source_id</th>\n",
       "      <th>costs</th>\n",
       "      <th>uid</th>\n",
       "      <th>cost_per_user</th>\n",
       "      <th>desktop_orders</th>\n",
       "      <th>desktop_revenue</th>\n",
       "      <th>touch_orders</th>\n",
       "      <th>touch_revenue</th>\n",
       "    </tr>\n",
       "  </thead>\n",
       "  <tbody>\n",
       "    <tr>\n",
       "      <th>0</th>\n",
       "      <td>1</td>\n",
       "      <td>20833.27</td>\n",
       "      <td>2899</td>\n",
       "      <td>7.186364</td>\n",
       "      <td>2264</td>\n",
       "      <td>25995.60</td>\n",
       "      <td>635</td>\n",
       "      <td>5094.95</td>\n",
       "    </tr>\n",
       "    <tr>\n",
       "      <th>1</th>\n",
       "      <td>2</td>\n",
       "      <td>42806.04</td>\n",
       "      <td>3506</td>\n",
       "      <td>12.209367</td>\n",
       "      <td>2649</td>\n",
       "      <td>40386.63</td>\n",
       "      <td>857</td>\n",
       "      <td>6536.98</td>\n",
       "    </tr>\n",
       "    <tr>\n",
       "      <th>2</th>\n",
       "      <td>3</td>\n",
       "      <td>141321.63</td>\n",
       "      <td>10473</td>\n",
       "      <td>13.493901</td>\n",
       "      <td>8724</td>\n",
       "      <td>46273.75</td>\n",
       "      <td>1749</td>\n",
       "      <td>8237.49</td>\n",
       "    </tr>\n",
       "    <tr>\n",
       "      <th>3</th>\n",
       "      <td>4</td>\n",
       "      <td>61073.60</td>\n",
       "      <td>10296</td>\n",
       "      <td>5.931779</td>\n",
       "      <td>7932</td>\n",
       "      <td>43414.96</td>\n",
       "      <td>2364</td>\n",
       "      <td>13281.87</td>\n",
       "    </tr>\n",
       "    <tr>\n",
       "      <th>4</th>\n",
       "      <td>5</td>\n",
       "      <td>51757.10</td>\n",
       "      <td>6931</td>\n",
       "      <td>7.467479</td>\n",
       "      <td>5705</td>\n",
       "      <td>46825.34</td>\n",
       "      <td>1226</td>\n",
       "      <td>5798.68</td>\n",
       "    </tr>\n",
       "    <tr>\n",
       "      <th>5</th>\n",
       "      <td>9</td>\n",
       "      <td>5517.49</td>\n",
       "      <td>1088</td>\n",
       "      <td>5.071222</td>\n",
       "      <td>892</td>\n",
       "      <td>4866.41</td>\n",
       "      <td>196</td>\n",
       "      <td>892.99</td>\n",
       "    </tr>\n",
       "    <tr>\n",
       "      <th>6</th>\n",
       "      <td>10</td>\n",
       "      <td>5822.49</td>\n",
       "      <td>1329</td>\n",
       "      <td>4.381106</td>\n",
       "      <td>1044</td>\n",
       "      <td>3565.86</td>\n",
       "      <td>285</td>\n",
       "      <td>884.47</td>\n",
       "    </tr>\n",
       "  </tbody>\n",
       "</table>\n",
       "</div>"
      ],
      "text/plain": [
       "   source_id      costs    uid  cost_per_user  desktop_orders  \\\n",
       "0          1   20833.27   2899       7.186364            2264   \n",
       "1          2   42806.04   3506      12.209367            2649   \n",
       "2          3  141321.63  10473      13.493901            8724   \n",
       "3          4   61073.60  10296       5.931779            7932   \n",
       "4          5   51757.10   6931       7.467479            5705   \n",
       "5          9    5517.49   1088       5.071222             892   \n",
       "6         10    5822.49   1329       4.381106            1044   \n",
       "\n",
       "   desktop_revenue  touch_orders  touch_revenue  \n",
       "0         25995.60           635        5094.95  \n",
       "1         40386.63           857        6536.98  \n",
       "2         46273.75          1749        8237.49  \n",
       "3         43414.96          2364       13281.87  \n",
       "4         46825.34          1226        5798.68  \n",
       "5          4866.41           196         892.99  \n",
       "6          3565.86           285         884.47  "
      ]
     },
     "execution_count": 74,
     "metadata": {},
     "output_type": "execute_result"
    }
   ],
   "source": [
    "device_costs = source_costs.merge(desktop_orders, on='source_id')\n",
    "device_costs = device_costs.merge(touch_orders, on='source_id')\n",
    "device_costs"
   ]
  },
  {
   "cell_type": "markdown",
   "metadata": {},
   "source": [
    "Теперь вычислим метрики: общие расходы по устройствам, `CAC` по устройствам, общие доходы по устройствам, `ROI` по устройствам и общий `ROI`:"
   ]
  },
  {
   "cell_type": "code",
   "execution_count": 75,
   "metadata": {},
   "outputs": [
    {
     "data": {
      "text/html": [
       "<div>\n",
       "<style scoped>\n",
       "    .dataframe tbody tr th:only-of-type {\n",
       "        vertical-align: middle;\n",
       "    }\n",
       "\n",
       "    .dataframe tbody tr th {\n",
       "        vertical-align: top;\n",
       "    }\n",
       "\n",
       "    .dataframe thead th {\n",
       "        text-align: right;\n",
       "    }\n",
       "</style>\n",
       "<table border=\"1\" class=\"dataframe\">\n",
       "  <thead>\n",
       "    <tr style=\"text-align: right;\">\n",
       "      <th></th>\n",
       "      <th>source_id</th>\n",
       "      <th>costs</th>\n",
       "      <th>uid</th>\n",
       "      <th>cost_per_user</th>\n",
       "      <th>desktop_orders</th>\n",
       "      <th>desktop_revenue</th>\n",
       "      <th>touch_orders</th>\n",
       "      <th>touch_revenue</th>\n",
       "      <th>desktop_costs</th>\n",
       "      <th>touch_costs</th>\n",
       "    </tr>\n",
       "  </thead>\n",
       "  <tbody>\n",
       "    <tr>\n",
       "      <th>0</th>\n",
       "      <td>1</td>\n",
       "      <td>20833.27</td>\n",
       "      <td>2899</td>\n",
       "      <td>7.186364</td>\n",
       "      <td>2264</td>\n",
       "      <td>25995.60</td>\n",
       "      <td>635</td>\n",
       "      <td>5094.95</td>\n",
       "      <td>16269.928693</td>\n",
       "      <td>4563.341307</td>\n",
       "    </tr>\n",
       "    <tr>\n",
       "      <th>1</th>\n",
       "      <td>2</td>\n",
       "      <td>42806.04</td>\n",
       "      <td>3506</td>\n",
       "      <td>12.209367</td>\n",
       "      <td>2649</td>\n",
       "      <td>40386.63</td>\n",
       "      <td>857</td>\n",
       "      <td>6536.98</td>\n",
       "      <td>32342.612653</td>\n",
       "      <td>10463.427347</td>\n",
       "    </tr>\n",
       "    <tr>\n",
       "      <th>2</th>\n",
       "      <td>3</td>\n",
       "      <td>141321.63</td>\n",
       "      <td>10473</td>\n",
       "      <td>13.493901</td>\n",
       "      <td>8724</td>\n",
       "      <td>46273.75</td>\n",
       "      <td>1749</td>\n",
       "      <td>8237.49</td>\n",
       "      <td>117720.796345</td>\n",
       "      <td>23600.833655</td>\n",
       "    </tr>\n",
       "    <tr>\n",
       "      <th>3</th>\n",
       "      <td>4</td>\n",
       "      <td>61073.60</td>\n",
       "      <td>10296</td>\n",
       "      <td>5.931779</td>\n",
       "      <td>7932</td>\n",
       "      <td>43414.96</td>\n",
       "      <td>2364</td>\n",
       "      <td>13281.87</td>\n",
       "      <td>47050.873660</td>\n",
       "      <td>14022.726340</td>\n",
       "    </tr>\n",
       "    <tr>\n",
       "      <th>4</th>\n",
       "      <td>5</td>\n",
       "      <td>51757.10</td>\n",
       "      <td>6931</td>\n",
       "      <td>7.467479</td>\n",
       "      <td>5705</td>\n",
       "      <td>46825.34</td>\n",
       "      <td>1226</td>\n",
       "      <td>5798.68</td>\n",
       "      <td>42601.970206</td>\n",
       "      <td>9155.129794</td>\n",
       "    </tr>\n",
       "    <tr>\n",
       "      <th>5</th>\n",
       "      <td>9</td>\n",
       "      <td>5517.49</td>\n",
       "      <td>1088</td>\n",
       "      <td>5.071222</td>\n",
       "      <td>892</td>\n",
       "      <td>4866.41</td>\n",
       "      <td>196</td>\n",
       "      <td>892.99</td>\n",
       "      <td>4523.530404</td>\n",
       "      <td>993.959596</td>\n",
       "    </tr>\n",
       "    <tr>\n",
       "      <th>6</th>\n",
       "      <td>10</td>\n",
       "      <td>5822.49</td>\n",
       "      <td>1329</td>\n",
       "      <td>4.381106</td>\n",
       "      <td>1044</td>\n",
       "      <td>3565.86</td>\n",
       "      <td>285</td>\n",
       "      <td>884.47</td>\n",
       "      <td>4573.874763</td>\n",
       "      <td>1248.615237</td>\n",
       "    </tr>\n",
       "  </tbody>\n",
       "</table>\n",
       "</div>"
      ],
      "text/plain": [
       "   source_id      costs    uid  cost_per_user  desktop_orders  \\\n",
       "0          1   20833.27   2899       7.186364            2264   \n",
       "1          2   42806.04   3506      12.209367            2649   \n",
       "2          3  141321.63  10473      13.493901            8724   \n",
       "3          4   61073.60  10296       5.931779            7932   \n",
       "4          5   51757.10   6931       7.467479            5705   \n",
       "5          9    5517.49   1088       5.071222             892   \n",
       "6         10    5822.49   1329       4.381106            1044   \n",
       "\n",
       "   desktop_revenue  touch_orders  touch_revenue  desktop_costs   touch_costs  \n",
       "0         25995.60           635        5094.95   16269.928693   4563.341307  \n",
       "1         40386.63           857        6536.98   32342.612653  10463.427347  \n",
       "2         46273.75          1749        8237.49  117720.796345  23600.833655  \n",
       "3         43414.96          2364       13281.87   47050.873660  14022.726340  \n",
       "4         46825.34          1226        5798.68   42601.970206   9155.129794  \n",
       "5          4866.41           196         892.99    4523.530404    993.959596  \n",
       "6          3565.86           285         884.47    4573.874763   1248.615237  "
      ]
     },
     "execution_count": 75,
     "metadata": {},
     "output_type": "execute_result"
    }
   ],
   "source": [
    "device_costs['desktop_costs'] = device_costs['desktop_orders'] * device_costs['cost_per_user']\n",
    "device_costs['touch_costs'] = device_costs['touch_orders'] * device_costs['cost_per_user']\n",
    "device_costs"
   ]
  },
  {
   "cell_type": "code",
   "execution_count": 76,
   "metadata": {},
   "outputs": [
    {
     "data": {
      "text/plain": [
       "265083.5867235195"
      ]
     },
     "execution_count": 76,
     "metadata": {},
     "output_type": "execute_result"
    }
   ],
   "source": [
    "desktop_cost_total = device_costs['desktop_costs'].sum()\n",
    "desktop_cost_total"
   ]
  },
  {
   "cell_type": "code",
   "execution_count": 77,
   "metadata": {},
   "outputs": [
    {
     "data": {
      "text/plain": [
       "64048.03327648039"
      ]
     },
     "execution_count": 77,
     "metadata": {},
     "output_type": "execute_result"
    }
   ],
   "source": [
    "touch_costs_total = device_costs['touch_costs'].sum()\n",
    "touch_costs_total"
   ]
  },
  {
   "cell_type": "code",
   "execution_count": 78,
   "metadata": {},
   "outputs": [
    {
     "data": {
      "text/plain": [
       "4755.611513195919"
      ]
     },
     "execution_count": 78,
     "metadata": {},
     "output_type": "execute_result"
    }
   ],
   "source": [
    "desktop_CAC = device_costs['desktop_costs'].sum() / device_costs['cost_per_user'].sum()\n",
    "desktop_CAC"
   ]
  },
  {
   "cell_type": "code",
   "execution_count": 79,
   "metadata": {},
   "outputs": [
    {
     "data": {
      "text/plain": [
       "1149.0246084713965"
      ]
     },
     "execution_count": 79,
     "metadata": {},
     "output_type": "execute_result"
    }
   ],
   "source": [
    "touch_CAC = device_costs['touch_costs'].sum() / device_costs['cost_per_user'].sum()\n",
    "touch_CAC"
   ]
  },
  {
   "cell_type": "code",
   "execution_count": 80,
   "metadata": {},
   "outputs": [
    {
     "data": {
      "text/plain": [
       "211328.55000000243"
      ]
     },
     "execution_count": 80,
     "metadata": {},
     "output_type": "execute_result"
    }
   ],
   "source": [
    "desktop_revenue_total = device_costs['desktop_revenue'].sum()\n",
    "desktop_revenue_total"
   ]
  },
  {
   "cell_type": "code",
   "execution_count": 81,
   "metadata": {},
   "outputs": [
    {
     "data": {
      "text/plain": [
       "40727.429999999906"
      ]
     },
     "execution_count": 81,
     "metadata": {},
     "output_type": "execute_result"
    }
   ],
   "source": [
    "touch_revenue_total = device_costs['touch_revenue'].sum()\n",
    "touch_revenue_total"
   ]
  },
  {
   "cell_type": "markdown",
   "metadata": {},
   "source": [
    "Чтобы посчитать `ROI` по устройствам, надо из общего дохода по устройствам вычесть вычитаем сумму расходов и разделить на сумму расходов."
   ]
  },
  {
   "cell_type": "code",
   "execution_count": 82,
   "metadata": {},
   "outputs": [
    {
     "data": {
      "text/plain": [
       "-20.278523234100955"
      ]
     },
     "execution_count": 82,
     "metadata": {},
     "output_type": "execute_result"
    }
   ],
   "source": [
    "desktop_ROI = (desktop_revenue_total - desktop_cost_total) / desktop_cost_total * 100\n",
    "desktop_ROI"
   ]
  },
  {
   "cell_type": "code",
   "execution_count": 83,
   "metadata": {},
   "outputs": [
    {
     "data": {
      "text/plain": [
       "-36.41111535120976"
      ]
     },
     "execution_count": 83,
     "metadata": {},
     "output_type": "execute_result"
    }
   ],
   "source": [
    "touch_ROI = (touch_revenue_total - touch_costs_total) / touch_costs_total * 100\n",
    "touch_ROI"
   ]
  },
  {
   "cell_type": "code",
   "execution_count": 84,
   "metadata": {},
   "outputs": [
    {
     "data": {
      "text/plain": [
       "-23.417877625977585"
      ]
     },
     "execution_count": 84,
     "metadata": {},
     "output_type": "execute_result"
    }
   ],
   "source": [
    "total_ROI = ((desktop_revenue_total + touch_revenue_total) - device_costs['costs'].sum()) / device_costs['costs'].sum() * 100\n",
    "total_ROI"
   ]
  },
  {
   "cell_type": "markdown",
   "metadata": {},
   "source": [
    "Получилось, что пользователи лучше покупают с десктопа. \n",
    "По этой таблице также хорошо делать выводы о том, как распределены расходы и доходы по разным источникам и устройствам. \n",
    "Например, сравним 3 и 5 источники по десктопам: по таблице видно, что доходы от 3 и 5 источника практически равны (46273 и 46825 соответственно), при этом расходы составляют 117720 и 42601. То есть, на 5 источнике расходы окупились, а на 3 превышают доходы более чем в 2 раза. \n",
    "Первый источник окупается на обеих платформах, но на дексктопе лучше. Второй хорош для десктопа, но не окупается для мобильных устройств. По третьему расходы на десктоп превышают доходы в 2.5 и в 3 раза для мобильных. В 4 источнике самый большой доход от мобильных устройств и затраты на рекламу почти на 100% отбиваются, для десктопа здесь выручка ниже, чем расходы, но не слишком сильно (43414 против 47050). В 5 источнике расходы на десктоп окупаются, а для мобильных превышают прибыль почти в 2 раза. \n",
    "9 и 10 источники – с самыми низкими расходами и доходами из-за их непопулярности. При этом  9-м расходы и доходы почти что равны, для десктопа чуть выше прибыль, для мобильных – расходы, а в 10-м – расходы выше на обоих устройствах.\n",
    "\n",
    "На основании этого анализа можно делать рекомендации по дальнейшему развитию рекламных каналов:\n",
    "Лучший канал для продвижения – первый, для обоих устройств прибыль превзошла расходы. \n",
    "Для десктопов так же хороши каналы 5, 2 и 4. Хороший канал для мобильных – 4, там много пользователей, расходы почти окупаются, его можно развивать. Из непопулярных каналов стоит обратить внимание на №9 – там тоже есть потенциал для роста для обоих устройств. 3 канал зарабатывает так же или меньше, как и остальные, но расходы для него составляют почти половину всего рекламного бюджета. Я советую перераспределить средства, которые вкладываются в него в другие каналы, интересные для развития. \n"
   ]
  },
  {
   "cell_type": "markdown",
   "metadata": {},
   "source": [
    "Для полноты картины посчитаем `LTV` с учетом устройства:"
   ]
  },
  {
   "cell_type": "code",
   "execution_count": 85,
   "metadata": {},
   "outputs": [
    {
     "data": {
      "text/html": [
       "<div>\n",
       "<style scoped>\n",
       "    .dataframe tbody tr th:only-of-type {\n",
       "        vertical-align: middle;\n",
       "    }\n",
       "\n",
       "    .dataframe tbody tr th {\n",
       "        vertical-align: top;\n",
       "    }\n",
       "\n",
       "    .dataframe thead th {\n",
       "        text-align: right;\n",
       "    }\n",
       "</style>\n",
       "<table border=\"1\" class=\"dataframe\">\n",
       "  <thead>\n",
       "    <tr style=\"text-align: right;\">\n",
       "      <th></th>\n",
       "      <th>uid</th>\n",
       "      <th>first_order_month</th>\n",
       "      <th>device</th>\n",
       "    </tr>\n",
       "  </thead>\n",
       "  <tbody>\n",
       "    <tr>\n",
       "      <th>0</th>\n",
       "      <td>313578113262317</td>\n",
       "      <td>2018-01-01</td>\n",
       "      <td>desktop</td>\n",
       "    </tr>\n",
       "    <tr>\n",
       "      <th>1</th>\n",
       "      <td>1575281904278712</td>\n",
       "      <td>2017-06-01</td>\n",
       "      <td>touch</td>\n",
       "    </tr>\n",
       "    <tr>\n",
       "      <th>2</th>\n",
       "      <td>2429014661409475</td>\n",
       "      <td>2017-10-01</td>\n",
       "      <td>desktop</td>\n",
       "    </tr>\n",
       "    <tr>\n",
       "      <th>3</th>\n",
       "      <td>2464366381792757</td>\n",
       "      <td>2018-01-01</td>\n",
       "      <td>desktop</td>\n",
       "    </tr>\n",
       "    <tr>\n",
       "      <th>4</th>\n",
       "      <td>2551852515556206</td>\n",
       "      <td>2017-11-01</td>\n",
       "      <td>desktop</td>\n",
       "    </tr>\n",
       "  </tbody>\n",
       "</table>\n",
       "</div>"
      ],
      "text/plain": [
       "                uid first_order_month   device\n",
       "0   313578113262317        2018-01-01  desktop\n",
       "1  1575281904278712        2017-06-01    touch\n",
       "2  2429014661409475        2017-10-01  desktop\n",
       "3  2464366381792757        2018-01-01  desktop\n",
       "4  2551852515556206        2017-11-01  desktop"
      ]
     },
     "execution_count": 85,
     "metadata": {},
     "output_type": "execute_result"
    }
   ],
   "source": [
    "first_device_orders = users_orders.groupby('uid').agg({'order_month': 'min', 'device': 'first'}).reset_index()\n",
    "first_device_orders.columns = ['uid','first_order_month', 'device']\n",
    "first_device_orders.head()"
   ]
  },
  {
   "cell_type": "markdown",
   "metadata": {},
   "source": [
    "- `LTV` desktop:"
   ]
  },
  {
   "cell_type": "code",
   "execution_count": 86,
   "metadata": {},
   "outputs": [
    {
     "data": {
      "text/html": [
       "<div>\n",
       "<style scoped>\n",
       "    .dataframe tbody tr th:only-of-type {\n",
       "        vertical-align: middle;\n",
       "    }\n",
       "\n",
       "    .dataframe tbody tr th {\n",
       "        vertical-align: top;\n",
       "    }\n",
       "\n",
       "    .dataframe thead th {\n",
       "        text-align: right;\n",
       "    }\n",
       "</style>\n",
       "<table border=\"1\" class=\"dataframe\">\n",
       "  <thead>\n",
       "    <tr style=\"text-align: right;\">\n",
       "      <th></th>\n",
       "      <th>first_order_month</th>\n",
       "      <th>desktop_users</th>\n",
       "    </tr>\n",
       "  </thead>\n",
       "  <tbody>\n",
       "    <tr>\n",
       "      <th>0</th>\n",
       "      <td>2017-06-01</td>\n",
       "      <td>1702</td>\n",
       "    </tr>\n",
       "    <tr>\n",
       "      <th>1</th>\n",
       "      <td>2017-07-01</td>\n",
       "      <td>1526</td>\n",
       "    </tr>\n",
       "    <tr>\n",
       "      <th>2</th>\n",
       "      <td>2017-08-01</td>\n",
       "      <td>1114</td>\n",
       "    </tr>\n",
       "    <tr>\n",
       "      <th>3</th>\n",
       "      <td>2017-09-01</td>\n",
       "      <td>2059</td>\n",
       "    </tr>\n",
       "    <tr>\n",
       "      <th>4</th>\n",
       "      <td>2017-10-01</td>\n",
       "      <td>3532</td>\n",
       "    </tr>\n",
       "    <tr>\n",
       "      <th>5</th>\n",
       "      <td>2017-11-01</td>\n",
       "      <td>3326</td>\n",
       "    </tr>\n",
       "    <tr>\n",
       "      <th>6</th>\n",
       "      <td>2017-12-01</td>\n",
       "      <td>3497</td>\n",
       "    </tr>\n",
       "    <tr>\n",
       "      <th>7</th>\n",
       "      <td>2018-01-01</td>\n",
       "      <td>2674</td>\n",
       "    </tr>\n",
       "    <tr>\n",
       "      <th>8</th>\n",
       "      <td>2018-02-01</td>\n",
       "      <td>2807</td>\n",
       "    </tr>\n",
       "    <tr>\n",
       "      <th>9</th>\n",
       "      <td>2018-03-01</td>\n",
       "      <td>2777</td>\n",
       "    </tr>\n",
       "    <tr>\n",
       "      <th>10</th>\n",
       "      <td>2018-04-01</td>\n",
       "      <td>1847</td>\n",
       "    </tr>\n",
       "    <tr>\n",
       "      <th>11</th>\n",
       "      <td>2018-05-01</td>\n",
       "      <td>2349</td>\n",
       "    </tr>\n",
       "    <tr>\n",
       "      <th>12</th>\n",
       "      <td>2018-06-01</td>\n",
       "      <td>1</td>\n",
       "    </tr>\n",
       "  </tbody>\n",
       "</table>\n",
       "</div>"
      ],
      "text/plain": [
       "   first_order_month  desktop_users\n",
       "0         2017-06-01           1702\n",
       "1         2017-07-01           1526\n",
       "2         2017-08-01           1114\n",
       "3         2017-09-01           2059\n",
       "4         2017-10-01           3532\n",
       "5         2017-11-01           3326\n",
       "6         2017-12-01           3497\n",
       "7         2018-01-01           2674\n",
       "8         2018-02-01           2807\n",
       "9         2018-03-01           2777\n",
       "10        2018-04-01           1847\n",
       "11        2018-05-01           2349\n",
       "12        2018-06-01              1"
      ]
     },
     "execution_count": 86,
     "metadata": {},
     "output_type": "execute_result"
    }
   ],
   "source": [
    "desktop_users = first_device_orders[first_device_orders['device'] == 'desktop'\n",
    "                            ].groupby('first_order_month').agg({'uid': 'nunique'}).reset_index()\n",
    "desktop_users.columns = ['first_order_month', 'desktop_users']\n",
    "desktop_users"
   ]
  },
  {
   "cell_type": "code",
   "execution_count": 87,
   "metadata": {},
   "outputs": [
    {
     "data": {
      "text/html": [
       "<div>\n",
       "<style scoped>\n",
       "    .dataframe tbody tr th:only-of-type {\n",
       "        vertical-align: middle;\n",
       "    }\n",
       "\n",
       "    .dataframe tbody tr th {\n",
       "        vertical-align: top;\n",
       "    }\n",
       "\n",
       "    .dataframe thead th {\n",
       "        text-align: right;\n",
       "    }\n",
       "</style>\n",
       "<table border=\"1\" class=\"dataframe\">\n",
       "  <thead>\n",
       "    <tr style=\"text-align: right;\">\n",
       "      <th></th>\n",
       "      <th>first_order_month</th>\n",
       "      <th>order_month</th>\n",
       "      <th>revenue</th>\n",
       "    </tr>\n",
       "  </thead>\n",
       "  <tbody>\n",
       "    <tr>\n",
       "      <th>0</th>\n",
       "      <td>2017-06-01</td>\n",
       "      <td>2017-06-01</td>\n",
       "      <td>8321.37</td>\n",
       "    </tr>\n",
       "    <tr>\n",
       "      <th>1</th>\n",
       "      <td>2017-06-01</td>\n",
       "      <td>2017-07-01</td>\n",
       "      <td>882.43</td>\n",
       "    </tr>\n",
       "    <tr>\n",
       "      <th>2</th>\n",
       "      <td>2017-06-01</td>\n",
       "      <td>2017-08-01</td>\n",
       "      <td>844.70</td>\n",
       "    </tr>\n",
       "    <tr>\n",
       "      <th>3</th>\n",
       "      <td>2017-06-01</td>\n",
       "      <td>2017-09-01</td>\n",
       "      <td>1905.09</td>\n",
       "    </tr>\n",
       "    <tr>\n",
       "      <th>4</th>\n",
       "      <td>2017-06-01</td>\n",
       "      <td>2017-10-01</td>\n",
       "      <td>1992.87</td>\n",
       "    </tr>\n",
       "  </tbody>\n",
       "</table>\n",
       "</div>"
      ],
      "text/plain": [
       "  first_order_month order_month  revenue\n",
       "0        2017-06-01  2017-06-01  8321.37\n",
       "1        2017-06-01  2017-07-01   882.43\n",
       "2        2017-06-01  2017-08-01   844.70\n",
       "3        2017-06-01  2017-09-01  1905.09\n",
       "4        2017-06-01  2017-10-01  1992.87"
      ]
     },
     "execution_count": 87,
     "metadata": {},
     "output_type": "execute_result"
    }
   ],
   "source": [
    "desktop_orders = pd.merge(users_orders.query('device == \"desktop\"'),first_device_orders, on='uid')\n",
    "\n",
    "desktop_cohorts = desktop_orders.groupby(['first_order_month','order_month']).agg({'revenue': 'sum'}).reset_index()\n",
    "desktop_cohorts.head()"
   ]
  },
  {
   "cell_type": "markdown",
   "metadata": {},
   "source": [
    "Посчитаем `LTV` по когортам 2017 года за 6 месяцев:"
   ]
  },
  {
   "cell_type": "code",
   "execution_count": 88,
   "metadata": {},
   "outputs": [
    {
     "data": {
      "text/html": [
       "<div>\n",
       "<style scoped>\n",
       "    .dataframe tbody tr th:only-of-type {\n",
       "        vertical-align: middle;\n",
       "    }\n",
       "\n",
       "    .dataframe tbody tr th {\n",
       "        vertical-align: top;\n",
       "    }\n",
       "\n",
       "    .dataframe thead th {\n",
       "        text-align: right;\n",
       "    }\n",
       "</style>\n",
       "<table border=\"1\" class=\"dataframe\">\n",
       "  <thead>\n",
       "    <tr style=\"text-align: right;\">\n",
       "      <th>cohort_lifetime</th>\n",
       "      <th>0</th>\n",
       "      <th>1</th>\n",
       "      <th>2</th>\n",
       "      <th>3</th>\n",
       "      <th>4</th>\n",
       "      <th>5</th>\n",
       "    </tr>\n",
       "    <tr>\n",
       "      <th>first_order_month</th>\n",
       "      <th></th>\n",
       "      <th></th>\n",
       "      <th></th>\n",
       "      <th></th>\n",
       "      <th></th>\n",
       "      <th></th>\n",
       "    </tr>\n",
       "  </thead>\n",
       "  <tbody>\n",
       "    <tr>\n",
       "      <th>2017-06-01</th>\n",
       "      <td>4.89</td>\n",
       "      <td>5.41</td>\n",
       "      <td>5.90</td>\n",
       "      <td>7.02</td>\n",
       "      <td>8.19</td>\n",
       "      <td>9.06</td>\n",
       "    </tr>\n",
       "    <tr>\n",
       "      <th>2017-07-01</th>\n",
       "      <td>6.14</td>\n",
       "      <td>6.51</td>\n",
       "      <td>7.28</td>\n",
       "      <td>7.60</td>\n",
       "      <td>7.78</td>\n",
       "      <td>7.94</td>\n",
       "    </tr>\n",
       "    <tr>\n",
       "      <th>2017-08-01</th>\n",
       "      <td>5.26</td>\n",
       "      <td>5.81</td>\n",
       "      <td>6.33</td>\n",
       "      <td>6.77</td>\n",
       "      <td>7.37</td>\n",
       "      <td>7.66</td>\n",
       "    </tr>\n",
       "    <tr>\n",
       "      <th>2017-09-01</th>\n",
       "      <td>5.80</td>\n",
       "      <td>6.72</td>\n",
       "      <td>7.14</td>\n",
       "      <td>11.99</td>\n",
       "      <td>12.48</td>\n",
       "      <td>13.24</td>\n",
       "    </tr>\n",
       "    <tr>\n",
       "      <th>2017-10-01</th>\n",
       "      <td>5.13</td>\n",
       "      <td>5.69</td>\n",
       "      <td>5.90</td>\n",
       "      <td>6.08</td>\n",
       "      <td>6.23</td>\n",
       "      <td>6.38</td>\n",
       "    </tr>\n",
       "    <tr>\n",
       "      <th>2017-11-01</th>\n",
       "      <td>5.00</td>\n",
       "      <td>5.44</td>\n",
       "      <td>5.67</td>\n",
       "      <td>6.05</td>\n",
       "      <td>6.22</td>\n",
       "      <td>6.28</td>\n",
       "    </tr>\n",
       "    <tr>\n",
       "      <th>2017-12-01</th>\n",
       "      <td>4.88</td>\n",
       "      <td>5.16</td>\n",
       "      <td>6.31</td>\n",
       "      <td>7.63</td>\n",
       "      <td>8.01</td>\n",
       "      <td>8.43</td>\n",
       "    </tr>\n",
       "  </tbody>\n",
       "</table>\n",
       "</div>"
      ],
      "text/plain": [
       "cohort_lifetime       0     1     2      3      4      5\n",
       "first_order_month                                       \n",
       "2017-06-01         4.89  5.41  5.90   7.02   8.19   9.06\n",
       "2017-07-01         6.14  6.51  7.28   7.60   7.78   7.94\n",
       "2017-08-01         5.26  5.81  6.33   6.77   7.37   7.66\n",
       "2017-09-01         5.80  6.72  7.14  11.99  12.48  13.24\n",
       "2017-10-01         5.13  5.69  5.90   6.08   6.23   6.38\n",
       "2017-11-01         5.00  5.44  5.67   6.05   6.22   6.28\n",
       "2017-12-01         4.88  5.16  6.31   7.63   8.01   8.43"
      ]
     },
     "execution_count": 88,
     "metadata": {},
     "output_type": "execute_result"
    }
   ],
   "source": [
    "desktop = pd.merge(desktop_users, desktop_cohorts, on='first_order_month')\n",
    "desktop['cohort_lifetime'] = (desktop['order_month'] - desktop['first_order_month']) / np.timedelta64(1, 'M')\n",
    "desktop['cohort_lifetime'] = desktop['cohort_lifetime'].round().astype('int')\n",
    "desktop['first_order_month'] = desktop['first_order_month'].dt.strftime('%Y-%m-%d')\n",
    "desktop['ltv'] = desktop['revenue'] / desktop['desktop_users']\n",
    "desktop_6_ltv = desktop.loc[(desktop['first_order_month'] < '2018-01-01') & (desktop['cohort_lifetime'] < 6)]\n",
    "\n",
    "desktop_6_ltv = desktop_6_ltv.pivot_table(index='first_order_month', columns='cohort_lifetime', \n",
    "                            values='ltv', aggfunc='mean')\n",
    "desktop_6_ltv.cumsum(axis=1).round(2).fillna('')"
   ]
  },
  {
   "cell_type": "code",
   "execution_count": 89,
   "metadata": {},
   "outputs": [
    {
     "data": {
      "image/png": "[encoded data removed]",
      "text/plain": [
       "<Figure size 504x360 with 2 Axes>"
      ]
     },
     "metadata": {
      "needs_background": "light"
     },
     "output_type": "display_data"
    }
   ],
   "source": [
    "fig, ax = plt.subplots(figsize=(7, 5))\n",
    "ax = sns.heatmap(desktop_6_ltv.cumsum(axis=1).round(2), annot=True, linewidths=1, linecolor='gray')\n",
    "plt.title('Метрика LTV по устройству desktop по когортам 2017г. за 6 месяцев')\n",
    "plt.xlabel('Cohort lifetime')\n",
    "plt.ylabel('Когорта');"
   ]
  },
  {
   "cell_type": "markdown",
   "metadata": {},
   "source": [
    "Распределение `LTV` по десктопам очень похоже на общий график `LTV` с небольшими отличиями в значениях. Минимальное `LTV` в конце жизненного цикла - 6,3, максимальное - 13. Минимальное начальное значение - 4,9 у июньской и декабрьской когорт. При этом первая выходит на 9,1, а последняя - на 8,4. Октябрьская и ноябрьская слабые - вырастают всего на 1,3 за жизненный цикл. Сентябрьская когорта показвает аномальные результаты - уже на 3 месяц жизни `LTV` - 12 и продолжает расти. Остальные демонстрируют хорошие ровные показатели. "
   ]
  },
  {
   "cell_type": "markdown",
   "metadata": {},
   "source": [
    "- `LTV` touch:"
   ]
  },
  {
   "cell_type": "code",
   "execution_count": 90,
   "metadata": {},
   "outputs": [
    {
     "data": {
      "text/html": [
       "<div>\n",
       "<style scoped>\n",
       "    .dataframe tbody tr th:only-of-type {\n",
       "        vertical-align: middle;\n",
       "    }\n",
       "\n",
       "    .dataframe tbody tr th {\n",
       "        vertical-align: top;\n",
       "    }\n",
       "\n",
       "    .dataframe thead th {\n",
       "        text-align: right;\n",
       "    }\n",
       "</style>\n",
       "<table border=\"1\" class=\"dataframe\">\n",
       "  <thead>\n",
       "    <tr style=\"text-align: right;\">\n",
       "      <th></th>\n",
       "      <th>first_order_month</th>\n",
       "      <th>touch_users</th>\n",
       "    </tr>\n",
       "  </thead>\n",
       "  <tbody>\n",
       "    <tr>\n",
       "      <th>0</th>\n",
       "      <td>2017-06-01</td>\n",
       "      <td>321</td>\n",
       "    </tr>\n",
       "    <tr>\n",
       "      <th>1</th>\n",
       "      <td>2017-07-01</td>\n",
       "      <td>397</td>\n",
       "    </tr>\n",
       "    <tr>\n",
       "      <th>2</th>\n",
       "      <td>2017-08-01</td>\n",
       "      <td>256</td>\n",
       "    </tr>\n",
       "    <tr>\n",
       "      <th>3</th>\n",
       "      <td>2017-09-01</td>\n",
       "      <td>522</td>\n",
       "    </tr>\n",
       "    <tr>\n",
       "      <th>4</th>\n",
       "      <td>2017-10-01</td>\n",
       "      <td>808</td>\n",
       "    </tr>\n",
       "    <tr>\n",
       "      <th>5</th>\n",
       "      <td>2017-11-01</td>\n",
       "      <td>755</td>\n",
       "    </tr>\n",
       "    <tr>\n",
       "      <th>6</th>\n",
       "      <td>2017-12-01</td>\n",
       "      <td>886</td>\n",
       "    </tr>\n",
       "    <tr>\n",
       "      <th>7</th>\n",
       "      <td>2018-01-01</td>\n",
       "      <td>699</td>\n",
       "    </tr>\n",
       "    <tr>\n",
       "      <th>8</th>\n",
       "      <td>2018-02-01</td>\n",
       "      <td>844</td>\n",
       "    </tr>\n",
       "    <tr>\n",
       "      <th>9</th>\n",
       "      <td>2018-03-01</td>\n",
       "      <td>756</td>\n",
       "    </tr>\n",
       "    <tr>\n",
       "      <th>10</th>\n",
       "      <td>2018-04-01</td>\n",
       "      <td>429</td>\n",
       "    </tr>\n",
       "    <tr>\n",
       "      <th>11</th>\n",
       "      <td>2018-05-01</td>\n",
       "      <td>639</td>\n",
       "    </tr>\n",
       "  </tbody>\n",
       "</table>\n",
       "</div>"
      ],
      "text/plain": [
       "   first_order_month  touch_users\n",
       "0         2017-06-01          321\n",
       "1         2017-07-01          397\n",
       "2         2017-08-01          256\n",
       "3         2017-09-01          522\n",
       "4         2017-10-01          808\n",
       "5         2017-11-01          755\n",
       "6         2017-12-01          886\n",
       "7         2018-01-01          699\n",
       "8         2018-02-01          844\n",
       "9         2018-03-01          756\n",
       "10        2018-04-01          429\n",
       "11        2018-05-01          639"
      ]
     },
     "execution_count": 90,
     "metadata": {},
     "output_type": "execute_result"
    }
   ],
   "source": [
    "touch_users = first_device_orders[first_device_orders['device'] == 'touch'\n",
    "                            ].groupby('first_order_month').agg({'uid': 'nunique'}).reset_index()\n",
    "touch_users.columns = ['first_order_month', 'touch_users']\n",
    "touch_users"
   ]
  },
  {
   "cell_type": "code",
   "execution_count": 91,
   "metadata": {},
   "outputs": [
    {
     "data": {
      "text/html": [
       "<div>\n",
       "<style scoped>\n",
       "    .dataframe tbody tr th:only-of-type {\n",
       "        vertical-align: middle;\n",
       "    }\n",
       "\n",
       "    .dataframe tbody tr th {\n",
       "        vertical-align: top;\n",
       "    }\n",
       "\n",
       "    .dataframe thead th {\n",
       "        text-align: right;\n",
       "    }\n",
       "</style>\n",
       "<table border=\"1\" class=\"dataframe\">\n",
       "  <thead>\n",
       "    <tr style=\"text-align: right;\">\n",
       "      <th></th>\n",
       "      <th>first_order_month</th>\n",
       "      <th>order_month</th>\n",
       "      <th>revenue</th>\n",
       "    </tr>\n",
       "  </thead>\n",
       "  <tbody>\n",
       "    <tr>\n",
       "      <th>0</th>\n",
       "      <td>2017-06-01</td>\n",
       "      <td>2017-06-01</td>\n",
       "      <td>1236.12</td>\n",
       "    </tr>\n",
       "    <tr>\n",
       "      <th>1</th>\n",
       "      <td>2017-06-01</td>\n",
       "      <td>2017-07-01</td>\n",
       "      <td>99.39</td>\n",
       "    </tr>\n",
       "    <tr>\n",
       "      <th>2</th>\n",
       "      <td>2017-06-01</td>\n",
       "      <td>2017-08-01</td>\n",
       "      <td>40.64</td>\n",
       "    </tr>\n",
       "    <tr>\n",
       "      <th>3</th>\n",
       "      <td>2017-06-01</td>\n",
       "      <td>2017-09-01</td>\n",
       "      <td>26.21</td>\n",
       "    </tr>\n",
       "    <tr>\n",
       "      <th>4</th>\n",
       "      <td>2017-06-01</td>\n",
       "      <td>2017-10-01</td>\n",
       "      <td>75.71</td>\n",
       "    </tr>\n",
       "  </tbody>\n",
       "</table>\n",
       "</div>"
      ],
      "text/plain": [
       "  first_order_month order_month  revenue\n",
       "0        2017-06-01  2017-06-01  1236.12\n",
       "1        2017-06-01  2017-07-01    99.39\n",
       "2        2017-06-01  2017-08-01    40.64\n",
       "3        2017-06-01  2017-09-01    26.21\n",
       "4        2017-06-01  2017-10-01    75.71"
      ]
     },
     "execution_count": 91,
     "metadata": {},
     "output_type": "execute_result"
    }
   ],
   "source": [
    "touch_orders = pd.merge(users_orders.query('device == \"touch\"'),first_device_orders, on='uid')\n",
    "\n",
    "touch_cohorts = touch_orders.groupby(['first_order_month','order_month']).agg({'revenue': 'sum'}).reset_index()\n",
    "touch_cohorts.head()"
   ]
  },
  {
   "cell_type": "markdown",
   "metadata": {},
   "source": [
    "Посчитаем `LTV` по когортам 2017 года за 6 месяцев:"
   ]
  },
  {
   "cell_type": "code",
   "execution_count": 92,
   "metadata": {},
   "outputs": [
    {
     "data": {
      "text/html": [
       "<div>\n",
       "<style scoped>\n",
       "    .dataframe tbody tr th:only-of-type {\n",
       "        vertical-align: middle;\n",
       "    }\n",
       "\n",
       "    .dataframe tbody tr th {\n",
       "        vertical-align: top;\n",
       "    }\n",
       "\n",
       "    .dataframe thead th {\n",
       "        text-align: right;\n",
       "    }\n",
       "</style>\n",
       "<table border=\"1\" class=\"dataframe\">\n",
       "  <thead>\n",
       "    <tr style=\"text-align: right;\">\n",
       "      <th>cohort_lifetime</th>\n",
       "      <th>0</th>\n",
       "      <th>1</th>\n",
       "      <th>2</th>\n",
       "      <th>3</th>\n",
       "      <th>4</th>\n",
       "      <th>5</th>\n",
       "    </tr>\n",
       "    <tr>\n",
       "      <th>first_order_month</th>\n",
       "      <th></th>\n",
       "      <th></th>\n",
       "      <th></th>\n",
       "      <th></th>\n",
       "      <th></th>\n",
       "      <th></th>\n",
       "    </tr>\n",
       "  </thead>\n",
       "  <tbody>\n",
       "    <tr>\n",
       "      <th>2017-06-01</th>\n",
       "      <td>3.85</td>\n",
       "      <td>4.16</td>\n",
       "      <td>4.29</td>\n",
       "      <td>4.37</td>\n",
       "      <td>4.60</td>\n",
       "      <td>4.65</td>\n",
       "    </tr>\n",
       "    <tr>\n",
       "      <th>2017-07-01</th>\n",
       "      <td>5.51</td>\n",
       "      <td>5.73</td>\n",
       "      <td>5.78</td>\n",
       "      <td>6.28</td>\n",
       "      <td>6.45</td>\n",
       "      <td>6.59</td>\n",
       "    </tr>\n",
       "    <tr>\n",
       "      <th>2017-08-01</th>\n",
       "      <td>5.37</td>\n",
       "      <td>5.50</td>\n",
       "      <td>5.69</td>\n",
       "      <td>5.84</td>\n",
       "      <td>5.90</td>\n",
       "      <td>6.15</td>\n",
       "    </tr>\n",
       "    <tr>\n",
       "      <th>2017-09-01</th>\n",
       "      <td>5.04</td>\n",
       "      <td>6.91</td>\n",
       "      <td>7.85</td>\n",
       "      <td>8.36</td>\n",
       "      <td>8.44</td>\n",
       "      <td>8.63</td>\n",
       "    </tr>\n",
       "    <tr>\n",
       "      <th>2017-10-01</th>\n",
       "      <td>4.45</td>\n",
       "      <td>4.88</td>\n",
       "      <td>5.00</td>\n",
       "      <td>5.05</td>\n",
       "      <td>5.19</td>\n",
       "      <td>5.22</td>\n",
       "    </tr>\n",
       "    <tr>\n",
       "      <th>2017-11-01</th>\n",
       "      <td>5.85</td>\n",
       "      <td>6.04</td>\n",
       "      <td>6.10</td>\n",
       "      <td>6.19</td>\n",
       "      <td>6.27</td>\n",
       "      <td>6.30</td>\n",
       "    </tr>\n",
       "    <tr>\n",
       "      <th>2017-12-01</th>\n",
       "      <td>4.17</td>\n",
       "      <td>4.34</td>\n",
       "      <td>4.41</td>\n",
       "      <td>4.47</td>\n",
       "      <td>4.49</td>\n",
       "      <td>4.52</td>\n",
       "    </tr>\n",
       "  </tbody>\n",
       "</table>\n",
       "</div>"
      ],
      "text/plain": [
       "cohort_lifetime       0     1     2     3     4     5\n",
       "first_order_month                                    \n",
       "2017-06-01         3.85  4.16  4.29  4.37  4.60  4.65\n",
       "2017-07-01         5.51  5.73  5.78  6.28  6.45  6.59\n",
       "2017-08-01         5.37  5.50  5.69  5.84  5.90  6.15\n",
       "2017-09-01         5.04  6.91  7.85  8.36  8.44  8.63\n",
       "2017-10-01         4.45  4.88  5.00  5.05  5.19  5.22\n",
       "2017-11-01         5.85  6.04  6.10  6.19  6.27  6.30\n",
       "2017-12-01         4.17  4.34  4.41  4.47  4.49  4.52"
      ]
     },
     "execution_count": 92,
     "metadata": {},
     "output_type": "execute_result"
    }
   ],
   "source": [
    "touch = pd.merge(touch_users, touch_cohorts, on='first_order_month')\n",
    "touch['cohort_lifetime'] = (touch['order_month'] - touch['first_order_month']) / np.timedelta64(1, 'M')\n",
    "touch['cohort_lifetime'] = touch['cohort_lifetime'].round().astype('int')\n",
    "touch['first_order_month'] = touch['first_order_month'].dt.strftime('%Y-%m-%d')\n",
    "touch['ltv'] = touch['revenue'] / touch['touch_users']\n",
    "\n",
    "touch_6_ltv = touch.loc[(touch['first_order_month'] < '2018-01-01') & (touch['cohort_lifetime'] < 6)]\n",
    "\n",
    "touch_6_ltv = touch_6_ltv.pivot_table(index='first_order_month', columns='cohort_lifetime', \n",
    "                            values='ltv', aggfunc='mean')\n",
    "touch_6_ltv.cumsum(axis=1).round(2).fillna('')"
   ]
  },
  {
   "cell_type": "code",
   "execution_count": 93,
   "metadata": {},
   "outputs": [
    {
     "data": {
      "image/png": "[encoded data removed]",
      "text/plain": [
       "<Figure size 504x360 with 2 Axes>"
      ]
     },
     "metadata": {
      "needs_background": "light"
     },
     "output_type": "display_data"
    }
   ],
   "source": [
    "fig, ax = plt.subplots(figsize=(7, 5))\n",
    "ax = sns.heatmap(touch_6_ltv.cumsum(axis=1).round(2), annot=True, linewidths=1, linecolor='gray')\n",
    "plt.title('Метрика LTV по устройству touch по когортам 2017г. за 6 месяцев')\n",
    "plt.xlabel('Cohort lifetime')\n",
    "plt.ylabel('Когорта');"
   ]
  },
  {
   "cell_type": "markdown",
   "metadata": {},
   "source": [
    "Здесь метрика сильно отличается от предыдущих графиков. Самые слабые когорты - декабрь (4,5), июнь (4,7) и октябрь (5,2). Декабрь очень плохо растет, в остальных рост тоже небольшой, но выше стартовые значения, поэтому удается выйти к 6,2 - 6,6 к концу. Сентябрьская когорта по-прежнему самая успешная (с 5 до 8,6 в конце цикла со скачкообразным ростом). "
   ]
  },
  {
   "cell_type": "markdown",
   "metadata": {},
   "source": [
    "- анализ `ROI` по рекламным источникам:\n",
    "\n",
    "Для выполнения этой задачи нужно покогортно посчитать `ROI` по формуле `LTV` - `CAC` для каждого рекламного источника, а затем отобразить это на графиках. Возьмем объединенную таблицу с первыми визитами и заказами пользователей users_orders:"
   ]
  },
  {
   "cell_type": "code",
   "execution_count": 94,
   "metadata": {},
   "outputs": [
    {
     "data": {
      "text/html": [
       "<div>\n",
       "<style scoped>\n",
       "    .dataframe tbody tr th:only-of-type {\n",
       "        vertical-align: middle;\n",
       "    }\n",
       "\n",
       "    .dataframe tbody tr th {\n",
       "        vertical-align: top;\n",
       "    }\n",
       "\n",
       "    .dataframe thead th {\n",
       "        text-align: right;\n",
       "    }\n",
       "</style>\n",
       "<table border=\"1\" class=\"dataframe\">\n",
       "  <thead>\n",
       "    <tr style=\"text-align: right;\">\n",
       "      <th></th>\n",
       "      <th>uid</th>\n",
       "      <th>start_ts</th>\n",
       "      <th>source_id</th>\n",
       "      <th>device</th>\n",
       "      <th>buy_ts</th>\n",
       "      <th>revenue</th>\n",
       "      <th>order_month</th>\n",
       "    </tr>\n",
       "  </thead>\n",
       "  <tbody>\n",
       "    <tr>\n",
       "      <th>3094</th>\n",
       "      <td>1162850589644794033</td>\n",
       "      <td>2017-07-17 21:28:00</td>\n",
       "      <td>9</td>\n",
       "      <td>desktop</td>\n",
       "      <td>2017-09-04 06:50:00</td>\n",
       "      <td>6.11</td>\n",
       "      <td>2017-09-01</td>\n",
       "    </tr>\n",
       "  </tbody>\n",
       "</table>\n",
       "</div>"
      ],
      "text/plain": [
       "                      uid            start_ts  source_id   device  \\\n",
       "3094  1162850589644794033 2017-07-17 21:28:00          9  desktop   \n",
       "\n",
       "                  buy_ts  revenue order_month  \n",
       "3094 2017-09-04 06:50:00     6.11  2017-09-01  "
      ]
     },
     "execution_count": 94,
     "metadata": {},
     "output_type": "execute_result"
    }
   ],
   "source": [
    "users_orders.sample()"
   ]
  },
  {
   "cell_type": "markdown",
   "metadata": {},
   "source": [
    "Создадим цикл для расчета `ROI` по отдельным рекламным источникам:"
   ]
  },
  {
   "cell_type": "code",
   "execution_count": 95,
   "metadata": {},
   "outputs": [
    {
     "data": {
      "text/plain": [
       "[1, 2, 3, 4, 5, 7, 9, 10]"
      ]
     },
     "execution_count": 95,
     "metadata": {},
     "output_type": "execute_result"
    }
   ],
   "source": [
    "sources = users_orders['source_id'].sort_values().drop_duplicates().tolist()\n",
    "sources"
   ]
  },
  {
   "cell_type": "code",
   "execution_count": 96,
   "metadata": {},
   "outputs": [
    {
     "data": {
      "image/png": "[encoded data removed]",
      "text/plain": [
       "<Figure size 504x360 with 2 Axes>"
      ]
     },
     "metadata": {
      "needs_background": "light"
     },
     "output_type": "display_data"
    },
    {
     "data": {
      "image/png": "[encoded data removed]",
      "text/plain": [
       "<Figure size 504x360 with 2 Axes>"
      ]
     },
     "metadata": {
      "needs_background": "light"
     },
     "output_type": "display_data"
    },
    {
     "data": {
      "image/png": "[encoded data removed]",
      "text/plain": [
       "<Figure size 504x360 with 2 Axes>"
      ]
     },
     "metadata": {
      "needs_background": "light"
     },
     "output_type": "display_data"
    },
    {
     "data": {
      "image/png": "[encoded data removed]",
      "text/plain": [
       "<Figure size 504x360 with 2 Axes>"
      ]
     },
     "metadata": {
      "needs_background": "light"
     },
     "output_type": "display_data"
    },
    {
     "data": {
      "image/png": "[encoded data removed]",
      "text/plain": [
       "<Figure size 504x360 with 2 Axes>"
      ]
     },
     "metadata": {
      "needs_background": "light"
     },
     "output_type": "display_data"
    },
    {
     "data": {
      "image/png": "[encoded data removed]",
      "text/plain": [
       "<Figure size 504x360 with 2 Axes>"
      ]
     },
     "metadata": {
      "needs_background": "light"
     },
     "output_type": "display_data"
    },
    {
     "data": {
      "image/png": "[encoded data removed]",
      "text/plain": [
       "<Figure size 504x360 with 2 Axes>"
      ]
     },
     "metadata": {
      "needs_background": "light"
     },
     "output_type": "display_data"
    }
   ],
   "source": [
    "s_list = [1, 2, 3, 4, 5, 9, 10]\n",
    "for i in s_list:    \n",
    "    \n",
    "    first_s_id_orders = users_orders.groupby('uid').agg({'order_month': 'min', 'source_id': 'first'}).reset_index()\n",
    "    first_s_id_orders.columns = ['uid','first_order_month', 'source_id']\n",
    "    s_users = first_s_id_orders.loc[first_s_id_orders['source_id'] == i\n",
    "                            ].groupby('first_order_month').agg({'uid': 'nunique'}).reset_index()\n",
    "    s_users.columns = ['first_order_month', 's_users']\n",
    "    s_orders = pd.merge(users_orders.loc[users_orders['source_id'] == i\n",
    "                            ],first_s_id_orders, on='uid')\n",
    "    s_cohorts = s_orders.groupby(['first_order_month','order_month']).agg({'revenue': 'sum'}).reset_index()\n",
    "\n",
    "    s_report = pd.merge(s_users, s_cohorts, on='first_order_month')\n",
    "    s_report['cohort_lifetime'] = (s_report['order_month'] - s_report['first_order_month']) / np.timedelta64(1, 'M')\n",
    "    s_report['cohort_lifetime'] = s_report['cohort_lifetime'].round().astype('int')\n",
    "    s_report['first_order_month'] = s_report['first_order_month'].dt.strftime('%Y-%m-%d')\n",
    "    s_report['ltv'] = s_report['revenue'] / s_report['s_users']\n",
    "    s_report_6 = s_report.loc[(s_report['first_order_month'] < '2018-01-01') & (s_report['cohort_lifetime'] < 6)]\n",
    "\n",
    "    s_report_6_ltv = s_report_6.pivot_table(index='first_order_month', \n",
    "                                            columns='cohort_lifetime', \n",
    "                                            values='ltv', \n",
    "                                            aggfunc='mean')\n",
    "    s_report_6_ltv.cumsum(axis=1).round(2)\n",
    "    \n",
    "    c = costs_data.loc[costs_data['source_id'] == i]\n",
    "    costs_month = c.groupby('costs_month')['costs'].sum()\n",
    "    report_new = pd.merge(s_report_6, costs_month, left_on='first_order_month', right_on='costs_month')\n",
    "    report_new['cac'] = report_new['costs'] / report_new['s_users']\n",
    "\n",
    "    report_new['roi'] = report_new['ltv'] / report_new['cac']\n",
    "    output = report_new.pivot_table(index='first_order_month', \n",
    "                                    columns='cohort_lifetime', \n",
    "                                    values='roi', \n",
    "                                    aggfunc='mean')\n",
    " \n",
    "    output.cumsum(axis=1).round(2)\n",
    "    plt.figure(figsize=(7, 5))\n",
    "    plt.title(i)\n",
    "    sns.heatmap(output.cumsum(axis=1).round(2), annot=True, linewidths=1, linecolor='gray');"
   ]
  },
  {
   "cell_type": "markdown",
   "metadata": {},
   "source": [
    "Проанализируем графики:\n",
    "- Источник №1\n",
    "Минимальное значение `ROI` - 0,65, максимальное - 3,7 в конце первой когорты (3,1, 2,5, - для июля и августа). Источник окупился почти полностью. Для остальных когорт `ROI` колеблется от 1,2 до 1,5, за исключением декабрьской когорты - 0,78).\n",
    "\n",
    "- Источник №2\n",
    "Минимальное значение `ROI` - 0,39, максимальное - 2,9 в конце декабрьской когорты. Примечательно, что она окупилась уже 2 месяц жизни и продолжила расти. Хороший показатель у сентября - 1,2 на 1 месяц жизни и 1,6 в конце цикла. Июнь, июль и октябрь почти вышли на окупаемость. Слабее всех августовская когорта - 0,52 за полгода. \n",
    "\n",
    "- Источник №3\n",
    "Минимальное значение `ROI` - 0,28, максимальное - 0,51 в конце сентябрьской когорты. Ни одна из когорт не окупилась за полгода жизни. В основном `ROI` - 0,35 - 0,45. Рост метрики есть, но показатели слишком низкие сами по себе за счет высокого `CAC`. \n",
    "\n",
    "- Источник №4\n",
    "Минимальное значение `ROI` - 0,5, максимальное - 1,4 в конце ноябрьской когорты - она окупилась уже в 0 месяце (1,1). Наиболее близкие к тому, чтобы окупиться июньская, октябрьская и июльская когорты. Самые слабые - август и сентябрь. Примчатльено, что в июне резкий рост происходит лишнь на 5 и 6 месяцы, которые приводят когортук близости к окупаемости, остальные развиваются ровно. \n",
    "\n",
    "- Источник №5\n",
    "Минимальное значение `ROI` - 0,53, максимальное - 3,9 в конце сентябрьской когорты, она показывает аномально высокие значения. \n",
    "Среди прочих когорт окупились июнь и август (1,2 и 1,5), близки октябрь и июль (0,95 и 0,91), самые слабые - декабрь и ноябрь (0,7 и 0,56).\n",
    "\n",
    "- Источник №9\n",
    "Минимальное значение `ROI` - 0,7, максимальное - 1,6 в конце сентябрьской когорты. Это один из самых окупающихся источников. Помимо того, что половина когорт вышла на единицу практически на старте, в конце жизненного цикла минимальное `ROI` здесь 0,87 у декабрьской когорты. Почти все когорты показывают хороший рост и высокие значения метрики. \n",
    "\n",
    "- Источник №10\n",
    "Здесь значение `ROI` выглядет нехарактерно, по сравшению с остальными источниками. Есть дыры в те периоды, когда не приходили новые пользователи. \n",
    "Минимальное значение `ROI` - 0.42, а максимальное - 0,93 (в конце октябрьской когорты). Более менее нормально развиваются октябрьская и ноябрьская когорты. Августовская показывает относительено хороший `ROI`, но в ней мало покупателей. "
   ]
  },
  {
   "cell_type": "markdown",
   "metadata": {},
   "source": [
    "<div id='step6'/>\n",
    "\n",
    "### 3. Общий вывод:\n",
    "\n",
    "##### Задача - проанализировать данные с сайта-афиши с июня 2017 по конец мая 2018 года и помочь маркетологам оптимизировать маркетинговые затраты.\n",
    "\n",
    "##### Цель: Дать рекомендации маркетологам, куда и сколько им стоит вкладывать денег."
   ]
  },
  {
   "cell_type": "markdown",
   "metadata": {},
   "source": [
    "#### *Оценка пользовательской активности по продукту:*\n",
    "\n",
    "- Сколько людей пользуются в день, неделю, месяц?\n",
    "\n",
    "За это отвечают метрики DAU, MAW, WAU. DAU (количество пользователей в день) – 907 чел. WAU (количество пользователей в неделю) – 5621 чел. MAU (количество пользователей в месяц) – 23228 чел. \n",
    "- Сколько сессий в день?\n",
    "\n",
    "Среднее количество сессий в день: 987 – это немного больше, чем количество уникальных пользователей. Значит, некоторые заходят в день по нескольку раз.\n",
    "- Сколько длится одна сессия?\n",
    "\n",
    "За среднюю продолжительность сессии отвечает метрика ASL. Чтобы ее найти, я посчитала длину всех сессий и вычислила среднее. Получилось  почти 11 минут – хорошо. Однако, график показал высокий пик значений около нуля и я рассчитала моду. Самое частое значение - минута. \n",
    "- Как часто люди возвращаются?\n",
    "\n",
    "Метрику CRR или retention rate я рассчитывала с помощью когортного анализа  данных о посещениях сайта Яндекс.Афиши. Величина когорты - 1 месяц. Значения метрики варьируются от 8,55% до 1,90%. \n",
    "Ранние когорты – с июня по ноябрь (за исключением июля) показывают высокий начальный CRR на уровне 7,7%-7,9%, даже 8.6% в сентябре. С декабря 2017 года происходит резкое падение метрики до 5,6% и постепенное снижение до 4,9%. \n",
    "В первых двух когортах видно, что CRR снижается неравномерно, на 3 месяц и еще кое-где есть рост. Августовская, сентябрьская и октябрьская когорты теряют CRR все еще довольно медленно, по сравнению с ноябрьской и ниже. Можно предположить, что в ноябре-декабре произошло какое-то событие, которое сильно повлияло на поведение пользователей.\n",
    "\n",
    "#### *Оценка пользовательской активности по продажам:*\n",
    "- Когда люди начинают покупать?\n",
    "\n",
    "Для расчета этой метрики я вычислила разницу между датой первой активности пользователя и первого заказа. Получилось, что минимальное значение – 0, медиана – 2, а среднее – 17,6 за счет длинного хвоста. \n",
    "- Сколько раз покупают за период?\n",
    "\n",
    "Эту метрику я рассчитывала по когортам на основе данных из таблицы с заказами. Я вычислила соотношение ежемесячного количества заказов и покупателей и построила график. По графику видно, что основная часть пользователей в течение жизненного цикла когорты совершает по 1,4 - 1,6 покупки. Первая когорта наиболее активна и совершает до 2.2 покупок за год.\n",
    "- Какой средний чек?\n",
    "\n",
    "Средний чек – соотношение выручки к количеству заказов за указанное время. Минимальное значение – 3,42, медиана – 4,85, а максимум – 5,85. \n",
    "На графике хорошо видно, что максимума средний чек достигает в декабре 2017, после чего сумма резко падает, с февраля по март снова идет рост, а затем плавное снижение с апреля по май.\n",
    "- Сколько денег приносят? (LTV)\n",
    "\n",
    "LTV я рассчитывала по когортам на основе данных из таблицы с заказами и вывела значения графически. \n",
    "Минимальное значение LTV в конце обозначенного жизненного цикла - 6,2, максимальное - 12. Минимальное значение - 4,7 у июньской и декабрьской когорт. При этом первая выходит на 8,4, а последняя - на 7,6. Октябрьская и ноябрьская самые неказистые - вырастают всего на единицу за жизненный цикл. Сентябрьская когорта показвает аномальные результаты - уже на 3 месяц жизни LTV - 11 и продолжает расти. Остальные демонстрируют хорошие ровные показатели.\n",
    "\n",
    "#### *Оценка затрат на маркетинг:*\n",
    "- Сколько денег потратили? Всего / на каждый источник / по времени\n",
    "\n",
    "Общие расходы на рекламу составили 329131.62 ед. \n",
    "Расходы на рекламу по источникам и по времени я оформила в виде графика. Дороже всего обошелся рекламный источник №3 - на него потратили почти половину всего рекламного бюджета (141321.63), самый дешевый - №9 (5517.49).\n",
    "С октября сильно увеличили бюджет на рекламу – расходы выросли почти в 2 раза относительно первоначальных. С января 2018 наблюдается небольшой спад, в апреле и мае - заметное сокращение расходов.\n",
    "- Сколько стоило привлечение одного покупателя из каждого источника?\n",
    "\n",
    "Для расчета этой метрики я нашла сколько пользователей зарегистрировалась после рекламы в каждом источнике, выделила из них тех, кто совершил покупки и вычислила соотношение расходов на источник и количества покупателей. \n",
    "Дороже всего покупатели из источника №3 (13,5 ед). Самый дешевый источник - №10 (4,4).\n",
    "- На сколько окупились расходы? (ROI)\n",
    "\n",
    "Отобразите на графиках, как эти метрики отличаются по устройствам и по рекламным источникам? Как они меняются во временем?\n",
    "\n",
    "Я считала ROI покогортно на основе найденного ранее LTV, результаты вывела графически и проанализировала. \n",
    " \n",
    "ROI выше 1 только в сентябрьской когорте. Хорошие показатели в июньской - 0,94 и декабрьской - 0,87. Значительный рост окупаемости в них произошел на 3 месяц. Минимальное значение ROI в конце жизненного цикла - 0,68. до 0,88. Текущий кумулятивный рост метрики от 0,15 до 0,20 ед. за период. При таких темпах инвестиции будут окупаться еще от одного до двух лет.\n",
    "\n",
    "\n",
    "Общий ROI - -23%. Распределение ROI по устройствам: десктоп - -20%, мобильные - -36%.\n",
    "Получилось, что пользователи лучше покупают с десктопа. \n",
    "\n",
    "Покогортные графики показали интересные закономерности. \n",
    "\n",
    "Распределение LTV по десктопам очень похоже на общий график LTV с небольшими отличиями в значениях. В то время как для мобильных устройств картина иная. Самые слабые когорты успешные в десктопе  декабрь и июнь. А сентябрьская когорта по-прежнему самая успешная (с 5 до 8,6 в конце цикла со скачкообразным ростом).\n"
   ]
  },
  {
   "cell_type": "markdown",
   "metadata": {},
   "source": [
    "*Анализ ROI по рекламным источникам:*\n",
    "\n",
    "Для выполнения этой задачи я покогортно считала ROI по формуле LTV - CAC для каждого рекламного источника, а затем отобразила это на графиках.\n",
    "\n",
    "Для выполнения этой задачи я покогортно считала ROI по формуле LTV - CAC для каждого рекламного источника в цикле,  а затем отобразила это на графиках.\n",
    "- Источник №1\n",
    "\n",
    "Минимальное значение ROI - 0,65, максимальное - 3,7 в конце первой когорты (3,1, 2,5, - для июля и августа). Источник окупился почти полностью. Для остальных когорт ROI колеблется от 1,2 до 1,5, за исключением декабрьской когорты - 0,78).\n",
    "- Источник №2\n",
    "\n",
    "Минимальное значение ROI - 0,39, максимальное - 2,9 в конце декабрьской когорты. Примечательно, что она окупилась уже 2 месяц жизни и продолжила расти. Хороший показатель у сентября - 1,2 на 1 месяц жизни и 1,6 в конце цикла. Июнь, июль и октябрь почти вышли на окупаемость. Слабее всех августовская когорта - 0,52 за полгода. \n",
    "- Источник №3\n",
    "\n",
    "Минимальное значение ROI - 0,28, максимальное - 0,51 в конце сентябрьской когорты. Ни одна из когорт не окупилась за полгода жизни. В основном ROI - 0,35 - 0,45. Рост метрики есть, но показатели слишком низкие сами по себе за счет высокого CAC. \n",
    "- Источник №4\n",
    "\n",
    "Минимальное значение ROI - 0,5, максимальное - 1,4 в конце ноябрьской когорты - она окупилась уже в 0 месяце (1,1). Наиболее близкие к тому, чтобы окупиться июньская, октябрьская и июльская когорты. Самые слабые - август и сентябрь. Примчатльено, что в июне резкий рост происходит лишнь на 5 и 6 месяцы, которые приводят когортук близости к окупаемости, остальные развиваются ровно. \n",
    "- Источник №5\n",
    "\n",
    "Минимальное значение ROI - 0,53, максимальное - 3,9 в конце сентябрьской когорты, она показывает аномально высокие значения. \n",
    "Среди прочих когорт окупились июнь и август (1,2 и 1,5), близки октябрь и июль (0,95 и 0,91), самые слабые - декабрь и ноябрь (0,7 и 0,56).\n",
    "- Источник №9\n",
    "\n",
    "Минимальное значение ROI - 0,7, максимальное - 1,6 в конце сентябрьской когорты. Это один из самых окупающихся источников. Помимо того, что половина когорт вышла на единицу практически на старте, в конце жизненного цикла минимальное ROI здесь 0,87 у декабрьской когорты. Почти все когорты показывают хороший рост и высокие значения метрики. \n",
    "- Источник №10\n",
    "\n",
    "Здесь значение ROI выглядет нехарактерно, по сравшению с остальными источниками. Есть дыры в те периоды, когда не приходили новые пользователи. \n",
    "Минимальное значение ROI - 0.42, а максимальное - 0,93 (в конце октябрьской когорты). Более менее нормально развиваются октябрьская и ноябрьская когорты. Августовская показывает относительено хороший ROI, но в ней мало покупателей.*\n",
    "\n",
    "\n",
    "##### Рекомендации маркетологам:\n",
    "##### При планировании рекламных компаний следует учитывать устройство. Например, хороший канал для мобильных – 4, там много пользователей, расходы почти окупаются, его можно развивать. Для десктопов хороши каналы 5, 2 и 4. Из непопулярных каналов стоит обратить внимание на №9 – там тоже есть потенциал для роста для обоих устройств. 3 канал зарабатывает так же или меньше, как и остальные, но расходы для него составляют почти половину всего рекламного бюджета. Я советую перераспределить средства, которые вкладываются в него в другие каналы, интересные для развития. Среди использованных рекламных каналов лучшие метрики по наибольшему числу когорт показали источники № 9, 1, 2 и 5. Самые низкие показатели в источнике №3 – лишь в одной когорте ROI превысил -50%.  \n"
   ]
  },
  {
   "cell_type": "code",
   "execution_count": null,
   "metadata": {},
   "outputs": [],
   "source": []
  }
 ],
 "metadata": {
  "kernelspec": {
   "display_name": "Python 3",
   "language": "python",
   "name": "python3"
  },
  "language_info": {
   "codemirror_mode": {
    "name": "ipython",
    "version": 3
   },
   "file_extension": ".py",
   "mimetype": "text/x-python",
   "name": "python",
   "nbconvert_exporter": "python",
   "pygments_lexer": "ipython3",
   "version": "3.7.6"
  }
 },
 "nbformat": 4,
 "nbformat_minor": 4
}

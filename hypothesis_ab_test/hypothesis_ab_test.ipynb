{
 "cells": [
  {
   "cell_type": "markdown",
   "metadata": {},
   "source": [
    "# Приоритезация гипотез и анализ А/В-теста"
   ]
  },
  {
   "cell_type": "markdown",
   "metadata": {},
   "source": [
    "**Задача**: приоритезировать гипотезы для увеличения выручки крупного интернет-магазина. Запустить A/B-тест и проанализировать  результаты.\n",
    "\n",
    "Данные представлены в виде трех таблиц: гипотезы, таблица результатов А/В-теста и пользователи А/В-теста. "
   ]
  },
  {
   "cell_type": "markdown",
   "metadata": {},
   "source": [
    "### План работы над проектом\n",
    "- [Импорт данных](#step1); \n",
    "- [Предобработка данных](#step2);\n",
    "- [Приоритезация гипотез](#step3);\n",
    "- [Aнализ A/B-теста](#step4);\n",
    "- [Общий вывод](#step5)."
   ]
  },
  {
   "cell_type": "markdown",
   "metadata": {},
   "source": [
    "<div id='step1'/>\n",
    "\n",
    "## Импортируем данные:"
   ]
  },
  {
   "cell_type": "code",
   "execution_count": 1,
   "metadata": {},
   "outputs": [],
   "source": [
    "import pandas as pd\n",
    "import scipy.stats as stats\n",
    "import numpy as np\n",
    "import matplotlib.pyplot as plt"
   ]
  },
  {
   "cell_type": "code",
   "execution_count": 2,
   "metadata": {},
   "outputs": [],
   "source": [
    "hypothesis_data = pd.read_csv('hypothesis.csv')\n",
    "orders_data = pd.read_csv('orders.csv')\n",
    "visitors_data = pd.read_csv('visitors.csv')"
   ]
  },
  {
   "cell_type": "markdown",
   "metadata": {},
   "source": [
    "<div id='step2'/>\n",
    "\n",
    "## Предобработка данных"
   ]
  },
  {
   "cell_type": "code",
   "execution_count": 3,
   "metadata": {},
   "outputs": [
    {
     "name": "stdout",
     "output_type": "stream",
     "text": [
      "<class 'pandas.core.frame.DataFrame'>\n",
      "RangeIndex: 9 entries, 0 to 8\n",
      "Data columns (total 5 columns):\n",
      " #   Column      Non-Null Count  Dtype \n",
      "---  ------      --------------  ----- \n",
      " 0   Hypothesis  9 non-null      object\n",
      " 1   Reach       9 non-null      int64 \n",
      " 2   Impact      9 non-null      int64 \n",
      " 3   Confidence  9 non-null      int64 \n",
      " 4   Efforts     9 non-null      int64 \n",
      "dtypes: int64(4), object(1)\n",
      "memory usage: 488.0+ bytes\n",
      "--------------------------------------\n",
      "Дубликаты:\n",
      "0 дубликатов\n",
      "--------------------------------------\n",
      "Пропуски:\n",
      "Hypothesis    0.0\n",
      "Reach         0.0\n",
      "Impact        0.0\n",
      "Confidence    0.0\n",
      "Efforts       0.0\n",
      "dtype: float64\n",
      "--------------------------------------\n",
      "Начало таблицы\n",
      "                                          Hypothesis  Reach  Impact  \\\n",
      "0  Добавить два новых канала привлечения трафика,...      3      10   \n",
      "1  Запустить собственную службу доставки, что сок...      2       5   \n",
      "2  Добавить блоки рекомендаций товаров на сайт ин...      8       3   \n",
      "3  Изменить структура категорий, что увеличит кон...      8       3   \n",
      "4  Изменить цвет фона главной страницы, чтобы уве...      3       1   \n",
      "\n",
      "   Confidence  Efforts  \n",
      "0           8        6  \n",
      "1           4       10  \n",
      "2           7        3  \n",
      "3           3        8  \n",
      "4           1        1  \n",
      "--------------------------------------\n",
      "Конец таблицы\n",
      "                                          Hypothesis  Reach  Impact  \\\n",
      "4  Изменить цвет фона главной страницы, чтобы уве...      3       1   \n",
      "5  Добавить страницу отзывов клиентов о магазине,...      3       2   \n",
      "6  Показать на главной странице баннеры с актуаль...      5       3   \n",
      "7  Добавить форму подписки на все основные страни...     10       7   \n",
      "8  Запустить акцию, дающую скидку на товар в день...      1       9   \n",
      "\n",
      "   Confidence  Efforts  \n",
      "4           1        1  \n",
      "5           2        3  \n",
      "6           8        3  \n",
      "7           8        5  \n",
      "8           9        5  \n"
     ]
    }
   ],
   "source": [
    "def standart_opening(data):\n",
    "    data.info()\n",
    "    print('--------------------------------------')\n",
    "    print('Дубликаты:')\n",
    "    print (data.duplicated().sum(), 'дубликатов')\n",
    "    print('--------------------------------------')\n",
    "    print('Пропуски:')\n",
    "    print (data.isna().mean())\n",
    "    print('--------------------------------------')\n",
    "    print('Начало таблицы')\n",
    "    print (data.head())\n",
    "    print('--------------------------------------')\n",
    "    print('Конец таблицы')\n",
    "    print (data.tail())\n",
    "    \n",
    "standart_opening(hypothesis_data)"
   ]
  },
  {
   "cell_type": "code",
   "execution_count": 4,
   "metadata": {},
   "outputs": [
    {
     "data": {
      "text/html": [
       "<div>\n",
       "<style scoped>\n",
       "    .dataframe tbody tr th:only-of-type {\n",
       "        vertical-align: middle;\n",
       "    }\n",
       "\n",
       "    .dataframe tbody tr th {\n",
       "        vertical-align: top;\n",
       "    }\n",
       "\n",
       "    .dataframe thead th {\n",
       "        text-align: right;\n",
       "    }\n",
       "</style>\n",
       "<table border=\"1\" class=\"dataframe\">\n",
       "  <thead>\n",
       "    <tr style=\"text-align: right;\">\n",
       "      <th></th>\n",
       "      <th>hypothesis</th>\n",
       "      <th>reach</th>\n",
       "      <th>impact</th>\n",
       "      <th>confidence</th>\n",
       "      <th>efforts</th>\n",
       "    </tr>\n",
       "  </thead>\n",
       "  <tbody>\n",
       "    <tr>\n",
       "      <th>0</th>\n",
       "      <td>Добавить два новых канала привлечения трафика, что позволит привлекать на 30% больше пользователей</td>\n",
       "      <td>3</td>\n",
       "      <td>10</td>\n",
       "      <td>8</td>\n",
       "      <td>6</td>\n",
       "    </tr>\n",
       "    <tr>\n",
       "      <th>1</th>\n",
       "      <td>Запустить собственную службу доставки, что сократит срок доставки заказов</td>\n",
       "      <td>2</td>\n",
       "      <td>5</td>\n",
       "      <td>4</td>\n",
       "      <td>10</td>\n",
       "    </tr>\n",
       "    <tr>\n",
       "      <th>2</th>\n",
       "      <td>Добавить блоки рекомендаций товаров на сайт интернет магазина, чтобы повысить конверсию и средний чек заказа</td>\n",
       "      <td>8</td>\n",
       "      <td>3</td>\n",
       "      <td>7</td>\n",
       "      <td>3</td>\n",
       "    </tr>\n",
       "    <tr>\n",
       "      <th>3</th>\n",
       "      <td>Изменить структура категорий, что увеличит конверсию, т.к. пользователи быстрее найдут нужный товар</td>\n",
       "      <td>8</td>\n",
       "      <td>3</td>\n",
       "      <td>3</td>\n",
       "      <td>8</td>\n",
       "    </tr>\n",
       "    <tr>\n",
       "      <th>4</th>\n",
       "      <td>Изменить цвет фона главной страницы, чтобы увеличить вовлеченность пользователей</td>\n",
       "      <td>3</td>\n",
       "      <td>1</td>\n",
       "      <td>1</td>\n",
       "      <td>1</td>\n",
       "    </tr>\n",
       "    <tr>\n",
       "      <th>5</th>\n",
       "      <td>Добавить страницу отзывов клиентов о магазине, что позволит увеличить количество заказов</td>\n",
       "      <td>3</td>\n",
       "      <td>2</td>\n",
       "      <td>2</td>\n",
       "      <td>3</td>\n",
       "    </tr>\n",
       "    <tr>\n",
       "      <th>6</th>\n",
       "      <td>Показать на главной странице баннеры с актуальными акциями и распродажами, чтобы увеличить конверсию</td>\n",
       "      <td>5</td>\n",
       "      <td>3</td>\n",
       "      <td>8</td>\n",
       "      <td>3</td>\n",
       "    </tr>\n",
       "    <tr>\n",
       "      <th>7</th>\n",
       "      <td>Добавить форму подписки на все основные страницы, чтобы собрать базу клиентов для email-рассылок</td>\n",
       "      <td>10</td>\n",
       "      <td>7</td>\n",
       "      <td>8</td>\n",
       "      <td>5</td>\n",
       "    </tr>\n",
       "    <tr>\n",
       "      <th>8</th>\n",
       "      <td>Запустить акцию, дающую скидку на товар в день рождения</td>\n",
       "      <td>1</td>\n",
       "      <td>9</td>\n",
       "      <td>9</td>\n",
       "      <td>5</td>\n",
       "    </tr>\n",
       "  </tbody>\n",
       "</table>\n",
       "</div>"
      ],
      "text/plain": [
       "                                                                                                     hypothesis  \\\n",
       "0            Добавить два новых канала привлечения трафика, что позволит привлекать на 30% больше пользователей   \n",
       "1                                     Запустить собственную службу доставки, что сократит срок доставки заказов   \n",
       "2  Добавить блоки рекомендаций товаров на сайт интернет магазина, чтобы повысить конверсию и средний чек заказа   \n",
       "3           Изменить структура категорий, что увеличит конверсию, т.к. пользователи быстрее найдут нужный товар   \n",
       "4                              Изменить цвет фона главной страницы, чтобы увеличить вовлеченность пользователей   \n",
       "5                      Добавить страницу отзывов клиентов о магазине, что позволит увеличить количество заказов   \n",
       "6          Показать на главной странице баннеры с актуальными акциями и распродажами, чтобы увеличить конверсию   \n",
       "7              Добавить форму подписки на все основные страницы, чтобы собрать базу клиентов для email-рассылок   \n",
       "8                                                       Запустить акцию, дающую скидку на товар в день рождения   \n",
       "\n",
       "   reach  impact  confidence  efforts  \n",
       "0      3      10           8        6  \n",
       "1      2       5           4       10  \n",
       "2      8       3           7        3  \n",
       "3      8       3           3        8  \n",
       "4      3       1           1        1  \n",
       "5      3       2           2        3  \n",
       "6      5       3           8        3  \n",
       "7     10       7           8        5  \n",
       "8      1       9           9        5  "
      ]
     },
     "execution_count": 4,
     "metadata": {},
     "output_type": "execute_result"
    }
   ],
   "source": [
    "hypothesis_data.columns = hypothesis_data.columns.str.lower()\n",
    "pd.options.display.max_colwidth = 120\n",
    "hypothesis_data"
   ]
  },
  {
   "cell_type": "markdown",
   "metadata": {},
   "source": [
    "Я привела названия столбцов к нижнему регистру - для удобства работы. В таблице нет пропусков или дубликатов. "
   ]
  },
  {
   "cell_type": "markdown",
   "metadata": {},
   "source": [
    "Изучим таблицы с результатами А/В-теста:"
   ]
  },
  {
   "cell_type": "code",
   "execution_count": 5,
   "metadata": {},
   "outputs": [
    {
     "name": "stdout",
     "output_type": "stream",
     "text": [
      "<class 'pandas.core.frame.DataFrame'>\n",
      "RangeIndex: 1197 entries, 0 to 1196\n",
      "Data columns (total 5 columns):\n",
      " #   Column         Non-Null Count  Dtype \n",
      "---  ------         --------------  ----- \n",
      " 0   transactionId  1197 non-null   int64 \n",
      " 1   visitorId      1197 non-null   int64 \n",
      " 2   date           1197 non-null   object\n",
      " 3   revenue        1197 non-null   int64 \n",
      " 4   group          1197 non-null   object\n",
      "dtypes: int64(3), object(2)\n",
      "memory usage: 46.9+ KB\n",
      "--------------------------------------\n",
      "Дубликаты:\n",
      "0 дубликатов\n",
      "--------------------------------------\n",
      "Пропуски:\n",
      "transactionId    0.0\n",
      "visitorId        0.0\n",
      "date             0.0\n",
      "revenue          0.0\n",
      "group            0.0\n",
      "dtype: float64\n",
      "--------------------------------------\n",
      "Начало таблицы\n",
      "   transactionId   visitorId        date  revenue group\n",
      "0     3667963787  3312258926  2019-08-15     1650     B\n",
      "1     2804400009  3642806036  2019-08-15      730     B\n",
      "2     2961555356  4069496402  2019-08-15      400     A\n",
      "3     3797467345  1196621759  2019-08-15     9759     B\n",
      "4     2282983706  2322279887  2019-08-15     2308     B\n",
      "--------------------------------------\n",
      "Конец таблицы\n",
      "      transactionId   visitorId        date  revenue group\n",
      "1192     2662137336  3733762160  2019-08-14     6490     B\n",
      "1193     2203539145   370388673  2019-08-14     3190     A\n",
      "1194     1807773912   573423106  2019-08-14    10550     A\n",
      "1195     1947021204  1614305549  2019-08-14      100     A\n",
      "1196     3936777065  2108080724  2019-08-15   202740     B\n"
     ]
    }
   ],
   "source": [
    "standart_opening(orders_data)"
   ]
  },
  {
   "cell_type": "code",
   "execution_count": 6,
   "metadata": {},
   "outputs": [
    {
     "data": {
      "text/plain": [
       "transactionId             int64\n",
       "visitorId                 int64\n",
       "date             datetime64[ns]\n",
       "revenue                   int64\n",
       "group                    object\n",
       "dtype: object"
      ]
     },
     "execution_count": 6,
     "metadata": {},
     "output_type": "execute_result"
    }
   ],
   "source": [
    "orders_data['date'] = pd.to_datetime(orders_data['date'], format=\"%Y-%m-%d\")\n",
    "orders_data.dtypes"
   ]
  },
  {
   "cell_type": "markdown",
   "metadata": {},
   "source": [
    "Пропусков нет, полных дубликатов тоже нет. Я привела столбец с датой к временному формату. Посмотрим таблицу с пользователями:"
   ]
  },
  {
   "cell_type": "code",
   "execution_count": 7,
   "metadata": {},
   "outputs": [
    {
     "name": "stdout",
     "output_type": "stream",
     "text": [
      "<class 'pandas.core.frame.DataFrame'>\n",
      "RangeIndex: 62 entries, 0 to 61\n",
      "Data columns (total 3 columns):\n",
      " #   Column    Non-Null Count  Dtype \n",
      "---  ------    --------------  ----- \n",
      " 0   date      62 non-null     object\n",
      " 1   group     62 non-null     object\n",
      " 2   visitors  62 non-null     int64 \n",
      "dtypes: int64(1), object(2)\n",
      "memory usage: 1.6+ KB\n",
      "--------------------------------------\n",
      "Дубликаты:\n",
      "0 дубликатов\n",
      "--------------------------------------\n",
      "Пропуски:\n",
      "date        0.0\n",
      "group       0.0\n",
      "visitors    0.0\n",
      "dtype: float64\n",
      "--------------------------------------\n",
      "Начало таблицы\n",
      "         date group  visitors\n",
      "0  2019-08-01     A       719\n",
      "1  2019-08-02     A       619\n",
      "2  2019-08-03     A       507\n",
      "3  2019-08-04     A       717\n",
      "4  2019-08-05     A       756\n",
      "--------------------------------------\n",
      "Конец таблицы\n",
      "          date group  visitors\n",
      "57  2019-08-27     B       720\n",
      "58  2019-08-28     B       654\n",
      "59  2019-08-29     B       531\n",
      "60  2019-08-30     B       490\n",
      "61  2019-08-31     B       718\n"
     ]
    }
   ],
   "source": [
    "standart_opening(visitors_data)"
   ]
  },
  {
   "cell_type": "code",
   "execution_count": 8,
   "metadata": {},
   "outputs": [
    {
     "data": {
      "text/plain": [
       "date        datetime64[ns]\n",
       "group               object\n",
       "visitors             int64\n",
       "dtype: object"
      ]
     },
     "execution_count": 8,
     "metadata": {},
     "output_type": "execute_result"
    }
   ],
   "source": [
    "visitors_data['date'] = pd.to_datetime(visitors_data['date'], format=\"%Y-%m-%d\")\n",
    "visitors_data.dtypes"
   ]
  },
  {
   "cell_type": "markdown",
   "metadata": {},
   "source": [
    "Пропусков нет, полных дубликатов тоже нет. Я привела столбец с датой к временному формату. "
   ]
  },
  {
   "cell_type": "markdown",
   "metadata": {},
   "source": [
    "*Я подготовила данные к анализу: проверила таблицы на отсуствие пропусков и дубликатов, привела названия столбцов  в таблице с гипотезами нижнему регистру, в двух других привела столбцы с датами к соответствующему формату.*"
   ]
  },
  {
   "cell_type": "markdown",
   "metadata": {},
   "source": [
    "<div id='step3'/>\n",
    "\n",
    "## Приоритезация гипотез"
   ]
  },
  {
   "cell_type": "code",
   "execution_count": 9,
   "metadata": {},
   "outputs": [
    {
     "data": {
      "text/html": [
       "<div>\n",
       "<style scoped>\n",
       "    .dataframe tbody tr th:only-of-type {\n",
       "        vertical-align: middle;\n",
       "    }\n",
       "\n",
       "    .dataframe tbody tr th {\n",
       "        vertical-align: top;\n",
       "    }\n",
       "\n",
       "    .dataframe thead th {\n",
       "        text-align: right;\n",
       "    }\n",
       "</style>\n",
       "<table border=\"1\" class=\"dataframe\">\n",
       "  <thead>\n",
       "    <tr style=\"text-align: right;\">\n",
       "      <th></th>\n",
       "      <th>hypothesis</th>\n",
       "      <th>reach</th>\n",
       "      <th>impact</th>\n",
       "      <th>confidence</th>\n",
       "      <th>efforts</th>\n",
       "    </tr>\n",
       "  </thead>\n",
       "  <tbody>\n",
       "    <tr>\n",
       "      <th>0</th>\n",
       "      <td>Добавить два новых канала привлечения трафика, что позволит привлекать на 30% больше пользователей</td>\n",
       "      <td>3</td>\n",
       "      <td>10</td>\n",
       "      <td>8</td>\n",
       "      <td>6</td>\n",
       "    </tr>\n",
       "    <tr>\n",
       "      <th>1</th>\n",
       "      <td>Запустить собственную службу доставки, что сократит срок доставки заказов</td>\n",
       "      <td>2</td>\n",
       "      <td>5</td>\n",
       "      <td>4</td>\n",
       "      <td>10</td>\n",
       "    </tr>\n",
       "    <tr>\n",
       "      <th>2</th>\n",
       "      <td>Добавить блоки рекомендаций товаров на сайт интернет магазина, чтобы повысить конверсию и средний чек заказа</td>\n",
       "      <td>8</td>\n",
       "      <td>3</td>\n",
       "      <td>7</td>\n",
       "      <td>3</td>\n",
       "    </tr>\n",
       "    <tr>\n",
       "      <th>3</th>\n",
       "      <td>Изменить структура категорий, что увеличит конверсию, т.к. пользователи быстрее найдут нужный товар</td>\n",
       "      <td>8</td>\n",
       "      <td>3</td>\n",
       "      <td>3</td>\n",
       "      <td>8</td>\n",
       "    </tr>\n",
       "    <tr>\n",
       "      <th>4</th>\n",
       "      <td>Изменить цвет фона главной страницы, чтобы увеличить вовлеченность пользователей</td>\n",
       "      <td>3</td>\n",
       "      <td>1</td>\n",
       "      <td>1</td>\n",
       "      <td>1</td>\n",
       "    </tr>\n",
       "    <tr>\n",
       "      <th>5</th>\n",
       "      <td>Добавить страницу отзывов клиентов о магазине, что позволит увеличить количество заказов</td>\n",
       "      <td>3</td>\n",
       "      <td>2</td>\n",
       "      <td>2</td>\n",
       "      <td>3</td>\n",
       "    </tr>\n",
       "    <tr>\n",
       "      <th>6</th>\n",
       "      <td>Показать на главной странице баннеры с актуальными акциями и распродажами, чтобы увеличить конверсию</td>\n",
       "      <td>5</td>\n",
       "      <td>3</td>\n",
       "      <td>8</td>\n",
       "      <td>3</td>\n",
       "    </tr>\n",
       "    <tr>\n",
       "      <th>7</th>\n",
       "      <td>Добавить форму подписки на все основные страницы, чтобы собрать базу клиентов для email-рассылок</td>\n",
       "      <td>10</td>\n",
       "      <td>7</td>\n",
       "      <td>8</td>\n",
       "      <td>5</td>\n",
       "    </tr>\n",
       "    <tr>\n",
       "      <th>8</th>\n",
       "      <td>Запустить акцию, дающую скидку на товар в день рождения</td>\n",
       "      <td>1</td>\n",
       "      <td>9</td>\n",
       "      <td>9</td>\n",
       "      <td>5</td>\n",
       "    </tr>\n",
       "  </tbody>\n",
       "</table>\n",
       "</div>"
      ],
      "text/plain": [
       "                                                                                                     hypothesis  \\\n",
       "0            Добавить два новых канала привлечения трафика, что позволит привлекать на 30% больше пользователей   \n",
       "1                                     Запустить собственную службу доставки, что сократит срок доставки заказов   \n",
       "2  Добавить блоки рекомендаций товаров на сайт интернет магазина, чтобы повысить конверсию и средний чек заказа   \n",
       "3           Изменить структура категорий, что увеличит конверсию, т.к. пользователи быстрее найдут нужный товар   \n",
       "4                              Изменить цвет фона главной страницы, чтобы увеличить вовлеченность пользователей   \n",
       "5                      Добавить страницу отзывов клиентов о магазине, что позволит увеличить количество заказов   \n",
       "6          Показать на главной странице баннеры с актуальными акциями и распродажами, чтобы увеличить конверсию   \n",
       "7              Добавить форму подписки на все основные страницы, чтобы собрать базу клиентов для email-рассылок   \n",
       "8                                                       Запустить акцию, дающую скидку на товар в день рождения   \n",
       "\n",
       "   reach  impact  confidence  efforts  \n",
       "0      3      10           8        6  \n",
       "1      2       5           4       10  \n",
       "2      8       3           7        3  \n",
       "3      8       3           3        8  \n",
       "4      3       1           1        1  \n",
       "5      3       2           2        3  \n",
       "6      5       3           8        3  \n",
       "7     10       7           8        5  \n",
       "8      1       9           9        5  "
      ]
     },
     "execution_count": 9,
     "metadata": {},
     "output_type": "execute_result"
    }
   ],
   "source": [
    "hypothesis_data"
   ]
  },
  {
   "cell_type": "markdown",
   "metadata": {},
   "source": [
    "Используем фреймворк `ICE` для приоритизации гипотез. Отсортируйте их по убыванию приоритета."
   ]
  },
  {
   "cell_type": "markdown",
   "metadata": {},
   "source": [
    "$$ICE = \\frac{Impact * Confidence}{Efforts}$$"
   ]
  },
  {
   "cell_type": "markdown",
   "metadata": {},
   "source": [
    "Добавим столбец ICE к таблице:"
   ]
  },
  {
   "cell_type": "code",
   "execution_count": 10,
   "metadata": {},
   "outputs": [
    {
     "data": {
      "text/html": [
       "<div>\n",
       "<style scoped>\n",
       "    .dataframe tbody tr th:only-of-type {\n",
       "        vertical-align: middle;\n",
       "    }\n",
       "\n",
       "    .dataframe tbody tr th {\n",
       "        vertical-align: top;\n",
       "    }\n",
       "\n",
       "    .dataframe thead th {\n",
       "        text-align: right;\n",
       "    }\n",
       "</style>\n",
       "<table border=\"1\" class=\"dataframe\">\n",
       "  <thead>\n",
       "    <tr style=\"text-align: right;\">\n",
       "      <th></th>\n",
       "      <th>hypothesis</th>\n",
       "      <th>ICE</th>\n",
       "    </tr>\n",
       "  </thead>\n",
       "  <tbody>\n",
       "    <tr>\n",
       "      <th>8</th>\n",
       "      <td>Запустить акцию, дающую скидку на товар в день рождения</td>\n",
       "      <td>16.200000</td>\n",
       "    </tr>\n",
       "    <tr>\n",
       "      <th>0</th>\n",
       "      <td>Добавить два новых канала привлечения трафика, что позволит привлекать на 30% больше пользователей</td>\n",
       "      <td>13.333333</td>\n",
       "    </tr>\n",
       "    <tr>\n",
       "      <th>7</th>\n",
       "      <td>Добавить форму подписки на все основные страницы, чтобы собрать базу клиентов для email-рассылок</td>\n",
       "      <td>11.200000</td>\n",
       "    </tr>\n",
       "    <tr>\n",
       "      <th>6</th>\n",
       "      <td>Показать на главной странице баннеры с актуальными акциями и распродажами, чтобы увеличить конверсию</td>\n",
       "      <td>8.000000</td>\n",
       "    </tr>\n",
       "    <tr>\n",
       "      <th>2</th>\n",
       "      <td>Добавить блоки рекомендаций товаров на сайт интернет магазина, чтобы повысить конверсию и средний чек заказа</td>\n",
       "      <td>7.000000</td>\n",
       "    </tr>\n",
       "    <tr>\n",
       "      <th>1</th>\n",
       "      <td>Запустить собственную службу доставки, что сократит срок доставки заказов</td>\n",
       "      <td>2.000000</td>\n",
       "    </tr>\n",
       "    <tr>\n",
       "      <th>5</th>\n",
       "      <td>Добавить страницу отзывов клиентов о магазине, что позволит увеличить количество заказов</td>\n",
       "      <td>1.333333</td>\n",
       "    </tr>\n",
       "    <tr>\n",
       "      <th>3</th>\n",
       "      <td>Изменить структура категорий, что увеличит конверсию, т.к. пользователи быстрее найдут нужный товар</td>\n",
       "      <td>1.125000</td>\n",
       "    </tr>\n",
       "    <tr>\n",
       "      <th>4</th>\n",
       "      <td>Изменить цвет фона главной страницы, чтобы увеличить вовлеченность пользователей</td>\n",
       "      <td>1.000000</td>\n",
       "    </tr>\n",
       "  </tbody>\n",
       "</table>\n",
       "</div>"
      ],
      "text/plain": [
       "                                                                                                     hypothesis  \\\n",
       "8                                                       Запустить акцию, дающую скидку на товар в день рождения   \n",
       "0            Добавить два новых канала привлечения трафика, что позволит привлекать на 30% больше пользователей   \n",
       "7              Добавить форму подписки на все основные страницы, чтобы собрать базу клиентов для email-рассылок   \n",
       "6          Показать на главной странице баннеры с актуальными акциями и распродажами, чтобы увеличить конверсию   \n",
       "2  Добавить блоки рекомендаций товаров на сайт интернет магазина, чтобы повысить конверсию и средний чек заказа   \n",
       "1                                     Запустить собственную службу доставки, что сократит срок доставки заказов   \n",
       "5                      Добавить страницу отзывов клиентов о магазине, что позволит увеличить количество заказов   \n",
       "3           Изменить структура категорий, что увеличит конверсию, т.к. пользователи быстрее найдут нужный товар   \n",
       "4                              Изменить цвет фона главной страницы, чтобы увеличить вовлеченность пользователей   \n",
       "\n",
       "         ICE  \n",
       "8  16.200000  \n",
       "0  13.333333  \n",
       "7  11.200000  \n",
       "6   8.000000  \n",
       "2   7.000000  \n",
       "1   2.000000  \n",
       "5   1.333333  \n",
       "3   1.125000  \n",
       "4   1.000000  "
      ]
     },
     "execution_count": 10,
     "metadata": {},
     "output_type": "execute_result"
    }
   ],
   "source": [
    "hypothesis_data['ICE'] = (hypothesis_data['impact'] * hypothesis_data['confidence']) / hypothesis_data['efforts']\n",
    "hypothesis_data[['hypothesis', 'ICE']] .sort_values(by='ICE', ascending=False)"
   ]
  },
  {
   "cell_type": "markdown",
   "metadata": {},
   "source": [
    "Из девяти гипотез 3 получили оценку выше 10 баллов (№№ 8, 0 и 7), и еще две - выше 5 баллов (№6 и №2). "
   ]
  },
  {
   "cell_type": "markdown",
   "metadata": {},
   "source": [
    "Теперь применим фреймворк `RICE` для приоритизации гипотез:"
   ]
  },
  {
   "cell_type": "markdown",
   "metadata": {},
   "source": [
    "$$RICE = \\frac{Rearch * Impact * Confidence}{Efforts}$$"
   ]
  },
  {
   "cell_type": "markdown",
   "metadata": {},
   "source": [
    "Добавим столбец `RICE` к таблице:"
   ]
  },
  {
   "cell_type": "code",
   "execution_count": 11,
   "metadata": {},
   "outputs": [
    {
     "data": {
      "text/html": [
       "<div>\n",
       "<style scoped>\n",
       "    .dataframe tbody tr th:only-of-type {\n",
       "        vertical-align: middle;\n",
       "    }\n",
       "\n",
       "    .dataframe tbody tr th {\n",
       "        vertical-align: top;\n",
       "    }\n",
       "\n",
       "    .dataframe thead th {\n",
       "        text-align: right;\n",
       "    }\n",
       "</style>\n",
       "<table border=\"1\" class=\"dataframe\">\n",
       "  <thead>\n",
       "    <tr style=\"text-align: right;\">\n",
       "      <th></th>\n",
       "      <th>hypothesis</th>\n",
       "      <th>RICE</th>\n",
       "    </tr>\n",
       "  </thead>\n",
       "  <tbody>\n",
       "    <tr>\n",
       "      <th>7</th>\n",
       "      <td>Добавить форму подписки на все основные страницы, чтобы собрать базу клиентов для email-рассылок</td>\n",
       "      <td>112.0</td>\n",
       "    </tr>\n",
       "    <tr>\n",
       "      <th>2</th>\n",
       "      <td>Добавить блоки рекомендаций товаров на сайт интернет магазина, чтобы повысить конверсию и средний чек заказа</td>\n",
       "      <td>56.0</td>\n",
       "    </tr>\n",
       "    <tr>\n",
       "      <th>0</th>\n",
       "      <td>Добавить два новых канала привлечения трафика, что позволит привлекать на 30% больше пользователей</td>\n",
       "      <td>40.0</td>\n",
       "    </tr>\n",
       "    <tr>\n",
       "      <th>6</th>\n",
       "      <td>Показать на главной странице баннеры с актуальными акциями и распродажами, чтобы увеличить конверсию</td>\n",
       "      <td>40.0</td>\n",
       "    </tr>\n",
       "    <tr>\n",
       "      <th>8</th>\n",
       "      <td>Запустить акцию, дающую скидку на товар в день рождения</td>\n",
       "      <td>16.2</td>\n",
       "    </tr>\n",
       "    <tr>\n",
       "      <th>3</th>\n",
       "      <td>Изменить структура категорий, что увеличит конверсию, т.к. пользователи быстрее найдут нужный товар</td>\n",
       "      <td>9.0</td>\n",
       "    </tr>\n",
       "    <tr>\n",
       "      <th>1</th>\n",
       "      <td>Запустить собственную службу доставки, что сократит срок доставки заказов</td>\n",
       "      <td>4.0</td>\n",
       "    </tr>\n",
       "    <tr>\n",
       "      <th>5</th>\n",
       "      <td>Добавить страницу отзывов клиентов о магазине, что позволит увеличить количество заказов</td>\n",
       "      <td>4.0</td>\n",
       "    </tr>\n",
       "    <tr>\n",
       "      <th>4</th>\n",
       "      <td>Изменить цвет фона главной страницы, чтобы увеличить вовлеченность пользователей</td>\n",
       "      <td>3.0</td>\n",
       "    </tr>\n",
       "  </tbody>\n",
       "</table>\n",
       "</div>"
      ],
      "text/plain": [
       "                                                                                                     hypothesis  \\\n",
       "7              Добавить форму подписки на все основные страницы, чтобы собрать базу клиентов для email-рассылок   \n",
       "2  Добавить блоки рекомендаций товаров на сайт интернет магазина, чтобы повысить конверсию и средний чек заказа   \n",
       "0            Добавить два новых канала привлечения трафика, что позволит привлекать на 30% больше пользователей   \n",
       "6          Показать на главной странице баннеры с актуальными акциями и распродажами, чтобы увеличить конверсию   \n",
       "8                                                       Запустить акцию, дающую скидку на товар в день рождения   \n",
       "3           Изменить структура категорий, что увеличит конверсию, т.к. пользователи быстрее найдут нужный товар   \n",
       "1                                     Запустить собственную службу доставки, что сократит срок доставки заказов   \n",
       "5                      Добавить страницу отзывов клиентов о магазине, что позволит увеличить количество заказов   \n",
       "4                              Изменить цвет фона главной страницы, чтобы увеличить вовлеченность пользователей   \n",
       "\n",
       "    RICE  \n",
       "7  112.0  \n",
       "2   56.0  \n",
       "0   40.0  \n",
       "6   40.0  \n",
       "8   16.2  \n",
       "3    9.0  \n",
       "1    4.0  \n",
       "5    4.0  \n",
       "4    3.0  "
      ]
     },
     "execution_count": 11,
     "metadata": {},
     "output_type": "execute_result"
    }
   ],
   "source": [
    "hypothesis_data['RICE'] = (hypothesis_data['reach'] * \n",
    "                           hypothesis_data['impact'] * \n",
    "                           hypothesis_data['confidence']) / hypothesis_data['efforts']\n",
    "hypothesis_data[['hypothesis', 'RICE']] .sort_values(by='RICE', ascending=False)"
   ]
  },
  {
   "cell_type": "markdown",
   "metadata": {},
   "source": [
    "Из девяти гипотез только 5 набрали больше 10 баллов (№№ 7, 2, 0, 6, 8), причем одна из них - №7 - получила оценку в 112 баллов! Из этой пятерки только у №8 оценка ниже 40 баллов (16,2).\n",
    "\n",
    "Параметр `Reach` сильно изменил приоритет гипотез. По результатам первого расчета по `ICE` самой важной была гипотеза №8, - а по `RICE` она оказалась лишь на 5 месте. А №7 и №2 наоборот - набрали максимальное количество баллов. \n",
    "Параметр `Reach` - это охват, количество пользователей, которых затронет потенциальное изменение. Соответственно, чем больше этот параметр, тем большее воздействие произведут потенциальные изменения на аудиторию и тем сильнее это может отразиться на изучаемых метриках. \n",
    "\n",
    "*Я провела приоретизацю гипотез с помощью фреймворков ICE и RICE. Оказалось, что самая актуальная гипотеза - №7 о добавлении формы подписки на основные страницы.*"
   ]
  },
  {
   "cell_type": "markdown",
   "metadata": {},
   "source": [
    "<div id='step4'/>\n",
    "\n",
    "## Анализ А/В-теста"
   ]
  },
  {
   "cell_type": "markdown",
   "metadata": {},
   "source": [
    "**Построим график кумулятивной выручки по группам.**\n",
    "\n",
    "Объявим датафрейм `cumulative_data` на основе данных из таблиц `orders_data` и `visitors_data`. "
   ]
  },
  {
   "cell_type": "code",
   "execution_count": 12,
   "metadata": {},
   "outputs": [
    {
     "data": {
      "text/html": [
       "<div>\n",
       "<style scoped>\n",
       "    .dataframe tbody tr th:only-of-type {\n",
       "        vertical-align: middle;\n",
       "    }\n",
       "\n",
       "    .dataframe tbody tr th {\n",
       "        vertical-align: top;\n",
       "    }\n",
       "\n",
       "    .dataframe thead th {\n",
       "        text-align: right;\n",
       "    }\n",
       "</style>\n",
       "<table border=\"1\" class=\"dataframe\">\n",
       "  <thead>\n",
       "    <tr style=\"text-align: right;\">\n",
       "      <th></th>\n",
       "      <th>transactionId</th>\n",
       "      <th>visitorId</th>\n",
       "      <th>date</th>\n",
       "      <th>revenue</th>\n",
       "      <th>group</th>\n",
       "    </tr>\n",
       "  </thead>\n",
       "  <tbody>\n",
       "    <tr>\n",
       "      <th>658</th>\n",
       "      <td>1988035100</td>\n",
       "      <td>1016890234</td>\n",
       "      <td>2019-08-26</td>\n",
       "      <td>17990</td>\n",
       "      <td>B</td>\n",
       "    </tr>\n",
       "  </tbody>\n",
       "</table>\n",
       "</div>"
      ],
      "text/plain": [
       "     transactionId   visitorId       date  revenue group\n",
       "658     1988035100  1016890234 2019-08-26    17990     B"
      ]
     },
     "execution_count": 12,
     "metadata": {},
     "output_type": "execute_result"
    }
   ],
   "source": [
    "orders_data.sample()"
   ]
  },
  {
   "cell_type": "code",
   "execution_count": 13,
   "metadata": {},
   "outputs": [
    {
     "data": {
      "text/html": [
       "<div>\n",
       "<style scoped>\n",
       "    .dataframe tbody tr th:only-of-type {\n",
       "        vertical-align: middle;\n",
       "    }\n",
       "\n",
       "    .dataframe tbody tr th {\n",
       "        vertical-align: top;\n",
       "    }\n",
       "\n",
       "    .dataframe thead th {\n",
       "        text-align: right;\n",
       "    }\n",
       "</style>\n",
       "<table border=\"1\" class=\"dataframe\">\n",
       "  <thead>\n",
       "    <tr style=\"text-align: right;\">\n",
       "      <th></th>\n",
       "      <th>date</th>\n",
       "      <th>group</th>\n",
       "      <th>visitors</th>\n",
       "    </tr>\n",
       "  </thead>\n",
       "  <tbody>\n",
       "    <tr>\n",
       "      <th>1</th>\n",
       "      <td>2019-08-02</td>\n",
       "      <td>A</td>\n",
       "      <td>619</td>\n",
       "    </tr>\n",
       "  </tbody>\n",
       "</table>\n",
       "</div>"
      ],
      "text/plain": [
       "        date group  visitors\n",
       "1 2019-08-02     A       619"
      ]
     },
     "execution_count": 13,
     "metadata": {},
     "output_type": "execute_result"
    }
   ],
   "source": [
    "visitors_data.sample()"
   ]
  },
  {
   "cell_type": "code",
   "execution_count": 14,
   "metadata": {},
   "outputs": [
    {
     "data": {
      "text/html": [
       "<div>\n",
       "<style scoped>\n",
       "    .dataframe tbody tr th:only-of-type {\n",
       "        vertical-align: middle;\n",
       "    }\n",
       "\n",
       "    .dataframe tbody tr th {\n",
       "        vertical-align: top;\n",
       "    }\n",
       "\n",
       "    .dataframe thead th {\n",
       "        text-align: right;\n",
       "    }\n",
       "</style>\n",
       "<table border=\"1\" class=\"dataframe\">\n",
       "  <thead>\n",
       "    <tr style=\"text-align: right;\">\n",
       "      <th></th>\n",
       "      <th>date</th>\n",
       "      <th>group</th>\n",
       "      <th>transactionId</th>\n",
       "      <th>visitorId</th>\n",
       "      <th>revenue</th>\n",
       "    </tr>\n",
       "  </thead>\n",
       "  <tbody>\n",
       "    <tr>\n",
       "      <th>55</th>\n",
       "      <td>2019-08-01</td>\n",
       "      <td>A</td>\n",
       "      <td>24</td>\n",
       "      <td>20</td>\n",
       "      <td>148579</td>\n",
       "    </tr>\n",
       "    <tr>\n",
       "      <th>66</th>\n",
       "      <td>2019-08-01</td>\n",
       "      <td>B</td>\n",
       "      <td>21</td>\n",
       "      <td>20</td>\n",
       "      <td>101217</td>\n",
       "    </tr>\n",
       "    <tr>\n",
       "      <th>175</th>\n",
       "      <td>2019-08-02</td>\n",
       "      <td>A</td>\n",
       "      <td>44</td>\n",
       "      <td>38</td>\n",
       "      <td>242401</td>\n",
       "    </tr>\n",
       "    <tr>\n",
       "      <th>173</th>\n",
       "      <td>2019-08-02</td>\n",
       "      <td>B</td>\n",
       "      <td>45</td>\n",
       "      <td>43</td>\n",
       "      <td>266748</td>\n",
       "    </tr>\n",
       "    <tr>\n",
       "      <th>291</th>\n",
       "      <td>2019-08-03</td>\n",
       "      <td>A</td>\n",
       "      <td>68</td>\n",
       "      <td>62</td>\n",
       "      <td>354874</td>\n",
       "    </tr>\n",
       "  </tbody>\n",
       "</table>\n",
       "</div>"
      ],
      "text/plain": [
       "          date group  transactionId  visitorId  revenue\n",
       "55  2019-08-01     A             24         20   148579\n",
       "66  2019-08-01     B             21         20   101217\n",
       "175 2019-08-02     A             44         38   242401\n",
       "173 2019-08-02     B             45         43   266748\n",
       "291 2019-08-03     A             68         62   354874"
      ]
     },
     "execution_count": 14,
     "metadata": {},
     "output_type": "execute_result"
    }
   ],
   "source": [
    "# Cоздаем массив уникальных пар значений дат и групп теста\n",
    "dates_groups = orders_data[['date','group']].drop_duplicates()\n",
    "\n",
    "# Соберём агрегированные кумулятивные по дням данные о заказах, найдём число уникальных ID заказов и пользователей,\n",
    "# подсчитаем сумму средних чеков:\n",
    "orders_agg = dates_groups.apply(lambda x: \n",
    "                                     orders_data[np.logical_and(orders_data['date'] <= x['date'], \n",
    "                                                                orders_data['group'] == x['group'])].agg({\n",
    "                                         'date' : 'max', \n",
    "                                         'group' : 'max', \n",
    "                                         'transactionId' : pd.Series.nunique, \n",
    "                                         'visitorId' : pd.Series.nunique, \n",
    "                                         'revenue' : 'sum'}), axis=1).sort_values(by=['date','group'])\n",
    "orders_agg.head()"
   ]
  },
  {
   "cell_type": "code",
   "execution_count": 15,
   "metadata": {},
   "outputs": [
    {
     "data": {
      "text/html": [
       "<div>\n",
       "<style scoped>\n",
       "    .dataframe tbody tr th:only-of-type {\n",
       "        vertical-align: middle;\n",
       "    }\n",
       "\n",
       "    .dataframe tbody tr th {\n",
       "        vertical-align: top;\n",
       "    }\n",
       "\n",
       "    .dataframe thead th {\n",
       "        text-align: right;\n",
       "    }\n",
       "</style>\n",
       "<table border=\"1\" class=\"dataframe\">\n",
       "  <thead>\n",
       "    <tr style=\"text-align: right;\">\n",
       "      <th></th>\n",
       "      <th>date</th>\n",
       "      <th>group</th>\n",
       "      <th>visitors</th>\n",
       "    </tr>\n",
       "  </thead>\n",
       "  <tbody>\n",
       "    <tr>\n",
       "      <th>55</th>\n",
       "      <td>2019-08-01</td>\n",
       "      <td>A</td>\n",
       "      <td>719</td>\n",
       "    </tr>\n",
       "    <tr>\n",
       "      <th>66</th>\n",
       "      <td>2019-08-01</td>\n",
       "      <td>B</td>\n",
       "      <td>713</td>\n",
       "    </tr>\n",
       "    <tr>\n",
       "      <th>175</th>\n",
       "      <td>2019-08-02</td>\n",
       "      <td>A</td>\n",
       "      <td>1338</td>\n",
       "    </tr>\n",
       "    <tr>\n",
       "      <th>173</th>\n",
       "      <td>2019-08-02</td>\n",
       "      <td>B</td>\n",
       "      <td>1294</td>\n",
       "    </tr>\n",
       "    <tr>\n",
       "      <th>291</th>\n",
       "      <td>2019-08-03</td>\n",
       "      <td>A</td>\n",
       "      <td>1845</td>\n",
       "    </tr>\n",
       "  </tbody>\n",
       "</table>\n",
       "</div>"
      ],
      "text/plain": [
       "          date group  visitors\n",
       "55  2019-08-01     A       719\n",
       "66  2019-08-01     B       713\n",
       "175 2019-08-02     A      1338\n",
       "173 2019-08-02     B      1294\n",
       "291 2019-08-03     A      1845"
      ]
     },
     "execution_count": 15,
     "metadata": {},
     "output_type": "execute_result"
    }
   ],
   "source": [
    "# Аналогично получим агрегированные кумулятивные по дням данные о посетителях интернет-магазина:\n",
    "visitors_agg = dates_groups.apply(lambda x: \n",
    "                                     visitors_data[np.logical_and(visitors_data['date'] <= x['date'], \n",
    "                                                                  visitors_data['group'] == x['group'])].agg({\n",
    "                                         'date' : 'max', \n",
    "                                         'group' : 'max', \n",
    "                                         'visitors' : 'sum'}), axis=1).sort_values(by=['date','group'])\n",
    "visitors_agg.head()"
   ]
  },
  {
   "cell_type": "code",
   "execution_count": 16,
   "metadata": {},
   "outputs": [
    {
     "data": {
      "text/html": [
       "<div>\n",
       "<style scoped>\n",
       "    .dataframe tbody tr th:only-of-type {\n",
       "        vertical-align: middle;\n",
       "    }\n",
       "\n",
       "    .dataframe tbody tr th {\n",
       "        vertical-align: top;\n",
       "    }\n",
       "\n",
       "    .dataframe thead th {\n",
       "        text-align: right;\n",
       "    }\n",
       "</style>\n",
       "<table border=\"1\" class=\"dataframe\">\n",
       "  <thead>\n",
       "    <tr style=\"text-align: right;\">\n",
       "      <th></th>\n",
       "      <th>date</th>\n",
       "      <th>group</th>\n",
       "      <th>orders</th>\n",
       "      <th>buyers</th>\n",
       "      <th>revenue</th>\n",
       "      <th>visitors</th>\n",
       "    </tr>\n",
       "  </thead>\n",
       "  <tbody>\n",
       "    <tr>\n",
       "      <th>0</th>\n",
       "      <td>2019-08-01</td>\n",
       "      <td>A</td>\n",
       "      <td>24</td>\n",
       "      <td>20</td>\n",
       "      <td>148579</td>\n",
       "      <td>719</td>\n",
       "    </tr>\n",
       "    <tr>\n",
       "      <th>1</th>\n",
       "      <td>2019-08-01</td>\n",
       "      <td>B</td>\n",
       "      <td>21</td>\n",
       "      <td>20</td>\n",
       "      <td>101217</td>\n",
       "      <td>713</td>\n",
       "    </tr>\n",
       "    <tr>\n",
       "      <th>2</th>\n",
       "      <td>2019-08-02</td>\n",
       "      <td>A</td>\n",
       "      <td>44</td>\n",
       "      <td>38</td>\n",
       "      <td>242401</td>\n",
       "      <td>1338</td>\n",
       "    </tr>\n",
       "    <tr>\n",
       "      <th>3</th>\n",
       "      <td>2019-08-02</td>\n",
       "      <td>B</td>\n",
       "      <td>45</td>\n",
       "      <td>43</td>\n",
       "      <td>266748</td>\n",
       "      <td>1294</td>\n",
       "    </tr>\n",
       "    <tr>\n",
       "      <th>4</th>\n",
       "      <td>2019-08-03</td>\n",
       "      <td>A</td>\n",
       "      <td>68</td>\n",
       "      <td>62</td>\n",
       "      <td>354874</td>\n",
       "      <td>1845</td>\n",
       "    </tr>\n",
       "  </tbody>\n",
       "</table>\n",
       "</div>"
      ],
      "text/plain": [
       "        date group  orders  buyers  revenue  visitors\n",
       "0 2019-08-01     A      24      20   148579       719\n",
       "1 2019-08-01     B      21      20   101217       713\n",
       "2 2019-08-02     A      44      38   242401      1338\n",
       "3 2019-08-02     B      45      43   266748      1294\n",
       "4 2019-08-03     A      68      62   354874      1845"
      ]
     },
     "execution_count": 16,
     "metadata": {},
     "output_type": "execute_result"
    }
   ],
   "source": [
    "# Объединяем кумулятивные данные в одной таблице и присваиваем ее столбцам понятные названия:\n",
    "cumulative_data = orders_agg.merge(visitors_agg, left_on=['date', 'group'], right_on=['date', 'group'])\n",
    "cumulative_data.columns = ['date', 'group', 'orders', 'buyers', 'revenue', 'visitors']\n",
    "cumulative_data.head()"
   ]
  },
  {
   "cell_type": "markdown",
   "metadata": {},
   "source": [
    "Объединим данные по группам A/B-тестирования и построим графики кумулятивной выручки по дням:"
   ]
  },
  {
   "cell_type": "code",
   "execution_count": 17,
   "metadata": {},
   "outputs": [],
   "source": [
    "# Датафрейм с кумулятивным количеством заказов и кумулятивной выручкой по дням в группе А\n",
    "cumulative_data_A = cumulative_data[cumulative_data['group']=='A']\n",
    "\n",
    "# Датафрейм с кумулятивным количеством заказов и кумулятивной выручкой по дням в группе B\n",
    "cumulative_data_B = cumulative_data[cumulative_data['group']=='B']"
   ]
  },
  {
   "cell_type": "code",
   "execution_count": 18,
   "metadata": {},
   "outputs": [
    {
     "data": {
      "image/png": "[encoded data removed]",
      "text/plain": [
       "<Figure size 936x504 with 1 Axes>"
      ]
     },
     "metadata": {
      "needs_background": "light"
     },
     "output_type": "display_data"
    }
   ],
   "source": [
    "# Строим совмещенный график выручки группы А и В:\n",
    "plt.figure(figsize=(13, 7))\n",
    "plt.title('Графики кумулятивной выручки по дням и группам A/B-тестирования')\n",
    "plt.ylabel('Выручка')\n",
    "plt.plot(cumulative_data_A['date'], cumulative_data_A['revenue'], label='A')\n",
    "plt.plot(cumulative_data_B['date'], cumulative_data_B['revenue'], label='B')\n",
    "plt.legend();"
   ]
  },
  {
   "cell_type": "markdown",
   "metadata": {},
   "source": [
    "На графике видно, что выручка группы А растет поступательно без резких колебаний. Кумулятивная выручка группы В резко выросла после 17 августа, после чего продолжила поступательный рост. Возможно, такой скачок связан с крупной покупкой в группе В или с внезапным резким увеличением числа заказов. "
   ]
  },
  {
   "cell_type": "markdown",
   "metadata": {},
   "source": [
    "**Построим график кумулятивного среднего чека по группам.**"
   ]
  },
  {
   "cell_type": "markdown",
   "metadata": {},
   "source": [
    "Разделим кумулятивную выручку на кумулятивное число заказов и построим графики:"
   ]
  },
  {
   "cell_type": "code",
   "execution_count": 19,
   "metadata": {},
   "outputs": [
    {
     "data": {
      "image/png": "[encoded data removed]",
      "text/plain": [
       "<Figure size 936x504 with 1 Axes>"
      ]
     },
     "metadata": {
      "needs_background": "light"
     },
     "output_type": "display_data"
    }
   ],
   "source": [
    "plt.figure(figsize=(13, 7))\n",
    "plt.title('График кумулятивного среднего чека по группам A/B-тестирования')\n",
    "plt.ylabel('Средний чек')\n",
    "plt.plot(cumulative_data_A['date'], cumulative_data_A['revenue'] / cumulative_data_A['orders'], label='A')\n",
    "plt.plot(cumulative_data_B['date'], cumulative_data_B['revenue'] / cumulative_data_B['orders'], label='B')\n",
    "plt.legend(); "
   ]
  },
  {
   "cell_type": "markdown",
   "metadata": {},
   "source": [
    "Графики кумулятивного среднего чека сильно различаются по группам. В группе А, кажется, установилось среднее значение и оно постепенно растет. В группе В после 17 августа был резкий скачок, после которого показатель начал стабильно снижаться. Но снижается он относительно своего скачка. Если сравнивать средние показатели между группами, то, судя, по графику, кумелятивный средний чек группы В значительно выше, чем в группе А, несмотря на снижение."
   ]
  },
  {
   "cell_type": "markdown",
   "metadata": {},
   "source": [
    "**Построим график относительного изменения кумулятивного среднего чека группы B к группе A.**"
   ]
  },
  {
   "cell_type": "markdown",
   "metadata": {},
   "source": [
    "Добавим горизонтальную ось методом axhline(), чтобы сделать график относительного различия среднего чека более наглядным:"
   ]
  },
  {
   "cell_type": "code",
   "execution_count": 20,
   "metadata": {},
   "outputs": [],
   "source": [
    "# Собираем данные в одном датафрейме\n",
    "merged_сum_revenue = cumulative_data_A.merge(cumulative_data_B, \n",
    "                                                left_on='date', \n",
    "                                                right_on='date', \n",
    "                                                how='left', \n",
    "                                                suffixes=['A', 'B'])"
   ]
  },
  {
   "cell_type": "code",
   "execution_count": 21,
   "metadata": {},
   "outputs": [
    {
     "data": {
      "image/png": "[encoded data removed]",
      "text/plain": [
       "<Figure size 936x504 with 1 Axes>"
      ]
     },
     "metadata": {
      "needs_background": "light"
     },
     "output_type": "display_data"
    }
   ],
   "source": [
    "# Строим график с отношением средних чеков\n",
    "plt.figure(figsize=(13, 7))\n",
    "plt.title('График относительного различия кумулятивного среднего чека по группам A/B-тестирования')\n",
    "plt.ylabel('Средний чек')\n",
    "plt.plot(merged_сum_revenue['date'], \n",
    "         (merged_сum_revenue['revenueB'] / merged_сum_revenue['ordersB']\n",
    "         ) / (merged_сum_revenue['revenueA'] / merged_сum_revenue['ordersA'])-1,\n",
    "         label=\"Относительный прирост среднего чека группы B относительно группы A\")\n",
    "# добавляем ось X\n",
    "plt.axhline(y=0, color='black', linestyle='--')\n",
    "plt.legend(); "
   ]
  },
  {
   "cell_type": "markdown",
   "metadata": {},
   "source": [
    "График вышел очень неравномерный. После 17 августа средний чек группы В резко вырос, а затем стал уменьшаться. Тем не менее, сейчас он существенно выше относительно группы А. Вероятно, в данных есть выбросы и крупные заказы, нужен дополнительный анализ."
   ]
  },
  {
   "cell_type": "markdown",
   "metadata": {},
   "source": [
    "**Построим график кумулятивной конверсии по группам.**"
   ]
  },
  {
   "cell_type": "markdown",
   "metadata": {},
   "source": [
    "Аналогичным образом построим и проанализируем график кумулятивной конверсии:"
   ]
  },
  {
   "cell_type": "markdown",
   "metadata": {},
   "source": [
    "Рассчитаем кумулятивную конверсию и построим графики по объединенным группам тестирования."
   ]
  },
  {
   "cell_type": "code",
   "execution_count": 22,
   "metadata": {},
   "outputs": [
    {
     "data": {
      "text/plain": [
       "Timestamp('2019-08-01 00:00:00')"
      ]
     },
     "execution_count": 22,
     "metadata": {},
     "output_type": "execute_result"
    }
   ],
   "source": [
    "cumulative_data['date'].min()"
   ]
  },
  {
   "cell_type": "code",
   "execution_count": 23,
   "metadata": {},
   "outputs": [
    {
     "data": {
      "text/plain": [
       "Timestamp('2019-08-31 00:00:00')"
      ]
     },
     "execution_count": 23,
     "metadata": {},
     "output_type": "execute_result"
    }
   ],
   "source": [
    "cumulative_data['date'].max()"
   ]
  },
  {
   "cell_type": "code",
   "execution_count": 24,
   "metadata": {},
   "outputs": [],
   "source": [
    "cumulative_data['conversion'] = cumulative_data['orders']/cumulative_data['visitors']\n",
    "\n",
    "cumulative_data_A = cumulative_data[cumulative_data['group']=='A']\n",
    "cumulative_data_B = cumulative_data[cumulative_data['group']=='B']"
   ]
  },
  {
   "cell_type": "code",
   "execution_count": 25,
   "metadata": {},
   "outputs": [
    {
     "data": {
      "image/png": "[encoded data removed]",
      "text/plain": [
       "<Figure size 936x504 with 1 Axes>"
      ]
     },
     "metadata": {
      "needs_background": "light"
     },
     "output_type": "display_data"
    }
   ],
   "source": [
    "# Построим графики:\n",
    "plt.figure(figsize=(13, 7))\n",
    "plt.title('Графики кумулятивной конверсии по дням и группам A/B-тестирования')\n",
    "plt.ylabel('Конверсия')\n",
    "plt.plot(cumulative_data_A['date'], cumulative_data_A['conversion'], label='A')\n",
    "plt.plot(cumulative_data_B['date'], cumulative_data_B['conversion'], label='B')\n",
    "plt.legend(); "
   ]
  },
  {
   "cell_type": "markdown",
   "metadata": {},
   "source": [
    "Графики кумулятивной конверсии не выглядят ровными. Конверсия группы А просела после 5 августа и продолжает падать. Конверсия группы В после ряда резких колебаний, кажется более стабилизировавшейся. Группа В опережает группу А в кумулятивной конверсии примерно на 4%."
   ]
  },
  {
   "cell_type": "markdown",
   "metadata": {},
   "source": [
    "**Построим график относительного изменения кумулятивной конверсии группы B к группе A.**"
   ]
  },
  {
   "cell_type": "markdown",
   "metadata": {},
   "source": [
    "Строим график аналогично графику относительного различия среднего чека:"
   ]
  },
  {
   "cell_type": "code",
   "execution_count": 26,
   "metadata": {},
   "outputs": [],
   "source": [
    "merged_сum_conversions = cumulative_data_A[['date','conversion']].merge(cumulative_data_B[['date','conversion']], \n",
    "                                                                        left_on='date', \n",
    "                                                                        right_on='date', \n",
    "                                                                        how='left', \n",
    "                                                                        suffixes=['A', 'B'])"
   ]
  },
  {
   "cell_type": "code",
   "execution_count": 27,
   "metadata": {},
   "outputs": [
    {
     "data": {
      "image/png": "[encoded data removed]",
      "text/plain": [
       "<Figure size 936x504 with 1 Axes>"
      ]
     },
     "metadata": {
      "needs_background": "light"
     },
     "output_type": "display_data"
    }
   ],
   "source": [
    "plt.figure(figsize=(13, 7))\n",
    "plt.title('График относительного различия кумулятивной конверсии по группам A/B-тестирования')\n",
    "plt.ylabel('Конверсия')\n",
    "plt.plot(merged_сum_conversions['date'], \n",
    "         merged_сum_conversions['conversionB'] / merged_сum_conversions['conversionA']-1, \n",
    "         label=\"Относительный прирост конверсии группы B относительно группы A\")\n",
    "# добавляем ось X\n",
    "plt.axhline(y=0, color='black', linestyle='--')\n",
    "plt.axhline(y=0.1, color='grey', linestyle='--')\n",
    "plt.legend(); "
   ]
  },
  {
   "cell_type": "markdown",
   "metadata": {},
   "source": [
    "В начале теста группа B значительно проигрывала группе A, затем вырвалась вперёд. Далее ее конверсия росла и падала скачкообразно. На конец изучаемого периода зафиксирован рост, но в целом отношение конверсии ещё не установилось. Скорее всего, в данных присутствуют аномалии, которые могут влиять на картину. Тем не менее, на данный момент на графике виден прирост конверсии группы В на 10%."
   ]
  },
  {
   "cell_type": "markdown",
   "metadata": {},
   "source": [
    "**Построим точечный график количества заказов по пользователям.**"
   ]
  },
  {
   "cell_type": "markdown",
   "metadata": {},
   "source": [
    "Подсчитаем количество заказов по пользователям из таблицы orders_data и посмотрим на результат:"
   ]
  },
  {
   "cell_type": "code",
   "execution_count": 28,
   "metadata": {},
   "outputs": [
    {
     "data": {
      "text/html": [
       "<div>\n",
       "<style scoped>\n",
       "    .dataframe tbody tr th:only-of-type {\n",
       "        vertical-align: middle;\n",
       "    }\n",
       "\n",
       "    .dataframe tbody tr th {\n",
       "        vertical-align: top;\n",
       "    }\n",
       "\n",
       "    .dataframe thead th {\n",
       "        text-align: right;\n",
       "    }\n",
       "</style>\n",
       "<table border=\"1\" class=\"dataframe\">\n",
       "  <thead>\n",
       "    <tr style=\"text-align: right;\">\n",
       "      <th></th>\n",
       "      <th>transactionId</th>\n",
       "      <th>visitorId</th>\n",
       "      <th>date</th>\n",
       "      <th>revenue</th>\n",
       "      <th>group</th>\n",
       "    </tr>\n",
       "  </thead>\n",
       "  <tbody>\n",
       "    <tr>\n",
       "      <th>1027</th>\n",
       "      <td>429304275</td>\n",
       "      <td>3301980586</td>\n",
       "      <td>2019-08-10</td>\n",
       "      <td>420</td>\n",
       "      <td>A</td>\n",
       "    </tr>\n",
       "  </tbody>\n",
       "</table>\n",
       "</div>"
      ],
      "text/plain": [
       "      transactionId   visitorId       date  revenue group\n",
       "1027      429304275  3301980586 2019-08-10      420     A"
      ]
     },
     "execution_count": 28,
     "metadata": {},
     "output_type": "execute_result"
    }
   ],
   "source": [
    "orders_data.sample()"
   ]
  },
  {
   "cell_type": "code",
   "execution_count": 29,
   "metadata": {},
   "outputs": [
    {
     "data": {
      "text/html": [
       "<div>\n",
       "<style scoped>\n",
       "    .dataframe tbody tr th:only-of-type {\n",
       "        vertical-align: middle;\n",
       "    }\n",
       "\n",
       "    .dataframe tbody tr th {\n",
       "        vertical-align: top;\n",
       "    }\n",
       "\n",
       "    .dataframe thead th {\n",
       "        text-align: right;\n",
       "    }\n",
       "</style>\n",
       "<table border=\"1\" class=\"dataframe\">\n",
       "  <thead>\n",
       "    <tr style=\"text-align: right;\">\n",
       "      <th></th>\n",
       "      <th>visitorId</th>\n",
       "      <th>orders</th>\n",
       "    </tr>\n",
       "  </thead>\n",
       "  <tbody>\n",
       "    <tr>\n",
       "      <th>1023</th>\n",
       "      <td>4256040402</td>\n",
       "      <td>11</td>\n",
       "    </tr>\n",
       "    <tr>\n",
       "      <th>591</th>\n",
       "      <td>2458001652</td>\n",
       "      <td>11</td>\n",
       "    </tr>\n",
       "    <tr>\n",
       "      <th>569</th>\n",
       "      <td>2378935119</td>\n",
       "      <td>9</td>\n",
       "    </tr>\n",
       "    <tr>\n",
       "      <th>487</th>\n",
       "      <td>2038680547</td>\n",
       "      <td>8</td>\n",
       "    </tr>\n",
       "    <tr>\n",
       "      <th>44</th>\n",
       "      <td>199603092</td>\n",
       "      <td>5</td>\n",
       "    </tr>\n",
       "    <tr>\n",
       "      <th>744</th>\n",
       "      <td>3062433592</td>\n",
       "      <td>5</td>\n",
       "    </tr>\n",
       "    <tr>\n",
       "      <th>55</th>\n",
       "      <td>237748145</td>\n",
       "      <td>5</td>\n",
       "    </tr>\n",
       "    <tr>\n",
       "      <th>917</th>\n",
       "      <td>3803269165</td>\n",
       "      <td>5</td>\n",
       "    </tr>\n",
       "    <tr>\n",
       "      <th>299</th>\n",
       "      <td>1230306981</td>\n",
       "      <td>5</td>\n",
       "    </tr>\n",
       "    <tr>\n",
       "      <th>897</th>\n",
       "      <td>3717692402</td>\n",
       "      <td>5</td>\n",
       "    </tr>\n",
       "  </tbody>\n",
       "</table>\n",
       "</div>"
      ],
      "text/plain": [
       "       visitorId  orders\n",
       "1023  4256040402      11\n",
       "591   2458001652      11\n",
       "569   2378935119       9\n",
       "487   2038680547       8\n",
       "44     199603092       5\n",
       "744   3062433592       5\n",
       "55     237748145       5\n",
       "917   3803269165       5\n",
       "299   1230306981       5\n",
       "897   3717692402       5"
      ]
     },
     "execution_count": 29,
     "metadata": {},
     "output_type": "execute_result"
    }
   ],
   "source": [
    "orders_by_users = orders_data.groupby('visitorId', as_index=False).agg({'transactionId' : pd.Series.nunique})\n",
    "orders_by_users.columns = ['visitorId','orders']\n",
    "orders_by_users.sort_values(by='orders',ascending=False).head(10)"
   ]
  },
  {
   "cell_type": "markdown",
   "metadata": {},
   "source": [
    "Есть пользователи, которые совершали по 5-11 заказов - это нормально? Построим точечную диаграмму числа заказов на одного пользователя:"
   ]
  },
  {
   "cell_type": "code",
   "execution_count": 30,
   "metadata": {},
   "outputs": [
    {
     "data": {
      "image/png": "[encoded data removed]",
      "text/plain": [
       "<Figure size 432x288 with 1 Axes>"
      ]
     },
     "metadata": {
      "needs_background": "light"
     },
     "output_type": "display_data"
    }
   ],
   "source": [
    "x_values = pd.Series(range(0,len(orders_by_users)))\n",
    "\n",
    "plt.title('Количество заказов на одного пользователя')\n",
    "plt.ylabel('Заказы')\n",
    "plt.scatter(x_values, orders_by_users['orders']);"
   ]
  },
  {
   "cell_type": "markdown",
   "metadata": {},
   "source": [
    "Судя по графику, в основном люди делают один заказ в течение изучаемого периода. Но чтобы знать точно, надо посчитать 95-й и 99-й перцентили количества заказов на пользователя. "
   ]
  },
  {
   "cell_type": "markdown",
   "metadata": {},
   "source": [
    "Посчитаем 95-й и 99-й перцентили количества заказов на пользователя, чтобы выбрать границу для определения аномальных пользователей."
   ]
  },
  {
   "cell_type": "code",
   "execution_count": 31,
   "metadata": {},
   "outputs": [
    {
     "data": {
      "text/plain": [
       "array([2., 4.])"
      ]
     },
     "execution_count": 31,
     "metadata": {},
     "output_type": "execute_result"
    }
   ],
   "source": [
    "np.percentile(orders_by_users['orders'], [95, 99])"
   ]
  },
  {
   "cell_type": "markdown",
   "metadata": {},
   "source": [
    "5% пользователей совершали покупки более 2 раз, 1% - более 4 раз. Граница для определения аномальных пользователей - 2 заказа. "
   ]
  },
  {
   "cell_type": "markdown",
   "metadata": {},
   "source": [
    "**Построим точечный график стоимостей заказов.**"
   ]
  },
  {
   "cell_type": "code",
   "execution_count": 32,
   "metadata": {},
   "outputs": [
    {
     "data": {
      "image/png": "[encoded data removed]",
      "text/plain": [
       "<Figure size 432x288 with 1 Axes>"
      ]
     },
     "metadata": {
      "needs_background": "light"
     },
     "output_type": "display_data"
    }
   ],
   "source": [
    "x_values = pd.Series(range(0,len(orders_data['revenue'])))\n",
    "\n",
    "plt.title('Выручка на одного пользователя')\n",
    "plt.ylabel('Выручка')\n",
    "plt.scatter(x_values, orders_data['revenue']);"
   ]
  },
  {
   "cell_type": "markdown",
   "metadata": {},
   "source": [
    "На графике есть отдельные крупные заказы, но большинство из них не превышает 20000."
   ]
  },
  {
   "cell_type": "markdown",
   "metadata": {},
   "source": [
    "Посчитаем 95-й и 99-й перцентили стоимости заказов, чтобы выбрать границу для определения аномальных заказов."
   ]
  },
  {
   "cell_type": "code",
   "execution_count": 33,
   "metadata": {},
   "outputs": [
    {
     "data": {
      "text/plain": [
       "array([28000. , 58233.2])"
      ]
     },
     "execution_count": 33,
     "metadata": {},
     "output_type": "execute_result"
    }
   ],
   "source": [
    "np.percentile(orders_data['revenue'], [95, 99])"
   ]
  },
  {
   "cell_type": "markdown",
   "metadata": {},
   "source": [
    "Любопытно, что 5% отметка оказалась выше, чем казалось на графике. 5% пользователей покупают более, чем на 28000 и 1% более, чем на 58000. Верхнюю границу выручки установим в 28000. "
   ]
  },
  {
   "cell_type": "markdown",
   "metadata": {},
   "source": [
    "**Посчитаем статистическую значимость различий в конверсии между группами по «сырым» данным.**"
   ]
  },
  {
   "cell_type": "markdown",
   "metadata": {},
   "source": [
    "Подготовим данные - создадим единый датасет с результатами А/В-теста по группам:"
   ]
  },
  {
   "cell_type": "code",
   "execution_count": 34,
   "metadata": {},
   "outputs": [
    {
     "data": {
      "text/html": [
       "<div>\n",
       "<style scoped>\n",
       "    .dataframe tbody tr th:only-of-type {\n",
       "        vertical-align: middle;\n",
       "    }\n",
       "\n",
       "    .dataframe tbody tr th {\n",
       "        vertical-align: top;\n",
       "    }\n",
       "\n",
       "    .dataframe thead th {\n",
       "        text-align: right;\n",
       "    }\n",
       "</style>\n",
       "<table border=\"1\" class=\"dataframe\">\n",
       "  <thead>\n",
       "    <tr style=\"text-align: right;\">\n",
       "      <th></th>\n",
       "      <th>date</th>\n",
       "      <th>group</th>\n",
       "      <th>visitors</th>\n",
       "    </tr>\n",
       "  </thead>\n",
       "  <tbody>\n",
       "    <tr>\n",
       "      <th>54</th>\n",
       "      <td>2019-08-24</td>\n",
       "      <td>B</td>\n",
       "      <td>378</td>\n",
       "    </tr>\n",
       "  </tbody>\n",
       "</table>\n",
       "</div>"
      ],
      "text/plain": [
       "         date group  visitors\n",
       "54 2019-08-24     B       378"
      ]
     },
     "execution_count": 34,
     "metadata": {},
     "output_type": "execute_result"
    }
   ],
   "source": [
    "visitors_data.sample()"
   ]
  },
  {
   "cell_type": "code",
   "execution_count": 35,
   "metadata": {},
   "outputs": [
    {
     "data": {
      "text/html": [
       "<div>\n",
       "<style scoped>\n",
       "    .dataframe tbody tr th:only-of-type {\n",
       "        vertical-align: middle;\n",
       "    }\n",
       "\n",
       "    .dataframe tbody tr th {\n",
       "        vertical-align: top;\n",
       "    }\n",
       "\n",
       "    .dataframe thead th {\n",
       "        text-align: right;\n",
       "    }\n",
       "</style>\n",
       "<table border=\"1\" class=\"dataframe\">\n",
       "  <thead>\n",
       "    <tr style=\"text-align: right;\">\n",
       "      <th></th>\n",
       "      <th>transactionId</th>\n",
       "      <th>visitorId</th>\n",
       "      <th>date</th>\n",
       "      <th>revenue</th>\n",
       "      <th>group</th>\n",
       "    </tr>\n",
       "  </thead>\n",
       "  <tbody>\n",
       "    <tr>\n",
       "      <th>1179</th>\n",
       "      <td>339489775</td>\n",
       "      <td>1064078146</td>\n",
       "      <td>2019-08-14</td>\n",
       "      <td>1190</td>\n",
       "      <td>A</td>\n",
       "    </tr>\n",
       "  </tbody>\n",
       "</table>\n",
       "</div>"
      ],
      "text/plain": [
       "      transactionId   visitorId       date  revenue group\n",
       "1179      339489775  1064078146 2019-08-14     1190     A"
      ]
     },
     "execution_count": 35,
     "metadata": {},
     "output_type": "execute_result"
    }
   ],
   "source": [
    "orders_data.sample()"
   ]
  },
  {
   "cell_type": "code",
   "execution_count": 36,
   "metadata": {},
   "outputs": [
    {
     "data": {
      "text/html": [
       "<div>\n",
       "<style scoped>\n",
       "    .dataframe tbody tr th:only-of-type {\n",
       "        vertical-align: middle;\n",
       "    }\n",
       "\n",
       "    .dataframe tbody tr th {\n",
       "        vertical-align: top;\n",
       "    }\n",
       "\n",
       "    .dataframe thead th {\n",
       "        text-align: right;\n",
       "    }\n",
       "</style>\n",
       "<table border=\"1\" class=\"dataframe\">\n",
       "  <thead>\n",
       "    <tr style=\"text-align: right;\">\n",
       "      <th></th>\n",
       "      <th>date</th>\n",
       "      <th>orders_daily_A</th>\n",
       "      <th>revenue_daily_A</th>\n",
       "      <th>orders_daily_B</th>\n",
       "      <th>revenue_daily_B</th>\n",
       "      <th>orders_cum_A</th>\n",
       "      <th>revenue_cum_A</th>\n",
       "      <th>orders_cum_B</th>\n",
       "      <th>revenue_cum_B</th>\n",
       "      <th>visitors_daily_A</th>\n",
       "      <th>visitors_daily_B</th>\n",
       "      <th>visitors_cum_A_x</th>\n",
       "      <th>visitors_cum_A_y</th>\n",
       "    </tr>\n",
       "  </thead>\n",
       "  <tbody>\n",
       "    <tr>\n",
       "      <th>0</th>\n",
       "      <td>2019-08-01</td>\n",
       "      <td>24</td>\n",
       "      <td>148579</td>\n",
       "      <td>21</td>\n",
       "      <td>101217</td>\n",
       "      <td>24</td>\n",
       "      <td>148579</td>\n",
       "      <td>21</td>\n",
       "      <td>101217</td>\n",
       "      <td>719</td>\n",
       "      <td>713</td>\n",
       "      <td>719</td>\n",
       "      <td>719</td>\n",
       "    </tr>\n",
       "    <tr>\n",
       "      <th>1</th>\n",
       "      <td>2019-08-02</td>\n",
       "      <td>20</td>\n",
       "      <td>93822</td>\n",
       "      <td>24</td>\n",
       "      <td>165531</td>\n",
       "      <td>44</td>\n",
       "      <td>242401</td>\n",
       "      <td>45</td>\n",
       "      <td>266748</td>\n",
       "      <td>619</td>\n",
       "      <td>581</td>\n",
       "      <td>1338</td>\n",
       "      <td>1338</td>\n",
       "    </tr>\n",
       "    <tr>\n",
       "      <th>2</th>\n",
       "      <td>2019-08-03</td>\n",
       "      <td>24</td>\n",
       "      <td>112473</td>\n",
       "      <td>16</td>\n",
       "      <td>114248</td>\n",
       "      <td>68</td>\n",
       "      <td>354874</td>\n",
       "      <td>61</td>\n",
       "      <td>380996</td>\n",
       "      <td>507</td>\n",
       "      <td>509</td>\n",
       "      <td>1845</td>\n",
       "      <td>1845</td>\n",
       "    </tr>\n",
       "    <tr>\n",
       "      <th>3</th>\n",
       "      <td>2019-08-04</td>\n",
       "      <td>16</td>\n",
       "      <td>70825</td>\n",
       "      <td>17</td>\n",
       "      <td>108571</td>\n",
       "      <td>84</td>\n",
       "      <td>425699</td>\n",
       "      <td>78</td>\n",
       "      <td>489567</td>\n",
       "      <td>717</td>\n",
       "      <td>770</td>\n",
       "      <td>2562</td>\n",
       "      <td>2562</td>\n",
       "    </tr>\n",
       "    <tr>\n",
       "      <th>4</th>\n",
       "      <td>2019-08-05</td>\n",
       "      <td>25</td>\n",
       "      <td>124218</td>\n",
       "      <td>23</td>\n",
       "      <td>92428</td>\n",
       "      <td>109</td>\n",
       "      <td>549917</td>\n",
       "      <td>101</td>\n",
       "      <td>581995</td>\n",
       "      <td>756</td>\n",
       "      <td>707</td>\n",
       "      <td>3318</td>\n",
       "      <td>3318</td>\n",
       "    </tr>\n",
       "  </tbody>\n",
       "</table>\n",
       "</div>"
      ],
      "text/plain": [
       "        date  orders_daily_A  revenue_daily_A  orders_daily_B  \\\n",
       "0 2019-08-01              24           148579              21   \n",
       "1 2019-08-02              20            93822              24   \n",
       "2 2019-08-03              24           112473              16   \n",
       "3 2019-08-04              16            70825              17   \n",
       "4 2019-08-05              25           124218              23   \n",
       "\n",
       "   revenue_daily_B  orders_cum_A  revenue_cum_A  orders_cum_B  revenue_cum_B  \\\n",
       "0           101217            24         148579            21         101217   \n",
       "1           165531            44         242401            45         266748   \n",
       "2           114248            68         354874            61         380996   \n",
       "3           108571            84         425699            78         489567   \n",
       "4            92428           109         549917           101         581995   \n",
       "\n",
       "   visitors_daily_A  visitors_daily_B  visitors_cum_A_x  visitors_cum_A_y  \n",
       "0               719               713               719               719  \n",
       "1               619               581              1338              1338  \n",
       "2               507               509              1845              1845  \n",
       "3               717               770              2562              2562  \n",
       "4               756               707              3318              3318  "
      ]
     },
     "execution_count": 36,
     "metadata": {},
     "output_type": "execute_result"
    }
   ],
   "source": [
    "# Сгруппируем пользователей и получим агрегированные ежедневные и кумулятивные данные о посетителях:\n",
    "visitors_A_daily = visitors_data[visitors_data['group']=='A'][['date', 'visitors']]\n",
    "visitors_A_daily.columns = ['date', 'visitors_daily_A']\n",
    "\n",
    "visitors_A_cum = visitors_A_daily.apply(lambda x: visitors_A_daily[visitors_A_daily['date'] <= x['date']]\\\n",
    "                                        .agg({'date' : 'max', 'visitors_daily_A' : 'sum'}), axis=1)\n",
    "visitors_A_cum.columns = ['date', 'visitors_cum_A']\n",
    "\n",
    "visitors_B_daily = visitors_data[visitors_data['group']=='B'][['date', 'visitors']]\n",
    "visitors_B_daily.columns = ['date', 'visitors_daily_B']\n",
    "\n",
    "visitors_B_cum = visitors_B_daily.apply(lambda x: visitors_B_daily[visitors_B_daily['date'] <= x['date']]\\\n",
    "                                        .agg({'date' : 'max', 'visitors_daily_B' : 'sum'}), axis=1)\n",
    "visitors_B_cum.columns = ['date', 'visitors_cum_B']\n",
    "\n",
    "# Сгруппируем заказы и получим агрегированные ежедневные и кумулятивные данные о количестве заказов и выручке:\n",
    "orders_A_daily = orders_data[orders_data['group']=='A'][['date', \n",
    "                                                         'transactionId', \n",
    "                                                         'visitorId', \n",
    "                                                         'revenue']].groupby('date', as_index=False\n",
    "                                                                            ).agg({'transactionId' : pd.Series.nunique, \n",
    "                                                                                   'revenue' : 'sum'})\n",
    "orders_A_daily.columns = ['date', 'orders_daily_A', 'revenue_daily_A']\n",
    "\n",
    "orders_A_cum = orders_A_daily.apply(lambda x: orders_A_daily[orders_A_daily['date'] <= x['date']]\\\n",
    "                                    .agg({'date' : 'max',\n",
    "                                          'orders_daily_A' : 'sum',\n",
    "                                          'revenue_daily_A' : 'sum'}), axis=1).sort_values(by=['date'])\n",
    "orders_A_cum.columns = ['date', 'orders_cum_A', 'revenue_cum_A']\n",
    "\n",
    "orders_B_daily = orders_data[orders_data['group']=='B'][['date', \n",
    "                                                         'transactionId', \n",
    "                                                         'visitorId', \n",
    "                                                         'revenue']].groupby('date', as_index=False\n",
    "                                                                            ).agg({'transactionId' : pd.Series.nunique, \n",
    "                                                                                   'revenue' : 'sum'})\n",
    "orders_B_daily.columns = ['date', 'orders_daily_B', 'revenue_daily_B']\n",
    "\n",
    "orders_B_cum = orders_B_daily.apply(lambda x: orders_B_daily[orders_B_daily['date'] <= x['date']]\\\n",
    "                                    .agg({'date' : 'max',\n",
    "                                          'orders_daily_B' : 'sum',\n",
    "                                          'revenue_daily_B' : 'sum'}), axis=1).sort_values(by=['date'])\n",
    "orders_B_cum.columns = ['date', 'orders_cum_B', 'revenue_cum_B']\n",
    "\n",
    "# Соединим данные в одну таблицу:\n",
    "AB_data = orders_A_daily.merge(orders_B_daily, left_on='date', right_on='date', how='left')\\\n",
    "    .merge(orders_A_cum, left_on='date', right_on='date', how='left')\\\n",
    "    .merge(orders_B_cum, left_on='date', right_on='date', how='left')\\\n",
    "    .merge(visitors_A_daily, left_on='date', right_on='date', how='left')\\\n",
    "    .merge(visitors_B_daily, left_on='date', right_on='date', how='left')\\\n",
    "    .merge(visitors_A_cum, left_on='date', right_on='date', how='left')\\\n",
    "    .merge(visitors_A_cum, left_on='date', right_on='date', how='left')\n",
    "\n",
    "AB_data.head()"
   ]
  },
  {
   "cell_type": "markdown",
   "metadata": {},
   "source": [
    "Посчитаем статистическую значимость различия в конверсии между группами. Создадим переменные orders_users_A и orders_users_B. Уукажем число совершённых заказов для пользователей, которые заказывали хотя бы 1 раз:"
   ]
  },
  {
   "cell_type": "code",
   "execution_count": 37,
   "metadata": {},
   "outputs": [],
   "source": [
    "orders_users_A = orders_data[orders_data['group']=='A'].groupby('visitorId', as_index=False\n",
    "                                                               ).agg({'transactionId' : pd.Series.nunique})\n",
    "orders_users_A.columns = ['visitorId','orders']\n",
    "\n",
    "orders_users_B = orders_data[orders_data['group']=='B'].groupby('visitorId', as_index=False\n",
    "                                                               ).agg({'transactionId' : pd.Series.nunique})\n",
    "orders_users_B.columns = ['visitorId','orders']"
   ]
  },
  {
   "cell_type": "markdown",
   "metadata": {},
   "source": [
    "Объявим переменные sample_A и sample_B, в которых пользователям из разных групп будет соответствовать количество заказов. Тем, кто ничего не заказал, будут соответствовать нули. Это нужно, чтобы подготовить выборки к проверке критерием Манна-Уитни."
   ]
  },
  {
   "cell_type": "code",
   "execution_count": 38,
   "metadata": {},
   "outputs": [],
   "source": [
    "sample_A = pd.concat([orders_users_A['orders'],\n",
    "                      pd.Series(0, index=np.arange(AB_data['visitors_daily_A'].sum()\\\n",
    "                                                                            - len(orders_users_A['orders'])), name='orders')\n",
    "                     ],axis=0)\n",
    "\n",
    "sample_B = pd.concat([orders_users_B['orders'],\n",
    "                      pd.Series(0, index=np.arange(AB_data['visitors_daily_B'].sum()\\\n",
    "                                                                            - len(orders_users_B['orders'])), name='orders')\n",
    "                     ],axis=0)"
   ]
  },
  {
   "cell_type": "markdown",
   "metadata": {},
   "source": [
    "Применим критерий Манна-Уитни и отформатируем `p-value`, округлив его до трёх знаков после запятой.\n",
    "Относительный прирост конверсии группы B рассчитаем так: конверсия группы B / конверсия группы A - 1. Так же округлим до трёх знаков после запятой."
   ]
  },
  {
   "cell_type": "code",
   "execution_count": 39,
   "metadata": {},
   "outputs": [
    {
     "name": "stdout",
     "output_type": "stream",
     "text": [
      "P-value:\n",
      "0.008\n",
      "Относительный прирост конверсии группы В:\n",
      "0.138\n",
      "Отвергаем нулевую гипотезу: между долями есть значимая разница\n"
     ]
    }
   ],
   "source": [
    "#Нулевая гипотеза Н0 - \"Относительное среднее выборок долей генеральной совокупности не различается\"\n",
    "#Альтернативная гипотеза Н1 - \"Между относительным средним выборок долей генеральной соворупности есть разница\".\n",
    "\n",
    "print('P-value:')\n",
    "print(\"{0:.3f}\".format(stats.mannwhitneyu(sample_A, sample_B)[1]))\n",
    "print('Относительный прирост конверсии группы В:')\n",
    "print(\"{0:.3f}\".format(sample_B.mean()/sample_A.mean()-1))\n",
    "alpha = .05\n",
    "p_value = stats.mannwhitneyu(sample_A, sample_B)[1]\n",
    "if (p_value < alpha):\n",
    "    print(\"Отвергаем нулевую гипотезу: между долями есть значимая разница\")\n",
    "else:\n",
    "    print(\"Не получилось отвергнуть нулевую гипотезу, нет оснований считать доли разными\")"
   ]
  },
  {
   "cell_type": "markdown",
   "metadata": {},
   "source": [
    "Вывод: Обнаружены различия в конверсии групп A и B по «сырым» данным. Первое число — p-value = 0.008 меньше 0.05. Значит, нулевую гипотезу о том, что статистически значимых различий в конверсии между группами нет, необходимо отвергнуть. Относительная конверсия группы В выше на 13,8% — второе число в выводе."
   ]
  },
  {
   "cell_type": "markdown",
   "metadata": {},
   "source": [
    "**Посчитаем статистическую значимость различий в среднем чеке заказа между группами по «сырым» данным.**"
   ]
  },
  {
   "cell_type": "markdown",
   "metadata": {},
   "source": [
    "Чтобы рассчитать статистическую значимость различий в среднем чеке между сегментами, передадим критерию `mannwhitneyu()` данные о выручке с заказов и найдём относительные различия в среднем чеке между группами:"
   ]
  },
  {
   "cell_type": "code",
   "execution_count": 40,
   "metadata": {},
   "outputs": [
    {
     "name": "stdout",
     "output_type": "stream",
     "text": [
      "P-value:\n",
      "0.365\n",
      "Относительное значение среднего чека группы В:\n",
      "0.259\n",
      "Не получилось отвергнуть нулевую гипотезу, нет оснований считать доли разными\n"
     ]
    }
   ],
   "source": [
    "#Нулевая гипотеза Н0 - \"Относительное среднее выборок долей генеральной совокупности не различается\"\n",
    "#Альтернативная гипотеза Н1 - \"Между относительным средним выборок долей генеральной соворупности есть разница\".\n",
    "\n",
    "print('P-value:')\n",
    "print(\"{0:.3f}\".format(stats.mannwhitneyu(orders_data[orders_data['group']=='A']['revenue'], \n",
    "                                          orders_data[orders_data['group']=='B']['revenue'])[1]))\n",
    "print('Относительное значение среднего чека группы В:')\n",
    "print(\"{0:.3f}\".format(orders_data[orders_data['group']=='B'\n",
    "                                  ]['revenue'].mean()/orders_data[orders_data['group']=='A']['revenue'].mean()-1))\n",
    "alpha = .05\n",
    "p_value = stats.mannwhitneyu(orders_data[orders_data['group']=='A']['revenue'], \n",
    "                                          orders_data[orders_data['group']=='B']['revenue'])[1]\n",
    "if (p_value < alpha):\n",
    "    print(\"Отвергаем нулевую гипотезу: между долями есть значимая разница\")\n",
    "else:\n",
    "    print(\"Не получилось отвергнуть нулевую гипотезу, нет оснований считать доли разными\")"
   ]
  },
  {
   "cell_type": "markdown",
   "metadata": {},
   "source": [
    "`P-value = 0,365` значительно больше 0.05. Значит, причин отвергать нулевую гипотезу и считать, что в среднем чеке есть различия, нет. Впрочем, средний чек группы B значительно выше среднего чека группы A (0.259)."
   ]
  },
  {
   "cell_type": "markdown",
   "metadata": {},
   "source": [
    "**Посчитаем статистическую значимость различий в конверсии между группами по «очищенным» данным.**"
   ]
  },
  {
   "cell_type": "markdown",
   "metadata": {},
   "source": [
    "Ранее мы рассчитали 95й и 99й перцентили количества и стоимости заказов на пользователя. Верхнюю границу установили на отметке в 2 заказа и 28000 для 95% клиентов интернет-магазина - остальных мы примем за аномальных пользователей. Сделаем срезы этих пользователей и объединим в одной таблице:"
   ]
  },
  {
   "cell_type": "code",
   "execution_count": 41,
   "metadata": {},
   "outputs": [
    {
     "data": {
      "text/plain": [
       "1099    148427295\n",
       "18      199603092\n",
       "928     204675465\n",
       "23      237748145\n",
       "37      249864742\n",
       "Name: visitorId, dtype: int64"
      ]
     },
     "execution_count": 41,
     "metadata": {},
     "output_type": "execute_result"
    }
   ],
   "source": [
    "too_many_orders = pd.concat([orders_users_A[orders_users_A['orders'] > 2]['visitorId'], \n",
    "                             orders_users_B[orders_users_B['orders'] > 2]['visitorId']], axis = 0)\n",
    "too_expensive_orders = orders_data[orders_data['revenue'] > 28000]['visitorId']\n",
    "abnormal_users = pd.concat([too_many_orders, too_expensive_orders], axis = 0).drop_duplicates().sort_values()\n",
    "abnormal_users.head(5)"
   ]
  },
  {
   "cell_type": "code",
   "execution_count": 42,
   "metadata": {},
   "outputs": [
    {
     "data": {
      "text/plain": [
       "(74,)"
      ]
     },
     "execution_count": 42,
     "metadata": {},
     "output_type": "execute_result"
    }
   ],
   "source": [
    "abnormal_users.shape"
   ]
  },
  {
   "cell_type": "markdown",
   "metadata": {},
   "source": [
    "Посчитаем статистическую значимость различий в конверсии между группами теста по очищенным данным. Для этого подготовим выборки количества заказов по пользователям по группам теста и применим к ним статистический критерий Манна-Уитни:"
   ]
  },
  {
   "cell_type": "code",
   "execution_count": 43,
   "metadata": {},
   "outputs": [],
   "source": [
    "sample_A_filtered = pd.concat([orders_users_A[np.logical_not(orders_users_A['visitorId'].isin(abnormal_users))\n",
    "                                             ]['orders'],pd.Series(0, index=np.arange(AB_data['visitors_daily_A'].sum()\\\n",
    "                                                                                      - len(orders_users_A['orders'])),\n",
    "                                                                   name='orders')],axis=0)\n",
    "\n",
    "sample_B_filtered = pd.concat([orders_users_B[np.logical_not(orders_users_B['visitorId'].isin(abnormal_users))\n",
    "                                             ]['orders'],pd.Series(0, index=np.arange(AB_data['visitors_daily_B'].sum()\\\n",
    "                                                                                      - len(orders_users_B['orders'])),\n",
    "                                                                   name='orders')],axis=0)"
   ]
  },
  {
   "cell_type": "code",
   "execution_count": 44,
   "metadata": {},
   "outputs": [
    {
     "name": "stdout",
     "output_type": "stream",
     "text": [
      "P-value:\n",
      "0.007\n",
      "Относительный прирост конверсии группы В по \"чистым данным\":\n",
      "0.173\n",
      "Отвергаем нулевую гипотезу: между долями есть значимая разница\n"
     ]
    }
   ],
   "source": [
    "#Нулевая гипотеза Н0 - \"Относительное среднее выборок долей генеральной совокупности не различается\"\n",
    "#Альтернативная гипотеза Н1 - \"Между относительным средним выборок долей генеральной соворупности есть разница\".\n",
    "\n",
    "print('P-value:')\n",
    "print(\"{0:.3f}\".format(stats.mannwhitneyu(sample_A_filtered, sample_B_filtered)[1]))\n",
    "print('Относительный прирост конверсии группы В по \"чистым данным\":')\n",
    "print(\"{0:.3f}\".format(sample_B_filtered.mean()/sample_A_filtered.mean()-1))\n",
    "alpha = .05\n",
    "p_value = stats.mannwhitneyu(sample_A_filtered, sample_B_filtered)[1]\n",
    "if (p_value < alpha):\n",
    "    print(\"Отвергаем нулевую гипотезу: между долями есть значимая разница\")\n",
    "else:\n",
    "    print(\"Не получилось отвергнуть нулевую гипотезу, нет оснований считать доли разными\")"
   ]
  },
  {
   "cell_type": "markdown",
   "metadata": {},
   "source": [
    "Вывод: Обнаружены различия в конверсии групп A и B по \"очищенным\" данным. \n",
    "Р-value изменилось незначительно (0.007), а конверсия выросла с 13,8% до 17,3%. "
   ]
  },
  {
   "cell_type": "markdown",
   "metadata": {},
   "source": [
    "**Посчитаем статистическую значимость различий в среднем чеке заказа между группами по «очищенным» данным.**"
   ]
  },
  {
   "cell_type": "code",
   "execution_count": 45,
   "metadata": {},
   "outputs": [
    {
     "name": "stdout",
     "output_type": "stream",
     "text": [
      "P-value:\n",
      "0.369\n",
      "Относительное значение среднего чека группы В по \"чистым данным\":\n",
      "-0.020\n",
      "Не получилось отвергнуть нулевую гипотезу, нет оснований считать доли разными\n"
     ]
    }
   ],
   "source": [
    "#Нулевая гипотеза Н0 - \"Относительное среднее выборок долей генеральной совокупности не различается\"\n",
    "#Альтернативная гипотеза Н1 - \"Между относительным средним выборок долей генеральной соворупности есть разница\".\n",
    "\n",
    "print('P-value:')\n",
    "print(\"{0:.3f}\".format(stats.mannwhitneyu(\n",
    "    orders_data[np.logical_and(\n",
    "        orders_data['group']=='A',\n",
    "        np.logical_not(orders_data['visitorId'].isin(abnormal_users)))]['revenue'],\n",
    "    orders_data[np.logical_and(\n",
    "        orders_data['group']=='B',\n",
    "        np.logical_not(orders_data['visitorId'].isin(abnormal_users)))]['revenue'])[1]))\n",
    "print('Относительное значение среднего чека группы В по \"чистым данным\":')\n",
    "print(\"{0:.3f}\".format(\n",
    "    orders_data[np.logical_and(\n",
    "        orders_data['group']=='B',np.logical_not(\n",
    "            orders_data['visitorId'].isin(abnormal_users)))]['revenue'].mean() / orders_data[np.logical_and(\n",
    "        orders_data['group']=='A',\n",
    "        np.logical_not(orders_data['visitorId'].isin(abnormal_users)))]['revenue'].mean() - 1))\n",
    "\n",
    "alpha = .05\n",
    "p_value = stats.mannwhitneyu(\n",
    "    orders_data[np.logical_and(\n",
    "        orders_data['group']=='A',\n",
    "        np.logical_not(orders_data['visitorId'].isin(abnormal_users)))]['revenue'],\n",
    "    orders_data[np.logical_and(\n",
    "        orders_data['group']=='B',\n",
    "        np.logical_not(orders_data['visitorId'].isin(abnormal_users)))]['revenue'])[1]\n",
    "if (p_value < alpha):\n",
    "    print(\"Отвергаем нулевую гипотезу: между долями есть значимая разница\")\n",
    "else:\n",
    "    print(\"Не получилось отвергнуть нулевую гипотезу, нет оснований считать доли разными\")"
   ]
  },
  {
   "cell_type": "markdown",
   "metadata": {},
   "source": [
    "Любопытно, что по отфильтрованным данным `р-value = 0,369` незначительно больше предыдущего значения. Причин отвергать нулевую гипотезу  и считать, что в среднем чеке есть различия, по-прежнему нет. Но величина относительного различия в среднем чеке группы B упала с 25%  до -2%. Вероятно, это аномальные заказы так исказили данные."
   ]
  },
  {
   "cell_type": "markdown",
   "metadata": {},
   "source": [
    "Имеющиеся факты:\n",
    "\n",
    "Есть статистически значимое различие по конверсии между группами: 13,8% в пользу группы В по «сырым» данным; 17,3% по данным после фильтрации аномалий.\n",
    "\n",
    "Нет статистически значимого различия по среднему чеку между группами ни по «сырым», ни по данным после фильтрации аномалий. Очистка данных показала, что относительное различие в среднем чеке между группами было вызвано нехарактерными заказами.\n",
    "\n",
    "Исходя из обнаруженных фактов, я предлагаю остановить тест, признав победу группы В. "
   ]
  },
  {
   "cell_type": "code",
   "execution_count": 46,
   "metadata": {},
   "outputs": [
    {
     "data": {
      "text/html": [
       "<div>\n",
       "<style scoped>\n",
       "    .dataframe tbody tr th:only-of-type {\n",
       "        vertical-align: middle;\n",
       "    }\n",
       "\n",
       "    .dataframe tbody tr th {\n",
       "        vertical-align: top;\n",
       "    }\n",
       "\n",
       "    .dataframe thead th {\n",
       "        text-align: right;\n",
       "    }\n",
       "</style>\n",
       "<table border=\"1\" class=\"dataframe\">\n",
       "  <thead>\n",
       "    <tr style=\"text-align: right;\">\n",
       "      <th></th>\n",
       "      <th>date</th>\n",
       "      <th>group</th>\n",
       "      <th>transactionId</th>\n",
       "      <th>visitorId</th>\n",
       "      <th>revenue</th>\n",
       "    </tr>\n",
       "  </thead>\n",
       "  <tbody>\n",
       "    <tr>\n",
       "      <th>55</th>\n",
       "      <td>2019-08-01</td>\n",
       "      <td>A</td>\n",
       "      <td>16</td>\n",
       "      <td>15</td>\n",
       "      <td>54351</td>\n",
       "    </tr>\n",
       "    <tr>\n",
       "      <th>66</th>\n",
       "      <td>2019-08-01</td>\n",
       "      <td>B</td>\n",
       "      <td>19</td>\n",
       "      <td>19</td>\n",
       "      <td>78258</td>\n",
       "    </tr>\n",
       "    <tr>\n",
       "      <th>175</th>\n",
       "      <td>2019-08-02</td>\n",
       "      <td>A</td>\n",
       "      <td>35</td>\n",
       "      <td>33</td>\n",
       "      <td>146483</td>\n",
       "    </tr>\n",
       "    <tr>\n",
       "      <th>174</th>\n",
       "      <td>2019-08-02</td>\n",
       "      <td>B</td>\n",
       "      <td>40</td>\n",
       "      <td>39</td>\n",
       "      <td>171492</td>\n",
       "    </tr>\n",
       "    <tr>\n",
       "      <th>291</th>\n",
       "      <td>2019-08-03</td>\n",
       "      <td>A</td>\n",
       "      <td>59</td>\n",
       "      <td>57</td>\n",
       "      <td>258956</td>\n",
       "    </tr>\n",
       "  </tbody>\n",
       "</table>\n",
       "</div>"
      ],
      "text/plain": [
       "          date group  transactionId  visitorId  revenue\n",
       "55  2019-08-01     A             16         15    54351\n",
       "66  2019-08-01     B             19         19    78258\n",
       "175 2019-08-02     A             35         33   146483\n",
       "174 2019-08-02     B             40         39   171492\n",
       "291 2019-08-03     A             59         57   258956"
      ]
     },
     "execution_count": 46,
     "metadata": {},
     "output_type": "execute_result"
    }
   ],
   "source": [
    "# Cоздаем массив уникальных пар значений дат и групп для очищенных данных теста\n",
    "orders_data_filtred = orders_data[np.logical_not(orders_data['visitorId'].isin(abnormal_users))]\n",
    "dates_groups_filtred = orders_data_filtred[['date','group']].drop_duplicates()\n",
    "\n",
    "\n",
    "# Соберём агрегированные кумулятивные очищенные данные по дням:\n",
    "orders_filtred_agg = dates_groups_filtred.apply(lambda x: \\\n",
    "                                                orders_data_filtred[np.logical_and(orders_data_filtred['date'] <= x['date'], \n",
    "                                                                                   orders_data_filtred['group'] == x['group'])\n",
    "                                                                   ].agg({\n",
    "                                         'date' : 'max', \n",
    "                                         'group' : 'max', \n",
    "                                         'transactionId' : pd.Series.nunique, \n",
    "                                         'visitorId' : pd.Series.nunique, \n",
    "                                         'revenue' : 'sum'}), axis=1).sort_values(by=['date','group'])\n",
    "orders_filtred_agg.head()"
   ]
  },
  {
   "cell_type": "code",
   "execution_count": 47,
   "metadata": {},
   "outputs": [],
   "source": [
    "filtred_cum_data_A = orders_filtred_agg[orders_filtred_agg['group']=='A']\n",
    "filtred_cum_data_B = orders_filtred_agg[orders_filtred_agg['group']=='B']"
   ]
  },
  {
   "cell_type": "code",
   "execution_count": 48,
   "metadata": {},
   "outputs": [
    {
     "data": {
      "image/png": "[encoded data removed]",
      "text/plain": [
       "<Figure size 936x504 with 1 Axes>"
      ]
     },
     "metadata": {
      "needs_background": "light"
     },
     "output_type": "display_data"
    }
   ],
   "source": [
    "# Строим совмещенный график выручки группы А и В по очищенным данным:\n",
    "plt.figure(figsize=(13, 7))\n",
    "plt.title('Графики кумулятивной выручки по очищенным данным A/B-тестирования')\n",
    "plt.ylabel('Выручка')\n",
    "plt.plot(filtred_cum_data_A['date'], filtred_cum_data_A['revenue'], label='A')\n",
    "plt.plot(filtred_cum_data_B['date'], filtred_cum_data_B['revenue'], label='B')\n",
    "plt.legend();"
   ]
  },
  {
   "cell_type": "markdown",
   "metadata": {},
   "source": [
    "*Я провела анализ результатов А/В-теста, в ходе которого выяснилось, что группа В показала лучшие результаты. Несмотря на отсутствие существенной разницы в среднем чеке между группами, конверсия группы В значительно опережает группу А.*\n",
    "*По графику выручки по очищенным данным видно, что с 5 августа выручка группы В начала расти относительно группы А. Это устойчивая тенценция на протяжении всего периода проведения теста. Поэтому я посчитала, что полученных данных достаточно, чтобы признать, что тест прошел удачно и тестируемая гипотеза зашла.*  "
   ]
  },
  {
   "cell_type": "markdown",
   "metadata": {},
   "source": [
    "<div id='step5'/>\n",
    "\n",
    "# Общий вывод\n",
    "##### Задача 1:  приоритезировать гипотезы для увеличения выручки крупного интернет-магазина. \n",
    "##### Задача 2: проанализировать результаты А/В-теста.\n",
    "\n",
    "##### Цель: принять решение о завершении или продолжении теста и оценить результаты. "
   ]
  },
  {
   "cell_type": "markdown",
   "metadata": {},
   "source": [
    "Перед началом работы я изучила и обработала данные: проверила таблицы на отсуствие пропусков и дубликатов, привела названия столбцов в таблице с гипотезами нижнему регистру, в результатах теста привела столбцы с датами к соответствующему формату.\n",
    "### Приоритезация гипотез\n",
    "- Примените фреймворк ICE для приоритизации гипотез. Отсортируйте их по убыванию приоритета.\n",
    "\n",
    "Из девяти гипотез 3 получили оценку выше 10 баллов (№№ 8, 0 и 7), и еще две - выше 5 баллов (№6 и №2).\n",
    "\n",
    "- Примените фреймворк RICE для приоритизации гипотез. Отсортируйте их по убыванию приоритета.\n",
    "- Укажите, как изменилась приоритизация гипотез при применении RICE вместо ICE. Объясните, почему так произошло.\n",
    "\n",
    "Из девяти гипотез только 5 набрали больше 10 баллов (№№ 7, 2, 0, 6, 8), причем одна из них - №7 - получила оценку в 112 баллов! Из этой пятерки только у №8 оценка ниже 40 баллов (16,2).\n",
    "Параметр Reach сильно изменил приоритет гипотез. По результатам первого расчета по ICE самой важной была гипотеза №8, - а по RICE она оказалась лишь на 5 месте. А №7 и №2 наоборот - набрали максимальное количество баллов. \n",
    "Оказалось, что самая актуальная гипотеза - №7 о добавлении формы подписки на основные страницы.\n",
    "\n",
    "### Анализ А/В-теста\n",
    "- Постройте график кумулятивной выручки по группам. Сделайте выводы и предположения.\n",
    "\n",
    "На графике видно, что выручка группы А растет поступательно без резких колебаний. Кумулятивная выручка группы В резко выросла после 17 августа, после чего продолжила поступательный рост. Возможно, такой скачок связан с крупной покупкой в группе В или с внезапным резким увеличением числа заказов.\n",
    "- Постройте график кумулятивного среднего чека по группам. Сделайте выводы и предположения.\n",
    "\n",
    "Графики кумулятивного среднего чека сильно различаются по группам. В группе А, кажется, установилось среднее значение и оно постепенно растет. В группе В после 17 августа был резкий скачок, после которого показатель начал стабильно снижаться. Но снижается он относительно своего скачка. Если сравнивать средние показатели между группами, то, судя, по графику, кумелятивный средний чек группы В значительно выше, чем в группе А, несмотря на снижение.\n",
    "- Постройте график относительного изменения кумулятивного среднего чека группы B к группе A. Сделайте выводы и предположения.\n",
    "\n",
    "График вышел очень неравномерный. После 17 августа средний чек группы В резко вырос, а затем стал уменьшаться. Тем не менее, сейчас он существенно выше относительно группы А. Вероятно, в данных есть выбросы и крупные заказы, нужен дополнительный анализ.\n",
    "- Постройте график кумулятивной конверсии по группам. Сделайте выводы и предположения.\n",
    "\n",
    "Графики кумулятивной конверсии не выглядят ровными. Конверсия группы А просела после 5 августа и продолжает падать. Конверсия группы В после ряда резких колебаний, кажется более стабилизировавшейся. Группа В опережает группу А в кумулятивной конверсии примерно на 4%.\n",
    "- Постройте график относительного изменения кумулятивной конверсии группы B к группе A. Сделайте выводы и предположения.\n",
    "\n",
    "В начале теста группа B значительно проигрывала группе A, затем вырвалась вперёд. Далее ее конверсия росла и падала скачкообразно. На конец изучаемого периода зафиксирован рост, но в целом отношение конверсии ещё не установилось. Скорее всего, в данных присутствуют аномалии, которые могут влиять на картину. Тем не менее, на данный момент на графике виден прирост конверсии группы В на 10%.\n",
    "- Постройте точечный график количества заказов по пользователям. Сделайте выводы и предположения.\n",
    "\n",
    "Судя по графику, в основном люди делают один заказ в течение изучаемого периода. Но чтобы знать точно, надо посчитать 95-й и 99-й перцентили количества заказов на пользователя.\n",
    "- Посчитайте 95-й и 99-й перцентили количества заказов на пользователя. Выберите границу для определения аномальных пользователей.\n",
    "\n",
    "5% пользователей совершали покупки более 2 раз, 1% - более 4 раз. Граница для определения аномальных пользователей - 2 заказа.\n",
    "- Постройте точечный график стоимостей заказов. Сделайте выводы и предположения.\n",
    "\n",
    "На графике есть отдельные крупные заказы, но большинство из них не превышает 20000.\n",
    "- Посчитайте 95-й и 99-й перцентили стоимости заказов. Выберите границу для определения аномальных заказов.\n",
    "\n",
    "Любопытно, что 5% отметка оказалась выше, чем казалось на графике. 5% пользователей покупают более, чем на 28000 и 1% более, чем на 58000. Верхнюю границу выручки установим в 28000.\n",
    "- Посчитайте статистическую значимость различий в конверсии между группами по «сырым» данным. Сделайте выводы и предположения.\n",
    "\n",
    "Обнаружены различия в конверсии групп A и B по «сырым» данным. Первое число — p-value = 0.008 меньше 0.05. Значит, нулевую гипотезу о том, что статистически значимых различий в конверсии между группами нет, необходимо отвергнуть. Относительная конверсия группы В выше на 13,8%.\n",
    "- Посчитайте статистическую значимость различий в среднем чеке заказа между группами по «сырым» данным. Сделайте выводы и предположения.\n",
    "\n",
    "P-value = 0,365 значительно больше 0.05. Значит, причин отвергать нулевую гипотезу и считать, что в среднем чеке есть различия, нет. Впрочем, средний чек группы B значительно выше среднего чека группы A (0.259).\n",
    "- Посчитайте статистическую значимость различий в конверсии между группами по «очищенным» данным. Сделайте выводы и предположения.\n",
    "\n",
    "Ранее мы рассчитали 95й и 99й перцентили количества и стоимости заказов на пользователя. Верхнюю границу установили на отметке в 2 заказа и 28000 для 95% клиентов интернет-магазина. По «очищенным» данным были обнаружены различия в конверсии групп A и B. Р-value изменилось незначительно (0.007 против 0,008), а конверсия выросла с 13,8% до 17,3%.\n",
    "- Посчитайте статистическую значимость различий в среднем чеке заказа между группами по «очищенным» данным. Сделайте выводы и предположения.\n",
    "\n",
    "Любопытно, что по отфильтрованным данным р-value = 0,369 незначительно больше предыдущего значения (0,365). Причин отвергать нулевую гипотезу и считать, что в среднем чеке есть различия, по-прежнему нет. Но величина относительного различия в среднем чеке группы B упала с 25%  до -2%. Вероятно, это аномальные заказы так исказили данные.\n",
    "- Примите решение по результатам теста и объясните его. Варианты решений: 1. Остановить тест, зафиксировать победу одной из групп. 2. Остановить тест, зафиксировать отсутствие различий между группами. 3. Продолжить тест.\n",
    "\n",
    "Имеющиеся факты:\n",
    "\n",
    "Есть статистически значимое различие по конверсии между группами: 13,8% в пользу группы В по «сырым» данным; 17,3% по данным после фильтрации аномалий.\n",
    "Нет статистически значимого различия по среднему чеку между группами ни по «сырым», ни по данным после фильтрации аномалий. Очистка данных показала, что относительное различие в среднем чеке между группами было вызвано нехарактерными заказами.\n",
    "Исходя из обнаруженных фактов, я предлагаю остановить тест, признав победу группы В.\n",
    "\n",
    "##### Я провела анализ результатов А/В-теста, в ходе которого выяснилось, что группа В показала лучшие результаты. Несмотря на отсутствие существенной разницы в среднем чеке между группами, конверсия группы В значительно опережает группу А. Поэтому я посчитала, что полученных данных достаточно, чтобы завершить тест и признать, что тест прошел удачно, группа В победила и тестируемая гипотеза зашла.\n"
   ]
  },
  {
   "cell_type": "code",
   "execution_count": null,
   "metadata": {},
   "outputs": [],
   "source": []
  }
 ],
 "metadata": {
  "kernelspec": {
   "display_name": "Python 3",
   "language": "python",
   "name": "python3"
  },
  "language_info": {
   "codemirror_mode": {
    "name": "ipython",
    "version": 3
   },
   "file_extension": ".py",
   "mimetype": "text/x-python",
   "name": "python",
   "nbconvert_exporter": "python",
   "pygments_lexer": "ipython3",
   "version": "3.7.6"
  }
 },
 "nbformat": 4,
 "nbformat_minor": 4
}

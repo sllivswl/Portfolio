{
 "cells": [
  {
   "cell_type": "markdown",
   "metadata": {},
   "source": [
    "# Рынок заведений общественного питания Москвы"
   ]
  },
  {
   "cell_type": "markdown",
   "metadata": {},
   "source": [
    "**Задача:** подготовить исследование рынка общественного питания в Москве из открытых источников. \n",
    "\n",
    "**Цель:** привлечение инвестиций, чтобы открыть оригинальное кафе с роботами в Москве. \n",
    "\n",
    "Данные взяты из открытых источников и содержат в себе название, тип, адрес объекта общественного питания и его вместительность. "
   ]
  },
  {
   "cell_type": "markdown",
   "metadata": {},
   "source": [
    "### План работы над проектом\n",
    "- [Импорт данных](#step1);\n",
    "- [Предобработка данных](#step2);\n",
    "- [Анализ данных](#step3);\n",
    "- [Общий вывод](#step4);\n",
    "- [Презентация](#step5)."
   ]
  },
  {
   "cell_type": "markdown",
   "metadata": {},
   "source": [
    "<div id='step1'/>\n",
    "\n",
    "## Импортируем данные:"
   ]
  },
  {
   "cell_type": "code",
   "execution_count": 1,
   "metadata": {},
   "outputs": [],
   "source": [
    "import pandas as pd\n",
    "import numpy as np\n",
    "import matplotlib.pyplot as plt\n",
    "import seaborn as sns\n",
    "import plotly.express as px"
   ]
  },
  {
   "cell_type": "code",
   "execution_count": 2,
   "metadata": {},
   "outputs": [],
   "source": [
    "import plotly.io as pio\n",
    "\n",
    "pio.renderers\n",
    "pio.renderers.default = \"svg\""
   ]
  },
  {
   "cell_type": "code",
   "execution_count": 4,
   "metadata": {},
   "outputs": [],
   "source": [
    "rest_data = pd.read_csv('rest_data.csv')"
   ]
  },
  {
   "cell_type": "markdown",
   "metadata": {},
   "source": [
    "<div id='step2'/>\n",
    "\n",
    "## Предобработка данных"
   ]
  },
  {
   "cell_type": "code",
   "execution_count": 5,
   "metadata": {},
   "outputs": [
    {
     "name": "stdout",
     "output_type": "stream",
     "text": [
      "<class 'pandas.core.frame.DataFrame'>\n",
      "RangeIndex: 15366 entries, 0 to 15365\n",
      "Data columns (total 6 columns):\n",
      " #   Column       Non-Null Count  Dtype \n",
      "---  ------       --------------  ----- \n",
      " 0   id           15366 non-null  int64 \n",
      " 1   object_name  15366 non-null  object\n",
      " 2   chain        15366 non-null  object\n",
      " 3   object_type  15366 non-null  object\n",
      " 4   address      15366 non-null  object\n",
      " 5   number       15366 non-null  int64 \n",
      "dtypes: int64(2), object(4)\n",
      "memory usage: 720.4+ KB\n",
      "--------------------------------------\n",
      "Дубликаты:\n",
      "0 дубликатов\n",
      "--------------------------------------\n",
      "Пропуски:\n",
      "id             0.0\n",
      "object_name    0.0\n",
      "chain          0.0\n",
      "object_type    0.0\n",
      "address        0.0\n",
      "number         0.0\n",
      "dtype: float64\n",
      "--------------------------------------\n",
      "Начало таблицы\n",
      "       id             object_name chain object_type  \\\n",
      "0  151635                 СМЕТАНА   нет        кафе   \n",
      "1   77874                  Родник   нет        кафе   \n",
      "2   24309         Кафе «Академия»   нет        кафе   \n",
      "3   21894              ПИЦЦЕТОРИЯ    да        кафе   \n",
      "4  119365  Кафе «Вишневая метель»   нет        кафе   \n",
      "\n",
      "                                             address  number  \n",
      "0         город Москва, улица Егора Абакумова, дом 9      48  \n",
      "1  город Москва, улица Талалихина, дом 2/1, корпус 1      35  \n",
      "2          город Москва, Абельмановская улица, дом 6      95  \n",
      "3            город Москва, Абрамцевская улица, дом 1      40  \n",
      "4  город Москва, Абрамцевская улица, дом 9, корпус 1      50  \n",
      "--------------------------------------\n",
      "Конец таблицы\n",
      "           id  object_name chain object_type  \\\n",
      "15361  208537  Шоколадница    да        кафе   \n",
      "15362  209264  Шоколадница    да        кафе   \n",
      "15363  209186  Шоколадница    да        кафе   \n",
      "15364  221900  Шоколадница    да        кафе   \n",
      "15365  222535  Шоколадница    да        кафе   \n",
      "\n",
      "                                                 address  number  \n",
      "15361       город Москва, 3-й Крутицкий переулок, дом 18      50  \n",
      "15362           город Москва, улица Земляной Вал, дом 33      10  \n",
      "15363           город Москва, улица Земляной Вал, дом 33      20  \n",
      "15364  город Москва, поселение Московский, Киевское ш...      36  \n",
      "15365             город Москва, Ходынский бульвар, дом 4      10  \n"
     ]
    }
   ],
   "source": [
    "def standart_opening(data):\n",
    "    data.info()\n",
    "    print('--------------------------------------')\n",
    "    print('Дубликаты:')\n",
    "    print (data.duplicated().sum(), 'дубликатов')\n",
    "    print('--------------------------------------')\n",
    "    print('Пропуски:')\n",
    "    print (data.isna().mean())\n",
    "    print('--------------------------------------')\n",
    "    print('Начало таблицы')\n",
    "    print (data.head())\n",
    "    print('--------------------------------------')\n",
    "    print('Конец таблицы')\n",
    "    print (data.tail())\n",
    "\n",
    "standart_opening(rest_data)"
   ]
  },
  {
   "cell_type": "markdown",
   "metadata": {},
   "source": [
    "Пропусков и полных дубликатов нет, типы данных указаны корректно. Можно приступать к анализу."
   ]
  },
  {
   "cell_type": "markdown",
   "metadata": {},
   "source": [
    "<div id='step3'/>\n",
    "\n",
    "## Анализ данных"
   ]
  },
  {
   "cell_type": "markdown",
   "metadata": {},
   "source": [
    "Исследуем соотношение видов объектов общественного питания по количеству:"
   ]
  },
  {
   "cell_type": "code",
   "execution_count": 6,
   "metadata": {},
   "outputs": [
    {
     "data": {
      "text/html": [
       "<div>\n",
       "<style scoped>\n",
       "    .dataframe tbody tr th:only-of-type {\n",
       "        vertical-align: middle;\n",
       "    }\n",
       "\n",
       "    .dataframe tbody tr th {\n",
       "        vertical-align: top;\n",
       "    }\n",
       "\n",
       "    .dataframe thead th {\n",
       "        text-align: right;\n",
       "    }\n",
       "</style>\n",
       "<table border=\"1\" class=\"dataframe\">\n",
       "  <thead>\n",
       "    <tr style=\"text-align: right;\">\n",
       "      <th></th>\n",
       "      <th>id</th>\n",
       "      <th>object_name</th>\n",
       "      <th>chain</th>\n",
       "      <th>object_type</th>\n",
       "      <th>address</th>\n",
       "      <th>number</th>\n",
       "    </tr>\n",
       "  </thead>\n",
       "  <tbody>\n",
       "    <tr>\n",
       "      <th>14544</th>\n",
       "      <td>219368</td>\n",
       "      <td>ТАНДЫР</td>\n",
       "      <td>нет</td>\n",
       "      <td>предприятие быстрого обслуживания</td>\n",
       "      <td>город Москва, Балаклавский проспект, дом 5А</td>\n",
       "      <td>0</td>\n",
       "    </tr>\n",
       "  </tbody>\n",
       "</table>\n",
       "</div>"
      ],
      "text/plain": [
       "           id object_name chain                        object_type  \\\n",
       "14544  219368      ТАНДЫР   нет  предприятие быстрого обслуживания   \n",
       "\n",
       "                                           address  number  \n",
       "14544  город Москва, Балаклавский проспект, дом 5А       0  "
      ]
     },
     "execution_count": 6,
     "metadata": {},
     "output_type": "execute_result"
    }
   ],
   "source": [
    "rest_data.sample()"
   ]
  },
  {
   "cell_type": "code",
   "execution_count": 7,
   "metadata": {},
   "outputs": [
    {
     "data": {
      "text/html": [
       "<div>\n",
       "<style scoped>\n",
       "    .dataframe tbody tr th:only-of-type {\n",
       "        vertical-align: middle;\n",
       "    }\n",
       "\n",
       "    .dataframe tbody tr th {\n",
       "        vertical-align: top;\n",
       "    }\n",
       "\n",
       "    .dataframe thead th {\n",
       "        text-align: right;\n",
       "    }\n",
       "</style>\n",
       "<table border=\"1\" class=\"dataframe\">\n",
       "  <thead>\n",
       "    <tr style=\"text-align: right;\">\n",
       "      <th></th>\n",
       "      <th>object_type</th>\n",
       "      <th>id</th>\n",
       "      <th>propotrion</th>\n",
       "    </tr>\n",
       "  </thead>\n",
       "  <tbody>\n",
       "    <tr>\n",
       "      <th>0</th>\n",
       "      <td>бар</td>\n",
       "      <td>856</td>\n",
       "      <td>5.57</td>\n",
       "    </tr>\n",
       "    <tr>\n",
       "      <th>1</th>\n",
       "      <td>буфет</td>\n",
       "      <td>585</td>\n",
       "      <td>3.81</td>\n",
       "    </tr>\n",
       "    <tr>\n",
       "      <th>2</th>\n",
       "      <td>закусочная</td>\n",
       "      <td>360</td>\n",
       "      <td>2.34</td>\n",
       "    </tr>\n",
       "    <tr>\n",
       "      <th>3</th>\n",
       "      <td>кафе</td>\n",
       "      <td>6099</td>\n",
       "      <td>39.69</td>\n",
       "    </tr>\n",
       "    <tr>\n",
       "      <th>4</th>\n",
       "      <td>кафетерий</td>\n",
       "      <td>398</td>\n",
       "      <td>2.59</td>\n",
       "    </tr>\n",
       "    <tr>\n",
       "      <th>5</th>\n",
       "      <td>магазин (отдел кулинарии)</td>\n",
       "      <td>273</td>\n",
       "      <td>1.78</td>\n",
       "    </tr>\n",
       "    <tr>\n",
       "      <th>6</th>\n",
       "      <td>предприятие быстрого обслуживания</td>\n",
       "      <td>1923</td>\n",
       "      <td>12.51</td>\n",
       "    </tr>\n",
       "    <tr>\n",
       "      <th>7</th>\n",
       "      <td>ресторан</td>\n",
       "      <td>2285</td>\n",
       "      <td>14.87</td>\n",
       "    </tr>\n",
       "    <tr>\n",
       "      <th>8</th>\n",
       "      <td>столовая</td>\n",
       "      <td>2587</td>\n",
       "      <td>16.84</td>\n",
       "    </tr>\n",
       "  </tbody>\n",
       "</table>\n",
       "</div>"
      ],
      "text/plain": [
       "                         object_type    id  propotrion\n",
       "0                                бар   856        5.57\n",
       "1                              буфет   585        3.81\n",
       "2                         закусочная   360        2.34\n",
       "3                               кафе  6099       39.69\n",
       "4                          кафетерий   398        2.59\n",
       "5          магазин (отдел кулинарии)   273        1.78\n",
       "6  предприятие быстрого обслуживания  1923       12.51\n",
       "7                           ресторан  2285       14.87\n",
       "8                           столовая  2587       16.84"
      ]
     },
     "execution_count": 7,
     "metadata": {},
     "output_type": "execute_result"
    }
   ],
   "source": [
    "object_data = rest_data.groupby('object_type').agg({'id' : 'count'}).reset_index()\n",
    "object_data.columns = ['object_type', 'id']\n",
    "object_data['propotrion'] = ((object_data['id']/object_data['id'].sum()) *100).round(2)\n",
    "object_data"
   ]
  },
  {
   "cell_type": "code",
   "execution_count": 8,
   "metadata": {},
   "outputs": [
    {
     "data": {
      "image/svg+xml": [
       "<svg class=\"main-svg\" xmlns=\"http://www.w3.org/2000/svg\" xmlns:xlink=\"http://www.w3.org/1999/xlink\" width=\"700\" height=\"450\" style=\"\" viewBox=\"0 0 700 450\"><rect x=\"0\" y=\"0\" width=\"700\" height=\"450\" style=\"fill: rgb(255, 255, 255); fill-opacity: 1;\"/><defs id=\"defs-fd19fe\"><g class=\"clips\"><clipPath id=\"clipfd19fexyplot\" class=\"plotclip\"><rect width=\"521\" height=\"139\"/></clipPath><clipPath class=\"axesclip\" id=\"clipfd19fex\"><rect x=\"80\" y=\"0\" width=\"521\" height=\"450\"/></clipPath><clipPath class=\"axesclip\" id=\"clipfd19fey\"><rect x=\"0\" y=\"100\" width=\"700\" height=\"139\"/></clipPath><clipPath class=\"axesclip\" id=\"clipfd19fexy\"><rect x=\"80\" y=\"100\" width=\"521\" height=\"139\"/></clipPath></g><g class=\"gradients\"/></defs><g class=\"bglayer\"><rect class=\"bg\" x=\"80\" y=\"100\" width=\"521\" height=\"139\" style=\"fill: rgb(229, 236, 246); fill-opacity: 1; stroke-width: 0;\"/></g><g class=\"layer-below\"><g class=\"imagelayer\"/><g class=\"shapelayer\"/></g><g class=\"cartesianlayer\"><g class=\"subplot xy\"><g class=\"layer-subplot\"><g class=\"shapelayer\"/><g class=\"imagelayer\"/></g><g class=\"gridlayer\"><g class=\"x\"><path class=\"xgrid crisp\" transform=\"translate(108.94,0)\" d=\"M0,100v139\" style=\"stroke: rgb(255, 255, 255); stroke-opacity: 1; stroke-width: 1px;\"/><path class=\"xgrid crisp\" transform=\"translate(166.82999999999998,0)\" d=\"M0,100v139\" style=\"stroke: rgb(255, 255, 255); stroke-opacity: 1; stroke-width: 1px;\"/><path class=\"xgrid crisp\" transform=\"translate(224.72,0)\" d=\"M0,100v139\" style=\"stroke: rgb(255, 255, 255); stroke-opacity: 1; stroke-width: 1px;\"/><path class=\"xgrid crisp\" transform=\"translate(282.61,0)\" d=\"M0,100v139\" style=\"stroke: rgb(255, 255, 255); stroke-opacity: 1; stroke-width: 1px;\"/><path class=\"xgrid crisp\" transform=\"translate(340.5,0)\" d=\"M0,100v139\" style=\"stroke: rgb(255, 255, 255); stroke-opacity: 1; stroke-width: 1px;\"/><path class=\"xgrid crisp\" transform=\"translate(398.39,0)\" d=\"M0,100v139\" style=\"stroke: rgb(255, 255, 255); stroke-opacity: 1; stroke-width: 1px;\"/><path class=\"xgrid crisp\" transform=\"translate(456.28,0)\" d=\"M0,100v139\" style=\"stroke: rgb(255, 255, 255); stroke-opacity: 1; stroke-width: 1px;\"/><path class=\"xgrid crisp\" transform=\"translate(514.1700000000001,0)\" d=\"M0,100v139\" style=\"stroke: rgb(255, 255, 255); stroke-opacity: 1; stroke-width: 1px;\"/><path class=\"xgrid crisp\" transform=\"translate(572.06,0)\" d=\"M0,100v139\" style=\"stroke: rgb(255, 255, 255); stroke-opacity: 1; stroke-width: 1px;\"/></g><g class=\"y\"><path class=\"ygrid crisp\" transform=\"translate(0,205.73000000000002)\" d=\"M80,0h521\" style=\"stroke: rgb(255, 255, 255); stroke-opacity: 1; stroke-width: 1px;\"/><path class=\"ygrid crisp\" transform=\"translate(0,172.45999999999998)\" d=\"M80,0h521\" style=\"stroke: rgb(255, 255, 255); stroke-opacity: 1; stroke-width: 1px;\"/><path class=\"ygrid crisp\" transform=\"translate(0,139.19)\" d=\"M80,0h521\" style=\"stroke: rgb(255, 255, 255); stroke-opacity: 1; stroke-width: 1px;\"/><path class=\"ygrid crisp\" transform=\"translate(0,105.92)\" d=\"M80,0h521\" style=\"stroke: rgb(255, 255, 255); stroke-opacity: 1; stroke-width: 1px;\"/></g></g><g class=\"zerolinelayer\"><path class=\"yzl zl crisp\" transform=\"translate(0,239)\" d=\"M80,0h521\" style=\"stroke: rgb(255, 255, 255); stroke-opacity: 1; stroke-width: 2px;\"/></g><path class=\"xlines-below\"/><path class=\"ylines-below\"/><g class=\"overlines-below\"/><g class=\"xaxislayer-below\"/><g class=\"yaxislayer-below\"/><g class=\"overaxes-below\"/><g class=\"plot\" transform=\"translate(80, 100)\" clip-path=\"url('#clipfd19fexyplot')\"><g class=\"barlayer mlayer\"><g class=\"trace bars\" style=\"opacity: 1;\"><g class=\"points\"><g class=\"point\"><path d=\"M5.79,139V6.95H52.1V139Z\" style=\"vector-effect: non-scaling-stroke; opacity: 1; stroke-width: 0.5px; fill: rgb(99, 110, 250); fill-opacity: 1; stroke: rgb(229, 236, 246); stroke-opacity: 1;\"/></g><g class=\"point\"><path d=\"M63.68,139V82.97H109.99V139Z\" style=\"vector-effect: non-scaling-stroke; opacity: 1; stroke-width: 0.5px; fill: rgb(99, 110, 250); fill-opacity: 1; stroke: rgb(229, 236, 246); stroke-opacity: 1;\"/></g><g class=\"point\"><path d=\"M121.57,139V89.53H167.88V139Z\" style=\"vector-effect: non-scaling-stroke; opacity: 1; stroke-width: 0.5px; fill: rgb(99, 110, 250); fill-opacity: 1; stroke: rgb(229, 236, 246); stroke-opacity: 1;\"/></g><g class=\"point\"><path d=\"M179.46,139V97.38H225.77V139Z\" style=\"vector-effect: non-scaling-stroke; opacity: 1; stroke-width: 0.5px; fill: rgb(99, 110, 250); fill-opacity: 1; stroke: rgb(229, 236, 246); stroke-opacity: 1;\"/></g><g class=\"point\"><path d=\"M237.34,139V120.47H283.66V139Z\" style=\"vector-effect: non-scaling-stroke; opacity: 1; stroke-width: 0.5px; fill: rgb(99, 110, 250); fill-opacity: 1; stroke: rgb(229, 236, 246); stroke-opacity: 1;\"/></g><g class=\"point\"><path d=\"M295.23,139V126.32H341.54V139Z\" style=\"vector-effect: non-scaling-stroke; opacity: 1; stroke-width: 0.5px; fill: rgb(99, 110, 250); fill-opacity: 1; stroke: rgb(229, 236, 246); stroke-opacity: 1;\"/></g><g class=\"point\"><path d=\"M353.12,139V130.38H399.43V139Z\" style=\"vector-effect: non-scaling-stroke; opacity: 1; stroke-width: 0.5px; fill: rgb(99, 110, 250); fill-opacity: 1; stroke: rgb(229, 236, 246); stroke-opacity: 1;\"/></g><g class=\"point\"><path d=\"M411.01,139V131.21H457.32V139Z\" style=\"vector-effect: non-scaling-stroke; opacity: 1; stroke-width: 0.5px; fill: rgb(99, 110, 250); fill-opacity: 1; stroke: rgb(229, 236, 246); stroke-opacity: 1;\"/></g><g class=\"point\"><path d=\"M468.9,139V133.08H515.21V139Z\" style=\"vector-effect: non-scaling-stroke; opacity: 1; stroke-width: 0.5px; fill: rgb(99, 110, 250); fill-opacity: 1; stroke: rgb(229, 236, 246); stroke-opacity: 1;\"/></g></g></g></g></g><g class=\"overplot\"/><path class=\"xlines-above crisp\" d=\"M79,239.5H601\" style=\"fill: none; stroke-width: 1px; stroke: rgb(255, 255, 255); stroke-opacity: 1;\"/><path class=\"ylines-above crisp\" d=\"M79.5,100V239\" style=\"fill: none; stroke-width: 1px; stroke: rgb(255, 255, 255); stroke-opacity: 1;\"/><g class=\"overlines-above\"/><g class=\"xaxislayer-above\"><g class=\"xtick\"><text text-anchor=\"start\" x=\"0\" y=\"254.4\" transform=\"translate(108.94,0) rotate(45,0,248.4)\" style=\"font-family: 'Open Sans', verdana, arial, sans-serif; font-size: 12px; fill: rgb(42, 63, 95); fill-opacity: 1; white-space: pre;\">кафе</text></g><g class=\"xtick\"><text text-anchor=\"start\" x=\"0\" y=\"254.4\" transform=\"translate(166.82999999999998,0) rotate(45,0,248.4)\" style=\"font-family: 'Open Sans', verdana, arial, sans-serif; font-size: 12px; fill: rgb(42, 63, 95); fill-opacity: 1; white-space: pre;\">столовая</text></g><g class=\"xtick\"><text text-anchor=\"start\" x=\"0\" y=\"254.4\" transform=\"translate(224.72,0) rotate(45,0,248.4)\" style=\"font-family: 'Open Sans', verdana, arial, sans-serif; font-size: 12px; fill: rgb(42, 63, 95); fill-opacity: 1; white-space: pre;\">ресторан</text></g><g class=\"xtick\"><text text-anchor=\"start\" x=\"0\" y=\"254.4\" transform=\"translate(282.61,0) rotate(45,0,248.4)\" style=\"font-family: 'Open Sans', verdana, arial, sans-serif; font-size: 12px; fill: rgb(42, 63, 95); fill-opacity: 1; white-space: pre;\">предприятие быстрого обслуживания</text></g><g class=\"xtick\"><text text-anchor=\"start\" x=\"0\" y=\"254.4\" transform=\"translate(340.5,0) rotate(45,0,248.4)\" style=\"font-family: 'Open Sans', verdana, arial, sans-serif; font-size: 12px; fill: rgb(42, 63, 95); fill-opacity: 1; white-space: pre;\">бар</text></g><g class=\"xtick\"><text text-anchor=\"start\" x=\"0\" y=\"254.4\" transform=\"translate(398.39,0) rotate(45,0,248.4)\" style=\"font-family: 'Open Sans', verdana, arial, sans-serif; font-size: 12px; fill: rgb(42, 63, 95); fill-opacity: 1; white-space: pre;\">буфет</text></g><g class=\"xtick\"><text text-anchor=\"start\" x=\"0\" y=\"254.4\" transform=\"translate(456.28,0) rotate(45,0,248.4)\" style=\"font-family: 'Open Sans', verdana, arial, sans-serif; font-size: 12px; fill: rgb(42, 63, 95); fill-opacity: 1; white-space: pre;\">кафетерий</text></g><g class=\"xtick\"><text text-anchor=\"start\" x=\"0\" y=\"254.4\" transform=\"translate(514.1700000000001,0) rotate(45,0,248.4)\" style=\"font-family: 'Open Sans', verdana, arial, sans-serif; font-size: 12px; fill: rgb(42, 63, 95); fill-opacity: 1; white-space: pre;\">закусочная</text></g><g class=\"xtick\"><text text-anchor=\"start\" x=\"0\" y=\"254.4\" transform=\"translate(572.06,0) rotate(45,0,248.4)\" style=\"font-family: 'Open Sans', verdana, arial, sans-serif; font-size: 12px; fill: rgb(42, 63, 95); fill-opacity: 1; white-space: pre;\">магазин (отдел кулинарии)</text></g></g><g class=\"yaxislayer-above\"><g class=\"ytick\"><text text-anchor=\"end\" x=\"76.6\" y=\"4.199999999999999\" transform=\"translate(0,239)\" style=\"font-family: 'Open Sans', verdana, arial, sans-serif; font-size: 12px; fill: rgb(42, 63, 95); fill-opacity: 1; white-space: pre;\">0</text></g><g class=\"ytick\"><text text-anchor=\"end\" x=\"76.6\" y=\"4.199999999999999\" transform=\"translate(0,205.73000000000002)\" style=\"font-family: 'Open Sans', verdana, arial, sans-serif; font-size: 12px; fill: rgb(42, 63, 95); fill-opacity: 1; white-space: pre;\">10</text></g><g class=\"ytick\"><text text-anchor=\"end\" x=\"76.6\" y=\"4.199999999999999\" transform=\"translate(0,172.45999999999998)\" style=\"font-family: 'Open Sans', verdana, arial, sans-serif; font-size: 12px; fill: rgb(42, 63, 95); fill-opacity: 1; white-space: pre;\">20</text></g><g class=\"ytick\"><text text-anchor=\"end\" x=\"76.6\" y=\"4.199999999999999\" transform=\"translate(0,139.19)\" style=\"font-family: 'Open Sans', verdana, arial, sans-serif; font-size: 12px; fill: rgb(42, 63, 95); fill-opacity: 1; white-space: pre;\">30</text></g><g class=\"ytick\"><text text-anchor=\"end\" x=\"76.6\" y=\"4.199999999999999\" transform=\"translate(0,105.92)\" style=\"font-family: 'Open Sans', verdana, arial, sans-serif; font-size: 12px; fill: rgb(42, 63, 95); fill-opacity: 1; white-space: pre;\">40</text></g></g><g class=\"overaxes-above\"/></g></g><g class=\"polarlayer\"/><g class=\"ternarylayer\"/><g class=\"geolayer\"/><g class=\"funnelarealayer\"/><g class=\"pielayer\"/><g class=\"treemaplayer\"/><g class=\"sunburstlayer\"/><g class=\"glimages\"/><defs id=\"topdefs-fd19fe\"><g class=\"clips\"/></defs><g class=\"layer-above\"><g class=\"imagelayer\"/><g class=\"shapelayer\"/></g><g class=\"infolayer\"><g class=\"g-gtitle\"><text class=\"gtitle\" x=\"35\" y=\"50\" text-anchor=\"start\" dy=\"0em\" style=\"font-family: 'Open Sans', verdana, arial, sans-serif; font-size: 17px; fill: rgb(42, 63, 95); opacity: 1; font-weight: normal; white-space: pre;\">Cоотношение видов объектов общественного питания в процентах (%)</text></g><g class=\"g-xtitle\"><text class=\"xtitle\" x=\"340.5\" y=\"437.51817016601564\" text-anchor=\"middle\" style=\"font-family: 'Open Sans', verdana, arial, sans-serif; font-size: 14px; fill: rgb(42, 63, 95); opacity: 1; font-weight: normal; white-space: pre;\">object_type</text></g><g class=\"g-ytitle\"><text class=\"ytitle\" transform=\"rotate(-90,38.075,169.5)\" x=\"38.075\" y=\"169.5\" text-anchor=\"middle\" style=\"font-family: 'Open Sans', verdana, arial, sans-serif; font-size: 14px; fill: rgb(42, 63, 95); opacity: 1; font-weight: normal; white-space: pre;\">propotrion</text></g></g></svg>"
      ]
     },
     "metadata": {},
     "output_type": "display_data"
    }
   ],
   "source": [
    "fig = px.bar(object_data.sort_values(by='propotrion', ascending=False), \n",
    "             x='object_type', y='propotrion', \n",
    "             title='Cоотношение видов объектов общественного питания в процентах (%)')\n",
    "fig.update_xaxes(tickangle=45)\n",
    "fig.show()"
   ]
  },
  {
   "cell_type": "markdown",
   "metadata": {},
   "source": [
    "39,7% - кафе, 16,8% - столовая, 14,9% - закусочная, 12,5% - предприятие быстрого обслуживания. Я удивлена, что увидела столовую и закусочную в топ-3. А ресторанов всего 5,57%"
   ]
  },
  {
   "cell_type": "markdown",
   "metadata": {},
   "source": [
    "Исследуем соотношение сетевых и несетевых заведений по количеству:"
   ]
  },
  {
   "cell_type": "code",
   "execution_count": 9,
   "metadata": {},
   "outputs": [
    {
     "data": {
      "text/html": [
       "<div>\n",
       "<style scoped>\n",
       "    .dataframe tbody tr th:only-of-type {\n",
       "        vertical-align: middle;\n",
       "    }\n",
       "\n",
       "    .dataframe tbody tr th {\n",
       "        vertical-align: top;\n",
       "    }\n",
       "\n",
       "    .dataframe thead th {\n",
       "        text-align: right;\n",
       "    }\n",
       "</style>\n",
       "<table border=\"1\" class=\"dataframe\">\n",
       "  <thead>\n",
       "    <tr style=\"text-align: right;\">\n",
       "      <th></th>\n",
       "      <th>id</th>\n",
       "      <th>object_name</th>\n",
       "      <th>chain</th>\n",
       "      <th>object_type</th>\n",
       "      <th>address</th>\n",
       "      <th>number</th>\n",
       "    </tr>\n",
       "  </thead>\n",
       "  <tbody>\n",
       "    <tr>\n",
       "      <th>15320</th>\n",
       "      <td>204987</td>\n",
       "      <td>Милти</td>\n",
       "      <td>да</td>\n",
       "      <td>кафе</td>\n",
       "      <td>город Москва, Большая Серпуховская улица, дом ...</td>\n",
       "      <td>6</td>\n",
       "    </tr>\n",
       "  </tbody>\n",
       "</table>\n",
       "</div>"
      ],
      "text/plain": [
       "           id object_name chain object_type  \\\n",
       "15320  204987       Милти    да        кафе   \n",
       "\n",
       "                                                 address  number  \n",
       "15320  город Москва, Большая Серпуховская улица, дом ...       6  "
      ]
     },
     "execution_count": 9,
     "metadata": {},
     "output_type": "execute_result"
    }
   ],
   "source": [
    "rest_data.sample()"
   ]
  },
  {
   "cell_type": "code",
   "execution_count": 10,
   "metadata": {},
   "outputs": [
    {
     "data": {
      "text/html": [
       "<div>\n",
       "<style scoped>\n",
       "    .dataframe tbody tr th:only-of-type {\n",
       "        vertical-align: middle;\n",
       "    }\n",
       "\n",
       "    .dataframe tbody tr th {\n",
       "        vertical-align: top;\n",
       "    }\n",
       "\n",
       "    .dataframe thead th {\n",
       "        text-align: right;\n",
       "    }\n",
       "</style>\n",
       "<table border=\"1\" class=\"dataframe\">\n",
       "  <thead>\n",
       "    <tr style=\"text-align: right;\">\n",
       "      <th></th>\n",
       "      <th>chain</th>\n",
       "      <th>id</th>\n",
       "      <th>propotrion</th>\n",
       "    </tr>\n",
       "  </thead>\n",
       "  <tbody>\n",
       "    <tr>\n",
       "      <th>0</th>\n",
       "      <td>да</td>\n",
       "      <td>2968</td>\n",
       "      <td>19.32</td>\n",
       "    </tr>\n",
       "    <tr>\n",
       "      <th>1</th>\n",
       "      <td>нет</td>\n",
       "      <td>12398</td>\n",
       "      <td>80.68</td>\n",
       "    </tr>\n",
       "  </tbody>\n",
       "</table>\n",
       "</div>"
      ],
      "text/plain": [
       "  chain     id  propotrion\n",
       "0    да   2968       19.32\n",
       "1   нет  12398       80.68"
      ]
     },
     "execution_count": 10,
     "metadata": {},
     "output_type": "execute_result"
    }
   ],
   "source": [
    "chain_data = rest_data.groupby('chain').agg({'id' : 'count'}).reset_index()\n",
    "chain_data.columns = ['chain', 'id']\n",
    "chain_data['propotrion'] = ((chain_data['id']/chain_data['id'].sum()) *100).round(2)\n",
    "chain_data"
   ]
  },
  {
   "cell_type": "code",
   "execution_count": 11,
   "metadata": {},
   "outputs": [
    {
     "data": {
      "image/png": "[encoded data removed]"
     },
     "metadata": {},
     "output_type": "display_data"
    }
   ],
   "source": [
    "fig = px.bar(chain_data.sort_values(by='propotrion', ascending=False), \n",
    "             x='chain', y='propotrion', \n",
    "             title='Cоотношение сетевых и несетевых заведений в процентах (%)')\n",
    "fig.show(\"png\")"
   ]
  },
  {
   "cell_type": "markdown",
   "metadata": {},
   "source": [
    "Только 19,3% всего московского общепита входят - сетевые, остальные 80,7% - нет. "
   ]
  },
  {
   "cell_type": "code",
   "execution_count": 12,
   "metadata": {},
   "outputs": [
    {
     "data": {
      "text/html": [
       "<div>\n",
       "<style scoped>\n",
       "    .dataframe tbody tr th:only-of-type {\n",
       "        vertical-align: middle;\n",
       "    }\n",
       "\n",
       "    .dataframe tbody tr th {\n",
       "        vertical-align: top;\n",
       "    }\n",
       "\n",
       "    .dataframe thead th {\n",
       "        text-align: right;\n",
       "    }\n",
       "</style>\n",
       "<table border=\"1\" class=\"dataframe\">\n",
       "  <thead>\n",
       "    <tr style=\"text-align: right;\">\n",
       "      <th></th>\n",
       "      <th>object_type</th>\n",
       "      <th>id</th>\n",
       "      <th>propotrion</th>\n",
       "    </tr>\n",
       "  </thead>\n",
       "  <tbody>\n",
       "    <tr>\n",
       "      <th>0</th>\n",
       "      <td>бар</td>\n",
       "      <td>37</td>\n",
       "      <td>1.25</td>\n",
       "    </tr>\n",
       "    <tr>\n",
       "      <th>1</th>\n",
       "      <td>буфет</td>\n",
       "      <td>11</td>\n",
       "      <td>0.37</td>\n",
       "    </tr>\n",
       "    <tr>\n",
       "      <th>2</th>\n",
       "      <td>закусочная</td>\n",
       "      <td>56</td>\n",
       "      <td>1.89</td>\n",
       "    </tr>\n",
       "    <tr>\n",
       "      <th>3</th>\n",
       "      <td>кафе</td>\n",
       "      <td>1396</td>\n",
       "      <td>47.04</td>\n",
       "    </tr>\n",
       "    <tr>\n",
       "      <th>4</th>\n",
       "      <td>кафетерий</td>\n",
       "      <td>52</td>\n",
       "      <td>1.75</td>\n",
       "    </tr>\n",
       "    <tr>\n",
       "      <th>5</th>\n",
       "      <td>магазин (отдел кулинарии)</td>\n",
       "      <td>78</td>\n",
       "      <td>2.63</td>\n",
       "    </tr>\n",
       "    <tr>\n",
       "      <th>6</th>\n",
       "      <td>предприятие быстрого обслуживания</td>\n",
       "      <td>791</td>\n",
       "      <td>26.65</td>\n",
       "    </tr>\n",
       "    <tr>\n",
       "      <th>7</th>\n",
       "      <td>ресторан</td>\n",
       "      <td>544</td>\n",
       "      <td>18.33</td>\n",
       "    </tr>\n",
       "    <tr>\n",
       "      <th>8</th>\n",
       "      <td>столовая</td>\n",
       "      <td>3</td>\n",
       "      <td>0.10</td>\n",
       "    </tr>\n",
       "  </tbody>\n",
       "</table>\n",
       "</div>"
      ],
      "text/plain": [
       "                         object_type    id  propotrion\n",
       "0                                бар    37        1.25\n",
       "1                              буфет    11        0.37\n",
       "2                         закусочная    56        1.89\n",
       "3                               кафе  1396       47.04\n",
       "4                          кафетерий    52        1.75\n",
       "5          магазин (отдел кулинарии)    78        2.63\n",
       "6  предприятие быстрого обслуживания   791       26.65\n",
       "7                           ресторан   544       18.33\n",
       "8                           столовая     3        0.10"
      ]
     },
     "execution_count": 12,
     "metadata": {},
     "output_type": "execute_result"
    }
   ],
   "source": [
    "chain_object_data = rest_data.query('chain == \"да\"').groupby('object_type').agg({'id' : 'count'}).reset_index()\n",
    "chain_object_data.columns = ['object_type', 'id']\n",
    "chain_object_data['propotrion'] = ((chain_object_data['id']/chain_object_data['id'].sum()) *100).round(2)\n",
    "chain_object_data"
   ]
  },
  {
   "cell_type": "code",
   "execution_count": 13,
   "metadata": {},
   "outputs": [
    {
     "data": {
      "image/svg+xml": [
       "<svg class=\"main-svg\" xmlns=\"http://www.w3.org/2000/svg\" xmlns:xlink=\"http://www.w3.org/1999/xlink\" width=\"700\" height=\"450\" style=\"\" viewBox=\"0 0 700 450\"><rect x=\"0\" y=\"0\" width=\"700\" height=\"450\" style=\"fill: rgb(255, 255, 255); fill-opacity: 1;\"/><defs id=\"defs-5b8355\"><g class=\"clips\"><clipPath id=\"clip5b8355xyplot\" class=\"plotclip\"><rect width=\"540\" height=\"139\"/></clipPath><clipPath class=\"axesclip\" id=\"clip5b8355x\"><rect x=\"80\" y=\"0\" width=\"540\" height=\"450\"/></clipPath><clipPath class=\"axesclip\" id=\"clip5b8355y\"><rect x=\"0\" y=\"100\" width=\"700\" height=\"139\"/></clipPath><clipPath class=\"axesclip\" id=\"clip5b8355xy\"><rect x=\"80\" y=\"100\" width=\"540\" height=\"139\"/></clipPath></g><g class=\"gradients\"/></defs><g class=\"bglayer\"><rect class=\"bg\" x=\"80\" y=\"100\" width=\"540\" height=\"139\" style=\"fill: rgb(229, 236, 246); fill-opacity: 1; stroke-width: 0;\"/></g><g class=\"layer-below\"><g class=\"imagelayer\"/><g class=\"shapelayer\"/></g><g class=\"cartesianlayer\"><g class=\"subplot xy\"><g class=\"layer-subplot\"><g class=\"shapelayer\"/><g class=\"imagelayer\"/></g><g class=\"gridlayer\"><g class=\"x\"><path class=\"xgrid crisp\" transform=\"translate(110,0)\" d=\"M0,100v139\" style=\"stroke: rgb(255, 255, 255); stroke-opacity: 1; stroke-width: 1px;\"/><path class=\"xgrid crisp\" transform=\"translate(170,0)\" d=\"M0,100v139\" style=\"stroke: rgb(255, 255, 255); stroke-opacity: 1; stroke-width: 1px;\"/><path class=\"xgrid crisp\" transform=\"translate(230,0)\" d=\"M0,100v139\" style=\"stroke: rgb(255, 255, 255); stroke-opacity: 1; stroke-width: 1px;\"/><path class=\"xgrid crisp\" transform=\"translate(290,0)\" d=\"M0,100v139\" style=\"stroke: rgb(255, 255, 255); stroke-opacity: 1; stroke-width: 1px;\"/><path class=\"xgrid crisp\" transform=\"translate(350,0)\" d=\"M0,100v139\" style=\"stroke: rgb(255, 255, 255); stroke-opacity: 1; stroke-width: 1px;\"/><path class=\"xgrid crisp\" transform=\"translate(410,0)\" d=\"M0,100v139\" style=\"stroke: rgb(255, 255, 255); stroke-opacity: 1; stroke-width: 1px;\"/><path class=\"xgrid crisp\" transform=\"translate(470,0)\" d=\"M0,100v139\" style=\"stroke: rgb(255, 255, 255); stroke-opacity: 1; stroke-width: 1px;\"/><path class=\"xgrid crisp\" transform=\"translate(530,0)\" d=\"M0,100v139\" style=\"stroke: rgb(255, 255, 255); stroke-opacity: 1; stroke-width: 1px;\"/><path class=\"xgrid crisp\" transform=\"translate(590,0)\" d=\"M0,100v139\" style=\"stroke: rgb(255, 255, 255); stroke-opacity: 1; stroke-width: 1px;\"/></g><g class=\"y\"><path class=\"ygrid crisp\" transform=\"translate(0,210.93)\" d=\"M80,0h540\" style=\"stroke: rgb(255, 255, 255); stroke-opacity: 1; stroke-width: 1px;\"/><path class=\"ygrid crisp\" transform=\"translate(0,182.86)\" d=\"M80,0h540\" style=\"stroke: rgb(255, 255, 255); stroke-opacity: 1; stroke-width: 1px;\"/><path class=\"ygrid crisp\" transform=\"translate(0,154.78)\" d=\"M80,0h540\" style=\"stroke: rgb(255, 255, 255); stroke-opacity: 1; stroke-width: 1px;\"/><path class=\"ygrid crisp\" transform=\"translate(0,126.71000000000001)\" d=\"M80,0h540\" style=\"stroke: rgb(255, 255, 255); stroke-opacity: 1; stroke-width: 1px;\"/></g></g><g class=\"zerolinelayer\"><path class=\"yzl zl crisp\" transform=\"translate(0,239)\" d=\"M80,0h540\" style=\"stroke: rgb(255, 255, 255); stroke-opacity: 1; stroke-width: 2px;\"/></g><path class=\"xlines-below\"/><path class=\"ylines-below\"/><g class=\"overlines-below\"/><g class=\"xaxislayer-below\"/><g class=\"yaxislayer-below\"/><g class=\"overaxes-below\"/><g class=\"plot\" transform=\"translate(80, 100)\" clip-path=\"url('#clip5b8355xyplot')\"><g class=\"barlayer mlayer\"><g class=\"trace bars\" style=\"opacity: 1;\"><g class=\"points\"><g class=\"point\"><path d=\"M6,139V6.95H54V139Z\" style=\"vector-effect: non-scaling-stroke; opacity: 1; stroke-width: 0.5px; fill: rgb(99, 110, 250); fill-opacity: 1; stroke: rgb(229, 236, 246); stroke-opacity: 1;\"/></g><g class=\"point\"><path d=\"M66,139V64.19H114V139Z\" style=\"vector-effect: non-scaling-stroke; opacity: 1; stroke-width: 0.5px; fill: rgb(99, 110, 250); fill-opacity: 1; stroke: rgb(229, 236, 246); stroke-opacity: 1;\"/></g><g class=\"point\"><path d=\"M126,139V87.54H174V139Z\" style=\"vector-effect: non-scaling-stroke; opacity: 1; stroke-width: 0.5px; fill: rgb(99, 110, 250); fill-opacity: 1; stroke: rgb(229, 236, 246); stroke-opacity: 1;\"/></g><g class=\"point\"><path d=\"M186,139V131.62H234V139Z\" style=\"vector-effect: non-scaling-stroke; opacity: 1; stroke-width: 0.5px; fill: rgb(99, 110, 250); fill-opacity: 1; stroke: rgb(229, 236, 246); stroke-opacity: 1;\"/></g><g class=\"point\"><path d=\"M246,139V133.69H294V139Z\" style=\"vector-effect: non-scaling-stroke; opacity: 1; stroke-width: 0.5px; fill: rgb(99, 110, 250); fill-opacity: 1; stroke: rgb(229, 236, 246); stroke-opacity: 1;\"/></g><g class=\"point\"><path d=\"M306,139V134.09H354V139Z\" style=\"vector-effect: non-scaling-stroke; opacity: 1; stroke-width: 0.5px; fill: rgb(99, 110, 250); fill-opacity: 1; stroke: rgb(229, 236, 246); stroke-opacity: 1;\"/></g><g class=\"point\"><path d=\"M366,139V135.49H414V139Z\" style=\"vector-effect: non-scaling-stroke; opacity: 1; stroke-width: 0.5px; fill: rgb(99, 110, 250); fill-opacity: 1; stroke: rgb(229, 236, 246); stroke-opacity: 1;\"/></g><g class=\"point\"><path d=\"M426,139V137.96H474V139Z\" style=\"vector-effect: non-scaling-stroke; opacity: 1; stroke-width: 0.5px; fill: rgb(99, 110, 250); fill-opacity: 1; stroke: rgb(229, 236, 246); stroke-opacity: 1;\"/></g><g class=\"point\"><path d=\"M486,139V138.72H534V139Z\" style=\"vector-effect: non-scaling-stroke; opacity: 1; stroke-width: 0.5px; fill: rgb(99, 110, 250); fill-opacity: 1; stroke: rgb(229, 236, 246); stroke-opacity: 1;\"/></g></g></g></g></g><g class=\"overplot\"/><path class=\"xlines-above crisp\" d=\"M79,239.5H620\" style=\"fill: none; stroke-width: 1px; stroke: rgb(255, 255, 255); stroke-opacity: 1;\"/><path class=\"ylines-above crisp\" d=\"M79.5,100V239\" style=\"fill: none; stroke-width: 1px; stroke: rgb(255, 255, 255); stroke-opacity: 1;\"/><g class=\"overlines-above\"/><g class=\"xaxislayer-above\"><g class=\"xtick\"><text text-anchor=\"start\" x=\"0\" y=\"254.4\" transform=\"translate(110,0) rotate(45,0,248.4)\" style=\"font-family: 'Open Sans', verdana, arial, sans-serif; font-size: 12px; fill: rgb(42, 63, 95); fill-opacity: 1; white-space: pre;\">кафе</text></g><g class=\"xtick\"><text text-anchor=\"start\" x=\"0\" y=\"254.4\" transform=\"translate(170,0) rotate(45,0,248.4)\" style=\"font-family: 'Open Sans', verdana, arial, sans-serif; font-size: 12px; fill: rgb(42, 63, 95); fill-opacity: 1; white-space: pre;\">предприятие быстрого обслуживания</text></g><g class=\"xtick\"><text text-anchor=\"start\" x=\"0\" y=\"254.4\" transform=\"translate(230,0) rotate(45,0,248.4)\" style=\"font-family: 'Open Sans', verdana, arial, sans-serif; font-size: 12px; fill: rgb(42, 63, 95); fill-opacity: 1; white-space: pre;\">ресторан</text></g><g class=\"xtick\"><text text-anchor=\"start\" x=\"0\" y=\"254.4\" transform=\"translate(290,0) rotate(45,0,248.4)\" style=\"font-family: 'Open Sans', verdana, arial, sans-serif; font-size: 12px; fill: rgb(42, 63, 95); fill-opacity: 1; white-space: pre;\">магазин (отдел кулинарии)</text></g><g class=\"xtick\"><text text-anchor=\"start\" x=\"0\" y=\"254.4\" transform=\"translate(350,0) rotate(45,0,248.4)\" style=\"font-family: 'Open Sans', verdana, arial, sans-serif; font-size: 12px; fill: rgb(42, 63, 95); fill-opacity: 1; white-space: pre;\">закусочная</text></g><g class=\"xtick\"><text text-anchor=\"start\" x=\"0\" y=\"254.4\" transform=\"translate(410,0) rotate(45,0,248.4)\" style=\"font-family: 'Open Sans', verdana, arial, sans-serif; font-size: 12px; fill: rgb(42, 63, 95); fill-opacity: 1; white-space: pre;\">кафетерий</text></g><g class=\"xtick\"><text text-anchor=\"start\" x=\"0\" y=\"254.4\" transform=\"translate(470,0) rotate(45,0,248.4)\" style=\"font-family: 'Open Sans', verdana, arial, sans-serif; font-size: 12px; fill: rgb(42, 63, 95); fill-opacity: 1; white-space: pre;\">бар</text></g><g class=\"xtick\"><text text-anchor=\"start\" x=\"0\" y=\"254.4\" transform=\"translate(530,0) rotate(45,0,248.4)\" style=\"font-family: 'Open Sans', verdana, arial, sans-serif; font-size: 12px; fill: rgb(42, 63, 95); fill-opacity: 1; white-space: pre;\">буфет</text></g><g class=\"xtick\"><text text-anchor=\"start\" x=\"0\" y=\"254.4\" transform=\"translate(590,0) rotate(45,0,248.4)\" style=\"font-family: 'Open Sans', verdana, arial, sans-serif; font-size: 12px; fill: rgb(42, 63, 95); fill-opacity: 1; white-space: pre;\">столовая</text></g></g><g class=\"yaxislayer-above\"><g class=\"ytick\"><text text-anchor=\"end\" x=\"76.6\" y=\"4.199999999999999\" transform=\"translate(0,239)\" style=\"font-family: 'Open Sans', verdana, arial, sans-serif; font-size: 12px; fill: rgb(42, 63, 95); fill-opacity: 1; white-space: pre;\">0</text></g><g class=\"ytick\"><text text-anchor=\"end\" x=\"76.6\" y=\"4.199999999999999\" transform=\"translate(0,210.93)\" style=\"font-family: 'Open Sans', verdana, arial, sans-serif; font-size: 12px; fill: rgb(42, 63, 95); fill-opacity: 1; white-space: pre;\">10</text></g><g class=\"ytick\"><text text-anchor=\"end\" x=\"76.6\" y=\"4.199999999999999\" transform=\"translate(0,182.86)\" style=\"font-family: 'Open Sans', verdana, arial, sans-serif; font-size: 12px; fill: rgb(42, 63, 95); fill-opacity: 1; white-space: pre;\">20</text></g><g class=\"ytick\"><text text-anchor=\"end\" x=\"76.6\" y=\"4.199999999999999\" transform=\"translate(0,154.78)\" style=\"font-family: 'Open Sans', verdana, arial, sans-serif; font-size: 12px; fill: rgb(42, 63, 95); fill-opacity: 1; white-space: pre;\">30</text></g><g class=\"ytick\"><text text-anchor=\"end\" x=\"76.6\" y=\"4.199999999999999\" transform=\"translate(0,126.71000000000001)\" style=\"font-family: 'Open Sans', verdana, arial, sans-serif; font-size: 12px; fill: rgb(42, 63, 95); fill-opacity: 1; white-space: pre;\">40</text></g></g><g class=\"overaxes-above\"/></g></g><g class=\"polarlayer\"/><g class=\"ternarylayer\"/><g class=\"geolayer\"/><g class=\"funnelarealayer\"/><g class=\"pielayer\"/><g class=\"treemaplayer\"/><g class=\"sunburstlayer\"/><g class=\"glimages\"/><defs id=\"topdefs-5b8355\"><g class=\"clips\"/></defs><g class=\"layer-above\"><g class=\"imagelayer\"/><g class=\"shapelayer\"/></g><g class=\"infolayer\"><g class=\"g-gtitle\"><text class=\"gtitle\" x=\"35\" y=\"50\" text-anchor=\"start\" dy=\"0em\" style=\"font-family: 'Open Sans', verdana, arial, sans-serif; font-size: 17px; fill: rgb(42, 63, 95); opacity: 1; font-weight: normal; white-space: pre;\">Cоотношение видов сетевых объектов общественного питания, (%)</text></g><g class=\"g-xtitle\"><text class=\"xtitle\" x=\"350\" y=\"437.51817016601564\" text-anchor=\"middle\" style=\"font-family: 'Open Sans', verdana, arial, sans-serif; font-size: 14px; fill: rgb(42, 63, 95); opacity: 1; font-weight: normal; white-space: pre;\">object_type</text></g><g class=\"g-ytitle\"><text class=\"ytitle\" transform=\"rotate(-90,38.075,169.5)\" x=\"38.075\" y=\"169.5\" text-anchor=\"middle\" style=\"font-family: 'Open Sans', verdana, arial, sans-serif; font-size: 14px; fill: rgb(42, 63, 95); opacity: 1; font-weight: normal; white-space: pre;\">propotrion</text></g></g></svg>"
      ]
     },
     "metadata": {},
     "output_type": "display_data"
    }
   ],
   "source": [
    "fig = px.bar(chain_object_data.sort_values(by='propotrion', ascending=False), \n",
    "             x='object_type', y='propotrion', \n",
    "             title='Cоотношение видов сетевых объектов общественного питания, (%)')\n",
    "fig.update_xaxes(tickangle=45)\n",
    "fig.show()"
   ]
  },
  {
   "cell_type": "markdown",
   "metadata": {},
   "source": [
    "Соотношение видов сетевого общепита выглядит так: 47% - кафе, 26,65% - фаст-фуд, 18,3% - рестораны. \n",
    "\n",
    "Изучим соотношение сетевых и несетевых объектов питания:"
   ]
  },
  {
   "cell_type": "code",
   "execution_count": 14,
   "metadata": {},
   "outputs": [
    {
     "data": {
      "text/html": [
       "<div>\n",
       "<style scoped>\n",
       "    .dataframe tbody tr th:only-of-type {\n",
       "        vertical-align: middle;\n",
       "    }\n",
       "\n",
       "    .dataframe tbody tr th {\n",
       "        vertical-align: top;\n",
       "    }\n",
       "\n",
       "    .dataframe thead th {\n",
       "        text-align: right;\n",
       "    }\n",
       "</style>\n",
       "<table border=\"1\" class=\"dataframe\">\n",
       "  <thead>\n",
       "    <tr style=\"text-align: right;\">\n",
       "      <th></th>\n",
       "      <th>object_type</th>\n",
       "      <th>chain</th>\n",
       "      <th>cnt</th>\n",
       "      <th>cnt_all</th>\n",
       "    </tr>\n",
       "  </thead>\n",
       "  <tbody>\n",
       "    <tr>\n",
       "      <th>6</th>\n",
       "      <td>кафе</td>\n",
       "      <td>да</td>\n",
       "      <td>1396</td>\n",
       "      <td>6099</td>\n",
       "    </tr>\n",
       "    <tr>\n",
       "      <th>7</th>\n",
       "      <td>кафе</td>\n",
       "      <td>нет</td>\n",
       "      <td>4703</td>\n",
       "      <td>6099</td>\n",
       "    </tr>\n",
       "    <tr>\n",
       "      <th>17</th>\n",
       "      <td>столовая</td>\n",
       "      <td>нет</td>\n",
       "      <td>2584</td>\n",
       "      <td>2587</td>\n",
       "    </tr>\n",
       "    <tr>\n",
       "      <th>16</th>\n",
       "      <td>столовая</td>\n",
       "      <td>да</td>\n",
       "      <td>3</td>\n",
       "      <td>2587</td>\n",
       "    </tr>\n",
       "    <tr>\n",
       "      <th>15</th>\n",
       "      <td>ресторан</td>\n",
       "      <td>нет</td>\n",
       "      <td>1741</td>\n",
       "      <td>2285</td>\n",
       "    </tr>\n",
       "  </tbody>\n",
       "</table>\n",
       "</div>"
      ],
      "text/plain": [
       "   object_type chain   cnt  cnt_all\n",
       "6         кафе    да  1396     6099\n",
       "7         кафе   нет  4703     6099\n",
       "17    столовая   нет  2584     2587\n",
       "16    столовая    да     3     2587\n",
       "15    ресторан   нет  1741     2285"
      ]
     },
     "metadata": {},
     "output_type": "display_data"
    }
   ],
   "source": [
    "tmp1 = rest_data\\\n",
    "    .groupby(['object_type'], as_index=False)\\\n",
    "    .agg({'id':'count'})\\\n",
    "    .rename(columns={'id':'cnt_all'})\n",
    "\n",
    "tmp = rest_data\\\n",
    "    .groupby(['object_type', 'chain'], as_index=False)\\\n",
    "    .agg({'id':'count'})\\\n",
    "    .rename(columns={'id':'cnt'})\\\n",
    "    .merge(\n",
    "        tmp1, on='object_type', how='inner'\n",
    "    ).sort_values(by='cnt_all', ascending=False)\n",
    "display(tmp.head())"
   ]
  },
  {
   "cell_type": "code",
   "execution_count": 15,
   "metadata": {},
   "outputs": [
    {
     "data": {
      "image/svg+xml": [
       "<svg class=\"main-svg\" xmlns=\"http://www.w3.org/2000/svg\" xmlns:xlink=\"http://www.w3.org/1999/xlink\" width=\"700\" height=\"450\" style=\"\" viewBox=\"0 0 700 450\"><rect x=\"0\" y=\"0\" width=\"700\" height=\"450\" style=\"fill: rgb(255, 255, 255); fill-opacity: 1;\"/><defs id=\"defs-23dafa\"><g class=\"clips\"><clipPath id=\"clip23dafaxyplot\" class=\"plotclip\"><rect width=\"494\" height=\"184\"/></clipPath><clipPath class=\"axesclip\" id=\"clip23dafax\"><rect x=\"80\" y=\"0\" width=\"494\" height=\"450\"/></clipPath><clipPath class=\"axesclip\" id=\"clip23dafay\"><rect x=\"0\" y=\"100\" width=\"700\" height=\"184\"/></clipPath><clipPath class=\"axesclip\" id=\"clip23dafaxy\"><rect x=\"80\" y=\"100\" width=\"494\" height=\"184\"/></clipPath></g><g class=\"gradients\"/></defs><g class=\"bglayer\"><rect class=\"bg\" x=\"80\" y=\"100\" width=\"494\" height=\"184\" style=\"fill: rgb(229, 236, 246); fill-opacity: 1; stroke-width: 0;\"/></g><g class=\"layer-below\"><g class=\"imagelayer\"/><g class=\"shapelayer\"/></g><g class=\"cartesianlayer\"><g class=\"subplot xy\"><g class=\"layer-subplot\"><g class=\"shapelayer\"/><g class=\"imagelayer\"/></g><g class=\"gridlayer\"><g class=\"x\"><path class=\"xgrid crisp\" transform=\"translate(107.44,0)\" d=\"M0,100v184\" style=\"stroke: rgb(255, 255, 255); stroke-opacity: 1; stroke-width: 1px;\"/><path class=\"xgrid crisp\" transform=\"translate(162.32999999999998,0)\" d=\"M0,100v184\" style=\"stroke: rgb(255, 255, 255); stroke-opacity: 1; stroke-width: 1px;\"/><path class=\"xgrid crisp\" transform=\"translate(217.22,0)\" d=\"M0,100v184\" style=\"stroke: rgb(255, 255, 255); stroke-opacity: 1; stroke-width: 1px;\"/><path class=\"xgrid crisp\" transform=\"translate(272.11,0)\" d=\"M0,100v184\" style=\"stroke: rgb(255, 255, 255); stroke-opacity: 1; stroke-width: 1px;\"/><path class=\"xgrid crisp\" transform=\"translate(327,0)\" d=\"M0,100v184\" style=\"stroke: rgb(255, 255, 255); stroke-opacity: 1; stroke-width: 1px;\"/><path class=\"xgrid crisp\" transform=\"translate(381.89,0)\" d=\"M0,100v184\" style=\"stroke: rgb(255, 255, 255); stroke-opacity: 1; stroke-width: 1px;\"/><path class=\"xgrid crisp\" transform=\"translate(436.78,0)\" d=\"M0,100v184\" style=\"stroke: rgb(255, 255, 255); stroke-opacity: 1; stroke-width: 1px;\"/><path class=\"xgrid crisp\" transform=\"translate(491.67,0)\" d=\"M0,100v184\" style=\"stroke: rgb(255, 255, 255); stroke-opacity: 1; stroke-width: 1px;\"/><path class=\"xgrid crisp\" transform=\"translate(546.56,0)\" d=\"M0,100v184\" style=\"stroke: rgb(255, 255, 255); stroke-opacity: 1; stroke-width: 1px;\"/></g><g class=\"y\"><path class=\"ygrid crisp\" transform=\"translate(0,226.68)\" d=\"M80,0h494\" style=\"stroke: rgb(255, 255, 255); stroke-opacity: 1; stroke-width: 1px;\"/><path class=\"ygrid crisp\" transform=\"translate(0,169.36)\" d=\"M80,0h494\" style=\"stroke: rgb(255, 255, 255); stroke-opacity: 1; stroke-width: 1px;\"/><path class=\"ygrid crisp\" transform=\"translate(0,112.03999999999999)\" d=\"M80,0h494\" style=\"stroke: rgb(255, 255, 255); stroke-opacity: 1; stroke-width: 1px;\"/></g></g><g class=\"zerolinelayer\"><path class=\"yzl zl crisp\" transform=\"translate(0,284)\" d=\"M80,0h494\" style=\"stroke: rgb(255, 255, 255); stroke-opacity: 1; stroke-width: 2px;\"/></g><path class=\"xlines-below\"/><path class=\"ylines-below\"/><g class=\"overlines-below\"/><g class=\"xaxislayer-below\"/><g class=\"yaxislayer-below\"/><g class=\"overaxes-below\"/><g class=\"plot\" transform=\"translate(80, 100)\" clip-path=\"url('#clip23dafaxyplot')\"><g class=\"barlayer mlayer\"><g class=\"trace bars\" style=\"opacity: 1;\"><g class=\"points\"><g class=\"point\"><path d=\"M5.49,184V143.99H49.4V184Z\" style=\"vector-effect: non-scaling-stroke; opacity: 1; stroke-width: 0.5px; fill: rgb(99, 110, 250); fill-opacity: 1; stroke: rgb(229, 236, 246); stroke-opacity: 1;\"/></g><g class=\"point\"><path d=\"M60.38,184V183.91H104.29V184Z\" style=\"vector-effect: non-scaling-stroke; opacity: 1; stroke-width: 0.5px; fill: rgb(99, 110, 250); fill-opacity: 1; stroke: rgb(229, 236, 246); stroke-opacity: 1;\"/></g><g class=\"point\"><path d=\"M115.27,184V168.41H159.18V184Z\" style=\"vector-effect: non-scaling-stroke; opacity: 1; stroke-width: 0.5px; fill: rgb(99, 110, 250); fill-opacity: 1; stroke: rgb(229, 236, 246); stroke-opacity: 1;\"/></g><g class=\"point\"><path d=\"M170.16,184V161.33H214.07V184Z\" style=\"vector-effect: non-scaling-stroke; opacity: 1; stroke-width: 0.5px; fill: rgb(99, 110, 250); fill-opacity: 1; stroke: rgb(229, 236, 246); stroke-opacity: 1;\"/></g><g class=\"point\"><path d=\"M225.04,184V182.94H268.96V184Z\" style=\"vector-effect: non-scaling-stroke; opacity: 1; stroke-width: 0.5px; fill: rgb(99, 110, 250); fill-opacity: 1; stroke: rgb(229, 236, 246); stroke-opacity: 1;\"/></g><g class=\"point\"><path d=\"M279.93,184V183.68H323.84V184Z\" style=\"vector-effect: non-scaling-stroke; opacity: 1; stroke-width: 0.5px; fill: rgb(99, 110, 250); fill-opacity: 1; stroke: rgb(229, 236, 246); stroke-opacity: 1;\"/></g><g class=\"point\"><path d=\"M334.82,184V182.51H378.73V184Z\" style=\"vector-effect: non-scaling-stroke; opacity: 1; stroke-width: 0.5px; fill: rgb(99, 110, 250); fill-opacity: 1; stroke: rgb(229, 236, 246); stroke-opacity: 1;\"/></g><g class=\"point\"><path d=\"M389.71,184V182.4H433.62V184Z\" style=\"vector-effect: non-scaling-stroke; opacity: 1; stroke-width: 0.5px; fill: rgb(99, 110, 250); fill-opacity: 1; stroke: rgb(229, 236, 246); stroke-opacity: 1;\"/></g><g class=\"point\"><path d=\"M444.6,184V181.76H488.51V184Z\" style=\"vector-effect: non-scaling-stroke; opacity: 1; stroke-width: 0.5px; fill: rgb(99, 110, 250); fill-opacity: 1; stroke: rgb(229, 236, 246); stroke-opacity: 1;\"/></g></g></g><g class=\"trace bars\" style=\"opacity: 1;\"><g class=\"points\"><g class=\"point\"><path d=\"M5.49,143.99V9.2H49.4V143.99Z\" style=\"vector-effect: non-scaling-stroke; opacity: 1; stroke-width: 0.5px; fill: rgb(239, 85, 59); fill-opacity: 1; stroke: rgb(229, 236, 246); stroke-opacity: 1;\"/></g><g class=\"point\"><path d=\"M60.38,183.91V109.86H104.29V183.91Z\" style=\"vector-effect: non-scaling-stroke; opacity: 1; stroke-width: 0.5px; fill: rgb(239, 85, 59); fill-opacity: 1; stroke: rgb(229, 236, 246); stroke-opacity: 1;\"/></g><g class=\"point\"><path d=\"M115.27,168.41V118.51H159.18V168.41Z\" style=\"vector-effect: non-scaling-stroke; opacity: 1; stroke-width: 0.5px; fill: rgb(239, 85, 59); fill-opacity: 1; stroke: rgb(229, 236, 246); stroke-opacity: 1;\"/></g><g class=\"point\"><path d=\"M170.16,161.33V128.89H214.07V161.33Z\" style=\"vector-effect: non-scaling-stroke; opacity: 1; stroke-width: 0.5px; fill: rgb(239, 85, 59); fill-opacity: 1; stroke: rgb(229, 236, 246); stroke-opacity: 1;\"/></g><g class=\"point\"><path d=\"M225.04,182.94V159.47H268.96V182.94Z\" style=\"vector-effect: non-scaling-stroke; opacity: 1; stroke-width: 0.5px; fill: rgb(239, 85, 59); fill-opacity: 1; stroke: rgb(229, 236, 246); stroke-opacity: 1;\"/></g><g class=\"point\"><path d=\"M279.93,183.68V167.23H323.84V183.68Z\" style=\"vector-effect: non-scaling-stroke; opacity: 1; stroke-width: 0.5px; fill: rgb(239, 85, 59); fill-opacity: 1; stroke: rgb(229, 236, 246); stroke-opacity: 1;\"/></g><g class=\"point\"><path d=\"M334.82,182.51V172.59H378.73V182.51Z\" style=\"vector-effect: non-scaling-stroke; opacity: 1; stroke-width: 0.5px; fill: rgb(239, 85, 59); fill-opacity: 1; stroke: rgb(229, 236, 246); stroke-opacity: 1;\"/></g><g class=\"point\"><path d=\"M389.71,182.4V173.68H433.62V182.4Z\" style=\"vector-effect: non-scaling-stroke; opacity: 1; stroke-width: 0.5px; fill: rgb(239, 85, 59); fill-opacity: 1; stroke: rgb(229, 236, 246); stroke-opacity: 1;\"/></g><g class=\"point\"><path d=\"M444.6,181.76V176.18H488.51V181.76Z\" style=\"vector-effect: non-scaling-stroke; opacity: 1; stroke-width: 0.5px; fill: rgb(239, 85, 59); fill-opacity: 1; stroke: rgb(229, 236, 246); stroke-opacity: 1;\"/></g></g></g></g></g><g class=\"overplot\"/><path class=\"xlines-above crisp\" style=\"fill: none; stroke-width: 1px; stroke: rgb(255, 255, 255); stroke-opacity: 1;\" d=\"M79,284.5H574\"/><path class=\"ylines-above crisp\" style=\"fill: none; stroke-width: 1px; stroke: rgb(255, 255, 255); stroke-opacity: 1;\" d=\"M79.5,100V284\"/><g class=\"overlines-above\"/><g class=\"xaxislayer-above\"><g class=\"xtick\"><text text-anchor=\"start\" x=\"0\" y=\"299.4\" transform=\"translate(107.44,0) rotate(30,0,293.4)\" style=\"font-family: 'Open Sans', verdana, arial, sans-serif; font-size: 12px; fill: rgb(42, 63, 95); fill-opacity: 1; white-space: pre;\">кафе</text></g><g class=\"xtick\"><text text-anchor=\"start\" x=\"0\" y=\"299.4\" transform=\"translate(162.32999999999998,0) rotate(30,0,293.4)\" style=\"font-family: 'Open Sans', verdana, arial, sans-serif; font-size: 12px; fill: rgb(42, 63, 95); fill-opacity: 1; white-space: pre;\">столовая</text></g><g class=\"xtick\"><text text-anchor=\"start\" x=\"0\" y=\"299.4\" transform=\"translate(217.22,0) rotate(30,0,293.4)\" style=\"font-family: 'Open Sans', verdana, arial, sans-serif; font-size: 12px; fill: rgb(42, 63, 95); fill-opacity: 1; white-space: pre;\">ресторан</text></g><g class=\"xtick\"><text text-anchor=\"start\" x=\"0\" y=\"299.4\" transform=\"translate(272.11,0) rotate(30,0,293.4)\" style=\"font-family: 'Open Sans', verdana, arial, sans-serif; font-size: 12px; fill: rgb(42, 63, 95); fill-opacity: 1; white-space: pre;\">предприятие быстрого обслуживания</text></g><g class=\"xtick\"><text text-anchor=\"start\" x=\"0\" y=\"299.4\" transform=\"translate(327,0) rotate(30,0,293.4)\" style=\"font-family: 'Open Sans', verdana, arial, sans-serif; font-size: 12px; fill: rgb(42, 63, 95); fill-opacity: 1; white-space: pre;\">бар</text></g><g class=\"xtick\"><text text-anchor=\"start\" x=\"0\" y=\"299.4\" transform=\"translate(381.89,0) rotate(30,0,293.4)\" style=\"font-family: 'Open Sans', verdana, arial, sans-serif; font-size: 12px; fill: rgb(42, 63, 95); fill-opacity: 1; white-space: pre;\">буфет</text></g><g class=\"xtick\"><text text-anchor=\"start\" x=\"0\" y=\"299.4\" transform=\"translate(436.78,0) rotate(30,0,293.4)\" style=\"font-family: 'Open Sans', verdana, arial, sans-serif; font-size: 12px; fill: rgb(42, 63, 95); fill-opacity: 1; white-space: pre;\">кафетерий</text></g><g class=\"xtick\"><text text-anchor=\"start\" x=\"0\" y=\"299.4\" transform=\"translate(491.67,0) rotate(30,0,293.4)\" style=\"font-family: 'Open Sans', verdana, arial, sans-serif; font-size: 12px; fill: rgb(42, 63, 95); fill-opacity: 1; white-space: pre;\">закусочная</text></g><g class=\"xtick\"><text text-anchor=\"start\" x=\"0\" y=\"299.4\" transform=\"translate(546.56,0) rotate(30,0,293.4)\" style=\"font-family: 'Open Sans', verdana, arial, sans-serif; font-size: 12px; fill: rgb(42, 63, 95); fill-opacity: 1; white-space: pre;\">магазин (отдел кулинарии)</text></g></g><g class=\"yaxislayer-above\"><g class=\"ytick\"><text text-anchor=\"end\" x=\"76.6\" y=\"4.199999999999999\" transform=\"translate(0,284)\" style=\"font-family: 'Open Sans', verdana, arial, sans-serif; font-size: 12px; fill: rgb(42, 63, 95); fill-opacity: 1; white-space: pre;\">0</text></g><g class=\"ytick\"><text text-anchor=\"end\" x=\"76.6\" y=\"4.199999999999999\" transform=\"translate(0,226.68)\" style=\"font-family: 'Open Sans', verdana, arial, sans-serif; font-size: 12px; fill: rgb(42, 63, 95); fill-opacity: 1; white-space: pre;\">2000</text></g><g class=\"ytick\"><text text-anchor=\"end\" x=\"76.6\" y=\"4.199999999999999\" transform=\"translate(0,169.36)\" style=\"font-family: 'Open Sans', verdana, arial, sans-serif; font-size: 12px; fill: rgb(42, 63, 95); fill-opacity: 1; white-space: pre;\">4000</text></g><g class=\"ytick\"><text text-anchor=\"end\" x=\"76.6\" y=\"4.199999999999999\" transform=\"translate(0,112.03999999999999)\" style=\"font-family: 'Open Sans', verdana, arial, sans-serif; font-size: 12px; fill: rgb(42, 63, 95); fill-opacity: 1; white-space: pre;\">6000</text></g></g><g class=\"overaxes-above\"/></g></g><g class=\"polarlayer\"/><g class=\"ternarylayer\"/><g class=\"geolayer\"/><g class=\"funnelarealayer\"/><g class=\"pielayer\"/><g class=\"treemaplayer\"/><g class=\"sunburstlayer\"/><g class=\"glimages\"/><defs id=\"topdefs-23dafa\"><g class=\"clips\"/><clipPath id=\"legend23dafa\"><rect width=\"65\" height=\"64\" x=\"0\" y=\"0\"/></clipPath></defs><g class=\"layer-above\"><g class=\"imagelayer\"/><g class=\"shapelayer\"/></g><g class=\"infolayer\"><g class=\"legend\" pointer-events=\"all\" transform=\"translate(583.88, 100)\"><rect class=\"bg\" shape-rendering=\"crispEdges\" style=\"stroke: rgb(68, 68, 68); stroke-opacity: 1; fill: rgb(255, 255, 255); fill-opacity: 1; stroke-width: 0px;\" width=\"65\" height=\"64\" x=\"0\" y=\"0\"/><g class=\"scrollbox\" transform=\"translate(0, 0)\" clip-path=\"url('#legend23dafa')\"><text class=\"legendtitletext user-select-none\" text-anchor=\"start\" x=\"2\" y=\"15.600000000000001\" style=\"font-family: 'Open Sans', verdana, arial, sans-serif; font-size: 12px; fill: rgb(42, 63, 95); fill-opacity: 1; white-space: pre;\">chain</text><g class=\"groups\" transform=\"translate(0, 0)\"><g class=\"traces\" transform=\"translate(0, 30.1)\" style=\"opacity: 1;\"><text class=\"legendtext user-select-none\" text-anchor=\"start\" x=\"40\" y=\"4.680000000000001\" style=\"font-family: 'Open Sans', verdana, arial, sans-serif; font-size: 12px; fill: rgb(42, 63, 95); fill-opacity: 1; white-space: pre;\">да</text><g class=\"layers\" style=\"opacity: 1;\"><g class=\"legendfill\"/><g class=\"legendlines\"/><g class=\"legendsymbols\"><g class=\"legendpoints\"><path class=\"legendundefined\" d=\"M6,6H-6V-6H6Z\" transform=\"translate(20,0)\" style=\"stroke-width: 0.5px; fill: rgb(99, 110, 250); fill-opacity: 1; stroke: rgb(229, 236, 246); stroke-opacity: 1;\"/></g></g></g><rect class=\"legendtoggle\" pointer-events=\"all\" x=\"0\" y=\"-9.5\" width=\"59.953125\" height=\"19\" style=\"cursor: pointer; fill: rgb(0, 0, 0); fill-opacity: 0;\"/></g></g><g class=\"groups\" transform=\"translate(0, 0)\"><g class=\"traces\" transform=\"translate(0, 49.1)\" style=\"opacity: 1;\"><text class=\"legendtext user-select-none\" text-anchor=\"start\" x=\"40\" y=\"4.680000000000001\" style=\"font-family: 'Open Sans', verdana, arial, sans-serif; font-size: 12px; fill: rgb(42, 63, 95); fill-opacity: 1; white-space: pre;\">нет</text><g class=\"layers\" style=\"opacity: 1;\"><g class=\"legendfill\"/><g class=\"legendlines\"/><g class=\"legendsymbols\"><g class=\"legendpoints\"><path class=\"legendundefined\" d=\"M6,6H-6V-6H6Z\" transform=\"translate(20,0)\" style=\"stroke-width: 0.5px; fill: rgb(239, 85, 59); fill-opacity: 1; stroke: rgb(229, 236, 246); stroke-opacity: 1;\"/></g></g></g><rect class=\"legendtoggle\" pointer-events=\"all\" x=\"0\" y=\"-9.5\" width=\"59.953125\" height=\"19\" style=\"cursor: pointer; fill: rgb(0, 0, 0); fill-opacity: 0;\"/></g></g></g><rect class=\"scrollbar\" rx=\"20\" ry=\"3\" width=\"0\" height=\"0\" style=\"fill: rgb(128, 139, 164); fill-opacity: 1;\" x=\"0\" y=\"0\"/></g><g class=\"g-gtitle\"><text class=\"gtitle\" x=\"35\" y=\"50\" text-anchor=\"start\" dy=\"0em\" style=\"font-family: 'Open Sans', verdana, arial, sans-serif; font-size: 17px; fill: rgb(42, 63, 95); opacity: 1; font-weight: normal; white-space: pre;\">Cоотношение сетевых и несетевых кафе</text></g><g class=\"g-xtitle\"><text class=\"xtitle\" x=\"327\" y=\"437.7611358642578\" text-anchor=\"middle\" style=\"font-family: 'Open Sans', verdana, arial, sans-serif; font-size: 14px; fill: rgb(42, 63, 95); opacity: 1; font-weight: normal; white-space: pre;\">object_type</text></g><g class=\"g-ytitle\"><text class=\"ytitle\" transform=\"rotate(-90,24.340625000000003,192)\" x=\"24.340625000000003\" y=\"192\" text-anchor=\"middle\" style=\"font-family: 'Open Sans', verdana, arial, sans-serif; font-size: 14px; fill: rgb(42, 63, 95); opacity: 1; font-weight: normal; white-space: pre;\">cnt</text></g></g></svg>"
      ]
     },
     "metadata": {},
     "output_type": "display_data"
    }
   ],
   "source": [
    "fig = px.bar(tmp, x='object_type', y='cnt', color='chain',\n",
    "                 title='Cоотношение сетевых и несетевых кафе')\n",
    "fig.show()"
   ]
  },
  {
   "cell_type": "markdown",
   "metadata": {},
   "source": [
    "Сетевые заведения составляют значительную часть в трех основных категориях: кафе, ресторан, предприятие быстрого обслуживания. Для кафе и ресторанов доля сетевых около 25%, а для фастфуда - это почти половина.  \n"
   ]
  },
  {
   "cell_type": "markdown",
   "metadata": {},
   "source": [
    "Построим график совместного распределения для сетевых объектов:"
   ]
  },
  {
   "cell_type": "code",
   "execution_count": 16,
   "metadata": {},
   "outputs": [
    {
     "data": {
      "image/svg+xml": [
       "<svg class=\"main-svg\" xmlns=\"http://www.w3.org/2000/svg\" xmlns:xlink=\"http://www.w3.org/1999/xlink\" width=\"700\" height=\"450\" style=\"\" viewBox=\"0 0 700 450\"><rect x=\"0\" y=\"0\" width=\"700\" height=\"450\" style=\"fill: rgb(255, 255, 255); fill-opacity: 1;\"/><defs id=\"defs-edee75\"><g class=\"clips\"><clipPath id=\"clipedee75xyplot\" class=\"plotclip\"><rect width=\"255.78947368421052\" height=\"146.8421052631579\"/></clipPath><clipPath id=\"clipedee75xy2plot\" class=\"plotclip\"><rect width=\"255.78947368421052\" height=\"146.8421052631579\"/></clipPath><clipPath id=\"clipedee75x2yplot\" class=\"plotclip\"><rect width=\"255.78947368421055\" height=\"146.8421052631579\"/></clipPath><clipPath id=\"clipedee75x2y2plot\" class=\"plotclip\"><rect width=\"255.78947368421055\" height=\"146.8421052631579\"/></clipPath><clipPath class=\"axesclip\" id=\"clipedee75x\"><rect x=\"80\" y=\"0\" width=\"255.78947368421052\" height=\"450\"/></clipPath><clipPath class=\"axesclip\" id=\"clipedee75y\"><rect x=\"0\" y=\"60\" width=\"700\" height=\"146.8421052631579\"/></clipPath><clipPath class=\"axesclip\" id=\"clipedee75xy\"><rect x=\"80\" y=\"60\" width=\"255.78947368421052\" height=\"146.8421052631579\"/></clipPath><clipPath class=\"axesclip\" id=\"clipedee75y2\"><rect x=\"0\" y=\"223.15789473684214\" width=\"700\" height=\"146.8421052631579\"/></clipPath><clipPath class=\"axesclip\" id=\"clipedee75xy2\"><rect x=\"80\" y=\"223.15789473684214\" width=\"255.78947368421052\" height=\"146.8421052631579\"/></clipPath><clipPath class=\"axesclip\" id=\"clipedee75x2\"><rect x=\"364.2105263157895\" y=\"0\" width=\"255.78947368421055\" height=\"450\"/></clipPath><clipPath class=\"axesclip\" id=\"clipedee75x2y\"><rect x=\"364.2105263157895\" y=\"60\" width=\"255.78947368421055\" height=\"146.8421052631579\"/></clipPath><clipPath class=\"axesclip\" id=\"clipedee75x2y2\"><rect x=\"364.2105263157895\" y=\"223.15789473684214\" width=\"255.78947368421055\" height=\"146.8421052631579\"/></clipPath></g><g class=\"gradients\"/></defs><g class=\"bglayer\"><rect class=\"bg\" x=\"80\" y=\"60\" width=\"255.78947368421052\" height=\"146.8421052631579\" style=\"fill: rgb(229, 236, 246); fill-opacity: 1; stroke-width: 0;\"/><rect class=\"bg\" x=\"80\" y=\"223.15789473684214\" width=\"255.78947368421052\" height=\"146.8421052631579\" style=\"fill: rgb(229, 236, 246); fill-opacity: 1; stroke-width: 0;\"/><rect class=\"bg\" x=\"364.2105263157895\" y=\"60\" width=\"255.78947368421055\" height=\"146.8421052631579\" style=\"fill: rgb(229, 236, 246); fill-opacity: 1; stroke-width: 0;\"/><rect class=\"bg\" x=\"364.2105263157895\" y=\"223.15789473684214\" width=\"255.78947368421055\" height=\"146.8421052631579\" style=\"fill: rgb(229, 236, 246); fill-opacity: 1; stroke-width: 0;\"/></g><g class=\"layer-below\"><g class=\"imagelayer\"/><g class=\"shapelayer\"/></g><g class=\"cartesianlayer\"><g class=\"subplot xy\"><g class=\"layer-subplot\"><g class=\"shapelayer\"/><g class=\"imagelayer\"/></g><g class=\"gridlayer\"><g class=\"x\"><path class=\"xgrid crisp\" transform=\"translate(196.11,0)\" d=\"M0,60v146.8421052631579\" style=\"stroke: rgb(255, 255, 255); stroke-opacity: 1; stroke-width: 1px;\"/><path class=\"xgrid crisp\" transform=\"translate(293.71000000000004,0)\" d=\"M0,60v146.8421052631579\" style=\"stroke: rgb(255, 255, 255); stroke-opacity: 1; stroke-width: 1px;\"/></g><g class=\"y\"><path class=\"ygrid crisp\" transform=\"translate(0,140.19)\" d=\"M80,0h255.78947368421052\" style=\"stroke: rgb(255, 255, 255); stroke-opacity: 1; stroke-width: 1px;\"/><path class=\"ygrid crisp\" transform=\"translate(0,84.16)\" d=\"M80,0h255.78947368421052\" style=\"stroke: rgb(255, 255, 255); stroke-opacity: 1; stroke-width: 1px;\"/></g></g><g class=\"zerolinelayer\"><path class=\"xzl zl crisp\" transform=\"translate(98.5,0)\" d=\"M0,60v146.8421052631579\" style=\"stroke: rgb(255, 255, 255); stroke-opacity: 1; stroke-width: 2px;\"/><path class=\"yzl zl crisp\" transform=\"translate(0,196.22)\" d=\"M80,0h255.78947368421052\" style=\"stroke: rgb(255, 255, 255); stroke-opacity: 1; stroke-width: 2px;\"/></g><path class=\"xlines-below\"/><path class=\"ylines-below\"/><g class=\"overlines-below\"/><g class=\"xaxislayer-below\"/><g class=\"yaxislayer-below\"/><g class=\"overaxes-below\"/><g class=\"plot\" transform=\"translate(80, 60)\" clip-path=\"url('#clipedee75xyplot')\"/><g class=\"overplot\"/><path class=\"xlines-above crisp\" d=\"M0,0\" style=\"fill: none;\"/><path class=\"ylines-above crisp\" d=\"M79.5,60V206.8421052631579\" style=\"fill: none; stroke-width: 1px; stroke: rgb(255, 255, 255); stroke-opacity: 1;\"/><g class=\"overlines-above\"/><g class=\"xaxislayer-above\"/><g class=\"yaxislayer-above\"><g class=\"ytick\"><text text-anchor=\"end\" x=\"76.6\" y=\"4.199999999999999\" transform=\"translate(0,196.22)\" style=\"font-family: 'Open Sans', verdana, arial, sans-serif; font-size: 12px; fill: rgb(42, 63, 95); fill-opacity: 1; white-space: pre;\">0</text></g><g class=\"ytick\"><text text-anchor=\"end\" x=\"76.6\" y=\"4.199999999999999\" transform=\"translate(0,140.19)\" style=\"font-family: 'Open Sans', verdana, arial, sans-serif; font-size: 12px; fill: rgb(42, 63, 95); fill-opacity: 1; white-space: pre;\">100k</text></g><g class=\"ytick\"><text text-anchor=\"end\" x=\"76.6\" y=\"4.199999999999999\" transform=\"translate(0,84.16)\" style=\"font-family: 'Open Sans', verdana, arial, sans-serif; font-size: 12px; fill: rgb(42, 63, 95); fill-opacity: 1; white-space: pre;\">200k</text></g></g><g class=\"overaxes-above\"/></g><g class=\"subplot xy2\"><g class=\"layer-subplot\"><g class=\"shapelayer\"/><g class=\"imagelayer\"/></g><g class=\"gridlayer\"><g class=\"x\"><path class=\"xgrid crisp\" transform=\"translate(196.11,0)\" d=\"M0,223.15789473684214v146.8421052631579\" style=\"stroke: rgb(255, 255, 255); stroke-opacity: 1; stroke-width: 1px;\"/><path class=\"xgrid crisp\" transform=\"translate(293.71000000000004,0)\" d=\"M0,223.15789473684214v146.8421052631579\" style=\"stroke: rgb(255, 255, 255); stroke-opacity: 1; stroke-width: 1px;\"/></g><g class=\"y2\"><path class=\"y2grid crisp\" transform=\"translate(0,315.91789473684213)\" d=\"M80,0h255.78947368421052\" style=\"stroke: rgb(255, 255, 255); stroke-opacity: 1; stroke-width: 1px;\"/><path class=\"y2grid crisp\" transform=\"translate(0,272.93789473684217)\" d=\"M80,0h255.78947368421052\" style=\"stroke: rgb(255, 255, 255); stroke-opacity: 1; stroke-width: 1px;\"/><path class=\"y2grid crisp\" transform=\"translate(0,229.94789473684213)\" d=\"M80,0h255.78947368421052\" style=\"stroke: rgb(255, 255, 255); stroke-opacity: 1; stroke-width: 1px;\"/></g></g><g class=\"zerolinelayer\"><path class=\"xzl zl crisp\" transform=\"translate(98.5,0)\" d=\"M0,223.15789473684214v146.8421052631579\" style=\"stroke: rgb(255, 255, 255); stroke-opacity: 1; stroke-width: 2px;\"/><path class=\"y2zl zl crisp\" transform=\"translate(0,358.90789473684214)\" d=\"M80,0h255.78947368421052\" style=\"stroke: rgb(255, 255, 255); stroke-opacity: 1; stroke-width: 2px;\"/></g><path class=\"xlines-below\"/><path class=\"ylines-below\"/><g class=\"overlines-below\"/><g class=\"xaxislayer-below\"/><g class=\"yaxislayer-below\"/><g class=\"overaxes-below\"/><g class=\"plot\" transform=\"translate(80, 223.15789473684214)\" clip-path=\"url('#clipedee75xy2plot')\"/><g class=\"overplot\"/><path class=\"xlines-above crisp\" d=\"M79,370.5H335.7894736842105\" style=\"fill: none; stroke-width: 1px; stroke: rgb(255, 255, 255); stroke-opacity: 1;\"/><path class=\"ylines-above crisp\" d=\"M79.5,223.15789473684214V370\" style=\"fill: none; stroke-width: 1px; stroke: rgb(255, 255, 255); stroke-opacity: 1;\"/><g class=\"overlines-above\"/><g class=\"xaxislayer-above\"><g class=\"xtick\"><text text-anchor=\"middle\" x=\"0\" y=\"385.4\" transform=\"translate(98.5,0)\" style=\"font-family: 'Open Sans', verdana, arial, sans-serif; font-size: 12px; fill: rgb(42, 63, 95); fill-opacity: 1; white-space: pre;\">0</text></g><g class=\"xtick\"><text text-anchor=\"middle\" x=\"0\" y=\"385.4\" transform=\"translate(196.11,0)\" style=\"font-family: 'Open Sans', verdana, arial, sans-serif; font-size: 12px; fill: rgb(42, 63, 95); fill-opacity: 1; white-space: pre;\">100k</text></g><g class=\"xtick\"><text text-anchor=\"middle\" x=\"0\" y=\"385.4\" transform=\"translate(293.71000000000004,0)\" style=\"font-family: 'Open Sans', verdana, arial, sans-serif; font-size: 12px; fill: rgb(42, 63, 95); fill-opacity: 1; white-space: pre;\">200k</text></g></g><g class=\"yaxislayer-above\"><g class=\"y2tick\"><text text-anchor=\"end\" x=\"76.6\" y=\"4.199999999999999\" transform=\"translate(0,358.90789473684214)\" style=\"font-family: 'Open Sans', verdana, arial, sans-serif; font-size: 12px; fill: rgb(42, 63, 95); fill-opacity: 1; white-space: pre;\">0</text></g><g class=\"y2tick\"><text text-anchor=\"end\" x=\"76.6\" y=\"4.199999999999999\" transform=\"translate(0,315.91789473684213)\" style=\"font-family: 'Open Sans', verdana, arial, sans-serif; font-size: 12px; fill: rgb(42, 63, 95); fill-opacity: 1; white-space: pre;\">200</text></g><g class=\"y2tick\"><text text-anchor=\"end\" x=\"76.6\" y=\"4.199999999999999\" transform=\"translate(0,272.93789473684217)\" style=\"font-family: 'Open Sans', verdana, arial, sans-serif; font-size: 12px; fill: rgb(42, 63, 95); fill-opacity: 1; white-space: pre;\">400</text></g><g class=\"y2tick\"><text text-anchor=\"end\" x=\"76.6\" y=\"4.199999999999999\" transform=\"translate(0,229.94789473684213)\" style=\"font-family: 'Open Sans', verdana, arial, sans-serif; font-size: 12px; fill: rgb(42, 63, 95); fill-opacity: 1; white-space: pre;\">600</text></g></g><g class=\"overaxes-above\"/></g><g class=\"subplot x2y\"><g class=\"layer-subplot\"><g class=\"shapelayer\"/><g class=\"imagelayer\"/></g><g class=\"gridlayer\"><g class=\"x2\"><path class=\"x2grid crisp\" transform=\"translate(458.41052631578947,0)\" d=\"M0,60v146.8421052631579\" style=\"stroke: rgb(255, 255, 255); stroke-opacity: 1; stroke-width: 1px;\"/><path class=\"x2grid crisp\" transform=\"translate(533.2905263157895,0)\" d=\"M0,60v146.8421052631579\" style=\"stroke: rgb(255, 255, 255); stroke-opacity: 1; stroke-width: 1px;\"/><path class=\"x2grid crisp\" transform=\"translate(608.1705263157895,0)\" d=\"M0,60v146.8421052631579\" style=\"stroke: rgb(255, 255, 255); stroke-opacity: 1; stroke-width: 1px;\"/></g><g class=\"y\"><path class=\"ygrid crisp\" transform=\"translate(0,140.19)\" d=\"M364.2105263157895,0h255.78947368421055\" style=\"stroke: rgb(255, 255, 255); stroke-opacity: 1; stroke-width: 1px;\"/><path class=\"ygrid crisp\" transform=\"translate(0,84.16)\" d=\"M364.2105263157895,0h255.78947368421055\" style=\"stroke: rgb(255, 255, 255); stroke-opacity: 1; stroke-width: 1px;\"/></g></g><g class=\"zerolinelayer\"><path class=\"x2zl zl crisp\" transform=\"translate(383.5305263157895,0)\" d=\"M0,60v146.8421052631579\" style=\"stroke: rgb(255, 255, 255); stroke-opacity: 1; stroke-width: 2px;\"/><path class=\"yzl zl crisp\" transform=\"translate(0,196.22)\" d=\"M364.2105263157895,0h255.78947368421055\" style=\"stroke: rgb(255, 255, 255); stroke-opacity: 1; stroke-width: 2px;\"/></g><path class=\"xlines-below\"/><path class=\"ylines-below\"/><g class=\"overlines-below\"/><g class=\"xaxislayer-below\"/><g class=\"yaxislayer-below\"/><g class=\"overaxes-below\"/><g class=\"plot\" transform=\"translate(364.2105263157895, 60)\" clip-path=\"url('#clipedee75x2yplot')\"/><g class=\"overplot\"/><path class=\"xlines-above crisp\" d=\"M0,0\" style=\"fill: none;\"/><path class=\"ylines-above crisp\" d=\"M0,0\" style=\"fill: none;\"/><g class=\"overlines-above\"/><g class=\"xaxislayer-above\"/><g class=\"yaxislayer-above\"/><g class=\"overaxes-above\"/></g><g class=\"subplot x2y2\"><g class=\"layer-subplot\"><g class=\"shapelayer\"/><g class=\"imagelayer\"/></g><g class=\"gridlayer\"><g class=\"x2\"><path class=\"x2grid crisp\" transform=\"translate(458.41052631578947,0)\" d=\"M0,223.15789473684214v146.8421052631579\" style=\"stroke: rgb(255, 255, 255); stroke-opacity: 1; stroke-width: 1px;\"/><path class=\"x2grid crisp\" transform=\"translate(533.2905263157895,0)\" d=\"M0,223.15789473684214v146.8421052631579\" style=\"stroke: rgb(255, 255, 255); stroke-opacity: 1; stroke-width: 1px;\"/><path class=\"x2grid crisp\" transform=\"translate(608.1705263157895,0)\" d=\"M0,223.15789473684214v146.8421052631579\" style=\"stroke: rgb(255, 255, 255); stroke-opacity: 1; stroke-width: 1px;\"/></g><g class=\"y2\"><path class=\"y2grid crisp\" transform=\"translate(0,315.91789473684213)\" d=\"M364.2105263157895,0h255.78947368421055\" style=\"stroke: rgb(255, 255, 255); stroke-opacity: 1; stroke-width: 1px;\"/><path class=\"y2grid crisp\" transform=\"translate(0,272.93789473684217)\" d=\"M364.2105263157895,0h255.78947368421055\" style=\"stroke: rgb(255, 255, 255); stroke-opacity: 1; stroke-width: 1px;\"/><path class=\"y2grid crisp\" transform=\"translate(0,229.94789473684213)\" d=\"M364.2105263157895,0h255.78947368421055\" style=\"stroke: rgb(255, 255, 255); stroke-opacity: 1; stroke-width: 1px;\"/></g></g><g class=\"zerolinelayer\"><path class=\"x2zl zl crisp\" transform=\"translate(383.5305263157895,0)\" d=\"M0,223.15789473684214v146.8421052631579\" style=\"stroke: rgb(255, 255, 255); stroke-opacity: 1; stroke-width: 2px;\"/><path class=\"y2zl zl crisp\" transform=\"translate(0,358.90789473684214)\" d=\"M364.2105263157895,0h255.78947368421055\" style=\"stroke: rgb(255, 255, 255); stroke-opacity: 1; stroke-width: 2px;\"/></g><path class=\"xlines-below\"/><path class=\"ylines-below\"/><g class=\"overlines-below\"/><g class=\"xaxislayer-below\"/><g class=\"yaxislayer-below\"/><g class=\"overaxes-below\"/><g class=\"plot\" transform=\"translate(364.2105263157895, 223.15789473684214)\" clip-path=\"url('#clipedee75x2y2plot')\"/><g class=\"overplot\"/><path class=\"xlines-above crisp\" d=\"M364.2105263157895,370.5H620\" style=\"fill: none; stroke-width: 1px; stroke: rgb(255, 255, 255); stroke-opacity: 1;\"/><path class=\"ylines-above crisp\" d=\"M0,0\" style=\"fill: none;\"/><g class=\"overlines-above\"/><g class=\"xaxislayer-above\"><g class=\"x2tick\"><text text-anchor=\"middle\" x=\"0\" y=\"385.4\" transform=\"translate(383.5305263157895,0)\" style=\"font-family: 'Open Sans', verdana, arial, sans-serif; font-size: 12px; fill: rgb(42, 63, 95); fill-opacity: 1; white-space: pre;\">0</text></g><g class=\"x2tick\"><text text-anchor=\"middle\" x=\"0\" y=\"385.4\" transform=\"translate(458.41052631578947,0)\" style=\"font-family: 'Open Sans', verdana, arial, sans-serif; font-size: 12px; fill: rgb(42, 63, 95); fill-opacity: 1; white-space: pre;\">200</text></g><g class=\"x2tick\"><text text-anchor=\"middle\" x=\"0\" y=\"385.4\" transform=\"translate(533.2905263157895,0)\" style=\"font-family: 'Open Sans', verdana, arial, sans-serif; font-size: 12px; fill: rgb(42, 63, 95); fill-opacity: 1; white-space: pre;\">400</text></g><g class=\"x2tick\"><text text-anchor=\"middle\" x=\"0\" y=\"385.4\" transform=\"translate(608.1705263157895,0)\" style=\"font-family: 'Open Sans', verdana, arial, sans-serif; font-size: 12px; fill: rgb(42, 63, 95); fill-opacity: 1; white-space: pre;\">600</text></g></g><g class=\"yaxislayer-above\"/><g class=\"overaxes-above\"/></g></g><g class=\"polarlayer\"/><g class=\"ternarylayer\"/><g class=\"geolayer\"/><g class=\"funnelarealayer\"/><g class=\"pielayer\"/><g class=\"treemaplayer\"/><g class=\"sunburstlayer\"/><g class=\"glimages\"><image xmlns=\"http://www.w3.org/2000/svg\" xlink:href=\"data:image/png;base64,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\" preserveAspectRatio=\"none\" x=\"0\" y=\"0\" width=\"700\" height=\"450\"/><image xmlns=\"http://www.w3.org/2000/svg\" xlink:href=\"data:image/png;base64,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\" preserveAspectRatio=\"none\" x=\"0\" y=\"0\" width=\"700\" height=\"450\"/></g><defs id=\"topdefs-edee75\"><g class=\"clips\"/></defs><g class=\"layer-above\"><g class=\"imagelayer\"/><g class=\"shapelayer\"/></g><g class=\"infolayer\"><g class=\"g-gtitle\"/><g class=\"g-xtitle\"><text class=\"xtitle\" x=\"207.89473684210526\" y=\"413.409375\" text-anchor=\"middle\" style=\"font-family: 'Open Sans', verdana, arial, sans-serif; font-size: 14px; fill: rgb(42, 63, 95); opacity: 1; font-weight: normal; white-space: pre;\">id</text></g><g class=\"g-x2title\"><text class=\"x2title\" x=\"492.10526315789474\" y=\"413.409375\" text-anchor=\"middle\" style=\"font-family: 'Open Sans', verdana, arial, sans-serif; font-size: 14px; fill: rgb(42, 63, 95); opacity: 1; font-weight: normal; white-space: pre;\">number</text></g><g class=\"g-ytitle\"><text class=\"ytitle\" transform=\"rotate(-90,24.903125000000003,133.42105263157896)\" x=\"24.903125000000003\" y=\"133.42105263157896\" text-anchor=\"middle\" style=\"font-family: 'Open Sans', verdana, arial, sans-serif; font-size: 14px; fill: rgb(42, 63, 95); opacity: 1; font-weight: normal; white-space: pre;\">id</text></g><g class=\"g-y2title\"><text class=\"y2title\" transform=\"rotate(-90,31.215625000000003,296.5789473684211)\" x=\"31.215625000000003\" y=\"296.5789473684211\" text-anchor=\"middle\" style=\"font-family: 'Open Sans', verdana, arial, sans-serif; font-size: 14px; fill: rgb(42, 63, 95); opacity: 1; font-weight: normal; white-space: pre;\">number</text></g></g></svg>"
      ]
     },
     "metadata": {},
     "output_type": "display_data"
    }
   ],
   "source": [
    "fig = px.scatter_matrix(rest_data.query('chain == \"да\"'),\n",
    "    dimensions=[\"id\", \"number\"])\n",
    "fig.show()"
   ]
  },
  {
   "cell_type": "markdown",
   "metadata": {},
   "source": [
    "Судя по графику, чаще встречаеются объекты с небольшим количеством столиков. "
   ]
  },
  {
   "cell_type": "markdown",
   "metadata": {},
   "source": [
    "Опишем среднее количество посадочных мест: "
   ]
  },
  {
   "cell_type": "code",
   "execution_count": 17,
   "metadata": {},
   "outputs": [
    {
     "data": {
      "text/html": [
       "<div>\n",
       "<style scoped>\n",
       "    .dataframe tbody tr th:only-of-type {\n",
       "        vertical-align: middle;\n",
       "    }\n",
       "\n",
       "    .dataframe tbody tr th {\n",
       "        vertical-align: top;\n",
       "    }\n",
       "\n",
       "    .dataframe thead th {\n",
       "        text-align: right;\n",
       "    }\n",
       "</style>\n",
       "<table border=\"1\" class=\"dataframe\">\n",
       "  <thead>\n",
       "    <tr style=\"text-align: right;\">\n",
       "      <th></th>\n",
       "      <th>object_type</th>\n",
       "      <th>number</th>\n",
       "    </tr>\n",
       "  </thead>\n",
       "  <tbody>\n",
       "    <tr>\n",
       "      <th>0</th>\n",
       "      <td>бар</td>\n",
       "      <td>43.49</td>\n",
       "    </tr>\n",
       "    <tr>\n",
       "      <th>1</th>\n",
       "      <td>буфет</td>\n",
       "      <td>51.13</td>\n",
       "    </tr>\n",
       "    <tr>\n",
       "      <th>2</th>\n",
       "      <td>закусочная</td>\n",
       "      <td>7.61</td>\n",
       "    </tr>\n",
       "    <tr>\n",
       "      <th>3</th>\n",
       "      <td>кафе</td>\n",
       "      <td>39.72</td>\n",
       "    </tr>\n",
       "    <tr>\n",
       "      <th>4</th>\n",
       "      <td>кафетерий</td>\n",
       "      <td>9.12</td>\n",
       "    </tr>\n",
       "    <tr>\n",
       "      <th>5</th>\n",
       "      <td>магазин (отдел кулинарии)</td>\n",
       "      <td>5.59</td>\n",
       "    </tr>\n",
       "    <tr>\n",
       "      <th>6</th>\n",
       "      <td>предприятие быстрого обслуживания</td>\n",
       "      <td>20.55</td>\n",
       "    </tr>\n",
       "    <tr>\n",
       "      <th>7</th>\n",
       "      <td>ресторан</td>\n",
       "      <td>96.83</td>\n",
       "    </tr>\n",
       "    <tr>\n",
       "      <th>8</th>\n",
       "      <td>столовая</td>\n",
       "      <td>130.25</td>\n",
       "    </tr>\n",
       "  </tbody>\n",
       "</table>\n",
       "</div>"
      ],
      "text/plain": [
       "                         object_type  number\n",
       "0                                бар   43.49\n",
       "1                              буфет   51.13\n",
       "2                         закусочная    7.61\n",
       "3                               кафе   39.72\n",
       "4                          кафетерий    9.12\n",
       "5          магазин (отдел кулинарии)    5.59\n",
       "6  предприятие быстрого обслуживания   20.55\n",
       "7                           ресторан   96.83\n",
       "8                           столовая  130.25"
      ]
     },
     "execution_count": 17,
     "metadata": {},
     "output_type": "execute_result"
    }
   ],
   "source": [
    "number_data = rest_data.groupby('object_type').agg({'number' : 'mean'}).reset_index().round(2)\n",
    "number_data.columns = ['object_type', 'number']\n",
    "number_data"
   ]
  },
  {
   "cell_type": "code",
   "execution_count": 18,
   "metadata": {},
   "outputs": [
    {
     "data": {
      "image/svg+xml": [
       "<svg class=\"main-svg\" xmlns=\"http://www.w3.org/2000/svg\" xmlns:xlink=\"http://www.w3.org/1999/xlink\" width=\"700\" height=\"450\" style=\"\" viewBox=\"0 0 700 450\"><rect x=\"0\" y=\"0\" width=\"700\" height=\"450\" style=\"fill: rgb(255, 255, 255); fill-opacity: 1;\"/><defs id=\"defs-2a6184\"><g class=\"clips\"><clipPath id=\"clip2a6184xyplot\" class=\"plotclip\"><rect width=\"521\" height=\"139\"/></clipPath><clipPath class=\"axesclip\" id=\"clip2a6184x\"><rect x=\"80\" y=\"0\" width=\"521\" height=\"450\"/></clipPath><clipPath class=\"axesclip\" id=\"clip2a6184y\"><rect x=\"0\" y=\"100\" width=\"700\" height=\"139\"/></clipPath><clipPath class=\"axesclip\" id=\"clip2a6184xy\"><rect x=\"80\" y=\"100\" width=\"521\" height=\"139\"/></clipPath></g><g class=\"gradients\"/></defs><g class=\"bglayer\"><rect class=\"bg\" x=\"80\" y=\"100\" width=\"521\" height=\"139\" style=\"fill: rgb(229, 236, 246); fill-opacity: 1; stroke-width: 0;\"/></g><g class=\"layer-below\"><g class=\"imagelayer\"/><g class=\"shapelayer\"/></g><g class=\"cartesianlayer\"><g class=\"subplot xy\"><g class=\"layer-subplot\"><g class=\"shapelayer\"/><g class=\"imagelayer\"/></g><g class=\"gridlayer\"><g class=\"x\"><path class=\"xgrid crisp\" transform=\"translate(108.94,0)\" d=\"M0,100v139\" style=\"stroke: rgb(255, 255, 255); stroke-opacity: 1; stroke-width: 1px;\"/><path class=\"xgrid crisp\" transform=\"translate(166.82999999999998,0)\" d=\"M0,100v139\" style=\"stroke: rgb(255, 255, 255); stroke-opacity: 1; stroke-width: 1px;\"/><path class=\"xgrid crisp\" transform=\"translate(224.72,0)\" d=\"M0,100v139\" style=\"stroke: rgb(255, 255, 255); stroke-opacity: 1; stroke-width: 1px;\"/><path class=\"xgrid crisp\" transform=\"translate(282.61,0)\" d=\"M0,100v139\" style=\"stroke: rgb(255, 255, 255); stroke-opacity: 1; stroke-width: 1px;\"/><path class=\"xgrid crisp\" transform=\"translate(340.5,0)\" d=\"M0,100v139\" style=\"stroke: rgb(255, 255, 255); stroke-opacity: 1; stroke-width: 1px;\"/><path class=\"xgrid crisp\" transform=\"translate(398.39,0)\" d=\"M0,100v139\" style=\"stroke: rgb(255, 255, 255); stroke-opacity: 1; stroke-width: 1px;\"/><path class=\"xgrid crisp\" transform=\"translate(456.28,0)\" d=\"M0,100v139\" style=\"stroke: rgb(255, 255, 255); stroke-opacity: 1; stroke-width: 1px;\"/><path class=\"xgrid crisp\" transform=\"translate(514.1700000000001,0)\" d=\"M0,100v139\" style=\"stroke: rgb(255, 255, 255); stroke-opacity: 1; stroke-width: 1px;\"/><path class=\"xgrid crisp\" transform=\"translate(572.06,0)\" d=\"M0,100v139\" style=\"stroke: rgb(255, 255, 255); stroke-opacity: 1; stroke-width: 1px;\"/></g><g class=\"y\"><path class=\"ygrid crisp\" transform=\"translate(0,188.31)\" d=\"M80,0h521\" style=\"stroke: rgb(255, 255, 255); stroke-opacity: 1; stroke-width: 1px;\"/><path class=\"ygrid crisp\" transform=\"translate(0,137.62)\" d=\"M80,0h521\" style=\"stroke: rgb(255, 255, 255); stroke-opacity: 1; stroke-width: 1px;\"/></g></g><g class=\"zerolinelayer\"><path class=\"yzl zl crisp\" transform=\"translate(0,239)\" d=\"M80,0h521\" style=\"stroke: rgb(255, 255, 255); stroke-opacity: 1; stroke-width: 2px;\"/></g><path class=\"xlines-below\"/><path class=\"ylines-below\"/><g class=\"overlines-below\"/><g class=\"xaxislayer-below\"/><g class=\"yaxislayer-below\"/><g class=\"overaxes-below\"/><g class=\"plot\" transform=\"translate(80, 100)\" clip-path=\"url('#clip2a6184xyplot')\"><g class=\"barlayer mlayer\"><g class=\"trace bars\" style=\"opacity: 1;\"><g class=\"points\"><g class=\"point\"><path d=\"M5.79,139V6.95H52.1V139Z\" style=\"vector-effect: non-scaling-stroke; opacity: 1; stroke-width: 0.5px; fill: rgb(99, 110, 250); fill-opacity: 1; stroke: rgb(229, 236, 246); stroke-opacity: 1;\"/></g><g class=\"point\"><path d=\"M63.68,139V40.83H109.99V139Z\" style=\"vector-effect: non-scaling-stroke; opacity: 1; stroke-width: 0.5px; fill: rgb(99, 110, 250); fill-opacity: 1; stroke: rgb(229, 236, 246); stroke-opacity: 1;\"/></g><g class=\"point\"><path d=\"M121.57,139V87.16H167.88V139Z\" style=\"vector-effect: non-scaling-stroke; opacity: 1; stroke-width: 0.5px; fill: rgb(99, 110, 250); fill-opacity: 1; stroke: rgb(229, 236, 246); stroke-opacity: 1;\"/></g><g class=\"point\"><path d=\"M179.46,139V94.91H225.77V139Z\" style=\"vector-effect: non-scaling-stroke; opacity: 1; stroke-width: 0.5px; fill: rgb(99, 110, 250); fill-opacity: 1; stroke: rgb(229, 236, 246); stroke-opacity: 1;\"/></g><g class=\"point\"><path d=\"M237.34,139V98.73H283.66V139Z\" style=\"vector-effect: non-scaling-stroke; opacity: 1; stroke-width: 0.5px; fill: rgb(99, 110, 250); fill-opacity: 1; stroke: rgb(229, 236, 246); stroke-opacity: 1;\"/></g><g class=\"point\"><path d=\"M295.23,139V118.17H341.54V139Z\" style=\"vector-effect: non-scaling-stroke; opacity: 1; stroke-width: 0.5px; fill: rgb(99, 110, 250); fill-opacity: 1; stroke: rgb(229, 236, 246); stroke-opacity: 1;\"/></g><g class=\"point\"><path d=\"M353.12,139V129.75H399.43V139Z\" style=\"vector-effect: non-scaling-stroke; opacity: 1; stroke-width: 0.5px; fill: rgb(99, 110, 250); fill-opacity: 1; stroke: rgb(229, 236, 246); stroke-opacity: 1;\"/></g><g class=\"point\"><path d=\"M411.01,139V131.28H457.32V139Z\" style=\"vector-effect: non-scaling-stroke; opacity: 1; stroke-width: 0.5px; fill: rgb(99, 110, 250); fill-opacity: 1; stroke: rgb(229, 236, 246); stroke-opacity: 1;\"/></g><g class=\"point\"><path d=\"M468.9,139V133.33H515.21V139Z\" style=\"vector-effect: non-scaling-stroke; opacity: 1; stroke-width: 0.5px; fill: rgb(99, 110, 250); fill-opacity: 1; stroke: rgb(229, 236, 246); stroke-opacity: 1;\"/></g></g></g></g></g><g class=\"overplot\"/><path class=\"xlines-above crisp\" d=\"M79,239.5H601\" style=\"fill: none; stroke-width: 1px; stroke: rgb(255, 255, 255); stroke-opacity: 1;\"/><path class=\"ylines-above crisp\" d=\"M79.5,100V239\" style=\"fill: none; stroke-width: 1px; stroke: rgb(255, 255, 255); stroke-opacity: 1;\"/><g class=\"overlines-above\"/><g class=\"xaxislayer-above\"><g class=\"xtick\"><text text-anchor=\"start\" x=\"0\" y=\"254.4\" transform=\"translate(108.94,0) rotate(45,0,248.4)\" style=\"font-family: 'Open Sans', verdana, arial, sans-serif; font-size: 12px; fill: rgb(42, 63, 95); fill-opacity: 1; white-space: pre;\">столовая</text></g><g class=\"xtick\"><text text-anchor=\"start\" x=\"0\" y=\"254.4\" transform=\"translate(166.82999999999998,0) rotate(45,0,248.4)\" style=\"font-family: 'Open Sans', verdana, arial, sans-serif; font-size: 12px; fill: rgb(42, 63, 95); fill-opacity: 1; white-space: pre;\">ресторан</text></g><g class=\"xtick\"><text text-anchor=\"start\" x=\"0\" y=\"254.4\" transform=\"translate(224.72,0) rotate(45,0,248.4)\" style=\"font-family: 'Open Sans', verdana, arial, sans-serif; font-size: 12px; fill: rgb(42, 63, 95); fill-opacity: 1; white-space: pre;\">буфет</text></g><g class=\"xtick\"><text text-anchor=\"start\" x=\"0\" y=\"254.4\" transform=\"translate(282.61,0) rotate(45,0,248.4)\" style=\"font-family: 'Open Sans', verdana, arial, sans-serif; font-size: 12px; fill: rgb(42, 63, 95); fill-opacity: 1; white-space: pre;\">бар</text></g><g class=\"xtick\"><text text-anchor=\"start\" x=\"0\" y=\"254.4\" transform=\"translate(340.5,0) rotate(45,0,248.4)\" style=\"font-family: 'Open Sans', verdana, arial, sans-serif; font-size: 12px; fill: rgb(42, 63, 95); fill-opacity: 1; white-space: pre;\">кафе</text></g><g class=\"xtick\"><text text-anchor=\"start\" x=\"0\" y=\"254.4\" transform=\"translate(398.39,0) rotate(45,0,248.4)\" style=\"font-family: 'Open Sans', verdana, arial, sans-serif; font-size: 12px; fill: rgb(42, 63, 95); fill-opacity: 1; white-space: pre;\">предприятие быстрого обслуживания</text></g><g class=\"xtick\"><text text-anchor=\"start\" x=\"0\" y=\"254.4\" transform=\"translate(456.28,0) rotate(45,0,248.4)\" style=\"font-family: 'Open Sans', verdana, arial, sans-serif; font-size: 12px; fill: rgb(42, 63, 95); fill-opacity: 1; white-space: pre;\">кафетерий</text></g><g class=\"xtick\"><text text-anchor=\"start\" x=\"0\" y=\"254.4\" transform=\"translate(514.1700000000001,0) rotate(45,0,248.4)\" style=\"font-family: 'Open Sans', verdana, arial, sans-serif; font-size: 12px; fill: rgb(42, 63, 95); fill-opacity: 1; white-space: pre;\">закусочная</text></g><g class=\"xtick\"><text text-anchor=\"start\" x=\"0\" y=\"254.4\" transform=\"translate(572.06,0) rotate(45,0,248.4)\" style=\"font-family: 'Open Sans', verdana, arial, sans-serif; font-size: 12px; fill: rgb(42, 63, 95); fill-opacity: 1; white-space: pre;\">магазин (отдел кулинарии)</text></g></g><g class=\"yaxislayer-above\"><g class=\"ytick\"><text text-anchor=\"end\" x=\"76.6\" y=\"4.199999999999999\" transform=\"translate(0,239)\" style=\"font-family: 'Open Sans', verdana, arial, sans-serif; font-size: 12px; fill: rgb(42, 63, 95); fill-opacity: 1; white-space: pre;\">0</text></g><g class=\"ytick\"><text text-anchor=\"end\" x=\"76.6\" y=\"4.199999999999999\" transform=\"translate(0,188.31)\" style=\"font-family: 'Open Sans', verdana, arial, sans-serif; font-size: 12px; fill: rgb(42, 63, 95); fill-opacity: 1; white-space: pre;\">50</text></g><g class=\"ytick\"><text text-anchor=\"end\" x=\"76.6\" y=\"4.199999999999999\" transform=\"translate(0,137.62)\" style=\"font-family: 'Open Sans', verdana, arial, sans-serif; font-size: 12px; fill: rgb(42, 63, 95); fill-opacity: 1; white-space: pre;\">100</text></g></g><g class=\"overaxes-above\"/></g></g><g class=\"polarlayer\"/><g class=\"ternarylayer\"/><g class=\"geolayer\"/><g class=\"funnelarealayer\"/><g class=\"pielayer\"/><g class=\"treemaplayer\"/><g class=\"sunburstlayer\"/><g class=\"glimages\"/><defs id=\"topdefs-2a6184\"><g class=\"clips\"/></defs><g class=\"layer-above\"><g class=\"imagelayer\"/><g class=\"shapelayer\"/></g><g class=\"infolayer\"><g class=\"g-gtitle\"><text class=\"gtitle\" x=\"35\" y=\"50\" text-anchor=\"start\" dy=\"0em\" style=\"font-family: 'Open Sans', verdana, arial, sans-serif; font-size: 17px; fill: rgb(42, 63, 95); opacity: 1; font-weight: normal; white-space: pre;\">Cреднее количество посадочных мест</text></g><g class=\"g-xtitle\"><text class=\"xtitle\" x=\"340.5\" y=\"437.51817016601564\" text-anchor=\"middle\" style=\"font-family: 'Open Sans', verdana, arial, sans-serif; font-size: 14px; fill: rgb(42, 63, 95); opacity: 1; font-weight: normal; white-space: pre;\">object_type</text></g><g class=\"g-ytitle\"><text class=\"ytitle\" transform=\"rotate(-90,31.215625000000003,169.5)\" x=\"31.215625000000003\" y=\"169.5\" text-anchor=\"middle\" style=\"font-family: 'Open Sans', verdana, arial, sans-serif; font-size: 14px; fill: rgb(42, 63, 95); opacity: 1; font-weight: normal; white-space: pre;\">number</text></g></g></svg>"
      ]
     },
     "metadata": {},
     "output_type": "display_data"
    }
   ],
   "source": [
    "fig = px.bar(number_data.sort_values(by='number', ascending=False), \n",
    "             x='object_type', y='number', \n",
    "             title='Cреднее количество посадочных мест')\n",
    "fig.update_xaxes(tickangle=45)\n",
    "fig.show()"
   ]
  },
  {
   "cell_type": "markdown",
   "metadata": {},
   "source": [
    "Наибольшее среднее количество посадочных мест в столовых (130), ресторанах (97), буфетах (51) и кафе (40). В фаст-фуде в среднем 20 мест, в остальных категориях - меньше 10. "
   ]
  },
  {
   "cell_type": "markdown",
   "metadata": {},
   "source": [
    "Построим график топ-10 улиц по количеству объектов общественного питания. "
   ]
  },
  {
   "cell_type": "markdown",
   "metadata": {},
   "source": [
    "Для этого выделим в отдельный столбец информацию об улице из столбца `address` ."
   ]
  },
  {
   "cell_type": "code",
   "execution_count": 19,
   "metadata": {},
   "outputs": [
    {
     "data": {
      "text/html": [
       "<div>\n",
       "<style scoped>\n",
       "    .dataframe tbody tr th:only-of-type {\n",
       "        vertical-align: middle;\n",
       "    }\n",
       "\n",
       "    .dataframe tbody tr th {\n",
       "        vertical-align: top;\n",
       "    }\n",
       "\n",
       "    .dataframe thead th {\n",
       "        text-align: right;\n",
       "    }\n",
       "</style>\n",
       "<table border=\"1\" class=\"dataframe\">\n",
       "  <thead>\n",
       "    <tr style=\"text-align: right;\">\n",
       "      <th></th>\n",
       "      <th>id</th>\n",
       "      <th>object_name</th>\n",
       "      <th>chain</th>\n",
       "      <th>object_type</th>\n",
       "      <th>address</th>\n",
       "      <th>number</th>\n",
       "      <th>street</th>\n",
       "    </tr>\n",
       "  </thead>\n",
       "  <tbody>\n",
       "    <tr>\n",
       "      <th>2946</th>\n",
       "      <td>23704</td>\n",
       "      <td>СТОЛОВАЯ Структурное подразделение №4 ГБОУ ШКО...</td>\n",
       "      <td>нет</td>\n",
       "      <td>столовая</td>\n",
       "      <td>город Москва, Большая Очаковская улица, дом 18</td>\n",
       "      <td>80</td>\n",
       "      <td>Большая Очаковская улица</td>\n",
       "    </tr>\n",
       "  </tbody>\n",
       "</table>\n",
       "</div>"
      ],
      "text/plain": [
       "         id                                        object_name chain  \\\n",
       "2946  23704  СТОЛОВАЯ Структурное подразделение №4 ГБОУ ШКО...   нет   \n",
       "\n",
       "     object_type                                         address  number  \\\n",
       "2946    столовая  город Москва, Большая Очаковская улица, дом 18      80   \n",
       "\n",
       "                        street  \n",
       "2946  Большая Очаковская улица  "
      ]
     },
     "execution_count": 19,
     "metadata": {},
     "output_type": "execute_result"
    }
   ],
   "source": [
    "#Используем метод str.split() \n",
    "rest_data['street'] = rest_data['address'].str.split(\", \", n=2, expand=True)[1]\n",
    "rest_data.sample()"
   ]
  },
  {
   "cell_type": "code",
   "execution_count": 20,
   "metadata": {},
   "outputs": [
    {
     "data": {
      "text/plain": [
       "город Зеленоград          232\n",
       "проспект Мира             204\n",
       "Профсоюзная улица         182\n",
       "Ленинградский проспект    171\n",
       "Пресненская набережная    167\n",
       "Варшавское шоссе          161\n",
       "Ленинский проспект        147\n",
       "поселение Сосенское       138\n",
       "проспект Вернадского      132\n",
       "Кутузовский проспект      114\n",
       "Name: street, dtype: int64"
      ]
     },
     "execution_count": 20,
     "metadata": {},
     "output_type": "execute_result"
    }
   ],
   "source": [
    "rest_data['street'].value_counts().head(10)"
   ]
  },
  {
   "cell_type": "markdown",
   "metadata": {},
   "source": [
    "Так, на первом месте город Зеленоград. Еще в топ прокралось поселение Сосенское - это все не улицы Москвы, поэтому я исключу их из топ-10. "
   ]
  },
  {
   "cell_type": "code",
   "execution_count": 21,
   "metadata": {},
   "outputs": [
    {
     "data": {
      "text/plain": [
       "array(['проспект Мира', 'Профсоюзная улица', 'Ленинградский проспект',\n",
       "       'Пресненская набережная', 'Варшавское шоссе', 'Ленинский проспект',\n",
       "       'проспект Вернадского', 'Кутузовский проспект', 'Каширское шоссе',\n",
       "       'Кировоградская улица'], dtype=object)"
      ]
     },
     "execution_count": 21,
     "metadata": {},
     "output_type": "execute_result"
    }
   ],
   "source": [
    "top_10_str = rest_data.query('street != \"город Зеленоград\" and street != \"поселение Сосенское\"')\n",
    "top_10_streets = top_10_str['street'].value_counts().head(10).index.values\n",
    "top_10_streets"
   ]
  },
  {
   "cell_type": "code",
   "execution_count": 22,
   "metadata": {},
   "outputs": [],
   "source": [
    "top_10_str_data = rest_data.query('street in @top_10_streets')"
   ]
  },
  {
   "cell_type": "code",
   "execution_count": 23,
   "metadata": {},
   "outputs": [
    {
     "data": {
      "image/svg+xml": [
       "<svg class=\"main-svg\" xmlns=\"http://www.w3.org/2000/svg\" xmlns:xlink=\"http://www.w3.org/1999/xlink\" width=\"700\" height=\"450\" style=\"\" viewBox=\"0 0 700 450\"><rect x=\"0\" y=\"0\" width=\"700\" height=\"450\" style=\"fill: rgb(255, 255, 255); fill-opacity: 1;\"/><defs id=\"defs-c9abd9\"><g class=\"clips\"><clipPath id=\"clipc9abd9xyplot\" class=\"plotclip\"><rect width=\"536\" height=\"191\"/></clipPath><clipPath class=\"axesclip\" id=\"clipc9abd9x\"><rect x=\"80\" y=\"0\" width=\"536\" height=\"450\"/></clipPath><clipPath class=\"axesclip\" id=\"clipc9abd9y\"><rect x=\"0\" y=\"100\" width=\"700\" height=\"191\"/></clipPath><clipPath class=\"axesclip\" id=\"clipc9abd9xy\"><rect x=\"80\" y=\"100\" width=\"536\" height=\"191\"/></clipPath></g><g class=\"gradients\"/></defs><g class=\"bglayer\"><rect class=\"bg\" x=\"80\" y=\"100\" width=\"536\" height=\"191\" style=\"fill: rgb(229, 236, 246); fill-opacity: 1; stroke-width: 0;\"/></g><g class=\"layer-below\"><g class=\"imagelayer\"/><g class=\"shapelayer\"/></g><g class=\"cartesianlayer\"><g class=\"subplot xy\"><g class=\"layer-subplot\"><g class=\"shapelayer\"/><g class=\"imagelayer\"/></g><g class=\"gridlayer\"><g class=\"x\"><path class=\"xgrid crisp\" transform=\"translate(106.8,0)\" d=\"M0,100v191\" style=\"stroke: rgb(255, 255, 255); stroke-opacity: 1; stroke-width: 1px;\"/><path class=\"xgrid crisp\" transform=\"translate(160.4,0)\" d=\"M0,100v191\" style=\"stroke: rgb(255, 255, 255); stroke-opacity: 1; stroke-width: 1px;\"/><path class=\"xgrid crisp\" transform=\"translate(214,0)\" d=\"M0,100v191\" style=\"stroke: rgb(255, 255, 255); stroke-opacity: 1; stroke-width: 1px;\"/><path class=\"xgrid crisp\" transform=\"translate(267.6,0)\" d=\"M0,100v191\" style=\"stroke: rgb(255, 255, 255); stroke-opacity: 1; stroke-width: 1px;\"/><path class=\"xgrid crisp\" transform=\"translate(321.2,0)\" d=\"M0,100v191\" style=\"stroke: rgb(255, 255, 255); stroke-opacity: 1; stroke-width: 1px;\"/><path class=\"xgrid crisp\" transform=\"translate(374.8,0)\" d=\"M0,100v191\" style=\"stroke: rgb(255, 255, 255); stroke-opacity: 1; stroke-width: 1px;\"/><path class=\"xgrid crisp\" transform=\"translate(428.4,0)\" d=\"M0,100v191\" style=\"stroke: rgb(255, 255, 255); stroke-opacity: 1; stroke-width: 1px;\"/><path class=\"xgrid crisp\" transform=\"translate(482,0)\" d=\"M0,100v191\" style=\"stroke: rgb(255, 255, 255); stroke-opacity: 1; stroke-width: 1px;\"/><path class=\"xgrid crisp\" transform=\"translate(535.6,0)\" d=\"M0,100v191\" style=\"stroke: rgb(255, 255, 255); stroke-opacity: 1; stroke-width: 1px;\"/><path class=\"xgrid crisp\" transform=\"translate(589.2,0)\" d=\"M0,100v191\" style=\"stroke: rgb(255, 255, 255); stroke-opacity: 1; stroke-width: 1px;\"/></g><g class=\"y\"><path class=\"ygrid crisp\" transform=\"translate(0,246.53)\" d=\"M80,0h536\" style=\"stroke: rgb(255, 255, 255); stroke-opacity: 1; stroke-width: 1px;\"/><path class=\"ygrid crisp\" transform=\"translate(0,202.05)\" d=\"M80,0h536\" style=\"stroke: rgb(255, 255, 255); stroke-opacity: 1; stroke-width: 1px;\"/><path class=\"ygrid crisp\" transform=\"translate(0,157.57999999999998)\" d=\"M80,0h536\" style=\"stroke: rgb(255, 255, 255); stroke-opacity: 1; stroke-width: 1px;\"/><path class=\"ygrid crisp\" transform=\"translate(0,113.11)\" d=\"M80,0h536\" style=\"stroke: rgb(255, 255, 255); stroke-opacity: 1; stroke-width: 1px;\"/></g></g><g class=\"zerolinelayer\"><path class=\"yzl zl crisp\" transform=\"translate(0,291)\" d=\"M80,0h536\" style=\"stroke: rgb(255, 255, 255); stroke-opacity: 1; stroke-width: 2px;\"/></g><path class=\"xlines-below\"/><path class=\"ylines-below\"/><g class=\"overlines-below\"/><g class=\"xaxislayer-below\"/><g class=\"yaxislayer-below\"/><g class=\"overaxes-below\"/><g class=\"plot\" transform=\"translate(80, 100)\" clip-path=\"url('#clipc9abd9xyplot')\"><g class=\"barlayer mlayer\"><g class=\"trace bars\" style=\"opacity: 1;\"><g class=\"points\"><g class=\"point\"><path d=\"M5.36,191V9.55H48.24V191Z\" style=\"vector-effect: non-scaling-stroke; opacity: 1; stroke-width: 0.5px; fill: rgb(99, 110, 250); fill-opacity: 1; stroke: rgb(229, 236, 246); stroke-opacity: 1;\"/></g><g class=\"point\"><path d=\"M58.96,191V29.12H101.84V191Z\" style=\"vector-effect: non-scaling-stroke; opacity: 1; stroke-width: 0.5px; fill: rgb(99, 110, 250); fill-opacity: 1; stroke: rgb(229, 236, 246); stroke-opacity: 1;\"/></g><g class=\"point\"><path d=\"M112.56,191V38.9H155.44V191Z\" style=\"vector-effect: non-scaling-stroke; opacity: 1; stroke-width: 0.5px; fill: rgb(99, 110, 250); fill-opacity: 1; stroke: rgb(229, 236, 246); stroke-opacity: 1;\"/></g><g class=\"point\"><path d=\"M166.16,191V42.46H209.04V191Z\" style=\"vector-effect: non-scaling-stroke; opacity: 1; stroke-width: 0.5px; fill: rgb(99, 110, 250); fill-opacity: 1; stroke: rgb(229, 236, 246); stroke-opacity: 1;\"/></g><g class=\"point\"><path d=\"M219.76,191V47.8H262.64V191Z\" style=\"vector-effect: non-scaling-stroke; opacity: 1; stroke-width: 0.5px; fill: rgb(99, 110, 250); fill-opacity: 1; stroke: rgb(229, 236, 246); stroke-opacity: 1;\"/></g><g class=\"point\"><path d=\"M273.36,191V60.25H316.24V191Z\" style=\"vector-effect: non-scaling-stroke; opacity: 1; stroke-width: 0.5px; fill: rgb(99, 110, 250); fill-opacity: 1; stroke: rgb(229, 236, 246); stroke-opacity: 1;\"/></g><g class=\"point\"><path d=\"M326.96,191V73.59H369.84V191Z\" style=\"vector-effect: non-scaling-stroke; opacity: 1; stroke-width: 0.5px; fill: rgb(99, 110, 250); fill-opacity: 1; stroke: rgb(229, 236, 246); stroke-opacity: 1;\"/></g><g class=\"point\"><path d=\"M380.56,191V89.6H423.44V191Z\" style=\"vector-effect: non-scaling-stroke; opacity: 1; stroke-width: 0.5px; fill: rgb(99, 110, 250); fill-opacity: 1; stroke: rgb(229, 236, 246); stroke-opacity: 1;\"/></g><g class=\"point\"><path d=\"M434.16,191V91.38H477.04V191Z\" style=\"vector-effect: non-scaling-stroke; opacity: 1; stroke-width: 0.5px; fill: rgb(99, 110, 250); fill-opacity: 1; stroke: rgb(229, 236, 246); stroke-opacity: 1;\"/></g><g class=\"point\"><path d=\"M487.76,191V93.16H530.64V191Z\" style=\"vector-effect: non-scaling-stroke; opacity: 1; stroke-width: 0.5px; fill: rgb(99, 110, 250); fill-opacity: 1; stroke: rgb(229, 236, 246); stroke-opacity: 1;\"/></g></g></g></g></g><g class=\"overplot\"/><path class=\"xlines-above crisp\" d=\"M79,291.5H616\" style=\"fill: none; stroke-width: 1px; stroke: rgb(255, 255, 255); stroke-opacity: 1;\"/><path class=\"ylines-above crisp\" d=\"M79.5,100V291\" style=\"fill: none; stroke-width: 1px; stroke: rgb(255, 255, 255); stroke-opacity: 1;\"/><g class=\"overlines-above\"/><g class=\"xaxislayer-above\"><g class=\"xtick\"><text text-anchor=\"start\" x=\"0\" y=\"306.4\" transform=\"translate(106.8,0) rotate(45,0,300.4)\" style=\"font-family: 'Open Sans', verdana, arial, sans-serif; font-size: 12px; fill: rgb(42, 63, 95); fill-opacity: 1; white-space: pre;\">проспект Мира</text></g><g class=\"xtick\"><text text-anchor=\"start\" x=\"0\" y=\"306.4\" transform=\"translate(160.4,0) rotate(45,0,300.4)\" style=\"font-family: 'Open Sans', verdana, arial, sans-serif; font-size: 12px; fill: rgb(42, 63, 95); fill-opacity: 1; white-space: pre;\">Профсоюзная улица</text></g><g class=\"xtick\"><text text-anchor=\"start\" x=\"0\" y=\"306.4\" transform=\"translate(214,0) rotate(45,0,300.4)\" style=\"font-family: 'Open Sans', verdana, arial, sans-serif; font-size: 12px; fill: rgb(42, 63, 95); fill-opacity: 1; white-space: pre;\">Ленинградский проспект</text></g><g class=\"xtick\"><text text-anchor=\"start\" x=\"0\" y=\"306.4\" transform=\"translate(267.6,0) rotate(45,0,300.4)\" style=\"font-family: 'Open Sans', verdana, arial, sans-serif; font-size: 12px; fill: rgb(42, 63, 95); fill-opacity: 1; white-space: pre;\">Пресненская набережная</text></g><g class=\"xtick\"><text text-anchor=\"start\" x=\"0\" y=\"306.4\" transform=\"translate(321.2,0) rotate(45,0,300.4)\" style=\"font-family: 'Open Sans', verdana, arial, sans-serif; font-size: 12px; fill: rgb(42, 63, 95); fill-opacity: 1; white-space: pre;\">Варшавское шоссе</text></g><g class=\"xtick\"><text text-anchor=\"start\" x=\"0\" y=\"306.4\" transform=\"translate(374.8,0) rotate(45,0,300.4)\" style=\"font-family: 'Open Sans', verdana, arial, sans-serif; font-size: 12px; fill: rgb(42, 63, 95); fill-opacity: 1; white-space: pre;\">Ленинский проспект</text></g><g class=\"xtick\"><text text-anchor=\"start\" x=\"0\" y=\"306.4\" transform=\"translate(428.4,0) rotate(45,0,300.4)\" style=\"font-family: 'Open Sans', verdana, arial, sans-serif; font-size: 12px; fill: rgb(42, 63, 95); fill-opacity: 1; white-space: pre;\">проспект Вернадского</text></g><g class=\"xtick\"><text text-anchor=\"start\" x=\"0\" y=\"306.4\" transform=\"translate(482,0) rotate(45,0,300.4)\" style=\"font-family: 'Open Sans', verdana, arial, sans-serif; font-size: 12px; fill: rgb(42, 63, 95); fill-opacity: 1; white-space: pre;\">Кутузовский проспект</text></g><g class=\"xtick\"><text text-anchor=\"start\" x=\"0\" y=\"306.4\" transform=\"translate(535.6,0) rotate(45,0,300.4)\" style=\"font-family: 'Open Sans', verdana, arial, sans-serif; font-size: 12px; fill: rgb(42, 63, 95); fill-opacity: 1; white-space: pre;\">Каширское шоссе</text></g><g class=\"xtick\"><text text-anchor=\"start\" x=\"0\" y=\"306.4\" transform=\"translate(589.2,0) rotate(45,0,300.4)\" style=\"font-family: 'Open Sans', verdana, arial, sans-serif; font-size: 12px; fill: rgb(42, 63, 95); fill-opacity: 1; white-space: pre;\">Кировоградская улица</text></g></g><g class=\"yaxislayer-above\"><g class=\"ytick\"><text text-anchor=\"end\" x=\"76.6\" y=\"4.199999999999999\" transform=\"translate(0,291)\" style=\"font-family: 'Open Sans', verdana, arial, sans-serif; font-size: 12px; fill: rgb(42, 63, 95); fill-opacity: 1; white-space: pre;\">0</text></g><g class=\"ytick\"><text text-anchor=\"end\" x=\"76.6\" y=\"4.199999999999999\" transform=\"translate(0,246.53)\" style=\"font-family: 'Open Sans', verdana, arial, sans-serif; font-size: 12px; fill: rgb(42, 63, 95); fill-opacity: 1; white-space: pre;\">50</text></g><g class=\"ytick\"><text text-anchor=\"end\" x=\"76.6\" y=\"4.199999999999999\" transform=\"translate(0,202.05)\" style=\"font-family: 'Open Sans', verdana, arial, sans-serif; font-size: 12px; fill: rgb(42, 63, 95); fill-opacity: 1; white-space: pre;\">100</text></g><g class=\"ytick\"><text text-anchor=\"end\" x=\"76.6\" y=\"4.199999999999999\" transform=\"translate(0,157.57999999999998)\" style=\"font-family: 'Open Sans', verdana, arial, sans-serif; font-size: 12px; fill: rgb(42, 63, 95); fill-opacity: 1; white-space: pre;\">150</text></g><g class=\"ytick\"><text text-anchor=\"end\" x=\"76.6\" y=\"4.199999999999999\" transform=\"translate(0,113.11)\" style=\"font-family: 'Open Sans', verdana, arial, sans-serif; font-size: 12px; fill: rgb(42, 63, 95); fill-opacity: 1; white-space: pre;\">200</text></g></g><g class=\"overaxes-above\"/></g></g><g class=\"polarlayer\"/><g class=\"ternarylayer\"/><g class=\"geolayer\"/><g class=\"funnelarealayer\"/><g class=\"pielayer\"/><g class=\"treemaplayer\"/><g class=\"sunburstlayer\"/><g class=\"glimages\"/><defs id=\"topdefs-c9abd9\"><g class=\"clips\"/></defs><g class=\"layer-above\"><g class=\"imagelayer\"/><g class=\"shapelayer\"/></g><g class=\"infolayer\"><g class=\"g-gtitle\"><text class=\"gtitle\" x=\"35\" y=\"50\" text-anchor=\"start\" dy=\"0em\" style=\"font-family: 'Open Sans', verdana, arial, sans-serif; font-size: 17px; fill: rgb(42, 63, 95); opacity: 1; font-weight: normal; white-space: pre;\">График топ-10 улиц по количеству объектов общественного питания</text></g><g class=\"g-xtitle\"><text class=\"xtitle\" x=\"348\" y=\"438.4291046142578\" text-anchor=\"middle\" style=\"font-family: 'Open Sans', verdana, arial, sans-serif; font-size: 14px; fill: rgb(42, 63, 95); opacity: 1; font-weight: normal; white-space: pre;\">street</text></g><g class=\"g-ytitle\"><text class=\"ytitle\" transform=\"rotate(-90,31.215625000000003,195.5)\" x=\"31.215625000000003\" y=\"195.5\" text-anchor=\"middle\" style=\"font-family: 'Open Sans', verdana, arial, sans-serif; font-size: 14px; fill: rgb(42, 63, 95); opacity: 1; font-weight: normal; white-space: pre;\">id</text></g></g></svg>"
      ]
     },
     "metadata": {},
     "output_type": "display_data"
    }
   ],
   "source": [
    "top_10 = top_10_str_data.groupby('street').agg({'id' : 'count'}).sort_values(by='id', ascending=False).reset_index()\n",
    "top_10.columns = ['street', 'id']\n",
    "fig = px.bar(top_10, \n",
    "             x='street', y='id', \n",
    "             title='График топ-10 улиц по количеству объектов общественного питания')\n",
    "fig.update_xaxes(tickangle=45)\n",
    "fig.show()"
   ]
  },
  {
   "cell_type": "markdown",
   "metadata": {},
   "source": [
    "Самые популяные улицы - это проспект Мира, Профсоюзная улица, Ленинградский проспект, Пресненская набережная, Варшавское шоссе, Ленинский проспект, проспект Вернадского, Кутузовский проспект, Каширское шоссе, Кировоградская улица. \n",
    "Больше всего заведений общепита на проспекте Мира, Профсоюзной улице и Ленинградском проспекте (204, 182, 171), замыкает топ-10 Кировоградская улица с 110 точками. Посмотрим, через какие районы проходят эти  магистрали. Для этого я скачала базу данных из открытого источника. "
   ]
  },
  {
   "cell_type": "markdown",
   "metadata": {},
   "source": [
    "Данные, которыми я пользовалась можно скачать из облака по ссылке. Он в открытом доступе:\n",
    "https://drive.google.com/file/d/1S57LADPxVaSQWEkdyEMA3cxMRCfZepx3/view?usp=sharing"
   ]
  },
  {
   "cell_type": "code",
   "execution_count": 24,
   "metadata": {},
   "outputs": [],
   "source": [
    "mos_data = pd.read_csv('mos_data.csv')"
   ]
  },
  {
   "cell_type": "code",
   "execution_count": 25,
   "metadata": {},
   "outputs": [
    {
     "data": {
      "text/html": [
       "<div>\n",
       "<style scoped>\n",
       "    .dataframe tbody tr th:only-of-type {\n",
       "        vertical-align: middle;\n",
       "    }\n",
       "\n",
       "    .dataframe tbody tr th {\n",
       "        vertical-align: top;\n",
       "    }\n",
       "\n",
       "    .dataframe thead th {\n",
       "        text-align: right;\n",
       "    }\n",
       "</style>\n",
       "<table border=\"1\" class=\"dataframe\">\n",
       "  <thead>\n",
       "    <tr style=\"text-align: right;\">\n",
       "      <th></th>\n",
       "      <th>Unnamed: 0</th>\n",
       "      <th>address</th>\n",
       "      <th>district</th>\n",
       "    </tr>\n",
       "  </thead>\n",
       "  <tbody>\n",
       "    <tr>\n",
       "      <th>0</th>\n",
       "      <td>0</td>\n",
       "      <td>город Москва, Варшавское шоссе, дом 150, строе...</td>\n",
       "      <td>муниципальный округ Чертаново Южное</td>\n",
       "    </tr>\n",
       "    <tr>\n",
       "      <th>1</th>\n",
       "      <td>1</td>\n",
       "      <td>город Москва, Косинская улица, дом 26А</td>\n",
       "      <td>муниципальный округ Вешняки</td>\n",
       "    </tr>\n",
       "    <tr>\n",
       "      <th>2</th>\n",
       "      <td>2</td>\n",
       "      <td>город Москва, Гороховский переулок, дом 21</td>\n",
       "      <td>муниципальный округ Басманный</td>\n",
       "    </tr>\n",
       "    <tr>\n",
       "      <th>3</th>\n",
       "      <td>3</td>\n",
       "      <td>город Москва, Тагильская улица, дом 4, строени...</td>\n",
       "      <td>муниципальный округ Метрогородок</td>\n",
       "    </tr>\n",
       "    <tr>\n",
       "      <th>4</th>\n",
       "      <td>4</td>\n",
       "      <td>город Москва, Ленинградский проспект, дом 73А,...</td>\n",
       "      <td>муниципальный округ Сокол</td>\n",
       "    </tr>\n",
       "  </tbody>\n",
       "</table>\n",
       "</div>"
      ],
      "text/plain": [
       "   Unnamed: 0                                            address  \\\n",
       "0           0  город Москва, Варшавское шоссе, дом 150, строе...   \n",
       "1           1             город Москва, Косинская улица, дом 26А   \n",
       "2           2         город Москва, Гороховский переулок, дом 21   \n",
       "3           3  город Москва, Тагильская улица, дом 4, строени...   \n",
       "4           4  город Москва, Ленинградский проспект, дом 73А,...   \n",
       "\n",
       "                              district  \n",
       "0  муниципальный округ Чертаново Южное  \n",
       "1          муниципальный округ Вешняки  \n",
       "2        муниципальный округ Басманный  \n",
       "3     муниципальный округ Метрогородок  \n",
       "4            муниципальный округ Сокол  "
      ]
     },
     "execution_count": 25,
     "metadata": {},
     "output_type": "execute_result"
    }
   ],
   "source": [
    "mos_data.head()"
   ]
  },
  {
   "cell_type": "markdown",
   "metadata": {},
   "source": [
    "Выделим из данных нужные нам столбцы и соединим их с нашей таблицей. "
   ]
  },
  {
   "cell_type": "code",
   "execution_count": 26,
   "metadata": {},
   "outputs": [
    {
     "data": {
      "text/html": [
       "<div>\n",
       "<style scoped>\n",
       "    .dataframe tbody tr th:only-of-type {\n",
       "        vertical-align: middle;\n",
       "    }\n",
       "\n",
       "    .dataframe tbody tr th {\n",
       "        vertical-align: top;\n",
       "    }\n",
       "\n",
       "    .dataframe thead th {\n",
       "        text-align: right;\n",
       "    }\n",
       "</style>\n",
       "<table border=\"1\" class=\"dataframe\">\n",
       "  <thead>\n",
       "    <tr style=\"text-align: right;\">\n",
       "      <th></th>\n",
       "      <th>address</th>\n",
       "      <th>district</th>\n",
       "    </tr>\n",
       "  </thead>\n",
       "  <tbody>\n",
       "    <tr>\n",
       "      <th>0</th>\n",
       "      <td>город Москва, Варшавское шоссе, дом 150, строе...</td>\n",
       "      <td>муниципальный округ Чертаново Южное</td>\n",
       "    </tr>\n",
       "    <tr>\n",
       "      <th>1</th>\n",
       "      <td>город Москва, Косинская улица, дом 26А</td>\n",
       "      <td>муниципальный округ Вешняки</td>\n",
       "    </tr>\n",
       "    <tr>\n",
       "      <th>2</th>\n",
       "      <td>город Москва, Гороховский переулок, дом 21</td>\n",
       "      <td>муниципальный округ Басманный</td>\n",
       "    </tr>\n",
       "    <tr>\n",
       "      <th>3</th>\n",
       "      <td>город Москва, Тагильская улица, дом 4, строени...</td>\n",
       "      <td>муниципальный округ Метрогородок</td>\n",
       "    </tr>\n",
       "    <tr>\n",
       "      <th>4</th>\n",
       "      <td>город Москва, Ленинградский проспект, дом 73А,...</td>\n",
       "      <td>муниципальный округ Сокол</td>\n",
       "    </tr>\n",
       "  </tbody>\n",
       "</table>\n",
       "</div>"
      ],
      "text/plain": [
       "                                             address  \\\n",
       "0  город Москва, Варшавское шоссе, дом 150, строе...   \n",
       "1             город Москва, Косинская улица, дом 26А   \n",
       "2         город Москва, Гороховский переулок, дом 21   \n",
       "3  город Москва, Тагильская улица, дом 4, строени...   \n",
       "4  город Москва, Ленинградский проспект, дом 73А,...   \n",
       "\n",
       "                              district  \n",
       "0  муниципальный округ Чертаново Южное  \n",
       "1          муниципальный округ Вешняки  \n",
       "2        муниципальный округ Басманный  \n",
       "3     муниципальный округ Метрогородок  \n",
       "4            муниципальный округ Сокол  "
      ]
     },
     "execution_count": 26,
     "metadata": {},
     "output_type": "execute_result"
    }
   ],
   "source": [
    "district_data = mos_data[['address', 'district']]\n",
    "district_data.head()"
   ]
  },
  {
   "cell_type": "code",
   "execution_count": 27,
   "metadata": {},
   "outputs": [
    {
     "data": {
      "text/html": [
       "<div>\n",
       "<style scoped>\n",
       "    .dataframe tbody tr th:only-of-type {\n",
       "        vertical-align: middle;\n",
       "    }\n",
       "\n",
       "    .dataframe tbody tr th {\n",
       "        vertical-align: top;\n",
       "    }\n",
       "\n",
       "    .dataframe thead th {\n",
       "        text-align: right;\n",
       "    }\n",
       "</style>\n",
       "<table border=\"1\" class=\"dataframe\">\n",
       "  <thead>\n",
       "    <tr style=\"text-align: right;\">\n",
       "      <th></th>\n",
       "      <th>id</th>\n",
       "      <th>object_name</th>\n",
       "      <th>chain</th>\n",
       "      <th>object_type</th>\n",
       "      <th>address</th>\n",
       "      <th>number</th>\n",
       "      <th>street</th>\n",
       "      <th>district</th>\n",
       "    </tr>\n",
       "  </thead>\n",
       "  <tbody>\n",
       "    <tr>\n",
       "      <th>0</th>\n",
       "      <td>151635</td>\n",
       "      <td>СМЕТАНА</td>\n",
       "      <td>нет</td>\n",
       "      <td>кафе</td>\n",
       "      <td>город Москва, улица Егора Абакумова, дом 9</td>\n",
       "      <td>48</td>\n",
       "      <td>улица Егора Абакумова</td>\n",
       "      <td>муниципальный округ Ярославский</td>\n",
       "    </tr>\n",
       "    <tr>\n",
       "      <th>1</th>\n",
       "      <td>24309</td>\n",
       "      <td>Кафе «Академия»</td>\n",
       "      <td>нет</td>\n",
       "      <td>кафе</td>\n",
       "      <td>город Москва, Абельмановская улица, дом 6</td>\n",
       "      <td>95</td>\n",
       "      <td>Абельмановская улица</td>\n",
       "      <td>муниципальный округ Таганский</td>\n",
       "    </tr>\n",
       "    <tr>\n",
       "      <th>2</th>\n",
       "      <td>21894</td>\n",
       "      <td>ПИЦЦЕТОРИЯ</td>\n",
       "      <td>да</td>\n",
       "      <td>кафе</td>\n",
       "      <td>город Москва, Абрамцевская улица, дом 1</td>\n",
       "      <td>40</td>\n",
       "      <td>Абрамцевская улица</td>\n",
       "      <td>муниципальный округ Лианозово</td>\n",
       "    </tr>\n",
       "    <tr>\n",
       "      <th>3</th>\n",
       "      <td>119365</td>\n",
       "      <td>Кафе «Вишневая метель»</td>\n",
       "      <td>нет</td>\n",
       "      <td>кафе</td>\n",
       "      <td>город Москва, Абрамцевская улица, дом 9, корпус 1</td>\n",
       "      <td>50</td>\n",
       "      <td>Абрамцевская улица</td>\n",
       "      <td>муниципальный округ Лианозово</td>\n",
       "    </tr>\n",
       "    <tr>\n",
       "      <th>4</th>\n",
       "      <td>199543</td>\n",
       "      <td>Шаурма, выпечка</td>\n",
       "      <td>нет</td>\n",
       "      <td>предприятие быстрого обслуживания</td>\n",
       "      <td>город Москва, Абрамцевская улица, дом 9, корпус 1</td>\n",
       "      <td>0</td>\n",
       "      <td>Абрамцевская улица</td>\n",
       "      <td>муниципальный округ Лианозово</td>\n",
       "    </tr>\n",
       "  </tbody>\n",
       "</table>\n",
       "</div>"
      ],
      "text/plain": [
       "       id             object_name chain                        object_type  \\\n",
       "0  151635                 СМЕТАНА   нет                               кафе   \n",
       "1   24309         Кафе «Академия»   нет                               кафе   \n",
       "2   21894              ПИЦЦЕТОРИЯ    да                               кафе   \n",
       "3  119365  Кафе «Вишневая метель»   нет                               кафе   \n",
       "4  199543         Шаурма, выпечка   нет  предприятие быстрого обслуживания   \n",
       "\n",
       "                                             address  number  \\\n",
       "0         город Москва, улица Егора Абакумова, дом 9      48   \n",
       "1          город Москва, Абельмановская улица, дом 6      95   \n",
       "2            город Москва, Абрамцевская улица, дом 1      40   \n",
       "3  город Москва, Абрамцевская улица, дом 9, корпус 1      50   \n",
       "4  город Москва, Абрамцевская улица, дом 9, корпус 1       0   \n",
       "\n",
       "                  street                         district  \n",
       "0  улица Егора Абакумова  муниципальный округ Ярославский  \n",
       "1   Абельмановская улица    муниципальный округ Таганский  \n",
       "2     Абрамцевская улица    муниципальный округ Лианозово  \n",
       "3     Абрамцевская улица    муниципальный округ Лианозово  \n",
       "4     Абрамцевская улица    муниципальный округ Лианозово  "
      ]
     },
     "execution_count": 27,
     "metadata": {},
     "output_type": "execute_result"
    }
   ],
   "source": [
    "full_rest_data = rest_data.merge(district_data, on = 'address')\n",
    "full_rest_data.head()"
   ]
  },
  {
   "cell_type": "code",
   "execution_count": 28,
   "metadata": {},
   "outputs": [
    {
     "data": {
      "text/html": [
       "<div>\n",
       "<style scoped>\n",
       "    .dataframe tbody tr th:only-of-type {\n",
       "        vertical-align: middle;\n",
       "    }\n",
       "\n",
       "    .dataframe tbody tr th {\n",
       "        vertical-align: top;\n",
       "    }\n",
       "\n",
       "    .dataframe thead th {\n",
       "        text-align: right;\n",
       "    }\n",
       "</style>\n",
       "<table border=\"1\" class=\"dataframe\">\n",
       "  <thead>\n",
       "    <tr style=\"text-align: right;\">\n",
       "      <th></th>\n",
       "      <th>id</th>\n",
       "      <th>object_name</th>\n",
       "      <th>chain</th>\n",
       "      <th>object_type</th>\n",
       "      <th>address</th>\n",
       "      <th>number</th>\n",
       "      <th>street</th>\n",
       "      <th>district</th>\n",
       "    </tr>\n",
       "  </thead>\n",
       "  <tbody>\n",
       "    <tr>\n",
       "      <th>170</th>\n",
       "      <td>155973</td>\n",
       "      <td>Кафе «Андерсон»</td>\n",
       "      <td>да</td>\n",
       "      <td>кафе</td>\n",
       "      <td>город Москва, Варшавское шоссе, дом 2</td>\n",
       "      <td>150</td>\n",
       "      <td>Варшавское шоссе</td>\n",
       "      <td>муниципальный округ Донской</td>\n",
       "    </tr>\n",
       "    <tr>\n",
       "      <th>171</th>\n",
       "      <td>204776</td>\n",
       "      <td>Кальян Бар</td>\n",
       "      <td>нет</td>\n",
       "      <td>бар</td>\n",
       "      <td>город Москва, Варшавское шоссе, дом 2</td>\n",
       "      <td>24</td>\n",
       "      <td>Варшавское шоссе</td>\n",
       "      <td>муниципальный округ Донской</td>\n",
       "    </tr>\n",
       "    <tr>\n",
       "      <th>172</th>\n",
       "      <td>23618</td>\n",
       "      <td>Кафе «Subway»</td>\n",
       "      <td>да</td>\n",
       "      <td>кафе</td>\n",
       "      <td>город Москва, Варшавское шоссе, дом 7, корпус 1</td>\n",
       "      <td>36</td>\n",
       "      <td>Варшавское шоссе</td>\n",
       "      <td>муниципальный округ Донской</td>\n",
       "    </tr>\n",
       "    <tr>\n",
       "      <th>173</th>\n",
       "      <td>166556</td>\n",
       "      <td>Кафе Суши Wok</td>\n",
       "      <td>да</td>\n",
       "      <td>предприятие быстрого обслуживания</td>\n",
       "      <td>город Москва, Варшавское шоссе, дом 7, корпус 1</td>\n",
       "      <td>8</td>\n",
       "      <td>Варшавское шоссе</td>\n",
       "      <td>муниципальный округ Донской</td>\n",
       "    </tr>\n",
       "    <tr>\n",
       "      <th>174</th>\n",
       "      <td>181111</td>\n",
       "      <td>Кафе «Doner City»</td>\n",
       "      <td>нет</td>\n",
       "      <td>предприятие быстрого обслуживания</td>\n",
       "      <td>город Москва, Варшавское шоссе, дом 7, корпус 1</td>\n",
       "      <td>1</td>\n",
       "      <td>Варшавское шоссе</td>\n",
       "      <td>муниципальный округ Донской</td>\n",
       "    </tr>\n",
       "  </tbody>\n",
       "</table>\n",
       "</div>"
      ],
      "text/plain": [
       "         id        object_name chain                        object_type  \\\n",
       "170  155973    Кафе «Андерсон»    да                               кафе   \n",
       "171  204776         Кальян Бар   нет                                бар   \n",
       "172   23618      Кафе «Subway»    да                               кафе   \n",
       "173  166556      Кафе Суши Wok    да  предприятие быстрого обслуживания   \n",
       "174  181111  Кафе «Doner City»   нет  предприятие быстрого обслуживания   \n",
       "\n",
       "                                             address  number  \\\n",
       "170            город Москва, Варшавское шоссе, дом 2     150   \n",
       "171            город Москва, Варшавское шоссе, дом 2      24   \n",
       "172  город Москва, Варшавское шоссе, дом 7, корпус 1      36   \n",
       "173  город Москва, Варшавское шоссе, дом 7, корпус 1       8   \n",
       "174  город Москва, Варшавское шоссе, дом 7, корпус 1       1   \n",
       "\n",
       "               street                     district  \n",
       "170  Варшавское шоссе  муниципальный округ Донской  \n",
       "171  Варшавское шоссе  муниципальный округ Донской  \n",
       "172  Варшавское шоссе  муниципальный округ Донской  \n",
       "173  Варшавское шоссе  муниципальный округ Донской  \n",
       "174  Варшавское шоссе  муниципальный округ Донской  "
      ]
     },
     "execution_count": 28,
     "metadata": {},
     "output_type": "execute_result"
    }
   ],
   "source": [
    "full_top_10_data = full_rest_data.query('street in @top_10_streets')\n",
    "full_top_10_data.head()"
   ]
  },
  {
   "cell_type": "markdown",
   "metadata": {},
   "source": [
    "Сгруппируем по самым популярным улицам, чтобы определить районы, через которые они проходят. "
   ]
  },
  {
   "cell_type": "code",
   "execution_count": 29,
   "metadata": {},
   "outputs": [
    {
     "data": {
      "text/html": [
       "<div>\n",
       "<style scoped>\n",
       "    .dataframe tbody tr th:only-of-type {\n",
       "        vertical-align: middle;\n",
       "    }\n",
       "\n",
       "    .dataframe tbody tr th {\n",
       "        vertical-align: top;\n",
       "    }\n",
       "\n",
       "    .dataframe thead th {\n",
       "        text-align: right;\n",
       "    }\n",
       "</style>\n",
       "<table border=\"1\" class=\"dataframe\">\n",
       "  <thead>\n",
       "    <tr style=\"text-align: right;\">\n",
       "      <th></th>\n",
       "      <th>street</th>\n",
       "      <th>district</th>\n",
       "    </tr>\n",
       "  </thead>\n",
       "  <tbody>\n",
       "    <tr>\n",
       "      <th>0</th>\n",
       "      <td>Варшавское шоссе</td>\n",
       "      <td>{муниципальный округ Южное Бутово, муниципальный округ Чертаново Северное, муниципальный округ Донской, муниципальный округ Нагатино-Садовники, муниципальный округ Чертаново Центральное, муниципальный округ Чертаново Южное, муниципальный округ Нагорный}</td>\n",
       "    </tr>\n",
       "    <tr>\n",
       "      <th>1</th>\n",
       "      <td>Каширское шоссе</td>\n",
       "      <td>{муниципальный округ Орехово-Борисово Южное, муниципальный округ Орехово-Борисово Северное, муниципальный округ Нагатино-Садовники, муниципальный округ Москворечье-Сабурово}</td>\n",
       "    </tr>\n",
       "    <tr>\n",
       "      <th>2</th>\n",
       "      <td>Кировоградская улица</td>\n",
       "      <td>{муниципальный округ Чертаново Центральное, муниципальный округ Чертаново Южное, муниципальный округ Чертаново Северное}</td>\n",
       "    </tr>\n",
       "    <tr>\n",
       "      <th>3</th>\n",
       "      <td>Кутузовский проспект</td>\n",
       "      <td>{муниципальный округ Фили-Давыдково, муниципальный округ Дорогомилово}</td>\n",
       "    </tr>\n",
       "    <tr>\n",
       "      <th>4</th>\n",
       "      <td>Ленинградский проспект</td>\n",
       "      <td>{муниципальный округ Хорошевский, муниципальный округ Аэропорт, муниципальный округ Сокол, муниципальный округ Беговой}</td>\n",
       "    </tr>\n",
       "    <tr>\n",
       "      <th>5</th>\n",
       "      <td>Ленинский проспект</td>\n",
       "      <td>{муниципальный округ Ломоносовский, муниципальный округ Донской, муниципальный округ Теплый Стан, муниципальный округ Тропарево-Никулино, муниципальный округ Гагаринский, муниципальный округ Обручевский, муниципальный округ Проспект Вернадского, муниципальный округ Якиманка}</td>\n",
       "    </tr>\n",
       "    <tr>\n",
       "      <th>6</th>\n",
       "      <td>Пресненская набережная</td>\n",
       "      <td>{муниципальный округ Пресненский}</td>\n",
       "    </tr>\n",
       "    <tr>\n",
       "      <th>7</th>\n",
       "      <td>Профсоюзная улица</td>\n",
       "      <td>{муниципальный округ Черемушки, муниципальный округ Ясенево, муниципальный округ Коньково, муниципальный округ Теплый Стан, муниципальный округ Обручевский, муниципальный округ Академический}</td>\n",
       "    </tr>\n",
       "    <tr>\n",
       "      <th>8</th>\n",
       "      <td>проспект Вернадского</td>\n",
       "      <td>{муниципальный округ Ломоносовский, муниципальный округ Тропарево-Никулино, муниципальный округ Гагаринский, муниципальный округ Проспект Вернадского, муниципальный округ Раменки}</td>\n",
       "    </tr>\n",
       "    <tr>\n",
       "      <th>9</th>\n",
       "      <td>проспект Мира</td>\n",
       "      <td>{муниципальный округ Ростокино, муниципальный округ Алексеевский, муниципальный округ Ярославский, муниципальный округ Останкинский, муниципальный округ Свиблово, муниципальный округ Мещанский}</td>\n",
       "    </tr>\n",
       "  </tbody>\n",
       "</table>\n",
       "</div>"
      ],
      "text/plain": [
       "                   street  \\\n",
       "0        Варшавское шоссе   \n",
       "1         Каширское шоссе   \n",
       "2    Кировоградская улица   \n",
       "3    Кутузовский проспект   \n",
       "4  Ленинградский проспект   \n",
       "5      Ленинский проспект   \n",
       "6  Пресненская набережная   \n",
       "7       Профсоюзная улица   \n",
       "8    проспект Вернадского   \n",
       "9           проспект Мира   \n",
       "\n",
       "                                                                                                                                                                                                                                                                              district  \n",
       "0                        {муниципальный округ Южное Бутово, муниципальный округ Чертаново Северное, муниципальный округ Донской, муниципальный округ Нагатино-Садовники, муниципальный округ Чертаново Центральное, муниципальный округ Чертаново Южное, муниципальный округ Нагорный}  \n",
       "1                                                                                                        {муниципальный округ Орехово-Борисово Южное, муниципальный округ Орехово-Борисово Северное, муниципальный округ Нагатино-Садовники, муниципальный округ Москворечье-Сабурово}  \n",
       "2                                                                                                                                                             {муниципальный округ Чертаново Центральное, муниципальный округ Чертаново Южное, муниципальный округ Чертаново Северное}  \n",
       "3                                                                                                                                                                                                               {муниципальный округ Фили-Давыдково, муниципальный округ Дорогомилово}  \n",
       "4                                                                                                                                                              {муниципальный округ Хорошевский, муниципальный округ Аэропорт, муниципальный округ Сокол, муниципальный округ Беговой}  \n",
       "5  {муниципальный округ Ломоносовский, муниципальный округ Донской, муниципальный округ Теплый Стан, муниципальный округ Тропарево-Никулино, муниципальный округ Гагаринский, муниципальный округ Обручевский, муниципальный округ Проспект Вернадского, муниципальный округ Якиманка}  \n",
       "6                                                                                                                                                                                                                                                    {муниципальный округ Пресненский}  \n",
       "7                                                                                      {муниципальный округ Черемушки, муниципальный округ Ясенево, муниципальный округ Коньково, муниципальный округ Теплый Стан, муниципальный округ Обручевский, муниципальный округ Академический}  \n",
       "8                                                                                                  {муниципальный округ Ломоносовский, муниципальный округ Тропарево-Никулино, муниципальный округ Гагаринский, муниципальный округ Проспект Вернадского, муниципальный округ Раменки}  \n",
       "9                                                                                    {муниципальный округ Ростокино, муниципальный округ Алексеевский, муниципальный округ Ярославский, муниципальный округ Останкинский, муниципальный округ Свиблово, муниципальный округ Мещанский}  "
      ]
     },
     "execution_count": 29,
     "metadata": {},
     "output_type": "execute_result"
    }
   ],
   "source": [
    "t_10 = pd.DataFrame(full_top_10_data.groupby('street')['district'].apply(set)).reset_index()\n",
    "t_10.columns = ['street', 'district']\n",
    "pd.options.display.max_colwidth = 500\n",
    "t_10"
   ]
  },
  {
   "cell_type": "markdown",
   "metadata": {},
   "source": [
    "Самыми популярными у нас были проспект Мира, Профсоюзная улица и Ленинградский проспект. Можно было бы предположить, что эти улицы пролегают по особенным платежеспособным или густонаселенным районам. На деле - все три магистрали находятся в разных частях Москвы и не пересекаются между собой. Есть и районы, по которым проходит более одной из топовых улиц. Например, все Чертаново,  Нагатино-Садовники, Теплый Стан - это спальные районы на юге Москвы, а не Центральный округ, как можно было бы предположить. "
   ]
  },
  {
   "cell_type": "markdown",
   "metadata": {},
   "source": [
    "Найдем число улиц с одним объектом общественного питания и где они находятся:"
   ]
  },
  {
   "cell_type": "code",
   "execution_count": 30,
   "metadata": {},
   "outputs": [
    {
     "data": {
      "text/plain": [
       "534"
      ]
     },
     "execution_count": 30,
     "metadata": {},
     "output_type": "execute_result"
    }
   ],
   "source": [
    "single_rest = full_rest_data.groupby('street').filter(lambda g: (g['id'].nunique() == 1))\n",
    "len(single_rest)"
   ]
  },
  {
   "cell_type": "code",
   "execution_count": 31,
   "metadata": {},
   "outputs": [
    {
     "data": {
      "text/html": [
       "<div>\n",
       "<style scoped>\n",
       "    .dataframe tbody tr th:only-of-type {\n",
       "        vertical-align: middle;\n",
       "    }\n",
       "\n",
       "    .dataframe tbody tr th {\n",
       "        vertical-align: top;\n",
       "    }\n",
       "\n",
       "    .dataframe thead th {\n",
       "        text-align: right;\n",
       "    }\n",
       "</style>\n",
       "<table border=\"1\" class=\"dataframe\">\n",
       "  <thead>\n",
       "    <tr style=\"text-align: right;\">\n",
       "      <th></th>\n",
       "      <th>street</th>\n",
       "      <th>district</th>\n",
       "    </tr>\n",
       "  </thead>\n",
       "  <tbody>\n",
       "    <tr>\n",
       "      <th>0</th>\n",
       "      <td>1-й Балтийский переулок</td>\n",
       "      <td>{муниципальный округ Аэропорт}</td>\n",
       "    </tr>\n",
       "    <tr>\n",
       "      <th>1</th>\n",
       "      <td>1-й Басманный переулок</td>\n",
       "      <td>{муниципальный округ Красносельский}</td>\n",
       "    </tr>\n",
       "    <tr>\n",
       "      <th>2</th>\n",
       "      <td>1-й Ботанический проезд</td>\n",
       "      <td>{муниципальный округ Свиблово}</td>\n",
       "    </tr>\n",
       "    <tr>\n",
       "      <th>3</th>\n",
       "      <td>1-й Вешняковский проезд</td>\n",
       "      <td>{муниципальный округ Рязанский}</td>\n",
       "    </tr>\n",
       "    <tr>\n",
       "      <th>4</th>\n",
       "      <td>1-й Голутвинский переулок</td>\n",
       "      <td>{муниципальный округ Якиманка}</td>\n",
       "    </tr>\n",
       "    <tr>\n",
       "      <th>5</th>\n",
       "      <td>1-й Зачатьевский переулок</td>\n",
       "      <td>{муниципальный округ Хамовники}</td>\n",
       "    </tr>\n",
       "    <tr>\n",
       "      <th>6</th>\n",
       "      <td>1-й Кирпичный переулок</td>\n",
       "      <td>{муниципальный округ Соколиная Гора}</td>\n",
       "    </tr>\n",
       "    <tr>\n",
       "      <th>7</th>\n",
       "      <td>1-й Кожевнический переулок</td>\n",
       "      <td>{муниципальный округ Даниловский}</td>\n",
       "    </tr>\n",
       "    <tr>\n",
       "      <th>8</th>\n",
       "      <td>1-й Кожуховский проезд</td>\n",
       "      <td>{муниципальный округ Даниловский}</td>\n",
       "    </tr>\n",
       "    <tr>\n",
       "      <th>9</th>\n",
       "      <td>1-й Коптельский переулок</td>\n",
       "      <td>{муниципальный округ Красносельский}</td>\n",
       "    </tr>\n",
       "  </tbody>\n",
       "</table>\n",
       "</div>"
      ],
      "text/plain": [
       "                       street                              district\n",
       "0     1-й Балтийский переулок        {муниципальный округ Аэропорт}\n",
       "1      1-й Басманный переулок  {муниципальный округ Красносельский}\n",
       "2     1-й Ботанический проезд        {муниципальный округ Свиблово}\n",
       "3     1-й Вешняковский проезд       {муниципальный округ Рязанский}\n",
       "4   1-й Голутвинский переулок        {муниципальный округ Якиманка}\n",
       "5   1-й Зачатьевский переулок       {муниципальный округ Хамовники}\n",
       "6      1-й Кирпичный переулок  {муниципальный округ Соколиная Гора}\n",
       "7  1-й Кожевнический переулок     {муниципальный округ Даниловский}\n",
       "8      1-й Кожуховский проезд     {муниципальный округ Даниловский}\n",
       "9    1-й Коптельский переулок  {муниципальный округ Красносельский}"
      ]
     },
     "execution_count": 31,
     "metadata": {},
     "output_type": "execute_result"
    }
   ],
   "source": [
    "r_1 = pd.DataFrame(single_rest.groupby('street')['district'].apply(set)).reset_index()\n",
    "r_1.columns = ['street', 'district']\n",
    "pd.options.display.max_colwidth = 500\n",
    "r_1.head(10)"
   ]
  },
  {
   "cell_type": "markdown",
   "metadata": {},
   "source": [
    "У меня получилось 534 улицы, на которых только по одному объекту общественного питания. Судя по картографии районов, сам по себе он не имеет значения (здесь есть и центр, и окраины). Важнее протяженность и проходимость улицы - в топ 10 были крупные магистрали, которые проходят через значительную часть города, захватывая от 2х до 8ми районов (за исключением Пресненской набережной – она всего лишь огибает огромный бизнес-комплекс Москва-Сити). Здесь же представлены маленькие и отдаленные улочки."
   ]
  },
  {
   "cell_type": "markdown",
   "metadata": {},
   "source": [
    "Посмотрим на распределение количества посадочных мест для улиц с большим количеством объектов общественного питания, выявим закономерности:"
   ]
  },
  {
   "cell_type": "code",
   "execution_count": 32,
   "metadata": {},
   "outputs": [
    {
     "data": {
      "text/html": [
       "<div>\n",
       "<style scoped>\n",
       "    .dataframe tbody tr th:only-of-type {\n",
       "        vertical-align: middle;\n",
       "    }\n",
       "\n",
       "    .dataframe tbody tr th {\n",
       "        vertical-align: top;\n",
       "    }\n",
       "\n",
       "    .dataframe thead th {\n",
       "        text-align: right;\n",
       "    }\n",
       "</style>\n",
       "<table border=\"1\" class=\"dataframe\">\n",
       "  <thead>\n",
       "    <tr style=\"text-align: right;\">\n",
       "      <th></th>\n",
       "      <th>id</th>\n",
       "      <th>object_name</th>\n",
       "      <th>chain</th>\n",
       "      <th>object_type</th>\n",
       "      <th>address</th>\n",
       "      <th>number</th>\n",
       "      <th>street</th>\n",
       "      <th>district</th>\n",
       "    </tr>\n",
       "  </thead>\n",
       "  <tbody>\n",
       "    <tr>\n",
       "      <th>7147</th>\n",
       "      <td>200572</td>\n",
       "      <td>Гришаев В.В</td>\n",
       "      <td>нет</td>\n",
       "      <td>ресторан</td>\n",
       "      <td>город Москва, Профсоюзная улица, дом 61А</td>\n",
       "      <td>0</td>\n",
       "      <td>Профсоюзная улица</td>\n",
       "      <td>муниципальный округ Черемушки</td>\n",
       "    </tr>\n",
       "  </tbody>\n",
       "</table>\n",
       "</div>"
      ],
      "text/plain": [
       "          id  object_name chain object_type  \\\n",
       "7147  200572  Гришаев В.В   нет    ресторан   \n",
       "\n",
       "                                       address  number             street  \\\n",
       "7147  город Москва, Профсоюзная улица, дом 61А       0  Профсоюзная улица   \n",
       "\n",
       "                           district  \n",
       "7147  муниципальный округ Черемушки  "
      ]
     },
     "execution_count": 32,
     "metadata": {},
     "output_type": "execute_result"
    }
   ],
   "source": [
    "full_top_10_data.sample()"
   ]
  },
  {
   "cell_type": "code",
   "execution_count": 33,
   "metadata": {},
   "outputs": [
    {
     "data": {
      "image/svg+xml": [
       "<svg class=\"main-svg\" xmlns=\"http://www.w3.org/2000/svg\" xmlns:xlink=\"http://www.w3.org/1999/xlink\" width=\"700\" height=\"450\" style=\"\" viewBox=\"0 0 700 450\"><rect x=\"0\" y=\"0\" width=\"700\" height=\"450\" style=\"fill: rgb(255, 255, 255); fill-opacity: 1;\"/><defs id=\"defs-1c1500\"><g class=\"clips\"><clipPath id=\"clip1c1500xyplot\" class=\"plotclip\"><rect width=\"540\" height=\"191\"/></clipPath><clipPath class=\"axesclip\" id=\"clip1c1500x\"><rect x=\"80\" y=\"0\" width=\"540\" height=\"450\"/></clipPath><clipPath class=\"axesclip\" id=\"clip1c1500y\"><rect x=\"0\" y=\"100\" width=\"700\" height=\"191\"/></clipPath><clipPath class=\"axesclip\" id=\"clip1c1500xy\"><rect x=\"80\" y=\"100\" width=\"540\" height=\"191\"/></clipPath></g><g class=\"gradients\"/></defs><g class=\"bglayer\"><rect class=\"bg\" x=\"80\" y=\"100\" width=\"540\" height=\"191\" style=\"fill: rgb(229, 236, 246); fill-opacity: 1; stroke-width: 0;\"/></g><g class=\"layer-below\"><g class=\"imagelayer\"/><g class=\"shapelayer\"/></g><g class=\"cartesianlayer\"><g class=\"subplot xy\"><g class=\"layer-subplot\"><g class=\"shapelayer\"/><g class=\"imagelayer\"/></g><g class=\"gridlayer\"><g class=\"x\"><path class=\"xgrid crisp\" transform=\"translate(107,0)\" d=\"M0,100v191\" style=\"stroke: rgb(255, 255, 255); stroke-opacity: 1; stroke-width: 1px;\"/><path class=\"xgrid crisp\" transform=\"translate(161,0)\" d=\"M0,100v191\" style=\"stroke: rgb(255, 255, 255); stroke-opacity: 1; stroke-width: 1px;\"/><path class=\"xgrid crisp\" transform=\"translate(215,0)\" d=\"M0,100v191\" style=\"stroke: rgb(255, 255, 255); stroke-opacity: 1; stroke-width: 1px;\"/><path class=\"xgrid crisp\" transform=\"translate(269,0)\" d=\"M0,100v191\" style=\"stroke: rgb(255, 255, 255); stroke-opacity: 1; stroke-width: 1px;\"/><path class=\"xgrid crisp\" transform=\"translate(323,0)\" d=\"M0,100v191\" style=\"stroke: rgb(255, 255, 255); stroke-opacity: 1; stroke-width: 1px;\"/><path class=\"xgrid crisp\" transform=\"translate(377,0)\" d=\"M0,100v191\" style=\"stroke: rgb(255, 255, 255); stroke-opacity: 1; stroke-width: 1px;\"/><path class=\"xgrid crisp\" transform=\"translate(431,0)\" d=\"M0,100v191\" style=\"stroke: rgb(255, 255, 255); stroke-opacity: 1; stroke-width: 1px;\"/><path class=\"xgrid crisp\" transform=\"translate(485,0)\" d=\"M0,100v191\" style=\"stroke: rgb(255, 255, 255); stroke-opacity: 1; stroke-width: 1px;\"/><path class=\"xgrid crisp\" transform=\"translate(539,0)\" d=\"M0,100v191\" style=\"stroke: rgb(255, 255, 255); stroke-opacity: 1; stroke-width: 1px;\"/><path class=\"xgrid crisp\" transform=\"translate(593,0)\" d=\"M0,100v191\" style=\"stroke: rgb(255, 255, 255); stroke-opacity: 1; stroke-width: 1px;\"/></g><g class=\"y\"><path class=\"ygrid crisp\" transform=\"translate(0,230.89)\" d=\"M80,0h540\" style=\"stroke: rgb(255, 255, 255); stroke-opacity: 1; stroke-width: 1px;\"/><path class=\"ygrid crisp\" transform=\"translate(0,180.32999999999998)\" d=\"M80,0h540\" style=\"stroke: rgb(255, 255, 255); stroke-opacity: 1; stroke-width: 1px;\"/><path class=\"ygrid crisp\" transform=\"translate(0,129.77)\" d=\"M80,0h540\" style=\"stroke: rgb(255, 255, 255); stroke-opacity: 1; stroke-width: 1px;\"/></g></g><g class=\"zerolinelayer\"><path class=\"yzl zl crisp\" transform=\"translate(0,281.45)\" d=\"M80,0h540\" style=\"stroke: rgb(255, 255, 255); stroke-opacity: 1; stroke-width: 2px;\"/></g><path class=\"xlines-below\"/><path class=\"ylines-below\"/><g class=\"overlines-below\"/><g class=\"xaxislayer-below\"/><g class=\"yaxislayer-below\"/><g class=\"overaxes-below\"/><g class=\"plot\" transform=\"translate(80, 100)\" clip-path=\"url('#clip1c1500xyplot')\"><g class=\"boxlayer mlayer\"><g class=\"trace boxes\" style=\"opacity: 1;\"><path class=\"box\" d=\"M13.77,177.41H40.23M13.77,179.43H40.23V171.74H13.77ZM27,179.43V181.45M27,171.74V161.23M20.39,181.45H33.62M20.39,161.23H33.62\" style=\"vector-effect: non-scaling-stroke; stroke-width: 2px; stroke: rgb(99, 110, 250); stroke-opacity: 1; fill: rgb(99, 110, 250); fill-opacity: 0.5;\"/><path class=\"box\" d=\"M67.77,177.41H94.23M67.77,179.43H94.23V173.36H67.77ZM81,179.43V181.45M81,173.36V164.77M74.39,181.45H87.62M74.39,164.77H87.62\" style=\"vector-effect: non-scaling-stroke; stroke-width: 2px; stroke: rgb(99, 110, 250); stroke-opacity: 1; fill: rgb(99, 110, 250); fill-opacity: 0.5;\"/><path class=\"box\" d=\"M121.77,178.92H148.23M121.77,180.74H148.23V173.61H121.77ZM135,180.74V181.45M135,173.61V163.25M128.39,181.45H141.62M128.39,163.25H141.62\" style=\"vector-effect: non-scaling-stroke; stroke-width: 2px; stroke: rgb(99, 110, 250); stroke-opacity: 1; fill: rgb(99, 110, 250); fill-opacity: 0.5;\"/><path class=\"box\" d=\"M175.77,177.41H202.23M175.77,179.93H202.23V174.37H175.77ZM189,179.93V181.45M189,174.37V166.28M182.39,181.45H195.62M182.39,166.28H195.62\" style=\"vector-effect: non-scaling-stroke; stroke-width: 2px; stroke: rgb(99, 110, 250); stroke-opacity: 1; fill: rgb(99, 110, 250); fill-opacity: 0.5;\"/><path class=\"box\" d=\"M229.77,178.42H256.23M229.77,180.64H256.23V174.83H229.77ZM243,180.64V181.45M243,174.83V166.28M236.39,181.45H249.61M236.39,166.28H249.61\" style=\"vector-effect: non-scaling-stroke; stroke-width: 2px; stroke: rgb(99, 110, 250); stroke-opacity: 1; fill: rgb(99, 110, 250); fill-opacity: 0.5;\"/><path class=\"box\" d=\"M283.77,176.9H310.23M283.77,179.43H310.23V173.36H283.77ZM297,179.43V181.45M297,173.36V164.26M290.39,181.45H303.61M290.39,164.26H303.61\" style=\"vector-effect: non-scaling-stroke; stroke-width: 2px; stroke: rgb(99, 110, 250); stroke-opacity: 1; fill: rgb(99, 110, 250); fill-opacity: 0.5;\"/><path class=\"box\" d=\"M337.77,178.42H364.23M337.77,180.62H364.23V176.39H337.77ZM351,180.62V181.45M351,176.39V171.34M344.39,181.45H357.61M344.39,171.34H357.61\" style=\"vector-effect: non-scaling-stroke; stroke-width: 2px; stroke: rgb(99, 110, 250); stroke-opacity: 1; fill: rgb(99, 110, 250); fill-opacity: 0.5;\"/><path class=\"box\" d=\"M391.77,176.75H418.23M391.77,179.43H418.23V172.35H391.77ZM405,179.43V181.45M405,172.35V163.96M398.39,181.45H411.61M398.39,163.96H411.61\" style=\"vector-effect: non-scaling-stroke; stroke-width: 2px; stroke: rgb(99, 110, 250); stroke-opacity: 1; fill: rgb(99, 110, 250); fill-opacity: 0.5;\"/><path class=\"box\" d=\"M445.77,178.42H472.23M445.77,180.84H472.23V174.37H445.77ZM459,180.84V181.45M459,174.37V165.27M452.39,181.45H465.62M452.39,165.27H465.62\" style=\"vector-effect: non-scaling-stroke; stroke-width: 2px; stroke: rgb(99, 110, 250); stroke-opacity: 1; fill: rgb(99, 110, 250); fill-opacity: 0.5;\"/><path class=\"box\" d=\"M499.77,179.02H526.23M499.77,180.94H526.23V174.88H499.77ZM513,180.94V181.45M513,174.88V165.78M506.39,181.45H519.62M506.39,165.78H519.62\" style=\"vector-effect: non-scaling-stroke; stroke-width: 2px; stroke: rgb(99, 110, 250); stroke-opacity: 1; fill: rgb(99, 110, 250); fill-opacity: 0.5;\"/><g class=\"points\"><path class=\"point\" transform=\"translate(27,155.67)\" d=\"M3,0A3,3 0 1,1 0,-3A3,3 0 0,1 3,0Z\" style=\"opacity: 1; stroke-width: 0px; fill: rgb(99, 110, 250); fill-opacity: 1;\"/><path class=\"point\" transform=\"translate(27,60.11)\" d=\"M3,0A3,3 0 1,1 0,-3A3,3 0 0,1 3,0Z\" style=\"opacity: 1; stroke-width: 0px; fill: rgb(99, 110, 250); fill-opacity: 1;\"/><path class=\"point\" transform=\"translate(27,9.55)\" d=\"M3,0A3,3 0 1,1 0,-3A3,3 0 0,1 3,0Z\" style=\"opacity: 1; stroke-width: 0px; fill: rgb(99, 110, 250); fill-opacity: 1;\"/></g><g class=\"points\"><path class=\"point\" transform=\"translate(81,164.06)\" d=\"M3,0A3,3 0 1,1 0,-3A3,3 0 0,1 3,0Z\" style=\"opacity: 1; stroke-width: 0px; fill: rgb(99, 110, 250); fill-opacity: 1;\"/><path class=\"point\" transform=\"translate(81,163.25)\" d=\"M3,0A3,3 0 1,1 0,-3A3,3 0 0,1 3,0Z\" style=\"opacity: 1; stroke-width: 0px; fill: rgb(99, 110, 250); fill-opacity: 1;\"/><path class=\"point\" transform=\"translate(81,162.64)\" d=\"M3,0A3,3 0 1,1 0,-3A3,3 0 0,1 3,0Z\" style=\"opacity: 1; stroke-width: 0px; fill: rgb(99, 110, 250); fill-opacity: 1;\"/><path class=\"point\" transform=\"translate(81,161.23)\" d=\"M3,0A3,3 0 1,1 0,-3A3,3 0 0,1 3,0Z\" style=\"opacity: 1; stroke-width: 0px; fill: rgb(99, 110, 250); fill-opacity: 1;\"/><path class=\"point\" transform=\"translate(81,161.23)\" d=\"M3,0A3,3 0 1,1 0,-3A3,3 0 0,1 3,0Z\" style=\"opacity: 1; stroke-width: 0px; fill: rgb(99, 110, 250); fill-opacity: 1;\"/><path class=\"point\" transform=\"translate(81,161.23)\" d=\"M3,0A3,3 0 1,1 0,-3A3,3 0 0,1 3,0Z\" style=\"opacity: 1; stroke-width: 0px; fill: rgb(99, 110, 250); fill-opacity: 1;\"/><path class=\"point\" transform=\"translate(81,157.18)\" d=\"M3,0A3,3 0 1,1 0,-3A3,3 0 0,1 3,0Z\" style=\"opacity: 1; stroke-width: 0px; fill: rgb(99, 110, 250); fill-opacity: 1;\"/><path class=\"point\" transform=\"translate(81,156.17)\" d=\"M3,0A3,3 0 1,1 0,-3A3,3 0 0,1 3,0Z\" style=\"opacity: 1; stroke-width: 0px; fill: rgb(99, 110, 250); fill-opacity: 1;\"/><path class=\"point\" transform=\"translate(81,148.28)\" d=\"M3,0A3,3 0 1,1 0,-3A3,3 0 0,1 3,0Z\" style=\"opacity: 1; stroke-width: 0px; fill: rgb(99, 110, 250); fill-opacity: 1;\"/><path class=\"point\" transform=\"translate(81,51.21)\" d=\"M3,0A3,3 0 1,1 0,-3A3,3 0 0,1 3,0Z\" style=\"opacity: 1; stroke-width: 0px; fill: rgb(99, 110, 250); fill-opacity: 1;\"/></g><g class=\"points\"><path class=\"point\" transform=\"translate(135,161.23)\" d=\"M3,0A3,3 0 1,1 0,-3A3,3 0 0,1 3,0Z\" style=\"opacity: 1; stroke-width: 0px; fill: rgb(99, 110, 250); fill-opacity: 1;\"/><path class=\"point\" transform=\"translate(135,161.23)\" d=\"M3,0A3,3 0 1,1 0,-3A3,3 0 0,1 3,0Z\" style=\"opacity: 1; stroke-width: 0px; fill: rgb(99, 110, 250); fill-opacity: 1;\"/><path class=\"point\" transform=\"translate(135,161.23)\" d=\"M3,0A3,3 0 1,1 0,-3A3,3 0 0,1 3,0Z\" style=\"opacity: 1; stroke-width: 0px; fill: rgb(99, 110, 250); fill-opacity: 1;\"/><path class=\"point\" transform=\"translate(135,154.35)\" d=\"M3,0A3,3 0 1,1 0,-3A3,3 0 0,1 3,0Z\" style=\"opacity: 1; stroke-width: 0px; fill: rgb(99, 110, 250); fill-opacity: 1;\"/><path class=\"point\" transform=\"translate(135,151.92)\" d=\"M3,0A3,3 0 1,1 0,-3A3,3 0 0,1 3,0Z\" style=\"opacity: 1; stroke-width: 0px; fill: rgb(99, 110, 250); fill-opacity: 1;\"/><path class=\"point\" transform=\"translate(135,146.06)\" d=\"M3,0A3,3 0 1,1 0,-3A3,3 0 0,1 3,0Z\" style=\"opacity: 1; stroke-width: 0px; fill: rgb(99, 110, 250); fill-opacity: 1;\"/><path class=\"point\" transform=\"translate(135,112.69)\" d=\"M3,0A3,3 0 1,1 0,-3A3,3 0 0,1 3,0Z\" style=\"opacity: 1; stroke-width: 0px; fill: rgb(99, 110, 250); fill-opacity: 1;\"/></g><g class=\"points\"><path class=\"point\" transform=\"translate(189,165.27)\" d=\"M3,0A3,3 0 1,1 0,-3A3,3 0 0,1 3,0Z\" style=\"opacity: 1; stroke-width: 0px; fill: rgb(99, 110, 250); fill-opacity: 1;\"/><path class=\"point\" transform=\"translate(189,163.25)\" d=\"M3,0A3,3 0 1,1 0,-3A3,3 0 0,1 3,0Z\" style=\"opacity: 1; stroke-width: 0px; fill: rgb(99, 110, 250); fill-opacity: 1;\"/><path class=\"point\" transform=\"translate(189,162.24)\" d=\"M3,0A3,3 0 1,1 0,-3A3,3 0 0,1 3,0Z\" style=\"opacity: 1; stroke-width: 0px; fill: rgb(99, 110, 250); fill-opacity: 1;\"/><path class=\"point\" transform=\"translate(189,157.99)\" d=\"M3,0A3,3 0 1,1 0,-3A3,3 0 0,1 3,0Z\" style=\"opacity: 1; stroke-width: 0px; fill: rgb(99, 110, 250); fill-opacity: 1;\"/><path class=\"point\" transform=\"translate(189,151.11)\" d=\"M3,0A3,3 0 1,1 0,-3A3,3 0 0,1 3,0Z\" style=\"opacity: 1; stroke-width: 0px; fill: rgb(99, 110, 250); fill-opacity: 1;\"/><path class=\"point\" transform=\"translate(189,118.25)\" d=\"M3,0A3,3 0 1,1 0,-3A3,3 0 0,1 3,0Z\" style=\"opacity: 1; stroke-width: 0px; fill: rgb(99, 110, 250); fill-opacity: 1;\"/></g><g class=\"points\"><path class=\"point\" transform=\"translate(243,163.25)\" d=\"M3,0A3,3 0 1,1 0,-3A3,3 0 0,1 3,0Z\" style=\"opacity: 1; stroke-width: 0px; fill: rgb(99, 110, 250); fill-opacity: 1;\"/><path class=\"point\" transform=\"translate(243,163.25)\" d=\"M3,0A3,3 0 1,1 0,-3A3,3 0 0,1 3,0Z\" style=\"opacity: 1; stroke-width: 0px; fill: rgb(99, 110, 250); fill-opacity: 1;\"/><path class=\"point\" transform=\"translate(243,161.23)\" d=\"M3,0A3,3 0 1,1 0,-3A3,3 0 0,1 3,0Z\" style=\"opacity: 1; stroke-width: 0px; fill: rgb(99, 110, 250); fill-opacity: 1;\"/><path class=\"point\" transform=\"translate(243,157.18)\" d=\"M3,0A3,3 0 1,1 0,-3A3,3 0 0,1 3,0Z\" style=\"opacity: 1; stroke-width: 0px; fill: rgb(99, 110, 250); fill-opacity: 1;\"/><path class=\"point\" transform=\"translate(243,156.17)\" d=\"M3,0A3,3 0 1,1 0,-3A3,3 0 0,1 3,0Z\" style=\"opacity: 1; stroke-width: 0px; fill: rgb(99, 110, 250); fill-opacity: 1;\"/><path class=\"point\" transform=\"translate(243,151.11)\" d=\"M3,0A3,3 0 1,1 0,-3A3,3 0 0,1 3,0Z\" style=\"opacity: 1; stroke-width: 0px; fill: rgb(99, 110, 250); fill-opacity: 1;\"/><path class=\"point\" transform=\"translate(243,151.11)\" d=\"M3,0A3,3 0 1,1 0,-3A3,3 0 0,1 3,0Z\" style=\"opacity: 1; stroke-width: 0px; fill: rgb(99, 110, 250); fill-opacity: 1;\"/><path class=\"point\" transform=\"translate(243,151.11)\" d=\"M3,0A3,3 0 1,1 0,-3A3,3 0 0,1 3,0Z\" style=\"opacity: 1; stroke-width: 0px; fill: rgb(99, 110, 250); fill-opacity: 1;\"/><path class=\"point\" transform=\"translate(243,151.11)\" d=\"M3,0A3,3 0 1,1 0,-3A3,3 0 0,1 3,0Z\" style=\"opacity: 1; stroke-width: 0px; fill: rgb(99, 110, 250); fill-opacity: 1;\"/><path class=\"point\" transform=\"translate(243,143.03)\" d=\"M3,0A3,3 0 1,1 0,-3A3,3 0 0,1 3,0Z\" style=\"opacity: 1; stroke-width: 0px; fill: rgb(99, 110, 250); fill-opacity: 1;\"/><path class=\"point\" transform=\"translate(243,130.89)\" d=\"M3,0A3,3 0 1,1 0,-3A3,3 0 0,1 3,0Z\" style=\"opacity: 1; stroke-width: 0px; fill: rgb(99, 110, 250); fill-opacity: 1;\"/></g><g class=\"points\"><path class=\"point\" transform=\"translate(297,162.74)\" d=\"M3,0A3,3 0 1,1 0,-3A3,3 0 0,1 3,0Z\" style=\"opacity: 1; stroke-width: 0px; fill: rgb(99, 110, 250); fill-opacity: 1;\"/><path class=\"point\" transform=\"translate(297,161.23)\" d=\"M3,0A3,3 0 1,1 0,-3A3,3 0 0,1 3,0Z\" style=\"opacity: 1; stroke-width: 0px; fill: rgb(99, 110, 250); fill-opacity: 1;\"/><path class=\"point\" transform=\"translate(297,161.23)\" d=\"M3,0A3,3 0 1,1 0,-3A3,3 0 0,1 3,0Z\" style=\"opacity: 1; stroke-width: 0px; fill: rgb(99, 110, 250); fill-opacity: 1;\"/><path class=\"point\" transform=\"translate(297,161.23)\" d=\"M3,0A3,3 0 1,1 0,-3A3,3 0 0,1 3,0Z\" style=\"opacity: 1; stroke-width: 0px; fill: rgb(99, 110, 250); fill-opacity: 1;\"/><path class=\"point\" transform=\"translate(297,159.2)\" d=\"M3,0A3,3 0 1,1 0,-3A3,3 0 0,1 3,0Z\" style=\"opacity: 1; stroke-width: 0px; fill: rgb(99, 110, 250); fill-opacity: 1;\"/><path class=\"point\" transform=\"translate(297,156.17)\" d=\"M3,0A3,3 0 1,1 0,-3A3,3 0 0,1 3,0Z\" style=\"opacity: 1; stroke-width: 0px; fill: rgb(99, 110, 250); fill-opacity: 1;\"/><path class=\"point\" transform=\"translate(297,156.17)\" d=\"M3,0A3,3 0 1,1 0,-3A3,3 0 0,1 3,0Z\" style=\"opacity: 1; stroke-width: 0px; fill: rgb(99, 110, 250); fill-opacity: 1;\"/><path class=\"point\" transform=\"translate(297,152.13)\" d=\"M3,0A3,3 0 1,1 0,-3A3,3 0 0,1 3,0Z\" style=\"opacity: 1; stroke-width: 0px; fill: rgb(99, 110, 250); fill-opacity: 1;\"/><path class=\"point\" transform=\"translate(297,151.11)\" d=\"M3,0A3,3 0 1,1 0,-3A3,3 0 0,1 3,0Z\" style=\"opacity: 1; stroke-width: 0px; fill: rgb(99, 110, 250); fill-opacity: 1;\"/><path class=\"point\" transform=\"translate(297,131.4)\" d=\"M3,0A3,3 0 1,1 0,-3A3,3 0 0,1 3,0Z\" style=\"opacity: 1; stroke-width: 0px; fill: rgb(99, 110, 250); fill-opacity: 1;\"/></g><g class=\"points\"><path class=\"point\" transform=\"translate(351,169.32)\" d=\"M3,0A3,3 0 1,1 0,-3A3,3 0 0,1 3,0Z\" style=\"opacity: 1; stroke-width: 0px; fill: rgb(99, 110, 250); fill-opacity: 1;\"/><path class=\"point\" transform=\"translate(351,169.32)\" d=\"M3,0A3,3 0 1,1 0,-3A3,3 0 0,1 3,0Z\" style=\"opacity: 1; stroke-width: 0px; fill: rgb(99, 110, 250); fill-opacity: 1;\"/><path class=\"point\" transform=\"translate(351,169.32)\" d=\"M3,0A3,3 0 1,1 0,-3A3,3 0 0,1 3,0Z\" style=\"opacity: 1; stroke-width: 0px; fill: rgb(99, 110, 250); fill-opacity: 1;\"/><path class=\"point\" transform=\"translate(351,167.29)\" d=\"M3,0A3,3 0 1,1 0,-3A3,3 0 0,1 3,0Z\" style=\"opacity: 1; stroke-width: 0px; fill: rgb(99, 110, 250); fill-opacity: 1;\"/><path class=\"point\" transform=\"translate(351,166.28)\" d=\"M3,0A3,3 0 1,1 0,-3A3,3 0 0,1 3,0Z\" style=\"opacity: 1; stroke-width: 0px; fill: rgb(99, 110, 250); fill-opacity: 1;\"/><path class=\"point\" transform=\"translate(351,166.28)\" d=\"M3,0A3,3 0 1,1 0,-3A3,3 0 0,1 3,0Z\" style=\"opacity: 1; stroke-width: 0px; fill: rgb(99, 110, 250); fill-opacity: 1;\"/><path class=\"point\" transform=\"translate(351,166.28)\" d=\"M3,0A3,3 0 1,1 0,-3A3,3 0 0,1 3,0Z\" style=\"opacity: 1; stroke-width: 0px; fill: rgb(99, 110, 250); fill-opacity: 1;\"/><path class=\"point\" transform=\"translate(351,166.28)\" d=\"M3,0A3,3 0 1,1 0,-3A3,3 0 0,1 3,0Z\" style=\"opacity: 1; stroke-width: 0px; fill: rgb(99, 110, 250); fill-opacity: 1;\"/><path class=\"point\" transform=\"translate(351,166.28)\" d=\"M3,0A3,3 0 1,1 0,-3A3,3 0 0,1 3,0Z\" style=\"opacity: 1; stroke-width: 0px; fill: rgb(99, 110, 250); fill-opacity: 1;\"/><path class=\"point\" transform=\"translate(351,158.19)\" d=\"M3,0A3,3 0 1,1 0,-3A3,3 0 0,1 3,0Z\" style=\"opacity: 1; stroke-width: 0px; fill: rgb(99, 110, 250); fill-opacity: 1;\"/><path class=\"point\" transform=\"translate(351,157.49)\" d=\"M3,0A3,3 0 1,1 0,-3A3,3 0 0,1 3,0Z\" style=\"opacity: 1; stroke-width: 0px; fill: rgb(99, 110, 250); fill-opacity: 1;\"/><path class=\"point\" transform=\"translate(351,156.17)\" d=\"M3,0A3,3 0 1,1 0,-3A3,3 0 0,1 3,0Z\" style=\"opacity: 1; stroke-width: 0px; fill: rgb(99, 110, 250); fill-opacity: 1;\"/><path class=\"point\" transform=\"translate(351,156.17)\" d=\"M3,0A3,3 0 1,1 0,-3A3,3 0 0,1 3,0Z\" style=\"opacity: 1; stroke-width: 0px; fill: rgb(99, 110, 250); fill-opacity: 1;\"/><path class=\"point\" transform=\"translate(351,151.11)\" d=\"M3,0A3,3 0 1,1 0,-3A3,3 0 0,1 3,0Z\" style=\"opacity: 1; stroke-width: 0px; fill: rgb(99, 110, 250); fill-opacity: 1;\"/><path class=\"point\" transform=\"translate(351,146.06)\" d=\"M3,0A3,3 0 1,1 0,-3A3,3 0 0,1 3,0Z\" style=\"opacity: 1; stroke-width: 0px; fill: rgb(99, 110, 250); fill-opacity: 1;\"/><path class=\"point\" transform=\"translate(351,133.12)\" d=\"M3,0A3,3 0 1,1 0,-3A3,3 0 0,1 3,0Z\" style=\"opacity: 1; stroke-width: 0px; fill: rgb(99, 110, 250); fill-opacity: 1;\"/></g><g class=\"points\"><path class=\"point\" transform=\"translate(405,161.43)\" d=\"M3,0A3,3 0 1,1 0,-3A3,3 0 0,1 3,0Z\" style=\"opacity: 1; stroke-width: 0px; fill: rgb(99, 110, 250); fill-opacity: 1;\"/><path class=\"point\" transform=\"translate(405,161.23)\" d=\"M3,0A3,3 0 1,1 0,-3A3,3 0 0,1 3,0Z\" style=\"opacity: 1; stroke-width: 0px; fill: rgb(99, 110, 250); fill-opacity: 1;\"/><path class=\"point\" transform=\"translate(405,161.23)\" d=\"M3,0A3,3 0 1,1 0,-3A3,3 0 0,1 3,0Z\" style=\"opacity: 1; stroke-width: 0px; fill: rgb(99, 110, 250); fill-opacity: 1;\"/><path class=\"point\" transform=\"translate(405,161.23)\" d=\"M3,0A3,3 0 1,1 0,-3A3,3 0 0,1 3,0Z\" style=\"opacity: 1; stroke-width: 0px; fill: rgb(99, 110, 250); fill-opacity: 1;\"/><path class=\"point\" transform=\"translate(405,159.41)\" d=\"M3,0A3,3 0 1,1 0,-3A3,3 0 0,1 3,0Z\" style=\"opacity: 1; stroke-width: 0px; fill: rgb(99, 110, 250); fill-opacity: 1;\"/><path class=\"point\" transform=\"translate(405,158.7)\" d=\"M3,0A3,3 0 1,1 0,-3A3,3 0 0,1 3,0Z\" style=\"opacity: 1; stroke-width: 0px; fill: rgb(99, 110, 250); fill-opacity: 1;\"/><path class=\"point\" transform=\"translate(405,156.17)\" d=\"M3,0A3,3 0 1,1 0,-3A3,3 0 0,1 3,0Z\" style=\"opacity: 1; stroke-width: 0px; fill: rgb(99, 110, 250); fill-opacity: 1;\"/><path class=\"point\" transform=\"translate(405,156.17)\" d=\"M3,0A3,3 0 1,1 0,-3A3,3 0 0,1 3,0Z\" style=\"opacity: 1; stroke-width: 0px; fill: rgb(99, 110, 250); fill-opacity: 1;\"/><path class=\"point\" transform=\"translate(405,156.17)\" d=\"M3,0A3,3 0 1,1 0,-3A3,3 0 0,1 3,0Z\" style=\"opacity: 1; stroke-width: 0px; fill: rgb(99, 110, 250); fill-opacity: 1;\"/><path class=\"point\" transform=\"translate(405,153.84)\" d=\"M3,0A3,3 0 1,1 0,-3A3,3 0 0,1 3,0Z\" style=\"opacity: 1; stroke-width: 0px; fill: rgb(99, 110, 250); fill-opacity: 1;\"/><path class=\"point\" transform=\"translate(405,148.49)\" d=\"M3,0A3,3 0 1,1 0,-3A3,3 0 0,1 3,0Z\" style=\"opacity: 1; stroke-width: 0px; fill: rgb(99, 110, 250); fill-opacity: 1;\"/></g><g class=\"points\"><path class=\"point\" transform=\"translate(459,161.23)\" d=\"M3,0A3,3 0 1,1 0,-3A3,3 0 0,1 3,0Z\" style=\"opacity: 1; stroke-width: 0px; fill: rgb(99, 110, 250); fill-opacity: 1;\"/><path class=\"point\" transform=\"translate(459,157.18)\" d=\"M3,0A3,3 0 1,1 0,-3A3,3 0 0,1 3,0Z\" style=\"opacity: 1; stroke-width: 0px; fill: rgb(99, 110, 250); fill-opacity: 1;\"/><path class=\"point\" transform=\"translate(459,157.18)\" d=\"M3,0A3,3 0 1,1 0,-3A3,3 0 0,1 3,0Z\" style=\"opacity: 1; stroke-width: 0px; fill: rgb(99, 110, 250); fill-opacity: 1;\"/><path class=\"point\" transform=\"translate(459,157.18)\" d=\"M3,0A3,3 0 1,1 0,-3A3,3 0 0,1 3,0Z\" style=\"opacity: 1; stroke-width: 0px; fill: rgb(99, 110, 250); fill-opacity: 1;\"/><path class=\"point\" transform=\"translate(459,157.18)\" d=\"M3,0A3,3 0 1,1 0,-3A3,3 0 0,1 3,0Z\" style=\"opacity: 1; stroke-width: 0px; fill: rgb(99, 110, 250); fill-opacity: 1;\"/><path class=\"point\" transform=\"translate(459,157.18)\" d=\"M3,0A3,3 0 1,1 0,-3A3,3 0 0,1 3,0Z\" style=\"opacity: 1; stroke-width: 0px; fill: rgb(99, 110, 250); fill-opacity: 1;\"/><path class=\"point\" transform=\"translate(459,156.17)\" d=\"M3,0A3,3 0 1,1 0,-3A3,3 0 0,1 3,0Z\" style=\"opacity: 1; stroke-width: 0px; fill: rgb(99, 110, 250); fill-opacity: 1;\"/><path class=\"point\" transform=\"translate(459,156.17)\" d=\"M3,0A3,3 0 1,1 0,-3A3,3 0 0,1 3,0Z\" style=\"opacity: 1; stroke-width: 0px; fill: rgb(99, 110, 250); fill-opacity: 1;\"/><path class=\"point\" transform=\"translate(459,151.11)\" d=\"M3,0A3,3 0 1,1 0,-3A3,3 0 0,1 3,0Z\" style=\"opacity: 1; stroke-width: 0px; fill: rgb(99, 110, 250); fill-opacity: 1;\"/><path class=\"point\" transform=\"translate(459,151.11)\" d=\"M3,0A3,3 0 1,1 0,-3A3,3 0 0,1 3,0Z\" style=\"opacity: 1; stroke-width: 0px; fill: rgb(99, 110, 250); fill-opacity: 1;\"/><path class=\"point\" transform=\"translate(459,151.11)\" d=\"M3,0A3,3 0 1,1 0,-3A3,3 0 0,1 3,0Z\" style=\"opacity: 1; stroke-width: 0px; fill: rgb(99, 110, 250); fill-opacity: 1;\"/><path class=\"point\" transform=\"translate(459,151.11)\" d=\"M3,0A3,3 0 1,1 0,-3A3,3 0 0,1 3,0Z\" style=\"opacity: 1; stroke-width: 0px; fill: rgb(99, 110, 250); fill-opacity: 1;\"/></g><g class=\"points\"><path class=\"point\" transform=\"translate(513,165.27)\" d=\"M3,0A3,3 0 1,1 0,-3A3,3 0 0,1 3,0Z\" style=\"opacity: 1; stroke-width: 0px; fill: rgb(99, 110, 250); fill-opacity: 1;\"/><path class=\"point\" transform=\"translate(513,165.27)\" d=\"M3,0A3,3 0 1,1 0,-3A3,3 0 0,1 3,0Z\" style=\"opacity: 1; stroke-width: 0px; fill: rgb(99, 110, 250); fill-opacity: 1;\"/><path class=\"point\" transform=\"translate(513,164.26)\" d=\"M3,0A3,3 0 1,1 0,-3A3,3 0 0,1 3,0Z\" style=\"opacity: 1; stroke-width: 0px; fill: rgb(99, 110, 250); fill-opacity: 1;\"/><path class=\"point\" transform=\"translate(513,163.25)\" d=\"M3,0A3,3 0 1,1 0,-3A3,3 0 0,1 3,0Z\" style=\"opacity: 1; stroke-width: 0px; fill: rgb(99, 110, 250); fill-opacity: 1;\"/><path class=\"point\" transform=\"translate(513,162.24)\" d=\"M3,0A3,3 0 1,1 0,-3A3,3 0 0,1 3,0Z\" style=\"opacity: 1; stroke-width: 0px; fill: rgb(99, 110, 250); fill-opacity: 1;\"/><path class=\"point\" transform=\"translate(513,161.43)\" d=\"M3,0A3,3 0 1,1 0,-3A3,3 0 0,1 3,0Z\" style=\"opacity: 1; stroke-width: 0px; fill: rgb(99, 110, 250); fill-opacity: 1;\"/><path class=\"point\" transform=\"translate(513,161.23)\" d=\"M3,0A3,3 0 1,1 0,-3A3,3 0 0,1 3,0Z\" style=\"opacity: 1; stroke-width: 0px; fill: rgb(99, 110, 250); fill-opacity: 1;\"/><path class=\"point\" transform=\"translate(513,161.23)\" d=\"M3,0A3,3 0 1,1 0,-3A3,3 0 0,1 3,0Z\" style=\"opacity: 1; stroke-width: 0px; fill: rgb(99, 110, 250); fill-opacity: 1;\"/><path class=\"point\" transform=\"translate(513,161.23)\" d=\"M3,0A3,3 0 1,1 0,-3A3,3 0 0,1 3,0Z\" style=\"opacity: 1; stroke-width: 0px; fill: rgb(99, 110, 250); fill-opacity: 1;\"/><path class=\"point\" transform=\"translate(513,160.22)\" d=\"M3,0A3,3 0 1,1 0,-3A3,3 0 0,1 3,0Z\" style=\"opacity: 1; stroke-width: 0px; fill: rgb(99, 110, 250); fill-opacity: 1;\"/><path class=\"point\" transform=\"translate(513,159.2)\" d=\"M3,0A3,3 0 1,1 0,-3A3,3 0 0,1 3,0Z\" style=\"opacity: 1; stroke-width: 0px; fill: rgb(99, 110, 250); fill-opacity: 1;\"/><path class=\"point\" transform=\"translate(513,157.18)\" d=\"M3,0A3,3 0 1,1 0,-3A3,3 0 0,1 3,0Z\" style=\"opacity: 1; stroke-width: 0px; fill: rgb(99, 110, 250); fill-opacity: 1;\"/><path class=\"point\" transform=\"translate(513,157.18)\" d=\"M3,0A3,3 0 1,1 0,-3A3,3 0 0,1 3,0Z\" style=\"opacity: 1; stroke-width: 0px; fill: rgb(99, 110, 250); fill-opacity: 1;\"/></g></g></g></g><g class=\"overplot\"/><path class=\"xlines-above crisp\" d=\"M79,291.5H620\" style=\"fill: none; stroke-width: 1px; stroke: rgb(255, 255, 255); stroke-opacity: 1;\"/><path class=\"ylines-above crisp\" d=\"M79.5,100V291\" style=\"fill: none; stroke-width: 1px; stroke: rgb(255, 255, 255); stroke-opacity: 1;\"/><g class=\"overlines-above\"/><g class=\"xaxislayer-above\"><g class=\"xtick\"><text text-anchor=\"start\" x=\"0\" y=\"306.4\" transform=\"translate(107,0) rotate(45,0,300.4)\" style=\"font-family: 'Open Sans', verdana, arial, sans-serif; font-size: 12px; fill: rgb(42, 63, 95); fill-opacity: 1; white-space: pre;\">Кутузовский проспект</text></g><g class=\"xtick\"><text text-anchor=\"start\" x=\"0\" y=\"306.4\" transform=\"translate(161,0) rotate(45,0,300.4)\" style=\"font-family: 'Open Sans', verdana, arial, sans-serif; font-size: 12px; fill: rgb(42, 63, 95); fill-opacity: 1; white-space: pre;\">проспект Вернадского</text></g><g class=\"xtick\"><text text-anchor=\"start\" x=\"0\" y=\"306.4\" transform=\"translate(215,0) rotate(45,0,300.4)\" style=\"font-family: 'Open Sans', verdana, arial, sans-serif; font-size: 12px; fill: rgb(42, 63, 95); fill-opacity: 1; white-space: pre;\">Каширское шоссе</text></g><g class=\"xtick\"><text text-anchor=\"start\" x=\"0\" y=\"306.4\" transform=\"translate(269,0) rotate(45,0,300.4)\" style=\"font-family: 'Open Sans', verdana, arial, sans-serif; font-size: 12px; fill: rgb(42, 63, 95); fill-opacity: 1; white-space: pre;\">Ленинградский проспект</text></g><g class=\"xtick\"><text text-anchor=\"start\" x=\"0\" y=\"306.4\" transform=\"translate(323,0) rotate(45,0,300.4)\" style=\"font-family: 'Open Sans', verdana, arial, sans-serif; font-size: 12px; fill: rgb(42, 63, 95); fill-opacity: 1; white-space: pre;\">Варшавское шоссе</text></g><g class=\"xtick\"><text text-anchor=\"start\" x=\"0\" y=\"306.4\" transform=\"translate(377,0) rotate(45,0,300.4)\" style=\"font-family: 'Open Sans', verdana, arial, sans-serif; font-size: 12px; fill: rgb(42, 63, 95); fill-opacity: 1; white-space: pre;\">Ленинский проспект</text></g><g class=\"xtick\"><text text-anchor=\"start\" x=\"0\" y=\"306.4\" transform=\"translate(431,0) rotate(45,0,300.4)\" style=\"font-family: 'Open Sans', verdana, arial, sans-serif; font-size: 12px; fill: rgb(42, 63, 95); fill-opacity: 1; white-space: pre;\">Пресненская набережная</text></g><g class=\"xtick\"><text text-anchor=\"start\" x=\"0\" y=\"306.4\" transform=\"translate(485,0) rotate(45,0,300.4)\" style=\"font-family: 'Open Sans', verdana, arial, sans-serif; font-size: 12px; fill: rgb(42, 63, 95); fill-opacity: 1; white-space: pre;\">проспект Мира</text></g><g class=\"xtick\"><text text-anchor=\"start\" x=\"0\" y=\"306.4\" transform=\"translate(539,0) rotate(45,0,300.4)\" style=\"font-family: 'Open Sans', verdana, arial, sans-serif; font-size: 12px; fill: rgb(42, 63, 95); fill-opacity: 1; white-space: pre;\">Кировоградская улица</text></g><g class=\"xtick\"><text text-anchor=\"start\" x=\"0\" y=\"306.4\" transform=\"translate(593,0) rotate(45,0,300.4)\" style=\"font-family: 'Open Sans', verdana, arial, sans-serif; font-size: 12px; fill: rgb(42, 63, 95); fill-opacity: 1; white-space: pre;\">Профсоюзная улица</text></g></g><g class=\"yaxislayer-above\"><g class=\"ytick\"><text text-anchor=\"end\" x=\"76.6\" y=\"4.199999999999999\" transform=\"translate(0,281.45)\" style=\"font-family: 'Open Sans', verdana, arial, sans-serif; font-size: 12px; fill: rgb(42, 63, 95); fill-opacity: 1; white-space: pre;\">0</text></g><g class=\"ytick\"><text text-anchor=\"end\" x=\"76.6\" y=\"4.199999999999999\" transform=\"translate(0,230.89)\" style=\"font-family: 'Open Sans', verdana, arial, sans-serif; font-size: 12px; fill: rgb(42, 63, 95); fill-opacity: 1; white-space: pre;\">500</text></g><g class=\"ytick\"><text text-anchor=\"end\" x=\"76.6\" y=\"4.199999999999999\" transform=\"translate(0,180.32999999999998)\" style=\"font-family: 'Open Sans', verdana, arial, sans-serif; font-size: 12px; fill: rgb(42, 63, 95); fill-opacity: 1; white-space: pre;\">1000</text></g><g class=\"ytick\"><text text-anchor=\"end\" x=\"76.6\" y=\"4.199999999999999\" transform=\"translate(0,129.77)\" style=\"font-family: 'Open Sans', verdana, arial, sans-serif; font-size: 12px; fill: rgb(42, 63, 95); fill-opacity: 1; white-space: pre;\">1500</text></g></g><g class=\"overaxes-above\"/></g></g><g class=\"polarlayer\"/><g class=\"ternarylayer\"/><g class=\"geolayer\"/><g class=\"funnelarealayer\"/><g class=\"pielayer\"/><g class=\"treemaplayer\"/><g class=\"sunburstlayer\"/><g class=\"glimages\"/><defs id=\"topdefs-1c1500\"><g class=\"clips\"/></defs><g class=\"layer-above\"><g class=\"imagelayer\"/><g class=\"shapelayer\"/></g><g class=\"infolayer\"><g class=\"g-gtitle\"><text class=\"gtitle\" x=\"35\" y=\"50\" text-anchor=\"start\" dy=\"0em\" style=\"font-family: 'Open Sans', verdana, arial, sans-serif; font-size: 17px; fill: rgb(42, 63, 95); opacity: 1; font-weight: normal; white-space: pre;\">Распределение количества посадочных мест</text></g><g class=\"g-xtitle\"><text class=\"xtitle\" x=\"350\" y=\"438.4291046142578\" text-anchor=\"middle\" style=\"font-family: 'Open Sans', verdana, arial, sans-serif; font-size: 14px; fill: rgb(42, 63, 95); opacity: 1; font-weight: normal; white-space: pre;\">street</text></g><g class=\"g-ytitle\"><text class=\"ytitle\" transform=\"rotate(-90,24.340625000000003,195.5)\" x=\"24.340625000000003\" y=\"195.5\" text-anchor=\"middle\" style=\"font-family: 'Open Sans', verdana, arial, sans-serif; font-size: 14px; fill: rgb(42, 63, 95); opacity: 1; font-weight: normal; white-space: pre;\">number</text></g></g></svg>"
      ]
     },
     "metadata": {},
     "output_type": "display_data"
    }
   ],
   "source": [
    "fig = px.box(top_10_str_data.sort_values(by='number', ascending=False), x=\"street\", y=\"number\",\n",
    "            title= 'Распределение количества посадочных мест')\n",
    "fig.update_xaxes(tickangle=45)\n",
    "fig.show()"
   ]
  },
  {
   "cell_type": "markdown",
   "metadata": {},
   "source": [
    "На диаграмме видно, данные неоднородные. Посмотрим распределение по среднему и медиане. "
   ]
  },
  {
   "cell_type": "code",
   "execution_count": 34,
   "metadata": {},
   "outputs": [
    {
     "data": {
      "image/svg+xml": [
       "<svg class=\"main-svg\" xmlns=\"http://www.w3.org/2000/svg\" xmlns:xlink=\"http://www.w3.org/1999/xlink\" width=\"700\" height=\"450\" style=\"\" viewBox=\"0 0 700 450\"><rect x=\"0\" y=\"0\" width=\"700\" height=\"450\" style=\"fill: rgb(255, 255, 255); fill-opacity: 1;\"/><defs id=\"defs-90248a\"><g class=\"clips\"><clipPath id=\"clip90248axyplot\" class=\"plotclip\"><rect width=\"523\" height=\"191\"/></clipPath><clipPath class=\"axesclip\" id=\"clip90248ax\"><rect x=\"80\" y=\"0\" width=\"523\" height=\"450\"/></clipPath><clipPath class=\"axesclip\" id=\"clip90248ay\"><rect x=\"0\" y=\"100\" width=\"700\" height=\"191\"/></clipPath><clipPath class=\"axesclip\" id=\"clip90248axy\"><rect x=\"80\" y=\"100\" width=\"523\" height=\"191\"/></clipPath></g><g class=\"gradients\"/></defs><g class=\"bglayer\"><rect class=\"bg\" x=\"80\" y=\"100\" width=\"523\" height=\"191\" style=\"fill: rgb(229, 236, 246); fill-opacity: 1; stroke-width: 0;\"/></g><g class=\"layer-below\"><g class=\"imagelayer\"/><g class=\"shapelayer\"/></g><g class=\"cartesianlayer\"><g class=\"subplot xy\"><g class=\"layer-subplot\"><g class=\"shapelayer\"/><g class=\"imagelayer\"/></g><g class=\"gridlayer\"><g class=\"x\"><path class=\"xgrid crisp\" transform=\"translate(106.15,0)\" d=\"M0,100v191\" style=\"stroke: rgb(255, 255, 255); stroke-opacity: 1; stroke-width: 1px;\"/><path class=\"xgrid crisp\" transform=\"translate(158.45,0)\" d=\"M0,100v191\" style=\"stroke: rgb(255, 255, 255); stroke-opacity: 1; stroke-width: 1px;\"/><path class=\"xgrid crisp\" transform=\"translate(210.75,0)\" d=\"M0,100v191\" style=\"stroke: rgb(255, 255, 255); stroke-opacity: 1; stroke-width: 1px;\"/><path class=\"xgrid crisp\" transform=\"translate(263.05,0)\" d=\"M0,100v191\" style=\"stroke: rgb(255, 255, 255); stroke-opacity: 1; stroke-width: 1px;\"/><path class=\"xgrid crisp\" transform=\"translate(315.35,0)\" d=\"M0,100v191\" style=\"stroke: rgb(255, 255, 255); stroke-opacity: 1; stroke-width: 1px;\"/><path class=\"xgrid crisp\" transform=\"translate(367.65,0)\" d=\"M0,100v191\" style=\"stroke: rgb(255, 255, 255); stroke-opacity: 1; stroke-width: 1px;\"/><path class=\"xgrid crisp\" transform=\"translate(419.95,0)\" d=\"M0,100v191\" style=\"stroke: rgb(255, 255, 255); stroke-opacity: 1; stroke-width: 1px;\"/><path class=\"xgrid crisp\" transform=\"translate(472.25,0)\" d=\"M0,100v191\" style=\"stroke: rgb(255, 255, 255); stroke-opacity: 1; stroke-width: 1px;\"/><path class=\"xgrid crisp\" transform=\"translate(524.55,0)\" d=\"M0,100v191\" style=\"stroke: rgb(255, 255, 255); stroke-opacity: 1; stroke-width: 1px;\"/><path class=\"xgrid crisp\" transform=\"translate(576.85,0)\" d=\"M0,100v191\" style=\"stroke: rgb(255, 255, 255); stroke-opacity: 1; stroke-width: 1px;\"/></g><g class=\"y\"><path class=\"ygrid crisp\" transform=\"translate(0,248.34)\" d=\"M80,0h523\" style=\"stroke: rgb(255, 255, 255); stroke-opacity: 1; stroke-width: 1px;\"/><path class=\"ygrid crisp\" transform=\"translate(0,205.67000000000002)\" d=\"M80,0h523\" style=\"stroke: rgb(255, 255, 255); stroke-opacity: 1; stroke-width: 1px;\"/><path class=\"ygrid crisp\" transform=\"translate(0,163.01)\" d=\"M80,0h523\" style=\"stroke: rgb(255, 255, 255); stroke-opacity: 1; stroke-width: 1px;\"/><path class=\"ygrid crisp\" transform=\"translate(0,120.35)\" d=\"M80,0h523\" style=\"stroke: rgb(255, 255, 255); stroke-opacity: 1; stroke-width: 1px;\"/></g></g><g class=\"zerolinelayer\"><path class=\"yzl zl crisp\" transform=\"translate(0,291)\" d=\"M80,0h523\" style=\"stroke: rgb(255, 255, 255); stroke-opacity: 1; stroke-width: 2px;\"/></g><path class=\"xlines-below\"/><path class=\"ylines-below\"/><g class=\"overlines-below\"/><g class=\"xaxislayer-below\"/><g class=\"yaxislayer-below\"/><g class=\"overaxes-below\"/><g class=\"plot\" transform=\"translate(80, 100)\" clip-path=\"url('#clip90248axyplot')\"><g class=\"barlayer mlayer\"><g class=\"trace bars\" style=\"opacity: 1;\"><g class=\"points\"><g class=\"point\"><path d=\"M5.23,191V9.55H47.07V191Z\" style=\"vector-effect: non-scaling-stroke; opacity: 1; stroke-width: 0.5px; fill: rgb(99, 110, 250); fill-opacity: 1; stroke: rgb(229, 236, 246); stroke-opacity: 1;\"/></g><g class=\"point\"><path d=\"M57.53,191V48.14H99.37V191Z\" style=\"vector-effect: non-scaling-stroke; opacity: 1; stroke-width: 0.5px; fill: rgb(99, 110, 250); fill-opacity: 1; stroke: rgb(229, 236, 246); stroke-opacity: 1;\"/></g><g class=\"point\"><path d=\"M109.83,191V55.61H151.67V191Z\" style=\"vector-effect: non-scaling-stroke; opacity: 1; stroke-width: 0.5px; fill: rgb(99, 110, 250); fill-opacity: 1; stroke: rgb(229, 236, 246); stroke-opacity: 1;\"/></g><g class=\"point\"><path d=\"M162.13,191V57.26H203.97V191Z\" style=\"vector-effect: non-scaling-stroke; opacity: 1; stroke-width: 0.5px; fill: rgb(99, 110, 250); fill-opacity: 1; stroke: rgb(229, 236, 246); stroke-opacity: 1;\"/></g><g class=\"point\"><path d=\"M214.43,191V63.46H256.27V191Z\" style=\"vector-effect: non-scaling-stroke; opacity: 1; stroke-width: 0.5px; fill: rgb(99, 110, 250); fill-opacity: 1; stroke: rgb(229, 236, 246); stroke-opacity: 1;\"/></g><g class=\"point\"><path d=\"M266.73,191V73.47H308.57V191Z\" style=\"vector-effect: non-scaling-stroke; opacity: 1; stroke-width: 0.5px; fill: rgb(99, 110, 250); fill-opacity: 1; stroke: rgb(229, 236, 246); stroke-opacity: 1;\"/></g><g class=\"point\"><path d=\"M319.03,191V78.21H360.87V191Z\" style=\"vector-effect: non-scaling-stroke; opacity: 1; stroke-width: 0.5px; fill: rgb(99, 110, 250); fill-opacity: 1; stroke: rgb(229, 236, 246); stroke-opacity: 1;\"/></g><g class=\"point\"><path d=\"M371.33,191V78.6H413.17V191Z\" style=\"vector-effect: non-scaling-stroke; opacity: 1; stroke-width: 0.5px; fill: rgb(99, 110, 250); fill-opacity: 1; stroke: rgb(229, 236, 246); stroke-opacity: 1;\"/></g><g class=\"point\"><path d=\"M423.63,191V92H465.47V191Z\" style=\"vector-effect: non-scaling-stroke; opacity: 1; stroke-width: 0.5px; fill: rgb(99, 110, 250); fill-opacity: 1; stroke: rgb(229, 236, 246); stroke-opacity: 1;\"/></g><g class=\"point\"><path d=\"M475.93,191V93.21H517.77V191Z\" style=\"vector-effect: non-scaling-stroke; opacity: 1; stroke-width: 0.5px; fill: rgb(99, 110, 250); fill-opacity: 1; stroke: rgb(229, 236, 246); stroke-opacity: 1;\"/></g></g></g></g></g><g class=\"overplot\"/><path class=\"xlines-above crisp\" d=\"M79,291.5H603\" style=\"fill: none; stroke-width: 1px; stroke: rgb(255, 255, 255); stroke-opacity: 1;\"/><path class=\"ylines-above crisp\" d=\"M79.5,100V291\" style=\"fill: none; stroke-width: 1px; stroke: rgb(255, 255, 255); stroke-opacity: 1;\"/><g class=\"overlines-above\"/><g class=\"xaxislayer-above\"><g class=\"xtick\"><text text-anchor=\"start\" x=\"0\" y=\"306.4\" transform=\"translate(106.15,0) rotate(45,0,300.4)\" style=\"font-family: 'Open Sans', verdana, arial, sans-serif; font-size: 12px; fill: rgb(42, 63, 95); fill-opacity: 1; white-space: pre;\">Кутузовский проспект</text></g><g class=\"xtick\"><text text-anchor=\"start\" x=\"0\" y=\"306.4\" transform=\"translate(158.45,0) rotate(45,0,300.4)\" style=\"font-family: 'Open Sans', verdana, arial, sans-serif; font-size: 12px; fill: rgb(42, 63, 95); fill-opacity: 1; white-space: pre;\">проспект Вернадского</text></g><g class=\"xtick\"><text text-anchor=\"start\" x=\"0\" y=\"306.4\" transform=\"translate(210.75,0) rotate(45,0,300.4)\" style=\"font-family: 'Open Sans', verdana, arial, sans-serif; font-size: 12px; fill: rgb(42, 63, 95); fill-opacity: 1; white-space: pre;\">Ленинский проспект</text></g><g class=\"xtick\"><text text-anchor=\"start\" x=\"0\" y=\"306.4\" transform=\"translate(263.05,0) rotate(45,0,300.4)\" style=\"font-family: 'Open Sans', verdana, arial, sans-serif; font-size: 12px; fill: rgb(42, 63, 95); fill-opacity: 1; white-space: pre;\">проспект Мира</text></g><g class=\"xtick\"><text text-anchor=\"start\" x=\"0\" y=\"306.4\" transform=\"translate(315.35,0) rotate(45,0,300.4)\" style=\"font-family: 'Open Sans', verdana, arial, sans-serif; font-size: 12px; fill: rgb(42, 63, 95); fill-opacity: 1; white-space: pre;\">Кировоградская улица</text></g><g class=\"xtick\"><text text-anchor=\"start\" x=\"0\" y=\"306.4\" transform=\"translate(367.65,0) rotate(45,0,300.4)\" style=\"font-family: 'Open Sans', verdana, arial, sans-serif; font-size: 12px; fill: rgb(42, 63, 95); fill-opacity: 1; white-space: pre;\">Каширское шоссе</text></g><g class=\"xtick\"><text text-anchor=\"start\" x=\"0\" y=\"306.4\" transform=\"translate(419.95,0) rotate(45,0,300.4)\" style=\"font-family: 'Open Sans', verdana, arial, sans-serif; font-size: 12px; fill: rgb(42, 63, 95); fill-opacity: 1; white-space: pre;\">Варшавское шоссе</text></g><g class=\"xtick\"><text text-anchor=\"start\" x=\"0\" y=\"306.4\" transform=\"translate(472.25,0) rotate(45,0,300.4)\" style=\"font-family: 'Open Sans', verdana, arial, sans-serif; font-size: 12px; fill: rgb(42, 63, 95); fill-opacity: 1; white-space: pre;\">Ленинградский проспект</text></g><g class=\"xtick\"><text text-anchor=\"start\" x=\"0\" y=\"306.4\" transform=\"translate(524.55,0) rotate(45,0,300.4)\" style=\"font-family: 'Open Sans', verdana, arial, sans-serif; font-size: 12px; fill: rgb(42, 63, 95); fill-opacity: 1; white-space: pre;\">Профсоюзная улица</text></g><g class=\"xtick\"><text text-anchor=\"start\" x=\"0\" y=\"306.4\" transform=\"translate(576.85,0) rotate(45,0,300.4)\" style=\"font-family: 'Open Sans', verdana, arial, sans-serif; font-size: 12px; fill: rgb(42, 63, 95); fill-opacity: 1; white-space: pre;\">Пресненская набережная</text></g></g><g class=\"yaxislayer-above\"><g class=\"ytick\"><text text-anchor=\"end\" x=\"76.6\" y=\"4.199999999999999\" transform=\"translate(0,291)\" style=\"font-family: 'Open Sans', verdana, arial, sans-serif; font-size: 12px; fill: rgb(42, 63, 95); fill-opacity: 1; white-space: pre;\">0</text></g><g class=\"ytick\"><text text-anchor=\"end\" x=\"76.6\" y=\"4.199999999999999\" transform=\"translate(0,248.34)\" style=\"font-family: 'Open Sans', verdana, arial, sans-serif; font-size: 12px; fill: rgb(42, 63, 95); fill-opacity: 1; white-space: pre;\">20</text></g><g class=\"ytick\"><text text-anchor=\"end\" x=\"76.6\" y=\"4.199999999999999\" transform=\"translate(0,205.67000000000002)\" style=\"font-family: 'Open Sans', verdana, arial, sans-serif; font-size: 12px; fill: rgb(42, 63, 95); fill-opacity: 1; white-space: pre;\">40</text></g><g class=\"ytick\"><text text-anchor=\"end\" x=\"76.6\" y=\"4.199999999999999\" transform=\"translate(0,163.01)\" style=\"font-family: 'Open Sans', verdana, arial, sans-serif; font-size: 12px; fill: rgb(42, 63, 95); fill-opacity: 1; white-space: pre;\">60</text></g><g class=\"ytick\"><text text-anchor=\"end\" x=\"76.6\" y=\"4.199999999999999\" transform=\"translate(0,120.35)\" style=\"font-family: 'Open Sans', verdana, arial, sans-serif; font-size: 12px; fill: rgb(42, 63, 95); fill-opacity: 1; white-space: pre;\">80</text></g></g><g class=\"overaxes-above\"/></g></g><g class=\"polarlayer\"/><g class=\"ternarylayer\"/><g class=\"geolayer\"/><g class=\"funnelarealayer\"/><g class=\"pielayer\"/><g class=\"treemaplayer\"/><g class=\"sunburstlayer\"/><g class=\"glimages\"/><defs id=\"topdefs-90248a\"><g class=\"clips\"/></defs><g class=\"layer-above\"><g class=\"imagelayer\"/><g class=\"shapelayer\"/></g><g class=\"infolayer\"><g class=\"g-gtitle\"><text class=\"gtitle\" x=\"35\" y=\"50\" text-anchor=\"start\" dy=\"0em\" style=\"font-family: 'Open Sans', verdana, arial, sans-serif; font-size: 17px; fill: rgb(42, 63, 95); opacity: 1; font-weight: normal; white-space: pre;\">Распределение среднего количества посадочных мест</text></g><g class=\"g-xtitle\"><text class=\"xtitle\" x=\"341.5\" y=\"438.4291046142578\" text-anchor=\"middle\" style=\"font-family: 'Open Sans', verdana, arial, sans-serif; font-size: 14px; fill: rgb(42, 63, 95); opacity: 1; font-weight: normal; white-space: pre;\">street</text></g><g class=\"g-ytitle\"><text class=\"ytitle\" transform=\"rotate(-90,38.075,195.5)\" x=\"38.075\" y=\"195.5\" text-anchor=\"middle\" style=\"font-family: 'Open Sans', verdana, arial, sans-serif; font-size: 14px; fill: rgb(42, 63, 95); opacity: 1; font-weight: normal; white-space: pre;\">numb_mean</text></g></g></svg>"
      ]
     },
     "metadata": {},
     "output_type": "display_data"
    }
   ],
   "source": [
    "top_10_number = top_10_str_data\\\n",
    "    .groupby(['street'], as_index=False)\\\n",
    "    .agg({'number' : 'mean'})\\\n",
    "    .rename(columns={'number':'numb_mean'})\n",
    "    \n",
    "fig = px.bar(top_10_number.sort_values(by='numb_mean', ascending=False), \n",
    "             x='street', y='numb_mean', \n",
    "             title='Распределение среднего количества посадочных мест')\n",
    "fig.update_xaxes(tickangle=45)\n",
    "fig.show()"
   ]
  },
  {
   "cell_type": "code",
   "execution_count": 35,
   "metadata": {},
   "outputs": [
    {
     "data": {
      "image/svg+xml": [
       "<svg class=\"main-svg\" xmlns=\"http://www.w3.org/2000/svg\" xmlns:xlink=\"http://www.w3.org/1999/xlink\" width=\"700\" height=\"450\" style=\"\" viewBox=\"0 0 700 450\"><rect x=\"0\" y=\"0\" width=\"700\" height=\"450\" style=\"fill: rgb(255, 255, 255); fill-opacity: 1;\"/><defs id=\"defs-afb2a5\"><g class=\"clips\"><clipPath id=\"clipafb2a5xyplot\" class=\"plotclip\"><rect width=\"540\" height=\"191\"/></clipPath><clipPath class=\"axesclip\" id=\"clipafb2a5x\"><rect x=\"80\" y=\"0\" width=\"540\" height=\"450\"/></clipPath><clipPath class=\"axesclip\" id=\"clipafb2a5y\"><rect x=\"0\" y=\"100\" width=\"700\" height=\"191\"/></clipPath><clipPath class=\"axesclip\" id=\"clipafb2a5xy\"><rect x=\"80\" y=\"100\" width=\"540\" height=\"191\"/></clipPath></g><g class=\"gradients\"/></defs><g class=\"bglayer\"><rect class=\"bg\" x=\"80\" y=\"100\" width=\"540\" height=\"191\" style=\"fill: rgb(229, 236, 246); fill-opacity: 1; stroke-width: 0;\"/></g><g class=\"layer-below\"><g class=\"imagelayer\"/><g class=\"shapelayer\"/></g><g class=\"cartesianlayer\"><g class=\"subplot xy\"><g class=\"layer-subplot\"><g class=\"shapelayer\"/><g class=\"imagelayer\"/></g><g class=\"gridlayer\"><g class=\"x\"><path class=\"xgrid crisp\" transform=\"translate(107,0)\" d=\"M0,100v191\" style=\"stroke: rgb(255, 255, 255); stroke-opacity: 1; stroke-width: 1px;\"/><path class=\"xgrid crisp\" transform=\"translate(161,0)\" d=\"M0,100v191\" style=\"stroke: rgb(255, 255, 255); stroke-opacity: 1; stroke-width: 1px;\"/><path class=\"xgrid crisp\" transform=\"translate(215,0)\" d=\"M0,100v191\" style=\"stroke: rgb(255, 255, 255); stroke-opacity: 1; stroke-width: 1px;\"/><path class=\"xgrid crisp\" transform=\"translate(269,0)\" d=\"M0,100v191\" style=\"stroke: rgb(255, 255, 255); stroke-opacity: 1; stroke-width: 1px;\"/><path class=\"xgrid crisp\" transform=\"translate(323,0)\" d=\"M0,100v191\" style=\"stroke: rgb(255, 255, 255); stroke-opacity: 1; stroke-width: 1px;\"/><path class=\"xgrid crisp\" transform=\"translate(377,0)\" d=\"M0,100v191\" style=\"stroke: rgb(255, 255, 255); stroke-opacity: 1; stroke-width: 1px;\"/><path class=\"xgrid crisp\" transform=\"translate(431,0)\" d=\"M0,100v191\" style=\"stroke: rgb(255, 255, 255); stroke-opacity: 1; stroke-width: 1px;\"/><path class=\"xgrid crisp\" transform=\"translate(485,0)\" d=\"M0,100v191\" style=\"stroke: rgb(255, 255, 255); stroke-opacity: 1; stroke-width: 1px;\"/><path class=\"xgrid crisp\" transform=\"translate(539,0)\" d=\"M0,100v191\" style=\"stroke: rgb(255, 255, 255); stroke-opacity: 1; stroke-width: 1px;\"/><path class=\"xgrid crisp\" transform=\"translate(593,0)\" d=\"M0,100v191\" style=\"stroke: rgb(255, 255, 255); stroke-opacity: 1; stroke-width: 1px;\"/></g><g class=\"y\"><path class=\"ygrid crisp\" transform=\"translate(0,251.98)\" d=\"M80,0h540\" style=\"stroke: rgb(255, 255, 255); stroke-opacity: 1; stroke-width: 1px;\"/><path class=\"ygrid crisp\" transform=\"translate(0,212.95999999999998)\" d=\"M80,0h540\" style=\"stroke: rgb(255, 255, 255); stroke-opacity: 1; stroke-width: 1px;\"/><path class=\"ygrid crisp\" transform=\"translate(0,173.94)\" d=\"M80,0h540\" style=\"stroke: rgb(255, 255, 255); stroke-opacity: 1; stroke-width: 1px;\"/><path class=\"ygrid crisp\" transform=\"translate(0,134.91)\" d=\"M80,0h540\" style=\"stroke: rgb(255, 255, 255); stroke-opacity: 1; stroke-width: 1px;\"/></g></g><g class=\"zerolinelayer\"><path class=\"yzl zl crisp\" transform=\"translate(0,291)\" d=\"M80,0h540\" style=\"stroke: rgb(255, 255, 255); stroke-opacity: 1; stroke-width: 2px;\"/></g><path class=\"xlines-below\"/><path class=\"ylines-below\"/><g class=\"overlines-below\"/><g class=\"xaxislayer-below\"/><g class=\"yaxislayer-below\"/><g class=\"overaxes-below\"/><g class=\"plot\" transform=\"translate(80, 100)\" clip-path=\"url('#clipafb2a5xyplot')\"><g class=\"barlayer mlayer\"><g class=\"trace bars\" style=\"opacity: 1;\"><g class=\"points\"><g class=\"point\"><path d=\"M5.4,191V9.55H48.6V191Z\" style=\"vector-effect: non-scaling-stroke; opacity: 1; stroke-width: 0.5px; fill: rgb(99, 110, 250); fill-opacity: 1; stroke: rgb(229, 236, 246); stroke-opacity: 1;\"/></g><g class=\"point\"><path d=\"M59.4,191V15.4H102.6V191Z\" style=\"vector-effect: non-scaling-stroke; opacity: 1; stroke-width: 0.5px; fill: rgb(99, 110, 250); fill-opacity: 1; stroke: rgb(229, 236, 246); stroke-opacity: 1;\"/></g><g class=\"point\"><path d=\"M113.4,191V34.91H156.6V191Z\" style=\"vector-effect: non-scaling-stroke; opacity: 1; stroke-width: 0.5px; fill: rgb(99, 110, 250); fill-opacity: 1; stroke: rgb(229, 236, 246); stroke-opacity: 1;\"/></g><g class=\"point\"><path d=\"M167.4,191V34.91H210.6V191Z\" style=\"vector-effect: non-scaling-stroke; opacity: 1; stroke-width: 0.5px; fill: rgb(99, 110, 250); fill-opacity: 1; stroke: rgb(229, 236, 246); stroke-opacity: 1;\"/></g><g class=\"point\"><path d=\"M221.4,191V34.91H264.6V191Z\" style=\"vector-effect: non-scaling-stroke; opacity: 1; stroke-width: 0.5px; fill: rgb(99, 110, 250); fill-opacity: 1; stroke: rgb(229, 236, 246); stroke-opacity: 1;\"/></g><g class=\"point\"><path d=\"M275.4,191V73.94H318.6V191Z\" style=\"vector-effect: non-scaling-stroke; opacity: 1; stroke-width: 0.5px; fill: rgb(99, 110, 250); fill-opacity: 1; stroke: rgb(229, 236, 246); stroke-opacity: 1;\"/></g><g class=\"point\"><path d=\"M329.4,191V73.94H372.6V191Z\" style=\"vector-effect: non-scaling-stroke; opacity: 1; stroke-width: 0.5px; fill: rgb(99, 110, 250); fill-opacity: 1; stroke: rgb(229, 236, 246); stroke-opacity: 1;\"/></g><g class=\"point\"><path d=\"M383.4,191V73.94H426.6V191Z\" style=\"vector-effect: non-scaling-stroke; opacity: 1; stroke-width: 0.5px; fill: rgb(99, 110, 250); fill-opacity: 1; stroke: rgb(229, 236, 246); stroke-opacity: 1;\"/></g><g class=\"point\"><path d=\"M437.4,191V93.45H480.6V191Z\" style=\"vector-effect: non-scaling-stroke; opacity: 1; stroke-width: 0.5px; fill: rgb(99, 110, 250); fill-opacity: 1; stroke: rgb(229, 236, 246); stroke-opacity: 1;\"/></g><g class=\"point\"><path d=\"M491.4,191V97.35H534.6V191Z\" style=\"vector-effect: non-scaling-stroke; opacity: 1; stroke-width: 0.5px; fill: rgb(99, 110, 250); fill-opacity: 1; stroke: rgb(229, 236, 246); stroke-opacity: 1;\"/></g></g></g></g></g><g class=\"overplot\"/><path class=\"xlines-above crisp\" d=\"M79,291.5H620\" style=\"fill: none; stroke-width: 1px; stroke: rgb(255, 255, 255); stroke-opacity: 1;\"/><path class=\"ylines-above crisp\" d=\"M79.5,100V291\" style=\"fill: none; stroke-width: 1px; stroke: rgb(255, 255, 255); stroke-opacity: 1;\"/><g class=\"overlines-above\"/><g class=\"xaxislayer-above\"><g class=\"xtick\"><text text-anchor=\"start\" x=\"0\" y=\"306.4\" transform=\"translate(107,0) rotate(45,0,300.4)\" style=\"font-family: 'Open Sans', verdana, arial, sans-serif; font-size: 12px; fill: rgb(42, 63, 95); fill-opacity: 1; white-space: pre;\">проспект Мира</text></g><g class=\"xtick\"><text text-anchor=\"start\" x=\"0\" y=\"306.4\" transform=\"translate(161,0) rotate(45,0,300.4)\" style=\"font-family: 'Open Sans', verdana, arial, sans-serif; font-size: 12px; fill: rgb(42, 63, 95); fill-opacity: 1; white-space: pre;\">Ленинский проспект</text></g><g class=\"xtick\"><text text-anchor=\"start\" x=\"0\" y=\"306.4\" transform=\"translate(215,0) rotate(45,0,300.4)\" style=\"font-family: 'Open Sans', verdana, arial, sans-serif; font-size: 12px; fill: rgb(42, 63, 95); fill-opacity: 1; white-space: pre;\">Кутузовский проспект</text></g><g class=\"xtick\"><text text-anchor=\"start\" x=\"0\" y=\"306.4\" transform=\"translate(269,0) rotate(45,0,300.4)\" style=\"font-family: 'Open Sans', verdana, arial, sans-serif; font-size: 12px; fill: rgb(42, 63, 95); fill-opacity: 1; white-space: pre;\">Ленинградский проспект</text></g><g class=\"xtick\"><text text-anchor=\"start\" x=\"0\" y=\"306.4\" transform=\"translate(323,0) rotate(45,0,300.4)\" style=\"font-family: 'Open Sans', verdana, arial, sans-serif; font-size: 12px; fill: rgb(42, 63, 95); fill-opacity: 1; white-space: pre;\">проспект Вернадского</text></g><g class=\"xtick\"><text text-anchor=\"start\" x=\"0\" y=\"306.4\" transform=\"translate(377,0) rotate(45,0,300.4)\" style=\"font-family: 'Open Sans', verdana, arial, sans-serif; font-size: 12px; fill: rgb(42, 63, 95); fill-opacity: 1; white-space: pre;\">Варшавское шоссе</text></g><g class=\"xtick\"><text text-anchor=\"start\" x=\"0\" y=\"306.4\" transform=\"translate(431,0) rotate(45,0,300.4)\" style=\"font-family: 'Open Sans', verdana, arial, sans-serif; font-size: 12px; fill: rgb(42, 63, 95); fill-opacity: 1; white-space: pre;\">Кировоградская улица</text></g><g class=\"xtick\"><text text-anchor=\"start\" x=\"0\" y=\"306.4\" transform=\"translate(485,0) rotate(45,0,300.4)\" style=\"font-family: 'Open Sans', verdana, arial, sans-serif; font-size: 12px; fill: rgb(42, 63, 95); fill-opacity: 1; white-space: pre;\">Пресненская набережная</text></g><g class=\"xtick\"><text text-anchor=\"start\" x=\"0\" y=\"306.4\" transform=\"translate(539,0) rotate(45,0,300.4)\" style=\"font-family: 'Open Sans', verdana, arial, sans-serif; font-size: 12px; fill: rgb(42, 63, 95); fill-opacity: 1; white-space: pre;\">Каширское шоссе</text></g><g class=\"xtick\"><text text-anchor=\"start\" x=\"0\" y=\"306.4\" transform=\"translate(593,0) rotate(45,0,300.4)\" style=\"font-family: 'Open Sans', verdana, arial, sans-serif; font-size: 12px; fill: rgb(42, 63, 95); fill-opacity: 1; white-space: pre;\">Профсоюзная улица</text></g></g><g class=\"yaxislayer-above\"><g class=\"ytick\"><text text-anchor=\"end\" x=\"76.6\" y=\"4.199999999999999\" transform=\"translate(0,291)\" style=\"font-family: 'Open Sans', verdana, arial, sans-serif; font-size: 12px; fill: rgb(42, 63, 95); fill-opacity: 1; white-space: pre;\">0</text></g><g class=\"ytick\"><text text-anchor=\"end\" x=\"76.6\" y=\"4.199999999999999\" transform=\"translate(0,251.98)\" style=\"font-family: 'Open Sans', verdana, arial, sans-serif; font-size: 12px; fill: rgb(42, 63, 95); fill-opacity: 1; white-space: pre;\">10</text></g><g class=\"ytick\"><text text-anchor=\"end\" x=\"76.6\" y=\"4.199999999999999\" transform=\"translate(0,212.95999999999998)\" style=\"font-family: 'Open Sans', verdana, arial, sans-serif; font-size: 12px; fill: rgb(42, 63, 95); fill-opacity: 1; white-space: pre;\">20</text></g><g class=\"ytick\"><text text-anchor=\"end\" x=\"76.6\" y=\"4.199999999999999\" transform=\"translate(0,173.94)\" style=\"font-family: 'Open Sans', verdana, arial, sans-serif; font-size: 12px; fill: rgb(42, 63, 95); fill-opacity: 1; white-space: pre;\">30</text></g><g class=\"ytick\"><text text-anchor=\"end\" x=\"76.6\" y=\"4.199999999999999\" transform=\"translate(0,134.91)\" style=\"font-family: 'Open Sans', verdana, arial, sans-serif; font-size: 12px; fill: rgb(42, 63, 95); fill-opacity: 1; white-space: pre;\">40</text></g></g><g class=\"overaxes-above\"/></g></g><g class=\"polarlayer\"/><g class=\"ternarylayer\"/><g class=\"geolayer\"/><g class=\"funnelarealayer\"/><g class=\"pielayer\"/><g class=\"treemaplayer\"/><g class=\"sunburstlayer\"/><g class=\"glimages\"/><defs id=\"topdefs-afb2a5\"><g class=\"clips\"/></defs><g class=\"layer-above\"><g class=\"imagelayer\"/><g class=\"shapelayer\"/></g><g class=\"infolayer\"><g class=\"g-gtitle\"><text class=\"gtitle\" x=\"35\" y=\"50\" text-anchor=\"start\" dy=\"0em\" style=\"font-family: 'Open Sans', verdana, arial, sans-serif; font-size: 17px; fill: rgb(42, 63, 95); opacity: 1; font-weight: normal; white-space: pre;\">Распределение количества посадочных мест по медиане</text></g><g class=\"g-xtitle\"><text class=\"xtitle\" x=\"350\" y=\"438.4291046142578\" text-anchor=\"middle\" style=\"font-family: 'Open Sans', verdana, arial, sans-serif; font-size: 14px; fill: rgb(42, 63, 95); opacity: 1; font-weight: normal; white-space: pre;\">street</text></g><g class=\"g-ytitle\"><text class=\"ytitle\" transform=\"rotate(-90,38.075,195.5)\" x=\"38.075\" y=\"195.5\" text-anchor=\"middle\" style=\"font-family: 'Open Sans', verdana, arial, sans-serif; font-size: 14px; fill: rgb(42, 63, 95); opacity: 1; font-weight: normal; white-space: pre;\">numb_median</text></g></g></svg>"
      ]
     },
     "metadata": {},
     "output_type": "display_data"
    }
   ],
   "source": [
    "top_10_number_median = top_10_str_data\\\n",
    "    .groupby(['street'], as_index=False)\\\n",
    "    .agg({'number' : 'median'})\\\n",
    "    .rename(columns={'number':'numb_median'})\n",
    "    \n",
    "fig = px.bar(top_10_number_median.sort_values(by='numb_median', ascending=False), \n",
    "             x='street', y='numb_median', \n",
    "             title='Распределение количества посадочных мест по медиане')\n",
    "fig.update_xaxes(tickangle=45)\n",
    "fig.show()"
   ]
  },
  {
   "cell_type": "markdown",
   "metadata": {},
   "source": [
    "Из-за того, что на Кутузовском и Вернадского были значительные выбросы, средние данные сильно отличаются от медианы. Второй график более точно показал, что на основных улицах все-таки преобладают заведения со средним количеством посадочных мест - медиана от 25 до 45."
   ]
  },
  {
   "cell_type": "markdown",
   "metadata": {},
   "source": [
    "<div id='step4'/>\n",
    "\n",
    "## Общий вывод\n",
    "##### Задача 1:  подготовить исследование рынка общественного питания в Москве из открытых источников. \n",
    "##### Задача 2: дать рекомендации о виде заведения, возможности развития сети, количестве посадочных мест, а также районе расположения.\n",
    "\n",
    "##### Цель: привлечение инвестиций, чтобы открыть оригинальное кафе с роботами в Москве.  "
   ]
  },
  {
   "cell_type": "markdown",
   "metadata": {},
   "source": [
    "*Перед началом работы я изучила данные: проверила таблицы на отсутствие пропусков и дубликатов, уточнила тип данных.*\n",
    "\n",
    "#### Анализ данных\n",
    "- Соотношение видов объектов общественного питания по количеству:\n",
    "\n",
    "39,7% - кафе, 16,8% - столовая, 14,9% - закусочная, 12,5% - предприятие быстрого обслуживания. Неочевидная информация из графика - столовая и закусочная в топ-3. А ресторанов всего 5,57%.\n",
    "\n",
    "- Соотношение сетевых и несетевых заведений по количеству:\n",
    "\n",
    "Только 19,3% всего московского общепита входят в состав сетей, а кажется, что кругом одни «Шоколадницы» - вот она, сила бренда!\n",
    "- Сетевое распространение:\n",
    "\n",
    "Топ-3 сетевых заведений общественного питания - кафе (1396), предприятие быстрого обслуживания (791) и ресторан (544).\n",
    "Сетевые заведения составляют значительную часть в трех основных категориях: кафе, ресторан, предприятие быстрого обслуживания. Для кафе и ресторанов доля сетевых около 25%, а для фастфуда - это почти половина.  \n",
    "\n",
    "По графику совместного распределения, чаще встречаются объекты с небольшим количеством столиков.\n",
    "- Среднее количество посадочных мест:\n",
    "Наибольшее среднее количество посадочных мест в столовых (130), ресторанах (97), буфетах (51) и кафе (40). В фаст-фуде в среднем 20 мест, в остальных категориях - меньше 10. \n",
    "- Tоп-10 улиц Москвы по количеству объектов общественного питания:\n",
    "\n",
    "Я убрала из топ-10 город Зеленоград и поселение Сосенское – т.к это не улицы Москвы, а районы. Оставшиеся самые популярные улицы - это проспект Мира, Профсоюзная улица, Ленинградский проспект, Пресненская набережная, Варшавское шоссе, Ленинский проспект, проспект Вернадского, Кутузовский проспект, Каширское шоссе, Кировоградская улица.\n",
    "\n",
    "Больше всего заведений общепита на проспекте Мира, Профсоюзной улице и Ленинградском проспекте (204, 182, 171), замыкает топ-10 Кировоградская улица с 110 точками. Посмотрим, через какие районы проходят эти магистрали. Для этого я скачала базу данных из открытого источника. \n",
    "\n",
    "Самыми популярными у нас были проспект Мира, Профсоюзная улица и Ленинградский проспект. Можно было бы предположить, что эти улицы пролегают по особенным платежеспособным или густонаселенным районам. На деле - все три магистрали находятся в разных частях Москвы и не пересекаются между собой. Есть и районы, по которым проходит более одной из топовых улиц. Например, все Чертаново, Нагатино-Садовники, Теплый Стан - это спальные районы на юге Москвы, а не Центральный округ, как можно было бы предположить. Объединяет их всех одно – это крупные улицы, проспекты или шоссе с большим траффиком. \n",
    "- Улицы с одним объектом общественного питания:\n",
    "\n",
    "У меня получилось 534 улицы, на которых только по одному объекту общественного питания. Судя по картографии районов, сам по себе он не имеет значения (здесь есть и центр, и окраины). Важнее протяженность и проходимость улицы - в топ 10 были крупные магистрали, которые проходят через значительную часть города, захватывая от 2х до 8ми районов (за исключением Пресненской набережной – она всего лишь огибает огромный бизнес-комплекс Москва-Сити). Здесь же представлены маленькие и отдаленные улочки.\n",
    "- Распределение количества посадочных мест для улиц с большим количеством объектов общественного питания:\n",
    "\n",
    "Чтобы посмотреть как распределяется количество посадочных мест я построила диаграмму \"ящик с усами\". График показал, что есть значительные выбросы, особенно на Кутузовском проспекте и проспекте Вернадского (до 1700, 1250 мест). В основном, количество мест не превышает 250. Медиана от 25 до 45 посадочных мест – вывод: на популярных улицах больше всего заведений среднего размера, характерного для кафе.  \n",
    "\n",
    "##### Рекомендации:\n",
    "##### Самый лучший формат для популярного заведения общественного питания – кафе, с количеством посадочных мест от 30 до 40. Располагаться лучше на крупных проходимых городских магистралях, таких как проспект Мира, Профсоюзная улица или Ленинградский проспект. Хорошо, если рядом с предполагаемым местом будет располагаться крупный бизнес-центр, а лучше – несколько. Я бы не рекомендовала вкладываться в развитие сети до тех пор, пока кафе с роботами не стали бы устойчивым брендом, который привлекает посетителей, где бы оно не находилось. С другой стороны, можно открыть несколько заведений на основных магистралях, если удастся арендовать объекты с удачным расположением. \n"
   ]
  },
  {
   "cell_type": "markdown",
   "metadata": {},
   "source": [
    "<div id='step5'/>\n",
    "\n",
    "## Презентация"
   ]
  },
  {
   "cell_type": "markdown",
   "metadata": {},
   "source": [
    "Ссылка на презентацию:\n",
    "\n",
    "https://drive.google.com/file/d/1TfkR7Yh-E0bpWO1lXNDvvvfdlrR1LWni/view?usp=sharing"
   ]
  },
  {
   "cell_type": "code",
   "execution_count": null,
   "metadata": {},
   "outputs": [],
   "source": []
  }
 ],
 "metadata": {
  "kernelspec": {
   "display_name": "Python 3",
   "language": "python",
   "name": "python3"
  },
  "language_info": {
   "codemirror_mode": {
    "name": "ipython",
    "version": 3
   },
   "file_extension": ".py",
   "mimetype": "text/x-python",
   "name": "python",
   "nbconvert_exporter": "python",
   "pygments_lexer": "ipython3",
   "version": "3.7.6"
  }
 },
 "nbformat": 4,
 "nbformat_minor": 4
}

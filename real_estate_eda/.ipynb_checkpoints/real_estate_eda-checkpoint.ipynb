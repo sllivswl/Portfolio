{
 "cells": [
  {
   "cell_type": "markdown",
   "metadata": {},
   "source": [
    "# Исследование объявлений о продаже квартир\n",
    "\n",
    "**Задача:**\n",
    "Обозначить параметры для определения рыночной стоимость объектов недвижимости в Санкт-Петербурге и Ленобласти. \n"
   ]
  },
  {
   "cell_type": "markdown",
   "metadata": {},
   "source": [
    "### План работы над проектом\n",
    "1. [Импорт данных](#step1); \n",
    "2. [Предобработка данных](#step2);\n",
    "3. [Добавление данных в таблицу](#step3);\n",
    "4. [Исследовательский анализ данных](#step4);\n",
    "5. [Общий вывод](#step5)."
   ]
  },
  {
   "cell_type": "markdown",
   "metadata": {},
   "source": [
    "<div id='step1'/>\n",
    "\n",
    "### Шаг 1. Импорт данных и ознакомление "
   ]
  },
  {
   "cell_type": "code",
   "execution_count": 1,
   "metadata": {
    "scrolled": true
   },
   "outputs": [],
   "source": [
    "import seaborn as sns\n",
    "import numpy as np\n",
    "import pandas as pd\n",
    "import matplotlib.pyplot as plt"
   ]
  },
  {
   "cell_type": "code",
   "execution_count": 2,
   "metadata": {},
   "outputs": [],
   "source": [
    "df = pd.read_csv('real_estate_data.csv', sep='\\t')"
   ]
  },
  {
   "cell_type": "code",
   "execution_count": 3,
   "metadata": {},
   "outputs": [
    {
     "name": "stdout",
     "output_type": "stream",
     "text": [
      "<class 'pandas.core.frame.DataFrame'>\n",
      "RangeIndex: 23699 entries, 0 to 23698\n",
      "Data columns (total 22 columns):\n",
      " #   Column                Non-Null Count  Dtype  \n",
      "---  ------                --------------  -----  \n",
      " 0   total_images          23699 non-null  int64  \n",
      " 1   last_price            23699 non-null  float64\n",
      " 2   total_area            23699 non-null  float64\n",
      " 3   first_day_exposition  23699 non-null  object \n",
      " 4   rooms                 23699 non-null  int64  \n",
      " 5   ceiling_height        14504 non-null  float64\n",
      " 6   floors_total          23613 non-null  float64\n",
      " 7   living_area           21796 non-null  float64\n",
      " 8   floor                 23699 non-null  int64  \n",
      " 9   is_apartment          2775 non-null   object \n",
      " 10  studio                23699 non-null  bool   \n",
      " 11  open_plan             23699 non-null  bool   \n",
      " 12  kitchen_area          21421 non-null  float64\n",
      " 13  balcony               12180 non-null  float64\n",
      " 14  locality_name         23650 non-null  object \n",
      " 15  airports_nearest      18157 non-null  float64\n",
      " 16  cityCenters_nearest   18180 non-null  float64\n",
      " 17  parks_around3000      18181 non-null  float64\n",
      " 18  parks_nearest         8079 non-null   float64\n",
      " 19  ponds_around3000      18181 non-null  float64\n",
      " 20  ponds_nearest         9110 non-null   float64\n",
      " 21  days_exposition       20518 non-null  float64\n",
      "dtypes: bool(2), float64(14), int64(3), object(3)\n",
      "memory usage: 3.7+ MB\n",
      "--------------------------------------\n",
      "Дубликаты:\n",
      "0 дубликатов\n",
      "--------------------------------------\n",
      "Пропуски:\n",
      "total_images            0.000000\n",
      "last_price              0.000000\n",
      "total_area              0.000000\n",
      "first_day_exposition    0.000000\n",
      "rooms                   0.000000\n",
      "ceiling_height          0.387991\n",
      "floors_total            0.003629\n",
      "living_area             0.080299\n",
      "floor                   0.000000\n",
      "is_apartment            0.882906\n",
      "studio                  0.000000\n",
      "open_plan               0.000000\n",
      "kitchen_area            0.096122\n",
      "balcony                 0.486054\n",
      "locality_name           0.002068\n",
      "airports_nearest        0.233850\n",
      "cityCenters_nearest     0.232879\n",
      "parks_around3000        0.232837\n",
      "parks_nearest           0.659100\n",
      "ponds_around3000        0.232837\n",
      "ponds_nearest           0.615596\n",
      "days_exposition         0.134225\n",
      "dtype: float64\n",
      "--------------------------------------\n",
      "Начало таблицы\n",
      "   total_images  last_price  total_area first_day_exposition  rooms  \\\n",
      "0            20  13000000.0       108.0  2019-03-07T00:00:00      3   \n",
      "1             7   3350000.0        40.4  2018-12-04T00:00:00      1   \n",
      "2            10   5196000.0        56.0  2015-08-20T00:00:00      2   \n",
      "3             0  64900000.0       159.0  2015-07-24T00:00:00      3   \n",
      "4             2  10000000.0       100.0  2018-06-19T00:00:00      2   \n",
      "\n",
      "   ceiling_height  floors_total  living_area  floor is_apartment  ...  \\\n",
      "0            2.70          16.0         51.0      8          NaN  ...   \n",
      "1             NaN          11.0         18.6      1          NaN  ...   \n",
      "2             NaN           5.0         34.3      4          NaN  ...   \n",
      "3             NaN          14.0          NaN      9          NaN  ...   \n",
      "4            3.03          14.0         32.0     13          NaN  ...   \n",
      "\n",
      "   kitchen_area  balcony    locality_name  airports_nearest  \\\n",
      "0          25.0      NaN  Санкт-Петербург           18863.0   \n",
      "1          11.0      2.0   посёлок Шушары           12817.0   \n",
      "2           8.3      0.0  Санкт-Петербург           21741.0   \n",
      "3           NaN      0.0  Санкт-Петербург           28098.0   \n",
      "4          41.0      NaN  Санкт-Петербург           31856.0   \n",
      "\n",
      "  cityCenters_nearest  parks_around3000  parks_nearest  ponds_around3000  \\\n",
      "0             16028.0               1.0          482.0               2.0   \n",
      "1             18603.0               0.0            NaN               0.0   \n",
      "2             13933.0               1.0           90.0               2.0   \n",
      "3              6800.0               2.0           84.0               3.0   \n",
      "4              8098.0               2.0          112.0               1.0   \n",
      "\n",
      "   ponds_nearest  days_exposition  \n",
      "0          755.0              NaN  \n",
      "1            NaN             81.0  \n",
      "2          574.0            558.0  \n",
      "3          234.0            424.0  \n",
      "4           48.0            121.0  \n",
      "\n",
      "[5 rows x 22 columns]\n",
      "--------------------------------------\n",
      "Конец таблицы\n",
      "       total_images  last_price  total_area first_day_exposition  rooms  \\\n",
      "23694             9   9700000.0      133.81  2017-03-21T00:00:00      3   \n",
      "23695            14   3100000.0       59.00  2018-01-15T00:00:00      3   \n",
      "23696            18   2500000.0       56.70  2018-02-11T00:00:00      2   \n",
      "23697            13  11475000.0       76.75  2017-03-28T00:00:00      2   \n",
      "23698             4   1350000.0       32.30  2017-07-21T00:00:00      1   \n",
      "\n",
      "       ceiling_height  floors_total  living_area  floor is_apartment  ...  \\\n",
      "23694             3.7           5.0         73.3      3          NaN  ...   \n",
      "23695             NaN           5.0         38.0      4          NaN  ...   \n",
      "23696             NaN           3.0         29.7      1          NaN  ...   \n",
      "23697             3.0          17.0          NaN     12          NaN  ...   \n",
      "23698             2.5           5.0         12.3      1          NaN  ...   \n",
      "\n",
      "       kitchen_area  balcony        locality_name  airports_nearest  \\\n",
      "23694         13.83      NaN      Санкт-Петербург           24665.0   \n",
      "23695          8.50      NaN                Тосно               NaN   \n",
      "23696           NaN      NaN     село Рождествено               NaN   \n",
      "23697         23.30      2.0      Санкт-Петербург           39140.0   \n",
      "23698          9.00      NaN  поселок Новый Учхоз               NaN   \n",
      "\n",
      "      cityCenters_nearest  parks_around3000  parks_nearest  ponds_around3000  \\\n",
      "23694              4232.0               1.0          796.0               3.0   \n",
      "23695                 NaN               NaN            NaN               NaN   \n",
      "23696                 NaN               NaN            NaN               NaN   \n",
      "23697             10364.0               2.0          173.0               3.0   \n",
      "23698                 NaN               NaN            NaN               NaN   \n",
      "\n",
      "       ponds_nearest  days_exposition  \n",
      "23694          381.0              NaN  \n",
      "23695            NaN             45.0  \n",
      "23696            NaN              NaN  \n",
      "23697          196.0            602.0  \n",
      "23698            NaN              NaN  \n",
      "\n",
      "[5 rows x 22 columns]\n"
     ]
    }
   ],
   "source": [
    "# Напишем функцию для ознакомления с данными:\n",
    "def standart_opening(data):\n",
    "    data.info()\n",
    "    print('--------------------------------------')\n",
    "    print('Дубликаты:')\n",
    "    print (data.duplicated().sum(), 'дубликатов')\n",
    "    print('--------------------------------------')\n",
    "    print('Пропуски:')\n",
    "    print (data.isna().mean())\n",
    "    print('--------------------------------------')\n",
    "    print('Начало таблицы')\n",
    "    print (data.head())\n",
    "    print('--------------------------------------')\n",
    "    print('Конец таблицы')\n",
    "    print (data.tail())\n",
    "\n",
    "standart_opening(df)"
   ]
  },
  {
   "cell_type": "markdown",
   "metadata": {},
   "source": [
    "В первом приближении видно, что есть много пропусков. Также будет нужно привести в соответствие некоторые типы данных. "
   ]
  },
  {
   "cell_type": "markdown",
   "metadata": {},
   "source": [
    "<div id='step2'/>\n",
    "\n",
    "### Шаг 2. Предобработка данных"
   ]
  },
  {
   "cell_type": "markdown",
   "metadata": {},
   "source": [
    "Начнем с пропусков:"
   ]
  },
  {
   "cell_type": "code",
   "execution_count": 4,
   "metadata": {},
   "outputs": [
    {
     "data": {
      "text/plain": [
       "total_images                0\n",
       "last_price                  0\n",
       "total_area                  0\n",
       "first_day_exposition        0\n",
       "rooms                       0\n",
       "ceiling_height           9195\n",
       "floors_total               86\n",
       "living_area              1903\n",
       "floor                       0\n",
       "is_apartment            20924\n",
       "studio                      0\n",
       "open_plan                   0\n",
       "kitchen_area             2278\n",
       "balcony                 11519\n",
       "locality_name              49\n",
       "airports_nearest         5542\n",
       "cityCenters_nearest      5519\n",
       "parks_around3000         5518\n",
       "parks_nearest           15620\n",
       "ponds_around3000         5518\n",
       "ponds_nearest           14589\n",
       "days_exposition          3181\n",
       "dtype: int64"
      ]
     },
     "execution_count": 4,
     "metadata": {},
     "output_type": "execute_result"
    }
   ],
   "source": [
    "df.isnull().sum()"
   ]
  },
  {
   "cell_type": "markdown",
   "metadata": {},
   "source": [
    "Часть пропусков можно будет заменить на средние значения, например, высоту потолков. Незначительное количество пропусков - удалить. Часть незаполенных данных оставить без изменений, если они не влияют на результаты исследования. "
   ]
  },
  {
   "cell_type": "markdown",
   "metadata": {},
   "source": [
    "В первую очередь я удалила строки, в которых не указано местоположение квартиры в столбце `'locality_name'`. Их слишком мало, чтобы с ними возиться. Затем я решила удалить все строки с пропусками по столбцу `'floors_total'`, потому что а)отсутствующих данных немного, б)эти данные влияют только на расчет средней высоты потолка."
   ]
  },
  {
   "cell_type": "code",
   "execution_count": 5,
   "metadata": {},
   "outputs": [
    {
     "data": {
      "text/plain": [
       "0"
      ]
     },
     "execution_count": 5,
     "metadata": {},
     "output_type": "execute_result"
    }
   ],
   "source": [
    "df.dropna(subset = ['locality_name'],inplace = True)\n",
    "df['locality_name'].isnull().sum()"
   ]
  },
  {
   "cell_type": "code",
   "execution_count": 6,
   "metadata": {},
   "outputs": [
    {
     "data": {
      "text/plain": [
       "0"
      ]
     },
     "execution_count": 6,
     "metadata": {},
     "output_type": "execute_result"
    }
   ],
   "source": [
    "df.dropna(subset = ['floors_total'],inplace = True)\n",
    "df['floors_total'].isnull().sum()"
   ]
  },
  {
   "cell_type": "code",
   "execution_count": 7,
   "metadata": {},
   "outputs": [
    {
     "data": {
      "text/html": [
       "<div>\n",
       "<style scoped>\n",
       "    .dataframe tbody tr th:only-of-type {\n",
       "        vertical-align: middle;\n",
       "    }\n",
       "\n",
       "    .dataframe tbody tr th {\n",
       "        vertical-align: top;\n",
       "    }\n",
       "\n",
       "    .dataframe thead th {\n",
       "        text-align: right;\n",
       "    }\n",
       "</style>\n",
       "<table border=\"1\" class=\"dataframe\">\n",
       "  <thead>\n",
       "    <tr style=\"text-align: right;\">\n",
       "      <th></th>\n",
       "      <th>total_images</th>\n",
       "      <th>last_price</th>\n",
       "      <th>total_area</th>\n",
       "      <th>first_day_exposition</th>\n",
       "      <th>rooms</th>\n",
       "      <th>ceiling_height</th>\n",
       "      <th>floors_total</th>\n",
       "      <th>living_area</th>\n",
       "      <th>floor</th>\n",
       "      <th>is_apartment</th>\n",
       "      <th>...</th>\n",
       "      <th>kitchen_area</th>\n",
       "      <th>balcony</th>\n",
       "      <th>locality_name</th>\n",
       "      <th>airports_nearest</th>\n",
       "      <th>cityCenters_nearest</th>\n",
       "      <th>parks_around3000</th>\n",
       "      <th>parks_nearest</th>\n",
       "      <th>ponds_around3000</th>\n",
       "      <th>ponds_nearest</th>\n",
       "      <th>days_exposition</th>\n",
       "    </tr>\n",
       "  </thead>\n",
       "  <tbody>\n",
       "    <tr>\n",
       "      <th>11575</th>\n",
       "      <td>9</td>\n",
       "      <td>9900000.0</td>\n",
       "      <td>101.0</td>\n",
       "      <td>2016-04-28T00:00:00</td>\n",
       "      <td>3</td>\n",
       "      <td>NaN</td>\n",
       "      <td>33.0</td>\n",
       "      <td>53.0</td>\n",
       "      <td>32</td>\n",
       "      <td>False</td>\n",
       "      <td>...</td>\n",
       "      <td>21.0</td>\n",
       "      <td>0.0</td>\n",
       "      <td>Санкт-Петербург</td>\n",
       "      <td>18732.0</td>\n",
       "      <td>20444.0</td>\n",
       "      <td>0.0</td>\n",
       "      <td>NaN</td>\n",
       "      <td>3.0</td>\n",
       "      <td>80.0</td>\n",
       "      <td>53.0</td>\n",
       "    </tr>\n",
       "  </tbody>\n",
       "</table>\n",
       "<p>1 rows × 22 columns</p>\n",
       "</div>"
      ],
      "text/plain": [
       "       total_images  last_price  total_area first_day_exposition  rooms  \\\n",
       "11575             9   9900000.0       101.0  2016-04-28T00:00:00      3   \n",
       "\n",
       "       ceiling_height  floors_total  living_area  floor is_apartment  ...  \\\n",
       "11575             NaN          33.0         53.0     32        False  ...   \n",
       "\n",
       "       kitchen_area  balcony    locality_name  airports_nearest  \\\n",
       "11575          21.0      0.0  Санкт-Петербург           18732.0   \n",
       "\n",
       "      cityCenters_nearest  parks_around3000  parks_nearest  ponds_around3000  \\\n",
       "11575             20444.0               0.0            NaN               3.0   \n",
       "\n",
       "       ponds_nearest  days_exposition  \n",
       "11575           80.0             53.0  \n",
       "\n",
       "[1 rows x 22 columns]"
      ]
     },
     "execution_count": 7,
     "metadata": {},
     "output_type": "execute_result"
    }
   ],
   "source": [
    "# напишем функцию для замены пропущенных значений для высоты потолков:\n",
    "def fill_c_height(floors_total_name):\n",
    "    median = df[df['floors_total'] == floors_total_name]['ceiling_height'].median()\n",
    "    df.loc[(df['ceiling_height'].isnull()) & (df['floors_total'] == floors_total_name), 'ceiling_height'] = median\n",
    "    \n",
    "for floors_total_name in df['floors_total'].unique(): \n",
    "    fill_c_height(floors_total_name)\n",
    "    \n",
    "df[df['ceiling_height'].isnull()]"
   ]
  },
  {
   "cell_type": "code",
   "execution_count": 8,
   "metadata": {},
   "outputs": [
    {
     "data": {
      "text/plain": [
       "0"
      ]
     },
     "execution_count": 8,
     "metadata": {},
     "output_type": "execute_result"
    }
   ],
   "source": [
    "df.dropna(subset = ['ceiling_height'],inplace = True)\n",
    "df['ceiling_height'].isnull().sum()"
   ]
  },
  {
   "cell_type": "markdown",
   "metadata": {},
   "source": [
    "Этажность дома влияет на высоту потолков. Поэтому пропущенные значения я заменила медианой из данных по домам аналогичной этажности. В итоге остался один уникальный объект в 33-х этажном доме, по которму нельзя подобрать медианное значение высоты потолка. Я его удалила. "
   ]
  },
  {
   "cell_type": "code",
   "execution_count": 9,
   "metadata": {},
   "outputs": [
    {
     "data": {
      "text/plain": [
       "0"
      ]
     },
     "execution_count": 9,
     "metadata": {},
     "output_type": "execute_result"
    }
   ],
   "source": [
    "df['is_apartment'] = df['is_apartment'].astype('bool')\n",
    "df['is_apartment'].isnull().sum()"
   ]
  },
  {
   "cell_type": "markdown",
   "metadata": {},
   "source": [
    "В столбце `'is_apartment'` был неправильно указан тип данных `object`. Объект или является аппартаментами или нет. Я изменила тип данных на `bool` и пропуски исчезли. "
   ]
  },
  {
   "cell_type": "code",
   "execution_count": 10,
   "metadata": {},
   "outputs": [
    {
     "data": {
      "text/plain": [
       "0"
      ]
     },
     "execution_count": 10,
     "metadata": {},
     "output_type": "execute_result"
    }
   ],
   "source": [
    "df['balcony'] = df['balcony'].fillna(0)\n",
    "df['balcony'].isnull().sum()"
   ]
  },
  {
   "cell_type": "markdown",
   "metadata": {},
   "source": [
    "Пропуски в столбце с балконами, скорее всего, говорят об их отсутствии. Поэтому я их заменила на О."
   ]
  },
  {
   "cell_type": "code",
   "execution_count": 11,
   "metadata": {},
   "outputs": [
    {
     "data": {
      "text/plain": [
       "84"
      ]
     },
     "execution_count": 11,
     "metadata": {},
     "output_type": "execute_result"
    }
   ],
   "source": [
    "df.query('locality_name == \"Санкт-Петербург\"')['airports_nearest'].isnull().sum()"
   ]
  },
  {
   "cell_type": "code",
   "execution_count": 12,
   "metadata": {},
   "outputs": [
    {
     "data": {
      "text/plain": [
       "0"
      ]
     },
     "execution_count": 12,
     "metadata": {},
     "output_type": "execute_result"
    }
   ],
   "source": [
    "# найдем медианное значение расстояния до аэропорта и заполним им пропуски:\n",
    "spb_airport_median = df[df['locality_name'] == 'Санкт-Петербург']['airports_nearest'].median()\n",
    "df.loc[(df['locality_name'] == 'Санкт-Петербург') & (df['airports_nearest'].isna()), 'airports_nearest'] = spb_airport_median\n",
    "df.query('locality_name == \"Санкт-Петербург\"')['airports_nearest'].isnull().sum()"
   ]
  },
  {
   "cell_type": "code",
   "execution_count": 13,
   "metadata": {},
   "outputs": [
    {
     "data": {
      "text/plain": [
       "60"
      ]
     },
     "execution_count": 13,
     "metadata": {},
     "output_type": "execute_result"
    }
   ],
   "source": [
    "df.query('locality_name == \"Санкт-Петербург\"')['cityCenters_nearest'].isnull().sum()"
   ]
  },
  {
   "cell_type": "code",
   "execution_count": 14,
   "metadata": {},
   "outputs": [
    {
     "data": {
      "text/plain": [
       "0"
      ]
     },
     "execution_count": 14,
     "metadata": {},
     "output_type": "execute_result"
    }
   ],
   "source": [
    "# найдем медианное значение расстояния до центра СПб и заполним им пропуски:\n",
    "spb_center_median = df[df['locality_name'] == 'Санкт-Петербург']['cityCenters_nearest'].median()\n",
    "df.loc[(df['locality_name'] == 'Санкт-Петербург') & \n",
    "       (df['cityCenters_nearest'].isna()), 'cityCenters_nearest'] = spb_center_median\n",
    "df.query('locality_name == \"Санкт-Петербург\"')['cityCenters_nearest'].isnull().sum()"
   ]
  },
  {
   "cell_type": "markdown",
   "metadata": {},
   "source": [
    "Я обработала пропуски в столбцах `'cityCenters_nearest'` и `'airports_nearest'` по Санкт-Петербургу, потому что это нужно для проведения дальнейшего анализа. "
   ]
  },
  {
   "cell_type": "markdown",
   "metadata": {},
   "source": [
    "Посмотрим на оставшиеся пропуски:"
   ]
  },
  {
   "cell_type": "code",
   "execution_count": 15,
   "metadata": {},
   "outputs": [
    {
     "data": {
      "text/plain": [
       "parks_around3000      60\n",
       "parks_nearest       8399\n",
       "ponds_around3000      60\n",
       "ponds_nearest       7715\n",
       "dtype: int64"
      ]
     },
     "execution_count": 15,
     "metadata": {},
     "output_type": "execute_result"
    }
   ],
   "source": [
    "df.query('locality_name == \"Санкт-Петербург\"'\n",
    "        )[['parks_around3000', 'parks_nearest', 'ponds_around3000', 'ponds_nearest']].isnull().sum()"
   ]
  },
  {
   "cell_type": "code",
   "execution_count": 16,
   "metadata": {},
   "outputs": [
    {
     "data": {
      "text/plain": [
       "airports_nearest       5440\n",
       "cityCenters_nearest    5441\n",
       "parks_around3000       5440\n",
       "parks_nearest          7135\n",
       "ponds_around3000       5440\n",
       "ponds_nearest          6814\n",
       "dtype: int64"
      ]
     },
     "execution_count": 16,
     "metadata": {},
     "output_type": "execute_result"
    }
   ],
   "source": [
    "df.query('locality_name != \"Санкт-Петербург\"'\n",
    "        )[['airports_nearest', 'cityCenters_nearest','parks_around3000', \n",
    "           'parks_nearest', 'ponds_around3000', 'ponds_nearest']].isnull().sum()"
   ]
  },
  {
   "cell_type": "markdown",
   "metadata": {},
   "source": [
    "Для других населенных пукнтов медианные значения до центра могут отличаться и изучение этих данных не является целью проекта, поэтому для них я оставила пропуски как есть.\n",
    "Разработчикам следует обратить внимание на работу алгоритма, присваивающего данные о расположени объекта. Процент отсутствующих значений довольно высокий."
   ]
  },
  {
   "cell_type": "code",
   "execution_count": 17,
   "metadata": {},
   "outputs": [
    {
     "data": {
      "text/plain": [
       "total_images              int64\n",
       "last_price                int32\n",
       "total_area              float64\n",
       "first_day_exposition     object\n",
       "rooms                     int64\n",
       "ceiling_height          float64\n",
       "floors_total            float64\n",
       "living_area             float64\n",
       "floor                     int64\n",
       "is_apartment               bool\n",
       "studio                     bool\n",
       "open_plan                  bool\n",
       "kitchen_area            float64\n",
       "balcony                 float64\n",
       "locality_name            object\n",
       "airports_nearest        float64\n",
       "cityCenters_nearest     float64\n",
       "parks_around3000        float64\n",
       "parks_nearest           float64\n",
       "ponds_around3000        float64\n",
       "ponds_nearest           float64\n",
       "days_exposition         float64\n",
       "dtype: object"
      ]
     },
     "execution_count": 17,
     "metadata": {},
     "output_type": "execute_result"
    }
   ],
   "source": [
    "# заменим тип данных\n",
    "df['last_price'] = df['last_price'].astype('int')\n",
    "df.dtypes"
   ]
  },
  {
   "cell_type": "markdown",
   "metadata": {},
   "source": [
    "Обработаем пропуски в столбцах `'living_area'` и `'kitchen_area'`:"
   ]
  },
  {
   "cell_type": "code",
   "execution_count": 18,
   "metadata": {},
   "outputs": [
    {
     "data": {
      "text/plain": [
       "1865"
      ]
     },
     "execution_count": 18,
     "metadata": {},
     "output_type": "execute_result"
    }
   ],
   "source": [
    "df['living_area'].isna().sum()  "
   ]
  },
  {
   "cell_type": "code",
   "execution_count": 19,
   "metadata": {},
   "outputs": [
    {
     "data": {
      "text/plain": [
       "0"
      ]
     },
     "execution_count": 19,
     "metadata": {},
     "output_type": "execute_result"
    }
   ],
   "source": [
    "for rooms_name in df['rooms'].unique():\n",
    "    rooms_name_mean = df[df['rooms'] == rooms_name]['living_area'].mean()\n",
    "    df.loc[(df['rooms'] == rooms_name) & (df['living_area'].isna()), 'living_area'] = rooms_name_mean \n",
    "df['living_area'].isna().sum()"
   ]
  },
  {
   "cell_type": "code",
   "execution_count": 20,
   "metadata": {},
   "outputs": [
    {
     "data": {
      "text/plain": [
       "2222"
      ]
     },
     "execution_count": 20,
     "metadata": {},
     "output_type": "execute_result"
    }
   ],
   "source": [
    "df['kitchen_area'].isna().sum()  "
   ]
  },
  {
   "cell_type": "code",
   "execution_count": 21,
   "metadata": {},
   "outputs": [
    {
     "data": {
      "text/plain": [
       "194"
      ]
     },
     "execution_count": 21,
     "metadata": {},
     "output_type": "execute_result"
    }
   ],
   "source": [
    "for rooms_name in df['rooms'].unique():\n",
    "    rooms_name_kitchen_mean = df[df['rooms'] == rooms_name]['kitchen_area'].mean()\n",
    "    df.loc[(df['rooms'] == rooms_name) & (df['kitchen_area'].isna()), 'kitchen_area'] = rooms_name_kitchen_mean \n",
    "df['kitchen_area'].isna().sum()"
   ]
  },
  {
   "cell_type": "code",
   "execution_count": 22,
   "metadata": {},
   "outputs": [
    {
     "data": {
      "text/plain": [
       "0"
      ]
     },
     "execution_count": 22,
     "metadata": {},
     "output_type": "execute_result"
    }
   ],
   "source": [
    "# оставшиеся пропуски заполним разницой между total_area и living_area:\n",
    "for rooms_name in df['rooms'].unique():\n",
    "    rooms_name_kitchen_diff = df[df['rooms'] == rooms_name]['total_area'\n",
    "                                                           ].mean() - df[df['rooms'] == rooms_name]['living_area'].mean()\n",
    "    df.loc[(df['rooms'] == rooms_name) & (df['kitchen_area'].isna()), 'kitchen_area'] = rooms_name_kitchen_diff \n",
    "df['kitchen_area'].isna().sum()"
   ]
  },
  {
   "cell_type": "markdown",
   "metadata": {},
   "source": [
    "Пропущенные значения я заполнила средними данными по площади в квартирах с таким же количеством комнат. "
   ]
  },
  {
   "cell_type": "code",
   "execution_count": 23,
   "metadata": {},
   "outputs": [
    {
     "data": {
      "text/plain": [
       "total_images                0\n",
       "last_price                  0\n",
       "total_area                  0\n",
       "first_day_exposition        0\n",
       "rooms                       0\n",
       "ceiling_height              0\n",
       "floors_total                0\n",
       "living_area                 0\n",
       "floor                       0\n",
       "is_apartment                0\n",
       "studio                      0\n",
       "open_plan                   0\n",
       "kitchen_area                0\n",
       "balcony                     0\n",
       "locality_name               0\n",
       "airports_nearest         5440\n",
       "cityCenters_nearest      5441\n",
       "parks_around3000         5500\n",
       "parks_nearest           15534\n",
       "ponds_around3000         5500\n",
       "ponds_nearest           14529\n",
       "days_exposition          3171\n",
       "dtype: int64"
      ]
     },
     "execution_count": 23,
     "metadata": {},
     "output_type": "execute_result"
    }
   ],
   "source": [
    "df.isnull().sum()"
   ]
  },
  {
   "cell_type": "markdown",
   "metadata": {},
   "source": [
    "Оставшиеся пропущенные значения я решила оставить без изменений. "
   ]
  },
  {
   "cell_type": "markdown",
   "metadata": {},
   "source": [
    "<div id='step3'/>\n",
    "\n",
    "### Шаг 3. Добавление данных в таблицу"
   ]
  },
  {
   "cell_type": "markdown",
   "metadata": {},
   "source": [
    "- Цена за квадрантый метр:"
   ]
  },
  {
   "cell_type": "code",
   "execution_count": 24,
   "metadata": {},
   "outputs": [
    {
     "data": {
      "text/html": [
       "<div>\n",
       "<style scoped>\n",
       "    .dataframe tbody tr th:only-of-type {\n",
       "        vertical-align: middle;\n",
       "    }\n",
       "\n",
       "    .dataframe tbody tr th {\n",
       "        vertical-align: top;\n",
       "    }\n",
       "\n",
       "    .dataframe thead th {\n",
       "        text-align: right;\n",
       "    }\n",
       "</style>\n",
       "<table border=\"1\" class=\"dataframe\">\n",
       "  <thead>\n",
       "    <tr style=\"text-align: right;\">\n",
       "      <th></th>\n",
       "      <th>total_images</th>\n",
       "      <th>last_price</th>\n",
       "      <th>total_area</th>\n",
       "      <th>first_day_exposition</th>\n",
       "      <th>rooms</th>\n",
       "      <th>ceiling_height</th>\n",
       "      <th>floors_total</th>\n",
       "      <th>living_area</th>\n",
       "      <th>floor</th>\n",
       "      <th>is_apartment</th>\n",
       "      <th>...</th>\n",
       "      <th>balcony</th>\n",
       "      <th>locality_name</th>\n",
       "      <th>airports_nearest</th>\n",
       "      <th>cityCenters_nearest</th>\n",
       "      <th>parks_around3000</th>\n",
       "      <th>parks_nearest</th>\n",
       "      <th>ponds_around3000</th>\n",
       "      <th>ponds_nearest</th>\n",
       "      <th>days_exposition</th>\n",
       "      <th>sq_m_price</th>\n",
       "    </tr>\n",
       "  </thead>\n",
       "  <tbody>\n",
       "    <tr>\n",
       "      <th>0</th>\n",
       "      <td>20</td>\n",
       "      <td>13000000</td>\n",
       "      <td>108.0</td>\n",
       "      <td>2019-03-07T00:00:00</td>\n",
       "      <td>3</td>\n",
       "      <td>2.70</td>\n",
       "      <td>16.0</td>\n",
       "      <td>51.000000</td>\n",
       "      <td>8</td>\n",
       "      <td>True</td>\n",
       "      <td>...</td>\n",
       "      <td>0.0</td>\n",
       "      <td>Санкт-Петербург</td>\n",
       "      <td>18863.0</td>\n",
       "      <td>16028.0</td>\n",
       "      <td>1.0</td>\n",
       "      <td>482.0</td>\n",
       "      <td>2.0</td>\n",
       "      <td>755.0</td>\n",
       "      <td>NaN</td>\n",
       "      <td>120370.370370</td>\n",
       "    </tr>\n",
       "    <tr>\n",
       "      <th>1</th>\n",
       "      <td>7</td>\n",
       "      <td>3350000</td>\n",
       "      <td>40.4</td>\n",
       "      <td>2018-12-04T00:00:00</td>\n",
       "      <td>1</td>\n",
       "      <td>2.75</td>\n",
       "      <td>11.0</td>\n",
       "      <td>18.600000</td>\n",
       "      <td>1</td>\n",
       "      <td>True</td>\n",
       "      <td>...</td>\n",
       "      <td>2.0</td>\n",
       "      <td>посёлок Шушары</td>\n",
       "      <td>12817.0</td>\n",
       "      <td>18603.0</td>\n",
       "      <td>0.0</td>\n",
       "      <td>NaN</td>\n",
       "      <td>0.0</td>\n",
       "      <td>NaN</td>\n",
       "      <td>81.0</td>\n",
       "      <td>82920.792079</td>\n",
       "    </tr>\n",
       "    <tr>\n",
       "      <th>2</th>\n",
       "      <td>10</td>\n",
       "      <td>5196000</td>\n",
       "      <td>56.0</td>\n",
       "      <td>2015-08-20T00:00:00</td>\n",
       "      <td>2</td>\n",
       "      <td>2.55</td>\n",
       "      <td>5.0</td>\n",
       "      <td>34.300000</td>\n",
       "      <td>4</td>\n",
       "      <td>True</td>\n",
       "      <td>...</td>\n",
       "      <td>0.0</td>\n",
       "      <td>Санкт-Петербург</td>\n",
       "      <td>21741.0</td>\n",
       "      <td>13933.0</td>\n",
       "      <td>1.0</td>\n",
       "      <td>90.0</td>\n",
       "      <td>2.0</td>\n",
       "      <td>574.0</td>\n",
       "      <td>558.0</td>\n",
       "      <td>92785.714286</td>\n",
       "    </tr>\n",
       "    <tr>\n",
       "      <th>3</th>\n",
       "      <td>0</td>\n",
       "      <td>64900000</td>\n",
       "      <td>159.0</td>\n",
       "      <td>2015-07-24T00:00:00</td>\n",
       "      <td>3</td>\n",
       "      <td>2.60</td>\n",
       "      <td>14.0</td>\n",
       "      <td>47.373054</td>\n",
       "      <td>9</td>\n",
       "      <td>True</td>\n",
       "      <td>...</td>\n",
       "      <td>0.0</td>\n",
       "      <td>Санкт-Петербург</td>\n",
       "      <td>28098.0</td>\n",
       "      <td>6800.0</td>\n",
       "      <td>2.0</td>\n",
       "      <td>84.0</td>\n",
       "      <td>3.0</td>\n",
       "      <td>234.0</td>\n",
       "      <td>424.0</td>\n",
       "      <td>408176.100629</td>\n",
       "    </tr>\n",
       "    <tr>\n",
       "      <th>4</th>\n",
       "      <td>2</td>\n",
       "      <td>10000000</td>\n",
       "      <td>100.0</td>\n",
       "      <td>2018-06-19T00:00:00</td>\n",
       "      <td>2</td>\n",
       "      <td>3.03</td>\n",
       "      <td>14.0</td>\n",
       "      <td>32.000000</td>\n",
       "      <td>13</td>\n",
       "      <td>True</td>\n",
       "      <td>...</td>\n",
       "      <td>0.0</td>\n",
       "      <td>Санкт-Петербург</td>\n",
       "      <td>31856.0</td>\n",
       "      <td>8098.0</td>\n",
       "      <td>2.0</td>\n",
       "      <td>112.0</td>\n",
       "      <td>1.0</td>\n",
       "      <td>48.0</td>\n",
       "      <td>121.0</td>\n",
       "      <td>100000.000000</td>\n",
       "    </tr>\n",
       "  </tbody>\n",
       "</table>\n",
       "<p>5 rows × 23 columns</p>\n",
       "</div>"
      ],
      "text/plain": [
       "   total_images  last_price  total_area first_day_exposition  rooms  \\\n",
       "0            20    13000000       108.0  2019-03-07T00:00:00      3   \n",
       "1             7     3350000        40.4  2018-12-04T00:00:00      1   \n",
       "2            10     5196000        56.0  2015-08-20T00:00:00      2   \n",
       "3             0    64900000       159.0  2015-07-24T00:00:00      3   \n",
       "4             2    10000000       100.0  2018-06-19T00:00:00      2   \n",
       "\n",
       "   ceiling_height  floors_total  living_area  floor  is_apartment  ...  \\\n",
       "0            2.70          16.0    51.000000      8          True  ...   \n",
       "1            2.75          11.0    18.600000      1          True  ...   \n",
       "2            2.55           5.0    34.300000      4          True  ...   \n",
       "3            2.60          14.0    47.373054      9          True  ...   \n",
       "4            3.03          14.0    32.000000     13          True  ...   \n",
       "\n",
       "   balcony    locality_name  airports_nearest  cityCenters_nearest  \\\n",
       "0      0.0  Санкт-Петербург           18863.0              16028.0   \n",
       "1      2.0   посёлок Шушары           12817.0              18603.0   \n",
       "2      0.0  Санкт-Петербург           21741.0              13933.0   \n",
       "3      0.0  Санкт-Петербург           28098.0               6800.0   \n",
       "4      0.0  Санкт-Петербург           31856.0               8098.0   \n",
       "\n",
       "  parks_around3000  parks_nearest  ponds_around3000  ponds_nearest  \\\n",
       "0              1.0          482.0               2.0          755.0   \n",
       "1              0.0            NaN               0.0            NaN   \n",
       "2              1.0           90.0               2.0          574.0   \n",
       "3              2.0           84.0               3.0          234.0   \n",
       "4              2.0          112.0               1.0           48.0   \n",
       "\n",
       "   days_exposition     sq_m_price  \n",
       "0              NaN  120370.370370  \n",
       "1             81.0   82920.792079  \n",
       "2            558.0   92785.714286  \n",
       "3            424.0  408176.100629  \n",
       "4            121.0  100000.000000  \n",
       "\n",
       "[5 rows x 23 columns]"
      ]
     },
     "execution_count": 24,
     "metadata": {},
     "output_type": "execute_result"
    }
   ],
   "source": [
    "df['sq_m_price'] = df['last_price'] / df['total_area']\n",
    "df.head(5)"
   ]
  },
  {
   "cell_type": "markdown",
   "metadata": {},
   "source": [
    "- День, месяц, год для `'first_day_exposition'`:"
   ]
  },
  {
   "cell_type": "code",
   "execution_count": 25,
   "metadata": {},
   "outputs": [
    {
     "data": {
      "text/html": [
       "<div>\n",
       "<style scoped>\n",
       "    .dataframe tbody tr th:only-of-type {\n",
       "        vertical-align: middle;\n",
       "    }\n",
       "\n",
       "    .dataframe tbody tr th {\n",
       "        vertical-align: top;\n",
       "    }\n",
       "\n",
       "    .dataframe thead th {\n",
       "        text-align: right;\n",
       "    }\n",
       "</style>\n",
       "<table border=\"1\" class=\"dataframe\">\n",
       "  <thead>\n",
       "    <tr style=\"text-align: right;\">\n",
       "      <th></th>\n",
       "      <th>total_images</th>\n",
       "      <th>last_price</th>\n",
       "      <th>total_area</th>\n",
       "      <th>first_day_exposition</th>\n",
       "      <th>rooms</th>\n",
       "      <th>ceiling_height</th>\n",
       "      <th>floors_total</th>\n",
       "      <th>living_area</th>\n",
       "      <th>floor</th>\n",
       "      <th>is_apartment</th>\n",
       "      <th>...</th>\n",
       "      <th>cityCenters_nearest</th>\n",
       "      <th>parks_around3000</th>\n",
       "      <th>parks_nearest</th>\n",
       "      <th>ponds_around3000</th>\n",
       "      <th>ponds_nearest</th>\n",
       "      <th>days_exposition</th>\n",
       "      <th>sq_m_price</th>\n",
       "      <th>weekday_exp</th>\n",
       "      <th>month_exp</th>\n",
       "      <th>year_exp</th>\n",
       "    </tr>\n",
       "  </thead>\n",
       "  <tbody>\n",
       "    <tr>\n",
       "      <th>0</th>\n",
       "      <td>20</td>\n",
       "      <td>13000000</td>\n",
       "      <td>108.0</td>\n",
       "      <td>2019-03-07 03:00:00</td>\n",
       "      <td>3</td>\n",
       "      <td>2.70</td>\n",
       "      <td>16.0</td>\n",
       "      <td>51.000000</td>\n",
       "      <td>8</td>\n",
       "      <td>True</td>\n",
       "      <td>...</td>\n",
       "      <td>16028.0</td>\n",
       "      <td>1.0</td>\n",
       "      <td>482.0</td>\n",
       "      <td>2.0</td>\n",
       "      <td>755.0</td>\n",
       "      <td>NaN</td>\n",
       "      <td>120370.370370</td>\n",
       "      <td>3</td>\n",
       "      <td>3</td>\n",
       "      <td>2019</td>\n",
       "    </tr>\n",
       "    <tr>\n",
       "      <th>1</th>\n",
       "      <td>7</td>\n",
       "      <td>3350000</td>\n",
       "      <td>40.4</td>\n",
       "      <td>2018-12-04 03:00:00</td>\n",
       "      <td>1</td>\n",
       "      <td>2.75</td>\n",
       "      <td>11.0</td>\n",
       "      <td>18.600000</td>\n",
       "      <td>1</td>\n",
       "      <td>True</td>\n",
       "      <td>...</td>\n",
       "      <td>18603.0</td>\n",
       "      <td>0.0</td>\n",
       "      <td>NaN</td>\n",
       "      <td>0.0</td>\n",
       "      <td>NaN</td>\n",
       "      <td>81.0</td>\n",
       "      <td>82920.792079</td>\n",
       "      <td>1</td>\n",
       "      <td>12</td>\n",
       "      <td>2018</td>\n",
       "    </tr>\n",
       "    <tr>\n",
       "      <th>2</th>\n",
       "      <td>10</td>\n",
       "      <td>5196000</td>\n",
       "      <td>56.0</td>\n",
       "      <td>2015-08-20 03:00:00</td>\n",
       "      <td>2</td>\n",
       "      <td>2.55</td>\n",
       "      <td>5.0</td>\n",
       "      <td>34.300000</td>\n",
       "      <td>4</td>\n",
       "      <td>True</td>\n",
       "      <td>...</td>\n",
       "      <td>13933.0</td>\n",
       "      <td>1.0</td>\n",
       "      <td>90.0</td>\n",
       "      <td>2.0</td>\n",
       "      <td>574.0</td>\n",
       "      <td>558.0</td>\n",
       "      <td>92785.714286</td>\n",
       "      <td>3</td>\n",
       "      <td>8</td>\n",
       "      <td>2015</td>\n",
       "    </tr>\n",
       "    <tr>\n",
       "      <th>3</th>\n",
       "      <td>0</td>\n",
       "      <td>64900000</td>\n",
       "      <td>159.0</td>\n",
       "      <td>2015-07-24 03:00:00</td>\n",
       "      <td>3</td>\n",
       "      <td>2.60</td>\n",
       "      <td>14.0</td>\n",
       "      <td>47.373054</td>\n",
       "      <td>9</td>\n",
       "      <td>True</td>\n",
       "      <td>...</td>\n",
       "      <td>6800.0</td>\n",
       "      <td>2.0</td>\n",
       "      <td>84.0</td>\n",
       "      <td>3.0</td>\n",
       "      <td>234.0</td>\n",
       "      <td>424.0</td>\n",
       "      <td>408176.100629</td>\n",
       "      <td>4</td>\n",
       "      <td>7</td>\n",
       "      <td>2015</td>\n",
       "    </tr>\n",
       "    <tr>\n",
       "      <th>4</th>\n",
       "      <td>2</td>\n",
       "      <td>10000000</td>\n",
       "      <td>100.0</td>\n",
       "      <td>2018-06-19 03:00:00</td>\n",
       "      <td>2</td>\n",
       "      <td>3.03</td>\n",
       "      <td>14.0</td>\n",
       "      <td>32.000000</td>\n",
       "      <td>13</td>\n",
       "      <td>True</td>\n",
       "      <td>...</td>\n",
       "      <td>8098.0</td>\n",
       "      <td>2.0</td>\n",
       "      <td>112.0</td>\n",
       "      <td>1.0</td>\n",
       "      <td>48.0</td>\n",
       "      <td>121.0</td>\n",
       "      <td>100000.000000</td>\n",
       "      <td>1</td>\n",
       "      <td>6</td>\n",
       "      <td>2018</td>\n",
       "    </tr>\n",
       "  </tbody>\n",
       "</table>\n",
       "<p>5 rows × 26 columns</p>\n",
       "</div>"
      ],
      "text/plain": [
       "   total_images  last_price  total_area first_day_exposition  rooms  \\\n",
       "0            20    13000000       108.0  2019-03-07 03:00:00      3   \n",
       "1             7     3350000        40.4  2018-12-04 03:00:00      1   \n",
       "2            10     5196000        56.0  2015-08-20 03:00:00      2   \n",
       "3             0    64900000       159.0  2015-07-24 03:00:00      3   \n",
       "4             2    10000000       100.0  2018-06-19 03:00:00      2   \n",
       "\n",
       "   ceiling_height  floors_total  living_area  floor  is_apartment  ...  \\\n",
       "0            2.70          16.0    51.000000      8          True  ...   \n",
       "1            2.75          11.0    18.600000      1          True  ...   \n",
       "2            2.55           5.0    34.300000      4          True  ...   \n",
       "3            2.60          14.0    47.373054      9          True  ...   \n",
       "4            3.03          14.0    32.000000     13          True  ...   \n",
       "\n",
       "   cityCenters_nearest  parks_around3000  parks_nearest  ponds_around3000  \\\n",
       "0              16028.0               1.0          482.0               2.0   \n",
       "1              18603.0               0.0            NaN               0.0   \n",
       "2              13933.0               1.0           90.0               2.0   \n",
       "3               6800.0               2.0           84.0               3.0   \n",
       "4               8098.0               2.0          112.0               1.0   \n",
       "\n",
       "  ponds_nearest  days_exposition     sq_m_price  weekday_exp  month_exp  \\\n",
       "0         755.0              NaN  120370.370370            3          3   \n",
       "1           NaN             81.0   82920.792079            1         12   \n",
       "2         574.0            558.0   92785.714286            3          8   \n",
       "3         234.0            424.0  408176.100629            4          7   \n",
       "4          48.0            121.0  100000.000000            1          6   \n",
       "\n",
       "   year_exp  \n",
       "0      2019  \n",
       "1      2018  \n",
       "2      2015  \n",
       "3      2015  \n",
       "4      2018  \n",
       "\n",
       "[5 rows x 26 columns]"
      ]
     },
     "execution_count": 25,
     "metadata": {},
     "output_type": "execute_result"
    }
   ],
   "source": [
    "df['first_day_exposition'] = (\n",
    "    pd.to_datetime(df['first_day_exposition'], format='%Y-%m-%dT%H:%M:%S')\n",
    "    + pd.Timedelta(hours=3))\n",
    "\n",
    "df['weekday_exp'] = df['first_day_exposition'].dt.weekday\n",
    "df['month_exp'] = df['first_day_exposition'].dt.month\n",
    "df['year_exp'] = df['first_day_exposition'].dt.year\n",
    "df.head(5)"
   ]
  },
  {
   "cell_type": "markdown",
   "metadata": {},
   "source": [
    "- Условное обозначения для этажа (первый, последний, другой):"
   ]
  },
  {
   "cell_type": "code",
   "execution_count": 26,
   "metadata": {},
   "outputs": [
    {
     "data": {
      "text/html": [
       "<div>\n",
       "<style scoped>\n",
       "    .dataframe tbody tr th:only-of-type {\n",
       "        vertical-align: middle;\n",
       "    }\n",
       "\n",
       "    .dataframe tbody tr th {\n",
       "        vertical-align: top;\n",
       "    }\n",
       "\n",
       "    .dataframe thead th {\n",
       "        text-align: right;\n",
       "    }\n",
       "</style>\n",
       "<table border=\"1\" class=\"dataframe\">\n",
       "  <thead>\n",
       "    <tr style=\"text-align: right;\">\n",
       "      <th></th>\n",
       "      <th>total_images</th>\n",
       "      <th>last_price</th>\n",
       "      <th>total_area</th>\n",
       "      <th>first_day_exposition</th>\n",
       "      <th>rooms</th>\n",
       "      <th>ceiling_height</th>\n",
       "      <th>floors_total</th>\n",
       "      <th>living_area</th>\n",
       "      <th>floor</th>\n",
       "      <th>is_apartment</th>\n",
       "      <th>...</th>\n",
       "      <th>parks_around3000</th>\n",
       "      <th>parks_nearest</th>\n",
       "      <th>ponds_around3000</th>\n",
       "      <th>ponds_nearest</th>\n",
       "      <th>days_exposition</th>\n",
       "      <th>sq_m_price</th>\n",
       "      <th>weekday_exp</th>\n",
       "      <th>month_exp</th>\n",
       "      <th>year_exp</th>\n",
       "      <th>floor_name</th>\n",
       "    </tr>\n",
       "  </thead>\n",
       "  <tbody>\n",
       "    <tr>\n",
       "      <th>0</th>\n",
       "      <td>20</td>\n",
       "      <td>13000000</td>\n",
       "      <td>108.0</td>\n",
       "      <td>2019-03-07 03:00:00</td>\n",
       "      <td>3</td>\n",
       "      <td>2.70</td>\n",
       "      <td>16.0</td>\n",
       "      <td>51.000000</td>\n",
       "      <td>8</td>\n",
       "      <td>True</td>\n",
       "      <td>...</td>\n",
       "      <td>1.0</td>\n",
       "      <td>482.0</td>\n",
       "      <td>2.0</td>\n",
       "      <td>755.0</td>\n",
       "      <td>NaN</td>\n",
       "      <td>120370.370370</td>\n",
       "      <td>3</td>\n",
       "      <td>3</td>\n",
       "      <td>2019</td>\n",
       "      <td>другой</td>\n",
       "    </tr>\n",
       "    <tr>\n",
       "      <th>1</th>\n",
       "      <td>7</td>\n",
       "      <td>3350000</td>\n",
       "      <td>40.4</td>\n",
       "      <td>2018-12-04 03:00:00</td>\n",
       "      <td>1</td>\n",
       "      <td>2.75</td>\n",
       "      <td>11.0</td>\n",
       "      <td>18.600000</td>\n",
       "      <td>1</td>\n",
       "      <td>True</td>\n",
       "      <td>...</td>\n",
       "      <td>0.0</td>\n",
       "      <td>NaN</td>\n",
       "      <td>0.0</td>\n",
       "      <td>NaN</td>\n",
       "      <td>81.0</td>\n",
       "      <td>82920.792079</td>\n",
       "      <td>1</td>\n",
       "      <td>12</td>\n",
       "      <td>2018</td>\n",
       "      <td>первый</td>\n",
       "    </tr>\n",
       "    <tr>\n",
       "      <th>2</th>\n",
       "      <td>10</td>\n",
       "      <td>5196000</td>\n",
       "      <td>56.0</td>\n",
       "      <td>2015-08-20 03:00:00</td>\n",
       "      <td>2</td>\n",
       "      <td>2.55</td>\n",
       "      <td>5.0</td>\n",
       "      <td>34.300000</td>\n",
       "      <td>4</td>\n",
       "      <td>True</td>\n",
       "      <td>...</td>\n",
       "      <td>1.0</td>\n",
       "      <td>90.0</td>\n",
       "      <td>2.0</td>\n",
       "      <td>574.0</td>\n",
       "      <td>558.0</td>\n",
       "      <td>92785.714286</td>\n",
       "      <td>3</td>\n",
       "      <td>8</td>\n",
       "      <td>2015</td>\n",
       "      <td>другой</td>\n",
       "    </tr>\n",
       "    <tr>\n",
       "      <th>3</th>\n",
       "      <td>0</td>\n",
       "      <td>64900000</td>\n",
       "      <td>159.0</td>\n",
       "      <td>2015-07-24 03:00:00</td>\n",
       "      <td>3</td>\n",
       "      <td>2.60</td>\n",
       "      <td>14.0</td>\n",
       "      <td>47.373054</td>\n",
       "      <td>9</td>\n",
       "      <td>True</td>\n",
       "      <td>...</td>\n",
       "      <td>2.0</td>\n",
       "      <td>84.0</td>\n",
       "      <td>3.0</td>\n",
       "      <td>234.0</td>\n",
       "      <td>424.0</td>\n",
       "      <td>408176.100629</td>\n",
       "      <td>4</td>\n",
       "      <td>7</td>\n",
       "      <td>2015</td>\n",
       "      <td>другой</td>\n",
       "    </tr>\n",
       "    <tr>\n",
       "      <th>4</th>\n",
       "      <td>2</td>\n",
       "      <td>10000000</td>\n",
       "      <td>100.0</td>\n",
       "      <td>2018-06-19 03:00:00</td>\n",
       "      <td>2</td>\n",
       "      <td>3.03</td>\n",
       "      <td>14.0</td>\n",
       "      <td>32.000000</td>\n",
       "      <td>13</td>\n",
       "      <td>True</td>\n",
       "      <td>...</td>\n",
       "      <td>2.0</td>\n",
       "      <td>112.0</td>\n",
       "      <td>1.0</td>\n",
       "      <td>48.0</td>\n",
       "      <td>121.0</td>\n",
       "      <td>100000.000000</td>\n",
       "      <td>1</td>\n",
       "      <td>6</td>\n",
       "      <td>2018</td>\n",
       "      <td>другой</td>\n",
       "    </tr>\n",
       "  </tbody>\n",
       "</table>\n",
       "<p>5 rows × 27 columns</p>\n",
       "</div>"
      ],
      "text/plain": [
       "   total_images  last_price  total_area first_day_exposition  rooms  \\\n",
       "0            20    13000000       108.0  2019-03-07 03:00:00      3   \n",
       "1             7     3350000        40.4  2018-12-04 03:00:00      1   \n",
       "2            10     5196000        56.0  2015-08-20 03:00:00      2   \n",
       "3             0    64900000       159.0  2015-07-24 03:00:00      3   \n",
       "4             2    10000000       100.0  2018-06-19 03:00:00      2   \n",
       "\n",
       "   ceiling_height  floors_total  living_area  floor  is_apartment  ...  \\\n",
       "0            2.70          16.0    51.000000      8          True  ...   \n",
       "1            2.75          11.0    18.600000      1          True  ...   \n",
       "2            2.55           5.0    34.300000      4          True  ...   \n",
       "3            2.60          14.0    47.373054      9          True  ...   \n",
       "4            3.03          14.0    32.000000     13          True  ...   \n",
       "\n",
       "   parks_around3000  parks_nearest  ponds_around3000  ponds_nearest  \\\n",
       "0               1.0          482.0               2.0          755.0   \n",
       "1               0.0            NaN               0.0            NaN   \n",
       "2               1.0           90.0               2.0          574.0   \n",
       "3               2.0           84.0               3.0          234.0   \n",
       "4               2.0          112.0               1.0           48.0   \n",
       "\n",
       "  days_exposition     sq_m_price  weekday_exp  month_exp  year_exp  floor_name  \n",
       "0             NaN  120370.370370            3          3      2019      другой  \n",
       "1            81.0   82920.792079            1         12      2018      первый  \n",
       "2           558.0   92785.714286            3          8      2015      другой  \n",
       "3           424.0  408176.100629            4          7      2015      другой  \n",
       "4           121.0  100000.000000            1          6      2018      другой  \n",
       "\n",
       "[5 rows x 27 columns]"
      ]
     },
     "execution_count": 26,
     "metadata": {},
     "output_type": "execute_result"
    }
   ],
   "source": [
    "def floor_name(row):\n",
    "    if row['floor'] == 1:\n",
    "        return 'первый'\n",
    "    elif row['floors_total'] == row['floor']:\n",
    "        return 'последний'\n",
    "    else:\n",
    "        return 'другой'\n",
    "df['floor_name'] = df.apply(floor_name, axis=1)\n",
    "df.head(5)"
   ]
  },
  {
   "cell_type": "markdown",
   "metadata": {},
   "source": [
    "- Относительное значения жилой площади и площади кухни:"
   ]
  },
  {
   "cell_type": "code",
   "execution_count": 27,
   "metadata": {},
   "outputs": [
    {
     "data": {
      "text/html": [
       "<div>\n",
       "<style scoped>\n",
       "    .dataframe tbody tr th:only-of-type {\n",
       "        vertical-align: middle;\n",
       "    }\n",
       "\n",
       "    .dataframe tbody tr th {\n",
       "        vertical-align: top;\n",
       "    }\n",
       "\n",
       "    .dataframe thead th {\n",
       "        text-align: right;\n",
       "    }\n",
       "</style>\n",
       "<table border=\"1\" class=\"dataframe\">\n",
       "  <thead>\n",
       "    <tr style=\"text-align: right;\">\n",
       "      <th></th>\n",
       "      <th>total_images</th>\n",
       "      <th>last_price</th>\n",
       "      <th>total_area</th>\n",
       "      <th>first_day_exposition</th>\n",
       "      <th>rooms</th>\n",
       "      <th>ceiling_height</th>\n",
       "      <th>floors_total</th>\n",
       "      <th>living_area</th>\n",
       "      <th>floor</th>\n",
       "      <th>is_apartment</th>\n",
       "      <th>...</th>\n",
       "      <th>ponds_around3000</th>\n",
       "      <th>ponds_nearest</th>\n",
       "      <th>days_exposition</th>\n",
       "      <th>sq_m_price</th>\n",
       "      <th>weekday_exp</th>\n",
       "      <th>month_exp</th>\n",
       "      <th>year_exp</th>\n",
       "      <th>floor_name</th>\n",
       "      <th>living_part</th>\n",
       "      <th>kitchen_part</th>\n",
       "    </tr>\n",
       "  </thead>\n",
       "  <tbody>\n",
       "    <tr>\n",
       "      <th>0</th>\n",
       "      <td>20</td>\n",
       "      <td>13000000</td>\n",
       "      <td>108.0</td>\n",
       "      <td>2019-03-07 03:00:00</td>\n",
       "      <td>3</td>\n",
       "      <td>2.70</td>\n",
       "      <td>16.0</td>\n",
       "      <td>51.000000</td>\n",
       "      <td>8</td>\n",
       "      <td>True</td>\n",
       "      <td>...</td>\n",
       "      <td>2.0</td>\n",
       "      <td>755.0</td>\n",
       "      <td>NaN</td>\n",
       "      <td>120370.370370</td>\n",
       "      <td>3</td>\n",
       "      <td>3</td>\n",
       "      <td>2019</td>\n",
       "      <td>другой</td>\n",
       "      <td>0.472222</td>\n",
       "      <td>0.231481</td>\n",
       "    </tr>\n",
       "    <tr>\n",
       "      <th>1</th>\n",
       "      <td>7</td>\n",
       "      <td>3350000</td>\n",
       "      <td>40.4</td>\n",
       "      <td>2018-12-04 03:00:00</td>\n",
       "      <td>1</td>\n",
       "      <td>2.75</td>\n",
       "      <td>11.0</td>\n",
       "      <td>18.600000</td>\n",
       "      <td>1</td>\n",
       "      <td>True</td>\n",
       "      <td>...</td>\n",
       "      <td>0.0</td>\n",
       "      <td>NaN</td>\n",
       "      <td>81.0</td>\n",
       "      <td>82920.792079</td>\n",
       "      <td>1</td>\n",
       "      <td>12</td>\n",
       "      <td>2018</td>\n",
       "      <td>первый</td>\n",
       "      <td>0.460396</td>\n",
       "      <td>0.272277</td>\n",
       "    </tr>\n",
       "    <tr>\n",
       "      <th>2</th>\n",
       "      <td>10</td>\n",
       "      <td>5196000</td>\n",
       "      <td>56.0</td>\n",
       "      <td>2015-08-20 03:00:00</td>\n",
       "      <td>2</td>\n",
       "      <td>2.55</td>\n",
       "      <td>5.0</td>\n",
       "      <td>34.300000</td>\n",
       "      <td>4</td>\n",
       "      <td>True</td>\n",
       "      <td>...</td>\n",
       "      <td>2.0</td>\n",
       "      <td>574.0</td>\n",
       "      <td>558.0</td>\n",
       "      <td>92785.714286</td>\n",
       "      <td>3</td>\n",
       "      <td>8</td>\n",
       "      <td>2015</td>\n",
       "      <td>другой</td>\n",
       "      <td>0.612500</td>\n",
       "      <td>0.148214</td>\n",
       "    </tr>\n",
       "    <tr>\n",
       "      <th>3</th>\n",
       "      <td>0</td>\n",
       "      <td>64900000</td>\n",
       "      <td>159.0</td>\n",
       "      <td>2015-07-24 03:00:00</td>\n",
       "      <td>3</td>\n",
       "      <td>2.60</td>\n",
       "      <td>14.0</td>\n",
       "      <td>47.373054</td>\n",
       "      <td>9</td>\n",
       "      <td>True</td>\n",
       "      <td>...</td>\n",
       "      <td>3.0</td>\n",
       "      <td>234.0</td>\n",
       "      <td>424.0</td>\n",
       "      <td>408176.100629</td>\n",
       "      <td>4</td>\n",
       "      <td>7</td>\n",
       "      <td>2015</td>\n",
       "      <td>другой</td>\n",
       "      <td>0.297944</td>\n",
       "      <td>0.071013</td>\n",
       "    </tr>\n",
       "    <tr>\n",
       "      <th>4</th>\n",
       "      <td>2</td>\n",
       "      <td>10000000</td>\n",
       "      <td>100.0</td>\n",
       "      <td>2018-06-19 03:00:00</td>\n",
       "      <td>2</td>\n",
       "      <td>3.03</td>\n",
       "      <td>14.0</td>\n",
       "      <td>32.000000</td>\n",
       "      <td>13</td>\n",
       "      <td>True</td>\n",
       "      <td>...</td>\n",
       "      <td>1.0</td>\n",
       "      <td>48.0</td>\n",
       "      <td>121.0</td>\n",
       "      <td>100000.000000</td>\n",
       "      <td>1</td>\n",
       "      <td>6</td>\n",
       "      <td>2018</td>\n",
       "      <td>другой</td>\n",
       "      <td>0.320000</td>\n",
       "      <td>0.410000</td>\n",
       "    </tr>\n",
       "  </tbody>\n",
       "</table>\n",
       "<p>5 rows × 29 columns</p>\n",
       "</div>"
      ],
      "text/plain": [
       "   total_images  last_price  total_area first_day_exposition  rooms  \\\n",
       "0            20    13000000       108.0  2019-03-07 03:00:00      3   \n",
       "1             7     3350000        40.4  2018-12-04 03:00:00      1   \n",
       "2            10     5196000        56.0  2015-08-20 03:00:00      2   \n",
       "3             0    64900000       159.0  2015-07-24 03:00:00      3   \n",
       "4             2    10000000       100.0  2018-06-19 03:00:00      2   \n",
       "\n",
       "   ceiling_height  floors_total  living_area  floor  is_apartment  ...  \\\n",
       "0            2.70          16.0    51.000000      8          True  ...   \n",
       "1            2.75          11.0    18.600000      1          True  ...   \n",
       "2            2.55           5.0    34.300000      4          True  ...   \n",
       "3            2.60          14.0    47.373054      9          True  ...   \n",
       "4            3.03          14.0    32.000000     13          True  ...   \n",
       "\n",
       "   ponds_around3000  ponds_nearest  days_exposition     sq_m_price  \\\n",
       "0               2.0          755.0              NaN  120370.370370   \n",
       "1               0.0            NaN             81.0   82920.792079   \n",
       "2               2.0          574.0            558.0   92785.714286   \n",
       "3               3.0          234.0            424.0  408176.100629   \n",
       "4               1.0           48.0            121.0  100000.000000   \n",
       "\n",
       "  weekday_exp  month_exp  year_exp  floor_name  living_part  kitchen_part  \n",
       "0           3          3      2019      другой     0.472222      0.231481  \n",
       "1           1         12      2018      первый     0.460396      0.272277  \n",
       "2           3          8      2015      другой     0.612500      0.148214  \n",
       "3           4          7      2015      другой     0.297944      0.071013  \n",
       "4           1          6      2018      другой     0.320000      0.410000  \n",
       "\n",
       "[5 rows x 29 columns]"
      ]
     },
     "execution_count": 27,
     "metadata": {},
     "output_type": "execute_result"
    }
   ],
   "source": [
    "df['living_part'] = df['living_area'] / df['total_area']\n",
    "df['kitchen_part'] = df['kitchen_area'] / df['total_area']\n",
    "df.head(5)"
   ]
  },
  {
   "cell_type": "markdown",
   "metadata": {},
   "source": [
    "<div id='step4'/>\n",
    "\n",
    "### Шаг 4. Исследовательский анализ данных:"
   ]
  },
  {
   "cell_type": "markdown",
   "metadata": {},
   "source": [
    "### *Площадь, цена, число комнат, высота потолков:*"
   ]
  },
  {
   "cell_type": "code",
   "execution_count": 28,
   "metadata": {},
   "outputs": [
    {
     "data": {
      "image/png": "[encoded data removed]",
      "text/plain": [
       "<Figure size 432x288 with 1 Axes>"
      ]
     },
     "metadata": {
      "needs_background": "light"
     },
     "output_type": "display_data"
    },
    {
     "data": {
      "image/png": "[encoded data removed]",
      "text/plain": [
       "<Figure size 432x288 with 1 Axes>"
      ]
     },
     "metadata": {
      "needs_background": "light"
     },
     "output_type": "display_data"
    },
    {
     "data": {
      "image/png": "[encoded data removed]",
      "text/plain": [
       "<Figure size 432x288 with 1 Axes>"
      ]
     },
     "metadata": {
      "needs_background": "light"
     },
     "output_type": "display_data"
    },
    {
     "data": {
      "image/png": "[encoded data removed]",
      "text/plain": [
       "<Figure size 432x288 with 1 Axes>"
      ]
     },
     "metadata": {
      "needs_background": "light"
     },
     "output_type": "display_data"
    }
   ],
   "source": [
    "# построим гистограммы для каждого параметра:\n",
    "df['last_price_mln'] = df['last_price'] / 1000000\n",
    "hist_data = df[['total_area', 'last_price_mln', 'rooms', 'ceiling_height']]\n",
    "\n",
    "for row in hist_data:\n",
    "    Q1 = hist_data[row].describe()['25%']\n",
    "    Q3 = hist_data[row].describe()['75%'] \n",
    "    hist_data[row].hist(bins=100, range=(Q1-3*(Q3-Q1), Q3+3*(Q3-Q1)))\n",
    "    plt.title(row)\n",
    "    plt.show();"
   ]
  },
  {
   "cell_type": "code",
   "execution_count": 29,
   "metadata": {},
   "outputs": [
    {
     "data": {
      "text/html": [
       "<div>\n",
       "<style scoped>\n",
       "    .dataframe tbody tr th:only-of-type {\n",
       "        vertical-align: middle;\n",
       "    }\n",
       "\n",
       "    .dataframe tbody tr th {\n",
       "        vertical-align: top;\n",
       "    }\n",
       "\n",
       "    .dataframe thead th {\n",
       "        text-align: right;\n",
       "    }\n",
       "</style>\n",
       "<table border=\"1\" class=\"dataframe\">\n",
       "  <thead>\n",
       "    <tr style=\"text-align: right;\">\n",
       "      <th></th>\n",
       "      <th>total_area</th>\n",
       "      <th>last_price_mln</th>\n",
       "      <th>rooms</th>\n",
       "      <th>ceiling_height</th>\n",
       "    </tr>\n",
       "  </thead>\n",
       "  <tbody>\n",
       "    <tr>\n",
       "      <th>count</th>\n",
       "      <td>23564.000000</td>\n",
       "      <td>23564.000000</td>\n",
       "      <td>23564.000000</td>\n",
       "      <td>23564.000000</td>\n",
       "    </tr>\n",
       "    <tr>\n",
       "      <th>mean</th>\n",
       "      <td>60.321098</td>\n",
       "      <td>6.539916</td>\n",
       "      <td>2.070616</td>\n",
       "      <td>2.735741</td>\n",
       "    </tr>\n",
       "    <tr>\n",
       "      <th>std</th>\n",
       "      <td>35.656831</td>\n",
       "      <td>10.911144</td>\n",
       "      <td>1.078596</td>\n",
       "      <td>0.997020</td>\n",
       "    </tr>\n",
       "    <tr>\n",
       "      <th>min</th>\n",
       "      <td>12.000000</td>\n",
       "      <td>0.012190</td>\n",
       "      <td>0.000000</td>\n",
       "      <td>1.000000</td>\n",
       "    </tr>\n",
       "    <tr>\n",
       "      <th>25%</th>\n",
       "      <td>40.000000</td>\n",
       "      <td>3.400000</td>\n",
       "      <td>1.000000</td>\n",
       "      <td>2.550000</td>\n",
       "    </tr>\n",
       "    <tr>\n",
       "      <th>50%</th>\n",
       "      <td>52.000000</td>\n",
       "      <td>4.646000</td>\n",
       "      <td>2.000000</td>\n",
       "      <td>2.650000</td>\n",
       "    </tr>\n",
       "    <tr>\n",
       "      <th>75%</th>\n",
       "      <td>69.700000</td>\n",
       "      <td>6.790000</td>\n",
       "      <td>3.000000</td>\n",
       "      <td>2.750000</td>\n",
       "    </tr>\n",
       "    <tr>\n",
       "      <th>max</th>\n",
       "      <td>900.000000</td>\n",
       "      <td>763.000000</td>\n",
       "      <td>19.000000</td>\n",
       "      <td>100.000000</td>\n",
       "    </tr>\n",
       "  </tbody>\n",
       "</table>\n",
       "</div>"
      ],
      "text/plain": [
       "         total_area  last_price_mln         rooms  ceiling_height\n",
       "count  23564.000000    23564.000000  23564.000000    23564.000000\n",
       "mean      60.321098        6.539916      2.070616        2.735741\n",
       "std       35.656831       10.911144      1.078596        0.997020\n",
       "min       12.000000        0.012190      0.000000        1.000000\n",
       "25%       40.000000        3.400000      1.000000        2.550000\n",
       "50%       52.000000        4.646000      2.000000        2.650000\n",
       "75%       69.700000        6.790000      3.000000        2.750000\n",
       "max      900.000000      763.000000     19.000000      100.000000"
      ]
     },
     "execution_count": 29,
     "metadata": {},
     "output_type": "execute_result"
    }
   ],
   "source": [
    "hist_data.describe()"
   ]
  },
  {
   "cell_type": "markdown",
   "metadata": {},
   "source": [
    "В столбце с общей площадью нашлись неправдоподобно низкие и высокие значения. \n",
    "На графике видно, что основная масса объявлений начинается с 25м2 и есть пики на значениях ок 30, 45, 60 м2. Я связываю это с наличем в базе большого количества квартир с типовой планировкой и одинаковой площадью. \n",
    "Среднее и медианное значения отличаются за счет сверхвысоких значений. Распределение данных похоже на нормальное, с хвостом возрастающих значений."
   ]
  },
  {
   "cell_type": "markdown",
   "metadata": {},
   "source": [
    "В столбце с ценой также есть очень низкие и высокие значения. Надо будет проверить, как коррелируют эти данные с общей площадью,  количеством комнат и ценой за кв.м. Среднее и медианное значения сильно отличаются (среднее близко к Q3), предположительно, за счет хвоста высоких значений. Судя по графику, основная часть объектов продается по цене в диапазоне 3-5 млн. Интересно, что выше значения в 5млн периодически появляются отдельные пики. Я связываю это с тем, что продавцы оценивают свою недвижимость относительно цен в рынке и поэтому объекты в схожих категориях дают такой пик. "
   ]
  },
  {
   "cell_type": "markdown",
   "metadata": {},
   "source": [
    "График по количеству комнат выглядит реалистично. Есть небольшой хвост высоких значений, среднее и медианное близки.  Большинство квартир 1-2-3 комнатные. Смущает только 0 комнат - что это, неправильно указанные значения при вводе данных? Надо проверить. "
   ]
  },
  {
   "cell_type": "markdown",
   "metadata": {},
   "source": [
    "В столбце с высотой потолка есть нереалистичные минимальные и максимальные значения. Это выброс или ошибка ввода. Седнее и медианное значения отличаются не слишком сильно. Однако, то что среднее близко к Q3 подтверждает влияние на данные высоких значений. У подавляющего большинства объектов высота потолка всего 2.55м. "
   ]
  },
  {
   "cell_type": "code",
   "execution_count": 30,
   "metadata": {},
   "outputs": [
    {
     "data": {
      "text/html": [
       "<div>\n",
       "<style scoped>\n",
       "    .dataframe tbody tr th:only-of-type {\n",
       "        vertical-align: middle;\n",
       "    }\n",
       "\n",
       "    .dataframe tbody tr th {\n",
       "        vertical-align: top;\n",
       "    }\n",
       "\n",
       "    .dataframe thead th {\n",
       "        text-align: right;\n",
       "    }\n",
       "</style>\n",
       "<table border=\"1\" class=\"dataframe\">\n",
       "  <thead>\n",
       "    <tr style=\"text-align: right;\">\n",
       "      <th></th>\n",
       "      <th>total_area</th>\n",
       "      <th>last_price_mln</th>\n",
       "      <th>rooms</th>\n",
       "      <th>ceiling_height</th>\n",
       "    </tr>\n",
       "  </thead>\n",
       "  <tbody>\n",
       "    <tr>\n",
       "      <th>total_area</th>\n",
       "      <td>1.000000</td>\n",
       "      <td>0.653626</td>\n",
       "      <td>0.758726</td>\n",
       "      <td>0.087115</td>\n",
       "    </tr>\n",
       "    <tr>\n",
       "      <th>last_price_mln</th>\n",
       "      <td>0.653626</td>\n",
       "      <td>1.000000</td>\n",
       "      <td>0.363186</td>\n",
       "      <td>0.069136</td>\n",
       "    </tr>\n",
       "    <tr>\n",
       "      <th>rooms</th>\n",
       "      <td>0.758726</td>\n",
       "      <td>0.363186</td>\n",
       "      <td>1.000000</td>\n",
       "      <td>0.047557</td>\n",
       "    </tr>\n",
       "    <tr>\n",
       "      <th>ceiling_height</th>\n",
       "      <td>0.087115</td>\n",
       "      <td>0.069136</td>\n",
       "      <td>0.047557</td>\n",
       "      <td>1.000000</td>\n",
       "    </tr>\n",
       "  </tbody>\n",
       "</table>\n",
       "</div>"
      ],
      "text/plain": [
       "                total_area  last_price_mln     rooms  ceiling_height\n",
       "total_area        1.000000        0.653626  0.758726        0.087115\n",
       "last_price_mln    0.653626        1.000000  0.363186        0.069136\n",
       "rooms             0.758726        0.363186  1.000000        0.047557\n",
       "ceiling_height    0.087115        0.069136  0.047557        1.000000"
      ]
     },
     "execution_count": 30,
     "metadata": {},
     "output_type": "execute_result"
    }
   ],
   "source": [
    "hist_data.corr()"
   ]
  },
  {
   "cell_type": "markdown",
   "metadata": {},
   "source": [
    "Матрица корреляции показывает, что цена в `'last_price'` закономерно сильно коррелирует с общей площадью, но значительно меньше зависит от количества комнат. Хотя количество комнат коррелирует с площадью. Высота потолка почти совершенно не влияет на стоимость. Итересно, что чем больше площадь, тем больше высота потолка.   "
   ]
  },
  {
   "cell_type": "markdown",
   "metadata": {},
   "source": [
    "### *Время продажи квартиры:*"
   ]
  },
  {
   "cell_type": "code",
   "execution_count": 31,
   "metadata": {},
   "outputs": [
    {
     "data": {
      "text/html": [
       "<div>\n",
       "<style scoped>\n",
       "    .dataframe tbody tr th:only-of-type {\n",
       "        vertical-align: middle;\n",
       "    }\n",
       "\n",
       "    .dataframe tbody tr th {\n",
       "        vertical-align: top;\n",
       "    }\n",
       "\n",
       "    .dataframe thead th {\n",
       "        text-align: right;\n",
       "    }\n",
       "</style>\n",
       "<table border=\"1\" class=\"dataframe\">\n",
       "  <thead>\n",
       "    <tr style=\"text-align: right;\">\n",
       "      <th></th>\n",
       "      <th>total_images</th>\n",
       "      <th>last_price</th>\n",
       "      <th>total_area</th>\n",
       "      <th>first_day_exposition</th>\n",
       "      <th>rooms</th>\n",
       "      <th>ceiling_height</th>\n",
       "      <th>floors_total</th>\n",
       "      <th>living_area</th>\n",
       "      <th>floor</th>\n",
       "      <th>is_apartment</th>\n",
       "      <th>...</th>\n",
       "      <th>ponds_nearest</th>\n",
       "      <th>days_exposition</th>\n",
       "      <th>sq_m_price</th>\n",
       "      <th>weekday_exp</th>\n",
       "      <th>month_exp</th>\n",
       "      <th>year_exp</th>\n",
       "      <th>floor_name</th>\n",
       "      <th>living_part</th>\n",
       "      <th>kitchen_part</th>\n",
       "      <th>last_price_mln</th>\n",
       "    </tr>\n",
       "  </thead>\n",
       "  <tbody>\n",
       "    <tr>\n",
       "      <th>0</th>\n",
       "      <td>20</td>\n",
       "      <td>13000000</td>\n",
       "      <td>108.0</td>\n",
       "      <td>2019-03-07 03:00:00</td>\n",
       "      <td>3</td>\n",
       "      <td>2.70</td>\n",
       "      <td>16.0</td>\n",
       "      <td>51.000000</td>\n",
       "      <td>8</td>\n",
       "      <td>True</td>\n",
       "      <td>...</td>\n",
       "      <td>755.0</td>\n",
       "      <td>NaN</td>\n",
       "      <td>120370.370370</td>\n",
       "      <td>3</td>\n",
       "      <td>3</td>\n",
       "      <td>2019</td>\n",
       "      <td>другой</td>\n",
       "      <td>0.472222</td>\n",
       "      <td>0.231481</td>\n",
       "      <td>13.000</td>\n",
       "    </tr>\n",
       "    <tr>\n",
       "      <th>1</th>\n",
       "      <td>7</td>\n",
       "      <td>3350000</td>\n",
       "      <td>40.4</td>\n",
       "      <td>2018-12-04 03:00:00</td>\n",
       "      <td>1</td>\n",
       "      <td>2.75</td>\n",
       "      <td>11.0</td>\n",
       "      <td>18.600000</td>\n",
       "      <td>1</td>\n",
       "      <td>True</td>\n",
       "      <td>...</td>\n",
       "      <td>NaN</td>\n",
       "      <td>81.0</td>\n",
       "      <td>82920.792079</td>\n",
       "      <td>1</td>\n",
       "      <td>12</td>\n",
       "      <td>2018</td>\n",
       "      <td>первый</td>\n",
       "      <td>0.460396</td>\n",
       "      <td>0.272277</td>\n",
       "      <td>3.350</td>\n",
       "    </tr>\n",
       "    <tr>\n",
       "      <th>2</th>\n",
       "      <td>10</td>\n",
       "      <td>5196000</td>\n",
       "      <td>56.0</td>\n",
       "      <td>2015-08-20 03:00:00</td>\n",
       "      <td>2</td>\n",
       "      <td>2.55</td>\n",
       "      <td>5.0</td>\n",
       "      <td>34.300000</td>\n",
       "      <td>4</td>\n",
       "      <td>True</td>\n",
       "      <td>...</td>\n",
       "      <td>574.0</td>\n",
       "      <td>558.0</td>\n",
       "      <td>92785.714286</td>\n",
       "      <td>3</td>\n",
       "      <td>8</td>\n",
       "      <td>2015</td>\n",
       "      <td>другой</td>\n",
       "      <td>0.612500</td>\n",
       "      <td>0.148214</td>\n",
       "      <td>5.196</td>\n",
       "    </tr>\n",
       "    <tr>\n",
       "      <th>3</th>\n",
       "      <td>0</td>\n",
       "      <td>64900000</td>\n",
       "      <td>159.0</td>\n",
       "      <td>2015-07-24 03:00:00</td>\n",
       "      <td>3</td>\n",
       "      <td>2.60</td>\n",
       "      <td>14.0</td>\n",
       "      <td>47.373054</td>\n",
       "      <td>9</td>\n",
       "      <td>True</td>\n",
       "      <td>...</td>\n",
       "      <td>234.0</td>\n",
       "      <td>424.0</td>\n",
       "      <td>408176.100629</td>\n",
       "      <td>4</td>\n",
       "      <td>7</td>\n",
       "      <td>2015</td>\n",
       "      <td>другой</td>\n",
       "      <td>0.297944</td>\n",
       "      <td>0.071013</td>\n",
       "      <td>64.900</td>\n",
       "    </tr>\n",
       "    <tr>\n",
       "      <th>4</th>\n",
       "      <td>2</td>\n",
       "      <td>10000000</td>\n",
       "      <td>100.0</td>\n",
       "      <td>2018-06-19 03:00:00</td>\n",
       "      <td>2</td>\n",
       "      <td>3.03</td>\n",
       "      <td>14.0</td>\n",
       "      <td>32.000000</td>\n",
       "      <td>13</td>\n",
       "      <td>True</td>\n",
       "      <td>...</td>\n",
       "      <td>48.0</td>\n",
       "      <td>121.0</td>\n",
       "      <td>100000.000000</td>\n",
       "      <td>1</td>\n",
       "      <td>6</td>\n",
       "      <td>2018</td>\n",
       "      <td>другой</td>\n",
       "      <td>0.320000</td>\n",
       "      <td>0.410000</td>\n",
       "      <td>10.000</td>\n",
       "    </tr>\n",
       "  </tbody>\n",
       "</table>\n",
       "<p>5 rows × 30 columns</p>\n",
       "</div>"
      ],
      "text/plain": [
       "   total_images  last_price  total_area first_day_exposition  rooms  \\\n",
       "0            20    13000000       108.0  2019-03-07 03:00:00      3   \n",
       "1             7     3350000        40.4  2018-12-04 03:00:00      1   \n",
       "2            10     5196000        56.0  2015-08-20 03:00:00      2   \n",
       "3             0    64900000       159.0  2015-07-24 03:00:00      3   \n",
       "4             2    10000000       100.0  2018-06-19 03:00:00      2   \n",
       "\n",
       "   ceiling_height  floors_total  living_area  floor  is_apartment  ...  \\\n",
       "0            2.70          16.0    51.000000      8          True  ...   \n",
       "1            2.75          11.0    18.600000      1          True  ...   \n",
       "2            2.55           5.0    34.300000      4          True  ...   \n",
       "3            2.60          14.0    47.373054      9          True  ...   \n",
       "4            3.03          14.0    32.000000     13          True  ...   \n",
       "\n",
       "   ponds_nearest  days_exposition     sq_m_price  weekday_exp month_exp  \\\n",
       "0          755.0              NaN  120370.370370            3         3   \n",
       "1            NaN             81.0   82920.792079            1        12   \n",
       "2          574.0            558.0   92785.714286            3         8   \n",
       "3          234.0            424.0  408176.100629            4         7   \n",
       "4           48.0            121.0  100000.000000            1         6   \n",
       "\n",
       "   year_exp  floor_name  living_part  kitchen_part  last_price_mln  \n",
       "0      2019      другой     0.472222      0.231481          13.000  \n",
       "1      2018      первый     0.460396      0.272277           3.350  \n",
       "2      2015      другой     0.612500      0.148214           5.196  \n",
       "3      2015      другой     0.297944      0.071013          64.900  \n",
       "4      2018      другой     0.320000      0.410000          10.000  \n",
       "\n",
       "[5 rows x 30 columns]"
      ]
     },
     "execution_count": 31,
     "metadata": {},
     "output_type": "execute_result"
    }
   ],
   "source": [
    "df.head(5)"
   ]
  },
  {
   "cell_type": "code",
   "execution_count": 32,
   "metadata": {},
   "outputs": [
    {
     "data": {
      "text/plain": [
       "count    20393.000000\n",
       "mean       180.747659\n",
       "std        219.736349\n",
       "min          1.000000\n",
       "25%         45.000000\n",
       "50%         95.000000\n",
       "75%        231.000000\n",
       "max       1580.000000\n",
       "Name: days_exposition, dtype: float64"
      ]
     },
     "execution_count": 32,
     "metadata": {},
     "output_type": "execute_result"
    },
    {
     "data": {
      "image/png": "[encoded data removed]",
      "text/plain": [
       "<Figure size 432x288 with 1 Axes>"
      ]
     },
     "metadata": {
      "needs_background": "light"
     },
     "output_type": "display_data"
    }
   ],
   "source": [
    "df['days_exposition'].hist(bins=100);\n",
    "df['days_exposition'].describe()"
   ]
  },
  {
   "cell_type": "markdown",
   "metadata": {},
   "source": [
    "Гистограмма показывает большой разброс значений от 1 до 1580 дней, со всплеском в районе 50. Медиана и среднее время экспозиции объявлений отличаются почти вдвое. 6 мес против 3. Очевидно, что на среднее влияет длинный хвост. "
   ]
  },
  {
   "cell_type": "code",
   "execution_count": 33,
   "metadata": {},
   "outputs": [
    {
     "data": {
      "image/png": "[encoded data removed]",
      "text/plain": [
       "<Figure size 432x288 with 1 Axes>"
      ]
     },
     "metadata": {
      "needs_background": "light"
     },
     "output_type": "display_data"
    }
   ],
   "source": [
    "df['days_exposition'].hist(bins=100, range=(0, 180));"
   ]
  },
  {
   "cell_type": "markdown",
   "metadata": {},
   "source": [
    "Я сузила диапазон отображаемых значений до 180 (6 мес). Здесь еще ярче видны пики в районе 45-60 дней экспозиции объявления. Посмотрим график: "
   ]
  },
  {
   "cell_type": "code",
   "execution_count": 34,
   "metadata": {},
   "outputs": [
    {
     "data": {
      "image/png": "[encoded data removed]",
      "text/plain": [
       "<Figure size 432x288 with 1 Axes>"
      ]
     },
     "metadata": {
      "needs_background": "light"
     },
     "output_type": "display_data"
    },
    {
     "data": {
      "image/png": "[encoded data removed]",
      "text/plain": [
       "<Figure size 432x288 with 1 Axes>"
      ]
     },
     "metadata": {
      "needs_background": "light"
     },
     "output_type": "display_data"
    }
   ],
   "source": [
    "exp_missing = df.query('45 < days_exposition < 60')\n",
    "hist_exp_missing = exp_missing[['month_exp', 'year_exp']]\n",
    "\n",
    "for row in hist_exp_missing:\n",
    "    hist_exp_missing[row].hist()\n",
    "    plt.title(row)\n",
    "    plt.show();"
   ]
  },
  {
   "cell_type": "markdown",
   "metadata": {},
   "source": [
    "Анализ данных выявил интересную закономерность. Большинство объявлений, удалявшихся за 45-60 дней, было закрыто в дек-янв 2017/2018 г. Видимо, именно благодаря им 2017-2018 год бьет рекорды по сделкам с недвижимостью. Но более вероятна гипотеза о системном сбое, приведшем к удалению большого количества данных.  "
   ]
  },
  {
   "cell_type": "markdown",
   "metadata": {},
   "source": [
    "На 180-то дневном графике видно, что первые пики приходятся на 7 дней, потом на месяц. Мне непонятны резкие всплески значений в диапазоне 45-60, возможно, они влияют на общую картину. Пока можно сделать вывод, что в основном объявления не висят больше года. Быстрая продажа происходит в течение первого месяца, меньше одной недели - очень быстро. Среднее по медиане - 3 месяца, среднее с учетом висяков - полгода. "
   ]
  },
  {
   "cell_type": "markdown",
   "metadata": {},
   "source": [
    "### *Выбросы:*"
   ]
  },
  {
   "cell_type": "markdown",
   "metadata": {},
   "source": [
    "Исследуя данные по площади я заметила неправдоподобные низкие и очень высокие значения. Надо проверить, в чем тут дело. "
   ]
  },
  {
   "cell_type": "code",
   "execution_count": 35,
   "metadata": {},
   "outputs": [
    {
     "data": {
      "text/plain": [
       "count    23564.000000\n",
       "mean        60.321098\n",
       "std         35.656831\n",
       "min         12.000000\n",
       "25%         40.000000\n",
       "50%         52.000000\n",
       "75%         69.700000\n",
       "max        900.000000\n",
       "Name: total_area, dtype: float64"
      ]
     },
     "execution_count": 35,
     "metadata": {},
     "output_type": "execute_result"
    }
   ],
   "source": [
    "df['total_area'].describe()"
   ]
  },
  {
   "cell_type": "code",
   "execution_count": 36,
   "metadata": {
    "scrolled": true
   },
   "outputs": [
    {
     "data": {
      "text/plain": [
       "<matplotlib.axes._subplots.AxesSubplot at 0x444f3bf788>"
      ]
     },
     "execution_count": 36,
     "metadata": {},
     "output_type": "execute_result"
    },
    {
     "data": {
      "image/png": "[encoded data removed]",
      "text/plain": [
       "<Figure size 432x288 with 1 Axes>"
      ]
     },
     "metadata": {
      "needs_background": "light"
     },
     "output_type": "display_data"
    }
   ],
   "source": [
    "plt.ylim(0, 900)\n",
    "df.boxplot('total_area')"
   ]
  },
  {
   "cell_type": "code",
   "execution_count": 37,
   "metadata": {},
   "outputs": [
    {
     "data": {
      "text/plain": [
       "<matplotlib.axes._subplots.AxesSubplot at 0x444f3351c8>"
      ]
     },
     "execution_count": 37,
     "metadata": {},
     "output_type": "execute_result"
    },
    {
     "data": {
      "image/png": "[encoded data removed]",
      "text/plain": [
       "<Figure size 432x288 with 1 Axes>"
      ]
     },
     "metadata": {
      "needs_background": "light"
     },
     "output_type": "display_data"
    }
   ],
   "source": [
    "plt.ylim(0, 200)\n",
    "df.boxplot('total_area')"
   ]
  },
  {
   "cell_type": "markdown",
   "metadata": {},
   "source": [
    "Площадь квартиры меньше 25 м2 выглядит нереалистично. Необходимо выяснить, сколько таких объявлений, если значение статистически незначимо - удалить. "
   ]
  },
  {
   "cell_type": "code",
   "execution_count": 38,
   "metadata": {},
   "outputs": [
    {
     "data": {
      "text/html": [
       "<div>\n",
       "<style scoped>\n",
       "    .dataframe tbody tr th:only-of-type {\n",
       "        vertical-align: middle;\n",
       "    }\n",
       "\n",
       "    .dataframe tbody tr th {\n",
       "        vertical-align: top;\n",
       "    }\n",
       "\n",
       "    .dataframe thead th {\n",
       "        text-align: right;\n",
       "    }\n",
       "</style>\n",
       "<table border=\"1\" class=\"dataframe\">\n",
       "  <thead>\n",
       "    <tr style=\"text-align: right;\">\n",
       "      <th></th>\n",
       "      <th>total_images</th>\n",
       "      <th>last_price</th>\n",
       "      <th>total_area</th>\n",
       "      <th>first_day_exposition</th>\n",
       "      <th>rooms</th>\n",
       "      <th>ceiling_height</th>\n",
       "      <th>floors_total</th>\n",
       "      <th>living_area</th>\n",
       "      <th>floor</th>\n",
       "      <th>is_apartment</th>\n",
       "      <th>...</th>\n",
       "      <th>ponds_nearest</th>\n",
       "      <th>days_exposition</th>\n",
       "      <th>sq_m_price</th>\n",
       "      <th>weekday_exp</th>\n",
       "      <th>month_exp</th>\n",
       "      <th>year_exp</th>\n",
       "      <th>floor_name</th>\n",
       "      <th>living_part</th>\n",
       "      <th>kitchen_part</th>\n",
       "      <th>last_price_mln</th>\n",
       "    </tr>\n",
       "  </thead>\n",
       "  <tbody>\n",
       "    <tr>\n",
       "      <th>13471</th>\n",
       "      <td>15</td>\n",
       "      <td>3350000</td>\n",
       "      <td>24.9</td>\n",
       "      <td>2018-03-21 03:00:00</td>\n",
       "      <td>0</td>\n",
       "      <td>2.50</td>\n",
       "      <td>16.0</td>\n",
       "      <td>14.1</td>\n",
       "      <td>6</td>\n",
       "      <td>True</td>\n",
       "      <td>...</td>\n",
       "      <td>711.0</td>\n",
       "      <td>61.0</td>\n",
       "      <td>134538.152610</td>\n",
       "      <td>2</td>\n",
       "      <td>3</td>\n",
       "      <td>2018</td>\n",
       "      <td>другой</td>\n",
       "      <td>0.566265</td>\n",
       "      <td>0.419938</td>\n",
       "      <td>3.35</td>\n",
       "    </tr>\n",
       "    <tr>\n",
       "      <th>18190</th>\n",
       "      <td>3</td>\n",
       "      <td>3320000</td>\n",
       "      <td>24.9</td>\n",
       "      <td>2018-03-06 03:00:00</td>\n",
       "      <td>1</td>\n",
       "      <td>2.80</td>\n",
       "      <td>21.0</td>\n",
       "      <td>17.4</td>\n",
       "      <td>17</td>\n",
       "      <td>True</td>\n",
       "      <td>...</td>\n",
       "      <td>653.0</td>\n",
       "      <td>198.0</td>\n",
       "      <td>133333.333333</td>\n",
       "      <td>1</td>\n",
       "      <td>3</td>\n",
       "      <td>2018</td>\n",
       "      <td>другой</td>\n",
       "      <td>0.698795</td>\n",
       "      <td>0.383296</td>\n",
       "      <td>3.32</td>\n",
       "    </tr>\n",
       "    <tr>\n",
       "      <th>23579</th>\n",
       "      <td>7</td>\n",
       "      <td>2350000</td>\n",
       "      <td>24.8</td>\n",
       "      <td>2018-06-07 03:00:00</td>\n",
       "      <td>1</td>\n",
       "      <td>2.60</td>\n",
       "      <td>10.0</td>\n",
       "      <td>18.0</td>\n",
       "      <td>2</td>\n",
       "      <td>True</td>\n",
       "      <td>...</td>\n",
       "      <td>NaN</td>\n",
       "      <td>89.0</td>\n",
       "      <td>94758.064516</td>\n",
       "      <td>3</td>\n",
       "      <td>6</td>\n",
       "      <td>2018</td>\n",
       "      <td>другой</td>\n",
       "      <td>0.725806</td>\n",
       "      <td>0.384842</td>\n",
       "      <td>2.35</td>\n",
       "    </tr>\n",
       "    <tr>\n",
       "      <th>9579</th>\n",
       "      <td>9</td>\n",
       "      <td>3450000</td>\n",
       "      <td>24.8</td>\n",
       "      <td>2019-02-01 03:00:00</td>\n",
       "      <td>0</td>\n",
       "      <td>2.68</td>\n",
       "      <td>35.0</td>\n",
       "      <td>16.0</td>\n",
       "      <td>17</td>\n",
       "      <td>True</td>\n",
       "      <td>...</td>\n",
       "      <td>80.0</td>\n",
       "      <td>45.0</td>\n",
       "      <td>139112.903226</td>\n",
       "      <td>4</td>\n",
       "      <td>2</td>\n",
       "      <td>2019</td>\n",
       "      <td>другой</td>\n",
       "      <td>0.645161</td>\n",
       "      <td>0.421631</td>\n",
       "      <td>3.45</td>\n",
       "    </tr>\n",
       "    <tr>\n",
       "      <th>20757</th>\n",
       "      <td>3</td>\n",
       "      <td>2210000</td>\n",
       "      <td>24.8</td>\n",
       "      <td>2017-10-26 03:00:00</td>\n",
       "      <td>1</td>\n",
       "      <td>2.65</td>\n",
       "      <td>24.0</td>\n",
       "      <td>16.7</td>\n",
       "      <td>5</td>\n",
       "      <td>True</td>\n",
       "      <td>...</td>\n",
       "      <td>136.0</td>\n",
       "      <td>329.0</td>\n",
       "      <td>89112.903226</td>\n",
       "      <td>3</td>\n",
       "      <td>10</td>\n",
       "      <td>2017</td>\n",
       "      <td>другой</td>\n",
       "      <td>0.673387</td>\n",
       "      <td>0.384842</td>\n",
       "      <td>2.21</td>\n",
       "    </tr>\n",
       "  </tbody>\n",
       "</table>\n",
       "<p>5 rows × 30 columns</p>\n",
       "</div>"
      ],
      "text/plain": [
       "       total_images  last_price  total_area first_day_exposition  rooms  \\\n",
       "13471            15     3350000        24.9  2018-03-21 03:00:00      0   \n",
       "18190             3     3320000        24.9  2018-03-06 03:00:00      1   \n",
       "23579             7     2350000        24.8  2018-06-07 03:00:00      1   \n",
       "9579              9     3450000        24.8  2019-02-01 03:00:00      0   \n",
       "20757             3     2210000        24.8  2017-10-26 03:00:00      1   \n",
       "\n",
       "       ceiling_height  floors_total  living_area  floor  is_apartment  ...  \\\n",
       "13471            2.50          16.0         14.1      6          True  ...   \n",
       "18190            2.80          21.0         17.4     17          True  ...   \n",
       "23579            2.60          10.0         18.0      2          True  ...   \n",
       "9579             2.68          35.0         16.0     17          True  ...   \n",
       "20757            2.65          24.0         16.7      5          True  ...   \n",
       "\n",
       "       ponds_nearest  days_exposition     sq_m_price  weekday_exp month_exp  \\\n",
       "13471          711.0             61.0  134538.152610            2         3   \n",
       "18190          653.0            198.0  133333.333333            1         3   \n",
       "23579            NaN             89.0   94758.064516            3         6   \n",
       "9579            80.0             45.0  139112.903226            4         2   \n",
       "20757          136.0            329.0   89112.903226            3        10   \n",
       "\n",
       "       year_exp  floor_name  living_part  kitchen_part  last_price_mln  \n",
       "13471      2018      другой     0.566265      0.419938            3.35  \n",
       "18190      2018      другой     0.698795      0.383296            3.32  \n",
       "23579      2018      другой     0.725806      0.384842            2.35  \n",
       "9579       2019      другой     0.645161      0.421631            3.45  \n",
       "20757      2017      другой     0.673387      0.384842            2.21  \n",
       "\n",
       "[5 rows x 30 columns]"
      ]
     },
     "execution_count": 38,
     "metadata": {},
     "output_type": "execute_result"
    }
   ],
   "source": [
    "df.query('total_area < 25').sort_values(\n",
    "    by = 'total_area', ascending=False).head(5)"
   ]
  },
  {
   "cell_type": "code",
   "execution_count": 39,
   "metadata": {},
   "outputs": [
    {
     "data": {
      "text/plain": [
       "count    23378.000000\n",
       "mean        60.625821\n",
       "std         35.632904\n",
       "min         25.000000\n",
       "25%         40.200000\n",
       "50%         52.000000\n",
       "75%         70.000000\n",
       "max        900.000000\n",
       "Name: total_area, dtype: float64"
      ]
     },
     "execution_count": 39,
     "metadata": {},
     "output_type": "execute_result"
    }
   ],
   "source": [
    "df = df.query('total_area >= 25')\n",
    "df['total_area'].describe()"
   ]
  },
  {
   "cell_type": "markdown",
   "metadata": {},
   "source": [
    "Верхняя граница ящика с усами - ок 120 м, надо проверить, много сколько данных выше этой граници и насколько они реалистичны. "
   ]
  },
  {
   "cell_type": "code",
   "execution_count": 40,
   "metadata": {},
   "outputs": [
    {
     "data": {
      "text/plain": [
       "count    22287.000000\n",
       "mean        55.001627\n",
       "std         19.771095\n",
       "min         25.000000\n",
       "25%         40.000000\n",
       "50%         50.700000\n",
       "75%         66.000000\n",
       "max        119.800000\n",
       "Name: total_area, dtype: float64"
      ]
     },
     "execution_count": 40,
     "metadata": {},
     "output_type": "execute_result"
    }
   ],
   "source": [
    "df.query('total_area < 120')['total_area'].describe()"
   ]
  },
  {
   "cell_type": "code",
   "execution_count": 41,
   "metadata": {},
   "outputs": [
    {
     "data": {
      "text/plain": [
       "count    1055.000000\n",
       "mean      177.411536\n",
       "std        73.857062\n",
       "min       120.100000\n",
       "25%       133.550000\n",
       "50%       153.000000\n",
       "75%       189.500000\n",
       "max       900.000000\n",
       "Name: total_area, dtype: float64"
      ]
     },
     "execution_count": 41,
     "metadata": {},
     "output_type": "execute_result"
    }
   ],
   "source": [
    "df.query('total_area > 120')['total_area'].describe()"
   ]
  },
  {
   "cell_type": "markdown",
   "metadata": {},
   "source": [
    "Объектов с площадью больше 120м2 ок 5%. Значения на максимуме могут влиять на расчет среднего, но почти не влияют на медиану (она колеблется от 52 до 50.7 в разных выборках). Соответственно, крупные объекты можно не удалять.  "
   ]
  },
  {
   "cell_type": "markdown",
   "metadata": {},
   "source": [
    "Исследуя данные по цене, я также заметила расброс занчений от сверхнизкого минимального в 12 тыс. до 763 млн. Посмотрим, н\n",
    "насколько это оправдано. "
   ]
  },
  {
   "cell_type": "code",
   "execution_count": 42,
   "metadata": {},
   "outputs": [
    {
     "data": {
      "text/plain": [
       "count    23378.000000\n",
       "mean         6.572898\n",
       "std         10.947999\n",
       "min          0.012190\n",
       "25%          3.450000\n",
       "50%          4.650000\n",
       "75%          6.800000\n",
       "max        763.000000\n",
       "Name: last_price_mln, dtype: float64"
      ]
     },
     "execution_count": 42,
     "metadata": {},
     "output_type": "execute_result"
    },
    {
     "data": {
      "image/png": "[encoded data removed]",
      "text/plain": [
       "<Figure size 432x288 with 1 Axes>"
      ]
     },
     "metadata": {
      "needs_background": "light"
     },
     "output_type": "display_data"
    }
   ],
   "source": [
    "plt.ylim(0, 800)\n",
    "df.boxplot('last_price_mln')\n",
    "df['last_price_mln'].describe()"
   ]
  },
  {
   "cell_type": "code",
   "execution_count": 43,
   "metadata": {},
   "outputs": [
    {
     "data": {
      "text/plain": [
       "<matplotlib.axes._subplots.AxesSubplot at 0x444ed4f348>"
      ]
     },
     "execution_count": 43,
     "metadata": {},
     "output_type": "execute_result"
    },
    {
     "data": {
      "image/png": "[encoded data removed]",
      "text/plain": [
       "<Figure size 432x288 with 1 Axes>"
      ]
     },
     "metadata": {
      "needs_background": "light"
     },
     "output_type": "display_data"
    }
   ],
   "source": [
    "plt.ylim(0, 13)\n",
    "df.boxplot('last_price_mln')"
   ]
  },
  {
   "cell_type": "markdown",
   "metadata": {},
   "source": [
    "На диаграмме размаха видно, что медиана находится в районе 5млн, но за границей верхнего уса существует много значений, достигающих максимума в 763 млн. В то же время, нижняя граница значений сильно ниже 1млн. Это странно. Проверим, много ли таких в наших данных. "
   ]
  },
  {
   "cell_type": "code",
   "execution_count": 44,
   "metadata": {},
   "outputs": [
    {
     "data": {
      "text/plain": [
       "0.009453332192659765"
      ]
     },
     "execution_count": 44,
     "metadata": {},
     "output_type": "execute_result"
    }
   ],
   "source": [
    "len(df.query('last_price_mln < 1')) / len(df)"
   ]
  },
  {
   "cell_type": "code",
   "execution_count": 45,
   "metadata": {},
   "outputs": [
    {
     "data": {
      "text/plain": [
       "count    23157.000000\n",
       "mean         6.628315\n",
       "std         10.985330\n",
       "min          1.000000\n",
       "25%          3.500000\n",
       "50%          4.700000\n",
       "75%          6.800000\n",
       "max        763.000000\n",
       "Name: last_price_mln, dtype: float64"
      ]
     },
     "execution_count": 45,
     "metadata": {},
     "output_type": "execute_result"
    }
   ],
   "source": [
    "df = df.query('last_price_mln >= 1')\n",
    "df['last_price_mln'].describe()"
   ]
  },
  {
   "cell_type": "markdown",
   "metadata": {},
   "source": [
    "Таких значений оказалось меньше 1%. Значит такая цена нехарактерна для недвижимости в регионе и является выбросом. Данные можно удалить. Медиана отличается от среднего, вероятно, из-за сверхвысоких значений цены. Q3 = 6.8млн, а мах - 763млн. Что это за суперэлитные объекты?"
   ]
  },
  {
   "cell_type": "code",
   "execution_count": 46,
   "metadata": {},
   "outputs": [
    {
     "data": {
      "text/plain": [
       "count    1926.000000\n",
       "mean       25.228609\n",
       "std        31.917032\n",
       "min        12.036000\n",
       "25%        13.900000\n",
       "50%        17.000000\n",
       "75%        25.000000\n",
       "max       763.000000\n",
       "Name: last_price_mln, dtype: float64"
      ]
     },
     "execution_count": 46,
     "metadata": {},
     "output_type": "execute_result"
    }
   ],
   "source": [
    "df.query('last_price_mln > 12')['last_price_mln'].describe()"
   ]
  },
  {
   "cell_type": "code",
   "execution_count": 47,
   "metadata": {},
   "outputs": [
    {
     "data": {
      "text/plain": [
       "count    463.000000\n",
       "mean      53.509006\n",
       "std       56.124906\n",
       "min       25.023000\n",
       "25%       29.000000\n",
       "50%       36.750000\n",
       "75%       55.400000\n",
       "max      763.000000\n",
       "Name: last_price_mln, dtype: float64"
      ]
     },
     "execution_count": 47,
     "metadata": {},
     "output_type": "execute_result"
    }
   ],
   "source": [
    "df.query('last_price_mln > 25')['last_price_mln'].describe()"
   ]
  },
  {
   "cell_type": "code",
   "execution_count": 48,
   "metadata": {},
   "outputs": [
    {
     "data": {
      "text/plain": [
       "count    21174.000000\n",
       "mean         4.921961\n",
       "std          2.213938\n",
       "min          1.000000\n",
       "25%          3.400000\n",
       "50%          4.490000\n",
       "75%          6.000000\n",
       "max         11.999000\n",
       "Name: last_price_mln, dtype: float64"
      ]
     },
     "execution_count": 48,
     "metadata": {},
     "output_type": "execute_result"
    }
   ],
   "source": [
    "df.query('last_price_mln < 12')['last_price_mln'].describe()"
   ]
  },
  {
   "cell_type": "markdown",
   "metadata": {},
   "source": [
    "Оказалось, что объектов, стоимостью более 25 млн всего ок 2%. Значения на максимуме могут влиять на расчет среднего, но почти не влияют на медиану (она колеблется от 4.49 до 4.7 в разных выборках). Удалять эти данные не стоит - это могут быть крупные клиенты. "
   ]
  },
  {
   "cell_type": "markdown",
   "metadata": {},
   "source": [
    "Теперь разберемся с количеством комнат."
   ]
  },
  {
   "cell_type": "code",
   "execution_count": 49,
   "metadata": {},
   "outputs": [
    {
     "data": {
      "text/plain": [
       "count    23157.000000\n",
       "mean         2.085244\n",
       "std          1.077249\n",
       "min          0.000000\n",
       "25%          1.000000\n",
       "50%          2.000000\n",
       "75%          3.000000\n",
       "max         19.000000\n",
       "Name: rooms, dtype: float64"
      ]
     },
     "execution_count": 49,
     "metadata": {},
     "output_type": "execute_result"
    }
   ],
   "source": [
    "df['rooms'].describe()"
   ]
  },
  {
   "cell_type": "code",
   "execution_count": 50,
   "metadata": {},
   "outputs": [
    {
     "data": {
      "text/plain": [
       "135"
      ]
     },
     "execution_count": 50,
     "metadata": {},
     "output_type": "execute_result"
    }
   ],
   "source": [
    "len(df.query('rooms == 0'))"
   ]
  },
  {
   "cell_type": "code",
   "execution_count": 51,
   "metadata": {},
   "outputs": [
    {
     "data": {
      "text/plain": [
       "90"
      ]
     },
     "execution_count": 51,
     "metadata": {},
     "output_type": "execute_result"
    }
   ],
   "source": [
    "len(df.query('rooms == 0 and studio == True'))"
   ]
  },
  {
   "cell_type": "code",
   "execution_count": 52,
   "metadata": {},
   "outputs": [
    {
     "data": {
      "text/plain": [
       "45"
      ]
     },
     "execution_count": 52,
     "metadata": {},
     "output_type": "execute_result"
    }
   ],
   "source": [
    "len(df.query('rooms == 0 and open_plan == True'))"
   ]
  },
  {
   "cell_type": "markdown",
   "metadata": {},
   "source": [
    "Часть из них студии, а часть - с окрытой планировкой. Оставим. "
   ]
  },
  {
   "cell_type": "code",
   "execution_count": 53,
   "metadata": {},
   "outputs": [
    {
     "data": {
      "text/plain": [
       "0.0729800924126614"
      ]
     },
     "execution_count": 53,
     "metadata": {},
     "output_type": "execute_result"
    }
   ],
   "source": [
    "len(df.query('rooms > 3')) / len(df)"
   ]
  },
  {
   "cell_type": "markdown",
   "metadata": {},
   "source": [
    "В датасете есть объекты с большой площадью, так что 7% объектов с 4 и более комнатами - нормально. Осталось разобраться с потолками."
   ]
  },
  {
   "cell_type": "code",
   "execution_count": 54,
   "metadata": {},
   "outputs": [
    {
     "data": {
      "text/plain": [
       "count    23157.000000\n",
       "mean         2.736782\n",
       "std          1.005366\n",
       "min          1.000000\n",
       "25%          2.550000\n",
       "50%          2.650000\n",
       "75%          2.750000\n",
       "max        100.000000\n",
       "Name: ceiling_height, dtype: float64"
      ]
     },
     "execution_count": 54,
     "metadata": {},
     "output_type": "execute_result"
    }
   ],
   "source": [
    "df['ceiling_height'].describe()"
   ]
  },
  {
   "cell_type": "code",
   "execution_count": 55,
   "metadata": {
    "scrolled": true
   },
   "outputs": [
    {
     "data": {
      "text/html": [
       "<div>\n",
       "<style scoped>\n",
       "    .dataframe tbody tr th:only-of-type {\n",
       "        vertical-align: middle;\n",
       "    }\n",
       "\n",
       "    .dataframe tbody tr th {\n",
       "        vertical-align: top;\n",
       "    }\n",
       "\n",
       "    .dataframe thead th {\n",
       "        text-align: right;\n",
       "    }\n",
       "</style>\n",
       "<table border=\"1\" class=\"dataframe\">\n",
       "  <thead>\n",
       "    <tr style=\"text-align: right;\">\n",
       "      <th></th>\n",
       "      <th>total_images</th>\n",
       "      <th>last_price</th>\n",
       "      <th>total_area</th>\n",
       "      <th>first_day_exposition</th>\n",
       "      <th>rooms</th>\n",
       "      <th>ceiling_height</th>\n",
       "      <th>floors_total</th>\n",
       "      <th>living_area</th>\n",
       "      <th>floor</th>\n",
       "      <th>is_apartment</th>\n",
       "      <th>...</th>\n",
       "      <th>ponds_nearest</th>\n",
       "      <th>days_exposition</th>\n",
       "      <th>sq_m_price</th>\n",
       "      <th>weekday_exp</th>\n",
       "      <th>month_exp</th>\n",
       "      <th>year_exp</th>\n",
       "      <th>floor_name</th>\n",
       "      <th>living_part</th>\n",
       "      <th>kitchen_part</th>\n",
       "      <th>last_price_mln</th>\n",
       "    </tr>\n",
       "  </thead>\n",
       "  <tbody>\n",
       "    <tr>\n",
       "      <th>21521</th>\n",
       "      <td>13</td>\n",
       "      <td>6800000</td>\n",
       "      <td>49.00</td>\n",
       "      <td>2018-03-21 03:00:00</td>\n",
       "      <td>2</td>\n",
       "      <td>2.49</td>\n",
       "      <td>8.0</td>\n",
       "      <td>32.8</td>\n",
       "      <td>2</td>\n",
       "      <td>True</td>\n",
       "      <td>...</td>\n",
       "      <td>136.0</td>\n",
       "      <td>21.0</td>\n",
       "      <td>138775.510204</td>\n",
       "      <td>2</td>\n",
       "      <td>3</td>\n",
       "      <td>2018</td>\n",
       "      <td>другой</td>\n",
       "      <td>0.669388</td>\n",
       "      <td>0.132653</td>\n",
       "      <td>6.800</td>\n",
       "    </tr>\n",
       "    <tr>\n",
       "      <th>3703</th>\n",
       "      <td>14</td>\n",
       "      <td>4000000</td>\n",
       "      <td>36.44</td>\n",
       "      <td>2018-04-15 03:00:00</td>\n",
       "      <td>1</td>\n",
       "      <td>2.48</td>\n",
       "      <td>9.0</td>\n",
       "      <td>19.8</td>\n",
       "      <td>2</td>\n",
       "      <td>True</td>\n",
       "      <td>...</td>\n",
       "      <td>NaN</td>\n",
       "      <td>194.0</td>\n",
       "      <td>109769.484083</td>\n",
       "      <td>6</td>\n",
       "      <td>4</td>\n",
       "      <td>2018</td>\n",
       "      <td>другой</td>\n",
       "      <td>0.543359</td>\n",
       "      <td>0.153677</td>\n",
       "      <td>4.000</td>\n",
       "    </tr>\n",
       "    <tr>\n",
       "      <th>17408</th>\n",
       "      <td>7</td>\n",
       "      <td>2730000</td>\n",
       "      <td>31.00</td>\n",
       "      <td>2018-02-12 03:00:00</td>\n",
       "      <td>1</td>\n",
       "      <td>2.48</td>\n",
       "      <td>5.0</td>\n",
       "      <td>17.0</td>\n",
       "      <td>1</td>\n",
       "      <td>True</td>\n",
       "      <td>...</td>\n",
       "      <td>878.0</td>\n",
       "      <td>169.0</td>\n",
       "      <td>88064.516129</td>\n",
       "      <td>0</td>\n",
       "      <td>2</td>\n",
       "      <td>2018</td>\n",
       "      <td>первый</td>\n",
       "      <td>0.548387</td>\n",
       "      <td>0.193548</td>\n",
       "      <td>2.730</td>\n",
       "    </tr>\n",
       "    <tr>\n",
       "      <th>10100</th>\n",
       "      <td>5</td>\n",
       "      <td>3450000</td>\n",
       "      <td>42.90</td>\n",
       "      <td>2017-10-27 03:00:00</td>\n",
       "      <td>2</td>\n",
       "      <td>2.48</td>\n",
       "      <td>5.0</td>\n",
       "      <td>26.8</td>\n",
       "      <td>5</td>\n",
       "      <td>True</td>\n",
       "      <td>...</td>\n",
       "      <td>878.0</td>\n",
       "      <td>154.0</td>\n",
       "      <td>80419.580420</td>\n",
       "      <td>4</td>\n",
       "      <td>10</td>\n",
       "      <td>2017</td>\n",
       "      <td>последний</td>\n",
       "      <td>0.624709</td>\n",
       "      <td>0.135198</td>\n",
       "      <td>3.450</td>\n",
       "    </tr>\n",
       "    <tr>\n",
       "      <th>9192</th>\n",
       "      <td>17</td>\n",
       "      <td>3690000</td>\n",
       "      <td>30.70</td>\n",
       "      <td>2019-02-07 03:00:00</td>\n",
       "      <td>1</td>\n",
       "      <td>2.48</td>\n",
       "      <td>5.0</td>\n",
       "      <td>17.2</td>\n",
       "      <td>5</td>\n",
       "      <td>True</td>\n",
       "      <td>...</td>\n",
       "      <td>523.0</td>\n",
       "      <td>NaN</td>\n",
       "      <td>120195.439739</td>\n",
       "      <td>3</td>\n",
       "      <td>2</td>\n",
       "      <td>2019</td>\n",
       "      <td>последний</td>\n",
       "      <td>0.560261</td>\n",
       "      <td>0.169381</td>\n",
       "      <td>3.690</td>\n",
       "    </tr>\n",
       "    <tr>\n",
       "      <th>...</th>\n",
       "      <td>...</td>\n",
       "      <td>...</td>\n",
       "      <td>...</td>\n",
       "      <td>...</td>\n",
       "      <td>...</td>\n",
       "      <td>...</td>\n",
       "      <td>...</td>\n",
       "      <td>...</td>\n",
       "      <td>...</td>\n",
       "      <td>...</td>\n",
       "      <td>...</td>\n",
       "      <td>...</td>\n",
       "      <td>...</td>\n",
       "      <td>...</td>\n",
       "      <td>...</td>\n",
       "      <td>...</td>\n",
       "      <td>...</td>\n",
       "      <td>...</td>\n",
       "      <td>...</td>\n",
       "      <td>...</td>\n",
       "      <td>...</td>\n",
       "    </tr>\n",
       "    <tr>\n",
       "      <th>11352</th>\n",
       "      <td>4</td>\n",
       "      <td>3300000</td>\n",
       "      <td>36.00</td>\n",
       "      <td>2017-06-18 03:00:00</td>\n",
       "      <td>1</td>\n",
       "      <td>2.00</td>\n",
       "      <td>17.0</td>\n",
       "      <td>15.2</td>\n",
       "      <td>12</td>\n",
       "      <td>True</td>\n",
       "      <td>...</td>\n",
       "      <td>NaN</td>\n",
       "      <td>53.0</td>\n",
       "      <td>91666.666667</td>\n",
       "      <td>6</td>\n",
       "      <td>6</td>\n",
       "      <td>2017</td>\n",
       "      <td>другой</td>\n",
       "      <td>0.422222</td>\n",
       "      <td>0.280556</td>\n",
       "      <td>3.300</td>\n",
       "    </tr>\n",
       "    <tr>\n",
       "      <th>552</th>\n",
       "      <td>11</td>\n",
       "      <td>2999000</td>\n",
       "      <td>33.50</td>\n",
       "      <td>2017-03-30 03:00:00</td>\n",
       "      <td>1</td>\n",
       "      <td>2.00</td>\n",
       "      <td>15.0</td>\n",
       "      <td>17.5</td>\n",
       "      <td>6</td>\n",
       "      <td>True</td>\n",
       "      <td>...</td>\n",
       "      <td>949.0</td>\n",
       "      <td>270.0</td>\n",
       "      <td>89522.388060</td>\n",
       "      <td>3</td>\n",
       "      <td>3</td>\n",
       "      <td>2017</td>\n",
       "      <td>другой</td>\n",
       "      <td>0.522388</td>\n",
       "      <td>0.194030</td>\n",
       "      <td>2.999</td>\n",
       "    </tr>\n",
       "    <tr>\n",
       "      <th>16934</th>\n",
       "      <td>5</td>\n",
       "      <td>4100000</td>\n",
       "      <td>40.00</td>\n",
       "      <td>2017-10-17 03:00:00</td>\n",
       "      <td>1</td>\n",
       "      <td>1.75</td>\n",
       "      <td>37.0</td>\n",
       "      <td>17.4</td>\n",
       "      <td>5</td>\n",
       "      <td>True</td>\n",
       "      <td>...</td>\n",
       "      <td>80.0</td>\n",
       "      <td>71.0</td>\n",
       "      <td>102500.000000</td>\n",
       "      <td>1</td>\n",
       "      <td>10</td>\n",
       "      <td>2017</td>\n",
       "      <td>другой</td>\n",
       "      <td>0.435000</td>\n",
       "      <td>0.208500</td>\n",
       "      <td>4.100</td>\n",
       "    </tr>\n",
       "    <tr>\n",
       "      <th>5712</th>\n",
       "      <td>5</td>\n",
       "      <td>1500000</td>\n",
       "      <td>42.80</td>\n",
       "      <td>2017-08-14 03:00:00</td>\n",
       "      <td>2</td>\n",
       "      <td>1.20</td>\n",
       "      <td>2.0</td>\n",
       "      <td>27.5</td>\n",
       "      <td>1</td>\n",
       "      <td>True</td>\n",
       "      <td>...</td>\n",
       "      <td>NaN</td>\n",
       "      <td>248.0</td>\n",
       "      <td>35046.728972</td>\n",
       "      <td>0</td>\n",
       "      <td>8</td>\n",
       "      <td>2017</td>\n",
       "      <td>первый</td>\n",
       "      <td>0.642523</td>\n",
       "      <td>0.121495</td>\n",
       "      <td>1.500</td>\n",
       "    </tr>\n",
       "    <tr>\n",
       "      <th>22590</th>\n",
       "      <td>16</td>\n",
       "      <td>6000000</td>\n",
       "      <td>55.00</td>\n",
       "      <td>2018-10-31 03:00:00</td>\n",
       "      <td>2</td>\n",
       "      <td>1.00</td>\n",
       "      <td>12.0</td>\n",
       "      <td>32.4</td>\n",
       "      <td>7</td>\n",
       "      <td>True</td>\n",
       "      <td>...</td>\n",
       "      <td>289.0</td>\n",
       "      <td>13.0</td>\n",
       "      <td>109090.909091</td>\n",
       "      <td>2</td>\n",
       "      <td>10</td>\n",
       "      <td>2018</td>\n",
       "      <td>другой</td>\n",
       "      <td>0.589091</td>\n",
       "      <td>0.181818</td>\n",
       "      <td>6.000</td>\n",
       "    </tr>\n",
       "  </tbody>\n",
       "</table>\n",
       "<p>72 rows × 30 columns</p>\n",
       "</div>"
      ],
      "text/plain": [
       "       total_images  last_price  total_area first_day_exposition  rooms  \\\n",
       "21521            13     6800000       49.00  2018-03-21 03:00:00      2   \n",
       "3703             14     4000000       36.44  2018-04-15 03:00:00      1   \n",
       "17408             7     2730000       31.00  2018-02-12 03:00:00      1   \n",
       "10100             5     3450000       42.90  2017-10-27 03:00:00      2   \n",
       "9192             17     3690000       30.70  2019-02-07 03:00:00      1   \n",
       "...             ...         ...         ...                  ...    ...   \n",
       "11352             4     3300000       36.00  2017-06-18 03:00:00      1   \n",
       "552              11     2999000       33.50  2017-03-30 03:00:00      1   \n",
       "16934             5     4100000       40.00  2017-10-17 03:00:00      1   \n",
       "5712              5     1500000       42.80  2017-08-14 03:00:00      2   \n",
       "22590            16     6000000       55.00  2018-10-31 03:00:00      2   \n",
       "\n",
       "       ceiling_height  floors_total  living_area  floor  is_apartment  ...  \\\n",
       "21521            2.49           8.0         32.8      2          True  ...   \n",
       "3703             2.48           9.0         19.8      2          True  ...   \n",
       "17408            2.48           5.0         17.0      1          True  ...   \n",
       "10100            2.48           5.0         26.8      5          True  ...   \n",
       "9192             2.48           5.0         17.2      5          True  ...   \n",
       "...               ...           ...          ...    ...           ...  ...   \n",
       "11352            2.00          17.0         15.2     12          True  ...   \n",
       "552              2.00          15.0         17.5      6          True  ...   \n",
       "16934            1.75          37.0         17.4      5          True  ...   \n",
       "5712             1.20           2.0         27.5      1          True  ...   \n",
       "22590            1.00          12.0         32.4      7          True  ...   \n",
       "\n",
       "       ponds_nearest  days_exposition     sq_m_price  weekday_exp month_exp  \\\n",
       "21521          136.0             21.0  138775.510204            2         3   \n",
       "3703             NaN            194.0  109769.484083            6         4   \n",
       "17408          878.0            169.0   88064.516129            0         2   \n",
       "10100          878.0            154.0   80419.580420            4        10   \n",
       "9192           523.0              NaN  120195.439739            3         2   \n",
       "...              ...              ...            ...          ...       ...   \n",
       "11352            NaN             53.0   91666.666667            6         6   \n",
       "552            949.0            270.0   89522.388060            3         3   \n",
       "16934           80.0             71.0  102500.000000            1        10   \n",
       "5712             NaN            248.0   35046.728972            0         8   \n",
       "22590          289.0             13.0  109090.909091            2        10   \n",
       "\n",
       "       year_exp  floor_name  living_part  kitchen_part  last_price_mln  \n",
       "21521      2018      другой     0.669388      0.132653           6.800  \n",
       "3703       2018      другой     0.543359      0.153677           4.000  \n",
       "17408      2018      первый     0.548387      0.193548           2.730  \n",
       "10100      2017   последний     0.624709      0.135198           3.450  \n",
       "9192       2019   последний     0.560261      0.169381           3.690  \n",
       "...         ...         ...          ...           ...             ...  \n",
       "11352      2017      другой     0.422222      0.280556           3.300  \n",
       "552        2017      другой     0.522388      0.194030           2.999  \n",
       "16934      2017      другой     0.435000      0.208500           4.100  \n",
       "5712       2017      первый     0.642523      0.121495           1.500  \n",
       "22590      2018      другой     0.589091      0.181818           6.000  \n",
       "\n",
       "[72 rows x 30 columns]"
      ]
     },
     "execution_count": 55,
     "metadata": {},
     "output_type": "execute_result"
    }
   ],
   "source": [
    "df.query('ceiling_height < 2.5').sort_values(by = 'ceiling_height', ascending=False)"
   ]
  },
  {
   "cell_type": "code",
   "execution_count": 56,
   "metadata": {},
   "outputs": [
    {
     "data": {
      "text/plain": [
       "0.003109211037699184"
      ]
     },
     "execution_count": 56,
     "metadata": {},
     "output_type": "execute_result"
    }
   ],
   "source": [
    "len(df.query('ceiling_height < 2.5')) / len(df)"
   ]
  },
  {
   "cell_type": "code",
   "execution_count": 57,
   "metadata": {},
   "outputs": [
    {
     "data": {
      "text/plain": [
       "0.0012955045990413266"
      ]
     },
     "execution_count": 57,
     "metadata": {},
     "output_type": "execute_result"
    }
   ],
   "source": [
    "len(df.query('ceiling_height > 6')) / len(df)"
   ]
  },
  {
   "cell_type": "code",
   "execution_count": 58,
   "metadata": {},
   "outputs": [
    {
     "data": {
      "text/plain": [
       "count    23054.000000\n",
       "mean         2.709151\n",
       "std          0.234040\n",
       "min          2.500000\n",
       "25%          2.550000\n",
       "50%          2.650000\n",
       "75%          2.750000\n",
       "max          5.800000\n",
       "Name: ceiling_height, dtype: float64"
      ]
     },
     "execution_count": 58,
     "metadata": {},
     "output_type": "execute_result"
    }
   ],
   "source": [
    "df = df.query('2.5 <= ceiling_height < 6')\n",
    "df['ceiling_height'].describe()"
   ]
  },
  {
   "cell_type": "markdown",
   "metadata": {},
   "source": [
    "0,3% потолков ниже 2.5м и 0.1% потолков выше 6 м можно безболезненно удалить - это выбросы или ошибочно введенные данные. "
   ]
  },
  {
   "cell_type": "markdown",
   "metadata": {},
   "source": [
    "### *Какие факторы больше всего влияют на стоимость квартиры?*"
   ]
  },
  {
   "cell_type": "code",
   "execution_count": 59,
   "metadata": {},
   "outputs": [],
   "source": [
    "price_depends = df[['sq_m_price', 'rooms', 'cityCenters_nearest']]"
   ]
  },
  {
   "cell_type": "code",
   "execution_count": 60,
   "metadata": {},
   "outputs": [
    {
     "data": {
      "image/png": "[encoded data removed]",
      "text/plain": [
       "<Figure size 720x360 with 2 Axes>"
      ]
     },
     "metadata": {
      "needs_background": "light"
     },
     "output_type": "display_data"
    }
   ],
   "source": [
    "plt.rcParams['figure.figsize'] = (10.0, 5.0)\n",
    "sns.heatmap(price_depends.corr(), annot=True, fmt='.2g', cmap= 'coolwarm');"
   ]
  },
  {
   "cell_type": "markdown",
   "metadata": {},
   "source": [
    "Расчет коэффициента Пирсона показал, что стоимость объекта прямо коррелирует величиной (стоимостью) кв.метра. Это было ожидаемо.\n",
    "Число комнат также прямо коррелирует с ценой, но не так сильно, как можно было предполагать. Метраж влияет на стоимость почти в 2 раза сильнее. \n",
    "Заметна существенная обратная корреляция стоимости недвижимости в зависимости от удаленности от центра. Чем меньше расстояние, тем больше цена. "
   ]
  },
  {
   "cell_type": "code",
   "execution_count": 61,
   "metadata": {},
   "outputs": [
    {
     "data": {
      "image/png": "[encoded data removed]",
      "text/plain": [
       "<Figure size 720x360 with 1 Axes>"
      ]
     },
     "metadata": {
      "needs_background": "light"
     },
     "output_type": "display_data"
    }
   ],
   "source": [
    "room_data = df.pivot_table(index='rooms', values='sq_m_price', aggfunc='median').plot();"
   ]
  },
  {
   "cell_type": "markdown",
   "metadata": {},
   "source": [
    "У квартир с количеством комнат в диапазоне от 10 до 14 необъяснимо резко взлетает цена за кв.м. "
   ]
  },
  {
   "cell_type": "code",
   "execution_count": 62,
   "metadata": {},
   "outputs": [
    {
     "data": {
      "image/png": "[encoded data removed]",
      "text/plain": [
       "<Figure size 720x360 with 1 Axes>"
      ]
     },
     "metadata": {
      "needs_background": "light"
     },
     "output_type": "display_data"
    }
   ],
   "source": [
    "df.query('10 <= rooms < 15')['cityCenters_nearest'].plot();"
   ]
  },
  {
   "cell_type": "code",
   "execution_count": 63,
   "metadata": {},
   "outputs": [
    {
     "data": {
      "text/plain": [
       "count        8.00000\n",
       "mean      5508.25000\n",
       "std       3670.49151\n",
       "min       1015.00000\n",
       "25%       2874.50000\n",
       "50%       4926.50000\n",
       "75%       7895.25000\n",
       "max      12169.00000\n",
       "Name: cityCenters_nearest, dtype: float64"
      ]
     },
     "execution_count": 63,
     "metadata": {},
     "output_type": "execute_result"
    }
   ],
   "source": [
    "df.query('10 <= rooms < 15')['cityCenters_nearest'].describe()"
   ]
  },
  {
   "cell_type": "markdown",
   "metadata": {},
   "source": [
    "Вероятнее всего, это связано с расположением в престижных локациях в центре и за городом. Таких объектов всего 8, мб это суперэлитка. "
   ]
  },
  {
   "cell_type": "code",
   "execution_count": 64,
   "metadata": {},
   "outputs": [
    {
     "data": {
      "image/png": "[encoded data removed]",
      "text/plain": [
       "<Figure size 720x360 with 1 Axes>"
      ]
     },
     "metadata": {
      "needs_background": "light"
     },
     "output_type": "display_data"
    }
   ],
   "source": [
    "from_center_data = df.pivot_table(index='cityCenters_nearest', values='sq_m_price', aggfunc='median').plot()"
   ]
  },
  {
   "cell_type": "markdown",
   "metadata": {},
   "source": [
    "По графику видно, что самые дорогие объекты расположены на расстоянии 8000 от городского центра. "
   ]
  },
  {
   "cell_type": "markdown",
   "metadata": {},
   "source": [
    "#### Зависимость цены от этажа(первый, последний, другой): "
   ]
  },
  {
   "cell_type": "code",
   "execution_count": 65,
   "metadata": {},
   "outputs": [
    {
     "data": {
      "image/png": "[encoded data removed]",
      "text/plain": [
       "<Figure size 720x360 with 1 Axes>"
      ]
     },
     "metadata": {
      "needs_background": "light"
     },
     "output_type": "display_data"
    }
   ],
   "source": [
    "floor_data = df.pivot_table(index='floor_name', values='sq_m_price').plot()"
   ]
  },
  {
   "cell_type": "markdown",
   "metadata": {},
   "source": [
    "Дешевле всего квартиры на первом этаже, потом на последнем. Самые дорогая недвижимость - на средних этажах домов. "
   ]
  },
  {
   "cell_type": "markdown",
   "metadata": {},
   "source": [
    "#### Зависимость от даты размещения (дня недели, месяца и года):"
   ]
  },
  {
   "cell_type": "code",
   "execution_count": 66,
   "metadata": {},
   "outputs": [
    {
     "data": {
      "image/png": "[encoded data removed]",
      "text/plain": [
       "<Figure size 720x360 with 1 Axes>"
      ]
     },
     "metadata": {
      "needs_background": "light"
     },
     "output_type": "display_data"
    }
   ],
   "source": [
    "weekday_median = df.pivot_table(index='weekday_exp', values='sq_m_price', aggfunc='median')\n",
    "weekday_mean = df.pivot_table(index='weekday_exp', values='sq_m_price')\n",
    "plt.plot(weekday_median, label='weekday_median')\n",
    "plt.plot(weekday_mean, label='weekday_mean') \n",
    "plt.legend()\n",
    "plt.show()"
   ]
  },
  {
   "cell_type": "markdown",
   "metadata": {},
   "source": [
    "Любопытно, что графики зависимости цены от времени публикаций, рассчитанные по медиане и по среднему - разные. \n",
    "Синяя линия - график размещения основой части объявлений. Судя по нему, максимальную цену на недвижимость среднего класса указывают во вт, с чт по сб происходит резкое падение, с в вс и пн - постепенный рост. \n",
    "На оранжевом графике видно, что самые дорогие объекты размещают в чт и сб! А в вс происходит максимальное падение цены.  "
   ]
  },
  {
   "cell_type": "code",
   "execution_count": 67,
   "metadata": {},
   "outputs": [
    {
     "data": {
      "image/png": "[encoded data removed]",
      "text/plain": [
       "<Figure size 720x360 with 1 Axes>"
      ]
     },
     "metadata": {
      "needs_background": "light"
     },
     "output_type": "display_data"
    }
   ],
   "source": [
    "month_data = df.pivot_table(index='month_exp', values='sq_m_price').plot()"
   ]
  },
  {
   "cell_type": "markdown",
   "metadata": {},
   "source": [
    "Самую дорогую недвижимость продают в апреле, затем в сентябре. В октябре и июне самые сильные падения цены. Получается, что рынок подвержен характерным сезонным колебаниям.  "
   ]
  },
  {
   "cell_type": "code",
   "execution_count": 68,
   "metadata": {},
   "outputs": [
    {
     "data": {
      "image/png": "[encoded data removed]",
      "text/plain": [
       "<Figure size 720x360 with 1 Axes>"
      ]
     },
     "metadata": {
      "needs_background": "light"
     },
     "output_type": "display_data"
    }
   ],
   "source": [
    "year_data = df.pivot_table(index='year_exp', values='sq_m_price').plot()"
   ]
  },
  {
   "cell_type": "markdown",
   "metadata": {},
   "source": [
    "С 2014 до 2017 г наблюдается устойчивое снижение цены. К 2018 г цена за м2 немного выросла, с 2018г происходит заметный рост. "
   ]
  },
  {
   "cell_type": "markdown",
   "metadata": {},
   "source": [
    "### *10 населённых пунктов с наибольшим числом объявлений:*"
   ]
  },
  {
   "cell_type": "code",
   "execution_count": 69,
   "metadata": {},
   "outputs": [
    {
     "data": {
      "text/plain": [
       "Санкт-Петербург      15513\n",
       "посёлок Мурино         489\n",
       "посёлок Шушары         434\n",
       "Всеволожск             392\n",
       "Пушкин                 365\n",
       "Колпино                336\n",
       "посёлок Парголово      325\n",
       "Гатчина                305\n",
       "деревня Кудрово        286\n",
       "Выборг                 229\n",
       "Name: locality_name, dtype: int64"
      ]
     },
     "execution_count": 69,
     "metadata": {},
     "output_type": "execute_result"
    }
   ],
   "source": [
    "df['locality_name'].value_counts().head(10)"
   ]
  },
  {
   "cell_type": "code",
   "execution_count": 70,
   "metadata": {},
   "outputs": [
    {
     "data": {
      "text/plain": [
       "array(['Санкт-Петербург', 'посёлок Мурино', 'посёлок Шушары',\n",
       "       'Всеволожск', 'Пушкин', 'Колпино', 'посёлок Парголово', 'Гатчина',\n",
       "       'деревня Кудрово', 'Выборг'], dtype=object)"
      ]
     },
     "execution_count": 70,
     "metadata": {},
     "output_type": "execute_result"
    }
   ],
   "source": [
    "top_10_locality_names = df['locality_name'].value_counts().head(10).index.values\n",
    "top_10_locality_names"
   ]
  },
  {
   "cell_type": "code",
   "execution_count": 71,
   "metadata": {
    "scrolled": true
   },
   "outputs": [
    {
     "data": {
      "text/html": [
       "<div>\n",
       "<style scoped>\n",
       "    .dataframe tbody tr th:only-of-type {\n",
       "        vertical-align: middle;\n",
       "    }\n",
       "\n",
       "    .dataframe tbody tr th {\n",
       "        vertical-align: top;\n",
       "    }\n",
       "\n",
       "    .dataframe thead th {\n",
       "        text-align: right;\n",
       "    }\n",
       "</style>\n",
       "<table border=\"1\" class=\"dataframe\">\n",
       "  <thead>\n",
       "    <tr style=\"text-align: right;\">\n",
       "      <th></th>\n",
       "      <th>locality_name</th>\n",
       "      <th>sq_m_price</th>\n",
       "    </tr>\n",
       "  </thead>\n",
       "  <tbody>\n",
       "    <tr>\n",
       "      <th>5</th>\n",
       "      <td>Санкт-Петербург</td>\n",
       "      <td>114766.531563</td>\n",
       "    </tr>\n",
       "    <tr>\n",
       "      <th>4</th>\n",
       "      <td>Пушкин</td>\n",
       "      <td>103102.846340</td>\n",
       "    </tr>\n",
       "    <tr>\n",
       "      <th>6</th>\n",
       "      <td>деревня Кудрово</td>\n",
       "      <td>92116.747438</td>\n",
       "    </tr>\n",
       "    <tr>\n",
       "      <th>8</th>\n",
       "      <td>посёлок Парголово</td>\n",
       "      <td>90303.491729</td>\n",
       "    </tr>\n",
       "    <tr>\n",
       "      <th>7</th>\n",
       "      <td>посёлок Мурино</td>\n",
       "      <td>84985.286281</td>\n",
       "    </tr>\n",
       "    <tr>\n",
       "      <th>9</th>\n",
       "      <td>посёлок Шушары</td>\n",
       "      <td>78181.912186</td>\n",
       "    </tr>\n",
       "    <tr>\n",
       "      <th>3</th>\n",
       "      <td>Колпино</td>\n",
       "      <td>75350.597216</td>\n",
       "    </tr>\n",
       "    <tr>\n",
       "      <th>2</th>\n",
       "      <td>Гатчина</td>\n",
       "      <td>68947.384358</td>\n",
       "    </tr>\n",
       "    <tr>\n",
       "      <th>0</th>\n",
       "      <td>Всеволожск</td>\n",
       "      <td>68759.924685</td>\n",
       "    </tr>\n",
       "    <tr>\n",
       "      <th>1</th>\n",
       "      <td>Выборг</td>\n",
       "      <td>58517.670737</td>\n",
       "    </tr>\n",
       "  </tbody>\n",
       "</table>\n",
       "</div>"
      ],
      "text/plain": [
       "       locality_name     sq_m_price\n",
       "5    Санкт-Петербург  114766.531563\n",
       "4             Пушкин  103102.846340\n",
       "6    деревня Кудрово   92116.747438\n",
       "8  посёлок Парголово   90303.491729\n",
       "7     посёлок Мурино   84985.286281\n",
       "9     посёлок Шушары   78181.912186\n",
       "3            Колпино   75350.597216\n",
       "2            Гатчина   68947.384358\n",
       "0         Всеволожск   68759.924685\n",
       "1             Выборг   58517.670737"
      ]
     },
     "execution_count": 71,
     "metadata": {},
     "output_type": "execute_result"
    }
   ],
   "source": [
    "top_10_locality = df.query('locality_name in @top_10_locality_names')\n",
    "top_10_df = top_10_locality.pivot_table(index='locality_name', values='sq_m_price', aggfunc='mean'\n",
    "                           ).reset_index().sort_values(by = 'sq_m_price', ascending=False)\n",
    "top_10_df"
   ]
  },
  {
   "cell_type": "code",
   "execution_count": 72,
   "metadata": {},
   "outputs": [
    {
     "data": {
      "image/png": "[encoded data removed]",
      "text/plain": [
       "<Figure size 1080x720 with 1 Axes>"
      ]
     },
     "metadata": {
      "needs_background": "light"
     },
     "output_type": "display_data"
    }
   ],
   "source": [
    "plt.rcParams['figure.figsize'] = (15.0, 10.0)\n",
    "top_10_locality.pivot_table(index='locality_name', values='sq_m_price', aggfunc='mean'\n",
    "                           ).sort_values(by = 'sq_m_price', ascending=False).plot();"
   ]
  },
  {
   "cell_type": "markdown",
   "metadata": {},
   "source": [
    "Из 10-ки городов с самым большим количеством объявлений, в Санкт-Петербурге квартиры самые дорогие, а в Выборге - самые дешевые. "
   ]
  },
  {
   "cell_type": "markdown",
   "metadata": {},
   "source": [
    "### *Анализ стоимости квартир в центральной зоне Санкт-Петербурга:*"
   ]
  },
  {
   "cell_type": "markdown",
   "metadata": {},
   "source": [
    "Определим границы центральной зоны по стоимости:"
   ]
  },
  {
   "cell_type": "code",
   "execution_count": 73,
   "metadata": {},
   "outputs": [
    {
     "name": "stderr",
     "output_type": "stream",
     "text": [
      "C:\\Users\\USER\\anaconda3\\lib\\site-packages\\ipykernel_launcher.py:2: SettingWithCopyWarning: \n",
      "A value is trying to be set on a copy of a slice from a DataFrame.\n",
      "Try using .loc[row_indexer,col_indexer] = value instead\n",
      "\n",
      "See the caveats in the documentation: https://pandas.pydata.org/pandas-docs/stable/user_guide/indexing.html#returning-a-view-versus-a-copy\n",
      "  \n",
      "C:\\Users\\USER\\anaconda3\\lib\\site-packages\\ipykernel_launcher.py:3: SettingWithCopyWarning: \n",
      "A value is trying to be set on a copy of a slice from a DataFrame.\n",
      "Try using .loc[row_indexer,col_indexer] = value instead\n",
      "\n",
      "See the caveats in the documentation: https://pandas.pydata.org/pandas-docs/stable/user_guide/indexing.html#returning-a-view-versus-a-copy\n",
      "  This is separate from the ipykernel package so we can avoid doing imports until\n"
     ]
    },
    {
     "data": {
      "text/plain": [
       "count    15513.000000\n",
       "mean        11.099336\n",
       "std          4.822587\n",
       "min          0.000000\n",
       "25%          8.000000\n",
       "50%         12.000000\n",
       "75%         14.000000\n",
       "max         29.000000\n",
       "Name: from_center, dtype: float64"
      ]
     },
     "execution_count": 73,
     "metadata": {},
     "output_type": "execute_result"
    }
   ],
   "source": [
    "spb_data = df.query('locality_name == \"Санкт-Петербург\"')\n",
    "spb_data['from_center'] = spb_data['cityCenters_nearest'] / 1000\n",
    "spb_data['from_center'] = spb_data['from_center'].astype('int')\n",
    "spb_data['from_center'].describe()"
   ]
  },
  {
   "cell_type": "code",
   "execution_count": 74,
   "metadata": {},
   "outputs": [
    {
     "data": {
      "image/png": "[encoded data removed]",
      "text/plain": [
       "<Figure size 864x432 with 1 Axes>"
      ]
     },
     "metadata": {
      "needs_background": "light"
     },
     "output_type": "display_data"
    }
   ],
   "source": [
    "plt.rcParams['figure.figsize'] = (12.0, 6.0)\n",
    "spb_data.pivot_table(index='from_center', values='last_price_mln', aggfunc='mean').plot();"
   ]
  },
  {
   "cell_type": "markdown",
   "metadata": {},
   "source": [
    "Судя по графику, центральная зона Санкт-Петербурга ограничивается 5 км. "
   ]
  },
  {
   "cell_type": "markdown",
   "metadata": {},
   "source": [
    "Изучим квартиры в центральной зоне:"
   ]
  },
  {
   "cell_type": "code",
   "execution_count": 75,
   "metadata": {},
   "outputs": [],
   "source": [
    "spb_center_data = spb_data.query('from_center <= 5')"
   ]
  },
  {
   "cell_type": "code",
   "execution_count": 76,
   "metadata": {},
   "outputs": [
    {
     "data": {
      "image/png": "[encoded data removed]",
      "text/plain": [
       "<Figure size 864x432 with 1 Axes>"
      ]
     },
     "metadata": {
      "needs_background": "light"
     },
     "output_type": "display_data"
    },
    {
     "data": {
      "image/png": "[encoded data removed]",
      "text/plain": [
       "<Figure size 864x432 with 1 Axes>"
      ]
     },
     "metadata": {
      "needs_background": "light"
     },
     "output_type": "display_data"
    },
    {
     "data": {
      "image/png": "[encoded data removed]",
      "text/plain": [
       "<Figure size 864x432 with 1 Axes>"
      ]
     },
     "metadata": {
      "needs_background": "light"
     },
     "output_type": "display_data"
    },
    {
     "data": {
      "image/png": "[encoded data removed]",
      "text/plain": [
       "<Figure size 864x432 with 1 Axes>"
      ]
     },
     "metadata": {
      "needs_background": "light"
     },
     "output_type": "display_data"
    },
    {
     "data": {
      "image/png": "[encoded data removed]",
      "text/plain": [
       "<Figure size 864x432 with 1 Axes>"
      ]
     },
     "metadata": {
      "needs_background": "light"
     },
     "output_type": "display_data"
    }
   ],
   "source": [
    "spb_center_hist_data = spb_center_data[['total_area', 'last_price_mln', 'sq_m_price', 'rooms', 'ceiling_height']]\n",
    "\n",
    "for row in spb_center_hist_data:\n",
    "    Q1 = spb_center_hist_data[row].describe()['25%']\n",
    "    Q3 = spb_center_hist_data[row].describe()['75%'] \n",
    "    spb_center_hist_data[row].hist(bins=100, range=(Q1-3*(Q3-Q1), Q3+3*(Q3-Q1)))\n",
    "    plt.title(row)\n",
    "    plt.show()"
   ]
  },
  {
   "cell_type": "code",
   "execution_count": 77,
   "metadata": {},
   "outputs": [
    {
     "data": {
      "text/html": [
       "<div>\n",
       "<style scoped>\n",
       "    .dataframe tbody tr th:only-of-type {\n",
       "        vertical-align: middle;\n",
       "    }\n",
       "\n",
       "    .dataframe tbody tr th {\n",
       "        vertical-align: top;\n",
       "    }\n",
       "\n",
       "    .dataframe thead th {\n",
       "        text-align: right;\n",
       "    }\n",
       "</style>\n",
       "<table border=\"1\" class=\"dataframe\">\n",
       "  <thead>\n",
       "    <tr style=\"text-align: right;\">\n",
       "      <th></th>\n",
       "      <th>total_area</th>\n",
       "      <th>last_price_mln</th>\n",
       "      <th>sq_m_price</th>\n",
       "      <th>rooms</th>\n",
       "      <th>ceiling_height</th>\n",
       "    </tr>\n",
       "  </thead>\n",
       "  <tbody>\n",
       "    <tr>\n",
       "      <th>count</th>\n",
       "      <td>2798.000000</td>\n",
       "      <td>2798.000000</td>\n",
       "      <td>2.798000e+03</td>\n",
       "      <td>2798.000000</td>\n",
       "      <td>2798.000000</td>\n",
       "    </tr>\n",
       "    <tr>\n",
       "      <th>mean</th>\n",
       "      <td>96.621308</td>\n",
       "      <td>15.133160</td>\n",
       "      <td>1.433613e+05</td>\n",
       "      <td>2.966047</td>\n",
       "      <td>3.010239</td>\n",
       "    </tr>\n",
       "    <tr>\n",
       "      <th>std</th>\n",
       "      <td>60.628657</td>\n",
       "      <td>25.540235</td>\n",
       "      <td>9.566378e+04</td>\n",
       "      <td>1.500539</td>\n",
       "      <td>0.364708</td>\n",
       "    </tr>\n",
       "    <tr>\n",
       "      <th>min</th>\n",
       "      <td>25.000000</td>\n",
       "      <td>1.600000</td>\n",
       "      <td>1.534527e+04</td>\n",
       "      <td>0.000000</td>\n",
       "      <td>2.500000</td>\n",
       "    </tr>\n",
       "    <tr>\n",
       "      <th>25%</th>\n",
       "      <td>60.000000</td>\n",
       "      <td>6.950000</td>\n",
       "      <td>9.849920e+04</td>\n",
       "      <td>2.000000</td>\n",
       "      <td>2.750000</td>\n",
       "    </tr>\n",
       "    <tr>\n",
       "      <th>50%</th>\n",
       "      <td>82.000000</td>\n",
       "      <td>9.500000</td>\n",
       "      <td>1.215746e+05</td>\n",
       "      <td>3.000000</td>\n",
       "      <td>3.000000</td>\n",
       "    </tr>\n",
       "    <tr>\n",
       "      <th>75%</th>\n",
       "      <td>113.000000</td>\n",
       "      <td>14.750000</td>\n",
       "      <td>1.545784e+05</td>\n",
       "      <td>4.000000</td>\n",
       "      <td>3.200000</td>\n",
       "    </tr>\n",
       "    <tr>\n",
       "      <th>max</th>\n",
       "      <td>631.200000</td>\n",
       "      <td>763.000000</td>\n",
       "      <td>1.907500e+06</td>\n",
       "      <td>19.000000</td>\n",
       "      <td>5.800000</td>\n",
       "    </tr>\n",
       "  </tbody>\n",
       "</table>\n",
       "</div>"
      ],
      "text/plain": [
       "        total_area  last_price_mln    sq_m_price        rooms  ceiling_height\n",
       "count  2798.000000     2798.000000  2.798000e+03  2798.000000     2798.000000\n",
       "mean     96.621308       15.133160  1.433613e+05     2.966047        3.010239\n",
       "std      60.628657       25.540235  9.566378e+04     1.500539        0.364708\n",
       "min      25.000000        1.600000  1.534527e+04     0.000000        2.500000\n",
       "25%      60.000000        6.950000  9.849920e+04     2.000000        2.750000\n",
       "50%      82.000000        9.500000  1.215746e+05     3.000000        3.000000\n",
       "75%     113.000000       14.750000  1.545784e+05     4.000000        3.200000\n",
       "max     631.200000      763.000000  1.907500e+06    19.000000        5.800000"
      ]
     },
     "execution_count": 77,
     "metadata": {},
     "output_type": "execute_result"
    }
   ],
   "source": [
    "spb_center_hist_data.describe()"
   ]
  },
  {
   "cell_type": "markdown",
   "metadata": {},
   "source": [
    "В объявлениях из центральной части Санкт-Петербурга больше всего объектов площадью 75 кв.м. Но вообще одинаково много квартир от 40 до 100 кв.м. Большая часть недвижимости стоит мене 10 млн. Есть пик в районе 7млн., возможно это связано со стандартной площадью объекта. Наибольшее количество комнат - 3, стандартная высота потолка - 3м. "
   ]
  },
  {
   "cell_type": "markdown",
   "metadata": {},
   "source": [
    "На графике с ценой за кв.м видны выбросы значений менее 50000 за кв.м. Это выглядит подозрительно: в основном цена колеблестся от 75000 до 125000. "
   ]
  },
  {
   "cell_type": "code",
   "execution_count": 78,
   "metadata": {
    "scrolled": true
   },
   "outputs": [
    {
     "data": {
      "text/html": [
       "<div>\n",
       "<style scoped>\n",
       "    .dataframe tbody tr th:only-of-type {\n",
       "        vertical-align: middle;\n",
       "    }\n",
       "\n",
       "    .dataframe tbody tr th {\n",
       "        vertical-align: top;\n",
       "    }\n",
       "\n",
       "    .dataframe thead th {\n",
       "        text-align: right;\n",
       "    }\n",
       "</style>\n",
       "<table border=\"1\" class=\"dataframe\">\n",
       "  <thead>\n",
       "    <tr style=\"text-align: right;\">\n",
       "      <th></th>\n",
       "      <th>total_images</th>\n",
       "      <th>last_price</th>\n",
       "      <th>total_area</th>\n",
       "      <th>first_day_exposition</th>\n",
       "      <th>rooms</th>\n",
       "      <th>ceiling_height</th>\n",
       "      <th>floors_total</th>\n",
       "      <th>living_area</th>\n",
       "      <th>floor</th>\n",
       "      <th>is_apartment</th>\n",
       "      <th>...</th>\n",
       "      <th>days_exposition</th>\n",
       "      <th>sq_m_price</th>\n",
       "      <th>weekday_exp</th>\n",
       "      <th>month_exp</th>\n",
       "      <th>year_exp</th>\n",
       "      <th>floor_name</th>\n",
       "      <th>living_part</th>\n",
       "      <th>kitchen_part</th>\n",
       "      <th>last_price_mln</th>\n",
       "      <th>from_center</th>\n",
       "    </tr>\n",
       "  </thead>\n",
       "  <tbody>\n",
       "    <tr>\n",
       "      <th>7756</th>\n",
       "      <td>1</td>\n",
       "      <td>4390000</td>\n",
       "      <td>151.8</td>\n",
       "      <td>2017-04-28 03:00:00</td>\n",
       "      <td>6</td>\n",
       "      <td>3.5</td>\n",
       "      <td>6.0</td>\n",
       "      <td>106.5</td>\n",
       "      <td>6</td>\n",
       "      <td>False</td>\n",
       "      <td>...</td>\n",
       "      <td>44.0</td>\n",
       "      <td>28919.631094</td>\n",
       "      <td>4</td>\n",
       "      <td>4</td>\n",
       "      <td>2017</td>\n",
       "      <td>последний</td>\n",
       "      <td>0.701581</td>\n",
       "      <td>0.094203</td>\n",
       "      <td>4.39</td>\n",
       "      <td>2</td>\n",
       "    </tr>\n",
       "    <tr>\n",
       "      <th>13739</th>\n",
       "      <td>19</td>\n",
       "      <td>2100000</td>\n",
       "      <td>80.0</td>\n",
       "      <td>2016-07-01 03:00:00</td>\n",
       "      <td>4</td>\n",
       "      <td>3.0</td>\n",
       "      <td>6.0</td>\n",
       "      <td>23.0</td>\n",
       "      <td>3</td>\n",
       "      <td>True</td>\n",
       "      <td>...</td>\n",
       "      <td>23.0</td>\n",
       "      <td>26250.000000</td>\n",
       "      <td>4</td>\n",
       "      <td>7</td>\n",
       "      <td>2016</td>\n",
       "      <td>другой</td>\n",
       "      <td>0.287500</td>\n",
       "      <td>0.175000</td>\n",
       "      <td>2.10</td>\n",
       "      <td>5</td>\n",
       "    </tr>\n",
       "    <tr>\n",
       "      <th>17753</th>\n",
       "      <td>12</td>\n",
       "      <td>1800000</td>\n",
       "      <td>117.3</td>\n",
       "      <td>2016-02-18 03:00:00</td>\n",
       "      <td>5</td>\n",
       "      <td>3.0</td>\n",
       "      <td>4.0</td>\n",
       "      <td>23.6</td>\n",
       "      <td>2</td>\n",
       "      <td>False</td>\n",
       "      <td>...</td>\n",
       "      <td>139.0</td>\n",
       "      <td>15345.268542</td>\n",
       "      <td>3</td>\n",
       "      <td>2</td>\n",
       "      <td>2016</td>\n",
       "      <td>другой</td>\n",
       "      <td>0.201194</td>\n",
       "      <td>0.109974</td>\n",
       "      <td>1.80</td>\n",
       "      <td>5</td>\n",
       "    </tr>\n",
       "    <tr>\n",
       "      <th>19952</th>\n",
       "      <td>7</td>\n",
       "      <td>2200000</td>\n",
       "      <td>138.7</td>\n",
       "      <td>2016-06-24 03:00:00</td>\n",
       "      <td>4</td>\n",
       "      <td>3.0</td>\n",
       "      <td>7.0</td>\n",
       "      <td>90.7</td>\n",
       "      <td>5</td>\n",
       "      <td>False</td>\n",
       "      <td>...</td>\n",
       "      <td>203.0</td>\n",
       "      <td>15861.571738</td>\n",
       "      <td>4</td>\n",
       "      <td>6</td>\n",
       "      <td>2016</td>\n",
       "      <td>другой</td>\n",
       "      <td>0.653929</td>\n",
       "      <td>0.098774</td>\n",
       "      <td>2.20</td>\n",
       "      <td>4</td>\n",
       "    </tr>\n",
       "    <tr>\n",
       "      <th>21338</th>\n",
       "      <td>15</td>\n",
       "      <td>3200000</td>\n",
       "      <td>190.0</td>\n",
       "      <td>2016-06-16 03:00:00</td>\n",
       "      <td>1</td>\n",
       "      <td>3.0</td>\n",
       "      <td>6.0</td>\n",
       "      <td>43.0</td>\n",
       "      <td>4</td>\n",
       "      <td>False</td>\n",
       "      <td>...</td>\n",
       "      <td>11.0</td>\n",
       "      <td>16842.105263</td>\n",
       "      <td>3</td>\n",
       "      <td>6</td>\n",
       "      <td>2016</td>\n",
       "      <td>другой</td>\n",
       "      <td>0.226316</td>\n",
       "      <td>0.068421</td>\n",
       "      <td>3.20</td>\n",
       "      <td>4</td>\n",
       "    </tr>\n",
       "    <tr>\n",
       "      <th>23394</th>\n",
       "      <td>10</td>\n",
       "      <td>1600000</td>\n",
       "      <td>92.0</td>\n",
       "      <td>2018-07-10 03:00:00</td>\n",
       "      <td>3</td>\n",
       "      <td>3.0</td>\n",
       "      <td>6.0</td>\n",
       "      <td>13.0</td>\n",
       "      <td>1</td>\n",
       "      <td>True</td>\n",
       "      <td>...</td>\n",
       "      <td>3.0</td>\n",
       "      <td>17391.304348</td>\n",
       "      <td>1</td>\n",
       "      <td>7</td>\n",
       "      <td>2018</td>\n",
       "      <td>первый</td>\n",
       "      <td>0.141304</td>\n",
       "      <td>0.108696</td>\n",
       "      <td>1.60</td>\n",
       "      <td>4</td>\n",
       "    </tr>\n",
       "  </tbody>\n",
       "</table>\n",
       "<p>6 rows × 31 columns</p>\n",
       "</div>"
      ],
      "text/plain": [
       "       total_images  last_price  total_area first_day_exposition  rooms  \\\n",
       "7756              1     4390000       151.8  2017-04-28 03:00:00      6   \n",
       "13739            19     2100000        80.0  2016-07-01 03:00:00      4   \n",
       "17753            12     1800000       117.3  2016-02-18 03:00:00      5   \n",
       "19952             7     2200000       138.7  2016-06-24 03:00:00      4   \n",
       "21338            15     3200000       190.0  2016-06-16 03:00:00      1   \n",
       "23394            10     1600000        92.0  2018-07-10 03:00:00      3   \n",
       "\n",
       "       ceiling_height  floors_total  living_area  floor  is_apartment  ...  \\\n",
       "7756              3.5           6.0        106.5      6         False  ...   \n",
       "13739             3.0           6.0         23.0      3          True  ...   \n",
       "17753             3.0           4.0         23.6      2         False  ...   \n",
       "19952             3.0           7.0         90.7      5         False  ...   \n",
       "21338             3.0           6.0         43.0      4         False  ...   \n",
       "23394             3.0           6.0         13.0      1          True  ...   \n",
       "\n",
       "       days_exposition    sq_m_price  weekday_exp  month_exp year_exp  \\\n",
       "7756              44.0  28919.631094            4          4     2017   \n",
       "13739             23.0  26250.000000            4          7     2016   \n",
       "17753            139.0  15345.268542            3          2     2016   \n",
       "19952            203.0  15861.571738            4          6     2016   \n",
       "21338             11.0  16842.105263            3          6     2016   \n",
       "23394              3.0  17391.304348            1          7     2018   \n",
       "\n",
       "       floor_name  living_part  kitchen_part  last_price_mln  from_center  \n",
       "7756    последний     0.701581      0.094203            4.39            2  \n",
       "13739      другой     0.287500      0.175000            2.10            5  \n",
       "17753      другой     0.201194      0.109974            1.80            5  \n",
       "19952      другой     0.653929      0.098774            2.20            4  \n",
       "21338      другой     0.226316      0.068421            3.20            4  \n",
       "23394      первый     0.141304      0.108696            1.60            4  \n",
       "\n",
       "[6 rows x 31 columns]"
      ]
     },
     "execution_count": 78,
     "metadata": {},
     "output_type": "execute_result"
    }
   ],
   "source": [
    "spb_center_data.query('sq_m_price < 50000')"
   ]
  },
  {
   "cell_type": "code",
   "execution_count": 79,
   "metadata": {},
   "outputs": [],
   "source": [
    "spb_center_data = spb_center_data.query('sq_m_price >= 50000')"
   ]
  },
  {
   "cell_type": "markdown",
   "metadata": {},
   "source": [
    "Это явно выброс или недостоверные данные. Я решила их удалить. "
   ]
  },
  {
   "cell_type": "markdown",
   "metadata": {},
   "source": [
    "Изучим факторы, влияющие на стоимость квартир:"
   ]
  },
  {
   "cell_type": "code",
   "execution_count": 80,
   "metadata": {
    "scrolled": true
   },
   "outputs": [
    {
     "data": {
      "text/html": [
       "<div>\n",
       "<style scoped>\n",
       "    .dataframe tbody tr th:only-of-type {\n",
       "        vertical-align: middle;\n",
       "    }\n",
       "\n",
       "    .dataframe tbody tr th {\n",
       "        vertical-align: top;\n",
       "    }\n",
       "\n",
       "    .dataframe thead th {\n",
       "        text-align: right;\n",
       "    }\n",
       "</style>\n",
       "<table border=\"1\" class=\"dataframe\">\n",
       "  <thead>\n",
       "    <tr style=\"text-align: right;\">\n",
       "      <th></th>\n",
       "      <th>total_images</th>\n",
       "      <th>last_price</th>\n",
       "      <th>total_area</th>\n",
       "      <th>rooms</th>\n",
       "      <th>ceiling_height</th>\n",
       "      <th>floors_total</th>\n",
       "      <th>living_area</th>\n",
       "      <th>floor</th>\n",
       "      <th>is_apartment</th>\n",
       "      <th>studio</th>\n",
       "      <th>...</th>\n",
       "      <th>ponds_nearest</th>\n",
       "      <th>days_exposition</th>\n",
       "      <th>sq_m_price</th>\n",
       "      <th>weekday_exp</th>\n",
       "      <th>month_exp</th>\n",
       "      <th>year_exp</th>\n",
       "      <th>living_part</th>\n",
       "      <th>kitchen_part</th>\n",
       "      <th>last_price_mln</th>\n",
       "      <th>from_center</th>\n",
       "    </tr>\n",
       "  </thead>\n",
       "  <tbody>\n",
       "    <tr>\n",
       "      <th>total_images</th>\n",
       "      <td>1.000000</td>\n",
       "      <td>0.139686</td>\n",
       "      <td>0.099612</td>\n",
       "      <td>0.032226</td>\n",
       "      <td>0.094219</td>\n",
       "      <td>-0.051397</td>\n",
       "      <td>0.081104</td>\n",
       "      <td>-0.013866</td>\n",
       "      <td>0.084039</td>\n",
       "      <td>-0.014588</td>\n",
       "      <td>...</td>\n",
       "      <td>0.006080</td>\n",
       "      <td>-0.049001</td>\n",
       "      <td>0.168578</td>\n",
       "      <td>0.004619</td>\n",
       "      <td>-0.013859</td>\n",
       "      <td>0.164805</td>\n",
       "      <td>-0.008897</td>\n",
       "      <td>0.039832</td>\n",
       "      <td>0.139686</td>\n",
       "      <td>-0.023890</td>\n",
       "    </tr>\n",
       "    <tr>\n",
       "      <th>last_price</th>\n",
       "      <td>0.139686</td>\n",
       "      <td>1.000000</td>\n",
       "      <td>0.595119</td>\n",
       "      <td>0.295187</td>\n",
       "      <td>0.117318</td>\n",
       "      <td>0.046811</td>\n",
       "      <td>0.491430</td>\n",
       "      <td>0.124905</td>\n",
       "      <td>0.007468</td>\n",
       "      <td>-0.013541</td>\n",
       "      <td>...</td>\n",
       "      <td>-0.064332</td>\n",
       "      <td>0.050837</td>\n",
       "      <td>0.793972</td>\n",
       "      <td>0.034656</td>\n",
       "      <td>-0.010437</td>\n",
       "      <td>-0.031828</td>\n",
       "      <td>-0.050160</td>\n",
       "      <td>-0.107604</td>\n",
       "      <td>1.000000</td>\n",
       "      <td>-0.055372</td>\n",
       "    </tr>\n",
       "    <tr>\n",
       "      <th>total_area</th>\n",
       "      <td>0.099612</td>\n",
       "      <td>0.595119</td>\n",
       "      <td>1.000000</td>\n",
       "      <td>0.738642</td>\n",
       "      <td>0.249607</td>\n",
       "      <td>-0.013131</td>\n",
       "      <td>0.905674</td>\n",
       "      <td>0.115891</td>\n",
       "      <td>0.015095</td>\n",
       "      <td>-0.032654</td>\n",
       "      <td>...</td>\n",
       "      <td>-0.064238</td>\n",
       "      <td>0.130772</td>\n",
       "      <td>0.223024</td>\n",
       "      <td>0.013373</td>\n",
       "      <td>-0.022856</td>\n",
       "      <td>-0.060203</td>\n",
       "      <td>0.086055</td>\n",
       "      <td>-0.360213</td>\n",
       "      <td>0.595119</td>\n",
       "      <td>-0.052297</td>\n",
       "    </tr>\n",
       "    <tr>\n",
       "      <th>rooms</th>\n",
       "      <td>0.032226</td>\n",
       "      <td>0.295187</td>\n",
       "      <td>0.738642</td>\n",
       "      <td>1.000000</td>\n",
       "      <td>0.206219</td>\n",
       "      <td>-0.167397</td>\n",
       "      <td>0.821458</td>\n",
       "      <td>-0.028541</td>\n",
       "      <td>0.016811</td>\n",
       "      <td>-0.086575</td>\n",
       "      <td>...</td>\n",
       "      <td>-0.049196</td>\n",
       "      <td>0.117311</td>\n",
       "      <td>-0.026056</td>\n",
       "      <td>-0.003502</td>\n",
       "      <td>-0.027857</td>\n",
       "      <td>-0.042816</td>\n",
       "      <td>0.420466</td>\n",
       "      <td>-0.493089</td>\n",
       "      <td>0.295187</td>\n",
       "      <td>-0.107437</td>\n",
       "    </tr>\n",
       "    <tr>\n",
       "      <th>ceiling_height</th>\n",
       "      <td>0.094219</td>\n",
       "      <td>0.117318</td>\n",
       "      <td>0.249607</td>\n",
       "      <td>0.206219</td>\n",
       "      <td>1.000000</td>\n",
       "      <td>-0.255956</td>\n",
       "      <td>0.283267</td>\n",
       "      <td>-0.141391</td>\n",
       "      <td>-0.026790</td>\n",
       "      <td>0.045347</td>\n",
       "      <td>...</td>\n",
       "      <td>-0.064789</td>\n",
       "      <td>0.072130</td>\n",
       "      <td>0.054264</td>\n",
       "      <td>-0.021589</td>\n",
       "      <td>-0.021320</td>\n",
       "      <td>0.034966</td>\n",
       "      <td>0.140570</td>\n",
       "      <td>-0.109919</td>\n",
       "      <td>0.117318</td>\n",
       "      <td>-0.170905</td>\n",
       "    </tr>\n",
       "    <tr>\n",
       "      <th>floors_total</th>\n",
       "      <td>-0.051397</td>\n",
       "      <td>0.046811</td>\n",
       "      <td>-0.013131</td>\n",
       "      <td>-0.167397</td>\n",
       "      <td>-0.255956</td>\n",
       "      <td>1.000000</td>\n",
       "      <td>-0.130965</td>\n",
       "      <td>0.649316</td>\n",
       "      <td>-0.016456</td>\n",
       "      <td>0.015640</td>\n",
       "      <td>...</td>\n",
       "      <td>0.093482</td>\n",
       "      <td>0.035305</td>\n",
       "      <td>0.121269</td>\n",
       "      <td>0.012151</td>\n",
       "      <td>0.021134</td>\n",
       "      <td>-0.053052</td>\n",
       "      <td>-0.354849</td>\n",
       "      <td>0.159856</td>\n",
       "      <td>0.046811</td>\n",
       "      <td>0.317278</td>\n",
       "    </tr>\n",
       "    <tr>\n",
       "      <th>living_area</th>\n",
       "      <td>0.081104</td>\n",
       "      <td>0.491430</td>\n",
       "      <td>0.905674</td>\n",
       "      <td>0.821458</td>\n",
       "      <td>0.283267</td>\n",
       "      <td>-0.130965</td>\n",
       "      <td>1.000000</td>\n",
       "      <td>0.012014</td>\n",
       "      <td>0.011816</td>\n",
       "      <td>-0.022567</td>\n",
       "      <td>...</td>\n",
       "      <td>-0.051090</td>\n",
       "      <td>0.122918</td>\n",
       "      <td>0.136052</td>\n",
       "      <td>0.002805</td>\n",
       "      <td>-0.013735</td>\n",
       "      <td>-0.066748</td>\n",
       "      <td>0.421924</td>\n",
       "      <td>-0.459115</td>\n",
       "      <td>0.491430</td>\n",
       "      <td>-0.104346</td>\n",
       "    </tr>\n",
       "    <tr>\n",
       "      <th>floor</th>\n",
       "      <td>-0.013866</td>\n",
       "      <td>0.124905</td>\n",
       "      <td>0.115891</td>\n",
       "      <td>-0.028541</td>\n",
       "      <td>-0.141391</td>\n",
       "      <td>0.649316</td>\n",
       "      <td>0.012014</td>\n",
       "      <td>1.000000</td>\n",
       "      <td>-0.020531</td>\n",
       "      <td>-0.002583</td>\n",
       "      <td>...</td>\n",
       "      <td>0.049707</td>\n",
       "      <td>0.040584</td>\n",
       "      <td>0.131311</td>\n",
       "      <td>0.034744</td>\n",
       "      <td>0.031553</td>\n",
       "      <td>-0.051337</td>\n",
       "      <td>-0.234500</td>\n",
       "      <td>0.038312</td>\n",
       "      <td>0.124905</td>\n",
       "      <td>0.200543</td>\n",
       "    </tr>\n",
       "    <tr>\n",
       "      <th>is_apartment</th>\n",
       "      <td>0.084039</td>\n",
       "      <td>0.007468</td>\n",
       "      <td>0.015095</td>\n",
       "      <td>0.016811</td>\n",
       "      <td>-0.026790</td>\n",
       "      <td>-0.016456</td>\n",
       "      <td>0.011816</td>\n",
       "      <td>-0.020531</td>\n",
       "      <td>1.000000</td>\n",
       "      <td>-0.006548</td>\n",
       "      <td>...</td>\n",
       "      <td>0.027115</td>\n",
       "      <td>-0.076299</td>\n",
       "      <td>0.017641</td>\n",
       "      <td>0.013864</td>\n",
       "      <td>0.088036</td>\n",
       "      <td>0.226457</td>\n",
       "      <td>-0.005480</td>\n",
       "      <td>-0.000870</td>\n",
       "      <td>0.007468</td>\n",
       "      <td>-0.015238</td>\n",
       "    </tr>\n",
       "    <tr>\n",
       "      <th>studio</th>\n",
       "      <td>-0.014588</td>\n",
       "      <td>-0.013541</td>\n",
       "      <td>-0.032654</td>\n",
       "      <td>-0.086575</td>\n",
       "      <td>0.045347</td>\n",
       "      <td>0.015640</td>\n",
       "      <td>-0.022567</td>\n",
       "      <td>-0.002583</td>\n",
       "      <td>-0.006548</td>\n",
       "      <td>1.000000</td>\n",
       "      <td>...</td>\n",
       "      <td>0.032020</td>\n",
       "      <td>-0.023880</td>\n",
       "      <td>-0.000386</td>\n",
       "      <td>0.000810</td>\n",
       "      <td>0.003433</td>\n",
       "      <td>-0.006119</td>\n",
       "      <td>0.040863</td>\n",
       "      <td>0.029844</td>\n",
       "      <td>-0.013541</td>\n",
       "      <td>0.022782</td>\n",
       "    </tr>\n",
       "    <tr>\n",
       "      <th>open_plan</th>\n",
       "      <td>-0.014343</td>\n",
       "      <td>-0.006716</td>\n",
       "      <td>-0.006933</td>\n",
       "      <td>0.009567</td>\n",
       "      <td>0.012100</td>\n",
       "      <td>-0.012544</td>\n",
       "      <td>0.002111</td>\n",
       "      <td>-0.019301</td>\n",
       "      <td>-0.072264</td>\n",
       "      <td>-0.001243</td>\n",
       "      <td>...</td>\n",
       "      <td>-0.020482</td>\n",
       "      <td>-0.010430</td>\n",
       "      <td>-0.010998</td>\n",
       "      <td>0.000467</td>\n",
       "      <td>0.008406</td>\n",
       "      <td>-0.038983</td>\n",
       "      <td>0.034302</td>\n",
       "      <td>-0.003809</td>\n",
       "      <td>-0.006716</td>\n",
       "      <td>-0.009601</td>\n",
       "    </tr>\n",
       "    <tr>\n",
       "      <th>kitchen_area</th>\n",
       "      <td>0.139541</td>\n",
       "      <td>0.402851</td>\n",
       "      <td>0.542123</td>\n",
       "      <td>0.285011</td>\n",
       "      <td>0.142580</td>\n",
       "      <td>0.078824</td>\n",
       "      <td>0.402906</td>\n",
       "      <td>0.109691</td>\n",
       "      <td>0.010215</td>\n",
       "      <td>-0.022270</td>\n",
       "      <td>...</td>\n",
       "      <td>-0.028922</td>\n",
       "      <td>0.099213</td>\n",
       "      <td>0.295227</td>\n",
       "      <td>0.008101</td>\n",
       "      <td>-0.060466</td>\n",
       "      <td>-0.029323</td>\n",
       "      <td>-0.265487</td>\n",
       "      <td>0.443301</td>\n",
       "      <td>0.402851</td>\n",
       "      <td>-0.023918</td>\n",
       "    </tr>\n",
       "    <tr>\n",
       "      <th>balcony</th>\n",
       "      <td>0.014861</td>\n",
       "      <td>0.078233</td>\n",
       "      <td>0.013668</td>\n",
       "      <td>-0.089194</td>\n",
       "      <td>-0.097099</td>\n",
       "      <td>0.387607</td>\n",
       "      <td>-0.034167</td>\n",
       "      <td>0.291681</td>\n",
       "      <td>-0.057595</td>\n",
       "      <td>0.046559</td>\n",
       "      <td>...</td>\n",
       "      <td>0.031914</td>\n",
       "      <td>0.017431</td>\n",
       "      <td>0.125917</td>\n",
       "      <td>0.011645</td>\n",
       "      <td>0.004981</td>\n",
       "      <td>-0.053268</td>\n",
       "      <td>-0.166632</td>\n",
       "      <td>0.091342</td>\n",
       "      <td>0.078233</td>\n",
       "      <td>0.163625</td>\n",
       "    </tr>\n",
       "    <tr>\n",
       "      <th>airports_nearest</th>\n",
       "      <td>0.012633</td>\n",
       "      <td>0.073111</td>\n",
       "      <td>0.017534</td>\n",
       "      <td>-0.056705</td>\n",
       "      <td>-0.041623</td>\n",
       "      <td>0.039633</td>\n",
       "      <td>-0.028972</td>\n",
       "      <td>0.023175</td>\n",
       "      <td>0.006411</td>\n",
       "      <td>-0.002280</td>\n",
       "      <td>...</td>\n",
       "      <td>0.105410</td>\n",
       "      <td>0.004083</td>\n",
       "      <td>0.121314</td>\n",
       "      <td>-0.016085</td>\n",
       "      <td>-0.022166</td>\n",
       "      <td>0.026757</td>\n",
       "      <td>-0.117306</td>\n",
       "      <td>0.072553</td>\n",
       "      <td>0.073111</td>\n",
       "      <td>0.419819</td>\n",
       "    </tr>\n",
       "    <tr>\n",
       "      <th>cityCenters_nearest</th>\n",
       "      <td>-0.024425</td>\n",
       "      <td>-0.050123</td>\n",
       "      <td>-0.043366</td>\n",
       "      <td>-0.102239</td>\n",
       "      <td>-0.174024</td>\n",
       "      <td>0.325394</td>\n",
       "      <td>-0.094738</td>\n",
       "      <td>0.203812</td>\n",
       "      <td>-0.010374</td>\n",
       "      <td>0.024321</td>\n",
       "      <td>...</td>\n",
       "      <td>0.337807</td>\n",
       "      <td>-0.007935</td>\n",
       "      <td>-0.063402</td>\n",
       "      <td>-0.031886</td>\n",
       "      <td>-0.000246</td>\n",
       "      <td>0.020240</td>\n",
       "      <td>-0.155128</td>\n",
       "      <td>0.064810</td>\n",
       "      <td>-0.050123</td>\n",
       "      <td>0.978289</td>\n",
       "    </tr>\n",
       "    <tr>\n",
       "      <th>parks_around3000</th>\n",
       "      <td>0.061176</td>\n",
       "      <td>0.077515</td>\n",
       "      <td>0.082784</td>\n",
       "      <td>0.096840</td>\n",
       "      <td>0.141805</td>\n",
       "      <td>-0.265197</td>\n",
       "      <td>0.123033</td>\n",
       "      <td>-0.181025</td>\n",
       "      <td>0.050966</td>\n",
       "      <td>-0.033768</td>\n",
       "      <td>...</td>\n",
       "      <td>-0.241527</td>\n",
       "      <td>-0.004752</td>\n",
       "      <td>0.104001</td>\n",
       "      <td>0.001667</td>\n",
       "      <td>-0.019357</td>\n",
       "      <td>0.002943</td>\n",
       "      <td>0.117299</td>\n",
       "      <td>-0.029837</td>\n",
       "      <td>0.077515</td>\n",
       "      <td>-0.299245</td>\n",
       "    </tr>\n",
       "    <tr>\n",
       "      <th>parks_nearest</th>\n",
       "      <td>-0.047324</td>\n",
       "      <td>-0.028475</td>\n",
       "      <td>-0.071396</td>\n",
       "      <td>-0.102781</td>\n",
       "      <td>-0.128681</td>\n",
       "      <td>0.293277</td>\n",
       "      <td>-0.098710</td>\n",
       "      <td>0.160207</td>\n",
       "      <td>-0.038414</td>\n",
       "      <td>-0.012750</td>\n",
       "      <td>...</td>\n",
       "      <td>0.077003</td>\n",
       "      <td>0.005104</td>\n",
       "      <td>-0.003789</td>\n",
       "      <td>-0.002524</td>\n",
       "      <td>0.044589</td>\n",
       "      <td>-0.041600</td>\n",
       "      <td>-0.147843</td>\n",
       "      <td>0.098746</td>\n",
       "      <td>-0.028475</td>\n",
       "      <td>0.158397</td>\n",
       "    </tr>\n",
       "    <tr>\n",
       "      <th>ponds_around3000</th>\n",
       "      <td>-0.002626</td>\n",
       "      <td>0.082787</td>\n",
       "      <td>-0.003841</td>\n",
       "      <td>-0.034962</td>\n",
       "      <td>0.016997</td>\n",
       "      <td>-0.091823</td>\n",
       "      <td>-0.002907</td>\n",
       "      <td>-0.075523</td>\n",
       "      <td>0.029375</td>\n",
       "      <td>0.015536</td>\n",
       "      <td>...</td>\n",
       "      <td>-0.407966</td>\n",
       "      <td>-0.011887</td>\n",
       "      <td>0.123295</td>\n",
       "      <td>0.050354</td>\n",
       "      <td>-0.017598</td>\n",
       "      <td>-0.020173</td>\n",
       "      <td>0.002342</td>\n",
       "      <td>0.015949</td>\n",
       "      <td>0.082787</td>\n",
       "      <td>-0.436161</td>\n",
       "    </tr>\n",
       "    <tr>\n",
       "      <th>ponds_nearest</th>\n",
       "      <td>0.006080</td>\n",
       "      <td>-0.064332</td>\n",
       "      <td>-0.064238</td>\n",
       "      <td>-0.049196</td>\n",
       "      <td>-0.064789</td>\n",
       "      <td>0.093482</td>\n",
       "      <td>-0.051090</td>\n",
       "      <td>0.049707</td>\n",
       "      <td>0.027115</td>\n",
       "      <td>0.032020</td>\n",
       "      <td>...</td>\n",
       "      <td>1.000000</td>\n",
       "      <td>-0.006772</td>\n",
       "      <td>-0.079515</td>\n",
       "      <td>-0.031516</td>\n",
       "      <td>0.043132</td>\n",
       "      <td>0.008190</td>\n",
       "      <td>-0.021305</td>\n",
       "      <td>0.042129</td>\n",
       "      <td>-0.064332</td>\n",
       "      <td>0.339372</td>\n",
       "    </tr>\n",
       "    <tr>\n",
       "      <th>days_exposition</th>\n",
       "      <td>-0.049001</td>\n",
       "      <td>0.050837</td>\n",
       "      <td>0.130772</td>\n",
       "      <td>0.117311</td>\n",
       "      <td>0.072130</td>\n",
       "      <td>0.035305</td>\n",
       "      <td>0.122918</td>\n",
       "      <td>0.040584</td>\n",
       "      <td>-0.076299</td>\n",
       "      <td>-0.023880</td>\n",
       "      <td>...</td>\n",
       "      <td>-0.006772</td>\n",
       "      <td>1.000000</td>\n",
       "      <td>0.020653</td>\n",
       "      <td>-0.042723</td>\n",
       "      <td>-0.042954</td>\n",
       "      <td>-0.660797</td>\n",
       "      <td>-0.008590</td>\n",
       "      <td>-0.034487</td>\n",
       "      <td>0.050837</td>\n",
       "      <td>-0.001084</td>\n",
       "    </tr>\n",
       "    <tr>\n",
       "      <th>sq_m_price</th>\n",
       "      <td>0.168578</td>\n",
       "      <td>0.793972</td>\n",
       "      <td>0.223024</td>\n",
       "      <td>-0.026056</td>\n",
       "      <td>0.054264</td>\n",
       "      <td>0.121269</td>\n",
       "      <td>0.136052</td>\n",
       "      <td>0.131311</td>\n",
       "      <td>0.017641</td>\n",
       "      <td>-0.000386</td>\n",
       "      <td>...</td>\n",
       "      <td>-0.079515</td>\n",
       "      <td>0.020653</td>\n",
       "      <td>1.000000</td>\n",
       "      <td>0.019562</td>\n",
       "      <td>-0.014564</td>\n",
       "      <td>0.021728</td>\n",
       "      <td>-0.163154</td>\n",
       "      <td>0.116493</td>\n",
       "      <td>0.793972</td>\n",
       "      <td>-0.063608</td>\n",
       "    </tr>\n",
       "    <tr>\n",
       "      <th>weekday_exp</th>\n",
       "      <td>0.004619</td>\n",
       "      <td>0.034656</td>\n",
       "      <td>0.013373</td>\n",
       "      <td>-0.003502</td>\n",
       "      <td>-0.021589</td>\n",
       "      <td>0.012151</td>\n",
       "      <td>0.002805</td>\n",
       "      <td>0.034744</td>\n",
       "      <td>0.013864</td>\n",
       "      <td>0.000810</td>\n",
       "      <td>...</td>\n",
       "      <td>-0.031516</td>\n",
       "      <td>-0.042723</td>\n",
       "      <td>0.019562</td>\n",
       "      <td>1.000000</td>\n",
       "      <td>0.037297</td>\n",
       "      <td>0.003507</td>\n",
       "      <td>-0.008503</td>\n",
       "      <td>0.015050</td>\n",
       "      <td>0.034656</td>\n",
       "      <td>-0.033472</td>\n",
       "    </tr>\n",
       "    <tr>\n",
       "      <th>month_exp</th>\n",
       "      <td>-0.013859</td>\n",
       "      <td>-0.010437</td>\n",
       "      <td>-0.022856</td>\n",
       "      <td>-0.027857</td>\n",
       "      <td>-0.021320</td>\n",
       "      <td>0.021134</td>\n",
       "      <td>-0.013735</td>\n",
       "      <td>0.031553</td>\n",
       "      <td>0.088036</td>\n",
       "      <td>0.003433</td>\n",
       "      <td>...</td>\n",
       "      <td>0.043132</td>\n",
       "      <td>-0.042954</td>\n",
       "      <td>-0.014564</td>\n",
       "      <td>0.037297</td>\n",
       "      <td>1.000000</td>\n",
       "      <td>-0.240988</td>\n",
       "      <td>0.026082</td>\n",
       "      <td>-0.039025</td>\n",
       "      <td>-0.010437</td>\n",
       "      <td>0.001247</td>\n",
       "    </tr>\n",
       "    <tr>\n",
       "      <th>year_exp</th>\n",
       "      <td>0.164805</td>\n",
       "      <td>-0.031828</td>\n",
       "      <td>-0.060203</td>\n",
       "      <td>-0.042816</td>\n",
       "      <td>0.034966</td>\n",
       "      <td>-0.053052</td>\n",
       "      <td>-0.066748</td>\n",
       "      <td>-0.051337</td>\n",
       "      <td>0.226457</td>\n",
       "      <td>-0.006119</td>\n",
       "      <td>...</td>\n",
       "      <td>0.008190</td>\n",
       "      <td>-0.660797</td>\n",
       "      <td>0.021728</td>\n",
       "      <td>0.003507</td>\n",
       "      <td>-0.240988</td>\n",
       "      <td>1.000000</td>\n",
       "      <td>-0.000051</td>\n",
       "      <td>0.038335</td>\n",
       "      <td>-0.031828</td>\n",
       "      <td>0.016953</td>\n",
       "    </tr>\n",
       "    <tr>\n",
       "      <th>living_part</th>\n",
       "      <td>-0.008897</td>\n",
       "      <td>-0.050160</td>\n",
       "      <td>0.086055</td>\n",
       "      <td>0.420466</td>\n",
       "      <td>0.140570</td>\n",
       "      <td>-0.354849</td>\n",
       "      <td>0.421924</td>\n",
       "      <td>-0.234500</td>\n",
       "      <td>-0.005480</td>\n",
       "      <td>0.040863</td>\n",
       "      <td>...</td>\n",
       "      <td>-0.021305</td>\n",
       "      <td>-0.008590</td>\n",
       "      <td>-0.163154</td>\n",
       "      <td>-0.008503</td>\n",
       "      <td>0.026082</td>\n",
       "      <td>-0.000051</td>\n",
       "      <td>1.000000</td>\n",
       "      <td>-0.523602</td>\n",
       "      <td>-0.050160</td>\n",
       "      <td>-0.159464</td>\n",
       "    </tr>\n",
       "    <tr>\n",
       "      <th>kitchen_part</th>\n",
       "      <td>0.039832</td>\n",
       "      <td>-0.107604</td>\n",
       "      <td>-0.360213</td>\n",
       "      <td>-0.493089</td>\n",
       "      <td>-0.109919</td>\n",
       "      <td>0.159856</td>\n",
       "      <td>-0.459115</td>\n",
       "      <td>0.038312</td>\n",
       "      <td>-0.000870</td>\n",
       "      <td>0.029844</td>\n",
       "      <td>...</td>\n",
       "      <td>0.042129</td>\n",
       "      <td>-0.034487</td>\n",
       "      <td>0.116493</td>\n",
       "      <td>0.015050</td>\n",
       "      <td>-0.039025</td>\n",
       "      <td>0.038335</td>\n",
       "      <td>-0.523602</td>\n",
       "      <td>1.000000</td>\n",
       "      <td>-0.107604</td>\n",
       "      <td>0.066095</td>\n",
       "    </tr>\n",
       "    <tr>\n",
       "      <th>last_price_mln</th>\n",
       "      <td>0.139686</td>\n",
       "      <td>1.000000</td>\n",
       "      <td>0.595119</td>\n",
       "      <td>0.295187</td>\n",
       "      <td>0.117318</td>\n",
       "      <td>0.046811</td>\n",
       "      <td>0.491430</td>\n",
       "      <td>0.124905</td>\n",
       "      <td>0.007468</td>\n",
       "      <td>-0.013541</td>\n",
       "      <td>...</td>\n",
       "      <td>-0.064332</td>\n",
       "      <td>0.050837</td>\n",
       "      <td>0.793972</td>\n",
       "      <td>0.034656</td>\n",
       "      <td>-0.010437</td>\n",
       "      <td>-0.031828</td>\n",
       "      <td>-0.050160</td>\n",
       "      <td>-0.107604</td>\n",
       "      <td>1.000000</td>\n",
       "      <td>-0.055372</td>\n",
       "    </tr>\n",
       "    <tr>\n",
       "      <th>from_center</th>\n",
       "      <td>-0.023890</td>\n",
       "      <td>-0.055372</td>\n",
       "      <td>-0.052297</td>\n",
       "      <td>-0.107437</td>\n",
       "      <td>-0.170905</td>\n",
       "      <td>0.317278</td>\n",
       "      <td>-0.104346</td>\n",
       "      <td>0.200543</td>\n",
       "      <td>-0.015238</td>\n",
       "      <td>0.022782</td>\n",
       "      <td>...</td>\n",
       "      <td>0.339372</td>\n",
       "      <td>-0.001084</td>\n",
       "      <td>-0.063608</td>\n",
       "      <td>-0.033472</td>\n",
       "      <td>0.001247</td>\n",
       "      <td>0.016953</td>\n",
       "      <td>-0.159464</td>\n",
       "      <td>0.066095</td>\n",
       "      <td>-0.055372</td>\n",
       "      <td>1.000000</td>\n",
       "    </tr>\n",
       "  </tbody>\n",
       "</table>\n",
       "<p>28 rows × 28 columns</p>\n",
       "</div>"
      ],
      "text/plain": [
       "                     total_images  last_price  total_area     rooms  \\\n",
       "total_images             1.000000    0.139686    0.099612  0.032226   \n",
       "last_price               0.139686    1.000000    0.595119  0.295187   \n",
       "total_area               0.099612    0.595119    1.000000  0.738642   \n",
       "rooms                    0.032226    0.295187    0.738642  1.000000   \n",
       "ceiling_height           0.094219    0.117318    0.249607  0.206219   \n",
       "floors_total            -0.051397    0.046811   -0.013131 -0.167397   \n",
       "living_area              0.081104    0.491430    0.905674  0.821458   \n",
       "floor                   -0.013866    0.124905    0.115891 -0.028541   \n",
       "is_apartment             0.084039    0.007468    0.015095  0.016811   \n",
       "studio                  -0.014588   -0.013541   -0.032654 -0.086575   \n",
       "open_plan               -0.014343   -0.006716   -0.006933  0.009567   \n",
       "kitchen_area             0.139541    0.402851    0.542123  0.285011   \n",
       "balcony                  0.014861    0.078233    0.013668 -0.089194   \n",
       "airports_nearest         0.012633    0.073111    0.017534 -0.056705   \n",
       "cityCenters_nearest     -0.024425   -0.050123   -0.043366 -0.102239   \n",
       "parks_around3000         0.061176    0.077515    0.082784  0.096840   \n",
       "parks_nearest           -0.047324   -0.028475   -0.071396 -0.102781   \n",
       "ponds_around3000        -0.002626    0.082787   -0.003841 -0.034962   \n",
       "ponds_nearest            0.006080   -0.064332   -0.064238 -0.049196   \n",
       "days_exposition         -0.049001    0.050837    0.130772  0.117311   \n",
       "sq_m_price               0.168578    0.793972    0.223024 -0.026056   \n",
       "weekday_exp              0.004619    0.034656    0.013373 -0.003502   \n",
       "month_exp               -0.013859   -0.010437   -0.022856 -0.027857   \n",
       "year_exp                 0.164805   -0.031828   -0.060203 -0.042816   \n",
       "living_part             -0.008897   -0.050160    0.086055  0.420466   \n",
       "kitchen_part             0.039832   -0.107604   -0.360213 -0.493089   \n",
       "last_price_mln           0.139686    1.000000    0.595119  0.295187   \n",
       "from_center             -0.023890   -0.055372   -0.052297 -0.107437   \n",
       "\n",
       "                     ceiling_height  floors_total  living_area     floor  \\\n",
       "total_images               0.094219     -0.051397     0.081104 -0.013866   \n",
       "last_price                 0.117318      0.046811     0.491430  0.124905   \n",
       "total_area                 0.249607     -0.013131     0.905674  0.115891   \n",
       "rooms                      0.206219     -0.167397     0.821458 -0.028541   \n",
       "ceiling_height             1.000000     -0.255956     0.283267 -0.141391   \n",
       "floors_total              -0.255956      1.000000    -0.130965  0.649316   \n",
       "living_area                0.283267     -0.130965     1.000000  0.012014   \n",
       "floor                     -0.141391      0.649316     0.012014  1.000000   \n",
       "is_apartment              -0.026790     -0.016456     0.011816 -0.020531   \n",
       "studio                     0.045347      0.015640    -0.022567 -0.002583   \n",
       "open_plan                  0.012100     -0.012544     0.002111 -0.019301   \n",
       "kitchen_area               0.142580      0.078824     0.402906  0.109691   \n",
       "balcony                   -0.097099      0.387607    -0.034167  0.291681   \n",
       "airports_nearest          -0.041623      0.039633    -0.028972  0.023175   \n",
       "cityCenters_nearest       -0.174024      0.325394    -0.094738  0.203812   \n",
       "parks_around3000           0.141805     -0.265197     0.123033 -0.181025   \n",
       "parks_nearest             -0.128681      0.293277    -0.098710  0.160207   \n",
       "ponds_around3000           0.016997     -0.091823    -0.002907 -0.075523   \n",
       "ponds_nearest             -0.064789      0.093482    -0.051090  0.049707   \n",
       "days_exposition            0.072130      0.035305     0.122918  0.040584   \n",
       "sq_m_price                 0.054264      0.121269     0.136052  0.131311   \n",
       "weekday_exp               -0.021589      0.012151     0.002805  0.034744   \n",
       "month_exp                 -0.021320      0.021134    -0.013735  0.031553   \n",
       "year_exp                   0.034966     -0.053052    -0.066748 -0.051337   \n",
       "living_part                0.140570     -0.354849     0.421924 -0.234500   \n",
       "kitchen_part              -0.109919      0.159856    -0.459115  0.038312   \n",
       "last_price_mln             0.117318      0.046811     0.491430  0.124905   \n",
       "from_center               -0.170905      0.317278    -0.104346  0.200543   \n",
       "\n",
       "                     is_apartment    studio  ...  ponds_nearest  \\\n",
       "total_images             0.084039 -0.014588  ...       0.006080   \n",
       "last_price               0.007468 -0.013541  ...      -0.064332   \n",
       "total_area               0.015095 -0.032654  ...      -0.064238   \n",
       "rooms                    0.016811 -0.086575  ...      -0.049196   \n",
       "ceiling_height          -0.026790  0.045347  ...      -0.064789   \n",
       "floors_total            -0.016456  0.015640  ...       0.093482   \n",
       "living_area              0.011816 -0.022567  ...      -0.051090   \n",
       "floor                   -0.020531 -0.002583  ...       0.049707   \n",
       "is_apartment             1.000000 -0.006548  ...       0.027115   \n",
       "studio                  -0.006548  1.000000  ...       0.032020   \n",
       "open_plan               -0.072264 -0.001243  ...      -0.020482   \n",
       "kitchen_area             0.010215 -0.022270  ...      -0.028922   \n",
       "balcony                 -0.057595  0.046559  ...       0.031914   \n",
       "airports_nearest         0.006411 -0.002280  ...       0.105410   \n",
       "cityCenters_nearest     -0.010374  0.024321  ...       0.337807   \n",
       "parks_around3000         0.050966 -0.033768  ...      -0.241527   \n",
       "parks_nearest           -0.038414 -0.012750  ...       0.077003   \n",
       "ponds_around3000         0.029375  0.015536  ...      -0.407966   \n",
       "ponds_nearest            0.027115  0.032020  ...       1.000000   \n",
       "days_exposition         -0.076299 -0.023880  ...      -0.006772   \n",
       "sq_m_price               0.017641 -0.000386  ...      -0.079515   \n",
       "weekday_exp              0.013864  0.000810  ...      -0.031516   \n",
       "month_exp                0.088036  0.003433  ...       0.043132   \n",
       "year_exp                 0.226457 -0.006119  ...       0.008190   \n",
       "living_part             -0.005480  0.040863  ...      -0.021305   \n",
       "kitchen_part            -0.000870  0.029844  ...       0.042129   \n",
       "last_price_mln           0.007468 -0.013541  ...      -0.064332   \n",
       "from_center             -0.015238  0.022782  ...       0.339372   \n",
       "\n",
       "                     days_exposition  sq_m_price  weekday_exp  month_exp  \\\n",
       "total_images               -0.049001    0.168578     0.004619  -0.013859   \n",
       "last_price                  0.050837    0.793972     0.034656  -0.010437   \n",
       "total_area                  0.130772    0.223024     0.013373  -0.022856   \n",
       "rooms                       0.117311   -0.026056    -0.003502  -0.027857   \n",
       "ceiling_height              0.072130    0.054264    -0.021589  -0.021320   \n",
       "floors_total                0.035305    0.121269     0.012151   0.021134   \n",
       "living_area                 0.122918    0.136052     0.002805  -0.013735   \n",
       "floor                       0.040584    0.131311     0.034744   0.031553   \n",
       "is_apartment               -0.076299    0.017641     0.013864   0.088036   \n",
       "studio                     -0.023880   -0.000386     0.000810   0.003433   \n",
       "open_plan                  -0.010430   -0.010998     0.000467   0.008406   \n",
       "kitchen_area                0.099213    0.295227     0.008101  -0.060466   \n",
       "balcony                     0.017431    0.125917     0.011645   0.004981   \n",
       "airports_nearest            0.004083    0.121314    -0.016085  -0.022166   \n",
       "cityCenters_nearest        -0.007935   -0.063402    -0.031886  -0.000246   \n",
       "parks_around3000           -0.004752    0.104001     0.001667  -0.019357   \n",
       "parks_nearest               0.005104   -0.003789    -0.002524   0.044589   \n",
       "ponds_around3000           -0.011887    0.123295     0.050354  -0.017598   \n",
       "ponds_nearest              -0.006772   -0.079515    -0.031516   0.043132   \n",
       "days_exposition             1.000000    0.020653    -0.042723  -0.042954   \n",
       "sq_m_price                  0.020653    1.000000     0.019562  -0.014564   \n",
       "weekday_exp                -0.042723    0.019562     1.000000   0.037297   \n",
       "month_exp                  -0.042954   -0.014564     0.037297   1.000000   \n",
       "year_exp                   -0.660797    0.021728     0.003507  -0.240988   \n",
       "living_part                -0.008590   -0.163154    -0.008503   0.026082   \n",
       "kitchen_part               -0.034487    0.116493     0.015050  -0.039025   \n",
       "last_price_mln              0.050837    0.793972     0.034656  -0.010437   \n",
       "from_center                -0.001084   -0.063608    -0.033472   0.001247   \n",
       "\n",
       "                     year_exp  living_part  kitchen_part  last_price_mln  \\\n",
       "total_images         0.164805    -0.008897      0.039832        0.139686   \n",
       "last_price          -0.031828    -0.050160     -0.107604        1.000000   \n",
       "total_area          -0.060203     0.086055     -0.360213        0.595119   \n",
       "rooms               -0.042816     0.420466     -0.493089        0.295187   \n",
       "ceiling_height       0.034966     0.140570     -0.109919        0.117318   \n",
       "floors_total        -0.053052    -0.354849      0.159856        0.046811   \n",
       "living_area         -0.066748     0.421924     -0.459115        0.491430   \n",
       "floor               -0.051337    -0.234500      0.038312        0.124905   \n",
       "is_apartment         0.226457    -0.005480     -0.000870        0.007468   \n",
       "studio              -0.006119     0.040863      0.029844       -0.013541   \n",
       "open_plan           -0.038983     0.034302     -0.003809       -0.006716   \n",
       "kitchen_area        -0.029323    -0.265487      0.443301        0.402851   \n",
       "balcony             -0.053268    -0.166632      0.091342        0.078233   \n",
       "airports_nearest     0.026757    -0.117306      0.072553        0.073111   \n",
       "cityCenters_nearest  0.020240    -0.155128      0.064810       -0.050123   \n",
       "parks_around3000     0.002943     0.117299     -0.029837        0.077515   \n",
       "parks_nearest       -0.041600    -0.147843      0.098746       -0.028475   \n",
       "ponds_around3000    -0.020173     0.002342      0.015949        0.082787   \n",
       "ponds_nearest        0.008190    -0.021305      0.042129       -0.064332   \n",
       "days_exposition     -0.660797    -0.008590     -0.034487        0.050837   \n",
       "sq_m_price           0.021728    -0.163154      0.116493        0.793972   \n",
       "weekday_exp          0.003507    -0.008503      0.015050        0.034656   \n",
       "month_exp           -0.240988     0.026082     -0.039025       -0.010437   \n",
       "year_exp             1.000000    -0.000051      0.038335       -0.031828   \n",
       "living_part         -0.000051     1.000000     -0.523602       -0.050160   \n",
       "kitchen_part         0.038335    -0.523602      1.000000       -0.107604   \n",
       "last_price_mln      -0.031828    -0.050160     -0.107604        1.000000   \n",
       "from_center          0.016953    -0.159464      0.066095       -0.055372   \n",
       "\n",
       "                     from_center  \n",
       "total_images           -0.023890  \n",
       "last_price             -0.055372  \n",
       "total_area             -0.052297  \n",
       "rooms                  -0.107437  \n",
       "ceiling_height         -0.170905  \n",
       "floors_total            0.317278  \n",
       "living_area            -0.104346  \n",
       "floor                   0.200543  \n",
       "is_apartment           -0.015238  \n",
       "studio                  0.022782  \n",
       "open_plan              -0.009601  \n",
       "kitchen_area           -0.023918  \n",
       "balcony                 0.163625  \n",
       "airports_nearest        0.419819  \n",
       "cityCenters_nearest     0.978289  \n",
       "parks_around3000       -0.299245  \n",
       "parks_nearest           0.158397  \n",
       "ponds_around3000       -0.436161  \n",
       "ponds_nearest           0.339372  \n",
       "days_exposition        -0.001084  \n",
       "sq_m_price             -0.063608  \n",
       "weekday_exp            -0.033472  \n",
       "month_exp               0.001247  \n",
       "year_exp                0.016953  \n",
       "living_part            -0.159464  \n",
       "kitchen_part            0.066095  \n",
       "last_price_mln         -0.055372  \n",
       "from_center             1.000000  \n",
       "\n",
       "[28 rows x 28 columns]"
      ]
     },
     "execution_count": 80,
     "metadata": {},
     "output_type": "execute_result"
    }
   ],
   "source": [
    "spb_center_data.corr()"
   ]
  },
  {
   "cell_type": "markdown",
   "metadata": {},
   "source": [
    "Посмотрим, как различается средняя цена на квартиры в общем и в центральной зоне:"
   ]
  },
  {
   "cell_type": "code",
   "execution_count": 81,
   "metadata": {},
   "outputs": [
    {
     "data": {
      "image/png": "[encoded data removed]",
      "text/plain": [
       "<Figure size 864x432 with 1 Axes>"
      ]
     },
     "metadata": {
      "needs_background": "light"
     },
     "output_type": "display_data"
    }
   ],
   "source": [
    "df_rooms = df.pivot_table(index='rooms', values='sq_m_price', aggfunc='mean')\n",
    "spb_center_rooms = spb_center_data.pivot_table(index='rooms', values='sq_m_price', aggfunc='mean')\n",
    "\n",
    "plt.plot(df_rooms, label='total_mean')\n",
    "plt.plot(spb_center_rooms, label='spb_center_mean')\n",
    "plt.title('Зависимость цены от количества комнат')\n",
    "plt.xlabel('rooms')\n",
    "plt.ylabel('sq_m_price')\n",
    "plt.legend()\n",
    "plt.show();"
   ]
  },
  {
   "cell_type": "code",
   "execution_count": 82,
   "metadata": {},
   "outputs": [
    {
     "data": {
      "image/png": "[encoded data removed]",
      "text/plain": [
       "<Figure size 864x432 with 1 Axes>"
      ]
     },
     "metadata": {
      "needs_background": "light"
     },
     "output_type": "display_data"
    }
   ],
   "source": [
    "spb_center_data.pivot_table(index='from_center', values='sq_m_price', aggfunc='mean').plot();"
   ]
  },
  {
   "cell_type": "code",
   "execution_count": 83,
   "metadata": {},
   "outputs": [
    {
     "data": {
      "image/png": "[encoded data removed]",
      "text/plain": [
       "<Figure size 864x432 with 1 Axes>"
      ]
     },
     "metadata": {
      "needs_background": "light"
     },
     "output_type": "display_data"
    }
   ],
   "source": [
    "spb_center_data.pivot_table(index='floor', values='sq_m_price', aggfunc='mean').plot();"
   ]
  },
  {
   "cell_type": "code",
   "execution_count": 84,
   "metadata": {},
   "outputs": [
    {
     "data": {
      "image/png": "[encoded data removed]",
      "text/plain": [
       "<Figure size 864x432 with 1 Axes>"
      ]
     },
     "metadata": {
      "needs_background": "light"
     },
     "output_type": "display_data"
    }
   ],
   "source": [
    "spb_center_data.pivot_table(index='floor_name', values='sq_m_price', aggfunc='mean').plot();"
   ]
  },
  {
   "cell_type": "code",
   "execution_count": 85,
   "metadata": {},
   "outputs": [
    {
     "data": {
      "image/png": "[encoded data removed]",
      "text/plain": [
       "<Figure size 864x432 with 1 Axes>"
      ]
     },
     "metadata": {
      "needs_background": "light"
     },
     "output_type": "display_data"
    }
   ],
   "source": [
    "spb_center_data.pivot_table(index='first_day_exposition', values='sq_m_price', aggfunc='mean').plot();"
   ]
  },
  {
   "cell_type": "code",
   "execution_count": 86,
   "metadata": {},
   "outputs": [
    {
     "data": {
      "image/png": "[encoded data removed]",
      "text/plain": [
       "<Figure size 864x432 with 1 Axes>"
      ]
     },
     "metadata": {
      "needs_background": "light"
     },
     "output_type": "display_data"
    }
   ],
   "source": [
    "spb_center_data.pivot_table(index='weekday_exp', values='sq_m_price', aggfunc='mean').plot();"
   ]
  },
  {
   "cell_type": "code",
   "execution_count": 87,
   "metadata": {},
   "outputs": [
    {
     "data": {
      "image/png": "[encoded data removed]",
      "text/plain": [
       "<Figure size 864x432 with 1 Axes>"
      ]
     },
     "metadata": {
      "needs_background": "light"
     },
     "output_type": "display_data"
    }
   ],
   "source": [
    "spb_center_data.pivot_table(index='month_exp', values='sq_m_price', aggfunc='mean').plot();"
   ]
  },
  {
   "cell_type": "code",
   "execution_count": 88,
   "metadata": {},
   "outputs": [
    {
     "data": {
      "image/png": "[encoded data removed]",
      "text/plain": [
       "<Figure size 864x432 with 1 Axes>"
      ]
     },
     "metadata": {
      "needs_background": "light"
     },
     "output_type": "display_data"
    }
   ],
   "source": [
    "spb_center_data.pivot_table(index='year_exp', values='sq_m_price', aggfunc='mean').plot();"
   ]
  },
  {
   "cell_type": "markdown",
   "metadata": {},
   "source": [
    "Судя по графикам, дороже всего квартиры с 8 комнатами и однушки. Это значительное отличие центальной части города. \n",
    "Любопытно, что в районе 3км от центра - самые дешевые квартиры. Скорее всего там не развита инфраструктура, расположена промзона или слишком много шумных туристов. Лучшая недвижимость центра - квартиры на 7-15 этажах. Пентхаусы в цене! В отличие от остальной части города - там последний этаж почти вдвое дешевле средних этажей. \n",
    "Графики взаимосвязи цена/время публикации тоже отличаются. Самые дорогие объявления публюкуются в сб, в апреле, декабре и сентябре. С 2014 г цена здесь тоже сильно упала. В целом, по годам сильных различий с остальным рынком недвижимости нет. \n"
   ]
  },
  {
   "cell_type": "markdown",
   "metadata": {},
   "source": [
    "<div id='step5'/>\n",
    "\n",
    "### Шаг 5. Общий вывод"
   ]
  },
  {
   "cell_type": "markdown",
   "metadata": {},
   "source": [
    "##### Для работы над проектом нужно было проанализировать архив объявлений о продаже квартир в Санкт-Петербурге и соседних населённых пунктов из сервиса Яндекс.Недвижимость за 2014-2019гг.\n",
    "##### Задача: установить параметры для определения рыночной стоимости объектов недвижимости, которые можно будет использовать для разработки автоматизированной системы отслеживания аномалий и мошеннических действий.\n",
    "\n",
    "Данные состоят из двух частей: введенные вручную и полученные автоматически на основе картографических данных.\n",
    "В ходе предварительной обработки данных,  я обнаружила от 20% до 60% пропусков в части автоматически сгенерированных данных. Необходимо проверить работу алгоритма.  \n",
    "\n",
    "Пропуски в данных, необходимых для работы над проектом, я заполнила соответствующими средними значениями. \n",
    "В качестве ключевых параметров я исследовала: цену, общую площадь, стоимость кв.м., количество комнат, высоту потолка, этаж (первый, последний, другой), время размещения объявления (день недели, месяц, год),  удаленность от центра (для центральной части Санкт-Петербурга). \n",
    "\n",
    "Я проанализировала данные и установила пороговые значения для некоторых параметров:\n",
    "Min цена для квартиры – 1 млн руб;\n",
    "Min общая площадь – 25м2;\n",
    "Min стоимость кв.м. в центральной части Санкт-Петербурга – 50 000 руб;\n",
    "Min высота потолка – 2.5м;\n",
    "Max высота потолка – 6м;\n",
    "Центральная часть Санкт-Петербурга ограничена расстоянием в 5 км.\n",
    "\n",
    "##### Общие выводы по анализу объявлений о продаже квартир в Санкт-Петербурге и соседних населённых пунктах:\n",
    "\n",
    "Больше всего объектов находится в Санкт-Петербурге, поселке Мурино, поселке Шушары, Всеволожске, Пушкине, Колпино, посёлке Парголово, Гатчине, деревне Кудрово и Выборге. \n",
    "В Санкт-Петербурге самая дорогая недвижимость по цене за кв.м, в Выборге – самая дешевая. Стоимость объекта  варьируется от 1 млн руб. до 763 млн руб. Медина - 3-5 млн. \n",
    "Разброс площади объектов 25 кв.м. до 900 кв.м. Большинство из них находится в диапазе25 - 50 кв.м.\n",
    "Количество комнат варьируется от 0 (для студий) до 19. В основном – это 1 и 2-х, чуть реже 3-х комнатные квартиры. \n",
    "Высота потолков в среднем составляет 2.5 – 3 м, но бывает и выше – до 6 м. Я выявила незначительную корреляцию высоты потолка и общей площади. \n",
    "Существует зависимость цены квартиры от этажа, на котором она расположена. Дешевле всего квартиры на первом этаже, потом на последнем. Самая дорогая недвижимость расположена на других этажах. \n",
    "Время публикации объявления коррелирует со стоимостью объекта. \n",
    "Самые дорогие квартиры появляются по вторникам, в апреле и сентябре. С 2014 до 2017 г наблюдалось устойчивое снижение цены. В 2017 - 2018 гг цена начала немного расти, с 2018 г виден заметный рост.\n",
    "Большинство объявлений снимаются в течение года после размещения, но есть и долгожители.  Среднее время продажи по медиане - 3 месяца, общее среднее – полгода. Быстрые сделки закрываются за неделю или 30 дней. \n",
    "\n",
    "Aнализ продолжительности продажи выявил аномальные значения. 8% объявлений были сняты в промежутке 45-60 дней. Эти данные коррелируют с нехарактерными  пиками удаления объявлений в дек-янв 2017/2018 гг. Возможно произошел сбой системы, необходимо проинформировать специалистов. \n",
    "\n",
    "Корреляция:\n",
    "Расчет коэффициента Пирсона показал, что стоимость объекта прямо коррелирует с площадью, количеством комнат. Заметна существенная обратная корреляция цены квартиры в зависимости от удаленности от центра. Чем меньше расстояние, тем дороже.\n",
    "\n",
    "##### Анализ центральной зоны Санкт-Петербурга:\n",
    "\n",
    "Я выделила объекты, расположенные в пределах 5 км от центра Санкт-Петербурга и проанализировала их отдельно. \n",
    "Стоимость объекта  варьируется от 1,6 млн руб. до 763 млн руб. Медина – 9,5 млн руб. Большая часть недвижимости стоит мене 10 млн руб. \n",
    "Разброс площади объектов 25 кв.м. до 631 кв.м. Большинство из них находится в диапазоне 40 - 100 кв.м. Медиана – 82 кв.м\n",
    "Количество комнат варьируется от 0 (для студий) до 19. В основном – это 3-х и 2-х комнатные квартиры. \n",
    "Стандартная высота потолка – 3 м.\n",
    "Зависимость цены квартиры от этажа, на котором она расположена, немного иная. Также дешевле всего квартиры на первом этаже, но последний ценится в среднем так же, как и остальные. \n",
    "Заметны колебания в цене в зависимости от удаленности от центра. Есть провал на отметке 3 км, до и после которого цена значительно выше. \n",
    "Время публикации объявления коррелирует со стоимостью объекта. \n",
    "Самые дорогие квартиры появляются в субботу, в апреле, декабре и сентябре. С 2014 до 2017 г наблюдалось устойчивое снижение цены. В 2017 - 2018 гг цена начала немного расти, с 2018 г виден заметный рост.\n",
    "\n",
    "Можно сказать, что для рынка квартир в центральной части Санкт-Петербурга есть свои характерные особенности. Здесь в среднем выше стоимость кв.м., больше площадь, количество комнат и высота потолка в квартирах. Любопытно, что на среднюю стоимость почти не влияет расположение на последнем этаже дома. Время размещения объявления также коррелирует с ценой, но тренды другие.  \n",
    "\n",
    "##### В качестве критериев для определения рыночной стоимости объектов недвижимости я предлагаю использовать следующие параметры: \n",
    "\n",
    "- Общая площадь: минимум и медиана;\n",
    "- Стоимость кв.м. минимум (свой для центра Санкт-Петербурга) и медиана;\n",
    "- Высота потолка 2.5 - 6 м;\n",
    "- Этаж (первый, последний, другой);\n",
    "- Время размещения объявления (день недели, месяц, год);\n",
    "- Удаленность от центра (для центральной части Санкт-Петербурга). \n",
    "\n",
    "Я анализировала высокие значения стоимости по разным параметрам и не считаю целесообразным вводить ограничения по max. Таких объектов немого и на них есть свой спрос. \n",
    "\n"
   ]
  },
  {
   "cell_type": "code",
   "execution_count": null,
   "metadata": {},
   "outputs": [],
   "source": []
  }
 ],
 "metadata": {
  "kernelspec": {
   "display_name": "Python 3",
   "language": "python",
   "name": "python3"
  },
  "language_info": {
   "codemirror_mode": {
    "name": "ipython",
    "version": 3
   },
   "file_extension": ".py",
   "mimetype": "text/x-python",
   "name": "python",
   "nbconvert_exporter": "python",
   "pygments_lexer": "ipython3",
   "version": "3.7.6"
  }
 },
 "nbformat": 4,
 "nbformat_minor": 2
}
